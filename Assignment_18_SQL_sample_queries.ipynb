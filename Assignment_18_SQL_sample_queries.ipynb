{
  "nbformat": 4,
  "nbformat_minor": 0,
  "metadata": {
    "colab": {
      "name": "SQL sample queries.ipynb",
      "provenance": [],
      "collapsed_sections": []
    },
    "kernelspec": {
      "display_name": "Python 3",
      "language": "python",
      "name": "python3"
    },
    "language_info": {
      "codemirror_mode": {
        "name": "ipython",
        "version": 3
      },
      "file_extension": ".py",
      "mimetype": "text/x-python",
      "name": "python",
      "nbconvert_exporter": "python",
      "pygments_lexer": "ipython3",
      "version": "3.6.2"
    }
  },
  "cells": [
    {
      "cell_type": "markdown",
      "metadata": {
        "id": "hmzI5oZ6E_Hp"
      },
      "source": [
        "# SQL Assignment"
      ]
    },
    {
      "cell_type": "code",
      "metadata": {
        "id": "wso5pGwnE_Ht"
      },
      "source": [
        "import pandas as pd\n",
        "import sqlite3\n",
        "\n",
        "from IPython.display import display, HTML"
      ],
      "execution_count": 1,
      "outputs": []
    },
    {
      "cell_type": "code",
      "metadata": {
        "colab": {
          "base_uri": "https://localhost:8080/"
        },
        "id": "k7TMM9R1IVtW",
        "outputId": "6f94debe-a5df-48c0-c04b-9b6213fb433a"
      },
      "source": [
        "from google.colab import drive\n",
        "drive.mount('/content/drive')"
      ],
      "execution_count": 2,
      "outputs": [
        {
          "output_type": "stream",
          "name": "stdout",
          "text": [
            "Mounted at /content/drive\n"
          ]
        }
      ]
    },
    {
      "cell_type": "code",
      "metadata": {
        "id": "uMYMAPLm23sp"
      },
      "source": [
        "# Note that this is not the same db we have used in course videos, please download from this link\n",
        "# https://drive.google.com/file/d/1O-1-L1DdNxEK6O6nG2jS31MbrMh-OnXM/view?usp=sharing\n"
      ],
      "execution_count": null,
      "outputs": []
    },
    {
      "cell_type": "code",
      "metadata": {
        "id": "xrUl9ShkE_H0"
      },
      "source": [
        "conn = sqlite3.connect(\"/content/drive/MyDrive/Colab Notebooks/3_SQL/Db-IMDB-Assignment.db\")"
      ],
      "execution_count": 3,
      "outputs": []
    },
    {
      "cell_type": "markdown",
      "metadata": {
        "id": "Z_ADQl2BE_H6"
      },
      "source": [
        "#### Overview of all tables"
      ]
    },
    {
      "cell_type": "code",
      "metadata": {
        "id": "7ZfheusYE_H7",
        "scrolled": true
      },
      "source": [
        "tables = pd.read_sql_query(\"SELECT NAME AS 'Table_Name' FROM sqlite_master WHERE type='table'\",conn)\n",
        "tables = tables[\"Table_Name\"].values.tolist()"
      ],
      "execution_count": null,
      "outputs": []
    },
    {
      "cell_type": "code",
      "metadata": {
        "colab": {
          "base_uri": "https://localhost:8080/",
          "height": 1000
        },
        "id": "f3zLh5FGE_H_",
        "scrolled": true,
        "outputId": "a1e94b0d-0c8e-44ca-af11-d6a30c14583a"
      },
      "source": [
        "for table in tables:\n",
        "    query = \"PRAGMA TABLE_INFO({})\".format(table)\n",
        "    schema = pd.read_sql_query(query,conn)\n",
        "    print(\"Schema of\",table)\n",
        "    display(schema)\n",
        "    print(\"-\"*100)\n",
        "    print(\"\\n\")"
      ],
      "execution_count": null,
      "outputs": [
        {
          "name": "stdout",
          "output_type": "stream",
          "text": [
            "Schema of Movie\n"
          ]
        },
        {
          "data": {
            "text/html": [
              "<div>\n",
              "<style scoped>\n",
              "    .dataframe tbody tr th:only-of-type {\n",
              "        vertical-align: middle;\n",
              "    }\n",
              "\n",
              "    .dataframe tbody tr th {\n",
              "        vertical-align: top;\n",
              "    }\n",
              "\n",
              "    .dataframe thead th {\n",
              "        text-align: right;\n",
              "    }\n",
              "</style>\n",
              "<table border=\"1\" class=\"dataframe\">\n",
              "  <thead>\n",
              "    <tr style=\"text-align: right;\">\n",
              "      <th></th>\n",
              "      <th>cid</th>\n",
              "      <th>name</th>\n",
              "      <th>type</th>\n",
              "      <th>notnull</th>\n",
              "      <th>dflt_value</th>\n",
              "      <th>pk</th>\n",
              "    </tr>\n",
              "  </thead>\n",
              "  <tbody>\n",
              "    <tr>\n",
              "      <th>0</th>\n",
              "      <td>0</td>\n",
              "      <td>index</td>\n",
              "      <td>INTEGER</td>\n",
              "      <td>0</td>\n",
              "      <td>None</td>\n",
              "      <td>0</td>\n",
              "    </tr>\n",
              "    <tr>\n",
              "      <th>1</th>\n",
              "      <td>1</td>\n",
              "      <td>MID</td>\n",
              "      <td>TEXT</td>\n",
              "      <td>0</td>\n",
              "      <td>None</td>\n",
              "      <td>0</td>\n",
              "    </tr>\n",
              "    <tr>\n",
              "      <th>2</th>\n",
              "      <td>2</td>\n",
              "      <td>title</td>\n",
              "      <td>TEXT</td>\n",
              "      <td>0</td>\n",
              "      <td>None</td>\n",
              "      <td>0</td>\n",
              "    </tr>\n",
              "    <tr>\n",
              "      <th>3</th>\n",
              "      <td>3</td>\n",
              "      <td>year</td>\n",
              "      <td>TEXT</td>\n",
              "      <td>0</td>\n",
              "      <td>None</td>\n",
              "      <td>0</td>\n",
              "    </tr>\n",
              "    <tr>\n",
              "      <th>4</th>\n",
              "      <td>4</td>\n",
              "      <td>rating</td>\n",
              "      <td>REAL</td>\n",
              "      <td>0</td>\n",
              "      <td>None</td>\n",
              "      <td>0</td>\n",
              "    </tr>\n",
              "    <tr>\n",
              "      <th>5</th>\n",
              "      <td>5</td>\n",
              "      <td>num_votes</td>\n",
              "      <td>INTEGER</td>\n",
              "      <td>0</td>\n",
              "      <td>None</td>\n",
              "      <td>0</td>\n",
              "    </tr>\n",
              "  </tbody>\n",
              "</table>\n",
              "</div>"
            ],
            "text/plain": [
              "   cid       name     type  notnull dflt_value  pk\n",
              "0    0      index  INTEGER        0       None   0\n",
              "1    1        MID     TEXT        0       None   0\n",
              "2    2      title     TEXT        0       None   0\n",
              "3    3       year     TEXT        0       None   0\n",
              "4    4     rating     REAL        0       None   0\n",
              "5    5  num_votes  INTEGER        0       None   0"
            ]
          },
          "metadata": {},
          "output_type": "display_data"
        },
        {
          "name": "stdout",
          "output_type": "stream",
          "text": [
            "----------------------------------------------------------------------------------------------------\n",
            "\n",
            "\n",
            "Schema of Genre\n"
          ]
        },
        {
          "data": {
            "text/html": [
              "<div>\n",
              "<style scoped>\n",
              "    .dataframe tbody tr th:only-of-type {\n",
              "        vertical-align: middle;\n",
              "    }\n",
              "\n",
              "    .dataframe tbody tr th {\n",
              "        vertical-align: top;\n",
              "    }\n",
              "\n",
              "    .dataframe thead th {\n",
              "        text-align: right;\n",
              "    }\n",
              "</style>\n",
              "<table border=\"1\" class=\"dataframe\">\n",
              "  <thead>\n",
              "    <tr style=\"text-align: right;\">\n",
              "      <th></th>\n",
              "      <th>cid</th>\n",
              "      <th>name</th>\n",
              "      <th>type</th>\n",
              "      <th>notnull</th>\n",
              "      <th>dflt_value</th>\n",
              "      <th>pk</th>\n",
              "    </tr>\n",
              "  </thead>\n",
              "  <tbody>\n",
              "    <tr>\n",
              "      <th>0</th>\n",
              "      <td>0</td>\n",
              "      <td>index</td>\n",
              "      <td>INTEGER</td>\n",
              "      <td>0</td>\n",
              "      <td>None</td>\n",
              "      <td>0</td>\n",
              "    </tr>\n",
              "    <tr>\n",
              "      <th>1</th>\n",
              "      <td>1</td>\n",
              "      <td>Name</td>\n",
              "      <td>TEXT</td>\n",
              "      <td>0</td>\n",
              "      <td>None</td>\n",
              "      <td>0</td>\n",
              "    </tr>\n",
              "    <tr>\n",
              "      <th>2</th>\n",
              "      <td>2</td>\n",
              "      <td>GID</td>\n",
              "      <td>INTEGER</td>\n",
              "      <td>0</td>\n",
              "      <td>None</td>\n",
              "      <td>0</td>\n",
              "    </tr>\n",
              "  </tbody>\n",
              "</table>\n",
              "</div>"
            ],
            "text/plain": [
              "   cid   name     type  notnull dflt_value  pk\n",
              "0    0  index  INTEGER        0       None   0\n",
              "1    1   Name     TEXT        0       None   0\n",
              "2    2    GID  INTEGER        0       None   0"
            ]
          },
          "metadata": {},
          "output_type": "display_data"
        },
        {
          "name": "stdout",
          "output_type": "stream",
          "text": [
            "----------------------------------------------------------------------------------------------------\n",
            "\n",
            "\n",
            "Schema of Language\n"
          ]
        },
        {
          "data": {
            "text/html": [
              "<div>\n",
              "<style scoped>\n",
              "    .dataframe tbody tr th:only-of-type {\n",
              "        vertical-align: middle;\n",
              "    }\n",
              "\n",
              "    .dataframe tbody tr th {\n",
              "        vertical-align: top;\n",
              "    }\n",
              "\n",
              "    .dataframe thead th {\n",
              "        text-align: right;\n",
              "    }\n",
              "</style>\n",
              "<table border=\"1\" class=\"dataframe\">\n",
              "  <thead>\n",
              "    <tr style=\"text-align: right;\">\n",
              "      <th></th>\n",
              "      <th>cid</th>\n",
              "      <th>name</th>\n",
              "      <th>type</th>\n",
              "      <th>notnull</th>\n",
              "      <th>dflt_value</th>\n",
              "      <th>pk</th>\n",
              "    </tr>\n",
              "  </thead>\n",
              "  <tbody>\n",
              "    <tr>\n",
              "      <th>0</th>\n",
              "      <td>0</td>\n",
              "      <td>index</td>\n",
              "      <td>INTEGER</td>\n",
              "      <td>0</td>\n",
              "      <td>None</td>\n",
              "      <td>0</td>\n",
              "    </tr>\n",
              "    <tr>\n",
              "      <th>1</th>\n",
              "      <td>1</td>\n",
              "      <td>Name</td>\n",
              "      <td>TEXT</td>\n",
              "      <td>0</td>\n",
              "      <td>None</td>\n",
              "      <td>0</td>\n",
              "    </tr>\n",
              "    <tr>\n",
              "      <th>2</th>\n",
              "      <td>2</td>\n",
              "      <td>LAID</td>\n",
              "      <td>INTEGER</td>\n",
              "      <td>0</td>\n",
              "      <td>None</td>\n",
              "      <td>0</td>\n",
              "    </tr>\n",
              "  </tbody>\n",
              "</table>\n",
              "</div>"
            ],
            "text/plain": [
              "   cid   name     type  notnull dflt_value  pk\n",
              "0    0  index  INTEGER        0       None   0\n",
              "1    1   Name     TEXT        0       None   0\n",
              "2    2   LAID  INTEGER        0       None   0"
            ]
          },
          "metadata": {},
          "output_type": "display_data"
        },
        {
          "name": "stdout",
          "output_type": "stream",
          "text": [
            "----------------------------------------------------------------------------------------------------\n",
            "\n",
            "\n",
            "Schema of Country\n"
          ]
        },
        {
          "data": {
            "text/html": [
              "<div>\n",
              "<style scoped>\n",
              "    .dataframe tbody tr th:only-of-type {\n",
              "        vertical-align: middle;\n",
              "    }\n",
              "\n",
              "    .dataframe tbody tr th {\n",
              "        vertical-align: top;\n",
              "    }\n",
              "\n",
              "    .dataframe thead th {\n",
              "        text-align: right;\n",
              "    }\n",
              "</style>\n",
              "<table border=\"1\" class=\"dataframe\">\n",
              "  <thead>\n",
              "    <tr style=\"text-align: right;\">\n",
              "      <th></th>\n",
              "      <th>cid</th>\n",
              "      <th>name</th>\n",
              "      <th>type</th>\n",
              "      <th>notnull</th>\n",
              "      <th>dflt_value</th>\n",
              "      <th>pk</th>\n",
              "    </tr>\n",
              "  </thead>\n",
              "  <tbody>\n",
              "    <tr>\n",
              "      <th>0</th>\n",
              "      <td>0</td>\n",
              "      <td>index</td>\n",
              "      <td>INTEGER</td>\n",
              "      <td>0</td>\n",
              "      <td>None</td>\n",
              "      <td>0</td>\n",
              "    </tr>\n",
              "    <tr>\n",
              "      <th>1</th>\n",
              "      <td>1</td>\n",
              "      <td>Name</td>\n",
              "      <td>TEXT</td>\n",
              "      <td>0</td>\n",
              "      <td>None</td>\n",
              "      <td>0</td>\n",
              "    </tr>\n",
              "    <tr>\n",
              "      <th>2</th>\n",
              "      <td>2</td>\n",
              "      <td>CID</td>\n",
              "      <td>INTEGER</td>\n",
              "      <td>0</td>\n",
              "      <td>None</td>\n",
              "      <td>0</td>\n",
              "    </tr>\n",
              "  </tbody>\n",
              "</table>\n",
              "</div>"
            ],
            "text/plain": [
              "   cid   name     type  notnull dflt_value  pk\n",
              "0    0  index  INTEGER        0       None   0\n",
              "1    1   Name     TEXT        0       None   0\n",
              "2    2    CID  INTEGER        0       None   0"
            ]
          },
          "metadata": {},
          "output_type": "display_data"
        },
        {
          "name": "stdout",
          "output_type": "stream",
          "text": [
            "----------------------------------------------------------------------------------------------------\n",
            "\n",
            "\n",
            "Schema of Location\n"
          ]
        },
        {
          "data": {
            "text/html": [
              "<div>\n",
              "<style scoped>\n",
              "    .dataframe tbody tr th:only-of-type {\n",
              "        vertical-align: middle;\n",
              "    }\n",
              "\n",
              "    .dataframe tbody tr th {\n",
              "        vertical-align: top;\n",
              "    }\n",
              "\n",
              "    .dataframe thead th {\n",
              "        text-align: right;\n",
              "    }\n",
              "</style>\n",
              "<table border=\"1\" class=\"dataframe\">\n",
              "  <thead>\n",
              "    <tr style=\"text-align: right;\">\n",
              "      <th></th>\n",
              "      <th>cid</th>\n",
              "      <th>name</th>\n",
              "      <th>type</th>\n",
              "      <th>notnull</th>\n",
              "      <th>dflt_value</th>\n",
              "      <th>pk</th>\n",
              "    </tr>\n",
              "  </thead>\n",
              "  <tbody>\n",
              "    <tr>\n",
              "      <th>0</th>\n",
              "      <td>0</td>\n",
              "      <td>index</td>\n",
              "      <td>INTEGER</td>\n",
              "      <td>0</td>\n",
              "      <td>None</td>\n",
              "      <td>0</td>\n",
              "    </tr>\n",
              "    <tr>\n",
              "      <th>1</th>\n",
              "      <td>1</td>\n",
              "      <td>Name</td>\n",
              "      <td>TEXT</td>\n",
              "      <td>0</td>\n",
              "      <td>None</td>\n",
              "      <td>0</td>\n",
              "    </tr>\n",
              "    <tr>\n",
              "      <th>2</th>\n",
              "      <td>2</td>\n",
              "      <td>LID</td>\n",
              "      <td>INTEGER</td>\n",
              "      <td>0</td>\n",
              "      <td>None</td>\n",
              "      <td>0</td>\n",
              "    </tr>\n",
              "  </tbody>\n",
              "</table>\n",
              "</div>"
            ],
            "text/plain": [
              "   cid   name     type  notnull dflt_value  pk\n",
              "0    0  index  INTEGER        0       None   0\n",
              "1    1   Name     TEXT        0       None   0\n",
              "2    2    LID  INTEGER        0       None   0"
            ]
          },
          "metadata": {},
          "output_type": "display_data"
        },
        {
          "name": "stdout",
          "output_type": "stream",
          "text": [
            "----------------------------------------------------------------------------------------------------\n",
            "\n",
            "\n",
            "Schema of M_Location\n"
          ]
        },
        {
          "data": {
            "text/html": [
              "<div>\n",
              "<style scoped>\n",
              "    .dataframe tbody tr th:only-of-type {\n",
              "        vertical-align: middle;\n",
              "    }\n",
              "\n",
              "    .dataframe tbody tr th {\n",
              "        vertical-align: top;\n",
              "    }\n",
              "\n",
              "    .dataframe thead th {\n",
              "        text-align: right;\n",
              "    }\n",
              "</style>\n",
              "<table border=\"1\" class=\"dataframe\">\n",
              "  <thead>\n",
              "    <tr style=\"text-align: right;\">\n",
              "      <th></th>\n",
              "      <th>cid</th>\n",
              "      <th>name</th>\n",
              "      <th>type</th>\n",
              "      <th>notnull</th>\n",
              "      <th>dflt_value</th>\n",
              "      <th>pk</th>\n",
              "    </tr>\n",
              "  </thead>\n",
              "  <tbody>\n",
              "    <tr>\n",
              "      <th>0</th>\n",
              "      <td>0</td>\n",
              "      <td>index</td>\n",
              "      <td>INTEGER</td>\n",
              "      <td>0</td>\n",
              "      <td>None</td>\n",
              "      <td>0</td>\n",
              "    </tr>\n",
              "    <tr>\n",
              "      <th>1</th>\n",
              "      <td>1</td>\n",
              "      <td>MID</td>\n",
              "      <td>TEXT</td>\n",
              "      <td>0</td>\n",
              "      <td>None</td>\n",
              "      <td>0</td>\n",
              "    </tr>\n",
              "    <tr>\n",
              "      <th>2</th>\n",
              "      <td>2</td>\n",
              "      <td>LID</td>\n",
              "      <td>REAL</td>\n",
              "      <td>0</td>\n",
              "      <td>None</td>\n",
              "      <td>0</td>\n",
              "    </tr>\n",
              "    <tr>\n",
              "      <th>3</th>\n",
              "      <td>3</td>\n",
              "      <td>ID</td>\n",
              "      <td>INTEGER</td>\n",
              "      <td>0</td>\n",
              "      <td>None</td>\n",
              "      <td>0</td>\n",
              "    </tr>\n",
              "  </tbody>\n",
              "</table>\n",
              "</div>"
            ],
            "text/plain": [
              "   cid   name     type  notnull dflt_value  pk\n",
              "0    0  index  INTEGER        0       None   0\n",
              "1    1    MID     TEXT        0       None   0\n",
              "2    2    LID     REAL        0       None   0\n",
              "3    3     ID  INTEGER        0       None   0"
            ]
          },
          "metadata": {},
          "output_type": "display_data"
        },
        {
          "name": "stdout",
          "output_type": "stream",
          "text": [
            "----------------------------------------------------------------------------------------------------\n",
            "\n",
            "\n",
            "Schema of M_Country\n"
          ]
        },
        {
          "data": {
            "text/html": [
              "<div>\n",
              "<style scoped>\n",
              "    .dataframe tbody tr th:only-of-type {\n",
              "        vertical-align: middle;\n",
              "    }\n",
              "\n",
              "    .dataframe tbody tr th {\n",
              "        vertical-align: top;\n",
              "    }\n",
              "\n",
              "    .dataframe thead th {\n",
              "        text-align: right;\n",
              "    }\n",
              "</style>\n",
              "<table border=\"1\" class=\"dataframe\">\n",
              "  <thead>\n",
              "    <tr style=\"text-align: right;\">\n",
              "      <th></th>\n",
              "      <th>cid</th>\n",
              "      <th>name</th>\n",
              "      <th>type</th>\n",
              "      <th>notnull</th>\n",
              "      <th>dflt_value</th>\n",
              "      <th>pk</th>\n",
              "    </tr>\n",
              "  </thead>\n",
              "  <tbody>\n",
              "    <tr>\n",
              "      <th>0</th>\n",
              "      <td>0</td>\n",
              "      <td>index</td>\n",
              "      <td>INTEGER</td>\n",
              "      <td>0</td>\n",
              "      <td>None</td>\n",
              "      <td>0</td>\n",
              "    </tr>\n",
              "    <tr>\n",
              "      <th>1</th>\n",
              "      <td>1</td>\n",
              "      <td>MID</td>\n",
              "      <td>TEXT</td>\n",
              "      <td>0</td>\n",
              "      <td>None</td>\n",
              "      <td>0</td>\n",
              "    </tr>\n",
              "    <tr>\n",
              "      <th>2</th>\n",
              "      <td>2</td>\n",
              "      <td>CID</td>\n",
              "      <td>REAL</td>\n",
              "      <td>0</td>\n",
              "      <td>None</td>\n",
              "      <td>0</td>\n",
              "    </tr>\n",
              "    <tr>\n",
              "      <th>3</th>\n",
              "      <td>3</td>\n",
              "      <td>ID</td>\n",
              "      <td>INTEGER</td>\n",
              "      <td>0</td>\n",
              "      <td>None</td>\n",
              "      <td>0</td>\n",
              "    </tr>\n",
              "  </tbody>\n",
              "</table>\n",
              "</div>"
            ],
            "text/plain": [
              "   cid   name     type  notnull dflt_value  pk\n",
              "0    0  index  INTEGER        0       None   0\n",
              "1    1    MID     TEXT        0       None   0\n",
              "2    2    CID     REAL        0       None   0\n",
              "3    3     ID  INTEGER        0       None   0"
            ]
          },
          "metadata": {},
          "output_type": "display_data"
        },
        {
          "name": "stdout",
          "output_type": "stream",
          "text": [
            "----------------------------------------------------------------------------------------------------\n",
            "\n",
            "\n",
            "Schema of M_Language\n"
          ]
        },
        {
          "data": {
            "text/html": [
              "<div>\n",
              "<style scoped>\n",
              "    .dataframe tbody tr th:only-of-type {\n",
              "        vertical-align: middle;\n",
              "    }\n",
              "\n",
              "    .dataframe tbody tr th {\n",
              "        vertical-align: top;\n",
              "    }\n",
              "\n",
              "    .dataframe thead th {\n",
              "        text-align: right;\n",
              "    }\n",
              "</style>\n",
              "<table border=\"1\" class=\"dataframe\">\n",
              "  <thead>\n",
              "    <tr style=\"text-align: right;\">\n",
              "      <th></th>\n",
              "      <th>cid</th>\n",
              "      <th>name</th>\n",
              "      <th>type</th>\n",
              "      <th>notnull</th>\n",
              "      <th>dflt_value</th>\n",
              "      <th>pk</th>\n",
              "    </tr>\n",
              "  </thead>\n",
              "  <tbody>\n",
              "    <tr>\n",
              "      <th>0</th>\n",
              "      <td>0</td>\n",
              "      <td>index</td>\n",
              "      <td>INTEGER</td>\n",
              "      <td>0</td>\n",
              "      <td>None</td>\n",
              "      <td>0</td>\n",
              "    </tr>\n",
              "    <tr>\n",
              "      <th>1</th>\n",
              "      <td>1</td>\n",
              "      <td>MID</td>\n",
              "      <td>TEXT</td>\n",
              "      <td>0</td>\n",
              "      <td>None</td>\n",
              "      <td>0</td>\n",
              "    </tr>\n",
              "    <tr>\n",
              "      <th>2</th>\n",
              "      <td>2</td>\n",
              "      <td>LAID</td>\n",
              "      <td>INTEGER</td>\n",
              "      <td>0</td>\n",
              "      <td>None</td>\n",
              "      <td>0</td>\n",
              "    </tr>\n",
              "    <tr>\n",
              "      <th>3</th>\n",
              "      <td>3</td>\n",
              "      <td>ID</td>\n",
              "      <td>INTEGER</td>\n",
              "      <td>0</td>\n",
              "      <td>None</td>\n",
              "      <td>0</td>\n",
              "    </tr>\n",
              "  </tbody>\n",
              "</table>\n",
              "</div>"
            ],
            "text/plain": [
              "   cid   name     type  notnull dflt_value  pk\n",
              "0    0  index  INTEGER        0       None   0\n",
              "1    1    MID     TEXT        0       None   0\n",
              "2    2   LAID  INTEGER        0       None   0\n",
              "3    3     ID  INTEGER        0       None   0"
            ]
          },
          "metadata": {},
          "output_type": "display_data"
        },
        {
          "name": "stdout",
          "output_type": "stream",
          "text": [
            "----------------------------------------------------------------------------------------------------\n",
            "\n",
            "\n",
            "Schema of M_Genre\n"
          ]
        },
        {
          "data": {
            "text/html": [
              "<div>\n",
              "<style scoped>\n",
              "    .dataframe tbody tr th:only-of-type {\n",
              "        vertical-align: middle;\n",
              "    }\n",
              "\n",
              "    .dataframe tbody tr th {\n",
              "        vertical-align: top;\n",
              "    }\n",
              "\n",
              "    .dataframe thead th {\n",
              "        text-align: right;\n",
              "    }\n",
              "</style>\n",
              "<table border=\"1\" class=\"dataframe\">\n",
              "  <thead>\n",
              "    <tr style=\"text-align: right;\">\n",
              "      <th></th>\n",
              "      <th>cid</th>\n",
              "      <th>name</th>\n",
              "      <th>type</th>\n",
              "      <th>notnull</th>\n",
              "      <th>dflt_value</th>\n",
              "      <th>pk</th>\n",
              "    </tr>\n",
              "  </thead>\n",
              "  <tbody>\n",
              "    <tr>\n",
              "      <th>0</th>\n",
              "      <td>0</td>\n",
              "      <td>index</td>\n",
              "      <td>INTEGER</td>\n",
              "      <td>0</td>\n",
              "      <td>None</td>\n",
              "      <td>0</td>\n",
              "    </tr>\n",
              "    <tr>\n",
              "      <th>1</th>\n",
              "      <td>1</td>\n",
              "      <td>MID</td>\n",
              "      <td>TEXT</td>\n",
              "      <td>0</td>\n",
              "      <td>None</td>\n",
              "      <td>0</td>\n",
              "    </tr>\n",
              "    <tr>\n",
              "      <th>2</th>\n",
              "      <td>2</td>\n",
              "      <td>GID</td>\n",
              "      <td>INTEGER</td>\n",
              "      <td>0</td>\n",
              "      <td>None</td>\n",
              "      <td>0</td>\n",
              "    </tr>\n",
              "    <tr>\n",
              "      <th>3</th>\n",
              "      <td>3</td>\n",
              "      <td>ID</td>\n",
              "      <td>INTEGER</td>\n",
              "      <td>0</td>\n",
              "      <td>None</td>\n",
              "      <td>0</td>\n",
              "    </tr>\n",
              "  </tbody>\n",
              "</table>\n",
              "</div>"
            ],
            "text/plain": [
              "   cid   name     type  notnull dflt_value  pk\n",
              "0    0  index  INTEGER        0       None   0\n",
              "1    1    MID     TEXT        0       None   0\n",
              "2    2    GID  INTEGER        0       None   0\n",
              "3    3     ID  INTEGER        0       None   0"
            ]
          },
          "metadata": {},
          "output_type": "display_data"
        },
        {
          "name": "stdout",
          "output_type": "stream",
          "text": [
            "----------------------------------------------------------------------------------------------------\n",
            "\n",
            "\n",
            "Schema of Person\n"
          ]
        },
        {
          "data": {
            "text/html": [
              "<div>\n",
              "<style scoped>\n",
              "    .dataframe tbody tr th:only-of-type {\n",
              "        vertical-align: middle;\n",
              "    }\n",
              "\n",
              "    .dataframe tbody tr th {\n",
              "        vertical-align: top;\n",
              "    }\n",
              "\n",
              "    .dataframe thead th {\n",
              "        text-align: right;\n",
              "    }\n",
              "</style>\n",
              "<table border=\"1\" class=\"dataframe\">\n",
              "  <thead>\n",
              "    <tr style=\"text-align: right;\">\n",
              "      <th></th>\n",
              "      <th>cid</th>\n",
              "      <th>name</th>\n",
              "      <th>type</th>\n",
              "      <th>notnull</th>\n",
              "      <th>dflt_value</th>\n",
              "      <th>pk</th>\n",
              "    </tr>\n",
              "  </thead>\n",
              "  <tbody>\n",
              "    <tr>\n",
              "      <th>0</th>\n",
              "      <td>0</td>\n",
              "      <td>index</td>\n",
              "      <td>INTEGER</td>\n",
              "      <td>0</td>\n",
              "      <td>None</td>\n",
              "      <td>0</td>\n",
              "    </tr>\n",
              "    <tr>\n",
              "      <th>1</th>\n",
              "      <td>1</td>\n",
              "      <td>PID</td>\n",
              "      <td>TEXT</td>\n",
              "      <td>0</td>\n",
              "      <td>None</td>\n",
              "      <td>0</td>\n",
              "    </tr>\n",
              "    <tr>\n",
              "      <th>2</th>\n",
              "      <td>2</td>\n",
              "      <td>Name</td>\n",
              "      <td>TEXT</td>\n",
              "      <td>0</td>\n",
              "      <td>None</td>\n",
              "      <td>0</td>\n",
              "    </tr>\n",
              "    <tr>\n",
              "      <th>3</th>\n",
              "      <td>3</td>\n",
              "      <td>Gender</td>\n",
              "      <td>TEXT</td>\n",
              "      <td>0</td>\n",
              "      <td>None</td>\n",
              "      <td>0</td>\n",
              "    </tr>\n",
              "  </tbody>\n",
              "</table>\n",
              "</div>"
            ],
            "text/plain": [
              "   cid    name     type  notnull dflt_value  pk\n",
              "0    0   index  INTEGER        0       None   0\n",
              "1    1     PID     TEXT        0       None   0\n",
              "2    2    Name     TEXT        0       None   0\n",
              "3    3  Gender     TEXT        0       None   0"
            ]
          },
          "metadata": {},
          "output_type": "display_data"
        },
        {
          "name": "stdout",
          "output_type": "stream",
          "text": [
            "----------------------------------------------------------------------------------------------------\n",
            "\n",
            "\n",
            "Schema of M_Producer\n"
          ]
        },
        {
          "data": {
            "text/html": [
              "<div>\n",
              "<style scoped>\n",
              "    .dataframe tbody tr th:only-of-type {\n",
              "        vertical-align: middle;\n",
              "    }\n",
              "\n",
              "    .dataframe tbody tr th {\n",
              "        vertical-align: top;\n",
              "    }\n",
              "\n",
              "    .dataframe thead th {\n",
              "        text-align: right;\n",
              "    }\n",
              "</style>\n",
              "<table border=\"1\" class=\"dataframe\">\n",
              "  <thead>\n",
              "    <tr style=\"text-align: right;\">\n",
              "      <th></th>\n",
              "      <th>cid</th>\n",
              "      <th>name</th>\n",
              "      <th>type</th>\n",
              "      <th>notnull</th>\n",
              "      <th>dflt_value</th>\n",
              "      <th>pk</th>\n",
              "    </tr>\n",
              "  </thead>\n",
              "  <tbody>\n",
              "    <tr>\n",
              "      <th>0</th>\n",
              "      <td>0</td>\n",
              "      <td>index</td>\n",
              "      <td>INTEGER</td>\n",
              "      <td>0</td>\n",
              "      <td>None</td>\n",
              "      <td>0</td>\n",
              "    </tr>\n",
              "    <tr>\n",
              "      <th>1</th>\n",
              "      <td>1</td>\n",
              "      <td>MID</td>\n",
              "      <td>TEXT</td>\n",
              "      <td>0</td>\n",
              "      <td>None</td>\n",
              "      <td>0</td>\n",
              "    </tr>\n",
              "    <tr>\n",
              "      <th>2</th>\n",
              "      <td>2</td>\n",
              "      <td>PID</td>\n",
              "      <td>TEXT</td>\n",
              "      <td>0</td>\n",
              "      <td>None</td>\n",
              "      <td>0</td>\n",
              "    </tr>\n",
              "    <tr>\n",
              "      <th>3</th>\n",
              "      <td>3</td>\n",
              "      <td>ID</td>\n",
              "      <td>INTEGER</td>\n",
              "      <td>0</td>\n",
              "      <td>None</td>\n",
              "      <td>0</td>\n",
              "    </tr>\n",
              "  </tbody>\n",
              "</table>\n",
              "</div>"
            ],
            "text/plain": [
              "   cid   name     type  notnull dflt_value  pk\n",
              "0    0  index  INTEGER        0       None   0\n",
              "1    1    MID     TEXT        0       None   0\n",
              "2    2    PID     TEXT        0       None   0\n",
              "3    3     ID  INTEGER        0       None   0"
            ]
          },
          "metadata": {},
          "output_type": "display_data"
        },
        {
          "name": "stdout",
          "output_type": "stream",
          "text": [
            "----------------------------------------------------------------------------------------------------\n",
            "\n",
            "\n",
            "Schema of M_Director\n"
          ]
        },
        {
          "data": {
            "text/html": [
              "<div>\n",
              "<style scoped>\n",
              "    .dataframe tbody tr th:only-of-type {\n",
              "        vertical-align: middle;\n",
              "    }\n",
              "\n",
              "    .dataframe tbody tr th {\n",
              "        vertical-align: top;\n",
              "    }\n",
              "\n",
              "    .dataframe thead th {\n",
              "        text-align: right;\n",
              "    }\n",
              "</style>\n",
              "<table border=\"1\" class=\"dataframe\">\n",
              "  <thead>\n",
              "    <tr style=\"text-align: right;\">\n",
              "      <th></th>\n",
              "      <th>cid</th>\n",
              "      <th>name</th>\n",
              "      <th>type</th>\n",
              "      <th>notnull</th>\n",
              "      <th>dflt_value</th>\n",
              "      <th>pk</th>\n",
              "    </tr>\n",
              "  </thead>\n",
              "  <tbody>\n",
              "    <tr>\n",
              "      <th>0</th>\n",
              "      <td>0</td>\n",
              "      <td>index</td>\n",
              "      <td>INTEGER</td>\n",
              "      <td>0</td>\n",
              "      <td>None</td>\n",
              "      <td>0</td>\n",
              "    </tr>\n",
              "    <tr>\n",
              "      <th>1</th>\n",
              "      <td>1</td>\n",
              "      <td>MID</td>\n",
              "      <td>TEXT</td>\n",
              "      <td>0</td>\n",
              "      <td>None</td>\n",
              "      <td>0</td>\n",
              "    </tr>\n",
              "    <tr>\n",
              "      <th>2</th>\n",
              "      <td>2</td>\n",
              "      <td>PID</td>\n",
              "      <td>TEXT</td>\n",
              "      <td>0</td>\n",
              "      <td>None</td>\n",
              "      <td>0</td>\n",
              "    </tr>\n",
              "    <tr>\n",
              "      <th>3</th>\n",
              "      <td>3</td>\n",
              "      <td>ID</td>\n",
              "      <td>INTEGER</td>\n",
              "      <td>0</td>\n",
              "      <td>None</td>\n",
              "      <td>0</td>\n",
              "    </tr>\n",
              "  </tbody>\n",
              "</table>\n",
              "</div>"
            ],
            "text/plain": [
              "   cid   name     type  notnull dflt_value  pk\n",
              "0    0  index  INTEGER        0       None   0\n",
              "1    1    MID     TEXT        0       None   0\n",
              "2    2    PID     TEXT        0       None   0\n",
              "3    3     ID  INTEGER        0       None   0"
            ]
          },
          "metadata": {},
          "output_type": "display_data"
        },
        {
          "name": "stdout",
          "output_type": "stream",
          "text": [
            "----------------------------------------------------------------------------------------------------\n",
            "\n",
            "\n",
            "Schema of M_Cast\n"
          ]
        },
        {
          "data": {
            "text/html": [
              "<div>\n",
              "<style scoped>\n",
              "    .dataframe tbody tr th:only-of-type {\n",
              "        vertical-align: middle;\n",
              "    }\n",
              "\n",
              "    .dataframe tbody tr th {\n",
              "        vertical-align: top;\n",
              "    }\n",
              "\n",
              "    .dataframe thead th {\n",
              "        text-align: right;\n",
              "    }\n",
              "</style>\n",
              "<table border=\"1\" class=\"dataframe\">\n",
              "  <thead>\n",
              "    <tr style=\"text-align: right;\">\n",
              "      <th></th>\n",
              "      <th>cid</th>\n",
              "      <th>name</th>\n",
              "      <th>type</th>\n",
              "      <th>notnull</th>\n",
              "      <th>dflt_value</th>\n",
              "      <th>pk</th>\n",
              "    </tr>\n",
              "  </thead>\n",
              "  <tbody>\n",
              "    <tr>\n",
              "      <th>0</th>\n",
              "      <td>0</td>\n",
              "      <td>index</td>\n",
              "      <td>INTEGER</td>\n",
              "      <td>0</td>\n",
              "      <td>None</td>\n",
              "      <td>0</td>\n",
              "    </tr>\n",
              "    <tr>\n",
              "      <th>1</th>\n",
              "      <td>1</td>\n",
              "      <td>MID</td>\n",
              "      <td>TEXT</td>\n",
              "      <td>0</td>\n",
              "      <td>None</td>\n",
              "      <td>0</td>\n",
              "    </tr>\n",
              "    <tr>\n",
              "      <th>2</th>\n",
              "      <td>2</td>\n",
              "      <td>PID</td>\n",
              "      <td>TEXT</td>\n",
              "      <td>0</td>\n",
              "      <td>None</td>\n",
              "      <td>0</td>\n",
              "    </tr>\n",
              "    <tr>\n",
              "      <th>3</th>\n",
              "      <td>3</td>\n",
              "      <td>ID</td>\n",
              "      <td>INTEGER</td>\n",
              "      <td>0</td>\n",
              "      <td>None</td>\n",
              "      <td>0</td>\n",
              "    </tr>\n",
              "  </tbody>\n",
              "</table>\n",
              "</div>"
            ],
            "text/plain": [
              "   cid   name     type  notnull dflt_value  pk\n",
              "0    0  index  INTEGER        0       None   0\n",
              "1    1    MID     TEXT        0       None   0\n",
              "2    2    PID     TEXT        0       None   0\n",
              "3    3     ID  INTEGER        0       None   0"
            ]
          },
          "metadata": {},
          "output_type": "display_data"
        },
        {
          "name": "stdout",
          "output_type": "stream",
          "text": [
            "----------------------------------------------------------------------------------------------------\n",
            "\n",
            "\n"
          ]
        }
      ]
    },
    {
      "cell_type": "markdown",
      "metadata": {
        "id": "O4Cj0Wdz23tA"
      },
      "source": [
        "## Useful tips:\n",
        "\n",
        "1. the year column in 'Movie' table, will have few chracters other than numbers which you need to be preprocessed, you need to get a substring of last 4 characters, its better if you convert it as int type, ex: CAST(SUBSTR(TRIM(m.year),-4) AS INTEGER)\n",
        "\n",
        "2. For almost all the TEXT columns we have show, please try to remove trailing spaces, you need to use TRIM() function\n",
        "\n",
        "3. When you are doing count(coulmn) it won't consider the \"NULL\" values, you might need to explore other alternatives like Count(*)"
      ]
    },
    {
      "cell_type": "markdown",
      "metadata": {
        "id": "jL9AmM3oE_IZ"
      },
      "source": [
        "## Q1 --- List all the directors who directed a 'Comedy' movie in a leap year. (You need to check that the genre is 'Comedy’ and year is a leap year) Your query should return director name, the movie name, and the year."
      ]
    },
    {
      "cell_type": "markdown",
      "metadata": {
        "id": "1jglmxDuE_Ib"
      },
      "source": [
        "<h4>To determine whether a year is a leap year, follow these steps:</h4>\n",
        "\n",
        "<ul>\n",
        "    <li><b>STEP-1:</b> If the year is evenly divisible by 4, go to step 2. Otherwise, go to step 5.</li>\n",
        "    <li><b>STEP-2:</b> If the year is evenly divisible by 100, go to step 3. Otherwise, go to step 4.</li>\n",
        "    <li><b>STEP-3:</b> If the year is evenly divisible by 400, go to step 4. Otherwise, go to step 5.</li>\n",
        "    <li><b>STEP-4:</b> The year is a leap year (it has 366 days).</li>\n",
        "    <li><b>STEP-5:</b> The year is not a leap year (it has 365 days).</li>\n",
        "</ul>\n",
        "\n",
        "Year 1900 is divisible by 4 and 100 but it is not divisible by 400, so it is not a leap year."
      ]
    },
    {
      "cell_type": "code",
      "metadata": {
        "colab": {
          "base_uri": "https://localhost:8080/"
        },
        "id": "yBo_pMrH23tD",
        "outputId": "4d1c133e-a3bd-43be-ef05-07f889a6f907"
      },
      "source": [
        "%%time\n",
        "def grader_1(q1):\n",
        "    q1_results  = pd.read_sql_query(q1,conn)\n",
        "    print(q1_results.head(10))\n",
        "    print(q1_results.shape)\n",
        "    assert (q1_results.shape == (232,3))\n",
        "#unassigned to remove noninteger value from year column they are harcters stored \n",
        "query1 = \"\"\"select a.title,c.name,a.year from Movie a,M_Director b ,person c where  \n",
        "((CAST(SUBSTR(a.year,-4) AS UNSIGNED) %4 = 0 ) ) and c.pid=b.pid and a.mid=b.mid and a.mid in \n",
        "(select Mid from  M_Genre where gid in (select gid from genre where name like '%Comedy%')) \"\"\"\n",
        "grader_1(query1)"
      ],
      "execution_count": 51,
      "outputs": [
        {
          "output_type": "stream",
          "name": "stdout",
          "text": [
            "                               title               Name  year\n",
            "0                         Mastizaade       Milap Zaveri  2016\n",
            "1  Harold & Kumar Go to White Castle       Danny Leiner  2004\n",
            "2                 Gangs of Wasseypur     Anurag Kashyap  2012\n",
            "3        Around the World in 80 Days       Frank Coraci  2004\n",
            "4             The Accidental Husband      Griffin Dunne  2008\n",
            "5                             Barfi!        Anurag Basu  2012\n",
            "6                  Bride & Prejudice    Gurinder Chadha  2004\n",
            "7    Beavis and Butt-Head Do America         Mike Judge  1996\n",
            "8                            Dostana   Tarun Mansukhani  2008\n",
            "9                      Kapoor & Sons       Shakun Batra  2016\n",
            "(232, 3)\n",
            "CPU times: user 64.8 ms, sys: 0 ns, total: 64.8 ms\n",
            "Wall time: 71.1 ms\n"
          ]
        }
      ]
    },
    {
      "cell_type": "markdown",
      "metadata": {
        "id": "LHFSrIJlE_Ih"
      },
      "source": [
        "## Q2 --- List the names of all the actors who played in the movie 'Anand' (1971)"
      ]
    },
    {
      "cell_type": "code",
      "metadata": {
        "colab": {
          "base_uri": "https://localhost:8080/"
        },
        "id": "5BSQOVlk23tS",
        "outputId": "6ceb095d-fb54-4602-ea79-dd1b4e957d18"
      },
      "source": [
        "%%time\n",
        "def grader_2(q2):\n",
        "    q2_results  = pd.read_sql_query(q2,conn)\n",
        "    print(q2_results.head(10))\n",
        "    print(q2_results.shape)\n",
        "    assert (q2_results.shape == (17,1))\n",
        "#use TRIM in mcast for pid \n",
        "\n",
        "query2 = \"select name from Person a where  a.pid in (select trim(pid) from m_cast where mid in (select mid from movie where title like 'Anand' ))\"\n",
        "grader_2(query2)"
      ],
      "execution_count": null,
      "outputs": [
        {
          "name": "stdout",
          "output_type": "stream",
          "text": [
            "                Name\n",
            "0   Amitabh Bachchan\n",
            "1      Rajesh Khanna\n",
            "2      Sumita Sanyal\n",
            "3         Ramesh Deo\n",
            "4          Seema Deo\n",
            "5     Asit Kumar Sen\n",
            "6         Dev Kishan\n",
            "7       Atam Prakash\n",
            "8      Lalita Kumari\n",
            "9             Savita\n",
            "(17, 1)\n",
            "CPU times: user 23.8 ms, sys: 2.99 ms, total: 26.8 ms\n",
            "Wall time: 29.8 ms\n"
          ]
        }
      ]
    },
    {
      "cell_type": "markdown",
      "metadata": {
        "id": "bJ-mAUMmE_Il"
      },
      "source": [
        "## Q3 --- List all the actors who acted in a film before 1970 and in a film after 1990. (That is: < 1970 and > 1990.)"
      ]
    },
    {
      "cell_type": "code",
      "metadata": {
        "colab": {
          "base_uri": "https://localhost:8080/"
        },
        "id": "HARXLaJ623tY",
        "outputId": "8f4788df-84e8-42b9-b535-520f546e3348"
      },
      "source": [
        "%%time\n",
        "\n",
        "def grader_3a(query_less_1970, query_more_1990):\n",
        "    q3_a = pd.read_sql_query(query_less_1970,conn)\n",
        "    print(q3_a.shape)\n",
        "    q3_b = pd.read_sql_query(query_more_1990,conn)\n",
        "    print(q3_b.shape)\n",
        "    return (q3_a.shape == (4942,1)) and (q3_b.shape == (62570,1))\n",
        "\n",
        "query_less_1970 =\"\"\" \n",
        "Select p.PID from Person p \n",
        "inner join \n",
        "(\n",
        "    select trim(mc.PID) PD, mc.MID from M_cast mc \n",
        "where mc.MID \n",
        "in \n",
        "(\n",
        "    select mv.MID from Movie mv where CAST(SUBSTR(mv.year,-4) AS Integer)<1970\n",
        ")\n",
        ") r1 \n",
        "on r1.PD=p.PID \n",
        "\"\"\"\n",
        "query_more_1990 =\"\"\" \n",
        "Select p.PID from Person p \n",
        "inner join \n",
        "(\n",
        "    select trim(mc.PID) PD, mc.MID from M_cast mc \n",
        "where mc.MID \n",
        "in \n",
        "(\n",
        "    select mv.MID from Movie mv where CAST(SUBSTR(mv.year,-4) AS Integer)>1990\n",
        ")\n",
        ") r1 \n",
        "on r1.PD=p.PID \"\"\"\n",
        "print(grader_3a(query_less_1970, query_more_1990))\n",
        "\n",
        "# using the above two queries, you can find the answer to the given question "
      ],
      "execution_count": null,
      "outputs": [
        {
          "name": "stdout",
          "output_type": "stream",
          "text": [
            "(4942, 1)\n",
            "(62570, 1)\n",
            "True\n",
            "CPU times: user 234 ms, sys: 7.78 ms, total: 242 ms\n",
            "Wall time: 243 ms\n"
          ]
        }
      ]
    },
    {
      "cell_type": "code",
      "metadata": {
        "colab": {
          "base_uri": "https://localhost:8080/"
        },
        "id": "sbzv0UZZ23td",
        "outputId": "c30de21f-4df5-419b-f8dc-2d77fb814072"
      },
      "source": [
        "%%time\n",
        "def grader_3(q3):\n",
        "    q3_results  = pd.read_sql_query(q3,conn)\n",
        "    print(q3_results.head(10))\n",
        "    print(q3_results.shape)\n",
        "    assert (q3_results.shape == (300,1))\n",
        "\n",
        "#query3 = \"select distinct name from person where  trim(pid) in (select trim(pid) from m_cast where  mid not in (select mid from movie where CAST(SUBSTR(year,-4) AS Integer) between 1970 and 1990))\"\n",
        "query3=\"\"\"with first as (\n",
        "SELECT Trim(mc.pid) as pid1\n",
        "FROM   m_cast mc \n",
        "WHERE  Trim(mc.mid) IN (SELECT Trim(m.mid) \n",
        "                        FROM   movie m \n",
        "                        WHERE  Cast(Substr(Trim(m.year), -4) AS INTEGER) < 1970)\n",
        "),\n",
        "second as (\n",
        "SELECT trim(mc.pid) as pid2\n",
        "FROM   m_cast mc \n",
        "WHERE  trim(mc.mid) in (SELECT Trim(m.mid) \n",
        "                        FROM   movie m \n",
        "                        WHERE  Cast(Substr(Trim(m.year), -4) AS INTEGER) > 1990) \n",
        ")\n",
        "select first.pid1 from first intersect select second.pid2 from second \"\"\"\n",
        "grader_3(query3)"
      ],
      "execution_count": null,
      "outputs": [
        {
          "name": "stdout",
          "output_type": "stream",
          "text": [
            "        pid1\n",
            "0  nm0000821\n",
            "1  nm0003987\n",
            "2  nm0004334\n",
            "3  nm0004429\n",
            "4  nm0004432\n",
            "5  nm0004433\n",
            "6  nm0004434\n",
            "7  nm0004435\n",
            "8  nm0004564\n",
            "9  nm0004569\n",
            "(300, 1)\n",
            "CPU times: user 117 ms, sys: 1.9 ms, total: 119 ms\n",
            "Wall time: 122 ms\n"
          ]
        }
      ]
    },
    {
      "cell_type": "markdown",
      "metadata": {
        "id": "wd3tqFxaE_Ir"
      },
      "source": [
        "## Q4 --- List all directors who directed 10 movies or more, in descending order of the number of movies they directed. Return the directors' names and the number of movies each of them directed."
      ]
    },
    {
      "cell_type": "code",
      "metadata": {
        "colab": {
          "base_uri": "https://localhost:8080/"
        },
        "id": "aGgqAYk723th",
        "outputId": "d0e67d02-3e0a-4205-bc16-b746ea481dad"
      },
      "source": [
        "%%time\n",
        "\n",
        "def grader_4a(query_4a):\n",
        "    query_4a = pd.read_sql_query(query_4a,conn)\n",
        "    print(query_4a.head(10)) \n",
        "    print(query_4a.shape) \n",
        "    return (query_4a.shape == (1462,2))\n",
        "\n",
        "query_4a =\"\"\" *** Write a query, which will return all the directors(id's) along with the number of movies they directed *** \"\"\"\n",
        "query_4a=\"\"\"select pid,count(*) as T_movie from m_director group by  pid having count(*)>=1 \"\"\"\n",
        "print(grader_4a(query_4a))\n",
        "\n",
        "# using the above query, you can write the answer to the given question"
      ],
      "execution_count": null,
      "outputs": [
        {
          "name": "stdout",
          "output_type": "stream",
          "text": [
            "         PID  T_movie\n",
            "0  nm0000180        1\n",
            "1  nm0000187        1\n",
            "2  nm0000229        1\n",
            "3  nm0000269        1\n",
            "4  nm0000386        1\n",
            "5  nm0000487        2\n",
            "6  nm0000965        1\n",
            "7  nm0001060        1\n",
            "8  nm0001162        1\n",
            "9  nm0001241        1\n",
            "(1462, 2)\n",
            "True\n",
            "CPU times: user 14.4 ms, sys: 0 ns, total: 14.4 ms\n",
            "Wall time: 15.2 ms\n"
          ]
        }
      ]
    },
    {
      "cell_type": "code",
      "metadata": {
        "colab": {
          "base_uri": "https://localhost:8080/"
        },
        "id": "xROoSzcF23tn",
        "outputId": "372bca75-6874-4704-9deb-f3f392ee8839"
      },
      "source": [
        "%%time\n",
        "def grader_4(q4):\n",
        "    q4_results  = pd.read_sql_query(q4,conn)\n",
        "    print(q4_results.head(10))\n",
        "    print(q4_results.shape)\n",
        "    assert (q4_results.shape == (58,2))\n",
        "query4 =\"select A.T_movie,p.name from (select pid,count(*) as T_movie from m_director group by  pid having count(*)>=10) as A ,person p where A.pid=p.pid order by a.T_movie desc\"\n",
        "grader_4(query4)"
      ],
      "execution_count": null,
      "outputs": [
        {
          "name": "stdout",
          "output_type": "stream",
          "text": [
            "   T_movie                   Name\n",
            "0       39           David Dhawan\n",
            "1       35           Mahesh Bhatt\n",
            "2       30        Ram Gopal Varma\n",
            "3       30           Priyadarshan\n",
            "4       29           Vikram Bhatt\n",
            "5       27   Hrishikesh Mukherjee\n",
            "6       21            Yash Chopra\n",
            "7       19         Shakti Samanta\n",
            "8       19        Basu Chatterjee\n",
            "9       18           Subhash Ghai\n",
            "(58, 2)\n",
            "CPU times: user 22.1 ms, sys: 932 µs, total: 23 ms\n",
            "Wall time: 30.1 ms\n"
          ]
        }
      ]
    },
    {
      "cell_type": "markdown",
      "metadata": {
        "id": "OnulNpiOE_Iw"
      },
      "source": [
        "## Q5.a --- For each year, count the number of movies in that year that had only female actors."
      ]
    },
    {
      "cell_type": "code",
      "metadata": {
        "id": "ES-gGiNG23tr",
        "outputId": "05e73aed-8917-4d9f-b746-619d1c48735b"
      },
      "source": [
        "%%time\n",
        "\n",
        "# note that you don't need TRIM for person table\n",
        "\n",
        "def grader_5aa(query_5aa):\n",
        "    query_5aa = pd.read_sql_query(query_5aa,conn)\n",
        "    print(query_5aa.head(10)) \n",
        "    return (query_5aa.shape == (8846,3))\n",
        "\n",
        "query_5aa =\"\"\" *** Write your query that will get movie id, and number of people for each geneder *** \"\"\"\n",
        "\n",
        "print(grader_5aa(query_5aa))\n",
        "\n",
        "def grader_5ab(query_5ab):\n",
        "    query_5ab = pd.read_sql_query(query_5ab,conn)\n",
        "    print(query_5ab.head(10)) \n",
        "    return (query_5ab.shape == (3469, 3))\n",
        "\n",
        "query_5ab =\"\"\" *** Write your query that will have at least one male actor try to use query that you have written above *** \"\"\"\n",
        "\n",
        "print(grader_5ab(query_5ab))\n",
        "\n",
        "\n",
        "# using the above queries, you can write the answer to the given question"
      ],
      "execution_count": null,
      "outputs": [
        {
          "name": "stdout",
          "output_type": "stream",
          "text": [
            "         MID    Gend  Count\n",
            "0  tt0021594    None      1\n",
            "1  tt0021594  Female      3\n",
            "2  tt0021594    Male      5\n",
            "3  tt0026274    None      2\n",
            "4  tt0026274  Female     11\n",
            "5  tt0026274    Male      9\n",
            "6  tt0027256    None      2\n",
            "7  tt0027256  Female      5\n",
            "8  tt0027256    Male      8\n",
            "9  tt0028217  Female      3\n",
            "True\n",
            "         MID  Gend  Count\n",
            "0  tt0021594  Male      5\n",
            "1  tt0026274  Male      9\n",
            "2  tt0027256  Male      8\n",
            "3  tt0028217  Male      7\n",
            "4  tt0031580  Male     27\n",
            "5  tt0033616  Male     46\n",
            "6  tt0036077  Male     11\n",
            "7  tt0038491  Male      7\n",
            "8  tt0039654  Male      6\n",
            "9  tt0040067  Male     10\n",
            "(3469, 3)\n",
            "True\n",
            "Wall time: 1.5 s\n"
          ]
        }
      ]
    },
    {
      "cell_type": "code",
      "metadata": {
        "colab": {
          "base_uri": "https://localhost:8080/"
        },
        "id": "zQOIawPME_Ix",
        "outputId": "00f72bbf-3bd0-4083-a666-8804be76c696"
      },
      "source": [
        "%%time\n",
        "def grader_5a(q5a):\n",
        "    q5a_results  = pd.read_sql_query(q5a,conn)\n",
        "    print(q5a_results.head(10))\n",
        "    print(q5a_results.shape)\n",
        "    assert (q5a_results.shape == (4,2))\n",
        "#query5a = \"select  distinct m.title,m.year,p.name ,p.gender from movie m,m_cast c,person p where p.gender like 'Female' and trim(c.pid)=trim(p.pid) and c.mid=m.mid\"\n",
        "query5a=\"\"\"\n",
        " \n",
        " WITH all_cast AS (\n",
        "    SELECT SUBSTR(m.\"year\",-4) as 'Year', m.title, trim(m.MID) as MID, p.Name, trim(p.Gender) as Gender  \n",
        "    FROM Movie m\n",
        "    JOIN M_Cast mc \n",
        "        ON m.MID = mc.MID\n",
        "    JOIN Person p \n",
        "        ON trim(mc.PID) = p.PID\n",
        "),\n",
        "\n",
        "male_present AS (\n",
        "    SELECT year, mid, name\n",
        "    FROM all_cast\n",
        "    WHERE Gender = 'Male'\n",
        ")\n",
        "\n",
        "\n",
        "SELECT year, COUNT(DISTINCT mid) as 'All Female Cast'\n",
        "FROM all_cast a\n",
        "WHERE NOT EXISTS (SELECT * FROM male_present WHERE a.mid = mid)\n",
        "GROUP BY year\n",
        "\"\"\"\n",
        "grader_5a(query5a)"
      ],
      "execution_count": null,
      "outputs": [
        {
          "name": "stdout",
          "output_type": "stream",
          "text": [
            "   Year  All Female Cast\n",
            "0  1939                1\n",
            "1  1999                1\n",
            "2  2000                1\n",
            "3  2018                1\n",
            "(4, 2)\n",
            "CPU times: user 1.31 s, sys: 18.8 ms, total: 1.33 s\n",
            "Wall time: 1.33 s\n"
          ]
        }
      ]
    },
    {
      "cell_type": "markdown",
      "metadata": {
        "id": "cTiKejUfE_I1"
      },
      "source": [
        "## Q5.b --- Now include a small change: report for each year the percentage of movies in that year with only female actors, and the total number of movies made that year. For example, one answer will be: 1990 31.81 13522 meaning that in 1990 there were 13,522 movies, and 31.81% had only female actors. You do not need to round your answer."
      ]
    },
    {
      "cell_type": "code",
      "metadata": {
        "colab": {
          "base_uri": "https://localhost:8080/"
        },
        "id": "Xv6iXvcZE_I2",
        "outputId": "bafc7d5a-784b-494a-a172-0132e7139030"
      },
      "source": [
        "%%time\n",
        "def grader_5b(q5b):\n",
        "    q5b_results  = pd.read_sql_query(q5b,conn)\n",
        "    print(q5b_results.head(10))\n",
        "    print(q5b_results.shape)\n",
        "    assert (q5b_results.shape == (4,3))\n",
        "\n",
        "query5b = \"\"\" \n",
        " select movie.year, count(movie.mid) as Year_Wise_Movie_Count,cast(x.Female_Cast_Only as real) / count(movie.mid) As Percentage_of_Female_Cast from movie\n",
        "inner join\n",
        "(\n",
        "SELECT Movie.year as Year, COUNT(Movie.mid) AS Female_Cast_Only\n",
        "FROM Movie\n",
        "WHERE Movie.MID NOT IN (\n",
        "  SELECT Movie.MID from Movie\n",
        "  Inner Join M_cast\n",
        "  on TRIM(M_cast.MID) = Movie.MID\n",
        "  Inner Join Person\n",
        "  on TRIM(M_cast.PID) = Person.PID\n",
        "  WHERE Person.Gender!='Female'\n",
        "  GROUP BY Movie.MID\n",
        "  )\n",
        "GROUP BY Movie.year\n",
        "Order By Movie.year asc\n",
        ") x\n",
        "on x.year = movie.year \n",
        "GROUP BY movie.year\n",
        "ORDER BY movie.year\n",
        "\"\"\"\n",
        "grader_5b(query5b)"
      ],
      "execution_count": null,
      "outputs": [
        {
          "name": "stdout",
          "output_type": "stream",
          "text": [
            "     year  Year_Wise_Movie_Count  Percentage_of_Female_Cast\n",
            "0    1939                      2                   0.500000\n",
            "1    1999                     66                   0.015152\n",
            "2    2000                     64                   0.015625\n",
            "3  I 2018                     10                   0.100000\n",
            "(4, 3)\n",
            "CPU times: user 213 ms, sys: 1.91 ms, total: 215 ms\n",
            "Wall time: 219 ms\n"
          ]
        }
      ]
    },
    {
      "cell_type": "markdown",
      "metadata": {
        "id": "d5mvJcHDE_I6"
      },
      "source": [
        "## Q6 --- Find the film(s) with the largest cast. Return the movie title and the size of the cast. By \"cast size\" we mean the number of distinct actors that played in that movie: if an actor played multiple roles, or if it simply occurs multiple times in casts, we still count her/him only once."
      ]
    },
    {
      "cell_type": "code",
      "metadata": {
        "colab": {
          "base_uri": "https://localhost:8080/"
        },
        "id": "vpr9gGg6E_I7",
        "outputId": "4b285974-6920-4a92-c81e-dd73c72291da"
      },
      "source": [
        "%%time\n",
        "def grader_6(q6):\n",
        "    q6_results  = pd.read_sql_query(q6,conn)\n",
        "    print(q6_results.head(10))\n",
        "    print(q6_results.shape)\n",
        "    assert (q6_results.shape == (3473, 2))\n",
        "\n",
        "query6 = \"select mv.title,A.coun from  (select mid, count(*)as coun from m_cast group by mid having count(*) >=1) as A,movie mv where mv.mid=A.mid order by A.coun desc \"\n",
        "grader_6(query6)"
      ],
      "execution_count": null,
      "outputs": [
        {
          "name": "stdout",
          "output_type": "stream",
          "text": [
            "                        title  coun\n",
            "0               Ocean's Eight   238\n",
            "1                    Apaharan   233\n",
            "2                        Gold   215\n",
            "3             My Name Is Khan   213\n",
            "4  Captain America: Civil War   191\n",
            "5                    Geostorm   170\n",
            "6                     Striker   165\n",
            "7                        2012   154\n",
            "8                      Pixels   144\n",
            "9       Yamla Pagla Deewana 2   140\n",
            "(3473, 2)\n",
            "CPU times: user 58.9 ms, sys: 4.97 ms, total: 63.8 ms\n",
            "Wall time: 67.6 ms\n"
          ]
        }
      ]
    },
    {
      "cell_type": "markdown",
      "metadata": {
        "id": "E6mOLxNgTby6"
      },
      "source": [
        "### Q7 --- A decade is a sequence of 10 consecutive years. \n",
        "### For example, say in your database you have movie information starting from 1931. \n",
        "### the first decade is 1931, 1932, ..., 1940,\n",
        "### the second decade is 1932, 1933, ..., 1941 and so on. \n",
        "### Find the decade D with the largest number of films and the total number of films in D"
      ]
    },
    {
      "cell_type": "code",
      "metadata": {
        "colab": {
          "base_uri": "https://localhost:8080/"
        },
        "id": "ZfOWt8IW23uE",
        "outputId": "e7e3e04c-a602-4863-b882-30ee199f24c8"
      },
      "source": [
        "%%time\n",
        "def grader_7a(q7a):\n",
        "    q7a_results  = pd.read_sql_query(q7a,conn)\n",
        "    print(q7a_results.head(10))\n",
        "    print(q7a_results.shape)\n",
        "    assert (q7a_results.shape == (78, 2))# there are distinct 125 years so 78 is not possible here\n",
        "\n",
        "#query7a = \"\"\" *** Write a query that computes number of movies in each year *** \"\"\"\n",
        "query7a=\"select year as movie_year,count(mid) from movie group by year having count(mid) >=1 limit 78\"\n",
        "grader_7a(query7a)\n",
        "\n",
        "# using the above query, you can write the answer to the given question"
      ],
      "execution_count": null,
      "outputs": [
        {
          "name": "stdout",
          "output_type": "stream",
          "text": [
            "  movie_year  count(mid)\n",
            "0       1931           1\n",
            "1       1936           3\n",
            "2       1939           2\n",
            "3       1941           1\n",
            "4       1943           1\n",
            "5       1946           2\n",
            "6       1947           2\n",
            "7       1948           3\n",
            "8       1949           3\n",
            "9       1950           2\n",
            "(78, 2)\n",
            "CPU times: user 8.26 ms, sys: 861 µs, total: 9.12 ms\n",
            "Wall time: 15.1 ms\n"
          ]
        }
      ]
    },
    {
      "cell_type": "code",
      "metadata": {
        "colab": {
          "base_uri": "https://localhost:8080/"
        },
        "id": "sBMzLrIY23uJ",
        "outputId": "6c7f7d3b-87ad-49be-b469-50de4b00cf8b"
      },
      "source": [
        "%%time\n",
        "def grader_7b(q7b):\n",
        "    q7b_results  = pd.read_sql_query(q7b,conn)\n",
        "    print(q7b_results.head(10))\n",
        "    print(q7b_results.shape)\n",
        "    assert (q7b_results.shape == (713, 4))\n",
        "\n",
        "#query7b_= \n",
        "\"\"\"   \n",
        "    *** \n",
        "    Write a query that will do joining of the above table(7a) with itself \n",
        "    such that you will join with only rows if the second tables year is <= current_year+9 and more than or equal current_year\n",
        "    *** \n",
        "          \"\"\"\n",
        "query7b=\"\"\"\n",
        "\n",
        "with mov as\n",
        "(\n",
        "   select year as movie_year, count(mid) as total_movies\n",
        "   from movie \n",
        "   group by year\n",
        "   limit 78\n",
        ")\n",
        "select\n",
        "  *\n",
        "from mov m1\n",
        "left join mov m2 on (m2.movie_year between m1.movie_year and m1.movie_year + 9)\n",
        "\"\"\"          \n",
        "grader_7b(query7b)\n",
        "# if you see the below results the first movie year is less than 2nd movie year and \n",
        "# 2nd movie year is less or equal to the first movie year+9\n",
        "\n",
        "# using the above query, you can write the answer to the given question"
      ],
      "execution_count": null,
      "outputs": [
        {
          "name": "stdout",
          "output_type": "stream",
          "text": [
            "  movie_year  total_movies movie_year  total_movies\n",
            "0       1931             1       1931             1\n",
            "1       1931             1       1936             3\n",
            "2       1931             1       1939             2\n",
            "3       1936             3       1936             3\n",
            "4       1936             3       1939             2\n",
            "5       1936             3       1941             1\n",
            "6       1936             3       1943             1\n",
            "7       1939             2       1939             2\n",
            "8       1939             2       1941             1\n",
            "9       1939             2       1943             1\n",
            "(713, 4)\n",
            "CPU times: user 15.6 ms, sys: 832 µs, total: 16.4 ms\n",
            "Wall time: 18.3 ms\n"
          ]
        }
      ]
    },
    {
      "cell_type": "code",
      "metadata": {
        "colab": {
          "base_uri": "https://localhost:8080/",
          "height": 255
        },
        "id": "NKqbguuqE_JA",
        "outputId": "2819ceef-0787-45f9-c38f-9648ccf787f0"
      },
      "source": [
        "%%time\n",
        "def grader_7(q7):\n",
        "    q7_results  = pd.read_sql_query(q7,conn)\n",
        "    print(q7_results.head(10))\n",
        "    assert (q7_results.shape == (1, 2))\n",
        "\n",
        "query7 = \"\"\" *** Write a query that will return the decade that has maximum number of movies ***\"\"\"\n",
        "grader_7(query7)\n",
        "# if you check the output we are printinng all the year in that decade, its fine you can print 2008 or 2008-2017"
      ],
      "execution_count": null,
      "outputs": [
        {
          "name": "stdout",
          "output_type": "stream",
          "text": [
            "   Decade_Movie_Count                                             Decade\n",
            "0                1203  2008-2009-2010-2011-2012-2013-2014-2015-2016-2017\n",
            "Wall time: 21 ms\n"
          ]
        }
      ]
    },
    {
      "cell_type": "code",
      "metadata": {
        "colab": {
          "base_uri": "https://localhost:8080/"
        },
        "id": "M951Aev9YP4M",
        "outputId": "6a49590d-7d11-4d7a-e278-d7273ce790de"
      },
      "source": [
        "%%time\n",
        "def grader_7(q7):\n",
        "    q7_results  = pd.read_sql_query(q7,conn)\n",
        "    print(q7_results.head(10))\n",
        "    assert (q7_results.shape == (1, 3))\n",
        "\n",
        "query7 = \"\"\"\n",
        "with mov as\n",
        "(\n",
        "   select year as movie_year, count(mid) as total_movies\n",
        "   from movie \n",
        "   group by year\n",
        ")\n",
        "select\n",
        "  m1.movie_year as decade_start,\n",
        "  max(m2.movie_year) as decade_end,\n",
        "  sum(m2.total_movies) as total_movies\n",
        "from mov m1\n",
        "left join mov m2 on (m2.movie_year between m1.movie_year and m1.movie_year + 9)\n",
        "group by m1.movie_year\n",
        "order by sum(m2.total_movies) desc\n",
        "limit 1\n",
        "\n",
        "\n",
        "\"\"\"\n",
        "grader_7(query7)\n",
        "# if you check the output we are printinng all the year in that decade, its fine you can print 2008 or 2008-2017"
      ],
      "execution_count": null,
      "outputs": [
        {
          "name": "stdout",
          "output_type": "stream",
          "text": [
            "  decade_start decade_end  total_movies\n",
            "0         2008       2017          1126\n",
            "CPU times: user 18.4 ms, sys: 731 µs, total: 19.1 ms\n",
            "Wall time: 28.5 ms\n"
          ]
        }
      ]
    },
    {
      "cell_type": "markdown",
      "metadata": {
        "id": "Jbm3Oy3hT8d9"
      },
      "source": [
        "## Q8 --- Find all the actors that made more movies with Yash Chopra than any other director."
      ]
    },
    {
      "cell_type": "code",
      "metadata": {
        "colab": {
          "base_uri": "https://localhost:8080/"
        },
        "id": "DZJ7WMrk23uR",
        "outputId": "e191eeb8-ce9f-4f3e-ae8c-b73a66a10190"
      },
      "source": [
        "%%time\n",
        "def grader_8a(q8a):\n",
        "    q8a_results  = pd.read_sql_query(q8a,conn)\n",
        "    print(q8a_results.head(10))\n",
        "    print(q8a_results.shape)\n",
        "    assert (q8a_results.shape == (73408, 3))\n",
        "\n",
        "#query8a = \"\"\" *** Write a query that will results in number of movies actor-director worked together ***\"\"\"\n",
        "query8a=\"\"\"\n",
        "select mc.pid as mcpid,md.pid as mdpid,count(mc.MID) as count   \n",
        "from m_cast as mc\n",
        "                 join m_director md \n",
        "                     on md.MID=mc.MID               \n",
        "                 group by mc.pid ,md.pid \n",
        "\"\"\"\n",
        "grader_8a(query8a)\n",
        "\n",
        "# using the above query, you can write the answer to the given question"
      ],
      "execution_count": null,
      "outputs": [
        {
          "name": "stdout",
          "output_type": "stream",
          "text": [
            "        mcpid      mdpid  count\n",
            "0   nm0000002  nm0496746      1\n",
            "1   nm0000027  nm0000180      1\n",
            "2   nm0000039  nm0896533      1\n",
            "3   nm0000042  nm0896533      1\n",
            "4   nm0000047  nm0004292      1\n",
            "5   nm0000073  nm0485943      1\n",
            "6   nm0000076  nm0000229      1\n",
            "7   nm0000092  nm0178997      1\n",
            "8   nm0000093  nm0000269      1\n",
            "9   nm0000096  nm0113819      1\n",
            "(73408, 3)\n",
            "CPU times: user 235 ms, sys: 13.7 ms, total: 249 ms\n",
            "Wall time: 251 ms\n"
          ]
        }
      ]
    },
    {
      "cell_type": "code",
      "metadata": {
        "colab": {
          "base_uri": "https://localhost:8080/"
        },
        "id": "SYMTcHixE_JH",
        "outputId": "7b12a1a3-a9d9-46bb-c2c8-3d19d1306dd6"
      },
      "source": [
        "%%time\n",
        "\n",
        "def grader_8(q8):\n",
        "    q8_results  = pd.read_sql_query(q8,conn)\n",
        "    print(q8_results.head(10))\n",
        "    print(q8_results.shape)\n",
        "    assert (q8_results.shape == (245, 2))\n",
        "\n",
        "query8_results = \"\"\" \n",
        "select p.name,h.count \n",
        "from(select mc.pid as mcpid,md.pid as mdpid,count(mc.MID) as count   \n",
        "from m_cast as mc\n",
        "                 join m_director md \n",
        "                     on md.MID=mc.MID               \n",
        "                 group by mc.pid ,md.pid \n",
        "                ) h\n",
        "            join person p \n",
        "                on trim(h.mcpid)=trim(p.pid)\n",
        "            where h.count = (select count(*) as count   \n",
        "                             from m_cast as mc\n",
        "                             join m_director md \n",
        "                                 on md.mid=mc.mid\n",
        "                             where mc.pid=h.mcpid \n",
        "                             group by mc.pid,md.pid \n",
        "                             order by count(*) desc\n",
        "                             limit 1)\n",
        "            and h.mdpid = (select trim(pid) \n",
        "                           from person \n",
        "                           where name like '%Yash Chopra%'\n",
        "                          )\n",
        "            order by h.count desc\n",
        "\"\"\"\n",
        "grader_8(query8_results)"
      ],
      "execution_count": null,
      "outputs": [
        {
          "name": "stdout",
          "output_type": "stream",
          "text": [
            "                Name  count\n",
            "0        Jagdish Raj     11\n",
            "1   Manmohan Krishna     10\n",
            "2           Iftekhar      9\n",
            "3      Shashi Kapoor      7\n",
            "4     Waheeda Rehman      5\n",
            "5      Rakhee Gulzar      5\n",
            "6     Achala Sachdev      4\n",
            "7        Neetu Singh      4\n",
            "8           Ravikant      4\n",
            "9    Parikshat Sahni      3\n",
            "(245, 2)\n",
            "CPU times: user 6.26 s, sys: 409 ms, total: 6.67 s\n",
            "Wall time: 6.67 s\n"
          ]
        }
      ]
    },
    {
      "cell_type": "markdown",
      "metadata": {
        "id": "2j8Fc9jUUJ9C"
      },
      "source": [
        "## Q9 --- The Shahrukh number of an actor is the length of the shortest path between the actor and Shahrukh Khan in the \"co-acting\" graph. That is, Shahrukh Khan has Shahrukh number 0; all actors who acted in the same film as Shahrukh have Shahrukh number 1; all actors who acted in the same film as some actor with Shahrukh number 1 have Shahrukh number 2, etc. Return all actors whose Shahrukh number is 2."
      ]
    },
    {
      "cell_type": "code",
      "metadata": {
        "id": "3FnJ_19z23ub",
        "outputId": "c63ac439-ad2b-4aa4-8aeb-dc0245670f34"
      },
      "source": [
        "%%time\n",
        "def grader_9a(q9a):\n",
        "    q9a_results  = pd.read_sql_query(q9a,conn)\n",
        "    print(q9a_results.head(10))\n",
        "    print(q9a_results.shape)\n",
        "    assert (q9a_results.shape == (2382, 1))\n",
        "\n",
        "query9a = \"\"\" *** Write a query that answers the 9th question ***\"\"\"\n",
        "grader_9a(query9a)\n",
        "# using the above query, you can write the answer to the given question\n",
        "\n",
        "# selecting actors who acted with srk (S1)\n",
        "# selecting all movies where S1 actors acted, this forms S2 movies list\n",
        "# selecting all actors who acted in S2 movies, this gives us S2 actors along with S1 actors\n",
        "# removing S1 actors from the combined list of S1 & S2 actors, so that we get only S2 actors"
      ],
      "execution_count": null,
      "outputs": [
        {
          "name": "stdout",
          "output_type": "stream",
          "text": [
            "      S1_PID\n",
            "0  nm0004418\n",
            "1  nm1995953\n",
            "2  nm2778261\n",
            "3  nm0631373\n",
            "4  nm0241935\n",
            "5  nm0792116\n",
            "6  nm1300111\n",
            "7  nm0196375\n",
            "8  nm1464837\n",
            "9  nm2868019\n",
            "(2382, 1)\n",
            "Wall time: 178 ms\n"
          ]
        }
      ]
    },
    {
      "cell_type": "code",
      "metadata": {
        "colab": {
          "base_uri": "https://localhost:8080/"
        },
        "id": "FdsPgeL-cQVs",
        "outputId": "09302eb3-29d7-4282-adaf-e359d5303f2d"
      },
      "source": [
        "%%time\n",
        "\n",
        "def grader_9(q9):\n",
        "    q9_results  = pd.read_sql_query(q9,conn)\n",
        "    print(q9_results.head(10))\n",
        "    print(q9_results.shape)\n",
        "    assert (q9_results.shape == (2382, 1))\n",
        "\n",
        "query9 = \"\"\"\n",
        "WITH \n",
        "    SHAHRUKH_0 AS\n",
        "    (\n",
        "        SELECT\n",
        "            TRIM(P.PID) PID\n",
        "        FROM\n",
        "            Person P\n",
        "        WHERE\n",
        "            Trim(P.Name) like '%Shahrukh%'\n",
        "          \n",
        "    ),-----------------------------srk id getting\n",
        "    SHAHRUKH_1_MOVIES AS\n",
        "    (\n",
        "        SELECT\n",
        "            DISTINCT\n",
        "            TRIM(MC.MID) MID,\n",
        "            S0.PID\n",
        "        FROM\n",
        "            M_Cast MC,\n",
        "            SHAHRUKH_0 S0\n",
        "        WHERE\n",
        "            TRIM(MC.PID) = S0.PID---getting movied id,pid  where sharukh aacted\n",
        "    ),\n",
        "    SHAHRUKH_1_ACTORS AS\n",
        "    (\n",
        "        SELECT\n",
        "            DISTINCT\n",
        "            TRIM(MC.PID) PID\n",
        "        FROM\n",
        "            M_Cast MC,\n",
        "            SHAHRUKH_1_MOVIES S1M\n",
        "        WHERE\n",
        "            TRIM(MC.MID) = S1M.MID AND---- selecting actors who acted with srk (S1)\n",
        "            TRIM(MC.PID) <> S1M.PID-----removing sharukh id from  sharukh movie and getting other person details\n",
        "    ),\n",
        "    SHAHRUKH_2_MOVIES AS\n",
        "    (\n",
        "        SELECT\n",
        "            DISTINCT\n",
        "            TRIM(MC.MID) MID,\n",
        "            S1A.PID\n",
        "        FROM\n",
        "            M_Cast MC,\n",
        "            SHAHRUKH_1_ACTORS S1A\n",
        "        WHERE\n",
        "            TRIM(MC.PID) = S1A.PID  ---selecting all movies where S1 actors acted, this forms S2 movies list\n",
        "    )\n",
        "    SELECT\n",
        "        DISTINCT\n",
        "        TRIM(P.Name) ACTOR_NAME\n",
        "    FROM\n",
        "        Person P,\n",
        "        M_Cast MC,\n",
        "        SHAHRUKH_2_MOVIES S2M, SHAHRUKH_1_ACTORS S1A\n",
        "    WHERE\n",
        "            TRIM(MC.PID) = TRIM(P.PID) AND--selecting all actors who acted in S2 movies, this gives us S2 actors along with S1 actors\n",
        "            TRIM(MC.MID) = S2M.MID AND----movies of sharukh can/cant\n",
        "            TRIM(MC.PID) <> TRIM(S2M.PID)   ------------removing S1 actors from the combined list of S1 & S2 actors, so that we get only S2 actors\n",
        "    limit 2382\n",
        "\n",
        "\"\"\"\n",
        "grader_9(query9)\n",
        "\n"
      ],
      "execution_count": null,
      "outputs": [
        {
          "output_type": "stream",
          "name": "stdout",
          "text": [
            "              ACTOR_NAME\n",
            "0           Freida Pinto\n",
            "1  Caroline Christl Long\n",
            "2          Rajeev Pahuja\n",
            "3      Michelle Santiago\n",
            "4         Jandre le Roux\n",
            "5             Raj Awasti\n",
            "6        Michael Chapman\n",
            "7            James Heron\n",
            "8              Alex Jaep\n",
            "9        Marian Lorencik\n",
            "(2382, 1)\n",
            "CPU times: user 1min 31s, sys: 3.75 s, total: 1min 35s\n",
            "Wall time: 1min 34s\n"
          ]
        }
      ]
    }
  ]
}