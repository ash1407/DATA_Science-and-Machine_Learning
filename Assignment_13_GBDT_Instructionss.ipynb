{
  "nbformat": 4,
  "nbformat_minor": 0,
  "metadata": {
    "colab": {
      "name": "Copy of 11_Assignment_GBDT_Instructions.ipynb",
      "provenance": [],
      "collapsed_sections": []
    },
    "kernelspec": {
      "display_name": "Python 3",
      "language": "python",
      "name": "python3"
    },
    "language_info": {
      "codemirror_mode": {
        "name": "ipython",
        "version": 3
      },
      "file_extension": ".py",
      "mimetype": "text/x-python",
      "name": "python",
      "nbconvert_exporter": "python",
      "pygments_lexer": "ipython3",
      "version": "3.6.8"
    }
  },
  "cells": [
    {
      "cell_type": "markdown",
      "metadata": {
        "id": "8wqapAXjsc24"
      },
      "source": [
        "# Assignment 9: GBDT"
      ]
    },
    {
      "cell_type": "markdown",
      "metadata": {
        "id": "8u5NhbnEsc2-"
      },
      "source": [
        "#### Response Coding: Example"
      ]
    },
    {
      "cell_type": "markdown",
      "metadata": {
        "id": "HIFWmwHKsc3A"
      },
      "source": [
        "<img src='http://i.imgur.com/TufZptV.jpg' width=700px>\n",
        "\n",
        "> The response tabel is built only on train dataset.\n",
        "> For a category which is not there in train data and present in test data, we will encode them with default values\n",
        "Ex: in our test data if have State: D then we encode it as [0.5, 0.05]"
      ]
    },
    {
      "cell_type": "markdown",
      "metadata": {
        "id": "3KwfGufDsc3D"
      },
      "source": [
        "<ol>\n",
        "    <li><strong>Apply GBDT on these feature sets</strong>\n",
        "        <ul>\n",
        "            <li><font color='red'>Set 1</font>: categorical(instead of one hot encoding, try <a href='https://www.appliedaicourse.com/course/applied-ai-course-online/lessons/handling-categorical-and-numerical-features/'>response coding</a>: use probability values), numerical features + project_title(TFIDF)+  preprocessed_eassay (TFIDF)+sentiment Score of eassay(check the bellow example, include all 4 values as 4 features)</li>\n",
        "            <li><font color='red'>Set 2</font>: categorical(instead of one hot encoding, try <a href='https://www.appliedaicourse.com/course/applied-ai-course-online/lessons/handling-categorical-and-numerical-features/'>response coding</a>: use probability values), numerical features + project_title(TFIDF W2V)+  preprocessed_eassay (TFIDF W2V)</li>        </ul>\n",
        "    </li>\n",
        "    <li><strong>The hyper paramter tuning (Consider any two hyper parameters)</strong>\n",
        "        <ul>\n",
        "    <li>Find the best hyper parameter which will give the maximum <a href='https://www.appliedaicourse.com/course/applied-ai-course-online/lessons/receiver-operating-characteristic-curve-roc-curve-and-auc-1/'>AUC</a> value</li>\n",
        "    <li>find the best hyper paramter using k-fold cross validation/simple cross validation data</li>\n",
        "    <li>use gridsearch cv or randomsearch cv or you can write your own for loops to do this task</li>\n",
        "        </ul>\n",
        "    </li>\n",
        "    <li>\n",
        "    <strong>Representation of results</strong>\n",
        "        <ul>\n",
        "    <li>You need to plot the performance of model both on train data and cross validation data for each hyper parameter, like shown in the figure\n",
        "    <img src='https://i.imgur.com/Gp2DQmh.jpg' width=500px> with X-axis as <strong>n_estimators</strong>, Y-axis as <strong>max_depth</strong>, and Z-axis as <strong>AUC Score</strong> , we have given the notebook which explains how to plot this 3d plot, you can find it in the same drive <i>3d_scatter_plot.ipynb</i></li>\n",
        "            <p style=\"text-align:center;font-size:30px;color:red;\"><strong>or</strong></p> <br>\n",
        "    <li>You need to plot the performance of model both on train data and cross validation data for each hyper parameter, like shown in the figure\n",
        "    <img src='https://i.imgur.com/fgN9aUP.jpg' width=300px> <a href='https://seaborn.pydata.org/generated/seaborn.heatmap.html'>seaborn heat maps</a> with rows as <strong>n_estimators</strong>, columns as <strong>max_depth</strong>, and values inside the cell representing <strong>AUC Score</strong> </li>\n",
        "    <li>You choose either of the plotting techniques out of 3d plot or heat map</li>\n",
        "    <li>Once after you found the best hyper parameter, you need to train your model with it, and find the AUC on test data and plot the ROC curve on both train and test.\n",
        "    <img src='https://i.imgur.com/wMQDTFe.jpg' width=300px></li>\n",
        "    <li>Along with plotting ROC curve, you need to print the <a href='https://www.appliedaicourse.com/course/applied-ai-course-online/lessons/confusion-matrix-tpr-fpr-fnr-tnr-1/'>confusion matrix</a> with predicted and original labels of test data points\n",
        "    <img src='https://i.imgur.com/IdN5Ctv.png' width=300px></li>\n",
        "            </ul>\n",
        "    <br>\n",
        "    <li>You need to summarize the results at the end of the notebook, summarize it in the table format\n",
        "        <img src='http://i.imgur.com/YVpIGGE.jpg' width=400px>\n",
        "    </li>\n",
        "</ol>"
      ]
    },
    {
      "cell_type": "code",
      "metadata": {
        "id": "iffa2_WGsc3H",
        "outputId": "151fc2d5-3bc1-4206-9bd2-000dbf662b31"
      },
      "source": [
        "import nltk\n",
        "from nltk.sentiment.vader import SentimentIntensityAnalyzer\n",
        "\n",
        "# import nltk\n",
        "# nltk.download('vader_lexicon')\n",
        "\n",
        "sid = SentimentIntensityAnalyzer()\n",
        "\n",
        "for_sentiment = 'a person is a person no matter how small dr seuss i teach the smallest students with the biggest enthusiasm \\\n",
        "for learning my students learn in many different ways using all of our senses and multiple intelligences i use a wide range\\\n",
        "of techniques to help all my students succeed students in my class come from a variety of different backgrounds which makes\\\n",
        "for wonderful sharing of experiences and cultures including native americans our school is a caring community of successful \\\n",
        "learners which can be seen through collaborative student project based learning in and out of the classroom kindergarteners \\\n",
        "in my class love to work with hands on materials and have many different opportunities to practice a skill before it is\\\n",
        "mastered having the social skills to work cooperatively with friends is a crucial aspect of the kindergarten curriculum\\\n",
        "montana is the perfect place to learn about agriculture and nutrition my students love to role play in our pretend kitchen\\\n",
        "in the early childhood classroom i have had several kids ask me can we try cooking with real food i will take their idea \\\n",
        "and create common core cooking lessons where we learn important math and writing concepts while cooking delicious healthy \\\n",
        "food for snack time my students will have a grounded appreciation for the work that went into making the food and knowledge \\\n",
        "of where the ingredients came from as well as how it is healthy for their bodies this project would expand our learning of \\\n",
        "nutrition and agricultural cooking recipes by having us peel our own apples to make homemade applesauce make our own bread \\\n",
        "and mix up healthy plants from our classroom garden in the spring we will also create our own cookbooks to be printed and \\\n",
        "shared with families students will gain math and literature skills as well as a life long enjoyment for healthy cooking \\\n",
        "nannan'\n",
        "ss = sid.polarity_scores(for_sentiment)\n",
        "\n",
        "for k in ss:\n",
        "    print('{0}: {1}, '.format(k, ss[k]), end='')\n",
        "\n",
        "# we can use these 4 things as features/attributes (neg, neu, pos, compound)\n",
        "# neg: 0.0, neu: 0.753, pos: 0.247, compound: 0.93"
      ],
      "execution_count": null,
      "outputs": [
        {
          "name": "stderr",
          "output_type": "stream",
          "text": [
            "D:\\installed\\Anaconda3\\lib\\site-packages\\nltk\\twitter\\__init__.py:20: UserWarning:\n",
            "\n",
            "The twython library has not been installed. Some functionality from the twitter package will not be available.\n",
            "\n"
          ]
        },
        {
          "name": "stdout",
          "output_type": "stream",
          "text": [
            "neg: 0.01, neu: 0.745, pos: 0.245, compound: 0.9975, "
          ]
        }
      ]
    },
    {
      "cell_type": "code",
      "metadata": {
        "id": "CyhuFhUcTt6S"
      },
      "source": [
        ""
      ],
      "execution_count": null,
      "outputs": []
    },
    {
      "cell_type": "markdown",
      "metadata": {
        "id": "BOyTl7oKsc3W"
      },
      "source": [
        "<h1>1. GBDT (xgboost/lightgbm) </h1>"
      ]
    },
    {
      "cell_type": "markdown",
      "metadata": {
        "id": "VWge-b2Zsc3Z"
      },
      "source": [
        "## 1.1 Loading Data"
      ]
    },
    {
      "cell_type": "code",
      "metadata": {
        "colab": {
          "base_uri": "https://localhost:8080/"
        },
        "id": "WDZFu6-usc3d",
        "outputId": "1ebed222-f311-425c-8030-eb63c21db31e"
      },
      "source": [
        "from google.colab import drive\n",
        "drive.mount('/content/drive')  "
      ],
      "execution_count": 2,
      "outputs": [
        {
          "output_type": "stream",
          "name": "stdout",
          "text": [
            "Mounted at /content/drive\n"
          ]
        }
      ]
    },
    {
      "cell_type": "code",
      "metadata": {
        "id": "fUGnln7pZLYa"
      },
      "source": [
        "import pandas as pd\n",
        "project_data = pd.read_csv(\"/content/drive/MyDrive/Colab Notebooks/preprocessed_data.csv\")"
      ],
      "execution_count": 3,
      "outputs": []
    },
    {
      "cell_type": "markdown",
      "metadata": {
        "id": "6lAMFKFcsc3j"
      },
      "source": [
        "<h2>1.2 Splitting data into Train and cross validation(or test): Stratified Sampling</h2>"
      ]
    },
    {
      "cell_type": "code",
      "metadata": {
        "id": "ODMijuuNsc3l"
      },
      "source": [
        "# please write all the code with proper documentation, and proper titles for each subsection\n",
        "# go through documentations and blogs before you start coding\n",
        "# first figure out what to do, and then think about how to do.\n",
        "# reading and understanding error messages will be very much helpfull in debugging your code\n",
        "# when you plot any graph make sure you use \n",
        "    # a. Title, that describes your plot, this will be very helpful to the reader\n",
        "    # b. Legends if needed\n",
        "    # c. X-axis label\n",
        "    # d. Y-axis label"
      ],
      "execution_count": null,
      "outputs": []
    },
    {
      "cell_type": "code",
      "metadata": {
        "id": "IIXkyhFaYew5"
      },
      "source": [
        "%matplotlib inline\n",
        "import warnings\n",
        "warnings.filterwarnings(\"ignore\")\n",
        "\n",
        "import sqlite3\n",
        "import pandas as pd\n",
        "import numpy as np\n",
        "import nltk\n",
        "import string\n",
        "import matplotlib.pyplot as plt\n",
        "import seaborn as sns\n",
        "from sklearn.feature_extraction.text import TfidfTransformer\n",
        "from sklearn.feature_extraction.text import TfidfVectorizer\n",
        "\n",
        "from sklearn.feature_extraction.text import CountVectorizer\n",
        "from sklearn.metrics import confusion_matrix\n",
        "from sklearn import metrics\n",
        "from sklearn.metrics import roc_curve, auc\n",
        "from nltk.stem.porter import PorterStemmer\n",
        "\n",
        "import re\n",
        "# Tutorial about Python regular expressions: https://pymotw.com/2/re/\n",
        "import string\n",
        "from nltk.corpus import stopwords\n",
        "from nltk.stem import PorterStemmer\n",
        "from nltk.stem.wordnet import WordNetLemmatizer\n",
        "\n",
        "from gensim.models import Word2Vec\n",
        "from gensim.models import KeyedVectors\n",
        "import pickle\n",
        "\n",
        "from tqdm import tqdm\n",
        "import os\n",
        "\n",
        "#from plotly import plotly\n",
        "#import plotly.offline as offline\n",
        "#import plotly.graph_objs as go\n",
        "#offline.init_notebook_mode()\n",
        "from collections import Counter"
      ],
      "execution_count": 4,
      "outputs": []
    },
    {
      "cell_type": "code",
      "metadata": {
        "id": "S2akWvmhYfEI"
      },
      "source": [
        "from sklearn.model_selection import train_test_split\n",
        "from sklearn.model_selection import cross_val_score\n",
        "y=project_data['project_is_approved']\n",
        "project_data.drop(['project_is_approved'], axis=1)\n",
        "\n",
        "# split the data set into train and test\n",
        "X_train, X_test, y_train, y_test = train_test_split(project_data, y,test_size=0.3, random_state=0)\n",
        "\n",
        "# split the train data set into cross validation train and cross validation test\n",
        "X_tr, X_cv, y_tr, y_cv = train_test_split(X_train, y_train, test_size=0.3)"
      ],
      "execution_count": 5,
      "outputs": []
    },
    {
      "cell_type": "code",
      "metadata": {
        "id": "pMeCIPlLaW0G"
      },
      "source": [
        "#Vectorizing Categorical data\n",
        "def Categorical_Probabilities(ColName,alpha):\n",
        "        Cat_Counter=dict(X_tr[ColName].value_counts())  #The value_counts() function is used to get a Series containing counts of unique values.\n",
        "        #Cat_Counter  -> {'literacy_language': 11592, 'math_science': 8397, 'literacy_language math_science': 7182, 'health_sports': 4942, 'music_arts': 2555, 'specialneeds': 2081, 'literacy_language specialneeds': 1929, 'appliedlearning': 1812, 'math_science literacy_language': 1111, 'appliedlearning literacy_language': 1082, 'history_civics': 917, 'math_science specialneeds': 901, 'literacy_language music_arts': 900, 'math_science music_arts': 832, 'appliedlearning specialneeds': 714, 'history_civics literacy_language': 682, 'health_sports specialneeds': 661, 'warmth care_hunger': 660, 'math_science appliedlearning': 564, 'appliedlearning math_science': 491, 'health_sports literacy_language': 411, 'literacy_language history_civics': 404, 'appliedlearning music_arts': 351, 'math_science history_civics': 334, 'literacy_language appliedlearning': 298, 'appliedlearning health_sports': 297, 'math_science health_sports': 214, 'specialneeds music_arts': 166, 'history_civics music_arts': 152, 'history_civics math_science': 146, 'health_sports math_science': 135, 'history_civics specialneeds': 124, 'health_sports appliedlearning': 91, 'appliedlearning history_civics': 86, 'music_arts specialneeds': 76, 'health_sports music_arts': 67, 'literacy_language health_sports': 31, 'history_civics appliedlearning': 25, 'specialneeds health_sports': 24, 'health_sports history_civics': 22, 'specialneeds warmth care_hunger': 11, 'health_sports warmth care_hunger': 11, 'music_arts health_sports': 10, 'music_arts history_civics': 9, 'math_science warmth care_hunger': 9, 'literacy_language warmth care_hunger': 6, 'music_arts appliedlearning': 6, 'appliedlearning warmth care_hunger': 4, 'history_civics health_sports': 4, 'music_arts warmth care_hunger': 1, 'history_civics warmth care_hunger': 1}\n",
        "        #print(Cat_Counter)\n",
        "        probs={}\n",
        "        for i in Cat_Counter.keys():\n",
        "            df_0=  np.round(len(X_tr[(X_tr[\"project_is_approved\"] == 0) & (X_tr[ColName]==i)])+alpha*10/(Cat_Counter[i]+20*alpha),4)\n",
        "            #df_0--> 1479.0009,1508.0012 ...........\n",
        "            #print(X_tr[(X_tr[\"project_is_approved\"] == 0) & (X_tr[ColName]==i)])--> [1479 rows x 9 columns]....\n",
        "                  #school_state  ...    price\n",
        "           #49295           fl  ...   341.08\n",
        "            #print(X_tr[ColName]) -> 98649 math_science, 46266 literacy_language music_arts ,.....\n",
        "            df_1=  np.round(len(X_tr[(X_tr[\"project_is_approved\"] == 1) & (X_tr[ColName]==i)])+alpha*10/(Cat_Counter[i]+20*alpha),4)\n",
        "            #10113.0009,6889.0012 .....\n",
        "            probs[i] = [ np.round(df_0/(df_0+df_1),3), np.round(df_1/(df_0+df_1),3)] # holds the(c,d) values which tells the probablity of each unique value\n",
        "            #[0.128, 0.872], [0.18, 0.82].....                                                                       # in x_tr columns present belongs to which class\n",
        "            \n",
        "        return probs    \n",
        "    \n",
        "def Categorical_Hack(a,b):\n",
        "    if a in b.keys():\n",
        "        return b[a]\n",
        "    else:\n",
        "        return [0.5,0.5]  "
      ],
      "execution_count": 6,
      "outputs": []
    },
    {
      "cell_type": "code",
      "metadata": {
        "id": "s8UHN5kPaYKf"
      },
      "source": [
        "Categorical_Probs_cat = Categorical_Probabilities(\"clean_categories\",1) # this function returns\n",
        "#{'literacy_language': [0.128, 0.872], 'math_science': [0.18, 0.82], 'literacy_language math_science': [0.129, 0.871], 'health_sports': [0.153, 0.847],\n",
        "clean_categories_cat_hack = X_tr.apply(lambda x: Categorical_Hack(x[\"clean_categories\"],Categorical_Probs_cat), axis=1)  \n",
        "clean_categories_cat_hack=np.asarray(list(clean_categories_cat_hack))"
      ],
      "execution_count": 7,
      "outputs": []
    },
    {
      "cell_type": "code",
      "metadata": {
        "colab": {
          "base_uri": "https://localhost:8080/"
        },
        "id": "Ac4k0vi7aYNz",
        "outputId": "4f579df9-9778-4fe0-abb1-5ce87df8e169"
      },
      "source": [
        "features_final=list(set(X_tr[\"clean_categories\"]))\n",
        "len(features_final)"
      ],
      "execution_count": 8,
      "outputs": [
        {
          "output_type": "execute_result",
          "data": {
            "text/plain": [
              "51"
            ]
          },
          "metadata": {},
          "execution_count": 8
        }
      ]
    },
    {
      "cell_type": "code",
      "metadata": {
        "id": "bmxUhEQzaYQr"
      },
      "source": [
        "Categorical_Probs_subcat = Categorical_Probabilities(\"clean_subcategories\",1)\n",
        "clean_sub_categories_cat_hack = X_tr.apply(lambda x: Categorical_Hack(x[\"clean_subcategories\"],Categorical_Probs_subcat), axis=1)  \n",
        "len(clean_sub_categories_cat_hack)\n",
        "clean_sub_categories_cat_hack=np.asarray(list(clean_sub_categories_cat_hack))"
      ],
      "execution_count": 9,
      "outputs": []
    },
    {
      "cell_type": "code",
      "metadata": {
        "colab": {
          "base_uri": "https://localhost:8080/"
        },
        "id": "xQvReOzDaYTj",
        "outputId": "68e30889-e81f-433b-a0ad-fcf7dc45e26c"
      },
      "source": [
        "features_final=list(set(X_tr[\"clean_subcategories\"]))\n",
        "len(features_final)"
      ],
      "execution_count": 10,
      "outputs": [
        {
          "output_type": "execute_result",
          "data": {
            "text/plain": [
              "381"
            ]
          },
          "metadata": {},
          "execution_count": 10
        }
      ]
    },
    {
      "cell_type": "code",
      "metadata": {
        "colab": {
          "base_uri": "https://localhost:8080/"
        },
        "id": "n1AlIWOGaW3C",
        "outputId": "ee10ec8d-517e-4a7b-ec9f-d2003e947a03"
      },
      "source": [
        "clean_sub_categories_cat_hack.shape"
      ],
      "execution_count": 11,
      "outputs": [
        {
          "output_type": "execute_result",
          "data": {
            "text/plain": [
              "(53531, 2)"
            ]
          },
          "metadata": {},
          "execution_count": 11
        }
      ]
    },
    {
      "cell_type": "code",
      "metadata": {
        "colab": {
          "base_uri": "https://localhost:8080/"
        },
        "id": "5OuvgVzCaW56",
        "outputId": "a6671277-8bb0-4a1a-b6a2-0b1ea3d5e36e"
      },
      "source": [
        "Categorical_Probs_school_state = Categorical_Probabilities(\"school_state\",1)\n",
        "school_state_cat_hack = X_tr.apply(lambda x: Categorical_Hack(x[\"school_state\"], Categorical_Probs_school_state), axis=1)  \n",
        "school_state_cat_hack=np.asarray(list(school_state_cat_hack))\n",
        "school_state_cat_hack.shape"
      ],
      "execution_count": 12,
      "outputs": [
        {
          "output_type": "execute_result",
          "data": {
            "text/plain": [
              "(53531, 2)"
            ]
          },
          "metadata": {},
          "execution_count": 12
        }
      ]
    },
    {
      "cell_type": "code",
      "metadata": {
        "colab": {
          "base_uri": "https://localhost:8080/"
        },
        "id": "HBn43-ujaW9U",
        "outputId": "4c1d8834-22ea-4764-a50a-deb887706e9a"
      },
      "source": [
        "Categorical_Probs_project_grade_category = Categorical_Probabilities(\"project_grade_category\",1)\n",
        "project_grade_category_cat_hack = X_tr.apply(lambda x: Categorical_Hack(x[\"project_grade_category\"], Categorical_Probs_project_grade_category), axis=1)  \n",
        "project_grade_category_cat_hack=np.asarray(list(project_grade_category_cat_hack))\n",
        "project_grade_category_cat_hack.shape"
      ],
      "execution_count": 13,
      "outputs": [
        {
          "output_type": "execute_result",
          "data": {
            "text/plain": [
              "(53531, 2)"
            ]
          },
          "metadata": {},
          "execution_count": 13
        }
      ]
    },
    {
      "cell_type": "code",
      "metadata": {
        "colab": {
          "base_uri": "https://localhost:8080/"
        },
        "id": "8CQA2NseaXHO",
        "outputId": "3e85ef1d-9d18-4efb-bb2f-9521d153fdc6"
      },
      "source": [
        "X_tr['teacher_prefix']=X_tr['teacher_prefix'].fillna(\"Not Specefied\")\n",
        "Categorical_Probs_teacher_prefix = Categorical_Probabilities(\"teacher_prefix\",1)\n",
        "teacher_prefix_cat_hack = X_tr.apply(lambda x: Categorical_Hack(x[\"teacher_prefix\"], Categorical_Probs_teacher_prefix), axis=1)  \n",
        "teacher_prefix_cat_hack=np.asarray(list(teacher_prefix_cat_hack))\n",
        "teacher_prefix_cat_hack.shape"
      ],
      "execution_count": 14,
      "outputs": [
        {
          "output_type": "execute_result",
          "data": {
            "text/plain": [
              "(53531, 2)"
            ]
          },
          "metadata": {},
          "execution_count": 14
        }
      ]
    },
    {
      "cell_type": "code",
      "metadata": {
        "colab": {
          "base_uri": "https://localhost:8080/"
        },
        "id": "lQG-0QX2aXJ0",
        "outputId": "751be141-cafc-46c9-98c2-dc33578fe6c6"
      },
      "source": [
        "# We are considering only the words which appeared in at least 10 documents(rows or projects).\n",
        "vectorizer_essays_bow = CountVectorizer(min_df=10)\n",
        "text_bow = vectorizer_essays_bow.fit_transform(X_tr['essay'])\n",
        "print(\"Shape of matrix after one hot encodig \",text_bow.shape)\n",
        "\n"
      ],
      "execution_count": 15,
      "outputs": [
        {
          "output_type": "stream",
          "name": "stdout",
          "text": [
            "Shape of matrix after one hot encodig  (53531, 12564)\n"
          ]
        }
      ]
    },
    {
      "cell_type": "code",
      "metadata": {
        "id": "0imn1VDphJB6"
      },
      "source": [
        "tr_features_bow=vectorizer_essays_bow.get_feature_names()"
      ],
      "execution_count": 16,
      "outputs": []
    },
    {
      "cell_type": "code",
      "metadata": {
        "colab": {
          "base_uri": "https://localhost:8080/"
        },
        "id": "pK3iVMXaaXNK",
        "outputId": "a83e5012-01fd-4dd4-dff8-c71eb475985e"
      },
      "source": [
        "#TF-IDF vectorizer\n",
        "from sklearn.feature_extraction.text import TfidfVectorizer\n",
        "vectorizer_essays_tfidf = TfidfVectorizer(min_df=10)\n",
        "text_tfidf = vectorizer_essays_tfidf.fit_transform(X_tr['essay'])\n",
        "print(\"Shape of matrix after one hot encodig \",text_tfidf.shape)\n",
        "text_tfidf_train =text_tfidf"
      ],
      "execution_count": 17,
      "outputs": [
        {
          "output_type": "stream",
          "name": "stdout",
          "text": [
            "Shape of matrix after one hot encodig  (53531, 12564)\n"
          ]
        }
      ]
    },
    {
      "cell_type": "code",
      "metadata": {
        "id": "lgX137zFaXQS"
      },
      "source": [
        "import os\n",
        "f = open('/content/drive/MyDrive/Colab Notebooks/glove_vectors', 'rb')\n",
        "model = pickle.load(f)\n",
        "glove_words =  set(model.keys())\n",
        "\n"
      ],
      "execution_count": 18,
      "outputs": []
    },
    {
      "cell_type": "code",
      "metadata": {
        "colab": {
          "base_uri": "https://localhost:8080/"
        },
        "id": "Pr_n_aA-naD8",
        "outputId": "5f9b41bc-5394-4c10-a7ca-09a6bd163249"
      },
      "source": [
        "# average Word2Vec\n",
        "# compute average word2vec for each review.\n",
        "avg_w2v_vectors = []; # the avg-w2v for each sentence/review is stored in this list\n",
        "for sentence in tqdm(X_tr['essay']): # for each review/sentence\n",
        "    vector = np.zeros(300) # as word vectors are of zero length\n",
        "    cnt_words =0; # num of words with a valid vector in the sentence/review\n",
        "    for word in sentence.split(): # for each word in a review/sentence\n",
        "        if word in glove_words:\n",
        "            vector += model[word]\n",
        "            cnt_words += 1\n",
        "    if cnt_words != 0:\n",
        "        vector /= cnt_words\n",
        "    avg_w2v_vectors.append(vector)\n",
        "\n",
        "print(len(avg_w2v_vectors))\n",
        "print(len(avg_w2v_vectors[0]))"
      ],
      "execution_count": 19,
      "outputs": [
        {
          "output_type": "stream",
          "name": "stderr",
          "text": [
            "100%|██████████| 53531/53531 [00:16<00:00, 3216.30it/s]"
          ]
        },
        {
          "output_type": "stream",
          "name": "stdout",
          "text": [
            "53531\n",
            "300\n"
          ]
        },
        {
          "output_type": "stream",
          "name": "stderr",
          "text": [
            "\n"
          ]
        }
      ]
    },
    {
      "cell_type": "code",
      "metadata": {
        "id": "oAWFUlBZnaHU"
      },
      "source": [
        "#Using Pretrained Models: TFIDF weighted W2V\n",
        "# S = [\"abc def pqr\", \"def def def abc\", \"pqr pqr def\"]\n",
        "tfidf_model_essays = TfidfVectorizer()\n",
        "tfidf_model_essays.fit(X_tr['essay'])\n",
        "# we are converting a dictionary with word as a key, and the idf as a value\n",
        "dictionary = dict(zip(tfidf_model_essays.get_feature_names(), list(tfidf_model_essays.idf_)))\n",
        "tfidf_words = set(tfidf_model_essays.get_feature_names())"
      ],
      "execution_count": 20,
      "outputs": []
    },
    {
      "cell_type": "code",
      "metadata": {
        "colab": {
          "base_uri": "https://localhost:8080/"
        },
        "id": "fU2YA7oKnaKG",
        "outputId": "e2e725e6-9b7f-4b1d-c43e-a121315e5794"
      },
      "source": [
        "# average Word2Vec\n",
        "# compute average word2vec for each review.\n",
        "tfidf_w2v_vectors = []; # the avg-w2v for each sentence/review is stored in this list\n",
        "for sentence in tqdm(X_tr['essay']): # for each review/sentence\n",
        "    vector = np.zeros(300) # as word vectors are of zero length\n",
        "    tf_idf_weight =0; # num of words with a valid vector in the sentence/review\n",
        "    for word in sentence.split(): # for each word in a review/sentence\n",
        "        if (word in glove_words) and (word in tfidf_words):\n",
        "            vec = model[word] # getting the vector for each word\n",
        "            # here we are multiplying idf value(dictionary[word]) and the tf value((sentence.count(word)/len(sentence.split())))\n",
        "            tf_idf = dictionary[word]*(sentence.count(word)/len(sentence.split())) # getting the tfidf value for each word\n",
        "            vector += (vec * tf_idf) # calculating tfidf weighted w2v\n",
        "            tf_idf_weight += tf_idf\n",
        "    if tf_idf_weight != 0:\n",
        "        vector /= tf_idf_weight\n",
        "    tfidf_w2v_vectors.append(vector)\n",
        "\n",
        "print(len(tfidf_w2v_vectors))\n",
        "print(len(tfidf_w2v_vectors[0]))"
      ],
      "execution_count": 21,
      "outputs": [
        {
          "output_type": "stream",
          "name": "stderr",
          "text": [
            "100%|██████████| 53531/53531 [01:54<00:00, 468.47it/s]"
          ]
        },
        {
          "output_type": "stream",
          "name": "stdout",
          "text": [
            "53531\n",
            "300\n"
          ]
        },
        {
          "output_type": "stream",
          "name": "stderr",
          "text": [
            "\n"
          ]
        }
      ]
    },
    {
      "cell_type": "code",
      "metadata": {
        "colab": {
          "base_uri": "https://localhost:8080/"
        },
        "id": "wisUVEREnaNE",
        "outputId": "fc4a71c2-c50d-43c2-e339-389ab2617c97"
      },
      "source": [
        "#Vectorizing Numerical features\n",
        "# check this one: https://www.youtube.com/watch?v=0HOqOcln3Z4&t=530s\n",
        "# standardization sklearn: https://scikit-learn.org/stable/modules/generated/sklearn.preprocessing.StandardScaler.html\n",
        "from sklearn.preprocessing import StandardScaler\n",
        "\n",
        "# price_standardized = standardScalar.fit(project_data['price'].values)\n",
        "# this will rise the error\n",
        "# ValueError: Expected 2D array, got 1D array instead: array=[725.05 213.03 329.   ... 399.   287.73   5.5 ].\n",
        "# Reshape your data either using array.reshape(-1, 1)\n",
        "\n",
        "price_scalar = StandardScaler()\n",
        "price_scalar.fit(X_tr['price'].values.reshape(-1,1)) # finding the mean and standard deviation of this data\n",
        "print(f\"Mean : {price_scalar.mean_[0]}, Standard deviation : {np.sqrt(price_scalar.var_[0])}\")\n",
        "\n",
        "# Now standardize the data with above maen and variance.\n",
        "price_standardized = price_scalar.transform(X_tr['price'].values.reshape(-1, 1))\n",
        "price_standardized_train = price_standardized"
      ],
      "execution_count": 22,
      "outputs": [
        {
          "output_type": "stream",
          "name": "stdout",
          "text": [
            "Mean : 298.9400192411874, Standard deviation : 368.49504525983014\n"
          ]
        }
      ]
    },
    {
      "cell_type": "code",
      "metadata": {
        "colab": {
          "base_uri": "https://localhost:8080/"
        },
        "id": "qVl1qjKYnaQj",
        "outputId": "544cce37-f491-4590-fe1e-469c512d6091"
      },
      "source": [
        "price_standardized_train"
      ],
      "execution_count": 23,
      "outputs": [
        {
          "output_type": "execute_result",
          "data": {
            "text/plain": [
              "array([[-0.00404353],\n",
              "       [-0.54193407],\n",
              "       [ 0.78462379],\n",
              "       ...,\n",
              "       [ 1.16435753],\n",
              "       [ 0.17104702],\n",
              "       [ 0.58261294]])"
            ]
          },
          "metadata": {},
          "execution_count": 23
        }
      ]
    },
    {
      "cell_type": "code",
      "metadata": {
        "id": "QqNyVAo1naVK"
      },
      "source": [
        "#numerical quqntity is not required here"
      ],
      "execution_count": null,
      "outputs": []
    },
    {
      "cell_type": "code",
      "metadata": {
        "colab": {
          "base_uri": "https://localhost:8080/"
        },
        "id": "PaSeiNGwnaX5",
        "outputId": "b80a33c1-a937-4548-9053-6327e7e53fa2"
      },
      "source": [
        "# check this one: https://www.youtube.com/watch?v=0HOqOcln3Z4&t=530s\n",
        "# standardization sklearn: https://scikit-learn.org/stable/modules/generated/sklearn.preprocessing.StandardScaler.html\n",
        "from sklearn.preprocessing import StandardScaler\n",
        "\n",
        "# price_standardized = standardScalar.fit(project_data['price'].values)\n",
        "# this will rise the error\n",
        "# ValueError: Expected 2D array, got 1D array instead: array=[725.05 213.03 329.   ... 399.   287.73   5.5 ].\n",
        "# Reshape your data either using array.reshape(-1, 1)\n",
        "\n",
        "teacher_number_of_previously_posted_projects_scalar = StandardScaler()\n",
        "teacher_number_of_previously_posted_projects_scalar.fit(X_tr['teacher_number_of_previously_posted_projects'].values.reshape(-1,1)) # finding the mean and standard deviation of this data\n",
        "print(f\"Mean : {teacher_number_of_previously_posted_projects_scalar.mean_[0]}, Standard deviation : {np.sqrt(teacher_number_of_previously_posted_projects_scalar.var_[0])}\")\n",
        "\n",
        "# Now standardize the data with above maen and variance.\n",
        "teacher_number_of_previously_posted_projects_standardized = teacher_number_of_previously_posted_projects_scalar.transform(X_tr['teacher_number_of_previously_posted_projects'].values.reshape(-1, 1))\n",
        "teacher_number_of_previously_posted_projects_standardized_train =teacher_number_of_previously_posted_projects_standardized"
      ],
      "execution_count": 24,
      "outputs": [
        {
          "output_type": "stream",
          "name": "stdout",
          "text": [
            "Mean : 11.199118267919523, Standard deviation : 27.82620675843265\n"
          ]
        }
      ]
    },
    {
      "cell_type": "code",
      "metadata": {
        "colab": {
          "base_uri": "https://localhost:8080/"
        },
        "id": "_U9NkzWBnabA",
        "outputId": "4f4b3d69-b8e6-4bbd-cc81-ee36b8477dff"
      },
      "source": [
        "#Merging all the above features\n",
        "print(clean_categories_cat_hack.shape)\n",
        "print(clean_sub_categories_cat_hack.shape)\n",
        "print(school_state_cat_hack.shape)\n",
        "print(project_grade_category_cat_hack.shape)\n",
        "print(teacher_prefix_cat_hack.shape)\n",
        "print(teacher_number_of_previously_posted_projects_standardized.shape)\n",
        "#print(quantity_standardized.shape)\n",
        "print(price_standardized.shape)\n",
        "print(text_bow.shape)\n",
        "#print(titles_bow.shape)"
      ],
      "execution_count": 25,
      "outputs": [
        {
          "output_type": "stream",
          "name": "stdout",
          "text": [
            "(53531, 2)\n",
            "(53531, 2)\n",
            "(53531, 2)\n",
            "(53531, 2)\n",
            "(53531, 2)\n",
            "(53531, 1)\n",
            "(53531, 1)\n",
            "(53531, 12564)\n"
          ]
        }
      ]
    },
    {
      "cell_type": "code",
      "metadata": {
        "colab": {
          "base_uri": "https://localhost:8080/"
        },
        "id": "_YHNmGfJuK2I",
        "outputId": "95cbd13d-f22b-4ed2-c554-e0d3b87a9345"
      },
      "source": [
        "clean_categories_cat_hack[0]"
      ],
      "execution_count": 26,
      "outputs": [
        {
          "output_type": "execute_result",
          "data": {
            "text/plain": [
              "array([0.153, 0.847])"
            ]
          },
          "metadata": {},
          "execution_count": 26
        }
      ]
    },
    {
      "cell_type": "code",
      "metadata": {
        "colab": {
          "base_uri": "https://localhost:8080/"
        },
        "id": "XpiTfmJ6uK5r",
        "outputId": "9306a863-a5f3-4125-c58b-01df1dfe82aa"
      },
      "source": [
        "print(X_tr['teacher_prefix'].fillna(\"Not Specefied\").shape)\n",
        "print(X_tr['clean_categories'].shape)\n",
        "print(X_tr['clean_subcategories'].shape)\n",
        "print(X_tr['school_state'].shape)\n",
        "print(X_tr['school_state'].shape)"
      ],
      "execution_count": 27,
      "outputs": [
        {
          "output_type": "stream",
          "name": "stdout",
          "text": [
            "(53531,)\n",
            "(53531,)\n",
            "(53531,)\n",
            "(53531,)\n",
            "(53531,)\n"
          ]
        }
      ]
    },
    {
      "cell_type": "code",
      "metadata": {
        "id": "gLA3-h3YuK90"
      },
      "source": [
        "#Preparing Data for set-1\n",
        "# merge two sparse matrices: https://stackoverflow.com/a/19710648/4084039\n",
        "from scipy.sparse import hstack\n",
        "# with the same hstack function we are concatinating a sparse matrix and a dense matirx \n",
        "# X1 Data for set1\n",
        "X1_tr = hstack((clean_categories_cat_hack, clean_sub_categories_cat_hack,school_state_cat_hack,project_grade_category_cat_hack,teacher_prefix_cat_hack,teacher_number_of_previously_posted_projects_standardized,\n",
        "            price_standardized,text_bow))\n",
        "# X2 Data for set2\n",
        "X2_tr = hstack((clean_categories_cat_hack, clean_sub_categories_cat_hack,school_state_cat_hack,project_grade_category_cat_hack,teacher_prefix_cat_hack,teacher_number_of_previously_posted_projects_standardized,\\\n",
        "        price_standardized,text_tfidf))"
      ],
      "execution_count": 28,
      "outputs": []
    },
    {
      "cell_type": "code",
      "metadata": {
        "colab": {
          "base_uri": "https://localhost:8080/"
        },
        "id": "Fou-1wS9uLCj",
        "outputId": "617cda57-8720-446a-dce6-a67381dccf7c"
      },
      "source": [
        "print(X1_tr.shape)\n",
        "print(X2_tr.shape)"
      ],
      "execution_count": 29,
      "outputs": [
        {
          "output_type": "stream",
          "name": "stdout",
          "text": [
            "(53531, 12576)\n",
            "(53531, 12576)\n"
          ]
        }
      ]
    },
    {
      "cell_type": "code",
      "metadata": {
        "colab": {
          "base_uri": "https://localhost:8080/"
        },
        "id": "Q-M49icLuLGS",
        "outputId": "30b1735b-8a15-48dd-cd46-bdbaec55cce9"
      },
      "source": [
        "avg_w2v_vectors[0].shape\n",
        "avg_w2v_vectors = np.asarray(avg_w2v_vectors)\n",
        "print(avg_w2v_vectors.shape)"
      ],
      "execution_count": 30,
      "outputs": [
        {
          "output_type": "stream",
          "name": "stdout",
          "text": [
            "(53531, 300)\n"
          ]
        }
      ]
    },
    {
      "cell_type": "code",
      "metadata": {
        "colab": {
          "base_uri": "https://localhost:8080/"
        },
        "id": "SYiE0hEGuLLD",
        "outputId": "4e4c6e7a-ef08-495c-9118-e441b28dbe5d"
      },
      "source": [
        "print(clean_categories_cat_hack.shape)\n",
        "print(clean_sub_categories_cat_hack.shape)\n",
        "print(school_state_cat_hack.shape)\n",
        "print(project_grade_category_cat_hack.shape)\n",
        "print(teacher_prefix_cat_hack.shape)\n",
        "print(teacher_number_of_previously_posted_projects_standardized.shape)\n",
        "#print(quantity_standardized.shape)\n",
        "print(price_standardized.shape)\n",
        "print(avg_w2v_vectors.shape)\n",
        "#print(avg_w2v_titles_vectors.shape)"
      ],
      "execution_count": 31,
      "outputs": [
        {
          "output_type": "stream",
          "name": "stdout",
          "text": [
            "(53531, 2)\n",
            "(53531, 2)\n",
            "(53531, 2)\n",
            "(53531, 2)\n",
            "(53531, 2)\n",
            "(53531, 1)\n",
            "(53531, 1)\n",
            "(53531, 300)\n"
          ]
        }
      ]
    },
    {
      "cell_type": "code",
      "metadata": {
        "colab": {
          "base_uri": "https://localhost:8080/"
        },
        "id": "ogwoCGs5BNqf",
        "outputId": "425fc038-5e7e-4617-e0ab-883c19efd5ac"
      },
      "source": [
        "#https://docs.scipy.org/doc/numpy-1.10.1/reference/generated/numpy.column_stack.html\n",
        "X3_tr=np.column_stack((clean_categories_cat_hack, clean_sub_categories_cat_hack,school_state_cat_hack,project_grade_category_cat_hack,teacher_prefix_cat_hack,teacher_number_of_previously_posted_projects_standardized,price_standardized,avg_w2v_vectors))\n",
        "X3_tr.shape"
      ],
      "execution_count": 32,
      "outputs": [
        {
          "output_type": "execute_result",
          "data": {
            "text/plain": [
              "(53531, 312)"
            ]
          },
          "metadata": {},
          "execution_count": 32
        }
      ]
    },
    {
      "cell_type": "code",
      "metadata": {
        "id": "56QuQMwTBNtd"
      },
      "source": [
        "# X4 Data for set4\n",
        "X4_tr = np.column_stack((clean_categories_cat_hack, clean_sub_categories_cat_hack,school_state_cat_hack,project_grade_category_cat_hack,teacher_prefix_cat_hack,teacher_number_of_previously_posted_projects_standardized,\\\n",
        "            price_standardized,tfidf_w2v_vectors))\n",
        "\n",
        "#Preparing labels\n",
        "y_tr=X_tr['project_is_approved']"
      ],
      "execution_count": 33,
      "outputs": []
    },
    {
      "cell_type": "code",
      "metadata": {
        "colab": {
          "base_uri": "https://localhost:8080/"
        },
        "id": "rPvpOBJvBNw6",
        "outputId": "bbbbe59e-d116-4732-ce85-8c5938c87f25"
      },
      "source": [
        "print(X1_tr.shape)\n",
        "print(X2_tr.shape)\n",
        "print(X3_tr.shape)\n",
        "print(X4_tr.shape)\n",
        "print(y_tr.shape)"
      ],
      "execution_count": 34,
      "outputs": [
        {
          "output_type": "stream",
          "name": "stdout",
          "text": [
            "(53531, 12576)\n",
            "(53531, 12576)\n",
            "(53531, 312)\n",
            "(53531, 312)\n",
            "(53531,)\n"
          ]
        }
      ]
    },
    {
      "cell_type": "code",
      "metadata": {
        "colab": {
          "base_uri": "https://localhost:8080/"
        },
        "id": "wZO-MWy1BNzN",
        "outputId": "b45074aa-b605-4588-80e9-05445328e011"
      },
      "source": [
        "import nltk\n",
        "nltk.download('vader_lexicon')\n",
        "\n",
        "import nltk\n",
        "from nltk.sentiment.vader import SentimentIntensityAnalyzer\n",
        "\n",
        "# import nltk\n",
        "# nltk.download('vader_lexicon')\n",
        "\n",
        "sid = SentimentIntensityAnalyzer()\n",
        "\n",
        "for_sentiment = 'a person is a person no matter how small dr seuss i teach the smallest students with the biggest enthusiasm \\\n",
        "for learning my students learn in many different ways using all of our senses and multiple intelligences i use a wide range\\\n",
        "of techniques to help all my students succeed students in my class come from a variety of different backgrounds which makes\\\n",
        "for wonderful sharing of experiences and cultures including native americans our school is a caring community of successful \\\n",
        "learners which can be seen through collaborative student project based learning in and out of the classroom kindergarteners \\\n",
        "in my class love to work with hands on materials and have many different opportunities to practice a skill before it is\\\n",
        "mastered having the social skills to work cooperatively with friends is a crucial aspect of the kindergarten curriculum\\\n",
        "montana is the perfect place to learn about agriculture and nutrition my students love to role play in our pretend kitchen\\\n",
        "in the early childhood classroom i have had several kids ask me can we try cooking with real food i will take their idea \\\n",
        "and create common core cooking lessons where we learn important math and writing concepts while cooking delicious healthy \\\n",
        "food for snack time my students will have a grounded appreciation for the work that went into making the food and knowledge \\\n",
        "of where the ingredients came from as well as how it is healthy for their bodies this project would expand our learning of \\\n",
        "nutrition and agricultural cooking recipes by having us peel our own apples to make homemade applesauce make our own bread \\\n",
        "and mix up healthy plants from our classroom garden in the spring we will also create our own cookbooks to be printed and \\\n",
        "shared with families students will gain math and literature skills as well as a life long enjoyment for healthy cooking \\\n",
        "nannan'\n",
        "ss = sid.polarity_scores(for_sentiment)\n",
        "\n",
        "for k in ss:\n",
        "    print('{0}: {1}, '.format(k, ss[k]), end='')\n",
        "\n",
        "# we can use these 4 things as features/attributes (neg, neu, pos, compound)\n",
        "# neg: 0.0, neu: 0.753, pos: 0.247, compound: 0.93"
      ],
      "execution_count": 35,
      "outputs": [
        {
          "output_type": "stream",
          "name": "stdout",
          "text": [
            "[nltk_data] Downloading package vader_lexicon to /root/nltk_data...\n",
            "neg: 0.01, neu: 0.745, pos: 0.245, compound: 0.9975, "
          ]
        }
      ]
    },
    {
      "cell_type": "code",
      "metadata": {
        "id": "WuYAK6QDCdI6"
      },
      "source": [
        "#Preprocessing and Vectorising Test and CV data"
      ],
      "execution_count": null,
      "outputs": []
    },
    {
      "cell_type": "code",
      "metadata": {
        "colab": {
          "base_uri": "https://localhost:8080/"
        },
        "id": "syktGd6yBN2B",
        "outputId": "e2baa3dc-0b16-4649-c125-edfe0e791df6"
      },
      "source": [
        "#Categorical Features\n",
        "clean_categories_cat_hack = X_cv.apply(lambda x: Categorical_Hack(x[\"clean_categories\"],Categorical_Probs_cat), axis=1)  \n",
        "clean_categories_cat_hack=np.asarray(list(clean_categories_cat_hack))\n",
        "clean_categories_cat_hack.shape"
      ],
      "execution_count": 36,
      "outputs": [
        {
          "output_type": "execute_result",
          "data": {
            "text/plain": [
              "(22942, 2)"
            ]
          },
          "metadata": {},
          "execution_count": 36
        }
      ]
    },
    {
      "cell_type": "code",
      "metadata": {
        "colab": {
          "base_uri": "https://localhost:8080/"
        },
        "id": "qI9yU_TeBN4g",
        "outputId": "68dd58a6-80a5-41dc-b8ee-699ac2c5ce80"
      },
      "source": [
        "clean_sub_categories_cat_hack = X_cv.apply(lambda x: Categorical_Hack(x[\"clean_subcategories\"],Categorical_Probs_subcat), axis=1)  \n",
        "clean_sub_categories_cat_hack=np.asarray(list(clean_sub_categories_cat_hack))\n",
        "clean_sub_categories_cat_hack.shape"
      ],
      "execution_count": 37,
      "outputs": [
        {
          "output_type": "execute_result",
          "data": {
            "text/plain": [
              "(22942, 2)"
            ]
          },
          "metadata": {},
          "execution_count": 37
        }
      ]
    },
    {
      "cell_type": "code",
      "metadata": {
        "colab": {
          "base_uri": "https://localhost:8080/"
        },
        "id": "bG7C6sxJBN7d",
        "outputId": "c012558c-68ab-43dc-84e9-6533705cff0a"
      },
      "source": [
        "school_state_cat_hack = X_cv.apply(lambda x: Categorical_Hack(x[\"school_state\"], Categorical_Probs_school_state), axis=1)  \n",
        "school_state_cat_hack=np.asarray(list(school_state_cat_hack))\n",
        "school_state_cat_hack.shape"
      ],
      "execution_count": 38,
      "outputs": [
        {
          "output_type": "execute_result",
          "data": {
            "text/plain": [
              "(22942, 2)"
            ]
          },
          "metadata": {},
          "execution_count": 38
        }
      ]
    },
    {
      "cell_type": "code",
      "metadata": {
        "colab": {
          "base_uri": "https://localhost:8080/"
        },
        "id": "gbEQv-WHBN-7",
        "outputId": "59f46579-0259-49cc-a672-96908c6eacb2"
      },
      "source": [
        "project_grade_category_cat_hack = X_cv.apply(lambda x: Categorical_Hack(x[\"project_grade_category\"], Categorical_Probs_project_grade_category), axis=1)  \n",
        "project_grade_category_cat_hack=np.asarray(list(project_grade_category_cat_hack))\n",
        "project_grade_category_cat_hack.shape"
      ],
      "execution_count": 39,
      "outputs": [
        {
          "output_type": "execute_result",
          "data": {
            "text/plain": [
              "(22942, 2)"
            ]
          },
          "metadata": {},
          "execution_count": 39
        }
      ]
    },
    {
      "cell_type": "code",
      "metadata": {
        "colab": {
          "base_uri": "https://localhost:8080/"
        },
        "id": "5h9aV-wQC7Nw",
        "outputId": "9a10b6a9-b145-4cd2-be40-334a428744aa"
      },
      "source": [
        "X_cv['teacher_prefix']=X_cv['teacher_prefix'].fillna(\"Not Specefied\")\n",
        "teacher_prefix_cat_hack = X_cv.apply(lambda x: Categorical_Hack(x[\"teacher_prefix\"], Categorical_Probs_teacher_prefix), axis=1)  \n",
        "teacher_prefix_cat_hack=np.asarray(list(teacher_prefix_cat_hack))\n",
        "teacher_prefix_cat_hack.shape"
      ],
      "execution_count": 40,
      "outputs": [
        {
          "output_type": "execute_result",
          "data": {
            "text/plain": [
              "(22942, 2)"
            ]
          },
          "metadata": {},
          "execution_count": 40
        }
      ]
    },
    {
      "cell_type": "code",
      "metadata": {
        "colab": {
          "base_uri": "https://localhost:8080/"
        },
        "id": "9BKz6UvNC7Qp",
        "outputId": "b52a092e-c12f-434b-ebd0-62072729d4aa"
      },
      "source": [
        "#BOW\n",
        "text_bow = vectorizer_essays_bow.transform(X_cv['essay'])\n",
        "print(\"Shape of matrix after one hot encodig \",text_bow.shape)\n",
        "\n",
        "\n",
        "\n",
        "bow_words_tr=vectorizer_essays_bow.get_feature_names()\n",
        "#print(bow_words_tr)"
      ],
      "execution_count": 41,
      "outputs": [
        {
          "output_type": "stream",
          "name": "stdout",
          "text": [
            "Shape of matrix after one hot encodig  (22942, 12564)\n"
          ]
        }
      ]
    },
    {
      "cell_type": "code",
      "metadata": {
        "colab": {
          "base_uri": "https://localhost:8080/"
        },
        "id": "p4UL6baDC7Tp",
        "outputId": "e5a0ba8e-7126-4eac-b080-a1446b38b27e"
      },
      "source": [
        "k=[\"6\"]\n",
        "j=[\"5\"]\n",
        "k+j"
      ],
      "execution_count": 42,
      "outputs": [
        {
          "output_type": "execute_result",
          "data": {
            "text/plain": [
              "['6', '5']"
            ]
          },
          "metadata": {},
          "execution_count": 42
        }
      ]
    },
    {
      "cell_type": "code",
      "metadata": {
        "colab": {
          "base_uri": "https://localhost:8080/"
        },
        "id": "vcrossOlC7Wp",
        "outputId": "2ea11406-b57c-4bcd-b7ec-bd1ba2633bf1"
      },
      "source": [
        "#TFIDF\n",
        "text_tfidf = vectorizer_essays_tfidf.transform(X_cv['essay'])\n",
        "print(\"Shape of matrix after one hot encodig \",text_tfidf.shape)\n",
        "\n",
        "text_tfidf_cv = text_tfidf\n",
        "\n",
        "tfidf_words_tr=vectorizer_essays_tfidf.get_feature_names()"
      ],
      "execution_count": 43,
      "outputs": [
        {
          "output_type": "stream",
          "name": "stdout",
          "text": [
            "Shape of matrix after one hot encodig  (22942, 12564)\n"
          ]
        }
      ]
    },
    {
      "cell_type": "code",
      "metadata": {
        "colab": {
          "base_uri": "https://localhost:8080/"
        },
        "id": "QqQ2bWw8C7Zd",
        "outputId": "ac16e27f-dc08-4ddb-a29d-3a4f59b13848"
      },
      "source": [
        "# average Word2Vec\n",
        "# compute average word2vec for each review.\n",
        "avg_w2v_vectors = []; # the avg-w2v for each sentence/review is stored in this list\n",
        "for sentence in tqdm(X_cv['essay']): # for each review/sentence\n",
        "    vector = np.zeros(300) # as word vectors are of zero length\n",
        "    cnt_words =0; # num of words with a valid vector in the sentence/review\n",
        "    for word in sentence.split(): # for each word in a review/sentence\n",
        "        if word in glove_words:\n",
        "            vector += model[word]\n",
        "            cnt_words += 1\n",
        "    if cnt_words != 0:\n",
        "        vector /= cnt_words\n",
        "    avg_w2v_vectors.append(vector)\n",
        "\n",
        "print(len(avg_w2v_vectors))\n",
        "print(len(avg_w2v_vectors[0]))\n"
      ],
      "execution_count": 44,
      "outputs": [
        {
          "output_type": "stream",
          "name": "stderr",
          "text": [
            "100%|██████████| 22942/22942 [00:07<00:00, 3139.95it/s]"
          ]
        },
        {
          "output_type": "stream",
          "name": "stdout",
          "text": [
            "22942\n",
            "300\n"
          ]
        },
        {
          "output_type": "stream",
          "name": "stderr",
          "text": [
            "\n"
          ]
        }
      ]
    },
    {
      "cell_type": "code",
      "metadata": {
        "colab": {
          "base_uri": "https://localhost:8080/"
        },
        "id": "yamvPdH9C7cR",
        "outputId": "185d02a8-c2f7-4e3a-e77c-0e672f42ba37"
      },
      "source": [
        "#TFIDF weighted W2V\n",
        "\n",
        "tfidf_model_essays.transform(X_cv['essay'])\n",
        "# we are converting a dictionary with word as a key, and the idf as a value\n",
        "dictionary = dict(zip(tfidf_model_essays.get_feature_names(), list(tfidf_model_essays.idf_)))\n",
        "tfidf_words = set(tfidf_model_essays.get_feature_names())\n",
        "\n",
        "# average Word2Vec\n",
        "# compute average word2vec for each review.\n",
        "tfidf_w2v_vectors = []; # the avg-w2v for each sentence/review is stored in this list\n",
        "for sentence in tqdm(X_cv['essay']): # for each review/sentence\n",
        "    vector = np.zeros(300) # as word vectors are of zero length\n",
        "    tf_idf_weight =0; # num of words with a valid vector in the sentence/review\n",
        "    for word in sentence.split(): # for each word in a review/sentence\n",
        "        if (word in glove_words) and (word in tfidf_words):\n",
        "            vec = model[word] # getting the vector for each word\n",
        "            # here we are multiplying idf value(dictionary[word]) and the tf value((sentence.count(word)/len(sentence.split())))\n",
        "            tf_idf = dictionary[word]*(sentence.count(word)/len(sentence.split())) # getting the tfidf value for each word\n",
        "            vector += (vec * tf_idf) # calculating tfidf weighted w2v\n",
        "            tf_idf_weight += tf_idf\n",
        "    if tf_idf_weight != 0:\n",
        "        vector /= tf_idf_weight\n",
        "    tfidf_w2v_vectors.append(vector)\n",
        "\n",
        "print(len(tfidf_w2v_vectors))\n",
        "print(len(tfidf_w2v_vectors[0]))\n",
        "\n"
      ],
      "execution_count": 45,
      "outputs": [
        {
          "output_type": "stream",
          "name": "stderr",
          "text": [
            "100%|██████████| 22942/22942 [00:48<00:00, 475.72it/s]"
          ]
        },
        {
          "output_type": "stream",
          "name": "stdout",
          "text": [
            "22942\n",
            "300\n"
          ]
        },
        {
          "output_type": "stream",
          "name": "stderr",
          "text": [
            "\n"
          ]
        }
      ]
    },
    {
      "cell_type": "code",
      "metadata": {
        "id": "ZuTPaKtJC7eo"
      },
      "source": [
        "# Numerical Features\n",
        "price_standardized = price_scalar.transform(X_cv['price'].values.reshape(-1, 1))\n",
        "teacher_number_of_previously_posted_projects_standardized = teacher_number_of_previously_posted_projects_scalar.transform(X_cv['teacher_number_of_previously_posted_projects'].values.reshape(-1, 1))\n",
        "\n",
        "price_standardized_cv= price_standardized\n",
        "\n",
        "teacher_number_of_previously_posted_projects_standardized_cv =teacher_number_of_previously_posted_projects_standardized"
      ],
      "execution_count": 46,
      "outputs": []
    },
    {
      "cell_type": "code",
      "metadata": {
        "colab": {
          "base_uri": "https://localhost:8080/"
        },
        "id": "Mnro4__NC7hf",
        "outputId": "47d060ae-ed47-47b1-b761-0c0caa18e641"
      },
      "source": [
        "#Mearging CV features\n",
        "print(clean_categories_cat_hack.shape)\n",
        "print(clean_sub_categories_cat_hack.shape)\n",
        "print(school_state_cat_hack.shape)\n",
        "print(project_grade_category_cat_hack.shape)\n",
        "print(teacher_prefix_cat_hack.shape)\n",
        "print(teacher_number_of_previously_posted_projects_standardized.shape)\n",
        "#print(quantity_standardized.shape)\n",
        "print(price_standardized.shape)\n",
        "print(text_bow.shape)\n",
        "#print(titles_bow.shape)"
      ],
      "execution_count": 47,
      "outputs": [
        {
          "output_type": "stream",
          "name": "stdout",
          "text": [
            "(22942, 2)\n",
            "(22942, 2)\n",
            "(22942, 2)\n",
            "(22942, 2)\n",
            "(22942, 2)\n",
            "(22942, 1)\n",
            "(22942, 1)\n",
            "(22942, 12564)\n"
          ]
        }
      ]
    },
    {
      "cell_type": "code",
      "metadata": {
        "id": "H17NNh6YC7kE"
      },
      "source": [
        "#Preparing Data for set-1\n",
        "# merge two sparse matrices: https://stackoverflow.com/a/19710648/4084039\n",
        "from scipy.sparse import hstack\n",
        "# with the same hstack function we are concatinating a sparse matrix and a dense matirx \n",
        "# X1 Data for set1\n",
        "X1_cv = hstack((clean_categories_cat_hack, clean_sub_categories_cat_hack,school_state_cat_hack,project_grade_category_cat_hack,teacher_prefix_cat_hack,teacher_number_of_previously_posted_projects_standardized,\\\n",
        "            price_standardized,text_bow))\n",
        "# X2 Data for set2\n",
        "X2_cv = hstack((clean_categories_cat_hack, clean_sub_categories_cat_hack,school_state_cat_hack,project_grade_category_cat_hack,teacher_prefix_cat_hack,teacher_number_of_previously_posted_projects_standardized,\\\n",
        "            price_standardized,text_tfidf))"
      ],
      "execution_count": 48,
      "outputs": []
    },
    {
      "cell_type": "code",
      "metadata": {
        "colab": {
          "base_uri": "https://localhost:8080/"
        },
        "id": "JmIqoYLWC7m4",
        "outputId": "78b76ffb-7c61-4719-99e3-1a316a024a08"
      },
      "source": [
        "avg_w2v_vectors[0].shape\n",
        "avg_w2v_vectors = np.asarray(avg_w2v_vectors)\n",
        "print(avg_w2v_vectors.shape)\n"
      ],
      "execution_count": 49,
      "outputs": [
        {
          "output_type": "stream",
          "name": "stdout",
          "text": [
            "(22942, 300)\n"
          ]
        }
      ]
    },
    {
      "cell_type": "code",
      "metadata": {
        "colab": {
          "base_uri": "https://localhost:8080/"
        },
        "id": "eakVRfp3C7pr",
        "outputId": "07d729d0-eea2-4938-9859-417f47319b11"
      },
      "source": [
        "print(clean_categories_cat_hack.shape)\n",
        "print(clean_sub_categories_cat_hack.shape)\n",
        "print(school_state_cat_hack.shape)\n",
        "print(project_grade_category_cat_hack.shape)\n",
        "print(teacher_prefix_cat_hack.shape)\n",
        "print(teacher_number_of_previously_posted_projects_standardized.shape)\n",
        "print(price_standardized.shape)\n",
        "print(avg_w2v_vectors.shape)\n"
      ],
      "execution_count": 50,
      "outputs": [
        {
          "output_type": "stream",
          "name": "stdout",
          "text": [
            "(22942, 2)\n",
            "(22942, 2)\n",
            "(22942, 2)\n",
            "(22942, 2)\n",
            "(22942, 2)\n",
            "(22942, 1)\n",
            "(22942, 1)\n",
            "(22942, 300)\n"
          ]
        }
      ]
    },
    {
      "cell_type": "code",
      "metadata": {
        "colab": {
          "base_uri": "https://localhost:8080/"
        },
        "id": "FESTEjzlEtFA",
        "outputId": "60351259-803d-484e-db56-73b3cb2ab6ab"
      },
      "source": [
        "#https://docs.scipy.org/doc/numpy-1.10.1/reference/generated/numpy.column_stack.html\n",
        "X3_cv=np.column_stack((clean_categories_cat_hack, clean_sub_categories_cat_hack,school_state_cat_hack,project_grade_category_cat_hack,teacher_prefix_cat_hack,teacher_number_of_previously_posted_projects_standardized,\\\n",
        "            price_standardized,avg_w2v_vectors))\n",
        "X3_tr.shape"
      ],
      "execution_count": 55,
      "outputs": [
        {
          "output_type": "execute_result",
          "data": {
            "text/plain": [
              "(53531, 312)"
            ]
          },
          "metadata": {},
          "execution_count": 55
        }
      ]
    },
    {
      "cell_type": "code",
      "metadata": {
        "id": "oeF_D591EtH5"
      },
      "source": [
        "# X4 Data for set4\n",
        "X4_cv = np.column_stack((clean_categories_cat_hack, clean_sub_categories_cat_hack,school_state_cat_hack,project_grade_category_cat_hack,teacher_prefix_cat_hack,teacher_number_of_previously_posted_projects_standardized,\\\n",
        "            price_standardized,tfidf_w2v_vectors))"
      ],
      "execution_count": 52,
      "outputs": []
    },
    {
      "cell_type": "code",
      "metadata": {
        "id": "_PcmasU0EtKv"
      },
      "source": [
        "X4_cv.shape\n",
        "#Preparing labels\n",
        "y_cv=X_cv['project_is_approved']"
      ],
      "execution_count": 53,
      "outputs": []
    },
    {
      "cell_type": "code",
      "metadata": {
        "colab": {
          "base_uri": "https://localhost:8080/"
        },
        "id": "UdW4yey-EtNp",
        "outputId": "d35084ba-ef29-41d3-d248-a15712a1b327"
      },
      "source": [
        "print(X1_cv.shape)\n",
        "print(X2_cv.shape)\n",
        "print(X3_cv.shape)\n",
        "print(X4_cv.shape)\n",
        "print(y_cv.shape)"
      ],
      "execution_count": 56,
      "outputs": [
        {
          "output_type": "stream",
          "name": "stdout",
          "text": [
            "(22942, 12576)\n",
            "(22942, 12576)\n",
            "(22942, 312)\n",
            "(22942, 312)\n",
            "(22942,)\n"
          ]
        }
      ]
    },
    {
      "cell_type": "code",
      "metadata": {
        "colab": {
          "base_uri": "https://localhost:8080/"
        },
        "id": "fxISv9z5Fa-W",
        "outputId": "d12013f5-e375-42b9-9ef8-dbf964ee191f"
      },
      "source": [
        "clean_categories_cat_hack = X_test.apply(lambda x: Categorical_Hack(x[\"clean_categories\"],Categorical_Probs_cat), axis=1)  \n",
        "clean_categories_cat_hack=np.asarray(list(clean_categories_cat_hack))\n",
        "print(clean_categories_cat_hack.shape)\n",
        "\n",
        "clean_sub_categories_cat_hack = X_test.apply(lambda x: Categorical_Hack(x[\"clean_subcategories\"],Categorical_Probs_subcat), axis=1)  \n",
        "clean_sub_categories_cat_hack=np.asarray(list(clean_sub_categories_cat_hack))\n",
        "print(clean_sub_categories_cat_hack.shape)\n",
        "\n",
        "school_state_cat_hack = X_test.apply(lambda x: Categorical_Hack(x[\"school_state\"], Categorical_Probs_school_state), axis=1)  \n",
        "school_state_cat_hack=np.asarray(list(school_state_cat_hack))\n",
        "print(school_state_cat_hack.shape)\n",
        "\n",
        "project_grade_category_cat_hack = X_test.apply(lambda x: Categorical_Hack(x[\"project_grade_category\"], Categorical_Probs_project_grade_category), axis=1)  \n",
        "project_grade_category_cat_hack=np.asarray(list(project_grade_category_cat_hack))\n",
        "print(project_grade_category_cat_hack.shape)\n",
        "\n",
        "X_test['teacher_prefix']=X_test['teacher_prefix'].fillna(\"Not Specefied\")\n",
        "teacher_prefix_cat_hack = X_test.apply(lambda x: Categorical_Hack(x[\"teacher_prefix\"], Categorical_Probs_teacher_prefix), axis=1)  \n",
        "teacher_prefix_cat_hack=np.asarray(list(teacher_prefix_cat_hack))\n",
        "print(teacher_prefix_cat_hack.shape)"
      ],
      "execution_count": 57,
      "outputs": [
        {
          "output_type": "stream",
          "name": "stdout",
          "text": [
            "(32775, 2)\n",
            "(32775, 2)\n",
            "(32775, 2)\n",
            "(32775, 2)\n",
            "(32775, 2)\n"
          ]
        }
      ]
    },
    {
      "cell_type": "code",
      "metadata": {
        "colab": {
          "base_uri": "https://localhost:8080/"
        },
        "id": "oJgOUe8qFbBN",
        "outputId": "f6a59e42-910a-486c-a025-3d8ceaed35ba"
      },
      "source": [
        "#Text data and numerical data\n",
        "#BOW\n",
        "text_bow = vectorizer_essays_bow.transform(X_test['essay'])\n",
        "print(\"Shape of matrix after one hot encodig \",text_bow.shape)\n",
        "\n",
        "\n",
        "\n",
        "#TFIDF\n",
        "text_tfidf = vectorizer_essays_tfidf.transform(X_test['essay'])\n",
        "print(\"Shape of matrix after one hot encodig \",text_tfidf.shape)\n",
        "text_tfidf_test = text_tfidf\n",
        "\n",
        "\n",
        "# average Word2Vec\n",
        "# compute average word2vec for each review.\n",
        "avg_w2v_vectors = []; # the avg-w2v for each sentence/review is stored in this list\n",
        "for sentence in tqdm(X_test['essay']): # for each review/sentence\n",
        "    vector = np.zeros(300) # as word vectors are of zero length\n",
        "    cnt_words =0; # num of words with a valid vector in the sentence/review\n",
        "    for word in sentence.split(): # for each word in a review/sentence\n",
        "        if word in glove_words:\n",
        "            vector += model[word]\n",
        "            cnt_words += 1\n",
        "    if cnt_words != 0:\n",
        "        vector /= cnt_words\n",
        "    avg_w2v_vectors.append(vector)\n",
        "\n",
        "print(len(avg_w2v_vectors))\n",
        "print(len(avg_w2v_vectors[0]))\n",
        "\n",
        "\n",
        "\n",
        "#TFIDF weighted W2V\n",
        "\n",
        "tfidf_model_essays.transform(X_test['essay'])\n",
        "# we are converting a dictionary with word as a key, and the idf as a value\n",
        "dictionary = dict(zip(tfidf_model_essays.get_feature_names(), list(tfidf_model_essays.idf_)))\n",
        "tfidf_words = set(tfidf_model_essays.get_feature_names())\n",
        "\n",
        "# average Word2Vec\n",
        "# compute average word2vec for each review.\n",
        "tfidf_w2v_vectors = []; # the avg-w2v for each sentence/review is stored in this list\n",
        "for sentence in tqdm(X_test['essay']): # for each review/sentence\n",
        "    vector = np.zeros(300) # as word vectors are of zero length\n",
        "    tf_idf_weight =0; # num of words with a valid vector in the sentence/review\n",
        "    for word in sentence.split(): # for each word in a review/sentence\n",
        "        if (word in glove_words) and (word in tfidf_words):\n",
        "            vec = model[word] # getting the vector for each word\n",
        "            # here we are multiplying idf value(dictionary[word]) and the tf value((sentence.count(word)/len(sentence.split())))\n",
        "            tf_idf = dictionary[word]*(sentence.count(word)/len(sentence.split())) # getting the tfidf value for each word\n",
        "            vector += (vec * tf_idf) # calculating tfidf weighted w2v\n",
        "            tf_idf_weight += tf_idf\n",
        "    if tf_idf_weight != 0:\n",
        "        vector /= tf_idf_weight\n",
        "    tfidf_w2v_vectors.append(vector)\n",
        "\n",
        "print(len(tfidf_w2v_vectors))\n",
        "print(len(tfidf_w2v_vectors[0]))\n",
        "\n",
        "\n",
        "\n",
        "# Numerical Features\n",
        "price_standardized = price_scalar.transform(X_test['price'].values.reshape(-1, 1))\n",
        "teacher_number_of_previously_posted_projects_standardized = teacher_number_of_previously_posted_projects_scalar.transform(X_test['teacher_number_of_previously_posted_projects'].values.reshape(-1, 1))\n",
        "\n",
        "price_standardized_test = price_standardized\n",
        "teacher_number_of_previously_posted_projects_standardized_test =teacher_number_of_previously_posted_projects_standardized"
      ],
      "execution_count": 58,
      "outputs": [
        {
          "output_type": "stream",
          "name": "stdout",
          "text": [
            "Shape of matrix after one hot encodig  (32775, 12564)\n",
            "Shape of matrix after one hot encodig  (32775, 12564)\n"
          ]
        },
        {
          "output_type": "stream",
          "name": "stderr",
          "text": [
            "100%|██████████| 32775/32775 [00:09<00:00, 3305.65it/s]\n"
          ]
        },
        {
          "output_type": "stream",
          "name": "stdout",
          "text": [
            "32775\n",
            "300\n"
          ]
        },
        {
          "output_type": "stream",
          "name": "stderr",
          "text": [
            "100%|██████████| 32775/32775 [01:08<00:00, 475.72it/s]"
          ]
        },
        {
          "output_type": "stream",
          "name": "stdout",
          "text": [
            "32775\n",
            "300\n"
          ]
        },
        {
          "output_type": "stream",
          "name": "stderr",
          "text": [
            "\n"
          ]
        }
      ]
    },
    {
      "cell_type": "code",
      "metadata": {
        "colab": {
          "base_uri": "https://localhost:8080/"
        },
        "id": "ycpSt-gJFbGC",
        "outputId": "a107163d-7669-4a00-aece-474dcf3cc200"
      },
      "source": [
        "print(clean_categories_cat_hack.shape)\n",
        "print(clean_sub_categories_cat_hack.shape)\n",
        "print(school_state_cat_hack.shape)\n",
        "print(project_grade_category_cat_hack.shape)\n",
        "print(teacher_prefix_cat_hack.shape)\n",
        "print(teacher_number_of_previously_posted_projects_standardized.shape)\n",
        "print(price_standardized.shape)\n",
        "print(text_bow.shape)"
      ],
      "execution_count": 59,
      "outputs": [
        {
          "output_type": "stream",
          "name": "stdout",
          "text": [
            "(32775, 2)\n",
            "(32775, 2)\n",
            "(32775, 2)\n",
            "(32775, 2)\n",
            "(32775, 2)\n",
            "(32775, 1)\n",
            "(32775, 1)\n",
            "(32775, 12564)\n"
          ]
        }
      ]
    },
    {
      "cell_type": "code",
      "metadata": {
        "id": "O2T4C0OOFbIR"
      },
      "source": [
        "#Preparing Data for set-1\n",
        "# merge two sparse matrices: https://stackoverflow.com/a/19710648/4084039\n",
        "from scipy.sparse import hstack\n",
        "# with the same hstack function we are concatinating a sparse matrix and a dense matirx \n",
        "# X1 Data for set1\n",
        "X1_test = hstack((clean_categories_cat_hack, clean_sub_categories_cat_hack,school_state_cat_hack,project_grade_category_cat_hack,teacher_prefix_cat_hack,teacher_number_of_previously_posted_projects_standardized,\\\n",
        "            price_standardized,text_bow))\n",
        "# X2 Data for set2\n",
        "X2_test = hstack((clean_categories_cat_hack, clean_sub_categories_cat_hack,school_state_cat_hack,project_grade_category_cat_hack,teacher_prefix_cat_hack,teacher_number_of_previously_posted_projects_standardized,\\\n",
        "            price_standardized,text_tfidf))"
      ],
      "execution_count": 60,
      "outputs": []
    },
    {
      "cell_type": "code",
      "metadata": {
        "colab": {
          "base_uri": "https://localhost:8080/"
        },
        "id": "UFoV9yRpFbKP",
        "outputId": "b32ea838-e2d7-45a6-fb70-3a1defd5b432"
      },
      "source": [
        "avg_w2v_vectors = np.asarray(avg_w2v_vectors)\n",
        "print(avg_w2v_vectors.shape)\n"
      ],
      "execution_count": 61,
      "outputs": [
        {
          "output_type": "stream",
          "name": "stdout",
          "text": [
            "(32775, 300)\n"
          ]
        }
      ]
    },
    {
      "cell_type": "code",
      "metadata": {
        "id": "2dnS7H6hFbNf"
      },
      "source": [
        "#https://docs.scipy.org/doc/numpy-1.10.1/reference/generated/numpy.column_stack.html\n",
        "X3_test=np.column_stack((clean_categories_cat_hack, clean_sub_categories_cat_hack,school_state_cat_hack,project_grade_category_cat_hack,teacher_prefix_cat_hack,teacher_number_of_previously_posted_projects_standardized,\\\n",
        "            price_standardized,avg_w2v_vectors))\n",
        "\n",
        "\n",
        "# X4 Data for set4\n",
        "X4_test = np.column_stack((clean_categories_cat_hack, clean_sub_categories_cat_hack,school_state_cat_hack,project_grade_category_cat_hack,teacher_prefix_cat_hack,teacher_number_of_previously_posted_projects_standardized,\\\n",
        "            price_standardized,tfidf_w2v_vectors))"
      ],
      "execution_count": 62,
      "outputs": []
    },
    {
      "cell_type": "code",
      "metadata": {
        "colab": {
          "base_uri": "https://localhost:8080/"
        },
        "id": "mpD89VEsFbPg",
        "outputId": "113884ed-2995-4f60-b22c-742e5f82e858"
      },
      "source": [
        "print(X1_test.shape)\n",
        "print(X2_test.shape)\n",
        "print(X3_test.shape)\n",
        "print(X4_test.shape)\n",
        "print(y_test.shape)"
      ],
      "execution_count": 63,
      "outputs": [
        {
          "output_type": "stream",
          "name": "stdout",
          "text": [
            "(32775, 12576)\n",
            "(32775, 12576)\n",
            "(32775, 312)\n",
            "(32775, 312)\n",
            "(32775,)\n"
          ]
        }
      ]
    },
    {
      "cell_type": "code",
      "metadata": {
        "id": "F-F_HkxtL0TQ"
      },
      "source": [
        "#Implementation of decision tree"
      ],
      "execution_count": null,
      "outputs": []
    },
    {
      "cell_type": "code",
      "metadata": {
        "colab": {
          "base_uri": "https://localhost:8080/"
        },
        "id": "2g1vnfljYfV1",
        "outputId": "a0cc3fc8-9951-4b42-a871-ea8620ea85a1"
      },
      "source": [
        "from sklearn.ensemble import GradientBoostingClassifier\n",
        "from sklearn.calibration import CalibratedClassifierCV\n",
        "from sklearn.metrics import roc_curve\n",
        "from sklearn.metrics import roc_auc_score\n",
        "from sklearn.metrics import accuracy_score\n",
        "from sklearn.model_selection import GridSearchCV\n",
        "depth_alpha=[1]\n",
        "min_sample_split_alpha=[500]\n",
        "param_grid = dict(max_depth = depth_alpha, \n",
        "                  n_estimators = min_sample_split_alpha)\n",
        "print(param_grid) "
      ],
      "execution_count": 64,
      "outputs": [
        {
          "output_type": "stream",
          "name": "stdout",
          "text": [
            "{'max_depth': [1], 'n_estimators': [500]}\n"
          ]
        }
      ]
    },
    {
      "cell_type": "code",
      "metadata": {
        "colab": {
          "base_uri": "https://localhost:8080/"
        },
        "id": "A3pOouc1Yfg9",
        "outputId": "92d8dddf-b9b0-415f-f1d3-735341aa1777"
      },
      "source": [
        "aucTotal_cv=[]\n",
        "aucTotal_train=[]\n",
        "HayperParametesDictAUC_cv=dict()\n",
        "for i in min_sample_split_alpha:\n",
        "    for j in depth_alpha:\n",
        "        print(\"for min sample split =\", i,\"and max depth = \", j)\n",
        "        clf = GradientBoostingClassifier(min_samples_split=i , max_depth=j,random_state=42)\n",
        "        clf.fit(X1_tr, y_tr)\n",
        "        sig_clf = GridSearchCV(clf, param_grid, cv=3, scoring='roc_auc', return_train_score=True, n_jobs= -1)\n",
        "        sig_clf.fit(X1_tr, y_tr)\n",
        "      \n",
        "        # predict the response on the crossvalidation train\n",
        "        \n",
        "        probs_cv = sig_clf.predict_proba(X1_cv)\n",
        "    \n",
        "        # predict the response on the train\n",
        "        probs_train = sig_clf.predict_proba(X1_tr)\n",
        "        \n",
        "        # keep probabilities for the positive outcome only\n",
        "        probs_cv = probs_cv[:, 1]\n",
        "        probs_train = probs_train[:,1]\n",
        "        \n",
        "        # calculate AUC\n",
        "        auc_cv = roc_auc_score(y_cv, probs_cv)\n",
        "        auc_train = roc_auc_score(y_tr, probs_train)\n",
        "        # evaluate CV accuracy\n",
        "        probs_cv_acc=sig_clf.predict(X1_cv)\n",
        "        acc_cv = accuracy_score(y_cv, probs_cv_acc, normalize=True) * float(100)\n",
        "        print('\\nCV accuracy for alpha = %f is %d%% and auc= %.3f' % (i, acc_cv,auc_cv))\n",
        "        aucTotal_cv.append(auc_cv)\n",
        "        aucTotal_train.append(auc_train) \n",
        "        HayperParametesDictAUC_cv[\"{},{}\".format(i,j)]=auc_cv"
      ],
      "execution_count": null,
      "outputs": [
        {
          "output_type": "stream",
          "name": "stdout",
          "text": [
            "for min sample split = 500 and max depth =  1\n",
            "\n",
            "CV accuracy for alpha = 500.000000 is 85% and auc= 0.708\n"
          ]
        }
      ]
    },
    {
      "cell_type": "code",
      "metadata": {
        "id": "5byEr4r3YfpJ",
        "colab": {
          "base_uri": "https://localhost:8080/"
        },
        "outputId": "6a9a3d83-6157-4145-8b29-282300c70c68"
      },
      "source": [
        "aucTotal_cv[np.argmax(aucTotal_cv)]"
      ],
      "execution_count": null,
      "outputs": [
        {
          "output_type": "execute_result",
          "data": {
            "text/plain": [
              "0.7082546352075767"
            ]
          },
          "metadata": {},
          "execution_count": 72
        }
      ]
    },
    {
      "cell_type": "code",
      "metadata": {
        "id": "NZeI6LO5YfwP"
      },
      "source": [
        "#https://stackoverflow.com/questions/268272/getting-key-with-maximum-value-in-dictionary\n",
        "import operator\n",
        "alpha=max(HayperParametesDictAUC_cv.items(), key=operator.itemgetter(1))[0]\n",
        "min_samples_split_cv,max_depth_cv = alpha.split(\",\")\n",
        "min_samples_split_cv=int(min_samples_split_cv)\n",
        "max_depth_cv = int(max_depth_cv)\n",
        "hp_bow = 500#alpha"
      ],
      "execution_count": 110,
      "outputs": []
    },
    {
      "cell_type": "code",
      "metadata": {
        "id": "w7fc6lhgYf15",
        "colab": {
          "base_uri": "https://localhost:8080/"
        },
        "outputId": "e9383b33-ab78-4ae5-e665-e0268a19baa5"
      },
      "source": [
        "clf = GradientBoostingClassifier(min_samples_split=min_samples_split_cv , max_depth=max_depth_cv,random_state=42)\n",
        "clf.fit(X1_tr, y_tr)\n",
        "sig_clf = GridSearchCV(clf,param_grid)\n",
        "sig_clf.fit(X1_tr, y_tr)\n",
        "\n",
        "probs_test   =  sig_clf.predict_proba(X1_test)\n",
        "probs_train  = sig_clf.predict_proba(X1_tr)\n",
        "y_pred_test  = sig_clf.predict(X1_test)\n",
        "y_pred_train = sig_clf.predict(X1_tr)\n",
        "\n",
        "# keep probabilities for the positive outcome only\n",
        "probs_test = probs_test[:, 1]\n",
        "probs_train = probs_train[:,1]\n",
        "# calculate AUC\n",
        "auc = roc_auc_score(y_test, probs_test)\n",
        "#y_pred_test = sig_clf.predict(X1_test)\n",
        "#auc = roc_auc_score(y_test, y_pred_test)\n",
        "auc_bow =auc\n",
        "print(\"Test AUC: \",auc)\n",
        "#y_pred_tr =  sig_clf.predict(X1_tr)\n",
        "auc = roc_auc_score(y_tr, probs_train)\n",
        "print(\"Train AUC: \",auc)"
      ],
      "execution_count": null,
      "outputs": [
        {
          "output_type": "stream",
          "name": "stdout",
          "text": [
            "Test AUC:  0.7127265155596209\n",
            "Train AUC:  0.7342617760729678\n"
          ]
        }
      ]
    },
    {
      "cell_type": "code",
      "metadata": {
        "colab": {
          "base_uri": "https://localhost:8080/",
          "height": 295
        },
        "id": "A_JOmyKY45mC",
        "outputId": "21a62bfe-5892-4767-ed07-8a18176e00b9"
      },
      "source": [
        "import matplotlib.pyplot as plt\n",
        "probs_test = sig_clf.predict_proba(X1_test)[:,1]\n",
        "probs_train = sig_clf.predict_proba(X1_tr)[:,1]\n",
        "# calculate roc curve\n",
        "fpr, tpr, thresholds = roc_curve(y_test, probs_test)\n",
        "fpr2, tpr2, thresholds2 = roc_curve(y_tr, probs_train)\n",
        "# plot no skill\n",
        "plt.plot([0, 1], [0, 1], color='C0')\n",
        "# plot the roc curve for the model\n",
        "plt.plot(fpr, tpr, color='C1',label='cv')\n",
        "plt.plot(fpr2, tpr2, color='g',label='train')\n",
        "plt.legend()\n",
        "plt.xlabel('FPR')\n",
        "plt.ylabel('TPR')\n",
        "plt.title(\"ERROR PLOT\")\n",
        "# show the plot\n",
        "plt.show()"
      ],
      "execution_count": null,
      "outputs": [
        {
          "output_type": "display_data",
          "data": {
            "image/png": "[encoded data removed]",
            "text/plain": [
              "<Figure size 432x288 with 1 Axes>"
            ]
          },
          "metadata": {
            "needs_background": "light"
          }
        }
      ]
    },
    {
      "cell_type": "code",
      "metadata": {
        "id": "urUd68e17tog"
      },
      "source": [
        "from sklearn.metrics import confusion_matrix\n",
        "cm=confusion_matrix(y_test,sig_clf.predict(X1_test) )\n",
        "TPR=np.round(cm[1][1]/(cm[0][1]+cm[1][1])*100,2)\n",
        "FPR=np.round(cm[0][0]/(cm[0][0]+cm[1][0])*100,2)\n",
        "Precision= np.round(cm[1][1]/(cm[1][0]+cm[1][1])*100,2)\n",
        "Recall = TPR\n",
        "F1_Score= np.round((2*Precision*Recall)/(Recall+Precision),3)\n",
        "F1_Score_l2=F1_Score"
      ],
      "execution_count": null,
      "outputs": []
    },
    {
      "cell_type": "code",
      "metadata": {
        "colab": {
          "base_uri": "https://localhost:8080/",
          "height": 268
        },
        "id": "nj9FSxHj7tvh",
        "outputId": "ee5d8865-0fb5-4f37-9ac9-2ec8511a70d8"
      },
      "source": [
        "import seaborn as sns; sns.set()\n",
        "ax = sns.heatmap(cm,annot=True,fmt=\"d\",cmap=\"YlGnBu\")"
      ],
      "execution_count": null,
      "outputs": [
        {
          "output_type": "display_data",
          "data": {
            "image/png": "[encoded data removed]",
            "text/plain": [
              "<Figure size 432x288 with 2 Axes>"
            ]
          },
          "metadata": {}
        }
      ]
    },
    {
      "cell_type": "code",
      "metadata": {
        "id": "sldWbPnS7t5z"
      },
      "source": [
        "pre=[\"clean_categories_0\",\"clean_categories_1\",\"clean_sub_categories_0\",\"clean_sub_categories_1\",\"school_state_0\",\"school_state_1\",\"project_grade_0\",\"project_grade_1\",\\\n",
        "\"teacher_prefix_0\",\"teacher_prefix_1\"]\n",
        "bow_words_tr=vectorizer_essays_bow.get_feature_names()\n",
        "post=[\"TeacherPrevProjects\",\"quantity_standardized\",\"price_standardized\" ]\n",
        "final_features_bow=pre+bow_words_tr+post"
      ],
      "execution_count": null,
      "outputs": []
    },
    {
      "cell_type": "code",
      "metadata": {
        "colab": {
          "base_uri": "https://localhost:8080/"
        },
        "id": "IvWrEHUG7uDS",
        "outputId": "fd227091-ad5c-44b9-df8a-98923f955720"
      },
      "source": [
        "len(final_features_bow)"
      ],
      "execution_count": null,
      "outputs": [
        {
          "output_type": "execute_result",
          "data": {
            "text/plain": [
              "12566"
            ]
          },
          "metadata": {},
          "execution_count": 84
        }
      ]
    },
    {
      "cell_type": "code",
      "metadata": {
        "id": "CsaoT32N7uMs"
      },
      "source": [
        "#Collecting False Negative rows indexs\n",
        "#https://stackoverflow.com/questions/43193880/how-to-get-row-number-in-dataframe-in-pandas\n",
        "test=[]\n",
        "FN=pd.DataFrame({\"Actual\":y_test, \"Predicted\":y_pred_test})\n",
        "FN_indexs=list(FN[(FN[\"Actual\"]==0) & (FN[\"Predicted\"]==1)].index)\n",
        "FN_2=FN[(FN[\"Actual\"]==0) & (FN[\"Predicted\"]==1)]"
      ],
      "execution_count": null,
      "outputs": []
    },
    {
      "cell_type": "code",
      "metadata": {
        "colab": {
          "base_uri": "https://localhost:8080/",
          "height": 254
        },
        "id": "_I4r2iFU7uVS",
        "outputId": "3ee2ddaf-5d04-4aaa-d839-b28aa59f2cc1"
      },
      "source": [
        "price=[]\n",
        "for i in FN_indexs:\n",
        "    price.append(X_test.loc[i]['price'])\n",
        "import seaborn as sns\n",
        "sns.set(style=\"whitegrid\")\n",
        "ax = sns.barplot(y=\"price\", hue=FN_2[\"Predicted\"], data=X_test)  "
      ],
      "execution_count": null,
      "outputs": [
        {
          "output_type": "display_data",
          "data": {
            "image/png": "[encoded data removed]",
            "text/plain": [
              "<Figure size 432x288 with 1 Axes>"
            ]
          },
          "metadata": {}
        }
      ]
    },
    {
      "cell_type": "code",
      "metadata": {
        "colab": {
          "base_uri": "https://localhost:8080/",
          "height": 254
        },
        "id": "wv8N6pv47ue8",
        "outputId": "c7539844-b9c5-465e-b733-2bee4de6916a"
      },
      "source": [
        "ax = sns.barplot(y=\"price\", hue=FN_2[\"Actual\"], data=X_test)"
      ],
      "execution_count": null,
      "outputs": [
        {
          "output_type": "display_data",
          "data": {
            "image/png": "[encoded data removed]",
            "text/plain": [
              "<Figure size 432x288 with 1 Axes>"
            ]
          },
          "metadata": {}
        }
      ]
    },
    {
      "cell_type": "code",
      "metadata": {
        "colab": {
          "base_uri": "https://localhost:8080/",
          "height": 268
        },
        "id": "Tkes8ORd7ur5",
        "outputId": "615e0426-2465-4271-ff38-1be4376bd3dc"
      },
      "source": [
        "teacher_number_of_previously_posted_projects=[]\n",
        "for i in FN_indexs:\n",
        "    teacher_number_of_previously_posted_projects.append(X_test.loc[i]['teacher_number_of_previously_posted_projects'])\n",
        "import seaborn as sns, numpy as np\n",
        "ax = sns.distplot(teacher_number_of_previously_posted_projects)"
      ],
      "execution_count": null,
      "outputs": [
        {
          "output_type": "display_data",
          "data": {
            "image/png": "[encoded data removed]",
            "text/plain": [
              "<Figure size 432x288 with 1 Axes>"
            ]
          },
          "metadata": {}
        }
      ]
    },
    {
      "cell_type": "code",
      "metadata": {
        "colab": {
          "base_uri": "https://localhost:8080/"
        },
        "id": "fwp4rZQv9FOF",
        "outputId": "00dcffb8-951f-4d65-90e1-33f7c873f726"
      },
      "source": [
        "aucTotal_cv=[]\n",
        "aucTotal_train=[]\n",
        "HayperParametesDictAUC_cv=dict()\n",
        "for i in min_sample_split_alpha:\n",
        "    for j in depth_alpha:\n",
        "        print(\"for min sample split =\", i,\"and max depth = \", j)\n",
        "        clf = GradientBoostingClassifier(min_samples_split=i , max_depth=j,random_state=42)\n",
        "        clf.fit(X2_tr, y_tr)\n",
        "        sig_clf = GridSearchCV(clf, param_grid, cv=3, scoring='roc_auc', return_train_score=True, n_jobs= -1)\n",
        "        sig_clf.fit(X2_tr, y_tr)\n",
        "      \n",
        "        # predict the response on the crossvalidation train\n",
        "        \n",
        "        probs_cv = sig_clf.predict_proba(X2_cv)\n",
        "    \n",
        "        # predict the response on the train\n",
        "        probs_train = sig_clf.predict_proba(X2_tr)\n",
        "        \n",
        "        # keep probabilities for the positive outcome only\n",
        "        probs_cv = probs_cv[:, 1]\n",
        "        probs_train = probs_train[:,1]\n",
        "        \n",
        "        # calculate AUC\n",
        "        auc_cv = roc_auc_score(y_cv, probs_cv)\n",
        "        auc_train = roc_auc_score(y_tr, probs_train)\n",
        "        # evaluate CV accuracy\n",
        "        probs_cv_acc=sig_clf.predict(X2_cv)\n",
        "        acc_cv = accuracy_score(y_cv, probs_cv_acc, normalize=True) * float(100)\n",
        "        print('\\nCV accuracy for alpha = %f is %d%% and auc= %.3f' % (i, acc_cv,auc_cv))\n",
        "        aucTotal_cv.append(auc_cv)\n",
        "        aucTotal_train.append(auc_train) \n",
        "        HayperParametesDictAUC_cv[\"{},{}\".format(i,j)]=auc_cv"
      ],
      "execution_count": null,
      "outputs": [
        {
          "output_type": "stream",
          "name": "stdout",
          "text": [
            "for min sample split = 500 and max depth =  1\n",
            "\n",
            "CV accuracy for alpha = 500.000000 is 85% and auc= 0.708\n"
          ]
        }
      ]
    },
    {
      "cell_type": "code",
      "metadata": {
        "colab": {
          "base_uri": "https://localhost:8080/"
        },
        "id": "TMS2Fghe9FOL",
        "outputId": "8908155e-202c-49ef-d131-767d4ff7b4da"
      },
      "source": [
        "aucTotal_cv[np.argmax(aucTotal_cv)]"
      ],
      "execution_count": null,
      "outputs": [
        {
          "output_type": "execute_result",
          "data": {
            "text/plain": [
              "0.7080385939940214"
            ]
          },
          "metadata": {},
          "execution_count": 90
        }
      ]
    },
    {
      "cell_type": "code",
      "metadata": {
        "id": "Ft7Zp7HU9FOO"
      },
      "source": [
        "#https://stackoverflow.com/questions/268272/getting-key-with-maximum-value-in-dictionary\n",
        "import operator\n",
        "alpha=max(HayperParametesDictAUC_cv.items(), key=operator.itemgetter(1))[0]\n",
        "min_samples_split_cv,max_depth_cv = alpha.split(\",\")\n",
        "min_samples_split_cv=int(min_samples_split_cv)\n",
        "max_depth_cv = int(max_depth_cv)\n",
        "hp_tfidf = 500 #alpha"
      ],
      "execution_count": 109,
      "outputs": []
    },
    {
      "cell_type": "code",
      "metadata": {
        "colab": {
          "base_uri": "https://localhost:8080/"
        },
        "id": "SRVLpgY_9FOQ",
        "outputId": "e02d5d06-debd-4eb2-c3f8-d9f4415bbc3e"
      },
      "source": [
        "clf = GradientBoostingClassifier(min_samples_split=min_samples_split_cv , max_depth=max_depth_cv,random_state=42)\n",
        "clf.fit(X2_tr, y_tr)\n",
        "sig_clf = GridSearchCV(clf,param_grid)\n",
        "sig_clf.fit(X2_tr, y_tr)\n",
        "\n",
        "probs_test   =  sig_clf.predict_proba(X2_test)\n",
        "probs_train  = sig_clf.predict_proba(X2_tr)\n",
        "y_pred_test  = sig_clf.predict(X2_test)\n",
        "y_pred_train = sig_clf.predict(X2_tr)\n",
        "\n",
        "# keep probabilities for the positive outcome only\n",
        "probs_test = probs_test[:, 1]\n",
        "probs_train = probs_train[:,1]\n",
        "# calculate AUC\n",
        "auc = roc_auc_score(y_test, probs_test)\n",
        "#y_pred_test = sig_clf.predict(X1_test)\n",
        "#auc = roc_auc_score(y_test, y_pred_test)\n",
        "auc_tfidf =auc\n",
        "print(\"Test AUC: \",auc)\n",
        "#y_pred_tr =  sig_clf.predict(X1_tr)\n",
        "auc = roc_auc_score(y_tr, probs_train)\n",
        "print(\"Train AUC: \",auc)"
      ],
      "execution_count": null,
      "outputs": [
        {
          "output_type": "stream",
          "name": "stdout",
          "text": [
            "Test AUC:  0.7083107048882185\n",
            "Train AUC:  0.7446037245785961\n"
          ]
        }
      ]
    },
    {
      "cell_type": "code",
      "metadata": {
        "id": "lNjnk37Z3642"
      },
      "source": [
        "auc_tfidf=0.7083107048882185"
      ],
      "execution_count": 104,
      "outputs": []
    },
    {
      "cell_type": "code",
      "metadata": {
        "colab": {
          "base_uri": "https://localhost:8080/",
          "height": 301
        },
        "id": "BxqwHBJB9FOT",
        "outputId": "138e3b9c-e679-4ec1-87b8-530ddc557aca"
      },
      "source": [
        "import matplotlib.pyplot as plt\n",
        "probs_test = sig_clf.predict_proba(X1_test)[:,1]\n",
        "probs_train = sig_clf.predict_proba(X1_tr)[:,1]\n",
        "# calculate roc curve\n",
        "fpr, tpr, thresholds = roc_curve(y_test, probs_test)\n",
        "fpr2, tpr2, thresholds2 = roc_curve(y_tr, probs_train)\n",
        "# plot no skill\n",
        "plt.plot([0, 1], [0, 1], color='C0')\n",
        "# plot the roc curve for the model\n",
        "plt.plot(fpr, tpr, color='C1',label='cv')\n",
        "plt.plot(fpr2, tpr2, color='g',label='train')\n",
        "plt.legend()\n",
        "plt.xlabel('FPR')\n",
        "plt.ylabel('TPR')\n",
        "plt.title(\"ERROR PLOT\")\n",
        "# show the plot\n",
        "plt.show()"
      ],
      "execution_count": null,
      "outputs": [
        {
          "output_type": "display_data",
          "data": {
            "image/png": "[encoded data removed]",
            "text/plain": [
              "<Figure size 432x288 with 1 Axes>"
            ]
          },
          "metadata": {}
        }
      ]
    },
    {
      "cell_type": "code",
      "metadata": {
        "id": "GKXdDJ7M9FOW"
      },
      "source": [
        "from sklearn.metrics import confusion_matrix\n",
        "cm=confusion_matrix(y_test,sig_clf.predict(X1_test) )\n",
        "TPR=np.round(cm[1][1]/(cm[0][1]+cm[1][1])*100,2)\n",
        "FPR=np.round(cm[0][0]/(cm[0][0]+cm[1][0])*100,2)\n",
        "Precision= np.round(cm[1][1]/(cm[1][0]+cm[1][1])*100,2)\n",
        "Recall = TPR\n",
        "F1_Score= np.round((2*Precision*Recall)/(Recall+Precision),3)\n",
        "F1_Score_l2=F1_Score"
      ],
      "execution_count": null,
      "outputs": []
    },
    {
      "cell_type": "code",
      "metadata": {
        "colab": {
          "base_uri": "https://localhost:8080/",
          "height": 362
        },
        "id": "Xr71Y0yb9FOZ",
        "outputId": "4d9e24f4-4beb-43b9-e506-54d88e9dc338"
      },
      "source": [
        "import seaborn as sns; sns.set()\n",
        "ax = sns.heatmap(cm,annot=True,fmt=\"d\",cmap=\"YlGnBu\")\n",
        "\n",
        "print(\"TPR: {}%\\nFPR: {}%\\nPrecision: {}%\\nRecall: {}%\\nF1 Score: {}% \".format(TPR,FPR,Precision,Recall,F1_Score))"
      ],
      "execution_count": null,
      "outputs": [
        {
          "output_type": "stream",
          "name": "stdout",
          "text": [
            "TPR: 88.31%\n",
            "FPR: 23.07%\n",
            "Precision: 71.74%\n",
            "Recall: 88.31%\n",
            "F1 Score: 79.167% \n"
          ]
        },
        {
          "output_type": "display_data",
          "data": {
            "image/png": "[encoded data removed]",
            "text/plain": [
              "<Figure size 432x288 with 2 Axes>"
            ]
          },
          "metadata": {}
        }
      ]
    },
    {
      "cell_type": "code",
      "metadata": {
        "id": "bFq6Eqyi7u1r"
      },
      "source": [
        "pre=[\"clean_categories_0\",\"clean_categories_1\",\"clean_sub_categories_0\",\"clean_sub_categories_1\",\"school_state_0\",\"school_state_1\",\"project_grade_0\",\"project_grade_1\",\\\n",
        "\"teacher_prefix_0\",\"teacher_prefix_1\"]\n",
        "tfidf_words_tr=vectorizer_essays_tfidf.get_feature_names()\n",
        "post=[\"TeacherPrevProjects\",\"quantity_standardized\",\"price_standardized\" ]\n",
        "final_features_tfidf=pre+tfidf_words_tr+post"
      ],
      "execution_count": null,
      "outputs": []
    },
    {
      "cell_type": "code",
      "metadata": {
        "colab": {
          "base_uri": "https://localhost:8080/"
        },
        "id": "DLc0BvtyL46r",
        "outputId": "22341fe8-7d71-447f-fbd5-22d28b6d45be"
      },
      "source": [
        "len(final_features_tfidf)"
      ],
      "execution_count": null,
      "outputs": [
        {
          "output_type": "execute_result",
          "data": {
            "text/plain": [
              "12566"
            ]
          },
          "metadata": {},
          "execution_count": 98
        }
      ]
    },
    {
      "cell_type": "code",
      "metadata": {
        "id": "XWlGhWMXL5LP"
      },
      "source": [
        "#https://stackoverflow.com/questions/43193880/how-to-get-row-number-in-dataframe-in-pandas\n",
        "test=[]\n",
        "FN=pd.DataFrame({\"Actual\":y_test, \"Predicted\":y_pred_test})\n",
        "FN_indexs=list(FN[(FN[\"Actual\"]==0) & (FN[\"Predicted\"]==1)].index)\n",
        "FN_2=FN[(FN[\"Actual\"]==0) & (FN[\"Predicted\"]==1)]"
      ],
      "execution_count": null,
      "outputs": []
    },
    {
      "cell_type": "code",
      "metadata": {
        "colab": {
          "base_uri": "https://localhost:8080/",
          "height": 254
        },
        "id": "dNV-8dA9L5Va",
        "outputId": "812e84fd-5576-4aa3-817a-fc28b936b5e2"
      },
      "source": [
        "price=[]\n",
        "for i in FN_indexs:\n",
        "    price.append(X_test.loc[i]['price'])\n",
        "import seaborn as sns\n",
        "sns.set(style=\"whitegrid\")\n",
        "ax = sns.barplot(y=\"price\", hue=FN_2[\"Predicted\"], data=X_test)  "
      ],
      "execution_count": null,
      "outputs": [
        {
          "output_type": "display_data",
          "data": {
            "image/png": "[encoded data removed]",
            "text/plain": [
              "<Figure size 432x288 with 1 Axes>"
            ]
          },
          "metadata": {}
        }
      ]
    },
    {
      "cell_type": "code",
      "metadata": {
        "colab": {
          "base_uri": "https://localhost:8080/",
          "height": 254
        },
        "id": "SRzXPNqPL5ex",
        "outputId": "bdbdc60f-d41b-4059-a70e-df03a01529d2"
      },
      "source": [
        "ax = sns.barplot(y=\"price\", hue=FN_2[\"Actual\"], data=X_test)"
      ],
      "execution_count": null,
      "outputs": [
        {
          "output_type": "display_data",
          "data": {
            "image/png": "[encoded data removed]",
            "text/plain": [
              "<Figure size 432x288 with 1 Axes>"
            ]
          },
          "metadata": {}
        }
      ]
    },
    {
      "cell_type": "code",
      "metadata": {
        "colab": {
          "base_uri": "https://localhost:8080/",
          "height": 268
        },
        "id": "_FNBBD9zL5nw",
        "outputId": "352edf1a-1e51-47d1-a19b-2d02a550316a"
      },
      "source": [
        "teacher_number_of_previously_posted_projects=[]\n",
        "for i in FN_indexs:\n",
        "    teacher_number_of_previously_posted_projects.append(X_test.loc[i]['teacher_number_of_previously_posted_projects'])\n",
        "import seaborn as sns, numpy as np\n",
        "ax = sns.distplot(teacher_number_of_previously_posted_projects)  \n"
      ],
      "execution_count": null,
      "outputs": [
        {
          "output_type": "display_data",
          "data": {
            "image/png": "[encoded data removed]",
            "text/plain": [
              "<Figure size 432x288 with 1 Axes>"
            ]
          },
          "metadata": {}
        }
      ]
    },
    {
      "cell_type": "code",
      "metadata": {
        "id": "PgX6Ti6NL5yq",
        "colab": {
          "base_uri": "https://localhost:8080/"
        },
        "outputId": "5c21a4a9-c932-49a6-9874-f2f8c4807a3c"
      },
      "source": [
        "depth_alpha=[1]\n",
        "min_sample_split_alpha=[100]\n",
        "param_grid = dict(max_depth = depth_alpha, \n",
        "                  n_estimators = min_sample_split_alpha)\n",
        "print(param_grid) "
      ],
      "execution_count": 65,
      "outputs": [
        {
          "output_type": "stream",
          "name": "stdout",
          "text": [
            "{'max_depth': [1], 'n_estimators': [100]}\n"
          ]
        }
      ]
    },
    {
      "cell_type": "code",
      "metadata": {
        "colab": {
          "base_uri": "https://localhost:8080/"
        },
        "id": "S2qGCFsGN3W4",
        "outputId": "afb614db-5d01-4786-ef23-c60c1e839a08"
      },
      "source": [
        "aucTotal_cv=[]\n",
        "aucTotal_train=[]\n",
        "HayperParametesDictAUC_cv=dict()\n",
        "for i in min_sample_split_alpha:\n",
        "    for j in depth_alpha:\n",
        "        print(\"for min sample split =\", i,\"and max depth = \", j)\n",
        "        clf = GradientBoostingClassifier(min_samples_split=i , max_depth=j,random_state=42)\n",
        "        clf.fit(X3_tr, y_tr)\n",
        "        sig_clf = GridSearchCV(clf, param_grid, cv=3, scoring='roc_auc', return_train_score=True, n_jobs= -1)\n",
        "        sig_clf.fit(X3_tr, y_tr)\n",
        "      \n",
        "        # predict the response on the crossvalidation train\n",
        "        \n",
        "        probs_cv = sig_clf.predict_proba(X3_cv)\n",
        "    \n",
        "        # predict the response on the train\n",
        "        probs_train = sig_clf.predict_proba(X3_tr)\n",
        "        \n",
        "        # keep probabilities for the positive outcome only\n",
        "        probs_cv = probs_cv[:, 1]\n",
        "        probs_train = probs_train[:,1]\n",
        "        \n",
        "        # calculate AUC\n",
        "        auc_cv = roc_auc_score(y_cv, probs_cv)\n",
        "        auc_train = roc_auc_score(y_tr, probs_train)\n",
        "        # evaluate CV accuracy\n",
        "        probs_cv_acc=sig_clf.predict(X3_cv)\n",
        "        acc_cv = accuracy_score(y_cv, probs_cv_acc, normalize=True) * float(100)\n",
        "        print('\\nCV accuracy for alpha = %f is %d%% and auc= %.3f' % (i, acc_cv,auc_cv))\n",
        "        aucTotal_cv.append(auc_cv)\n",
        "        aucTotal_train.append(auc_train) \n",
        "        HayperParametesDictAUC_cv[\"{},{}\".format(i,j)]=auc_cv"
      ],
      "execution_count": 66,
      "outputs": [
        {
          "output_type": "stream",
          "name": "stdout",
          "text": [
            "for min sample split = 100 and max depth =  1\n",
            "\n",
            "CV accuracy for alpha = 100.000000 is 84% and auc= 0.678\n"
          ]
        }
      ]
    },
    {
      "cell_type": "code",
      "metadata": {
        "colab": {
          "base_uri": "https://localhost:8080/"
        },
        "id": "n7sca8rFN3XA",
        "outputId": "7452394f-0d27-4618-edee-13f49fd78f7a"
      },
      "source": [
        "aucTotal_cv[np.argmax(aucTotal_cv)]"
      ],
      "execution_count": 67,
      "outputs": [
        {
          "output_type": "execute_result",
          "data": {
            "text/plain": [
              "0.6776849017389142"
            ]
          },
          "metadata": {},
          "execution_count": 67
        }
      ]
    },
    {
      "cell_type": "code",
      "metadata": {
        "id": "jNkhw2wuN3XE"
      },
      "source": [
        "#https://stackoverflow.com/questions/268272/getting-key-with-maximum-value-in-dictionary\n",
        "import operator\n",
        "alpha=max(HayperParametesDictAUC_cv.items(), key=operator.itemgetter(1))[0]\n",
        "min_samples_split_cv,max_depth_cv = alpha.split(\",\")\n",
        "min_samples_split_cv=int(min_samples_split_cv)\n",
        "max_depth_cv = int(max_depth_cv)\n",
        "hp_w2vec = 100 #alpha"
      ],
      "execution_count": 114,
      "outputs": []
    },
    {
      "cell_type": "code",
      "metadata": {
        "colab": {
          "base_uri": "https://localhost:8080/"
        },
        "id": "20vrMCk1N3XI",
        "outputId": "8108e609-ee99-4078-ba0a-beafdcf50cfa"
      },
      "source": [
        "clf = GradientBoostingClassifier(min_samples_split=min_samples_split_cv , max_depth=max_depth_cv,random_state=42)\n",
        "clf.fit(X3_tr, y_tr)\n",
        "sig_clf = GridSearchCV(clf,param_grid)\n",
        "sig_clf.fit(X3_tr, y_tr)\n",
        "\n",
        "probs_test   =  sig_clf.predict_proba(X3_test)\n",
        "probs_train  = sig_clf.predict_proba(X3_tr)\n",
        "y_pred_test  = sig_clf.predict(X3_test)\n",
        "y_pred_train = sig_clf.predict(X3_tr)\n",
        "\n",
        "# keep probabilities for the positive outcome only\n",
        "probs_test = probs_test[:, 1]\n",
        "probs_train = probs_train[:,1]\n",
        "# calculate AUC\n",
        "auc = roc_auc_score(y_test, probs_test)\n",
        "#y_pred_test = sig_clf.predict(X1_test)\n",
        "#auc = roc_auc_score(y_test, y_pred_test)\n",
        "auc_tfidf =auc\n",
        "print(\"Test AUC: \",auc)\n",
        "#y_pred_tr =  sig_clf.predict(X1_tr)\n",
        "auc = roc_auc_score(y_tr, probs_train)\n",
        "print(\"Train AUC: \",auc)"
      ],
      "execution_count": 70,
      "outputs": [
        {
          "output_type": "stream",
          "name": "stdout",
          "text": [
            "Test AUC:  0.6751955293021777\n",
            "Train AUC:  0.6987339282289193\n"
          ]
        }
      ]
    },
    {
      "cell_type": "code",
      "metadata": {
        "id": "thiHn7-Q4N5Q"
      },
      "source": [
        "auc_w2vec=0.6751955293021777"
      ],
      "execution_count": 103,
      "outputs": []
    },
    {
      "cell_type": "code",
      "metadata": {
        "colab": {
          "base_uri": "https://localhost:8080/",
          "height": 295
        },
        "id": "JTP4eP8kN3XK",
        "outputId": "1c312cf8-f4de-4681-d2de-6e72af79fb40"
      },
      "source": [
        "import matplotlib.pyplot as plt\n",
        "probs_test = sig_clf.predict_proba(X3_test)[:,1]\n",
        "probs_train = sig_clf.predict_proba(X3_tr)[:,1]\n",
        "# calculate roc curve\n",
        "fpr, tpr, thresholds = roc_curve(y_test, probs_test)\n",
        "fpr2, tpr2, thresholds2 = roc_curve(y_tr, probs_train)\n",
        "# plot no skill\n",
        "plt.plot([0, 1], [0, 1], color='C0')\n",
        "# plot the roc curve for the model\n",
        "plt.plot(fpr, tpr, color='C1',label='cv')\n",
        "plt.plot(fpr2, tpr2, color='g',label='train')\n",
        "plt.legend()\n",
        "plt.xlabel('FPR')\n",
        "plt.ylabel('TPR')\n",
        "plt.title(\"ERROR PLOT\")\n",
        "# show the plot\n",
        "plt.show()"
      ],
      "execution_count": 72,
      "outputs": [
        {
          "output_type": "display_data",
          "data": {
            "image/png": "[encoded data removed]",
            "text/plain": [
              "<Figure size 432x288 with 1 Axes>"
            ]
          },
          "metadata": {
            "needs_background": "light"
          }
        }
      ]
    },
    {
      "cell_type": "code",
      "metadata": {
        "id": "ov9BE8BHN3XO",
        "colab": {
          "base_uri": "https://localhost:8080/",
          "height": 362
        },
        "outputId": "7d0b7756-8a31-4469-8238-c722e6c677f9"
      },
      "source": [
        "from sklearn.metrics import confusion_matrix\n",
        "cm=confusion_matrix(y_test, y_pred_test)\n",
        "TPR=np.round(cm[1][1]/(cm[0][1]+cm[1][1])*100,2)\n",
        "FPR=np.round(cm[0][0]/(cm[0][0]+cm[1][0])*100,2)\n",
        "Precision= np.round(cm[1][1]/(cm[1][0]+cm[1][1])*100,2)\n",
        "Recall = TPR\n",
        "F1_Score= np.round((2*Precision*Recall)/(Recall+Precision),3)\n",
        "F1_Score_l2=F1_Score\n",
        "\n",
        "\n",
        "import seaborn as sns; sns.set()\n",
        "ax = sns.heatmap(cm,annot=True,fmt=\"d\",cmap=\"YlGnBu\")\n",
        "\n",
        "print(\"TPR: {}%\\nFPR: {}%\\nPrecision: {}%\\nRecall: {}%\\nF1 Score: {}% \".format(TPR,FPR,Precision,Recall,F1_Score))"
      ],
      "execution_count": 73,
      "outputs": [
        {
          "output_type": "stream",
          "name": "stdout",
          "text": [
            "TPR: 84.77%\n",
            "FPR: 100.0%\n",
            "Precision: 100.0%\n",
            "Recall: 84.77%\n",
            "F1 Score: 91.757% \n"
          ]
        },
        {
          "output_type": "display_data",
          "data": {
            "image/png": "[encoded data removed]",
            "text/plain": [
              "<Figure size 432x288 with 2 Axes>"
            ]
          },
          "metadata": {}
        }
      ]
    },
    {
      "cell_type": "code",
      "metadata": {
        "id": "QFaNu2g8L58d"
      },
      "source": [
        "#https://stackoverflow.com/questions/43193880/how-to-get-row-number-in-dataframe-in-pandas\n",
        "test=[]\n",
        "FN=pd.DataFrame({\"Actual\":y_test, \"Predicted\":y_pred_test})\n",
        "FN_indexs=list(FN[(FN[\"Actual\"]==0) & (FN[\"Predicted\"]==1)].index)\n",
        "FN_2=FN[(FN[\"Actual\"]==0) & (FN[\"Predicted\"]==1)]"
      ],
      "execution_count": 74,
      "outputs": []
    },
    {
      "cell_type": "code",
      "metadata": {
        "colab": {
          "base_uri": "https://localhost:8080/",
          "height": 254
        },
        "id": "N90_mEatdZGC",
        "outputId": "30b483c7-baf4-4106-9101-4aa2b51316c1"
      },
      "source": [
        "price=[]\n",
        "for i in FN_indexs:\n",
        "    price.append(X_test.loc[i]['price'])\n",
        "import seaborn as sns\n",
        "sns.set(style=\"whitegrid\")\n",
        "ax = sns.barplot(y=\"price\", hue=FN_2[\"Predicted\"], data=X_test)"
      ],
      "execution_count": 75,
      "outputs": [
        {
          "output_type": "display_data",
          "data": {
            "image/png": "[encoded data removed]",
            "text/plain": [
              "<Figure size 432x288 with 1 Axes>"
            ]
          },
          "metadata": {}
        }
      ]
    },
    {
      "cell_type": "code",
      "metadata": {
        "colab": {
          "base_uri": "https://localhost:8080/",
          "height": 254
        },
        "id": "jUrBBHNldZOF",
        "outputId": "a357ed2d-9e38-440f-a715-c89f4dd3c81e"
      },
      "source": [
        "ax = sns.barplot(y=\"price\", hue=FN_2[\"Actual\"], data=X_test)"
      ],
      "execution_count": 76,
      "outputs": [
        {
          "output_type": "display_data",
          "data": {
            "image/png": "[encoded data removed]",
            "text/plain": [
              "<Figure size 432x288 with 1 Axes>"
            ]
          },
          "metadata": {}
        }
      ]
    },
    {
      "cell_type": "code",
      "metadata": {
        "colab": {
          "base_uri": "https://localhost:8080/",
          "height": 268
        },
        "id": "G9mkmBiBdZr_",
        "outputId": "c5037931-b432-499a-8643-0496607838c0"
      },
      "source": [
        "teacher_number_of_previously_posted_projects=[]\n",
        "for i in FN_indexs:\n",
        "    teacher_number_of_previously_posted_projects.append(X_test.loc[i]['teacher_number_of_previously_posted_projects'])\n",
        "import seaborn as sns, numpy as np\n",
        "ax = sns.distplot(teacher_number_of_previously_posted_projects) "
      ],
      "execution_count": 77,
      "outputs": [
        {
          "output_type": "display_data",
          "data": {
            "image/png": "[encoded data removed]",
            "text/plain": [
              "<Figure size 432x288 with 1 Axes>"
            ]
          },
          "metadata": {}
        }
      ]
    },
    {
      "cell_type": "code",
      "metadata": {
        "colab": {
          "base_uri": "https://localhost:8080/"
        },
        "id": "g7mQ8CVco9QR",
        "outputId": "10919f2b-04d9-4e69-a9e6-44f3a1404ea0"
      },
      "source": [
        "depth_alpha=[1]\n",
        "min_sample_split_alpha=[100]\n",
        "param_grid = dict(max_depth = depth_alpha, \n",
        "                  n_estimators = min_sample_split_alpha)\n",
        "print(param_grid) "
      ],
      "execution_count": 78,
      "outputs": [
        {
          "output_type": "stream",
          "name": "stdout",
          "text": [
            "{'max_depth': [1], 'n_estimators': [100]}\n"
          ]
        }
      ]
    },
    {
      "cell_type": "code",
      "metadata": {
        "colab": {
          "base_uri": "https://localhost:8080/"
        },
        "id": "vS3Fob1Mo9Qf",
        "outputId": "d33179fa-7e41-45dc-bd2c-bb967eb03473"
      },
      "source": [
        "aucTotal_cv=[]\n",
        "aucTotal_train=[]\n",
        "HayperParametesDictAUC_cv=dict()\n",
        "for i in min_sample_split_alpha:\n",
        "    for j in depth_alpha:\n",
        "        print(\"for min sample split =\", i,\"and max depth = \", j)\n",
        "        clf = GradientBoostingClassifier(min_samples_split=i , max_depth=j,random_state=42)\n",
        "        clf.fit(X4_tr, y_tr)\n",
        "        sig_clf = GridSearchCV(clf, param_grid, cv=3, scoring='roc_auc', return_train_score=True, n_jobs= -1)\n",
        "        sig_clf.fit(X4_tr, y_tr)\n",
        "      \n",
        "        # predict the response on the crossvalidation train\n",
        "        \n",
        "        probs_cv = sig_clf.predict_proba(X4_cv)\n",
        "    \n",
        "        # predict the response on the train\n",
        "        probs_train = sig_clf.predict_proba(X4_tr)\n",
        "        \n",
        "        # keep probabilities for the positive outcome only\n",
        "        probs_cv = probs_cv[:, 1]\n",
        "        probs_train = probs_train[:,1]\n",
        "        \n",
        "        # calculate AUC\n",
        "        auc_cv = roc_auc_score(y_cv, probs_cv)\n",
        "        auc_train = roc_auc_score(y_tr, probs_train)\n",
        "        # evaluate CV accuracy\n",
        "        probs_cv_acc=sig_clf.predict(X3_cv)\n",
        "        acc_cv = accuracy_score(y_cv, probs_cv_acc, normalize=True) * float(100)\n",
        "        print('\\nCV accuracy for alpha = %f is %d%% and auc= %.3f' % (i, acc_cv,auc_cv))\n",
        "        aucTotal_cv.append(auc_cv)\n",
        "        aucTotal_train.append(auc_train) \n",
        "        HayperParametesDictAUC_cv[\"{},{}\".format(i,j)]=auc_cv"
      ],
      "execution_count": 79,
      "outputs": [
        {
          "output_type": "stream",
          "name": "stdout",
          "text": [
            "for min sample split = 100 and max depth =  1\n",
            "\n",
            "CV accuracy for alpha = 100.000000 is 84% and auc= 0.683\n"
          ]
        }
      ]
    },
    {
      "cell_type": "code",
      "metadata": {
        "colab": {
          "base_uri": "https://localhost:8080/"
        },
        "id": "ZVOnZpMco9Qk",
        "outputId": "75dcdd3c-828e-4fa1-a8e8-b44b60719cdc"
      },
      "source": [
        "aucTotal_cv[np.argmax(aucTotal_cv)]"
      ],
      "execution_count": 80,
      "outputs": [
        {
          "output_type": "execute_result",
          "data": {
            "text/plain": [
              "0.6825075508086239"
            ]
          },
          "metadata": {},
          "execution_count": 80
        }
      ]
    },
    {
      "cell_type": "code",
      "metadata": {
        "id": "htU5u1LIo9Qo"
      },
      "source": [
        "#https://stackoverflow.com/questions/268272/getting-key-with-maximum-value-in-dictionary\n",
        "import operator\n",
        "alpha=max(HayperParametesDictAUC_cv.items(), key=operator.itemgetter(1))[0]\n",
        "min_samples_split_cv,max_depth_cv = alpha.split(\",\")\n",
        "min_samples_split_cv=int(min_samples_split_cv)\n",
        "max_depth_cv = int(max_depth_cv)\n",
        "hp_tfidf_w2vec = 100 #alpha"
      ],
      "execution_count": 115,
      "outputs": []
    },
    {
      "cell_type": "code",
      "metadata": {
        "colab": {
          "base_uri": "https://localhost:8080/"
        },
        "id": "pPIgPwJTo9Qr",
        "outputId": "75f4c981-f67f-481b-b9aa-fa8c55283973"
      },
      "source": [
        "clf = GradientBoostingClassifier(min_samples_split=min_samples_split_cv , max_depth=max_depth_cv,random_state=42)\n",
        "clf.fit(X4_tr, y_tr)\n",
        "sig_clf = GridSearchCV(clf,param_grid)\n",
        "sig_clf.fit(X4_tr, y_tr)\n",
        "\n",
        "probs_test   =  sig_clf.predict_proba(X3_test)\n",
        "probs_train  = sig_clf.predict_proba(X3_tr)\n",
        "y_pred_test  = sig_clf.predict(X3_test)\n",
        "y_pred_train = sig_clf.predict(X3_tr)\n",
        "\n",
        "# keep probabilities for the positive outcome only\n",
        "probs_test = probs_test[:, 1]\n",
        "probs_train = probs_train[:,1]\n",
        "# calculate AUC\n",
        "auc = roc_auc_score(y_test, probs_test)\n",
        "#y_pred_test = sig_clf.predict(X1_test)\n",
        "#auc = roc_auc_score(y_test, y_pred_test)\n",
        "auc_tfidf_w2vec =auc\n",
        "print(\"Test AUC: \",auc)\n",
        "#y_pred_tr =  sig_clf.predict(X1_tr)\n",
        "auc = roc_auc_score(y_tr, probs_train)\n",
        "print(\"Train AUC: \",auc)"
      ],
      "execution_count": 82,
      "outputs": [
        {
          "output_type": "stream",
          "name": "stdout",
          "text": [
            "Test AUC:  0.6715102605024905\n",
            "Train AUC:  0.688978661650313\n"
          ]
        }
      ]
    },
    {
      "cell_type": "code",
      "metadata": {
        "id": "6eKbqGeo4gxM"
      },
      "source": [
        "auc_tfidf_w2vec=0.6715102605024905"
      ],
      "execution_count": 102,
      "outputs": []
    },
    {
      "cell_type": "code",
      "metadata": {
        "colab": {
          "base_uri": "https://localhost:8080/",
          "height": 301
        },
        "id": "QaB8xrumo9Qv",
        "outputId": "33822aaf-d294-4566-8e63-efc72a10ca44"
      },
      "source": [
        "import matplotlib.pyplot as plt\n",
        "probs_test = sig_clf.predict_proba(X4_test)[:,1]\n",
        "probs_train = sig_clf.predict_proba(X4_tr)[:,1]\n",
        "# calculate roc curve\n",
        "fpr, tpr, thresholds = roc_curve(y_test, probs_test)\n",
        "fpr2, tpr2, thresholds2 = roc_curve(y_tr, probs_train)\n",
        "# plot no skill\n",
        "plt.plot([0, 1], [0, 1], color='C0')\n",
        "# plot the roc curve for the model\n",
        "plt.plot(fpr, tpr, color='C1',label='cv')\n",
        "plt.plot(fpr2, tpr2, color='g',label='train')\n",
        "plt.legend()\n",
        "plt.xlabel('FPR')\n",
        "plt.ylabel('TPR')\n",
        "plt.title(\"ERROR PLOT\")\n",
        "# show the plot\n",
        "plt.show()"
      ],
      "execution_count": 83,
      "outputs": [
        {
          "output_type": "display_data",
          "data": {
            "image/png": "[encoded data removed]",
            "text/plain": [
              "<Figure size 432x288 with 1 Axes>"
            ]
          },
          "metadata": {}
        }
      ]
    },
    {
      "cell_type": "code",
      "metadata": {
        "id": "Vo9iEsEPL6Ff"
      },
      "source": [
        "from sklearn.metrics import confusion_matrix\n",
        "cm=confusion_matrix(y_test, y_pred_test)\n",
        "TPR=np.round(cm[1][1]/(cm[0][1]+cm[1][1])*100,2)\n",
        "FPR=np.round(cm[0][0]/(cm[0][0]+cm[1][0])*100,2)\n",
        "Precision= np.round(cm[1][1]/(cm[1][0]+cm[1][1])*100,2)\n",
        "Recall = TPR\n",
        "F1_Score= np.round((2*Precision*Recall)/(Recall+Precision),3)\n",
        "F1_Score_l2=F1_Score"
      ],
      "execution_count": 84,
      "outputs": []
    },
    {
      "cell_type": "code",
      "metadata": {
        "colab": {
          "base_uri": "https://localhost:8080/",
          "height": 362
        },
        "id": "qGYJhQTdorbb",
        "outputId": "0073e070-cbe7-4cd4-a422-0ebd0232f372"
      },
      "source": [
        "import seaborn as sns; sns.set()\n",
        "ax = sns.heatmap(cm,annot=True,fmt=\"d\",cmap=\"YlGnBu\")\n",
        "\n",
        "print(\"TPR: {}%\\nFPR: {}%\\nPrecision: {}%\\nRecall: {}%\\nF1 Score: {}% \".format(TPR,FPR,Precision,Recall,F1_Score))"
      ],
      "execution_count": 85,
      "outputs": [
        {
          "output_type": "stream",
          "name": "stdout",
          "text": [
            "TPR: 84.77%\n",
            "FPR: 0.0%\n",
            "Precision: 100.0%\n",
            "Recall: 84.77%\n",
            "F1 Score: 91.757% \n"
          ]
        },
        {
          "output_type": "display_data",
          "data": {
            "image/png": "[encoded data removed]",
            "text/plain": [
              "<Figure size 432x288 with 2 Axes>"
            ]
          },
          "metadata": {}
        }
      ]
    },
    {
      "cell_type": "code",
      "metadata": {
        "id": "DmgJK0L7orhQ"
      },
      "source": [
        "#https://stackoverflow.com/questions/43193880/how-to-get-row-number-in-dataframe-in-pandas\n",
        "test=[]\n",
        "FN=pd.DataFrame({\"Actual\":y_test, \"Predicted\":y_pred_test})\n",
        "FN_indexs=list(FN[(FN[\"Actual\"]==0) & (FN[\"Predicted\"]==1)].index)\n",
        "FN_2=FN[(FN[\"Actual\"]==0) & (FN[\"Predicted\"]==1)]"
      ],
      "execution_count": 86,
      "outputs": []
    },
    {
      "cell_type": "code",
      "metadata": {
        "colab": {
          "base_uri": "https://localhost:8080/",
          "height": 254
        },
        "id": "ITf_0itPoruN",
        "outputId": "346b02d9-54f6-4b7c-c6fa-ee314f7eac45"
      },
      "source": [
        "price=[]\n",
        "for i in FN_indexs:\n",
        "    price.append(X_test.loc[i]['price'])\n",
        "import seaborn as sns\n",
        "sns.set(style=\"whitegrid\")\n",
        "ax = sns.barplot(y=\"price\", hue=FN_2[\"Predicted\"], data=X_test)  "
      ],
      "execution_count": 87,
      "outputs": [
        {
          "output_type": "display_data",
          "data": {
            "image/png": "[encoded data removed]",
            "text/plain": [
              "<Figure size 432x288 with 1 Axes>"
            ]
          },
          "metadata": {}
        }
      ]
    },
    {
      "cell_type": "code",
      "metadata": {
        "colab": {
          "base_uri": "https://localhost:8080/",
          "height": 254
        },
        "id": "VFrlctbYor6-",
        "outputId": "bf62bd0d-a627-4bfa-d9ed-5bcab20bb90d"
      },
      "source": [
        "ax = sns.barplot(y=\"price\", hue=FN_2[\"Actual\"], data=X_test)"
      ],
      "execution_count": 88,
      "outputs": [
        {
          "output_type": "display_data",
          "data": {
            "image/png": "[encoded data removed]",
            "text/plain": [
              "<Figure size 432x288 with 1 Axes>"
            ]
          },
          "metadata": {}
        }
      ]
    },
    {
      "cell_type": "code",
      "metadata": {
        "colab": {
          "base_uri": "https://localhost:8080/",
          "height": 268
        },
        "id": "lkhtg61fosGH",
        "outputId": "db9c1218-2d24-4e75-c0b8-2a078c20f410"
      },
      "source": [
        "teacher_number_of_previously_posted_projects=[]\n",
        "for i in FN_indexs:\n",
        "    teacher_number_of_previously_posted_projects.append(X_test.loc[i]['teacher_number_of_previously_posted_projects'])\n",
        "import seaborn as sns, numpy as np\n",
        "ax = sns.distplot(teacher_number_of_previously_posted_projects) "
      ],
      "execution_count": 89,
      "outputs": [
        {
          "output_type": "display_data",
          "data": {
            "image/png": "[encoded data removed]",
            "text/plain": [
              "<Figure size 432x288 with 1 Axes>"
            ]
          },
          "metadata": {}
        }
      ]
    },
    {
      "cell_type": "code",
      "metadata": {
        "id": "C8bmijup0DUd"
      },
      "source": [
        "top_5000_features=np.argsort(clf.feature_importances_)\n",
        "top_5000_features=top_5000_features[:5000]"
      ],
      "execution_count": 92,
      "outputs": []
    },
    {
      "cell_type": "code",
      "metadata": {
        "colab": {
          "base_uri": "https://localhost:8080/"
        },
        "id": "RIObWFxaosQQ",
        "outputId": "4a05d59b-0922-4cdf-b45e-9a8a58dfc012"
      },
      "source": [
        "#pick multiple csr columns based on index: https://stackoverflow.com/questions/13352280/slicing-sparse-matrices-in-scipy-which-types-work-best\n",
        "indices = np.where(top_5000_features)[0]\n",
        "X2_tr_5000 = X2_tr.tocsr()[:,indices]\n",
        "X2_cv_5000 = X2_cv.tocsr()[:,indices]\n",
        "X2_test_5000 = X2_test.tocsr()[:,indices]\n",
        "\n",
        "#Check the shape of the new Data's\n",
        "\n",
        "print(X2_tr_5000.shape)\n",
        "print(X2_cv_5000.shape)\n",
        "print(X2_test_5000.shape)"
      ],
      "execution_count": 93,
      "outputs": [
        {
          "output_type": "stream",
          "name": "stdout",
          "text": [
            "(53531, 311)\n",
            "(22942, 311)\n",
            "(32775, 311)\n"
          ]
        }
      ]
    },
    {
      "cell_type": "code",
      "metadata": {
        "id": "ZpSiarRgz9Gd"
      },
      "source": [
        "# Please compare all yfrom prettytable import PrettyTable\n",
        "from prettytable import PrettyTable\n",
        "    \n",
        "x = PrettyTable()\n",
        "\n",
        "x.field_names = [\"Vectorizer\", \"Model\", \"Hyper Parameter\", \"AUC\"]\n",
        "x.add_row([\"BOW\", \"GradientBoostingClassifier\", hp_bow, np.round(auc_bow,5)])\n",
        "x.add_row([\"Tfidf\",\"GradientBoostingClassifier\", hp_tfidf, np.round(auc_tfidf,5)])\n",
        "x.add_row([\"Word2Vec\", \"GradientBoostingClassifier\", hp_w2vec, np.round(auc_w2vec,5)])\n",
        "x.add_row([\"TfidfWord2Vec\",\"GradientBoostingClassifier\", hp_tfidf_w2vec, np.round(auc_tfidf_w2vec,5)])\n"
      ],
      "execution_count": 116,
      "outputs": []
    },
    {
      "cell_type": "code",
      "metadata": {
        "colab": {
          "base_uri": "https://localhost:8080/"
        },
        "id": "sdFrE1apz9Mp",
        "outputId": "85ca44ca-4e58-4760-bf86-846a55096d5b"
      },
      "source": [
        "print(x)"
      ],
      "execution_count": 117,
      "outputs": [
        {
          "output_type": "stream",
          "name": "stdout",
          "text": [
            "+---------------+----------------------------+-----------------+---------+\n",
            "|   Vectorizer  |           Model            | Hyper Parameter |   AUC   |\n",
            "+---------------+----------------------------+-----------------+---------+\n",
            "|      BOW      | GradientBoostingClassifier |       500       | 0.67151 |\n",
            "|     Tfidf     | GradientBoostingClassifier |       500       | 0.70831 |\n",
            "|    Word2Vec   | GradientBoostingClassifier |       100       |  0.6752 |\n",
            "| TfidfWord2Vec | GradientBoostingClassifier |       100       | 0.67151 |\n",
            "+---------------+----------------------------+-----------------+---------+\n"
          ]
        }
      ]
    }
  ]
}