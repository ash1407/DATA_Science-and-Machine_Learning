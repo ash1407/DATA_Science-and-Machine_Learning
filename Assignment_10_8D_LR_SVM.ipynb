{
  "nbformat": 4,
  "nbformat_minor": 0,
  "metadata": {
    "kernelspec": {
      "display_name": "Python 3",
      "language": "python",
      "name": "python3"
    },
    "language_info": {
      "codemirror_mode": {
        "name": "ipython",
        "version": 3
      },
      "file_extension": ".py",
      "mimetype": "text/x-python",
      "name": "python",
      "nbconvert_exporter": "python",
      "pygments_lexer": "ipython3",
      "version": "3.6.8"
    },
    "colab": {
      "name": "8D_LR_SVM.ipynb",
      "provenance": [],
      "collapsed_sections": []
    }
  },
  "cells": [
    {
      "cell_type": "markdown",
      "metadata": {
        "id": "86Tvnj5UblTy"
      },
      "source": [
        "## Task-D: Collinear features and their effect on linear models"
      ]
    },
    {
      "cell_type": "code",
      "metadata": {
        "id": "qn_eOn2EblT3"
      },
      "source": [
        "%matplotlib inline\n",
        "import warnings\n",
        "warnings.filterwarnings(\"ignore\")\n",
        "import pandas as pd\n",
        "import numpy as np\n",
        "from sklearn.datasets import load_iris\n",
        "from sklearn.linear_model import SGDClassifier\n",
        "from sklearn.model_selection import GridSearchCV\n",
        "import seaborn as sns\n",
        "import matplotlib.pyplot as plt"
      ],
      "execution_count": 20,
      "outputs": []
    },
    {
      "cell_type": "code",
      "metadata": {
        "colab": {
          "base_uri": "https://localhost:8080/"
        },
        "id": "rRfrpjCWQZKd",
        "outputId": "f35c67ab-67f1-4a1a-9f58-2265c20ce817"
      },
      "source": [
        "from google.colab import drive\n",
        "drive.mount('/content/drive')  \n"
      ],
      "execution_count": 2,
      "outputs": [
        {
          "output_type": "stream",
          "text": [
            "Mounted at /content/drive\n"
          ],
          "name": "stdout"
        }
      ]
    },
    {
      "cell_type": "code",
      "metadata": {
        "id": "VMoYWIayblUB"
      },
      "source": [
        "data = pd.read_csv(\"/content/drive/MyDrive/Colab Notebooks/task_d.csv\")"
      ],
      "execution_count": 4,
      "outputs": []
    },
    {
      "cell_type": "code",
      "metadata": {
        "id": "RfStXG4tblUI",
        "colab": {
          "base_uri": "https://localhost:8080/",
          "height": 206
        },
        "outputId": "0b336e82-3d41-4d9b-ebda-d09062090de3"
      },
      "source": [
        "data.head()"
      ],
      "execution_count": 5,
      "outputs": [
        {
          "output_type": "execute_result",
          "data": {
            "text/html": [
              "<div>\n",
              "<style scoped>\n",
              "    .dataframe tbody tr th:only-of-type {\n",
              "        vertical-align: middle;\n",
              "    }\n",
              "\n",
              "    .dataframe tbody tr th {\n",
              "        vertical-align: top;\n",
              "    }\n",
              "\n",
              "    .dataframe thead th {\n",
              "        text-align: right;\n",
              "    }\n",
              "</style>\n",
              "<table border=\"1\" class=\"dataframe\">\n",
              "  <thead>\n",
              "    <tr style=\"text-align: right;\">\n",
              "      <th></th>\n",
              "      <th>x</th>\n",
              "      <th>y</th>\n",
              "      <th>z</th>\n",
              "      <th>x*x</th>\n",
              "      <th>2*y</th>\n",
              "      <th>2*z+3*x*x</th>\n",
              "      <th>w</th>\n",
              "      <th>target</th>\n",
              "    </tr>\n",
              "  </thead>\n",
              "  <tbody>\n",
              "    <tr>\n",
              "      <th>0</th>\n",
              "      <td>-0.581066</td>\n",
              "      <td>0.841837</td>\n",
              "      <td>-1.012978</td>\n",
              "      <td>-0.604025</td>\n",
              "      <td>0.841837</td>\n",
              "      <td>-0.665927</td>\n",
              "      <td>-0.536277</td>\n",
              "      <td>0</td>\n",
              "    </tr>\n",
              "    <tr>\n",
              "      <th>1</th>\n",
              "      <td>-0.894309</td>\n",
              "      <td>-0.207835</td>\n",
              "      <td>-1.012978</td>\n",
              "      <td>-0.883052</td>\n",
              "      <td>-0.207835</td>\n",
              "      <td>-0.917054</td>\n",
              "      <td>-0.522364</td>\n",
              "      <td>0</td>\n",
              "    </tr>\n",
              "    <tr>\n",
              "      <th>2</th>\n",
              "      <td>-1.207552</td>\n",
              "      <td>0.212034</td>\n",
              "      <td>-1.082312</td>\n",
              "      <td>-1.150918</td>\n",
              "      <td>0.212034</td>\n",
              "      <td>-1.166507</td>\n",
              "      <td>0.205738</td>\n",
              "      <td>0</td>\n",
              "    </tr>\n",
              "    <tr>\n",
              "      <th>3</th>\n",
              "      <td>-1.364174</td>\n",
              "      <td>0.002099</td>\n",
              "      <td>-0.943643</td>\n",
              "      <td>-1.280666</td>\n",
              "      <td>0.002099</td>\n",
              "      <td>-1.266540</td>\n",
              "      <td>-0.665720</td>\n",
              "      <td>0</td>\n",
              "    </tr>\n",
              "    <tr>\n",
              "      <th>4</th>\n",
              "      <td>-0.737687</td>\n",
              "      <td>1.051772</td>\n",
              "      <td>-1.012978</td>\n",
              "      <td>-0.744934</td>\n",
              "      <td>1.051772</td>\n",
              "      <td>-0.792746</td>\n",
              "      <td>-0.735054</td>\n",
              "      <td>0</td>\n",
              "    </tr>\n",
              "  </tbody>\n",
              "</table>\n",
              "</div>"
            ],
            "text/plain": [
              "          x         y         z  ...  2*z+3*x*x         w  target\n",
              "0 -0.581066  0.841837 -1.012978  ...  -0.665927 -0.536277       0\n",
              "1 -0.894309 -0.207835 -1.012978  ...  -0.917054 -0.522364       0\n",
              "2 -1.207552  0.212034 -1.082312  ...  -1.166507  0.205738       0\n",
              "3 -1.364174  0.002099 -0.943643  ...  -1.266540 -0.665720       0\n",
              "4 -0.737687  1.051772 -1.012978  ...  -0.792746 -0.735054       0\n",
              "\n",
              "[5 rows x 8 columns]"
            ]
          },
          "metadata": {},
          "execution_count": 5
        }
      ]
    },
    {
      "cell_type": "code",
      "metadata": {
        "id": "JIIuomCkblUP"
      },
      "source": [
        "X = data.drop(['target'], axis=1)\n",
        "Y = data['target'].values"
      ],
      "execution_count": 8,
      "outputs": []
    },
    {
      "cell_type": "markdown",
      "metadata": {
        "id": "Ydm98u3EblUU"
      },
      "source": [
        "### Doing perturbation test to check the presence of collinearity  \n",
        "\n",
        "#### Task: 1 Logistic Regression\n",
        "<pre>\n",
        "\n",
        "\n",
        "1. <b>Finding the Correlation between the features</b>\n",
        "    a. check the correlation between the features\n",
        "    b. plot heat map of correlation matrix using seaborn heatmap\n",
        "2. <b>Finding the best model for the given data</b>\n",
        "    a. Train Logistic regression on data(X,Y) that we have created in the above cell\n",
        "    b. Find the best hyper prameter alpha with hyper parameter tuning using k-fold cross validation (grid search CV or         \n",
        "    random search CV make sure you choose the alpha in log space)\n",
        "    c. Creat a new Logistic regression with the best alpha\n",
        "    (search for how to get the best hyper parameter value), name the best model as 'best_model'\n",
        "    \n",
        "3. <b>Getting the weights with the original data</b>\n",
        "    a. train the 'best_model' with X, Y\n",
        "    b. Check the accuracy of the model 'best_model_accuracy'\n",
        "    c. Get the weights W using best_model.coef_\n",
        "\n",
        "4. <b>Modifying original data</b>\n",
        "    a. Add a noise(order of 10^-2) to each element of X \n",
        "    and get the new data set X' (X' = X + e)\n",
        "    b. Train the same 'best_model' with data (X', Y)\n",
        "    c. Check the accuracy of the model 'best_model_accuracy_edited'\n",
        "    d. Get the weights W' using best_model.coef_\n",
        "    \n",
        "5. <b> Checking deviations in metric and weights </b>\n",
        "    a. find the difference between 'best_model_accuracy_edited' and 'best_model_accuracy'\n",
        "    b. find the absolute change between each value of W and W' ==> |(W-W')|\n",
        "    c. print the top 4 features which have higher % change in weights \n",
        "    compare to the other feature\n",
        "\n",
        "</pre>\n",
        "\n",
        "#### Task: 2 Linear SVM\n",
        "\n",
        "<pre>\n",
        "1. Do the same steps (2, 3, 4, 5) we have done in the above task 1.\n",
        "</pre>\n",
        "\n",
        "<strong><font color='red'>Do write the observations based on the results you get from the deviations of weights in both Logistic Regression and linear SVM</font></strong>"
      ]
    },
    {
      "cell_type": "code",
      "metadata": {
        "colab": {
          "base_uri": "https://localhost:8080/"
        },
        "id": "AFsLn4JEPZz5",
        "outputId": "b200a1bf-8d89-4b57-c55a-8da66c2d8afb"
      },
      "source": [
        "#LOGISTIC REGRESSION\n",
        "\n",
        "data.corr()['target']"
      ],
      "execution_count": 9,
      "outputs": [
        {
          "output_type": "execute_result",
          "data": {
            "text/plain": [
              "x            0.728290\n",
              "y           -0.690684\n",
              "z            0.969990\n",
              "x*x          0.719570\n",
              "2*y         -0.690684\n",
              "2*z+3*x*x    0.764729\n",
              "w            0.641750\n",
              "target       1.000000\n",
              "Name: target, dtype: float64"
            ]
          },
          "metadata": {},
          "execution_count": 9
        }
      ]
    },
    {
      "cell_type": "code",
      "metadata": {
        "id": "Lai8wXU1pmSb",
        "colab": {
          "base_uri": "https://localhost:8080/",
          "height": 304
        },
        "outputId": "19384f87-d97e-46ee-ed91-31da611e9be9"
      },
      "source": [
        "corr = X.corr()\n",
        "ax = sns.heatmap(corr,vmin=-1, vmax=1, center=0,cmap=sns.diverging_palette(20, 220, n=200),square=True)\n",
        "ax.set_xticklabels(ax.get_xticklabels(),rotation=45,horizontalalignment='right');"
      ],
      "execution_count": 10,
      "outputs": [
        {
          "output_type": "display_data",
          "data": {
            "image/png": "[encoded data removed]",
            "text/plain": [
              "<Figure size 432x288 with 2 Axes>"
            ]
          },
          "metadata": {
            "needs_background": "light"
          }
        }
      ]
    },
    {
      "cell_type": "code",
      "metadata": {
        "colab": {
          "base_uri": "https://localhost:8080/"
        },
        "id": "cBZyRwO8EzJq",
        "outputId": "30a42923-3563-4d6e-9edd-5537e0d44c7e"
      },
      "source": [
        "from sklearn.preprocessing import StandardScaler\n",
        "scaler = StandardScaler()\n",
        "statndard_X = scaler.fit_transform(X)\n",
        "LR = SGDClassifier(loss='log')\n",
        "LR.fit(X,Y)"
      ],
      "execution_count": 11,
      "outputs": [
        {
          "output_type": "execute_result",
          "data": {
            "text/plain": [
              "SGDClassifier(alpha=0.0001, average=False, class_weight=None,\n",
              "              early_stopping=False, epsilon=0.1, eta0=0.0, fit_intercept=True,\n",
              "              l1_ratio=0.15, learning_rate='optimal', loss='log', max_iter=1000,\n",
              "              n_iter_no_change=5, n_jobs=None, penalty='l2', power_t=0.5,\n",
              "              random_state=None, shuffle=True, tol=0.001,\n",
              "              validation_fraction=0.1, verbose=0, warm_start=False)"
            ]
          },
          "metadata": {},
          "execution_count": 11
        }
      ]
    },
    {
      "cell_type": "code",
      "metadata": {
        "id": "jwkmbVpZRQ63",
        "colab": {
          "base_uri": "https://localhost:8080/"
        },
        "outputId": "1e66adc6-4381-447f-b901-9980cd0bcf3f"
      },
      "source": [
        "params ={'alpha': np.logspace(-10, 1, 400)}\n",
        "clf = GridSearchCV(LR,params)\n",
        "clf.fit(X,Y)"
      ],
      "execution_count": 12,
      "outputs": [
        {
          "output_type": "execute_result",
          "data": {
            "text/plain": [
              "GridSearchCV(cv=None, error_score=nan,\n",
              "             estimator=SGDClassifier(alpha=0.0001, average=False,\n",
              "                                     class_weight=None, early_stopping=False,\n",
              "                                     epsilon=0.1, eta0=0.0, fit_intercept=True,\n",
              "                                     l1_ratio=0.15, learning_rate='optimal',\n",
              "                                     loss='log', max_iter=1000,\n",
              "                                     n_iter_no_change=5, n_jobs=None,\n",
              "                                     penalty='l2', power_t=0.5,\n",
              "                                     random_state=None, shuffle=True, tol=0.001,\n",
              "                                     validation_fraction=0.1...\n",
              "       2.99357729e+00, 3.18977022e+00, 3.39882122e+00, 3.62157300e+00,\n",
              "       3.85892347e+00, 4.11182940e+00, 4.38131027e+00, 4.66845237e+00,\n",
              "       4.97441317e+00, 5.30042602e+00, 5.64780507e+00, 6.01795064e+00,\n",
              "       6.41235480e+00, 6.83260739e+00, 7.28040247e+00, 7.75754513e+00,\n",
              "       8.26595874e+00, 8.80769273e+00, 9.38493086e+00, 1.00000000e+01])},\n",
              "             pre_dispatch='2*n_jobs', refit=True, return_train_score=False,\n",
              "             scoring=None, verbose=0)"
            ]
          },
          "metadata": {},
          "execution_count": 12
        }
      ]
    },
    {
      "cell_type": "code",
      "metadata": {
        "id": "yfC5iLYBR0W0",
        "colab": {
          "base_uri": "https://localhost:8080/"
        },
        "outputId": "73f4eb25-aee1-456e-a143-b4018b258b44"
      },
      "source": [
        "best_model = clf.best_params_\n",
        "print(best_model)\n",
        "best_model = SGDClassifier(alpha=1.0655379505623064e-10, loss = 'log')\n",
        "best_model.fit(X,Y)"
      ],
      "execution_count": 13,
      "outputs": [
        {
          "output_type": "stream",
          "text": [
            "{'alpha': 1.0655379505623064e-10}\n"
          ],
          "name": "stdout"
        },
        {
          "output_type": "execute_result",
          "data": {
            "text/plain": [
              "SGDClassifier(alpha=1.0655379505623064e-10, average=False, class_weight=None,\n",
              "              early_stopping=False, epsilon=0.1, eta0=0.0, fit_intercept=True,\n",
              "              l1_ratio=0.15, learning_rate='optimal', loss='log', max_iter=1000,\n",
              "              n_iter_no_change=5, n_jobs=None, penalty='l2', power_t=0.5,\n",
              "              random_state=None, shuffle=True, tol=0.001,\n",
              "              validation_fraction=0.1, verbose=0, warm_start=False)"
            ]
          },
          "metadata": {},
          "execution_count": 13
        }
      ]
    },
    {
      "cell_type": "code",
      "metadata": {
        "colab": {
          "base_uri": "https://localhost:8080/"
        },
        "id": "m1Hivk4jSDVV",
        "outputId": "4fe25e91-bfa1-48f4-9a27-7750214f1261"
      },
      "source": [
        "from sklearn.metrics import accuracy_score\n",
        "pred = best_model.predict(X)\n",
        "best_model_accuracy = accuracy_score(Y,pred)\n",
        "print(best_model_accuracy)"
      ],
      "execution_count": 14,
      "outputs": [
        {
          "output_type": "stream",
          "text": [
            "1.0\n"
          ],
          "name": "stdout"
        }
      ]
    },
    {
      "cell_type": "code",
      "metadata": {
        "id": "_q-RxHlYLwyC",
        "colab": {
          "base_uri": "https://localhost:8080/"
        },
        "outputId": "ea3aaf03-e4b5-4caf-d966-8fd3442bbcea"
      },
      "source": [
        "\n",
        "weights_lr = best_model.coef_\n",
        "print(weights_lr)\n"
      ],
      "execution_count": 15,
      "outputs": [
        {
          "output_type": "stream",
          "text": [
            "[[ 494.53650476 -751.08226237 1223.4584557   402.3174775  -751.08226237\n",
            "   509.80024762  516.24744816]]\n"
          ],
          "name": "stdout"
        }
      ]
    },
    {
      "cell_type": "code",
      "metadata": {
        "colab": {
          "base_uri": "https://localhost:8080/"
        },
        "id": "3fcNSamJt3PV",
        "outputId": "856be16d-efa0-4f93-f3f3-9aeea15631e4"
      },
      "source": [
        "#SVM\n",
        "SVM = SGDClassifier(loss = \"hinge\")\n",
        "SVM.fit(X,Y)"
      ],
      "execution_count": 16,
      "outputs": [
        {
          "output_type": "execute_result",
          "data": {
            "text/plain": [
              "SGDClassifier(alpha=0.0001, average=False, class_weight=None,\n",
              "              early_stopping=False, epsilon=0.1, eta0=0.0, fit_intercept=True,\n",
              "              l1_ratio=0.15, learning_rate='optimal', loss='hinge',\n",
              "              max_iter=1000, n_iter_no_change=5, n_jobs=None, penalty='l2',\n",
              "              power_t=0.5, random_state=None, shuffle=True, tol=0.001,\n",
              "              validation_fraction=0.1, verbose=0, warm_start=False)"
            ]
          },
          "metadata": {},
          "execution_count": 16
        }
      ]
    },
    {
      "cell_type": "code",
      "metadata": {
        "id": "4xR3gwJ_ytnI",
        "colab": {
          "base_uri": "https://localhost:8080/"
        },
        "outputId": "70290ebf-8c05-4007-bd61-ae0908ae3e4b"
      },
      "source": [
        "params ={'alpha': np.logspace(-10, 1, 400)}\n",
        "clf_svm = GridSearchCV(SVM,params)\n",
        "clf_svm.fit(X,Y)\n"
      ],
      "execution_count": 22,
      "outputs": [
        {
          "output_type": "execute_result",
          "data": {
            "text/plain": [
              "GridSearchCV(cv=None, error_score=nan,\n",
              "             estimator=SGDClassifier(alpha=0.0001, average=False,\n",
              "                                     class_weight=None, early_stopping=False,\n",
              "                                     epsilon=0.1, eta0=0.0, fit_intercept=True,\n",
              "                                     l1_ratio=0.15, learning_rate='optimal',\n",
              "                                     loss='hinge', max_iter=1000,\n",
              "                                     n_iter_no_change=5, n_jobs=None,\n",
              "                                     penalty='l2', power_t=0.5,\n",
              "                                     random_state=None, shuffle=True, tol=0.001,\n",
              "                                     validation_fraction=0...\n",
              "       2.99357729e+00, 3.18977022e+00, 3.39882122e+00, 3.62157300e+00,\n",
              "       3.85892347e+00, 4.11182940e+00, 4.38131027e+00, 4.66845237e+00,\n",
              "       4.97441317e+00, 5.30042602e+00, 5.64780507e+00, 6.01795064e+00,\n",
              "       6.41235480e+00, 6.83260739e+00, 7.28040247e+00, 7.75754513e+00,\n",
              "       8.26595874e+00, 8.80769273e+00, 9.38493086e+00, 1.00000000e+01])},\n",
              "             pre_dispatch='2*n_jobs', refit=True, return_train_score=False,\n",
              "             scoring=None, verbose=0)"
            ]
          },
          "metadata": {},
          "execution_count": 22
        }
      ]
    },
    {
      "cell_type": "code",
      "metadata": {
        "colab": {
          "base_uri": "https://localhost:8080/"
        },
        "id": "WYsg2C4JHNaq",
        "outputId": "abefb569-180f-4765-abc5-544c817640c5"
      },
      "source": [
        "best_model_svm = clf_svm.best_params_\n",
        "print(best_model_svm)\n",
        "best_model_svm = SGDClassifier(alpha=1e-10, loss = 'hinge')\n",
        "best_model_svm.fit(X,Y)"
      ],
      "execution_count": 25,
      "outputs": [
        {
          "output_type": "stream",
          "text": [
            "{'alpha': 1.0655379505623064e-10}\n"
          ],
          "name": "stdout"
        },
        {
          "output_type": "execute_result",
          "data": {
            "text/plain": [
              "SGDClassifier(alpha=1e-10, average=False, class_weight=None,\n",
              "              early_stopping=False, epsilon=0.1, eta0=0.0, fit_intercept=True,\n",
              "              l1_ratio=0.15, learning_rate='optimal', loss='hinge',\n",
              "              max_iter=1000, n_iter_no_change=5, n_jobs=None, penalty='l2',\n",
              "              power_t=0.5, random_state=None, shuffle=True, tol=0.001,\n",
              "              validation_fraction=0.1, verbose=0, warm_start=False)"
            ]
          },
          "metadata": {},
          "execution_count": 25
        }
      ]
    },
    {
      "cell_type": "code",
      "metadata": {
        "colab": {
          "base_uri": "https://localhost:8080/"
        },
        "id": "6l5FZmw725pp",
        "outputId": "f44e7be5-928d-41b3-8737-9e3a9bd322ba"
      },
      "source": [
        "pred_svm = best_model_svm.predict(X)\n",
        "\n",
        "best_model_accuracy_svm = accuracy_score(Y,pred)\n",
        "print(best_model_accuracy_svm)\n",
        "weights_svm = best_model_svm.coef_\n",
        "print(weights_svm)"
      ],
      "execution_count": 26,
      "outputs": [
        {
          "output_type": "stream",
          "text": [
            "1.0\n",
            "[[ 445.742857   -730.24197764  855.075875    383.37793441 -730.24197764\n",
            "   448.27885518  258.08259753]]\n"
          ],
          "name": "stdout"
        }
      ]
    },
    {
      "cell_type": "code",
      "metadata": {
        "colab": {
          "base_uri": "https://localhost:8080/"
        },
        "id": "nn8lt24lcF1D",
        "outputId": "7a95fa63-2923-4b0e-899a-5fff5a3e32d2"
      },
      "source": [
        "new_x = np.add(X, 10 ** -2) \n",
        "scaler.fit_transform(new_x)"
      ],
      "execution_count": 27,
      "outputs": [
        {
          "output_type": "execute_result",
          "data": {
            "text/plain": [
              "array([[-5.81065904e-01,  8.41837140e-01, -1.01297765e+00,\n",
              "        -6.04024675e-01,  8.41837140e-01, -6.65926787e-01,\n",
              "        -5.36277029e-01],\n",
              "       [-8.94308978e-01, -2.07835104e-01, -1.01297765e+00,\n",
              "        -8.83052126e-01, -2.07835104e-01, -9.17054076e-01,\n",
              "        -5.22364042e-01],\n",
              "       [-1.20755205e+00,  2.12033793e-01, -1.08231219e+00,\n",
              "        -1.15091848e+00,  2.12033793e-01, -1.16650718e+00,\n",
              "         2.05737674e-01],\n",
              "       [-1.36417359e+00,  2.09934449e-03, -9.43643106e-01,\n",
              "        -1.28066624e+00,  2.09934449e-03, -1.26653955e+00,\n",
              "        -6.65719960e-01],\n",
              "       [-7.37687441e-01,  1.05177159e+00, -1.01297765e+00,\n",
              "        -7.44933538e-01,  1.05177159e+00, -7.92746068e-01,\n",
              "        -7.35054120e-01],\n",
              "       [-1.11201292e-01,  1.68157493e+00, -8.04974023e-01,\n",
              "        -1.64556439e-01,  1.68157493e+00, -2.45288579e-01,\n",
              "         4.89915854e-01],\n",
              "       [-1.36417359e+00,  6.31902691e-01, -1.01297765e+00,\n",
              "        -1.28066624e+00,  6.31902691e-01, -1.27491046e+00,\n",
              "         3.68155902e-01],\n",
              "       [-7.37687441e-01,  6.31902691e-01, -9.43643106e-01,\n",
              "        -7.44933538e-01,  6.31902691e-01, -7.84375159e-01,\n",
              "        -1.87525510e+00],\n",
              "       [-1.67741667e+00, -4.17769553e-01, -1.01297765e+00,\n",
              "        -1.53179095e+00, -4.17769553e-01, -1.50092502e+00,\n",
              "         1.63838184e-01],\n",
              "       [-8.94308978e-01,  2.09934449e-03, -9.43643106e-01,\n",
              "        -8.83052126e-01,  2.09934449e-03, -9.08683166e-01,\n",
              "         2.56013375e-01],\n",
              "       [-1.11201292e-01,  1.26170604e+00, -9.43643106e-01,\n",
              "        -1.64556439e-01,  1.26170604e+00, -2.62030398e-01,\n",
              "        -3.63631706e-01],\n",
              "       [-1.05093052e+00,  6.31902691e-01, -8.74308565e-01,\n",
              "        -1.01838044e+00,  6.31902691e-01, -1.02210899e+00,\n",
              "        -1.67303624e+00],\n",
              "       [-1.05093052e+00, -2.07835104e-01, -1.01297765e+00,\n",
              "        -1.01838044e+00, -2.07835104e-01, -1.03885081e+00,\n",
              "        -1.66480188e+00],\n",
              "       [-1.83403820e+00, -2.07835104e-01, -1.22098127e+00,\n",
              "        -1.65316789e+00, -2.07835104e-01, -1.63527812e+00,\n",
              "        -1.37191487e+00],\n",
              "       [ 5.15284858e-01,  1.89150938e+00, -1.15164673e+00,\n",
              "         4.60465051e-01,  1.89150938e+00,  2.75381999e-01,\n",
              "        -8.36756163e-01],\n",
              "       [ 3.58663321e-01,  2.73124718e+00, -9.43643106e-01,\n",
              "         3.00024267e-01,  2.73124718e+00,  1.56096537e-01,\n",
              "        -1.44650062e-01],\n",
              "       [-1.11201292e-01,  1.68157493e+00, -1.08231219e+00,\n",
              "        -1.64556439e-01,  1.68157493e+00, -2.78772218e-01,\n",
              "        -2.59712709e-01],\n",
              "       [-5.81065904e-01,  8.41837140e-01, -1.01297765e+00,\n",
              "        -6.04024675e-01,  8.41837140e-01, -6.65926787e-01,\n",
              "        -4.06519765e-01],\n",
              "       [ 3.58663321e-01,  1.47164049e+00, -8.04974023e-01,\n",
              "         3.00024267e-01,  1.47164049e+00,  1.72838356e-01,\n",
              "         2.70811007e-03],\n",
              "       [-5.81065904e-01,  1.47164049e+00, -9.43643106e-01,\n",
              "        -6.04024675e-01,  1.47164049e+00, -6.57555878e-01,\n",
              "         3.95229696e-01],\n",
              "       [-1.11201292e-01,  6.31902691e-01, -8.04974023e-01,\n",
              "        -1.64556439e-01,  6.31902691e-01, -2.45288579e-01,\n",
              "        -1.61253425e+00],\n",
              "       [-5.81065904e-01,  1.26170604e+00, -9.43643106e-01,\n",
              "        -6.04024675e-01,  1.26170604e+00, -6.57555878e-01,\n",
              "        -1.18216914e+00],\n",
              "       [-1.36417359e+00,  1.05177159e+00, -1.29031581e+00,\n",
              "        -1.28066624e+00,  1.05177159e+00, -1.30839410e+00,\n",
              "        -1.51203058e+00],\n",
              "       [-5.81065904e-01,  4.21968242e-01, -8.04974023e-01,\n",
              "        -6.04024675e-01,  4.21968242e-01, -6.40814059e-01,\n",
              "        -9.79958255e-02],\n",
              "       [-1.05093052e+00,  6.31902691e-01, -6.66304941e-01,\n",
              "        -1.01838044e+00,  6.31902691e-01, -9.96996263e-01,\n",
              "         3.40778294e-01],\n",
              "       [-7.37687441e-01, -2.07835104e-01, -8.74308565e-01,\n",
              "        -7.44933538e-01, -2.07835104e-01, -7.76004249e-01,\n",
              "        -7.79964001e-01],\n",
              "       [-7.37687441e-01,  6.31902691e-01, -8.74308565e-01,\n",
              "        -7.44933538e-01,  6.31902691e-01, -7.76004249e-01,\n",
              "        -1.04470299e+00],\n",
              "       [-4.24444366e-01,  8.41837140e-01, -9.43643106e-01,\n",
              "        -4.60325538e-01,  8.41837140e-01, -5.28225324e-01,\n",
              "        -4.44492158e-01],\n",
              "       [-4.24444366e-01,  6.31902691e-01, -1.01297765e+00,\n",
              "        -4.60325538e-01,  6.31902691e-01, -5.36596234e-01,\n",
              "        -1.10420653e+00],\n",
              "       [-1.20755205e+00,  2.12033793e-01, -8.74308565e-01,\n",
              "        -1.15091848e+00,  2.12033793e-01, -1.14139445e+00,\n",
              "        -1.93126880e+00],\n",
              "       [-1.05093052e+00,  2.09934449e-03, -8.74308565e-01,\n",
              "        -1.01838044e+00,  2.09934449e-03, -1.02210899e+00,\n",
              "        -9.83345788e-01],\n",
              "       [-1.11201292e-01,  6.31902691e-01, -9.43643106e-01,\n",
              "        -1.64556439e-01,  6.31902691e-01, -2.62030398e-01,\n",
              "         5.03334896e-01],\n",
              "       [-4.24444366e-01,  2.10144383e+00, -9.43643106e-01,\n",
              "        -4.60325538e-01,  2.10144383e+00, -5.28225324e-01,\n",
              "         2.78895657e-01],\n",
              "       [ 4.54202458e-02,  2.31137828e+00, -1.01297765e+00,\n",
              "        -1.24864784e-02,  2.31137828e+00, -1.33536936e-01,\n",
              "        -6.84046406e-01],\n",
              "       [-8.94308978e-01,  2.09934449e-03, -9.43643106e-01,\n",
              "        -8.83052126e-01,  2.09934449e-03, -9.08683166e-01,\n",
              "        -1.14312018e-01],\n",
              "       [-7.37687441e-01,  2.12033793e-01, -1.15164673e+00,\n",
              "        -7.44933538e-01,  2.12033793e-01, -8.09487887e-01,\n",
              "        -1.03823234e+00],\n",
              "       [ 4.54202458e-02,  8.41837140e-01, -1.08231219e+00,\n",
              "        -1.24864784e-02,  8.41837140e-01, -1.41907845e-01,\n",
              "        -2.44856430e-01],\n",
              "       [-8.94308978e-01,  1.05177159e+00, -1.01297765e+00,\n",
              "        -8.83052126e-01,  1.05177159e+00, -9.17054076e-01,\n",
              "        -1.08705470e+00],\n",
              "       [-1.67741667e+00, -2.07835104e-01, -1.08231219e+00,\n",
              "        -1.53179095e+00, -2.07835104e-01, -1.50929593e+00,\n",
              "        -4.72829093e-02],\n",
              "       [-5.81065904e-01,  6.31902691e-01, -9.43643106e-01,\n",
              "        -6.04024675e-01,  6.31902691e-01, -6.57555878e-01,\n",
              "        -1.89048402e+00],\n",
              "       [-7.37687441e-01,  8.41837140e-01, -1.08231219e+00,\n",
              "        -7.44933538e-01,  8.41837140e-01, -8.01116978e-01,\n",
              "        -1.20189106e+00],\n",
              "       [-1.52079513e+00, -1.67737625e+00, -1.08231219e+00,\n",
              "        -1.40762373e+00, -1.67737625e+00, -1.39754429e+00,\n",
              "         4.39926934e-01],\n",
              "       [-1.67741667e+00,  2.12033793e-01, -1.08231219e+00,\n",
              "        -1.53179095e+00,  2.12033793e-01, -1.50929593e+00,\n",
              "        -1.93008723e+00],\n",
              "       [-7.37687441e-01,  8.41837140e-01, -8.74308565e-01,\n",
              "        -7.44933538e-01,  8.41837140e-01, -7.76004249e-01,\n",
              "        -4.94628747e-01],\n",
              "       [-5.81065904e-01,  1.47164049e+00, -6.66304941e-01,\n",
              "        -6.04024675e-01,  1.47164049e+00, -6.24072239e-01,\n",
              "        -1.39303650e+00],\n",
              "       [-1.05093052e+00, -2.07835104e-01, -1.01297765e+00,\n",
              "        -1.01838044e+00, -2.07835104e-01, -1.03885081e+00,\n",
              "        -1.43304574e+00],\n",
              "       [-5.81065904e-01,  1.47164049e+00, -8.74308565e-01,\n",
              "        -6.04024675e-01,  1.47164049e+00, -6.49184968e-01,\n",
              "        -1.06009817e+00],\n",
              "       [-1.36417359e+00,  2.12033793e-01, -1.01297765e+00,\n",
              "        -1.28066624e+00,  2.12033793e-01, -1.27491046e+00,\n",
              "         7.87519548e-02],\n",
              "       [-2.67822829e-01,  1.26170604e+00, -9.43643106e-01,\n",
              "        -3.13836126e-01,  1.26170604e+00, -3.96383498e-01,\n",
              "        -1.35689221e+00],\n",
              "       [-7.37687441e-01,  4.21968242e-01, -1.01297765e+00,\n",
              "        -7.44933538e-01,  4.21968242e-01, -7.92746068e-01,\n",
              "         1.13548931e-01],\n",
              "       [ 2.39474331e+00,  2.12033793e-01,  1.27506221e+00,\n",
              "         2.60339588e+00,  2.12033793e-01,  2.49702141e+00,\n",
              "         1.57480018e+00],\n",
              "       [ 1.45501408e+00,  2.12033793e-01,  1.13639313e+00,\n",
              "         1.48170552e+00,  2.12033793e-01,  1.47074789e+00,\n",
              "         1.09369365e+00],\n",
              "       [ 2.23812177e+00,  2.09934449e-03,  1.41373130e+00,\n",
              "         2.40947180e+00,  2.09934449e-03,  2.33922977e+00,\n",
              "         1.67479348e+00],\n",
              "       [ 4.54202458e-02, -1.67737625e+00,  7.89720424e-01,\n",
              "        -1.24864784e-02, -1.67737625e+00,  8.41067144e-02,\n",
              "         1.08052043e+00],\n",
              "       [ 1.61163562e+00, -6.27704002e-01,  1.20572767e+00,\n",
              "         1.66167823e+00, -6.27704002e-01,  1.64109590e+00,\n",
              "        -7.00311876e-01],\n",
              "       [ 3.58663321e-01, -6.27704002e-01,  1.13639313e+00,\n",
              "         3.00024267e-01, -6.27704002e-01,  4.07223826e-01,\n",
              "        -5.05432967e-02],\n",
              "       [ 1.29839254e+00,  4.21968242e-01,  1.27506221e+00,\n",
              "         1.30452309e+00,  4.21968242e-01,  1.32802388e+00,\n",
              "         1.24065846e+00],\n",
              "       [-8.94308978e-01, -1.46744180e+00,  3.04378636e-01,\n",
              "        -8.83052126e-01, -1.46744180e+00, -7.58006793e-01,\n",
              "         1.01070437e+00],\n",
              "       [ 1.76825716e+00, -4.17769553e-01,  1.20572767e+00,\n",
              "         1.84444121e+00, -4.17769553e-01,  1.80558428e+00,\n",
              "         1.08190246e+00],\n",
              "       [-4.24444366e-01, -8.37638451e-01,  7.20385883e-01,\n",
              "        -4.60325538e-01, -8.37638451e-01, -3.27323493e-01,\n",
              "        -6.55300133e-01],\n",
              "       [-7.37687441e-01, -2.30717959e+00,  4.43047718e-01,\n",
              "        -7.44933538e-01, -2.30717959e+00, -6.16956966e-01,\n",
              "        -4.58214787e-01],\n",
              "       [ 6.71906395e-01, -2.07835104e-01,  9.28389507e-01,\n",
              "         6.23696110e-01, -2.07835104e-01,  6.73418752e-01,\n",
              "         8.99483447e-02],\n",
              "       [ 8.28527933e-01, -1.88731069e+00,  7.89720424e-01,\n",
              "         7.89717444e-01, -1.88731069e+00,  8.06097669e-01,\n",
              "         1.56285055e+00],\n",
              "       [ 9.85149470e-01, -4.17769553e-01,  1.27506221e+00,\n",
              "         9.58529052e-01, -4.17769553e-01,  1.01662605e+00,\n",
              "        -2.93345802e-01],\n",
              "       [ 2.02041783e-01, -4.17769553e-01,  5.12382260e-01,\n",
              "         1.42373757e-01, -4.17769553e-01,  1.89998721e-01,\n",
              "        -3.47314072e-01],\n",
              "       [ 1.92487869e+00,  2.09934449e-03,  1.06705859e+00,\n",
              "         2.02999446e+00,  2.09934449e-03,  1.95584211e+00,\n",
              "         1.04135740e+00],\n",
              "       [ 2.02041783e-01, -2.07835104e-01,  1.13639313e+00,\n",
              "         1.42373757e-01, -2.07835104e-01,  2.65336908e-01,\n",
              "         1.04153762e+00],\n",
              "       [ 5.15284858e-01, -8.37638451e-01,  8.59054966e-01,\n",
              "         4.60465051e-01, -8.37638451e-01,  5.18138378e-01,\n",
              "         7.34046160e-01],\n",
              "       [ 1.14177101e+00, -1.88731069e+00,  1.13639313e+00,\n",
              "         1.13013093e+00, -1.88731069e+00,  1.15432751e+00,\n",
              "         5.61001444e-01],\n",
              "       [ 2.02041783e-01, -1.25750735e+00,  7.20385883e-01,\n",
              "         1.42373757e-01, -1.25750735e+00,  2.15111450e-01,\n",
              "        -1.56537249e-01],\n",
              "       [ 6.71906395e-01,  2.12033793e-01,  1.34439675e+00,\n",
              "         6.23696110e-01,  2.12033793e-01,  7.23644209e-01,\n",
              "         5.13102602e-01],\n",
              "       [ 9.85149470e-01, -6.27704002e-01,  7.89720424e-01,\n",
              "         9.58529052e-01, -6.27704002e-01,  9.58029679e-01,\n",
              "        -2.03456479e-01],\n",
              "       [ 1.29839254e+00, -1.25750735e+00,  1.41373130e+00,\n",
              "         1.30452309e+00, -1.25750735e+00,  1.34476570e+00,\n",
              "         1.88555113e+00],\n",
              "       [ 9.85149470e-01, -6.27704002e-01,  1.27506221e+00,\n",
              "         9.58529052e-01, -6.27704002e-01,  1.01662605e+00,\n",
              "         2.24724411e+00],\n",
              "       [ 1.45501408e+00, -4.17769553e-01,  9.97724048e-01,\n",
              "         1.48170552e+00, -4.17769553e-01,  1.45400607e+00,\n",
              "         9.49332468e-02],\n",
              "       [ 1.76825716e+00, -2.07835104e-01,  1.06705859e+00,\n",
              "         1.84444121e+00, -2.07835104e-01,  1.78884246e+00,\n",
              "         1.14984834e-01],\n",
              "       [ 2.08150023e+00, -6.27704002e-01,  1.34439675e+00,\n",
              "         2.21833799e+00, -6.27704002e-01,  2.15883666e+00,\n",
              "         1.94105101e+00],\n",
              "       [ 1.92487869e+00, -2.07835104e-01,  1.48306584e+00,\n",
              "         2.02999446e+00, -2.07835104e-01,  2.00606756e+00,\n",
              "         1.36780975e+00],\n",
              "       [ 8.28527933e-01, -4.17769553e-01,  1.13639313e+00,\n",
              "         7.89717444e-01, -4.17769553e-01,  8.47952217e-01,\n",
              "         8.74213733e-01],\n",
              "       [ 3.58663321e-01, -1.04757290e+00,  4.43047718e-01,\n",
              "         3.00024267e-01, -1.04757290e+00,  3.23514729e-01,\n",
              "        -5.47497799e-01],\n",
              "       [ 4.54202458e-02, -1.46744180e+00,  6.51051342e-01,\n",
              "        -1.24864784e-02, -1.46744180e+00,  6.73648952e-02,\n",
              "        -3.30207602e-01],\n",
              "       [ 4.54202458e-02, -1.46744180e+00,  5.81716801e-01,\n",
              "        -1.24864784e-02, -1.46744180e+00,  5.89939855e-02,\n",
              "         1.38043580e-01],\n",
              "       [ 5.15284858e-01, -8.37638451e-01,  7.20385883e-01,\n",
              "         4.60465051e-01, -8.37638451e-01,  5.01396559e-01,\n",
              "         1.28012377e+00],\n",
              "       [ 8.28527933e-01, -8.37638451e-01,  1.55240038e+00,\n",
              "         7.89717444e-01, -8.37638451e-01,  8.98177675e-01,\n",
              "         1.94454083e+00],\n",
              "       [-1.11201292e-01, -2.07835104e-01,  1.13639313e+00,\n",
              "        -1.64556439e-01, -2.07835104e-01, -1.09031098e-02,\n",
              "         7.38113409e-02],\n",
              "       [ 8.28527933e-01,  6.31902691e-01,  1.13639313e+00,\n",
              "         7.89717444e-01,  6.31902691e-01,  8.47952217e-01,\n",
              "         1.02133893e+00],\n",
              "       [ 1.92487869e+00,  2.09934449e-03,  1.27506221e+00,\n",
              "         2.02999446e+00,  2.09934449e-03,  1.98095483e+00,\n",
              "        -9.90981942e-02],\n",
              "       [ 1.29839254e+00, -1.67737625e+00,  1.06705859e+00,\n",
              "         1.30452309e+00, -1.67737625e+00,  1.30291115e+00,\n",
              "         9.30762903e-01],\n",
              "       [ 2.02041783e-01, -2.07835104e-01,  8.59054966e-01,\n",
              "         1.42373757e-01, -2.07835104e-01,  2.31853269e-01,\n",
              "        -1.87566588e-02],\n",
              "       [ 4.54202458e-02, -1.25750735e+00,  7.89720424e-01,\n",
              "        -1.24864784e-02, -1.25750735e+00,  8.41067144e-02,\n",
              "        -3.19664743e-01],\n",
              "       [ 4.54202458e-02, -1.04757290e+00,  1.06705859e+00,\n",
              "        -1.24864784e-02, -1.04757290e+00,  1.17590353e-01,\n",
              "         6.33419092e-01],\n",
              "       [ 9.85149470e-01, -2.07835104e-01,  1.20572767e+00,\n",
              "         9.58529052e-01, -2.07835104e-01,  1.00825514e+00,\n",
              "         4.75447081e-01],\n",
              "       [ 5.15284858e-01, -1.04757290e+00,  7.89720424e-01,\n",
              "         4.60465051e-01, -1.04757290e+00,  5.09767469e-01,\n",
              "         2.02307093e-01],\n",
              "       [-7.37687441e-01, -1.67737625e+00,  3.04378636e-01,\n",
              "        -7.44933538e-01, -1.67737625e+00, -6.33698785e-01,\n",
              "         1.36351540e+00],\n",
              "       [ 2.02041783e-01, -8.37638451e-01,  9.28389507e-01,\n",
              "         1.42373757e-01, -8.37638451e-01,  2.40224179e-01,\n",
              "         1.25492750e+00],\n",
              "       [ 3.58663321e-01, -2.07835104e-01,  9.28389507e-01,\n",
              "         3.00024267e-01, -2.07835104e-01,  3.82111097e-01,\n",
              "         1.71647571e+00],\n",
              "       [ 3.58663321e-01, -4.17769553e-01,  9.28389507e-01,\n",
              "         3.00024267e-01, -4.17769553e-01,  3.82111097e-01,\n",
              "         1.84126905e+00],\n",
              "       [ 1.14177101e+00, -4.17769553e-01,  9.97724048e-01,\n",
              "         1.13013093e+00, -4.17769553e-01,  1.13758569e+00,\n",
              "         1.98596718e-02],\n",
              "       [-5.81065904e-01, -1.25750735e+00,  9.63750123e-02,\n",
              "        -6.04024675e-01, -1.25750735e+00, -5.31992234e-01,\n",
              "         5.90582201e-01],\n",
              "       [ 3.58663321e-01, -6.27704002e-01,  8.59054966e-01,\n",
              "         3.00024267e-01, -6.27704002e-01,  3.73740187e-01,\n",
              "        -4.53637247e-02]])"
            ]
          },
          "metadata": {},
          "execution_count": 27
        }
      ]
    },
    {
      "cell_type": "code",
      "metadata": {
        "id": "lgWY_AgEcvPV",
        "colab": {
          "base_uri": "https://localhost:8080/"
        },
        "outputId": "b53f359b-3f85-4391-cbec-fbcee5055a08"
      },
      "source": [
        "LR.fit(new_x,Y)\n",
        "params ={'alpha': np.logspace(-10, 1, 400)}\n",
        "clf_new_LR = GridSearchCV(LR,params)\n",
        "clf_new_LR.fit(X,Y)"
      ],
      "execution_count": 28,
      "outputs": [
        {
          "output_type": "execute_result",
          "data": {
            "text/plain": [
              "GridSearchCV(cv=None, error_score=nan,\n",
              "             estimator=SGDClassifier(alpha=0.0001, average=False,\n",
              "                                     class_weight=None, early_stopping=False,\n",
              "                                     epsilon=0.1, eta0=0.0, fit_intercept=True,\n",
              "                                     l1_ratio=0.15, learning_rate='optimal',\n",
              "                                     loss='log', max_iter=1000,\n",
              "                                     n_iter_no_change=5, n_jobs=None,\n",
              "                                     penalty='l2', power_t=0.5,\n",
              "                                     random_state=None, shuffle=True, tol=0.001,\n",
              "                                     validation_fraction=0.1...\n",
              "       2.99357729e+00, 3.18977022e+00, 3.39882122e+00, 3.62157300e+00,\n",
              "       3.85892347e+00, 4.11182940e+00, 4.38131027e+00, 4.66845237e+00,\n",
              "       4.97441317e+00, 5.30042602e+00, 5.64780507e+00, 6.01795064e+00,\n",
              "       6.41235480e+00, 6.83260739e+00, 7.28040247e+00, 7.75754513e+00,\n",
              "       8.26595874e+00, 8.80769273e+00, 9.38493086e+00, 1.00000000e+01])},\n",
              "             pre_dispatch='2*n_jobs', refit=True, return_train_score=False,\n",
              "             scoring=None, verbose=0)"
            ]
          },
          "metadata": {},
          "execution_count": 28
        }
      ]
    },
    {
      "cell_type": "code",
      "metadata": {
        "colab": {
          "base_uri": "https://localhost:8080/"
        },
        "id": "R_IGK088dxPG",
        "outputId": "91995fe3-c3b4-4f03-dc48-4d7d9eb49689"
      },
      "source": [
        "best_model_LR_new = clf_new_LR.best_params_\n",
        "print(best_model_LR_new)"
      ],
      "execution_count": 29,
      "outputs": [
        {
          "output_type": "stream",
          "text": [
            "{'alpha': 1.0655379505623064e-10}\n"
          ],
          "name": "stdout"
        }
      ]
    },
    {
      "cell_type": "code",
      "metadata": {
        "colab": {
          "base_uri": "https://localhost:8080/"
        },
        "id": "9iUBk7OxINrw",
        "outputId": "1826d839-c07e-49b3-fcaf-fc1b358b9613"
      },
      "source": [
        "best_model_LR_new = SGDClassifier(alpha=1e-10, loss = 'log')\n",
        "best_model_LR_new.fit(X,Y)"
      ],
      "execution_count": 31,
      "outputs": [
        {
          "output_type": "execute_result",
          "data": {
            "text/plain": [
              "SGDClassifier(alpha=1e-10, average=False, class_weight=None,\n",
              "              early_stopping=False, epsilon=0.1, eta0=0.0, fit_intercept=True,\n",
              "              l1_ratio=0.15, learning_rate='optimal', loss='log', max_iter=1000,\n",
              "              n_iter_no_change=5, n_jobs=None, penalty='l2', power_t=0.5,\n",
              "              random_state=None, shuffle=True, tol=0.001,\n",
              "              validation_fraction=0.1, verbose=0, warm_start=False)"
            ]
          },
          "metadata": {},
          "execution_count": 31
        }
      ]
    },
    {
      "cell_type": "code",
      "metadata": {
        "colab": {
          "base_uri": "https://localhost:8080/"
        },
        "id": "7xQvr1JBCFtY",
        "outputId": "ec3f3632-a91d-401c-f47c-8be3d50d528a"
      },
      "source": [
        "pred_new_lr = best_model_LR_new.predict(X)\n",
        "best_model_accuracy_edited = accuracy_score(Y,pred_new_lr)\n",
        "print(best_model_accuracy_edited)"
      ],
      "execution_count": 32,
      "outputs": [
        {
          "output_type": "stream",
          "text": [
            "1.0\n"
          ],
          "name": "stdout"
        }
      ]
    },
    {
      "cell_type": "code",
      "metadata": {
        "colab": {
          "base_uri": "https://localhost:8080/"
        },
        "id": "JfjFEZpBCGvO",
        "outputId": "6be18139-ca90-48f4-f32f-6ec2a72c57f3"
      },
      "source": [
        "weights_new_lr = best_model_LR_new.coef_\n",
        "print(weights_new_lr)"
      ],
      "execution_count": 33,
      "outputs": [
        {
          "output_type": "stream",
          "text": [
            "[[ 353.86724862 -530.75360107  815.49725447  306.401798   -530.75360107\n",
            "   374.22120723  317.90412858]]\n"
          ],
          "name": "stdout"
        }
      ]
    },
    {
      "cell_type": "code",
      "metadata": {
        "id": "wkzR6bgJ1RiC",
        "colab": {
          "base_uri": "https://localhost:8080/"
        },
        "outputId": "4f57c257-d42b-4823-894b-e0db8063a464"
      },
      "source": [
        "#SVM After Noise\n",
        "SVM.fit(new_x,Y)\n",
        "params ={'alpha': np.logspace(-10, 1, 400)}\n",
        "clf_svm_new = GridSearchCV(SVM,params)\n",
        "clf_svm_new.fit(X,Y)"
      ],
      "execution_count": 34,
      "outputs": [
        {
          "output_type": "execute_result",
          "data": {
            "text/plain": [
              "GridSearchCV(cv=None, error_score=nan,\n",
              "             estimator=SGDClassifier(alpha=0.0001, average=False,\n",
              "                                     class_weight=None, early_stopping=False,\n",
              "                                     epsilon=0.1, eta0=0.0, fit_intercept=True,\n",
              "                                     l1_ratio=0.15, learning_rate='optimal',\n",
              "                                     loss='hinge', max_iter=1000,\n",
              "                                     n_iter_no_change=5, n_jobs=None,\n",
              "                                     penalty='l2', power_t=0.5,\n",
              "                                     random_state=None, shuffle=True, tol=0.001,\n",
              "                                     validation_fraction=0...\n",
              "       2.99357729e+00, 3.18977022e+00, 3.39882122e+00, 3.62157300e+00,\n",
              "       3.85892347e+00, 4.11182940e+00, 4.38131027e+00, 4.66845237e+00,\n",
              "       4.97441317e+00, 5.30042602e+00, 5.64780507e+00, 6.01795064e+00,\n",
              "       6.41235480e+00, 6.83260739e+00, 7.28040247e+00, 7.75754513e+00,\n",
              "       8.26595874e+00, 8.80769273e+00, 9.38493086e+00, 1.00000000e+01])},\n",
              "             pre_dispatch='2*n_jobs', refit=True, return_train_score=False,\n",
              "             scoring=None, verbose=0)"
            ]
          },
          "metadata": {},
          "execution_count": 34
        }
      ]
    },
    {
      "cell_type": "code",
      "metadata": {
        "colab": {
          "base_uri": "https://localhost:8080/"
        },
        "id": "NDfZNjE6D1TB",
        "outputId": "46253dba-86fe-4b91-93b5-341cedd7c6e8"
      },
      "source": [
        "best_model_svm_new = clf_svm_new.best_params_\n",
        "print(best_model_svm_new)"
      ],
      "execution_count": 35,
      "outputs": [
        {
          "output_type": "stream",
          "text": [
            "{'alpha': 1.0655379505623064e-10}\n"
          ],
          "name": "stdout"
        }
      ]
    },
    {
      "cell_type": "code",
      "metadata": {
        "colab": {
          "base_uri": "https://localhost:8080/"
        },
        "id": "-y1md52XD1jE",
        "outputId": "eb1111de-c662-4f5a-97e7-0dffa73e5730"
      },
      "source": [
        "best_model_svm_new = SGDClassifier(alpha=1.0655379505623064e-10, loss = 'hinge')\n",
        "best_model_svm_new.fit(X,Y)"
      ],
      "execution_count": 36,
      "outputs": [
        {
          "output_type": "execute_result",
          "data": {
            "text/plain": [
              "SGDClassifier(alpha=1.0655379505623064e-10, average=False, class_weight=None,\n",
              "              early_stopping=False, epsilon=0.1, eta0=0.0, fit_intercept=True,\n",
              "              l1_ratio=0.15, learning_rate='optimal', loss='hinge',\n",
              "              max_iter=1000, n_iter_no_change=5, n_jobs=None, penalty='l2',\n",
              "              power_t=0.5, random_state=None, shuffle=True, tol=0.001,\n",
              "              validation_fraction=0.1, verbose=0, warm_start=False)"
            ]
          },
          "metadata": {},
          "execution_count": 36
        }
      ]
    },
    {
      "cell_type": "code",
      "metadata": {
        "colab": {
          "base_uri": "https://localhost:8080/"
        },
        "id": "-aMkK8ZYD1u7",
        "outputId": "11caddb5-b8b1-4691-e8ef-d64609c76a3d"
      },
      "source": [
        "pred_svm_new = best_model_svm_new.predict(X)\n",
        "best_model_accuracy_svm_new = accuracy_score(Y,pred)\n",
        "print(best_model_accuracy_svm_new)"
      ],
      "execution_count": 37,
      "outputs": [
        {
          "output_type": "stream",
          "text": [
            "1.0\n"
          ],
          "name": "stdout"
        }
      ]
    },
    {
      "cell_type": "code",
      "metadata": {
        "colab": {
          "base_uri": "https://localhost:8080/"
        },
        "id": "rfq1EFqCD1z1",
        "outputId": "84f30aad-3dc2-4f1c-eed4-87405bc61562"
      },
      "source": [
        "weights_svm_new = best_model_svm_new.coef_\n",
        "print(weights_svm_new)"
      ],
      "execution_count": 38,
      "outputs": [
        {
          "output_type": "stream",
          "text": [
            "[[ 550.35161545 -326.04614956  979.50047278  452.48096644 -326.04614956\n",
            "   525.49427527  377.31179484]]\n"
          ],
          "name": "stdout"
        }
      ]
    },
    {
      "cell_type": "code",
      "metadata": {
        "colab": {
          "base_uri": "https://localhost:8080/"
        },
        "id": "zvXTwEAED14t",
        "outputId": "fbf6e14f-823d-4684-d11b-ca107efae47e"
      },
      "source": [
        "best_model_accuracy_edited-best_model_accuracy"
      ],
      "execution_count": 39,
      "outputs": [
        {
          "output_type": "execute_result",
          "data": {
            "text/plain": [
              "0.0"
            ]
          },
          "metadata": {},
          "execution_count": 39
        }
      ]
    },
    {
      "cell_type": "code",
      "metadata": {
        "colab": {
          "base_uri": "https://localhost:8080/"
        },
        "id": "uRIuZ4RKEBAV",
        "outputId": "e4e64716-87c7-4fb9-8281-b9ca5f10f0a1"
      },
      "source": [
        "best_model_accuracy_svm_new-best_model_accuracy_svm"
      ],
      "execution_count": 40,
      "outputs": [
        {
          "output_type": "execute_result",
          "data": {
            "text/plain": [
              "0.0"
            ]
          },
          "metadata": {},
          "execution_count": 40
        }
      ]
    },
    {
      "cell_type": "code",
      "metadata": {
        "id": "y8LGzpqAEBMz"
      },
      "source": [
        "Weight_diff_LR = weights_lr-weights_new_lr"
      ],
      "execution_count": 41,
      "outputs": []
    },
    {
      "cell_type": "code",
      "metadata": {
        "id": "NwErgn-uEBRZ"
      },
      "source": [
        "Weight_diff_SVM = abs(weights_svm-weights_svm_new)"
      ],
      "execution_count": 42,
      "outputs": []
    },
    {
      "cell_type": "code",
      "metadata": {
        "colab": {
          "base_uri": "https://localhost:8080/"
        },
        "id": "4KLrC0eGEBYA",
        "outputId": "214dc664-8a93-4067-8403-d6428242a830"
      },
      "source": [
        "columns = list(data.columns)\n",
        "for index in np.argsort(-Weight_diff_LR).reshape(-1)[:4]:  #TOP 4 FETAURES WRT TO DEVIATION FOR LR\n",
        "    print(columns[index])"
      ],
      "execution_count": 43,
      "outputs": [
        {
          "output_type": "stream",
          "text": [
            "z\n",
            "w\n",
            "x\n",
            "2*z+3*x*x\n"
          ],
          "name": "stdout"
        }
      ]
    },
    {
      "cell_type": "code",
      "metadata": {
        "id": "w7nMXr8REBdN"
      },
      "source": [
        "Observations:Based on the study above, we can see that the weight changes drastically before and after noise is added to the data. This indicates that there is multicolinearity in the data. It is important to note that multicolinearity does not affect models accuracy (as shown above) but The coefficient estimates can swing wildly based on which other independent variables are in the model. The coefficients become very sensitive to small changes in the model\n",
        "\n",
        "Multicollinearity reduces the precision of the estimate coefficients, which weakens the statistical power of our regression model.\n",
        "\n",
        "We can have a model with severe multicollinearity and yet some variables in the model can be completely unaffected.\n",
        "\n",
        "We cannot use these weight vectors for feature importance directly.\n"
      ],
      "execution_count": null,
      "outputs": []
    }
  ]
}