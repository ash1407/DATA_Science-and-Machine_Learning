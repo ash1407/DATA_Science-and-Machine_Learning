{
  "nbformat": 4,
  "nbformat_minor": 0,
  "metadata": {
    "kernelspec": {
      "display_name": "Python 3",
      "language": "python",
      "name": "python3"
    },
    "language_info": {
      "codemirror_mode": {
        "name": "ipython",
        "version": 3
      },
      "file_extension": ".py",
      "mimetype": "text/x-python",
      "name": "python",
      "nbconvert_exporter": "python",
      "pygments_lexer": "ipython3",
      "version": "3.6.8"
    },
    "colab": {
      "name": "Assignment_DT_Instructions.ipynb",
      "provenance": [],
      "collapsed_sections": []
    }
  },
  "cells": [
    {
      "cell_type": "markdown",
      "metadata": {
        "id": "jKMeoHjWN-3k"
      },
      "source": [
        "# <b>Assignment : DT</b>"
      ]
    },
    {
      "cell_type": "markdown",
      "metadata": {
        "id": "w0vpJMx2pHYX"
      },
      "source": [
        "<font color='red'><b> Please check below video before attempting this assignment</b></font>"
      ]
    },
    {
      "cell_type": "code",
      "metadata": {
        "id": "IrJVk4Chpzjp",
        "colab": {
          "base_uri": "https://localhost:8080/",
          "height": 521
        },
        "outputId": "4cd78d89-6516-478b-cb9f-40d6e4507797"
      },
      "source": [
        "from IPython.display import YouTubeVideo\n",
        "YouTubeVideo('ZhLXULFjIjQ', width=\"1000\",height=\"500\")"
      ],
      "execution_count": null,
      "outputs": [
        {
          "output_type": "execute_result",
          "data": {
            "text/html": [
              "\n",
              "        <iframe\n",
              "            width=\"1000\"\n",
              "            height=\"500\"\n",
              "            src=\"https://www.youtube.com/embed/ZhLXULFjIjQ\"\n",
              "            frameborder=\"0\"\n",
              "            allowfullscreen\n",
              "        ></iframe>\n",
              "        "
            ],
            "text/plain": [
              "<IPython.lib.display.YouTubeVideo at 0x7fe808b8a2e8>"
            ],
            "image/jpeg": "[encoded data removed]"
          },
          "metadata": {
            "tags": []
          },
          "execution_count": 2
        }
      ]
    },
    {
      "cell_type": "markdown",
      "metadata": {
        "id": "CjA-ZU-TqVK1"
      },
      "source": [
        "<font color='red'><b> TF-IDFW2V</b></font>"
      ]
    },
    {
      "cell_type": "markdown",
      "metadata": {
        "id": "uvBr2z6iqW9V"
      },
      "source": [
        "<b>Tfidf w2v (w1,w2..) = (tfidf(w1) * w2v(w1) + tfidf(w2) * w2v(w2) + …)  /    (tfidf(w1) + tfidf(w2) + …)</b>"
      ]
    },
    {
      "cell_type": "markdown",
      "metadata": {
        "id": "zRAy5UzOvi_a"
      },
      "source": [
        "<b>(Optional) Please check course video on [AVgw2V and TF-IDFW2V ](https://www.appliedaicourse.com/lecture/11/applied-machine-learning-online-course/2916/avg-word2vec-tf-idf-weighted-word2vec/3/module-3-foundations-of-natural-language-processing-and-machine-learning)for more details."
      ]
    },
    {
      "cell_type": "markdown",
      "metadata": {
        "id": "IB2uk5LwtBlO"
      },
      "source": [
        "<font color='blue'><b>Glove vectors </b></font>"
      ]
    },
    {
      "cell_type": "markdown",
      "metadata": {
        "id": "j697XLZGtCnz"
      },
      "source": [
        "<b>In this assignment you will be working with glove vectors , please check  [this](https://en.wikipedia.org/wiki/GloVe_(machine_learning)) and [this](https://en.wikipedia.org/wiki/GloVe_(machine_learning)) for more details.</b><br>\n",
        "\n",
        "Download glove vectors from this [link ](https://drive.google.com/file/d/1lDca_ge-GYO0iQ6_XDLWePQFMdAA2b8f/view?usp=sharing)"
      ]
    },
    {
      "cell_type": "code",
      "metadata": {
        "id": "_ufHLoACuoHw"
      },
      "source": [
        "#please use below code to load glove vectors \n",
        "with open('glove_vectors', 'rb') as f:\n",
        "    model = pickle.load(f)\n",
        "    glove_words =  set(model.keys())"
      ],
      "execution_count": null,
      "outputs": []
    },
    {
      "cell_type": "markdown",
      "metadata": {
        "id": "YMurhntCAooj"
      },
      "source": [
        "or else , you can use below code"
      ]
    },
    {
      "cell_type": "code",
      "metadata": {
        "id": "8-KyNeiQAtLG"
      },
      "source": [
        "'''\n",
        "# Reading glove vectors in python: https://stackoverflow.com/a/38230349/4084039\n",
        "def loadGloveModel(gloveFile):\n",
        "    print (\"Loading Glove Model\")\n",
        "    f = open(gloveFile,'r', encoding=\"utf8\")\n",
        "    model = {}\n",
        "    for line in tqdm(f):\n",
        "        splitLine = line.split()\n",
        "        word = splitLine[0]\n",
        "        embedding = np.array([float(val) for val in splitLine[1:]])\n",
        "        model[word] = embedding\n",
        "    print (\"Done.\",len(model),\" words loaded!\")\n",
        "    return model\n",
        "model = loadGloveModel('glove.42B.300d.txt')\n",
        "\n",
        "# ============================\n",
        "Output:\n",
        "    \n",
        "Loading Glove Model\n",
        "1917495it [06:32, 4879.69it/s]\n",
        "Done. 1917495  words loaded!\n",
        "\n",
        "# ============================\n",
        "\n",
        "words = []\n",
        "for i in preproced_texts:\n",
        "    words.extend(i.split(' '))\n",
        "\n",
        "for i in preproced_titles:\n",
        "    words.extend(i.split(' '))\n",
        "print(\"all the words in the coupus\", len(words))\n",
        "words = set(words)\n",
        "print(\"the unique words in the coupus\", len(words))\n",
        "\n",
        "inter_words = set(model.keys()).intersection(words)\n",
        "print(\"The number of words that are present in both glove vectors and our coupus\", \\\n",
        "      len(inter_words),\"(\",np.round(len(inter_words)/len(words)*100,3),\"%)\")\n",
        "\n",
        "words_courpus = {}\n",
        "words_glove = set(model.keys())\n",
        "for i in words:\n",
        "    if i in words_glove:\n",
        "        words_courpus[i] = model[i]\n",
        "print(\"word 2 vec length\", len(words_courpus))\n",
        "\n",
        "\n",
        "# stronging variables into pickle files python: http://www.jessicayung.com/how-to-use-pickle-to-save-and-load-variables-in-python/\n",
        "\n",
        "import pickle\n",
        "with open('glove_vectors', 'wb') as f:\n",
        "    pickle.dump(words_courpus, f)\n",
        "\n",
        "\n",
        "'''"
      ],
      "execution_count": null,
      "outputs": []
    },
    {
      "cell_type": "markdown",
      "metadata": {
        "id": "OTJ7Et5hxpZS"
      },
      "source": [
        "# <font color='red'> <b>Task - 1</b></font>"
      ]
    },
    {
      "cell_type": "markdown",
      "metadata": {
        "id": "ACUkHex3N-3m"
      },
      "source": [
        "<ol>\n",
        "    <li><strong>Apply Decision Tree Classifier(DecisionTreeClassifier) on these feature sets</strong>\n",
        "        <ul>\n",
        "            <li><font color='red'>Set 1</font>: categorical, numerical features +  preprocessed_essay (TFIDF) + Sentiment scores(preprocessed_essay)</li>\n",
        "            <li><font color='red'>Set 2</font>: categorical, numerical features +  preprocessed_essay (TFIDF W2V) + Sentiment scores(preprocessed_essay)</li>        </ul>\n",
        "    </li>\n",
        "    <li><strong>The hyper paramter tuning (best `depth` in range [1, 5, 10, 50], and the best `min_samples_split` in range [5, 10, 100, 500])</strong>\n",
        "        <ul>\n",
        "    <li>Find the best hyper parameter which will give the maximum <a href='https://www.appliedaicourse.com/course/applied-ai-course-online/lessons/receiver-operating-characteristic-curve-roc-curve-and-auc-1/'>AUC</a> value</li>\n",
        "    <li>find the best hyper paramter using k-fold cross validation(use gridsearch cv or randomsearch cv)/simple cross validation data(you can write your own for loops refer sample solution)</li>\n",
        "        </ul>\n",
        "    </li>\n",
        "    <li>\n",
        "    <strong>Representation of results</strong>\n",
        "        <ul>\n",
        "    <li>You need to plot the performance of model both on train data and cross validation data for each hyper parameter, like shown in the figure\n",
        "    <img src='https://i.imgur.com/Gp2DQmh.jpg' width=500px> with X-axis as <strong>min_sample_split</strong>, Y-axis as <strong>max_depth</strong>, and Z-axis as <strong>AUC Score</strong> , we have given the notebook which explains how to plot this 3d plot, you can find it in the same drive <i>3d_scatter_plot.ipynb</i></li>\n",
        "            <p style=\"text-align:center;font-size:30px;color:red;\"><strong>or</strong></p> <br>\n",
        "    <li>You need to plot the performance of model both on train data and cross validation data for each hyper parameter, like shown in the figure\n",
        "    <img src='https://i.imgur.com/fgN9aUP.jpg' width=300px> <a href='https://seaborn.pydata.org/generated/seaborn.heatmap.html'>seaborn heat maps</a> with rows as <strong>n_estimators</strong>, columns as <strong>max_depth</strong>, and values inside the cell representing <strong>AUC Score</strong> </li>\n",
        "    <li>You choose either of the plotting techniques out of 3d plot or heat map</li>\n",
        "    <li>Once after you found the best hyper parameter, you need to train your model with it, and find the AUC on test data and plot the ROC curve on both train and test.\n",
        "    <img src='https://i.imgur.com/wMQDTFe.jpg' width=300px></li>\n",
        "    <li>Along with plotting ROC curve, you need to print the <a href='https://www.appliedaicourse.com/course/applied-ai-course-online/lessons/confusion-matrix-tpr-fpr-fnr-tnr-1/'>confusion matrix</a> with predicted and original labels of test data points\n",
        "    <img src='https://i.imgur.com/IdN5Ctv.png' width=300px></li>\n",
        "    <li>Once after you plot the confusion matrix with the test data, get all the `false positive data points`\n",
        "        <ul>\n",
        "            <li> Plot the WordCloud(https://www.geeksforgeeks.org/generating-word-cloud-python/) with the words of essay text of these `false positive data points`</li>\n",
        "            <li> Plot the box plot with the `price` of these `false positive data points`</li>\n",
        "            <li> Plot the pdf with the `teacher_number_of_previously_posted_projects` of these `false positive data points`</li>\n",
        "        </ul>\n",
        "        </ul>\n",
        "    </li>\n",
        "   "
      ]
    },
    {
      "cell_type": "markdown",
      "metadata": {
        "id": "aqWyfo1Sx8ua"
      },
      "source": [
        "# <font color='red'><b> Task - 2 </b></font>"
      ]
    },
    {
      "cell_type": "markdown",
      "metadata": {
        "id": "Xddr3kChx-ew"
      },
      "source": [
        "For this task consider **set-1** features.\n",
        "\n",
        "*  Select all the features which are having non-zero feature importance.You can get the feature importance using  'feature_importances_` \n",
        "   (https://scikit-learn.org/stable/modules/generated/sklearn.tree.DecisionTreeClassifier.html), discard the all other remaining features and then apply any of the model of you choice i.e. (Dession tree, Logistic Regression, Linear SVM).\n",
        "*  You need to do hyperparameter tuning corresponding to the model you selected and procedure in step 2 and step 3<br>\n",
        "  **Note**: when you want to find the feature importance make sure you don't use max_depth parameter keep it None.\n",
        "  </li>\n",
        "    <br>\n",
        "You need to summarize the results at the end of the notebook, summarize it in the table format\n",
        "        <img src='http://i.imgur.com/YVpIGGE.jpg' width=400px>\n",
        "    </li>\n",
        "</ol>"
      ]
    },
    {
      "cell_type": "markdown",
      "metadata": {
        "id": "oZ-qDp6KxNj0"
      },
      "source": [
        "<font color='blue'><b>Hint for calculating Sentiment scores</b></font>"
      ]
    },
    {
      "cell_type": "code",
      "metadata": {
        "id": "2IHTExN4xd5p",
        "colab": {
          "base_uri": "https://localhost:8080/",
          "height": 50
        },
        "outputId": "fe01a7c9-e5cc-4ebe-d4d8-e0b0278d103c"
      },
      "source": [
        "import nltk\n",
        "nltk.download('vader_lexicon')"
      ],
      "execution_count": null,
      "outputs": [
        {
          "output_type": "stream",
          "text": [
            "[nltk_data] Downloading package vader_lexicon to /root/nltk_data...\n"
          ],
          "name": "stdout"
        },
        {
          "output_type": "execute_result",
          "data": {
            "text/plain": [
              "True"
            ]
          },
          "metadata": {
            "tags": []
          },
          "execution_count": 4
        }
      ]
    },
    {
      "cell_type": "code",
      "metadata": {
        "id": "YKZIvFYBxaaD",
        "colab": {
          "base_uri": "https://localhost:8080/",
          "height": 34
        },
        "outputId": "d9dcffbf-971d-4220-c03e-bf01cd81bdd4"
      },
      "source": [
        "import nltk\n",
        "from nltk.sentiment.vader import SentimentIntensityAnalyzer\n",
        "\n",
        "# import nltk\n",
        "# nltk.download('vader_lexicon')\n",
        "\n",
        "sid = SentimentIntensityAnalyzer()\n",
        "\n",
        "for_sentiment = 'a person is a person no matter how small dr seuss i teach the smallest students with the biggest enthusiasm \\\n",
        "for learning my students learn in many different ways using all of our senses and multiple intelligences i use a wide range\\\n",
        "of techniques to help all my students succeed students in my class come from a variety of different backgrounds which makes\\\n",
        "for wonderful sharing of experiences and cultures including native americans our school is a caring community of successful \\\n",
        "learners which can be seen through collaborative student project based learning in and out of the classroom kindergarteners \\\n",
        "in my class love to work with hands on materials and have many different opportunities to practice a skill before it is\\\n",
        "mastered having the social skills to work cooperatively with friends is a crucial aspect of the kindergarten curriculum\\\n",
        "montana is the perfect place to learn about agriculture and nutrition my students love to role play in our pretend kitchen\\\n",
        "in the early childhood classroom i have had several kids ask me can we try cooking with real food i will take their idea \\\n",
        "and create common core cooking lessons where we learn important math and writing concepts while cooking delicious healthy \\\n",
        "food for snack time my students will have a grounded appreciation for the work that went into making the food and knowledge \\\n",
        "of where the ingredients came from as well as how it is healthy for their bodies this project would expand our learning of \\\n",
        "nutrition and agricultural cooking recipes by having us peel our own apples to make homemade applesauce make our own bread \\\n",
        "and mix up healthy plants from our classroom garden in the spring we will also create our own cookbooks to be printed and \\\n",
        "shared with families students will gain math and literature skills as well as a life long enjoyment for healthy cooking \\\n",
        "nannan'\n",
        "ss = sid.polarity_scores(for_sentiment)\n",
        "\n",
        "for k in ss:\n",
        "    print('{0}: {1}, '.format(k, ss[k]), end='')\n",
        "\n",
        "# we can use these 4 things as features/attributes (neg, neu, pos, compound)\n",
        "# neg: 0.0, neu: 0.753, pos: 0.247, compound: 0.93"
      ],
      "execution_count": null,
      "outputs": [
        {
          "output_type": "stream",
          "text": [
            "neg: 0.01, neu: 0.745, pos: 0.245, compound: 0.9975, "
          ],
          "name": "stdout"
        }
      ]
    },
    {
      "cell_type": "markdown",
      "metadata": {
        "id": "r6FUMj5TN-3y"
      },
      "source": [
        "<h1>1. Decision Tree </h1>"
      ]
    },
    {
      "cell_type": "markdown",
      "metadata": {
        "id": "QQmid3VAN-31"
      },
      "source": [
        "## 1.1 Loading Data"
      ]
    },
    {
      "cell_type": "code",
      "metadata": {
        "colab": {
          "base_uri": "https://localhost:8080/"
        },
        "id": "wiebnUINQ7iF",
        "outputId": "fb8e2907-5e89-4dc4-91a9-fbe76476368a"
      },
      "source": [
        "from google.colab import drive\n",
        "drive.mount('/content/drive')  "
      ],
      "execution_count": null,
      "outputs": [
        {
          "output_type": "stream",
          "name": "stdout",
          "text": [
            "Mounted at /content/drive\n"
          ]
        }
      ]
    },
    {
      "cell_type": "code",
      "metadata": {
        "id": "NqY4ES_3N-33"
      },
      "source": [
        "import pandas as pd\n",
        "project_data = pd.read_csv(\"/content/drive/MyDrive/Colab Notebooks/preprocessed_data.csv\")"
      ],
      "execution_count": null,
      "outputs": []
    },
    {
      "cell_type": "code",
      "metadata": {
        "id": "mHvBlI_9N-4X"
      },
      "source": [
        "# please write all the code with proper documentation, and proper titles for each subsection\n",
        "# go through documentations and blogs before you start coding\n",
        "# first figure out what to do, and then think about how to do.\n",
        "# reading and understanding error messages will be very much helpfull in debugging your code\n",
        "# when you plot any graph make sure you use \n",
        "    # a. Title, that describes your plot, this will be very helpful to the reader\n",
        "    # b. Legends if needed\n",
        "    # c. X-axis label\n",
        "    # d. Y-axis label"
      ],
      "execution_count": null,
      "outputs": []
    },
    {
      "cell_type": "code",
      "metadata": {
        "id": "83CMm443TpX8"
      },
      "source": [
        "%matplotlib inline\n",
        "import warnings\n",
        "warnings.filterwarnings(\"ignore\")\n",
        "\n",
        "import sqlite3\n",
        "import pandas as pd\n",
        "import numpy as np\n",
        "import nltk\n",
        "import string\n",
        "import matplotlib.pyplot as plt\n",
        "import seaborn as sns\n",
        "from sklearn.feature_extraction.text import TfidfTransformer\n",
        "from sklearn.feature_extraction.text import TfidfVectorizer\n",
        "\n",
        "from sklearn.feature_extraction.text import CountVectorizer\n",
        "from sklearn.metrics import confusion_matrix\n",
        "from sklearn import metrics\n",
        "from sklearn.metrics import roc_curve, auc\n",
        "from nltk.stem.porter import PorterStemmer\n",
        "\n",
        "import re\n",
        "# Tutorial about Python regular expressions: https://pymotw.com/2/re/\n",
        "import string\n",
        "from nltk.corpus import stopwords\n",
        "from nltk.stem import PorterStemmer\n",
        "from nltk.stem.wordnet import WordNetLemmatizer\n",
        "\n",
        "from gensim.models import Word2Vec\n",
        "from gensim.models import KeyedVectors\n",
        "import pickle\n",
        "\n",
        "from tqdm import tqdm\n",
        "import os\n",
        "\n",
        "#from plotly import plotly\n",
        "#import plotly.offline as offline\n",
        "#import plotly.graph_objs as go\n",
        "#offline.init_notebook_mode()\n",
        "from collections import Counter"
      ],
      "execution_count": null,
      "outputs": []
    },
    {
      "cell_type": "code",
      "metadata": {
        "id": "IINkzoM8UG0i"
      },
      "source": [
        "from sklearn.model_selection import train_test_split\n",
        "from sklearn.model_selection import cross_val_score\n",
        "y=project_data['project_is_approved']\n",
        "project_data.drop(['project_is_approved'], axis=1)\n",
        "\n",
        "# split the data set into train and test\n",
        "X_train, X_test, y_train, y_test = train_test_split(project_data, y,test_size=0.3, random_state=0)\n",
        "\n",
        "# split the train data set into cross validation train and cross validation test\n",
        "X_tr, X_cv, y_tr, y_cv = train_test_split(X_train, y_train, test_size=0.3)"
      ],
      "execution_count": null,
      "outputs": []
    },
    {
      "cell_type": "code",
      "metadata": {
        "colab": {
          "base_uri": "https://localhost:8080/"
        },
        "id": "UVnwk6OiT01z",
        "outputId": "ae8bb23b-653a-4b34-ae03-cec6a98db419"
      },
      "source": [
        "from collections import Counter\n",
        "my_counter = Counter()\n",
        "for word in X_tr['clean_subcategories'].values:\n",
        "    my_counter.update(word.split())\n",
        "    \n",
        "sub_cat_dict = dict(my_counter)\n",
        "sorted_sub_cat_dict = dict(sorted(sub_cat_dict.items(), key=lambda kv: kv[1]))\n",
        "\n",
        "my_counter = Counter()\n",
        "for word in X_tr['clean_categories'].values:\n",
        "    my_counter.update(word.split())\n",
        "\n",
        "cat_dict = dict(my_counter)\n",
        "sorted_cat_dict = dict(sorted(cat_dict.items(), key=lambda kv: kv[1]))\n",
        "\n",
        "project_data.columns"
      ],
      "execution_count": null,
      "outputs": [
        {
          "output_type": "execute_result",
          "data": {
            "text/plain": [
              "Index(['school_state', 'teacher_prefix', 'project_grade_category',\n",
              "       'teacher_number_of_previously_posted_projects', 'project_is_approved',\n",
              "       'clean_categories', 'clean_subcategories', 'essay', 'price'],\n",
              "      dtype='object')"
            ]
          },
          "metadata": {},
          "execution_count": 21
        }
      ]
    },
    {
      "cell_type": "code",
      "metadata": {
        "id": "pMeCIPlLaW0G"
      },
      "source": [
        "#Vectorizing Categorical data\n",
        "def Categorical_Probabilities(ColName,alpha):\n",
        "        Cat_Counter=dict(X_tr[ColName].value_counts())\n",
        "        probs={}\n",
        "        for i in Cat_Counter.keys():\n",
        "            df_0=  np.round(len(X_tr[(X_tr[\"project_is_approved\"] == 0) & (X_tr[ColName]==i)])+alpha*10/(Cat_Counter[i]+20*alpha),4)\n",
        "            df_1=  np.round(len(X_tr[(X_tr[\"project_is_approved\"] == 1) & (X_tr[ColName]==i)])+alpha*10/(Cat_Counter[i]+20*alpha),4)\n",
        "            probs[i] = [ np.round(df_0/(df_0+df_1),3), np.round(df_1/(df_0+df_1),3)]\n",
        "            \n",
        "        return probs    \n",
        "    \n",
        "def Categorical_Hack(a,b):\n",
        "    if a in b.keys():\n",
        "        return b[a]\n",
        "    else:\n",
        "        return [0.5,0.5]  "
      ],
      "execution_count": null,
      "outputs": []
    },
    {
      "cell_type": "code",
      "metadata": {
        "id": "s8UHN5kPaYKf"
      },
      "source": [
        "Categorical_Probs_cat = Categorical_Probabilities(\"clean_categories\",1)\n",
        "clean_categories_cat_hack = X_tr.apply(lambda x: Categorical_Hack(x[\"clean_categories\"],Categorical_Probs_cat), axis=1)  \n",
        "clean_categories_cat_hack=np.asarray(list(clean_categories_cat_hack))"
      ],
      "execution_count": null,
      "outputs": []
    },
    {
      "cell_type": "code",
      "metadata": {
        "colab": {
          "base_uri": "https://localhost:8080/"
        },
        "id": "Ac4k0vi7aYNz",
        "outputId": "a4333bd5-fc3b-4fdd-ceb4-193042e2c54e"
      },
      "source": [
        "features_final=list(set(X_tr[\"clean_categories\"]))\n",
        "len(features_final)"
      ],
      "execution_count": null,
      "outputs": [
        {
          "output_type": "execute_result",
          "data": {
            "text/plain": [
              "51"
            ]
          },
          "metadata": {},
          "execution_count": 24
        }
      ]
    },
    {
      "cell_type": "code",
      "metadata": {
        "id": "bmxUhEQzaYQr"
      },
      "source": [
        "Categorical_Probs_subcat = Categorical_Probabilities(\"clean_subcategories\",1)\n",
        "clean_sub_categories_cat_hack = X_tr.apply(lambda x: Categorical_Hack(x[\"clean_subcategories\"],Categorical_Probs_subcat), axis=1)  \n",
        "len(clean_sub_categories_cat_hack)\n",
        "clean_sub_categories_cat_hack=np.asarray(list(clean_sub_categories_cat_hack))"
      ],
      "execution_count": null,
      "outputs": []
    },
    {
      "cell_type": "code",
      "metadata": {
        "colab": {
          "base_uri": "https://localhost:8080/"
        },
        "id": "xQvReOzDaYTj",
        "outputId": "f3debb59-ae25-4f3a-c29b-3f4b05131711"
      },
      "source": [
        "features_final=list(set(X_tr[\"clean_subcategories\"]))\n",
        "len(features_final)"
      ],
      "execution_count": null,
      "outputs": [
        {
          "output_type": "execute_result",
          "data": {
            "text/plain": [
              "378"
            ]
          },
          "metadata": {},
          "execution_count": 26
        }
      ]
    },
    {
      "cell_type": "code",
      "metadata": {
        "colab": {
          "base_uri": "https://localhost:8080/"
        },
        "id": "n1AlIWOGaW3C",
        "outputId": "b45993de-1368-4f29-e992-a96aa7d1f336"
      },
      "source": [
        "clean_sub_categories_cat_hack.shape"
      ],
      "execution_count": null,
      "outputs": [
        {
          "output_type": "execute_result",
          "data": {
            "text/plain": [
              "(53531, 2)"
            ]
          },
          "metadata": {},
          "execution_count": 27
        }
      ]
    },
    {
      "cell_type": "code",
      "metadata": {
        "colab": {
          "base_uri": "https://localhost:8080/"
        },
        "id": "5OuvgVzCaW56",
        "outputId": "ab139550-3676-4438-a709-26e4ee32b650"
      },
      "source": [
        "Categorical_Probs_school_state = Categorical_Probabilities(\"school_state\",1)\n",
        "school_state_cat_hack = X_tr.apply(lambda x: Categorical_Hack(x[\"school_state\"], Categorical_Probs_school_state), axis=1)  \n",
        "school_state_cat_hack=np.asarray(list(school_state_cat_hack))\n",
        "school_state_cat_hack.shape"
      ],
      "execution_count": null,
      "outputs": [
        {
          "output_type": "execute_result",
          "data": {
            "text/plain": [
              "(53531, 2)"
            ]
          },
          "metadata": {},
          "execution_count": 28
        }
      ]
    },
    {
      "cell_type": "code",
      "metadata": {
        "colab": {
          "base_uri": "https://localhost:8080/"
        },
        "id": "HBn43-ujaW9U",
        "outputId": "22fda29f-bf02-4d74-de13-811d0cce2ac6"
      },
      "source": [
        "Categorical_Probs_project_grade_category = Categorical_Probabilities(\"project_grade_category\",1)\n",
        "project_grade_category_cat_hack = X_tr.apply(lambda x: Categorical_Hack(x[\"project_grade_category\"], Categorical_Probs_project_grade_category), axis=1)  \n",
        "project_grade_category_cat_hack=np.asarray(list(project_grade_category_cat_hack))\n",
        "project_grade_category_cat_hack.shape"
      ],
      "execution_count": null,
      "outputs": [
        {
          "output_type": "execute_result",
          "data": {
            "text/plain": [
              "(53531, 2)"
            ]
          },
          "metadata": {},
          "execution_count": 29
        }
      ]
    },
    {
      "cell_type": "code",
      "metadata": {
        "colab": {
          "base_uri": "https://localhost:8080/"
        },
        "id": "8CQA2NseaXHO",
        "outputId": "6d91003a-bee6-4d76-aefb-4b41065e4abb"
      },
      "source": [
        "X_tr['teacher_prefix']=X_tr['teacher_prefix'].fillna(\"Not Specefied\")\n",
        "Categorical_Probs_teacher_prefix = Categorical_Probabilities(\"teacher_prefix\",1)\n",
        "teacher_prefix_cat_hack = X_tr.apply(lambda x: Categorical_Hack(x[\"teacher_prefix\"], Categorical_Probs_teacher_prefix), axis=1)  \n",
        "teacher_prefix_cat_hack=np.asarray(list(teacher_prefix_cat_hack))\n",
        "teacher_prefix_cat_hack.shape"
      ],
      "execution_count": null,
      "outputs": [
        {
          "output_type": "execute_result",
          "data": {
            "text/plain": [
              "(53531, 2)"
            ]
          },
          "metadata": {},
          "execution_count": 30
        }
      ]
    },
    {
      "cell_type": "code",
      "metadata": {
        "colab": {
          "base_uri": "https://localhost:8080/"
        },
        "id": "lQG-0QX2aXJ0",
        "outputId": "5f61a1f3-19ca-4085-e2ce-da8eb9e9c16e"
      },
      "source": [
        "# We are considering only the words which appeared in at least 10 documents(rows or projects).\n",
        "vectorizer_essays_bow = CountVectorizer(min_df=10)\n",
        "text_bow = vectorizer_essays_bow.fit_transform(X_tr['essay'])\n",
        "print(\"Shape of matrix after one hot encodig \",text_bow.shape)\n",
        "\n"
      ],
      "execution_count": null,
      "outputs": [
        {
          "output_type": "stream",
          "name": "stdout",
          "text": [
            "Shape of matrix after one hot encodig  (53531, 12533)\n"
          ]
        }
      ]
    },
    {
      "cell_type": "code",
      "metadata": {
        "id": "0imn1VDphJB6"
      },
      "source": [
        "tr_features_bow=vectorizer_essays_bow.get_feature_names()"
      ],
      "execution_count": null,
      "outputs": []
    },
    {
      "cell_type": "code",
      "metadata": {
        "colab": {
          "base_uri": "https://localhost:8080/"
        },
        "id": "pK3iVMXaaXNK",
        "outputId": "839b20cb-425a-4a50-d488-a7eaf93a23fe"
      },
      "source": [
        "#TF-IDF vectorizer\n",
        "from sklearn.feature_extraction.text import TfidfVectorizer\n",
        "vectorizer_essays_tfidf = TfidfVectorizer(min_df=10)\n",
        "text_tfidf = vectorizer_essays_tfidf.fit_transform(X_tr['essay'])\n",
        "print(\"Shape of matrix after one hot encodig \",text_tfidf.shape)\n",
        "text_tfidf_train =text_tfidf"
      ],
      "execution_count": null,
      "outputs": [
        {
          "output_type": "stream",
          "name": "stdout",
          "text": [
            "Shape of matrix after one hot encodig  (53531, 12533)\n"
          ]
        }
      ]
    },
    {
      "cell_type": "code",
      "metadata": {
        "id": "lgX137zFaXQS"
      },
      "source": [
        "import os\n",
        "f = open('/content/drive/MyDrive/Colab Notebooks/glove_vectors', 'rb')\n",
        "model = pickle.load(f)\n",
        "glove_words =  set(model.keys())\n",
        "\n"
      ],
      "execution_count": null,
      "outputs": []
    },
    {
      "cell_type": "code",
      "metadata": {
        "colab": {
          "base_uri": "https://localhost:8080/"
        },
        "id": "Pr_n_aA-naD8",
        "outputId": "5e9d1653-254b-4e31-9cf0-ef2b4c9d0cd7"
      },
      "source": [
        "# average Word2Vec\n",
        "# compute average word2vec for each review.\n",
        "avg_w2v_vectors = []; # the avg-w2v for each sentence/review is stored in this list\n",
        "for sentence in tqdm(X_tr['essay']): # for each review/sentence\n",
        "    vector = np.zeros(300) # as word vectors are of zero length\n",
        "    cnt_words =0; # num of words with a valid vector in the sentence/review\n",
        "    for word in sentence.split(): # for each word in a review/sentence\n",
        "        if word in glove_words:\n",
        "            vector += model[word]\n",
        "            cnt_words += 1\n",
        "    if cnt_words != 0:\n",
        "        vector /= cnt_words\n",
        "    avg_w2v_vectors.append(vector)\n",
        "\n",
        "print(len(avg_w2v_vectors))\n",
        "print(len(avg_w2v_vectors[0]))"
      ],
      "execution_count": null,
      "outputs": [
        {
          "output_type": "stream",
          "name": "stderr",
          "text": [
            "100%|██████████| 53531/53531 [00:18<00:00, 2832.90it/s]"
          ]
        },
        {
          "output_type": "stream",
          "name": "stdout",
          "text": [
            "53531\n",
            "300\n"
          ]
        },
        {
          "output_type": "stream",
          "name": "stderr",
          "text": [
            "\n"
          ]
        }
      ]
    },
    {
      "cell_type": "code",
      "metadata": {
        "id": "oAWFUlBZnaHU"
      },
      "source": [
        "#Using Pretrained Models: TFIDF weighted W2V\n",
        "# S = [\"abc def pqr\", \"def def def abc\", \"pqr pqr def\"]\n",
        "tfidf_model_essays = TfidfVectorizer()\n",
        "tfidf_model_essays.fit(X_tr['essay'])\n",
        "# we are converting a dictionary with word as a key, and the idf as a value\n",
        "dictionary = dict(zip(tfidf_model_essays.get_feature_names(), list(tfidf_model_essays.idf_)))\n",
        "tfidf_words = set(tfidf_model_essays.get_feature_names())"
      ],
      "execution_count": null,
      "outputs": []
    },
    {
      "cell_type": "code",
      "metadata": {
        "colab": {
          "base_uri": "https://localhost:8080/"
        },
        "id": "fU2YA7oKnaKG",
        "outputId": "e8c04abe-d896-418d-c5eb-cad8ee0203a1"
      },
      "source": [
        "# average Word2Vec\n",
        "# compute average word2vec for each review.\n",
        "tfidf_w2v_vectors = []; # the avg-w2v for each sentence/review is stored in this list\n",
        "for sentence in tqdm(X_tr['essay']): # for each review/sentence\n",
        "    vector = np.zeros(300) # as word vectors are of zero length\n",
        "    tf_idf_weight =0; # num of words with a valid vector in the sentence/review\n",
        "    for word in sentence.split(): # for each word in a review/sentence\n",
        "        if (word in glove_words) and (word in tfidf_words):\n",
        "            vec = model[word] # getting the vector for each word\n",
        "            # here we are multiplying idf value(dictionary[word]) and the tf value((sentence.count(word)/len(sentence.split())))\n",
        "            tf_idf = dictionary[word]*(sentence.count(word)/len(sentence.split())) # getting the tfidf value for each word\n",
        "            vector += (vec * tf_idf) # calculating tfidf weighted w2v\n",
        "            tf_idf_weight += tf_idf\n",
        "    if tf_idf_weight != 0:\n",
        "        vector /= tf_idf_weight\n",
        "    tfidf_w2v_vectors.append(vector)\n",
        "\n",
        "print(len(tfidf_w2v_vectors))\n",
        "print(len(tfidf_w2v_vectors[0]))"
      ],
      "execution_count": null,
      "outputs": [
        {
          "output_type": "stream",
          "name": "stderr",
          "text": [
            "100%|██████████| 53531/53531 [02:02<00:00, 435.60it/s]"
          ]
        },
        {
          "output_type": "stream",
          "name": "stdout",
          "text": [
            "53531\n",
            "300\n"
          ]
        },
        {
          "output_type": "stream",
          "name": "stderr",
          "text": [
            "\n"
          ]
        }
      ]
    },
    {
      "cell_type": "code",
      "metadata": {
        "colab": {
          "base_uri": "https://localhost:8080/"
        },
        "id": "wisUVEREnaNE",
        "outputId": "43db1b11-244f-40df-8899-2242f1eb7d37"
      },
      "source": [
        "#Vectorizing Numerical features\n",
        "# check this one: https://www.youtube.com/watch?v=0HOqOcln3Z4&t=530s\n",
        "# standardization sklearn: https://scikit-learn.org/stable/modules/generated/sklearn.preprocessing.StandardScaler.html\n",
        "from sklearn.preprocessing import StandardScaler\n",
        "\n",
        "# price_standardized = standardScalar.fit(project_data['price'].values)\n",
        "# this will rise the error\n",
        "# ValueError: Expected 2D array, got 1D array instead: array=[725.05 213.03 329.   ... 399.   287.73   5.5 ].\n",
        "# Reshape your data either using array.reshape(-1, 1)\n",
        "\n",
        "price_scalar = StandardScaler()\n",
        "price_scalar.fit(X_tr['price'].values.reshape(-1,1)) # finding the mean and standard deviation of this data\n",
        "print(f\"Mean : {price_scalar.mean_[0]}, Standard deviation : {np.sqrt(price_scalar.var_[0])}\")\n",
        "\n",
        "# Now standardize the data with above maen and variance.\n",
        "price_standardized = price_scalar.transform(X_tr['price'].values.reshape(-1, 1))\n",
        "price_standardized_train = price_standardized"
      ],
      "execution_count": null,
      "outputs": [
        {
          "output_type": "stream",
          "name": "stdout",
          "text": [
            "Mean : 298.68382245801496, Standard deviation : 366.27799765308595\n"
          ]
        }
      ]
    },
    {
      "cell_type": "code",
      "metadata": {
        "colab": {
          "base_uri": "https://localhost:8080/"
        },
        "id": "qVl1qjKYnaQj",
        "outputId": "f7517377-6e60-4666-d389-0e6254772fb4"
      },
      "source": [
        "price_standardized_train"
      ],
      "execution_count": null,
      "outputs": [
        {
          "output_type": "execute_result",
          "data": {
            "text/plain": [
              "array([[ 0.45699217],\n",
              "       [-0.49059409],\n",
              "       [ 0.17365547],\n",
              "       ...,\n",
              "       [-0.70627727],\n",
              "       [-0.10785202],\n",
              "       [-0.41141926]])"
            ]
          },
          "metadata": {},
          "execution_count": 44
        }
      ]
    },
    {
      "cell_type": "code",
      "metadata": {
        "id": "QqNyVAo1naVK"
      },
      "source": [
        "#numerical quqntity is not required here"
      ],
      "execution_count": null,
      "outputs": []
    },
    {
      "cell_type": "code",
      "metadata": {
        "colab": {
          "base_uri": "https://localhost:8080/"
        },
        "id": "PaSeiNGwnaX5",
        "outputId": "8551d8c5-a58e-425d-d045-a53730a26286"
      },
      "source": [
        "# check this one: https://www.youtube.com/watch?v=0HOqOcln3Z4&t=530s\n",
        "# standardization sklearn: https://scikit-learn.org/stable/modules/generated/sklearn.preprocessing.StandardScaler.html\n",
        "from sklearn.preprocessing import StandardScaler\n",
        "\n",
        "# price_standardized = standardScalar.fit(project_data['price'].values)\n",
        "# this will rise the error\n",
        "# ValueError: Expected 2D array, got 1D array instead: array=[725.05 213.03 329.   ... 399.   287.73   5.5 ].\n",
        "# Reshape your data either using array.reshape(-1, 1)\n",
        "\n",
        "teacher_number_of_previously_posted_projects_scalar = StandardScaler()\n",
        "teacher_number_of_previously_posted_projects_scalar.fit(X_tr['teacher_number_of_previously_posted_projects'].values.reshape(-1,1)) # finding the mean and standard deviation of this data\n",
        "print(f\"Mean : {teacher_number_of_previously_posted_projects_scalar.mean_[0]}, Standard deviation : {np.sqrt(teacher_number_of_previously_posted_projects_scalar.var_[0])}\")\n",
        "\n",
        "# Now standardize the data with above maen and variance.\n",
        "teacher_number_of_previously_posted_projects_standardized = teacher_number_of_previously_posted_projects_scalar.transform(X_tr['teacher_number_of_previously_posted_projects'].values.reshape(-1, 1))\n",
        "teacher_number_of_previously_posted_projects_standardized_train =teacher_number_of_previously_posted_projects_standardized"
      ],
      "execution_count": null,
      "outputs": [
        {
          "output_type": "stream",
          "name": "stdout",
          "text": [
            "Mean : 11.080308606228167, Standard deviation : 27.59306396009386\n"
          ]
        }
      ]
    },
    {
      "cell_type": "code",
      "metadata": {
        "colab": {
          "base_uri": "https://localhost:8080/"
        },
        "id": "_U9NkzWBnabA",
        "outputId": "e3886cb2-bb17-46b9-a93f-14ee8bc7d52b"
      },
      "source": [
        "#Merging all the above features\n",
        "print(clean_categories_cat_hack.shape)\n",
        "print(clean_sub_categories_cat_hack.shape)\n",
        "print(school_state_cat_hack.shape)\n",
        "print(project_grade_category_cat_hack.shape)\n",
        "print(teacher_prefix_cat_hack.shape)\n",
        "print(teacher_number_of_previously_posted_projects_standardized.shape)\n",
        "#print(quantity_standardized.shape)\n",
        "print(price_standardized.shape)\n",
        "print(text_bow.shape)\n",
        "#print(titles_bow.shape)"
      ],
      "execution_count": null,
      "outputs": [
        {
          "output_type": "stream",
          "name": "stdout",
          "text": [
            "(53531, 2)\n",
            "(53531, 2)\n",
            "(53531, 2)\n",
            "(53531, 2)\n",
            "(53531, 2)\n",
            "(53531, 1)\n",
            "(53531, 1)\n",
            "(53531, 12533)\n"
          ]
        }
      ]
    },
    {
      "cell_type": "code",
      "metadata": {
        "colab": {
          "base_uri": "https://localhost:8080/"
        },
        "id": "_YHNmGfJuK2I",
        "outputId": "15f41102-f669-4e1f-9b5e-a4125c7e6745"
      },
      "source": [
        "clean_categories_cat_hack[0]"
      ],
      "execution_count": null,
      "outputs": [
        {
          "output_type": "execute_result",
          "data": {
            "text/plain": [
              "array([0.152, 0.848])"
            ]
          },
          "metadata": {},
          "execution_count": 47
        }
      ]
    },
    {
      "cell_type": "code",
      "metadata": {
        "colab": {
          "base_uri": "https://localhost:8080/"
        },
        "id": "XpiTfmJ6uK5r",
        "outputId": "adffe33d-6bb5-4d7d-8126-bb1fb93be7e5"
      },
      "source": [
        "print(X_tr['teacher_prefix'].fillna(\"Not Specefied\").shape)\n",
        "print(X_tr['clean_categories'].shape)\n",
        "print(X_tr['clean_subcategories'].shape)\n",
        "print(X_tr['school_state'].shape)\n",
        "print(X_tr['school_state'].shape)"
      ],
      "execution_count": null,
      "outputs": [
        {
          "output_type": "stream",
          "name": "stdout",
          "text": [
            "(53531,)\n",
            "(53531,)\n",
            "(53531,)\n",
            "(53531,)\n",
            "(53531,)\n"
          ]
        }
      ]
    },
    {
      "cell_type": "code",
      "metadata": {
        "id": "gLA3-h3YuK90"
      },
      "source": [
        "#Preparing Data for set-1\n",
        "# merge two sparse matrices: https://stackoverflow.com/a/19710648/4084039\n",
        "from scipy.sparse import hstack\n",
        "# with the same hstack function we are concatinating a sparse matrix and a dense matirx \n",
        "# X1 Data for set1\n",
        "X1_tr = hstack((clean_categories_cat_hack, clean_sub_categories_cat_hack,school_state_cat_hack,project_grade_category_cat_hack,teacher_prefix_cat_hack,teacher_number_of_previously_posted_projects_standardized,\n",
        "            price_standardized,text_bow))\n",
        "# X2 Data for set2\n",
        "X2_tr = hstack((clean_categories_cat_hack, clean_sub_categories_cat_hack,school_state_cat_hack,project_grade_category_cat_hack,teacher_prefix_cat_hack,teacher_number_of_previously_posted_projects_standardized,\\\n",
        "        price_standardized,text_tfidf))"
      ],
      "execution_count": null,
      "outputs": []
    },
    {
      "cell_type": "code",
      "metadata": {
        "id": "Fou-1wS9uLCj",
        "colab": {
          "base_uri": "https://localhost:8080/"
        },
        "outputId": "68899a9e-e5d5-4db4-bc95-59de65526f89"
      },
      "source": [
        "print(X1_tr.shape)\n",
        "print(X2_tr.shape)"
      ],
      "execution_count": null,
      "outputs": [
        {
          "output_type": "stream",
          "name": "stdout",
          "text": [
            "(53531, 12545)\n",
            "(53531, 12545)\n"
          ]
        }
      ]
    },
    {
      "cell_type": "code",
      "metadata": {
        "id": "Q-M49icLuLGS",
        "colab": {
          "base_uri": "https://localhost:8080/"
        },
        "outputId": "80e949f3-f01b-463c-c352-75b73abfab09"
      },
      "source": [
        "avg_w2v_vectors[0].shape\n",
        "avg_w2v_vectors = np.asarray(avg_w2v_vectors)\n",
        "print(avg_w2v_vectors.shape)"
      ],
      "execution_count": null,
      "outputs": [
        {
          "output_type": "stream",
          "name": "stdout",
          "text": [
            "(53531, 300)\n"
          ]
        }
      ]
    },
    {
      "cell_type": "code",
      "metadata": {
        "id": "SYiE0hEGuLLD",
        "colab": {
          "base_uri": "https://localhost:8080/"
        },
        "outputId": "c4d93fa5-50a0-466a-c77b-ec4b96560cf4"
      },
      "source": [
        "print(clean_categories_cat_hack.shape)\n",
        "print(clean_sub_categories_cat_hack.shape)\n",
        "print(school_state_cat_hack.shape)\n",
        "print(project_grade_category_cat_hack.shape)\n",
        "print(teacher_prefix_cat_hack.shape)\n",
        "print(teacher_number_of_previously_posted_projects_standardized.shape)\n",
        "#print(quantity_standardized.shape)\n",
        "print(price_standardized.shape)\n",
        "print(avg_w2v_vectors.shape)\n",
        "#print(avg_w2v_titles_vectors.shape)"
      ],
      "execution_count": null,
      "outputs": [
        {
          "output_type": "stream",
          "name": "stdout",
          "text": [
            "(53531, 2)\n",
            "(53531, 2)\n",
            "(53531, 2)\n",
            "(53531, 2)\n",
            "(53531, 2)\n",
            "(53531, 1)\n",
            "(53531, 1)\n",
            "(53531, 300)\n"
          ]
        }
      ]
    },
    {
      "cell_type": "code",
      "metadata": {
        "colab": {
          "base_uri": "https://localhost:8080/"
        },
        "id": "ogwoCGs5BNqf",
        "outputId": "dbf07921-8659-46a5-e9ed-dec7fa7ecfc7"
      },
      "source": [
        "#https://docs.scipy.org/doc/numpy-1.10.1/reference/generated/numpy.column_stack.html\n",
        "X3_tr=np.column_stack((clean_categories_cat_hack, clean_sub_categories_cat_hack,school_state_cat_hack,project_grade_category_cat_hack,teacher_prefix_cat_hack,teacher_number_of_previously_posted_projects_standardized,price_standardized,avg_w2v_vectors))\n",
        "X3_tr.shape"
      ],
      "execution_count": null,
      "outputs": [
        {
          "output_type": "execute_result",
          "data": {
            "text/plain": [
              "(53531, 312)"
            ]
          },
          "metadata": {},
          "execution_count": 57
        }
      ]
    },
    {
      "cell_type": "code",
      "metadata": {
        "id": "56QuQMwTBNtd"
      },
      "source": [
        "# X4 Data for set4\n",
        "X4_tr = np.column_stack((clean_categories_cat_hack, clean_sub_categories_cat_hack,school_state_cat_hack,project_grade_category_cat_hack,teacher_prefix_cat_hack,teacher_number_of_previously_posted_projects_standardized,\\\n",
        "            price_standardized,tfidf_w2v_vectors))\n",
        "\n",
        "#Preparing labels\n",
        "y_tr=X_tr['project_is_approved']"
      ],
      "execution_count": null,
      "outputs": []
    },
    {
      "cell_type": "code",
      "metadata": {
        "colab": {
          "base_uri": "https://localhost:8080/"
        },
        "id": "rPvpOBJvBNw6",
        "outputId": "7dd1ca2d-debb-44d9-8f5d-5e1c3e62c264"
      },
      "source": [
        "print(X1_tr.shape)\n",
        "print(X2_tr.shape)\n",
        "print(X3_tr.shape)\n",
        "print(X4_tr.shape)\n",
        "print(y_tr.shape)"
      ],
      "execution_count": null,
      "outputs": [
        {
          "output_type": "stream",
          "name": "stdout",
          "text": [
            "(53531, 12545)\n",
            "(53531, 12545)\n",
            "(53531, 312)\n",
            "(53531, 312)\n",
            "(53531,)\n"
          ]
        }
      ]
    },
    {
      "cell_type": "code",
      "metadata": {
        "colab": {
          "base_uri": "https://localhost:8080/"
        },
        "id": "wZO-MWy1BNzN",
        "outputId": "5104cca8-83c5-464e-9874-0d47b67194d4"
      },
      "source": [
        "import nltk\n",
        "nltk.download('vader_lexicon')\n",
        "\n",
        "import nltk\n",
        "from nltk.sentiment.vader import SentimentIntensityAnalyzer\n",
        "\n",
        "# import nltk\n",
        "# nltk.download('vader_lexicon')\n",
        "\n",
        "sid = SentimentIntensityAnalyzer()\n",
        "\n",
        "for_sentiment = 'a person is a person no matter how small dr seuss i teach the smallest students with the biggest enthusiasm \\\n",
        "for learning my students learn in many different ways using all of our senses and multiple intelligences i use a wide range\\\n",
        "of techniques to help all my students succeed students in my class come from a variety of different backgrounds which makes\\\n",
        "for wonderful sharing of experiences and cultures including native americans our school is a caring community of successful \\\n",
        "learners which can be seen through collaborative student project based learning in and out of the classroom kindergarteners \\\n",
        "in my class love to work with hands on materials and have many different opportunities to practice a skill before it is\\\n",
        "mastered having the social skills to work cooperatively with friends is a crucial aspect of the kindergarten curriculum\\\n",
        "montana is the perfect place to learn about agriculture and nutrition my students love to role play in our pretend kitchen\\\n",
        "in the early childhood classroom i have had several kids ask me can we try cooking with real food i will take their idea \\\n",
        "and create common core cooking lessons where we learn important math and writing concepts while cooking delicious healthy \\\n",
        "food for snack time my students will have a grounded appreciation for the work that went into making the food and knowledge \\\n",
        "of where the ingredients came from as well as how it is healthy for their bodies this project would expand our learning of \\\n",
        "nutrition and agricultural cooking recipes by having us peel our own apples to make homemade applesauce make our own bread \\\n",
        "and mix up healthy plants from our classroom garden in the spring we will also create our own cookbooks to be printed and \\\n",
        "shared with families students will gain math and literature skills as well as a life long enjoyment for healthy cooking \\\n",
        "nannan'\n",
        "ss = sid.polarity_scores(for_sentiment)\n",
        "\n",
        "for k in ss:\n",
        "    print('{0}: {1}, '.format(k, ss[k]), end='')\n",
        "\n",
        "# we can use these 4 things as features/attributes (neg, neu, pos, compound)\n",
        "# neg: 0.0, neu: 0.753, pos: 0.247, compound: 0.93"
      ],
      "execution_count": null,
      "outputs": [
        {
          "output_type": "stream",
          "name": "stdout",
          "text": [
            "[nltk_data] Downloading package vader_lexicon to /root/nltk_data...\n",
            "neg: 0.01, neu: 0.745, pos: 0.245, compound: 0.9975, "
          ]
        }
      ]
    },
    {
      "cell_type": "code",
      "metadata": {
        "id": "WuYAK6QDCdI6"
      },
      "source": [
        "#Preprocessing and Vectorising Test and CV data"
      ],
      "execution_count": null,
      "outputs": []
    },
    {
      "cell_type": "code",
      "metadata": {
        "colab": {
          "base_uri": "https://localhost:8080/"
        },
        "id": "syktGd6yBN2B",
        "outputId": "f940107c-ee75-41a6-b426-3efe1e898d67"
      },
      "source": [
        "#Categorical Features\n",
        "clean_categories_cat_hack = X_cv.apply(lambda x: Categorical_Hack(x[\"clean_categories\"],Categorical_Probs_cat), axis=1)  \n",
        "clean_categories_cat_hack=np.asarray(list(clean_categories_cat_hack))\n",
        "clean_categories_cat_hack.shape"
      ],
      "execution_count": null,
      "outputs": [
        {
          "output_type": "execute_result",
          "data": {
            "text/plain": [
              "(22942, 2)"
            ]
          },
          "metadata": {},
          "execution_count": 65
        }
      ]
    },
    {
      "cell_type": "code",
      "metadata": {
        "colab": {
          "base_uri": "https://localhost:8080/"
        },
        "id": "qI9yU_TeBN4g",
        "outputId": "0892fa88-8b9f-4cf8-dd25-3a36f5bcc8b3"
      },
      "source": [
        "clean_sub_categories_cat_hack = X_cv.apply(lambda x: Categorical_Hack(x[\"clean_subcategories\"],Categorical_Probs_subcat), axis=1)  \n",
        "clean_sub_categories_cat_hack=np.asarray(list(clean_sub_categories_cat_hack))\n",
        "clean_sub_categories_cat_hack.shape"
      ],
      "execution_count": null,
      "outputs": [
        {
          "output_type": "execute_result",
          "data": {
            "text/plain": [
              "(22942, 2)"
            ]
          },
          "metadata": {},
          "execution_count": 66
        }
      ]
    },
    {
      "cell_type": "code",
      "metadata": {
        "colab": {
          "base_uri": "https://localhost:8080/"
        },
        "id": "bG7C6sxJBN7d",
        "outputId": "ca621dc9-f902-45df-914d-cc901650a0b5"
      },
      "source": [
        "school_state_cat_hack = X_cv.apply(lambda x: Categorical_Hack(x[\"school_state\"], Categorical_Probs_school_state), axis=1)  \n",
        "school_state_cat_hack=np.asarray(list(school_state_cat_hack))\n",
        "school_state_cat_hack.shape"
      ],
      "execution_count": null,
      "outputs": [
        {
          "output_type": "execute_result",
          "data": {
            "text/plain": [
              "(22942, 2)"
            ]
          },
          "metadata": {},
          "execution_count": 67
        }
      ]
    },
    {
      "cell_type": "code",
      "metadata": {
        "colab": {
          "base_uri": "https://localhost:8080/"
        },
        "id": "gbEQv-WHBN-7",
        "outputId": "8bfa23ff-2eb2-47d6-c06d-9bfdbfa2a5a9"
      },
      "source": [
        "project_grade_category_cat_hack = X_cv.apply(lambda x: Categorical_Hack(x[\"project_grade_category\"], Categorical_Probs_project_grade_category), axis=1)  \n",
        "project_grade_category_cat_hack=np.asarray(list(project_grade_category_cat_hack))\n",
        "project_grade_category_cat_hack.shape"
      ],
      "execution_count": null,
      "outputs": [
        {
          "output_type": "execute_result",
          "data": {
            "text/plain": [
              "(22942, 2)"
            ]
          },
          "metadata": {},
          "execution_count": 68
        }
      ]
    },
    {
      "cell_type": "code",
      "metadata": {
        "colab": {
          "base_uri": "https://localhost:8080/"
        },
        "id": "5h9aV-wQC7Nw",
        "outputId": "171b23f8-89f1-4dfd-dd7d-9648495705ef"
      },
      "source": [
        "X_cv['teacher_prefix']=X_cv['teacher_prefix'].fillna(\"Not Specefied\")\n",
        "teacher_prefix_cat_hack = X_cv.apply(lambda x: Categorical_Hack(x[\"teacher_prefix\"], Categorical_Probs_teacher_prefix), axis=1)  \n",
        "teacher_prefix_cat_hack=np.asarray(list(teacher_prefix_cat_hack))\n",
        "teacher_prefix_cat_hack.shape"
      ],
      "execution_count": null,
      "outputs": [
        {
          "output_type": "execute_result",
          "data": {
            "text/plain": [
              "(22942, 2)"
            ]
          },
          "metadata": {},
          "execution_count": 69
        }
      ]
    },
    {
      "cell_type": "code",
      "metadata": {
        "colab": {
          "base_uri": "https://localhost:8080/"
        },
        "id": "9BKz6UvNC7Qp",
        "outputId": "388992ec-4306-4f16-d2e5-8fd06d1b18b1"
      },
      "source": [
        "#BOW\n",
        "text_bow = vectorizer_essays_bow.transform(X_cv['essay'])\n",
        "print(\"Shape of matrix after one hot encodig \",text_bow.shape)\n",
        "\n",
        "\n",
        "\n",
        "bow_words_tr=vectorizer_essays_bow.get_feature_names()\n",
        "#print(bow_words_tr)"
      ],
      "execution_count": null,
      "outputs": [
        {
          "output_type": "stream",
          "name": "stdout",
          "text": [
            "Shape of matrix after one hot encodig  (22942, 12533)\n"
          ]
        }
      ]
    },
    {
      "cell_type": "code",
      "metadata": {
        "colab": {
          "base_uri": "https://localhost:8080/"
        },
        "id": "p4UL6baDC7Tp",
        "outputId": "26cf71a2-96eb-4b0c-a070-bb49a7082698"
      },
      "source": [
        "k=[\"6\"]\n",
        "j=[\"5\"]\n",
        "k+j"
      ],
      "execution_count": null,
      "outputs": [
        {
          "output_type": "execute_result",
          "data": {
            "text/plain": [
              "['6', '5']"
            ]
          },
          "metadata": {},
          "execution_count": 73
        }
      ]
    },
    {
      "cell_type": "code",
      "metadata": {
        "colab": {
          "base_uri": "https://localhost:8080/"
        },
        "id": "vcrossOlC7Wp",
        "outputId": "573532b8-7cb8-4bc8-b597-70efe2fdd6aa"
      },
      "source": [
        "#TFIDF\n",
        "text_tfidf = vectorizer_essays_tfidf.transform(X_cv['essay'])\n",
        "print(\"Shape of matrix after one hot encodig \",text_tfidf.shape)\n",
        "\n",
        "text_tfidf_cv = text_tfidf\n",
        "\n",
        "tfidf_words_tr=vectorizer_essays_tfidf.get_feature_names()"
      ],
      "execution_count": null,
      "outputs": [
        {
          "output_type": "stream",
          "name": "stdout",
          "text": [
            "Shape of matrix after one hot encodig  (22942, 12533)\n"
          ]
        }
      ]
    },
    {
      "cell_type": "code",
      "metadata": {
        "colab": {
          "base_uri": "https://localhost:8080/"
        },
        "id": "QqQ2bWw8C7Zd",
        "outputId": "527838c4-a506-4aeb-fcad-f4f9aeb7b2ae"
      },
      "source": [
        "# average Word2Vec\n",
        "# compute average word2vec for each review.\n",
        "avg_w2v_vectors = []; # the avg-w2v for each sentence/review is stored in this list\n",
        "for sentence in tqdm(X_cv['essay']): # for each review/sentence\n",
        "    vector = np.zeros(300) # as word vectors are of zero length\n",
        "    cnt_words =0; # num of words with a valid vector in the sentence/review\n",
        "    for word in sentence.split(): # for each word in a review/sentence\n",
        "        if word in glove_words:\n",
        "            vector += model[word]\n",
        "            cnt_words += 1\n",
        "    if cnt_words != 0:\n",
        "        vector /= cnt_words\n",
        "    avg_w2v_vectors.append(vector)\n",
        "\n",
        "print(len(avg_w2v_vectors))\n",
        "print(len(avg_w2v_vectors[0]))\n"
      ],
      "execution_count": null,
      "outputs": [
        {
          "output_type": "stream",
          "name": "stderr",
          "text": [
            "100%|██████████| 22942/22942 [00:08<00:00, 2733.15it/s]"
          ]
        },
        {
          "output_type": "stream",
          "name": "stdout",
          "text": [
            "22942\n",
            "300\n"
          ]
        },
        {
          "output_type": "stream",
          "name": "stderr",
          "text": [
            "\n"
          ]
        }
      ]
    },
    {
      "cell_type": "code",
      "metadata": {
        "colab": {
          "base_uri": "https://localhost:8080/"
        },
        "id": "yamvPdH9C7cR",
        "outputId": "6331bb47-1887-4b15-c862-05b8df1371c3"
      },
      "source": [
        "#TFIDF weighted W2V\n",
        "\n",
        "tfidf_model_essays.transform(X_cv['essay'])\n",
        "# we are converting a dictionary with word as a key, and the idf as a value\n",
        "dictionary = dict(zip(tfidf_model_essays.get_feature_names(), list(tfidf_model_essays.idf_)))\n",
        "tfidf_words = set(tfidf_model_essays.get_feature_names())\n",
        "\n",
        "# average Word2Vec\n",
        "# compute average word2vec for each review.\n",
        "tfidf_w2v_vectors = []; # the avg-w2v for each sentence/review is stored in this list\n",
        "for sentence in tqdm(X_cv['essay']): # for each review/sentence\n",
        "    vector = np.zeros(300) # as word vectors are of zero length\n",
        "    tf_idf_weight =0; # num of words with a valid vector in the sentence/review\n",
        "    for word in sentence.split(): # for each word in a review/sentence\n",
        "        if (word in glove_words) and (word in tfidf_words):\n",
        "            vec = model[word] # getting the vector for each word\n",
        "            # here we are multiplying idf value(dictionary[word]) and the tf value((sentence.count(word)/len(sentence.split())))\n",
        "            tf_idf = dictionary[word]*(sentence.count(word)/len(sentence.split())) # getting the tfidf value for each word\n",
        "            vector += (vec * tf_idf) # calculating tfidf weighted w2v\n",
        "            tf_idf_weight += tf_idf\n",
        "    if tf_idf_weight != 0:\n",
        "        vector /= tf_idf_weight\n",
        "    tfidf_w2v_vectors.append(vector)\n",
        "\n",
        "print(len(tfidf_w2v_vectors))\n",
        "print(len(tfidf_w2v_vectors[0]))\n",
        "\n"
      ],
      "execution_count": null,
      "outputs": [
        {
          "output_type": "stream",
          "name": "stderr",
          "text": [
            "100%|██████████| 22942/22942 [00:51<00:00, 443.75it/s]"
          ]
        },
        {
          "output_type": "stream",
          "name": "stdout",
          "text": [
            "22942\n",
            "300\n"
          ]
        },
        {
          "output_type": "stream",
          "name": "stderr",
          "text": [
            "\n"
          ]
        }
      ]
    },
    {
      "cell_type": "code",
      "metadata": {
        "id": "ZuTPaKtJC7eo"
      },
      "source": [
        "# Numerical Features\n",
        "price_standardized = price_scalar.transform(X_cv['price'].values.reshape(-1, 1))\n",
        "teacher_number_of_previously_posted_projects_standardized = teacher_number_of_previously_posted_projects_scalar.transform(X_cv['teacher_number_of_previously_posted_projects'].values.reshape(-1, 1))\n",
        "\n",
        "price_standardized_cv= price_standardized\n",
        "\n",
        "teacher_number_of_previously_posted_projects_standardized_cv =teacher_number_of_previously_posted_projects_standardized"
      ],
      "execution_count": null,
      "outputs": []
    },
    {
      "cell_type": "code",
      "metadata": {
        "colab": {
          "base_uri": "https://localhost:8080/"
        },
        "id": "Mnro4__NC7hf",
        "outputId": "2ef2f940-2136-484a-9c52-42a2bc237b99"
      },
      "source": [
        "#Mearging CV features\n",
        "print(clean_categories_cat_hack.shape)\n",
        "print(clean_sub_categories_cat_hack.shape)\n",
        "print(school_state_cat_hack.shape)\n",
        "print(project_grade_category_cat_hack.shape)\n",
        "print(teacher_prefix_cat_hack.shape)\n",
        "print(teacher_number_of_previously_posted_projects_standardized.shape)\n",
        "#print(quantity_standardized.shape)\n",
        "print(price_standardized.shape)\n",
        "print(text_bow.shape)\n",
        "#print(titles_bow.shape)"
      ],
      "execution_count": null,
      "outputs": [
        {
          "output_type": "stream",
          "name": "stdout",
          "text": [
            "(22942, 2)\n",
            "(22942, 2)\n",
            "(22942, 2)\n",
            "(22942, 2)\n",
            "(22942, 2)\n",
            "(22942, 1)\n",
            "(22942, 1)\n",
            "(22942, 12533)\n"
          ]
        }
      ]
    },
    {
      "cell_type": "code",
      "metadata": {
        "id": "H17NNh6YC7kE"
      },
      "source": [
        "#Preparing Data for set-1\n",
        "# merge two sparse matrices: https://stackoverflow.com/a/19710648/4084039\n",
        "from scipy.sparse import hstack\n",
        "# with the same hstack function we are concatinating a sparse matrix and a dense matirx \n",
        "# X1 Data for set1\n",
        "X1_cv = hstack((clean_categories_cat_hack, clean_sub_categories_cat_hack,school_state_cat_hack,project_grade_category_cat_hack,teacher_prefix_cat_hack,teacher_number_of_previously_posted_projects_standardized,\\\n",
        "            price_standardized,text_bow))\n",
        "# X2 Data for set2\n",
        "X2_cv = hstack((clean_categories_cat_hack, clean_sub_categories_cat_hack,school_state_cat_hack,project_grade_category_cat_hack,teacher_prefix_cat_hack,teacher_number_of_previously_posted_projects_standardized,\\\n",
        "            price_standardized,text_tfidf))"
      ],
      "execution_count": null,
      "outputs": []
    },
    {
      "cell_type": "code",
      "metadata": {
        "colab": {
          "base_uri": "https://localhost:8080/"
        },
        "id": "JmIqoYLWC7m4",
        "outputId": "e6afd229-f06b-44ba-a07f-d9a87b2ce1df"
      },
      "source": [
        "avg_w2v_vectors[0].shape\n",
        "avg_w2v_vectors = np.asarray(avg_w2v_vectors)\n",
        "print(avg_w2v_vectors.shape)\n"
      ],
      "execution_count": null,
      "outputs": [
        {
          "output_type": "stream",
          "name": "stdout",
          "text": [
            "(22942, 300)\n"
          ]
        }
      ]
    },
    {
      "cell_type": "code",
      "metadata": {
        "colab": {
          "base_uri": "https://localhost:8080/"
        },
        "id": "eakVRfp3C7pr",
        "outputId": "318db82e-ad20-4549-da29-bb0dff1b269a"
      },
      "source": [
        "print(clean_categories_cat_hack.shape)\n",
        "print(clean_sub_categories_cat_hack.shape)\n",
        "print(school_state_cat_hack.shape)\n",
        "print(project_grade_category_cat_hack.shape)\n",
        "print(teacher_prefix_cat_hack.shape)\n",
        "print(teacher_number_of_previously_posted_projects_standardized.shape)\n",
        "print(price_standardized.shape)\n",
        "print(avg_w2v_vectors.shape)\n"
      ],
      "execution_count": null,
      "outputs": [
        {
          "output_type": "stream",
          "name": "stdout",
          "text": [
            "(22942, 2)\n",
            "(22942, 2)\n",
            "(22942, 2)\n",
            "(22942, 2)\n",
            "(22942, 2)\n",
            "(22942, 1)\n",
            "(22942, 1)\n",
            "(22942, 300)\n"
          ]
        }
      ]
    },
    {
      "cell_type": "code",
      "metadata": {
        "colab": {
          "base_uri": "https://localhost:8080/"
        },
        "id": "FESTEjzlEtFA",
        "outputId": "0a9745d8-bbea-441a-bf87-e3c72ddd6438"
      },
      "source": [
        "#https://docs.scipy.org/doc/numpy-1.10.1/reference/generated/numpy.column_stack.html\n",
        "X3_cv=np.column_stack((clean_categories_cat_hack, clean_sub_categories_cat_hack,school_state_cat_hack,project_grade_category_cat_hack,teacher_prefix_cat_hack,teacher_number_of_previously_posted_projects_standardized,\\\n",
        "            price_standardized,avg_w2v_vectors))\n",
        "X3_tr.shape"
      ],
      "execution_count": null,
      "outputs": [
        {
          "output_type": "execute_result",
          "data": {
            "text/plain": [
              "(53531, 312)"
            ]
          },
          "metadata": {},
          "execution_count": 94
        }
      ]
    },
    {
      "cell_type": "code",
      "metadata": {
        "id": "oeF_D591EtH5"
      },
      "source": [
        "# X4 Data for set4\n",
        "X4_cv = np.column_stack((clean_categories_cat_hack, clean_sub_categories_cat_hack,school_state_cat_hack,project_grade_category_cat_hack,teacher_prefix_cat_hack,teacher_number_of_previously_posted_projects_standardized,\\\n",
        "            price_standardized,tfidf_w2v_vectors))"
      ],
      "execution_count": null,
      "outputs": []
    },
    {
      "cell_type": "code",
      "metadata": {
        "id": "_PcmasU0EtKv"
      },
      "source": [
        "X4_cv.shape\n",
        "#Preparing labels\n",
        "y_cv=X_cv['project_is_approved']"
      ],
      "execution_count": null,
      "outputs": []
    },
    {
      "cell_type": "code",
      "metadata": {
        "colab": {
          "base_uri": "https://localhost:8080/"
        },
        "id": "UdW4yey-EtNp",
        "outputId": "db90d0da-27e4-4376-c53f-9fd2a3a98046"
      },
      "source": [
        "print(X1_cv.shape)\n",
        "print(X2_cv.shape)\n",
        "print(X3_cv.shape)\n",
        "print(X4_cv.shape)\n",
        "print(y_cv.shape)"
      ],
      "execution_count": null,
      "outputs": [
        {
          "output_type": "stream",
          "name": "stdout",
          "text": [
            "(22942, 12545)\n",
            "(22942, 12545)\n",
            "(22942, 312)\n",
            "(22942, 312)\n",
            "(22942,)\n"
          ]
        }
      ]
    },
    {
      "cell_type": "code",
      "metadata": {
        "colab": {
          "base_uri": "https://localhost:8080/"
        },
        "id": "fxISv9z5Fa-W",
        "outputId": "7a936731-63c4-4287-b263-5d24c4ec8aa7"
      },
      "source": [
        "clean_categories_cat_hack = X_test.apply(lambda x: Categorical_Hack(x[\"clean_categories\"],Categorical_Probs_cat), axis=1)  \n",
        "clean_categories_cat_hack=np.asarray(list(clean_categories_cat_hack))\n",
        "print(clean_categories_cat_hack.shape)\n",
        "\n",
        "clean_sub_categories_cat_hack = X_test.apply(lambda x: Categorical_Hack(x[\"clean_subcategories\"],Categorical_Probs_subcat), axis=1)  \n",
        "clean_sub_categories_cat_hack=np.asarray(list(clean_sub_categories_cat_hack))\n",
        "print(clean_sub_categories_cat_hack.shape)\n",
        "\n",
        "school_state_cat_hack = X_test.apply(lambda x: Categorical_Hack(x[\"school_state\"], Categorical_Probs_school_state), axis=1)  \n",
        "school_state_cat_hack=np.asarray(list(school_state_cat_hack))\n",
        "print(school_state_cat_hack.shape)\n",
        "\n",
        "project_grade_category_cat_hack = X_test.apply(lambda x: Categorical_Hack(x[\"project_grade_category\"], Categorical_Probs_project_grade_category), axis=1)  \n",
        "project_grade_category_cat_hack=np.asarray(list(project_grade_category_cat_hack))\n",
        "print(project_grade_category_cat_hack.shape)\n",
        "\n",
        "X_test['teacher_prefix']=X_test['teacher_prefix'].fillna(\"Not Specefied\")\n",
        "teacher_prefix_cat_hack = X_test.apply(lambda x: Categorical_Hack(x[\"teacher_prefix\"], Categorical_Probs_teacher_prefix), axis=1)  \n",
        "teacher_prefix_cat_hack=np.asarray(list(teacher_prefix_cat_hack))\n",
        "print(teacher_prefix_cat_hack.shape)"
      ],
      "execution_count": null,
      "outputs": [
        {
          "output_type": "stream",
          "name": "stdout",
          "text": [
            "(32775, 2)\n",
            "(32775, 2)\n",
            "(32775, 2)\n",
            "(32775, 2)\n",
            "(32775, 2)\n"
          ]
        }
      ]
    },
    {
      "cell_type": "code",
      "metadata": {
        "colab": {
          "base_uri": "https://localhost:8080/"
        },
        "id": "oJgOUe8qFbBN",
        "outputId": "444879fe-c8c8-4e07-b40d-d58a888bf1c7"
      },
      "source": [
        "#Text data and numerical data\n",
        "#BOW\n",
        "text_bow = vectorizer_essays_bow.transform(X_test['essay'])\n",
        "print(\"Shape of matrix after one hot encodig \",text_bow.shape)\n",
        "\n",
        "\n",
        "\n",
        "#TFIDF\n",
        "text_tfidf = vectorizer_essays_tfidf.transform(X_test['essay'])\n",
        "print(\"Shape of matrix after one hot encodig \",text_tfidf.shape)\n",
        "text_tfidf_test = text_tfidf\n",
        "\n",
        "\n",
        "# average Word2Vec\n",
        "# compute average word2vec for each review.\n",
        "avg_w2v_vectors = []; # the avg-w2v for each sentence/review is stored in this list\n",
        "for sentence in tqdm(X_test['essay']): # for each review/sentence\n",
        "    vector = np.zeros(300) # as word vectors are of zero length\n",
        "    cnt_words =0; # num of words with a valid vector in the sentence/review\n",
        "    for word in sentence.split(): # for each word in a review/sentence\n",
        "        if word in glove_words:\n",
        "            vector += model[word]\n",
        "            cnt_words += 1\n",
        "    if cnt_words != 0:\n",
        "        vector /= cnt_words\n",
        "    avg_w2v_vectors.append(vector)\n",
        "\n",
        "print(len(avg_w2v_vectors))\n",
        "print(len(avg_w2v_vectors[0]))\n",
        "\n",
        "\n",
        "\n",
        "#TFIDF weighted W2V\n",
        "\n",
        "tfidf_model_essays.transform(X_test['essay'])\n",
        "# we are converting a dictionary with word as a key, and the idf as a value\n",
        "dictionary = dict(zip(tfidf_model_essays.get_feature_names(), list(tfidf_model_essays.idf_)))\n",
        "tfidf_words = set(tfidf_model_essays.get_feature_names())\n",
        "\n",
        "# average Word2Vec\n",
        "# compute average word2vec for each review.\n",
        "tfidf_w2v_vectors = []; # the avg-w2v for each sentence/review is stored in this list\n",
        "for sentence in tqdm(X_test['essay']): # for each review/sentence\n",
        "    vector = np.zeros(300) # as word vectors are of zero length\n",
        "    tf_idf_weight =0; # num of words with a valid vector in the sentence/review\n",
        "    for word in sentence.split(): # for each word in a review/sentence\n",
        "        if (word in glove_words) and (word in tfidf_words):\n",
        "            vec = model[word] # getting the vector for each word\n",
        "            # here we are multiplying idf value(dictionary[word]) and the tf value((sentence.count(word)/len(sentence.split())))\n",
        "            tf_idf = dictionary[word]*(sentence.count(word)/len(sentence.split())) # getting the tfidf value for each word\n",
        "            vector += (vec * tf_idf) # calculating tfidf weighted w2v\n",
        "            tf_idf_weight += tf_idf\n",
        "    if tf_idf_weight != 0:\n",
        "        vector /= tf_idf_weight\n",
        "    tfidf_w2v_vectors.append(vector)\n",
        "\n",
        "print(len(tfidf_w2v_vectors))\n",
        "print(len(tfidf_w2v_vectors[0]))\n",
        "\n",
        "\n",
        "\n",
        "# Numerical Features\n",
        "price_standardized = price_scalar.transform(X_test['price'].values.reshape(-1, 1))\n",
        "teacher_number_of_previously_posted_projects_standardized = teacher_number_of_previously_posted_projects_scalar.transform(X_test['teacher_number_of_previously_posted_projects'].values.reshape(-1, 1))\n",
        "\n",
        "price_standardized_test = price_standardized\n",
        "teacher_number_of_previously_posted_projects_standardized_test =teacher_number_of_previously_posted_projects_standardized"
      ],
      "execution_count": null,
      "outputs": [
        {
          "output_type": "stream",
          "name": "stdout",
          "text": [
            "Shape of matrix after one hot encodig  (32775, 12533)\n",
            "Shape of matrix after one hot encodig  (32775, 12533)\n"
          ]
        },
        {
          "output_type": "stream",
          "name": "stderr",
          "text": [
            "100%|██████████| 32775/32775 [00:11<00:00, 2857.23it/s]\n"
          ]
        },
        {
          "output_type": "stream",
          "name": "stdout",
          "text": [
            "32775\n",
            "300\n"
          ]
        },
        {
          "output_type": "stream",
          "name": "stderr",
          "text": [
            "100%|██████████| 32775/32775 [01:13<00:00, 443.03it/s]"
          ]
        },
        {
          "output_type": "stream",
          "name": "stdout",
          "text": [
            "32775\n",
            "300\n"
          ]
        },
        {
          "output_type": "stream",
          "name": "stderr",
          "text": [
            "\n"
          ]
        }
      ]
    },
    {
      "cell_type": "code",
      "metadata": {
        "colab": {
          "base_uri": "https://localhost:8080/"
        },
        "id": "ycpSt-gJFbGC",
        "outputId": "7a80939c-e77e-43c1-9c07-7be4e82000c4"
      },
      "source": [
        "print(clean_categories_cat_hack.shape)\n",
        "print(clean_sub_categories_cat_hack.shape)\n",
        "print(school_state_cat_hack.shape)\n",
        "print(project_grade_category_cat_hack.shape)\n",
        "print(teacher_prefix_cat_hack.shape)\n",
        "print(teacher_number_of_previously_posted_projects_standardized.shape)\n",
        "print(price_standardized.shape)\n",
        "print(text_bow.shape)"
      ],
      "execution_count": null,
      "outputs": [
        {
          "output_type": "stream",
          "name": "stdout",
          "text": [
            "(32775, 2)\n",
            "(32775, 2)\n",
            "(32775, 2)\n",
            "(32775, 2)\n",
            "(32775, 2)\n",
            "(32775, 1)\n",
            "(32775, 1)\n",
            "(32775, 12533)\n"
          ]
        }
      ]
    },
    {
      "cell_type": "code",
      "metadata": {
        "id": "O2T4C0OOFbIR"
      },
      "source": [
        "#Preparing Data for set-1\n",
        "# merge two sparse matrices: https://stackoverflow.com/a/19710648/4084039\n",
        "from scipy.sparse import hstack\n",
        "# with the same hstack function we are concatinating a sparse matrix and a dense matirx \n",
        "# X1 Data for set1\n",
        "X1_test = hstack((clean_categories_cat_hack, clean_sub_categories_cat_hack,school_state_cat_hack,project_grade_category_cat_hack,teacher_prefix_cat_hack,teacher_number_of_previously_posted_projects_standardized,\\\n",
        "            price_standardized,text_bow))\n",
        "# X2 Data for set2\n",
        "X2_test = hstack((clean_categories_cat_hack, clean_sub_categories_cat_hack,school_state_cat_hack,project_grade_category_cat_hack,teacher_prefix_cat_hack,teacher_number_of_previously_posted_projects_standardized,\\\n",
        "            price_standardized,text_tfidf))"
      ],
      "execution_count": null,
      "outputs": []
    },
    {
      "cell_type": "code",
      "metadata": {
        "colab": {
          "base_uri": "https://localhost:8080/"
        },
        "id": "UFoV9yRpFbKP",
        "outputId": "ead9d89d-116a-4c31-d522-e17a4ffad5dc"
      },
      "source": [
        "avg_w2v_vectors = np.asarray(avg_w2v_vectors)\n",
        "print(avg_w2v_vectors.shape)\n"
      ],
      "execution_count": null,
      "outputs": [
        {
          "output_type": "stream",
          "name": "stdout",
          "text": [
            "(32775, 300)\n"
          ]
        }
      ]
    },
    {
      "cell_type": "code",
      "metadata": {
        "id": "2dnS7H6hFbNf"
      },
      "source": [
        "#https://docs.scipy.org/doc/numpy-1.10.1/reference/generated/numpy.column_stack.html\n",
        "X3_test=np.column_stack((clean_categories_cat_hack, clean_sub_categories_cat_hack,school_state_cat_hack,project_grade_category_cat_hack,teacher_prefix_cat_hack,teacher_number_of_previously_posted_projects_standardized,\\\n",
        "            price_standardized,avg_w2v_vectors))\n",
        "\n",
        "\n",
        "# X4 Data for set4\n",
        "X4_test = np.column_stack((clean_categories_cat_hack, clean_sub_categories_cat_hack,school_state_cat_hack,project_grade_category_cat_hack,teacher_prefix_cat_hack,teacher_number_of_previously_posted_projects_standardized,\\\n",
        "            price_standardized,tfidf_w2v_vectors))"
      ],
      "execution_count": null,
      "outputs": []
    },
    {
      "cell_type": "code",
      "metadata": {
        "colab": {
          "base_uri": "https://localhost:8080/"
        },
        "id": "mpD89VEsFbPg",
        "outputId": "21b2a852-6c64-4095-e26c-49e4e55027ba"
      },
      "source": [
        "print(X1_test.shape)\n",
        "print(X2_test.shape)\n",
        "print(X3_test.shape)\n",
        "print(X4_test.shape)\n",
        "print(y_test.shape)"
      ],
      "execution_count": null,
      "outputs": [
        {
          "output_type": "stream",
          "name": "stdout",
          "text": [
            "(32775, 12545)\n",
            "(32775, 12545)\n",
            "(32775, 312)\n",
            "(32775, 312)\n",
            "(32775,)\n"
          ]
        }
      ]
    },
    {
      "cell_type": "code",
      "metadata": {
        "id": "F-F_HkxtL0TQ"
      },
      "source": [
        "#Implementation of decision tree"
      ],
      "execution_count": null,
      "outputs": []
    },
    {
      "cell_type": "code",
      "metadata": {
        "id": "lWQgNxSdFbSG"
      },
      "source": [
        "from sklearn.tree import DecisionTreeClassifier\n",
        "from sklearn.calibration import CalibratedClassifierCV\n",
        "from sklearn.metrics import roc_curve\n",
        "from sklearn.metrics import roc_auc_score\n",
        "from sklearn.metrics import accuracy_score\n",
        "depth_alpha=[1, 5, 10, 50, 100, 500, 100]\n",
        "min_sample_split_alpha=[5,10,100,500]"
      ],
      "execution_count": null,
      "outputs": []
    },
    {
      "cell_type": "code",
      "metadata": {
        "colab": {
          "base_uri": "https://localhost:8080/"
        },
        "id": "QAOziwhFFbWd",
        "outputId": "c13196dc-9701-4d5b-b89d-bc65d4ea3556"
      },
      "source": [
        "aucTotal_cv=[]\n",
        "aucTotal_train=[]\n",
        "HayperParametesDictAUC_cv=dict()\n",
        "for i in min_sample_split_alpha:\n",
        "    for j in depth_alpha:\n",
        "        print(\"for min sample split =\", i,\"and max depth = \", j)\n",
        "        clf = DecisionTreeClassifier(min_samples_split=i ,criterion='gini', max_depth=j,class_weight = 'balanced',random_state=42)\n",
        "        clf.fit(X1_tr, y_tr)\n",
        "        sig_clf = CalibratedClassifierCV(clf, method=\"sigmoid\")\n",
        "        sig_clf.fit(X1_tr, y_tr)\n",
        "        # predict the response on the crossvalidation train\n",
        "        \n",
        "        probs_cv = sig_clf.predict_proba(X1_cv)\n",
        "    \n",
        "        # predict the response on the train\n",
        "        probs_train = sig_clf.predict_proba(X1_tr)\n",
        "        \n",
        "        # keep probabilities for the positive outcome only\n",
        "        probs_cv = probs_cv[:, 1]\n",
        "        probs_train = probs_train[:,1]\n",
        "        \n",
        "        # calculate AUC\n",
        "        auc_cv = roc_auc_score(y_cv, probs_cv)\n",
        "        auc_train = roc_auc_score(y_tr, probs_train)\n",
        "        # evaluate CV accuracy\n",
        "        probs_cv_acc=sig_clf.predict(X1_cv)\n",
        "        acc_cv = accuracy_score(y_cv, probs_cv_acc, normalize=True) * float(100)\n",
        "        print('\\nCV accuracy for alpha = %f is %d%% and auc= %.3f' % (i, acc_cv,auc_cv))\n",
        "        aucTotal_cv.append(auc_cv)\n",
        "        aucTotal_train.append(auc_train) \n",
        "        HayperParametesDictAUC_cv[\"{},{}\".format(i,j)]=auc_cv"
      ],
      "execution_count": null,
      "outputs": [
        {
          "output_type": "stream",
          "name": "stdout",
          "text": [
            "for min sample split = 5 and max depth =  1\n",
            "\n",
            "CV accuracy for alpha = 5.000000 is 84% and auc= 0.567\n",
            "for min sample split = 5 and max depth =  5\n",
            "\n",
            "CV accuracy for alpha = 5.000000 is 84% and auc= 0.641\n",
            "for min sample split = 5 and max depth =  10\n",
            "\n",
            "CV accuracy for alpha = 5.000000 is 84% and auc= 0.664\n",
            "for min sample split = 5 and max depth =  50\n",
            "\n",
            "CV accuracy for alpha = 5.000000 is 84% and auc= 0.643\n",
            "for min sample split = 5 and max depth =  100\n",
            "\n",
            "CV accuracy for alpha = 5.000000 is 84% and auc= 0.634\n",
            "for min sample split = 5 and max depth =  500\n",
            "\n",
            "CV accuracy for alpha = 5.000000 is 84% and auc= 0.626\n",
            "for min sample split = 5 and max depth =  100\n",
            "\n",
            "CV accuracy for alpha = 5.000000 is 84% and auc= 0.634\n",
            "for min sample split = 10 and max depth =  1\n",
            "\n",
            "CV accuracy for alpha = 10.000000 is 84% and auc= 0.567\n",
            "for min sample split = 10 and max depth =  5\n",
            "\n",
            "CV accuracy for alpha = 10.000000 is 84% and auc= 0.641\n",
            "for min sample split = 10 and max depth =  10\n",
            "\n",
            "CV accuracy for alpha = 10.000000 is 84% and auc= 0.664\n",
            "for min sample split = 10 and max depth =  50\n",
            "\n",
            "CV accuracy for alpha = 10.000000 is 84% and auc= 0.641\n",
            "for min sample split = 10 and max depth =  100\n",
            "\n",
            "CV accuracy for alpha = 10.000000 is 84% and auc= 0.633\n",
            "for min sample split = 10 and max depth =  500\n",
            "\n",
            "CV accuracy for alpha = 10.000000 is 84% and auc= 0.628\n",
            "for min sample split = 10 and max depth =  100\n",
            "\n",
            "CV accuracy for alpha = 10.000000 is 84% and auc= 0.633\n",
            "for min sample split = 100 and max depth =  1\n",
            "\n",
            "CV accuracy for alpha = 100.000000 is 84% and auc= 0.567\n",
            "for min sample split = 100 and max depth =  5\n",
            "\n",
            "CV accuracy for alpha = 100.000000 is 84% and auc= 0.641\n",
            "for min sample split = 100 and max depth =  10\n",
            "\n",
            "CV accuracy for alpha = 100.000000 is 84% and auc= 0.663\n",
            "for min sample split = 100 and max depth =  50\n",
            "\n",
            "CV accuracy for alpha = 100.000000 is 84% and auc= 0.655\n",
            "for min sample split = 100 and max depth =  100\n",
            "\n",
            "CV accuracy for alpha = 100.000000 is 84% and auc= 0.645\n",
            "for min sample split = 100 and max depth =  500\n",
            "\n",
            "CV accuracy for alpha = 100.000000 is 84% and auc= 0.636\n",
            "for min sample split = 100 and max depth =  100\n",
            "\n",
            "CV accuracy for alpha = 100.000000 is 84% and auc= 0.645\n",
            "for min sample split = 500 and max depth =  1\n",
            "\n",
            "CV accuracy for alpha = 500.000000 is 84% and auc= 0.567\n",
            "for min sample split = 500 and max depth =  5\n",
            "\n",
            "CV accuracy for alpha = 500.000000 is 84% and auc= 0.641\n",
            "for min sample split = 500 and max depth =  10\n",
            "\n",
            "CV accuracy for alpha = 500.000000 is 84% and auc= 0.665\n",
            "for min sample split = 500 and max depth =  50\n",
            "\n",
            "CV accuracy for alpha = 500.000000 is 84% and auc= 0.674\n",
            "for min sample split = 500 and max depth =  100\n",
            "\n",
            "CV accuracy for alpha = 500.000000 is 84% and auc= 0.673\n",
            "for min sample split = 500 and max depth =  500\n",
            "\n",
            "CV accuracy for alpha = 500.000000 is 84% and auc= 0.670\n",
            "for min sample split = 500 and max depth =  100\n",
            "\n",
            "CV accuracy for alpha = 500.000000 is 84% and auc= 0.673\n"
          ]
        }
      ]
    },
    {
      "cell_type": "code",
      "metadata": {
        "colab": {
          "base_uri": "https://localhost:8080/"
        },
        "id": "qyUJ0UnUFbX7",
        "outputId": "89028755-2479-41d8-8bc0-7650dc30d970"
      },
      "source": [
        "aucTotal_cv[np.argmax(aucTotal_cv)]"
      ],
      "execution_count": null,
      "outputs": [
        {
          "output_type": "execute_result",
          "data": {
            "text/plain": [
              "0.6737014070432462"
            ]
          },
          "metadata": {},
          "execution_count": 114
        }
      ]
    },
    {
      "cell_type": "code",
      "metadata": {
        "id": "-CuuM9AAFbat"
      },
      "source": [
        "#https://stackoverflow.com/questions/268272/getting-key-with-maximum-value-in-dictionary\n",
        "import operator\n",
        "alpha=max(HayperParametesDictAUC_cv.items(), key=operator.itemgetter(1))[0]\n",
        "min_samples_split_cv,max_depth_cv = alpha.split(\",\")\n",
        "min_samples_split_cv=int(min_samples_split_cv)\n",
        "max_depth_cv = int(max_depth_cv)\n",
        "hp_bow = alpha"
      ],
      "execution_count": null,
      "outputs": []
    },
    {
      "cell_type": "code",
      "metadata": {
        "colab": {
          "base_uri": "https://localhost:8080/"
        },
        "id": "qyqQWEzWFbfc",
        "outputId": "fda44714-aa3b-4cdd-ef03-9d434f792e26"
      },
      "source": [
        "clf = DecisionTreeClassifier(min_samples_split=min_samples_split_cv ,criterion='gini', max_depth=max_depth_cv,class_weight = 'balanced' ,random_state=42)\n",
        "clf.fit(X1_tr, y_tr)\n",
        "sig_clf = CalibratedClassifierCV(clf, method=\"sigmoid\")\n",
        "sig_clf.fit(X1_tr, y_tr)\n",
        "\n",
        "\n",
        "\n",
        "\n",
        "\n",
        "\n",
        "probs_test   =  sig_clf.predict_proba(X1_test)\n",
        "probs_train  = sig_clf.predict_proba(X1_tr)\n",
        "y_pred_test  = sig_clf.predict(X1_test)\n",
        "y_pred_train = sig_clf.predict(X1_tr)\n",
        "\n",
        "# keep probabilities for the positive outcome only\n",
        "probs_test = probs_test[:, 1]\n",
        "probs_train = probs_train[:,1]\n",
        "# calculate AUC\n",
        "auc = roc_auc_score(y_test, probs_test)\n",
        "\n",
        "\n",
        "\n",
        "\n",
        "\n",
        "\n",
        "#y_pred_test = sig_clf.predict(X1_test)\n",
        "#auc = roc_auc_score(y_test, y_pred_test)\n",
        "auc_bow =auc\n",
        "print(\"Test AUC: \",auc)\n",
        "#y_pred_tr =  sig_clf.predict(X1_tr)\n",
        "auc = roc_auc_score(y_tr, probs_train)\n",
        "print(\"Train AUC: \",auc)"
      ],
      "execution_count": null,
      "outputs": [
        {
          "output_type": "stream",
          "name": "stdout",
          "text": [
            "Test AUC:  0.6812096037468798\n",
            "Train AUC:  0.8694602890980587\n"
          ]
        }
      ]
    },
    {
      "cell_type": "code",
      "metadata": {
        "colab": {
          "base_uri": "https://localhost:8080/",
          "height": 295
        },
        "id": "u2c_VMs7FbjW",
        "outputId": "71c6ffaf-a087-4fcc-c189-a49fd1e7e9ec"
      },
      "source": [
        "import matplotlib.pyplot as plt\n",
        "probs_test = sig_clf.predict_proba(X1_test)[:,1]\n",
        "probs_train = sig_clf.predict_proba(X1_tr)[:,1]\n",
        "# calculate roc curve\n",
        "fpr, tpr, thresholds = roc_curve(y_test, probs_test)\n",
        "fpr2, tpr2, thresholds2 = roc_curve(y_tr, probs_train)\n",
        "# plot no skill\n",
        "plt.plot([0, 1], [0, 1], color='C0')\n",
        "# plot the roc curve for the model\n",
        "plt.plot(fpr, tpr, color='C1',label='cv')\n",
        "plt.plot(fpr2, tpr2, color='g',label='train')\n",
        "plt.legend()\n",
        "plt.xlabel('FPR')\n",
        "plt.ylabel('TPR')\n",
        "plt.title(\"ERROR PLOT\")\n",
        "# show the plot\n",
        "plt.show()"
      ],
      "execution_count": null,
      "outputs": [
        {
          "output_type": "display_data",
          "data": {
            "image/png": "[encoded data removed]",
            "text/plain": [
              "<Figure size 432x288 with 1 Axes>"
            ]
          },
          "metadata": {
            "needs_background": "light"
          }
        }
      ]
    },
    {
      "cell_type": "code",
      "metadata": {
        "id": "nOKOYeCNEtTI"
      },
      "source": [
        "#Results based on the confusion matrix"
      ],
      "execution_count": null,
      "outputs": []
    },
    {
      "cell_type": "code",
      "metadata": {
        "id": "Sd0eG39KEtVT"
      },
      "source": [
        "from sklearn.metrics import confusion_matrix\n",
        "cm=confusion_matrix(y_test,sig_clf.predict(X1_test) )\n",
        "TPR=np.round(cm[1][1]/(cm[0][1]+cm[1][1])*100,2)\n",
        "FPR=np.round(cm[0][0]/(cm[0][0]+cm[1][0])*100,2)\n",
        "Precision= np.round(cm[1][1]/(cm[1][0]+cm[1][1])*100,2)\n",
        "Recall = TPR\n",
        "F1_Score= np.round((2*Precision*Recall)/(Recall+Precision),3)\n",
        "F1_Score_l2=F1_Score"
      ],
      "execution_count": null,
      "outputs": []
    },
    {
      "cell_type": "code",
      "metadata": {
        "colab": {
          "base_uri": "https://localhost:8080/",
          "height": 268
        },
        "id": "5cPTFKN2iyBW",
        "outputId": "a04acd0f-c599-4a72-8309-8c811ee025e3"
      },
      "source": [
        "import seaborn as sns; sns.set()\n",
        "ax = sns.heatmap(cm,annot=True,fmt=\"d\",cmap=\"YlGnBu\")"
      ],
      "execution_count": null,
      "outputs": [
        {
          "output_type": "display_data",
          "data": {
            "image/png": "[encoded data removed]",
            "text/plain": [
              "<Figure size 432x288 with 2 Axes>"
            ]
          },
          "metadata": {}
        }
      ]
    },
    {
      "cell_type": "code",
      "metadata": {
        "colab": {
          "base_uri": "https://localhost:8080/"
        },
        "id": "4U061rEuiyEt",
        "outputId": "cb581757-5590-4c08-fe2c-28b00133387a"
      },
      "source": [
        "print(\"TPR: {}%\\nFPR: {}%\\nPrecision: {}%\\nRecall: {}%\\nF1 Score: {}% \".format(TPR,FPR,Precision,Recall,F1_Score))"
      ],
      "execution_count": null,
      "outputs": [
        {
          "output_type": "stream",
          "name": "stdout",
          "text": [
            "TPR: 84.77%\n",
            "FPR: nan%\n",
            "Precision: 100.0%\n",
            "Recall: 84.77%\n",
            "F1 Score: 91.757% \n"
          ]
        }
      ]
    },
    {
      "cell_type": "code",
      "metadata": {
        "id": "Eou-imCGiyIA"
      },
      "source": [
        "pre=[\"clean_categories_0\",\"clean_categories_1\",\"clean_sub_categories_0\",\"clean_sub_categories_1\",\"school_state_0\",\"school_state_1\",\"project_grade_0\",\"project_grade_1\",\\\n",
        "\"teacher_prefix_0\",\"teacher_prefix_1\"]\n",
        "bow_words_tr=vectorizer_essays_bow.get_feature_names()\n",
        "post=[\"TeacherPrevProjects\",\"quantity_standardized\",\"price_standardized\" ]\n",
        "final_features_bow=pre+bow_words_tr+post"
      ],
      "execution_count": null,
      "outputs": []
    },
    {
      "cell_type": "code",
      "metadata": {
        "colab": {
          "base_uri": "https://localhost:8080/"
        },
        "id": "UCJ0--p7iyK0",
        "outputId": "b4f405a6-2cc6-45d8-ca37-c8f086ede56e"
      },
      "source": [
        "len(final_features_bow)"
      ],
      "execution_count": null,
      "outputs": [
        {
          "output_type": "execute_result",
          "data": {
            "text/plain": [
              "12546"
            ]
          },
          "metadata": {},
          "execution_count": 123
        }
      ]
    },
    {
      "cell_type": "code",
      "metadata": {
        "id": "Aaj-FzjIiyP1"
      },
      "source": [
        "#Collecting False Negative rows indexs\n",
        "#https://stackoverflow.com/questions/43193880/how-to-get-row-number-in-dataframe-in-pandas\n",
        "test=[]\n",
        "FN=pd.DataFrame({\"Actual\":y_test, \"Predicted\":y_pred_test})\n",
        "FN_indexs=list(FN[(FN[\"Actual\"]==0) & (FN[\"Predicted\"]==1)].index)\n",
        "FN_2=FN[(FN[\"Actual\"]==0) & (FN[\"Predicted\"]==1)]"
      ],
      "execution_count": null,
      "outputs": []
    },
    {
      "cell_type": "code",
      "metadata": {
        "colab": {
          "base_uri": "https://localhost:8080/",
          "height": 254
        },
        "id": "Cw3Tsvl8iyV-",
        "outputId": "a9f1e43d-c8a3-404d-ecb5-079be8890f47"
      },
      "source": [
        "price=[]\n",
        "for i in FN_indexs:\n",
        "    price.append(X_test.loc[i]['price'])\n",
        "import seaborn as sns\n",
        "sns.set(style=\"whitegrid\")\n",
        "ax = sns.barplot(y=\"price\", hue=FN_2[\"Predicted\"], data=X_test)   "
      ],
      "execution_count": null,
      "outputs": [
        {
          "output_type": "display_data",
          "data": {
            "image/png": "[encoded data removed]",
            "text/plain": [
              "<Figure size 432x288 with 1 Axes>"
            ]
          },
          "metadata": {}
        }
      ]
    },
    {
      "cell_type": "code",
      "metadata": {
        "colab": {
          "base_uri": "https://localhost:8080/",
          "height": 254
        },
        "id": "v-Z5sAmXiybn",
        "outputId": "a9ab10c7-ebd0-4e48-bddc-4c5c5376a53c"
      },
      "source": [
        "ax = sns.barplot(y=\"price\", hue=FN_2[\"Actual\"], data=X_test)"
      ],
      "execution_count": null,
      "outputs": [
        {
          "output_type": "display_data",
          "data": {
            "image/png": "[encoded data removed]",
            "text/plain": [
              "<Figure size 432x288 with 1 Axes>"
            ]
          },
          "metadata": {}
        }
      ]
    },
    {
      "cell_type": "code",
      "metadata": {
        "id": "bPJsLaAeiydf"
      },
      "source": [
        "#Distribution plot of 'teacher_number_of_previously_posted_projects' in FN¶"
      ],
      "execution_count": null,
      "outputs": []
    },
    {
      "cell_type": "code",
      "metadata": {
        "colab": {
          "base_uri": "https://localhost:8080/",
          "height": 268
        },
        "id": "L_1oICUyiygo",
        "outputId": "e1436ec4-e36a-40cd-b317-a2303305ff48"
      },
      "source": [
        "teacher_number_of_previously_posted_projects=[]\n",
        "for i in FN_indexs:\n",
        "    teacher_number_of_previously_posted_projects.append(X_test.loc[i]['teacher_number_of_previously_posted_projects'])\n",
        "import seaborn as sns, numpy as np\n",
        "ax = sns.distplot(teacher_number_of_previously_posted_projects)  "
      ],
      "execution_count": null,
      "outputs": [
        {
          "output_type": "display_data",
          "data": {
            "image/png": "[encoded data removed]",
            "text/plain": [
              "<Figure size 432x288 with 1 Axes>"
            ]
          },
          "metadata": {}
        }
      ]
    },
    {
      "cell_type": "code",
      "metadata": {
        "colab": {
          "base_uri": "https://localhost:8080/"
        },
        "id": "pULQ662jnBOK",
        "outputId": "5866a298-9b15-4183-8d27-883a5e8195ed"
      },
      "source": [
        "#Applying Decision Trees on TFIDF, SET 2\n",
        "\n",
        "depth_alpha=[1, 5, 10, 50]\n",
        "min_sample_split_alpha=[5,10,100,500]\n",
        "aucTotal_cv=[]\n",
        "aucTotal_train=[]\n",
        "HayperParametesDictAUC_cv=dict()\n",
        "for i in min_sample_split_alpha:\n",
        "    for j in depth_alpha:\n",
        "        print(\"for min sample split =\", i,\"and max depth = \", j)\n",
        "        clf = DecisionTreeClassifier(min_samples_split=i ,criterion='gini', max_depth=j,class_weight = 'balanced', random_state=42)\n",
        "        clf.fit(X2_tr, y_tr)\n",
        "        sig_clf = CalibratedClassifierCV(clf, method=\"sigmoid\")\n",
        "        sig_clf.fit(X2_tr, y_tr)\n",
        "        # predict the response on the crossvalidation train\n",
        "        \n",
        "        probs_cv = sig_clf.predict_proba(X2_cv)\n",
        "    \n",
        "        # predict the response on the train\n",
        "        probs_train = sig_clf.predict_proba(X2_tr)\n",
        "        \n",
        "        # keep probabilities for the positive outcome only\n",
        "        probs_cv = probs_cv[:, 1]\n",
        "        probs_train = probs_train[:,1]\n",
        "        \n",
        "        # calculate AUC\n",
        "        auc_cv = roc_auc_score(y_cv, probs_cv)\n",
        "        auc_train = roc_auc_score(y_tr, probs_train)\n",
        "        # evaluate CV accuracy\n",
        "        probs_cv_acc=sig_clf.predict(X2_cv)\n",
        "        acc_cv = accuracy_score(y_cv, probs_cv_acc, normalize=True) * float(100)\n",
        "        print('\\nCV accuracy for alpha = %f is %d%% and auc= %.3f' % (i, acc_cv,auc_cv))\n",
        "        aucTotal_cv.append(auc_cv)\n",
        "        aucTotal_train.append(auc_train) \n",
        "        HayperParametesDictAUC_cv[\"{},{}\".format(i,j)]=auc_cv\n"
      ],
      "execution_count": null,
      "outputs": [
        {
          "output_type": "stream",
          "name": "stdout",
          "text": [
            "for min sample split = 5 and max depth =  1\n",
            "\n",
            "CV accuracy for alpha = 5.000000 is 84% and auc= 0.567\n",
            "for min sample split = 5 and max depth =  5\n",
            "\n",
            "CV accuracy for alpha = 5.000000 is 84% and auc= 0.650\n",
            "for min sample split = 5 and max depth =  10\n",
            "\n",
            "CV accuracy for alpha = 5.000000 is 84% and auc= 0.664\n",
            "for min sample split = 5 and max depth =  50\n",
            "\n",
            "CV accuracy for alpha = 5.000000 is 84% and auc= 0.624\n",
            "for min sample split = 10 and max depth =  1\n",
            "\n",
            "CV accuracy for alpha = 10.000000 is 84% and auc= 0.567\n",
            "for min sample split = 10 and max depth =  5\n",
            "\n",
            "CV accuracy for alpha = 10.000000 is 84% and auc= 0.650\n",
            "for min sample split = 10 and max depth =  10\n",
            "\n",
            "CV accuracy for alpha = 10.000000 is 84% and auc= 0.664\n",
            "for min sample split = 10 and max depth =  50\n",
            "\n",
            "CV accuracy for alpha = 10.000000 is 84% and auc= 0.622\n",
            "for min sample split = 100 and max depth =  1\n",
            "\n",
            "CV accuracy for alpha = 100.000000 is 84% and auc= 0.567\n",
            "for min sample split = 100 and max depth =  5\n",
            "\n",
            "CV accuracy for alpha = 100.000000 is 84% and auc= 0.650\n",
            "for min sample split = 100 and max depth =  10\n",
            "\n",
            "CV accuracy for alpha = 100.000000 is 84% and auc= 0.667\n",
            "for min sample split = 100 and max depth =  50\n",
            "\n",
            "CV accuracy for alpha = 100.000000 is 84% and auc= 0.635\n",
            "for min sample split = 500 and max depth =  1\n",
            "\n",
            "CV accuracy for alpha = 500.000000 is 84% and auc= 0.567\n",
            "for min sample split = 500 and max depth =  5\n",
            "\n",
            "CV accuracy for alpha = 500.000000 is 84% and auc= 0.650\n",
            "for min sample split = 500 and max depth =  10\n",
            "\n",
            "CV accuracy for alpha = 500.000000 is 84% and auc= 0.670\n",
            "for min sample split = 500 and max depth =  50\n",
            "\n",
            "CV accuracy for alpha = 500.000000 is 84% and auc= 0.663\n"
          ]
        }
      ]
    },
    {
      "cell_type": "code",
      "metadata": {
        "id": "Ucf132crnBc-"
      },
      "source": [
        "#https://stackoverflow.com/questions/268272/getting-key-with-maximum-value-in-dictionary\n",
        "import operator\n",
        "alpha=max(HayperParametesDictAUC_cv.items(), key=operator.itemgetter(1))[0]\n",
        "min_samples_split_cv,max_depth_cv = alpha.split(\",\")\n",
        "min_samples_split_cv=int(min_samples_split_cv)\n",
        "max_depth_cv = int(max_depth_cv)\n",
        "hp_tfidf=alpha"
      ],
      "execution_count": null,
      "outputs": []
    },
    {
      "cell_type": "code",
      "metadata": {
        "colab": {
          "base_uri": "https://localhost:8080/"
        },
        "id": "wTKNeJEHnBff",
        "outputId": "49dad86f-ac4b-4b56-b21b-b564e84f6933"
      },
      "source": [
        "clf_tfidf = DecisionTreeClassifier(min_samples_split=min_samples_split_cv ,criterion='gini',class_weight = 'balanced',max_depth=max_depth_cv, random_state=42)\n",
        "clf_tfidf.fit(X2_tr, y_tr)\n",
        "sig_clf = CalibratedClassifierCV(clf_tfidf, method=\"sigmoid\")\n",
        "sig_clf.fit(X2_tr, y_tr)\n",
        "##########################\n",
        "\n",
        "probs_test   =  sig_clf.predict_proba(X2_test)\n",
        "probs_train  = sig_clf.predict_proba(X2_tr)\n",
        "y_pred_test  = sig_clf.predict(X2_test)\n",
        "y_pred_train = sig_clf.predict(X2_tr)\n",
        "\n",
        "# keep probabilities for the positive outcome only\n",
        "probs_test = probs_test[:, 1]\n",
        "probs_train = probs_train[:,1]\n",
        "# calculate AUC\n",
        "auc = roc_auc_score(y_test, probs_test)\n",
        "\n",
        "\n",
        "\n",
        "\n",
        "\n",
        "auc_tfidf=auc\n",
        "print(\"Test AUC: \",auc)\n",
        "#y_pred_tr =  sig_clf.predict(X2_tr)\n",
        "auc = roc_auc_score(y_tr, probs_train)\n",
        "print(\"Train AUC: \",auc)"
      ],
      "execution_count": null,
      "outputs": [
        {
          "output_type": "stream",
          "name": "stdout",
          "text": [
            "Test AUC:  0.6760468255009896\n",
            "Train AUC:  0.7579153680524343\n"
          ]
        }
      ]
    },
    {
      "cell_type": "code",
      "metadata": {
        "colab": {
          "base_uri": "https://localhost:8080/",
          "height": 301
        },
        "id": "b70lH1SMnBiU",
        "outputId": "380cb81f-cf65-48ac-9dd7-fab8873912b0"
      },
      "source": [
        "import matplotlib.pyplot as plt\n",
        "probs_test = sig_clf.predict_proba(X2_test)[:,1]\n",
        "probs_train = sig_clf.predict_proba(X2_tr)[:,1]\n",
        "# calculate roc curve\n",
        "fpr, tpr, thresholds = roc_curve(y_test, probs_test)\n",
        "fpr2, tpr2, thresholds2 = roc_curve(y_tr, probs_train)\n",
        "# plot no skill\n",
        "plt.plot([0, 1], [0, 1], color='C0')\n",
        "# plot the roc curve for the model\n",
        "plt.plot(fpr, tpr, color='C1',label='cv')\n",
        "plt.plot(fpr2, tpr2, color='g',label='train')\n",
        "plt.legend()\n",
        "plt.xlabel('FPR')\n",
        "plt.ylabel('TPR')\n",
        "plt.title(\"ERROR PLOT\")\n",
        "# show the plot\n",
        "plt.show()"
      ],
      "execution_count": null,
      "outputs": [
        {
          "output_type": "display_data",
          "data": {
            "image/png": "[encoded data removed]",
            "text/plain": [
              "<Figure size 432x288 with 1 Axes>"
            ]
          },
          "metadata": {}
        }
      ]
    },
    {
      "cell_type": "code",
      "metadata": {
        "id": "v0XWI_BCnBle"
      },
      "source": [
        "from sklearn.metrics import confusion_matrix\n",
        "cm=confusion_matrix(y_test, y_pred_test)\n",
        "TPR=np.round(cm[1][1]/(cm[0][1]+cm[1][1])*100,2)\n",
        "FPR=np.round(cm[0][0]/(cm[0][0]+cm[1][0])*100,2)\n",
        "Precision= np.round(cm[1][1]/(cm[1][0]+cm[1][1])*100,2)\n",
        "Recall = TPR\n",
        "F1_Score= np.round((2*Precision*Recall)/(Recall+Precision),3)\n",
        "F1_Score_l2=F1_Score"
      ],
      "execution_count": null,
      "outputs": []
    },
    {
      "cell_type": "code",
      "metadata": {
        "colab": {
          "base_uri": "https://localhost:8080/",
          "height": 355
        },
        "id": "LbbYD8cLnBoG",
        "outputId": "05e0d267-4470-4ff0-e7e1-49251f700831"
      },
      "source": [
        "import seaborn as sns; sns.set()\n",
        "ax = sns.heatmap(cm,annot=True,fmt=\"d\",cmap=\"YlGnBu\")\n",
        "\n",
        "print(\"TPR: {}%\\nFPR: {}%\\nPrecision: {}%\\nRecall: {}%\\nF1 Score: {}% \".format(TPR,FPR,Precision,Recall,F1_Score))"
      ],
      "execution_count": null,
      "outputs": [
        {
          "output_type": "stream",
          "name": "stdout",
          "text": [
            "TPR: 84.77%\n",
            "FPR: nan%\n",
            "Precision: 100.0%\n",
            "Recall: 84.77%\n",
            "F1 Score: 91.757% \n"
          ]
        },
        {
          "output_type": "display_data",
          "data": {
            "image/png": "[encoded data removed]",
            "text/plain": [
              "<Figure size 432x288 with 2 Axes>"
            ]
          },
          "metadata": {}
        }
      ]
    },
    {
      "cell_type": "code",
      "metadata": {
        "id": "eXtdN7OfnBrJ"
      },
      "source": [
        "pre=[\"clean_categories_0\",\"clean_categories_1\",\"clean_sub_categories_0\",\"clean_sub_categories_1\",\"school_state_0\",\"school_state_1\",\"project_grade_0\",\"project_grade_1\",\\\n",
        "\"teacher_prefix_0\",\"teacher_prefix_1\"]\n",
        "tfidf_words_tr=vectorizer_essays_tfidf.get_feature_names()\n",
        "post=[\"TeacherPrevProjects\",\"quantity_standardized\",\"price_standardized\" ]\n",
        "final_features_tfidf=pre+tfidf_words_tr+post"
      ],
      "execution_count": null,
      "outputs": []
    },
    {
      "cell_type": "code",
      "metadata": {
        "colab": {
          "base_uri": "https://localhost:8080/"
        },
        "id": "2N44cTx-nBtu",
        "outputId": "08f3475d-c3e5-4b7b-b58f-8635646aac65"
      },
      "source": [
        "len(final_features_tfidf)"
      ],
      "execution_count": null,
      "outputs": [
        {
          "output_type": "execute_result",
          "data": {
            "text/plain": [
              "12546"
            ]
          },
          "metadata": {},
          "execution_count": 145
        }
      ]
    },
    {
      "cell_type": "code",
      "metadata": {
        "id": "0Al-mSYbnBwy"
      },
      "source": [
        "#https://stackoverflow.com/questions/43193880/how-to-get-row-number-in-dataframe-in-pandas\n",
        "test=[]\n",
        "FN=pd.DataFrame({\"Actual\":y_test, \"Predicted\":y_pred_test})\n",
        "FN_indexs=list(FN[(FN[\"Actual\"]==0) & (FN[\"Predicted\"]==1)].index)\n",
        "FN_2=FN[(FN[\"Actual\"]==0) & (FN[\"Predicted\"]==1)]"
      ],
      "execution_count": null,
      "outputs": []
    },
    {
      "cell_type": "code",
      "metadata": {
        "colab": {
          "base_uri": "https://localhost:8080/",
          "height": 254
        },
        "id": "f-VjoGHSnBzl",
        "outputId": "40700192-0c80-4703-8d01-59fff123842d"
      },
      "source": [
        "price=[]\n",
        "for i in FN_indexs:\n",
        "    price.append(X_test.loc[i]['price'])\n",
        "import seaborn as sns\n",
        "sns.set(style=\"whitegrid\")\n",
        "ax = sns.barplot(y=\"price\", hue=FN_2[\"Predicted\"], data=X_test)  "
      ],
      "execution_count": null,
      "outputs": [
        {
          "output_type": "display_data",
          "data": {
            "image/png": "[encoded data removed]",
            "text/plain": [
              "<Figure size 432x288 with 1 Axes>"
            ]
          },
          "metadata": {}
        }
      ]
    },
    {
      "cell_type": "code",
      "metadata": {
        "colab": {
          "base_uri": "https://localhost:8080/",
          "height": 254
        },
        "id": "OROozTUvnB2h",
        "outputId": "b006d17a-573b-4dc8-fdab-1cb71a3c6686"
      },
      "source": [
        "ax = sns.barplot(y=\"price\", hue=FN_2[\"Actual\"], data=X_test)"
      ],
      "execution_count": null,
      "outputs": [
        {
          "output_type": "display_data",
          "data": {
            "image/png": "[encoded data removed]",
            "text/plain": [
              "<Figure size 432x288 with 1 Axes>"
            ]
          },
          "metadata": {}
        }
      ]
    },
    {
      "cell_type": "code",
      "metadata": {
        "id": "p8dPcpUYnB5T"
      },
      "source": [
        "#Distribution plot of 'teacher_number_of_previously_posted_projects' in FN"
      ],
      "execution_count": null,
      "outputs": []
    },
    {
      "cell_type": "code",
      "metadata": {
        "colab": {
          "base_uri": "https://localhost:8080/",
          "height": 268
        },
        "id": "qV0_7AxynB7w",
        "outputId": "46a33b9a-08f1-446c-c199-478a23078e3a"
      },
      "source": [
        "teacher_number_of_previously_posted_projects=[]\n",
        "for i in FN_indexs:\n",
        "    teacher_number_of_previously_posted_projects.append(X_test.loc[i]['teacher_number_of_previously_posted_projects'])\n",
        "import seaborn as sns, numpy as np\n",
        "ax = sns.distplot(teacher_number_of_previously_posted_projects)  "
      ],
      "execution_count": null,
      "outputs": [
        {
          "output_type": "display_data",
          "data": {
            "image/png": "[encoded data removed]",
            "text/plain": [
              "<Figure size 432x288 with 1 Axes>"
            ]
          },
          "metadata": {}
        }
      ]
    },
    {
      "cell_type": "code",
      "metadata": {
        "id": "TVGAUfTGnB-q"
      },
      "source": [
        "#Applying Decision Trees on AVG W2V, SET 3"
      ],
      "execution_count": null,
      "outputs": []
    },
    {
      "cell_type": "code",
      "metadata": {
        "colab": {
          "base_uri": "https://localhost:8080/"
        },
        "id": "YeM8APSgnCBZ",
        "outputId": "caa7b780-db18-4964-d6cd-b30040c209e2"
      },
      "source": [
        "depth_alpha=[1, 5, 10, 50]\n",
        "min_sample_split_alpha=[5,10,100,500]\n",
        "aucTotal_cv=[]\n",
        "aucTotal_train=[]\n",
        "HayperParametesDictAUC_cv=dict()\n",
        "for i in min_sample_split_alpha:\n",
        "    for j in depth_alpha:\n",
        "        print(\"for min sample split =\", i,\"and max depth = \", j)\n",
        "        clf = DecisionTreeClassifier(min_samples_split=i ,criterion='gini', max_depth=j, class_weight = 'balanced',random_state=42)\n",
        "        clf.fit(X3_tr, y_tr)\n",
        "        sig_clf = CalibratedClassifierCV(clf, method=\"sigmoid\")\n",
        "        sig_clf.fit(X3_tr, y_tr)\n",
        "        # predict the response on the crossvalidation train\n",
        "        \n",
        "        probs_cv = sig_clf.predict_proba(X3_cv)\n",
        "    \n",
        "        # predict the response on the train\n",
        "        probs_train = sig_clf.predict_proba(X3_tr)\n",
        "        \n",
        "        # keep probabilities for the positive outcome only\n",
        "        probs_cv = probs_cv[:, 1]\n",
        "        probs_train = probs_train[:,1]\n",
        "        \n",
        "        # calculate AUC\n",
        "        auc_cv = roc_auc_score(y_cv, probs_cv)\n",
        "        auc_train = roc_auc_score(y_tr, probs_train)\n",
        "        # evaluate CV accuracy\n",
        "        probs_cv_acc=sig_clf.predict(X3_cv)\n",
        "        acc_cv = accuracy_score(y_cv, probs_cv_acc, normalize=True) * float(100)\n",
        "        print('\\nCV accuracy for alpha = %f is %d%% and auc= %.3f' % (i, acc_cv,auc_cv))\n",
        "        aucTotal_cv.append(auc_cv)\n",
        "        aucTotal_train.append(auc_train) \n",
        "        HayperParametesDictAUC_cv[\"{},{}\".format(i,j)]=auc_cv"
      ],
      "execution_count": null,
      "outputs": [
        {
          "output_type": "stream",
          "name": "stdout",
          "text": [
            "for min sample split = 5 and max depth =  1\n",
            "\n",
            "CV accuracy for alpha = 5.000000 is 84% and auc= 0.567\n",
            "for min sample split = 5 and max depth =  5\n",
            "\n",
            "CV accuracy for alpha = 5.000000 is 84% and auc= 0.656\n",
            "for min sample split = 5 and max depth =  10\n",
            "\n",
            "CV accuracy for alpha = 5.000000 is 84% and auc= 0.653\n",
            "for min sample split = 5 and max depth =  50\n",
            "\n",
            "CV accuracy for alpha = 5.000000 is 84% and auc= 0.585\n",
            "for min sample split = 10 and max depth =  1\n",
            "\n",
            "CV accuracy for alpha = 10.000000 is 84% and auc= 0.567\n",
            "for min sample split = 10 and max depth =  5\n",
            "\n",
            "CV accuracy for alpha = 10.000000 is 84% and auc= 0.656\n",
            "for min sample split = 10 and max depth =  10\n",
            "\n",
            "CV accuracy for alpha = 10.000000 is 84% and auc= 0.654\n",
            "for min sample split = 10 and max depth =  50\n",
            "\n",
            "CV accuracy for alpha = 10.000000 is 84% and auc= 0.585\n",
            "for min sample split = 100 and max depth =  1\n",
            "\n",
            "CV accuracy for alpha = 100.000000 is 84% and auc= 0.567\n",
            "for min sample split = 100 and max depth =  5\n",
            "\n",
            "CV accuracy for alpha = 100.000000 is 84% and auc= 0.656\n",
            "for min sample split = 100 and max depth =  10\n",
            "\n",
            "CV accuracy for alpha = 100.000000 is 84% and auc= 0.654\n",
            "for min sample split = 100 and max depth =  50\n",
            "\n",
            "CV accuracy for alpha = 100.000000 is 84% and auc= 0.620\n",
            "for min sample split = 500 and max depth =  1\n",
            "\n",
            "CV accuracy for alpha = 500.000000 is 84% and auc= 0.567\n",
            "for min sample split = 500 and max depth =  5\n",
            "\n",
            "CV accuracy for alpha = 500.000000 is 84% and auc= 0.656\n",
            "for min sample split = 500 and max depth =  10\n",
            "\n",
            "CV accuracy for alpha = 500.000000 is 84% and auc= 0.664\n",
            "for min sample split = 500 and max depth =  50\n",
            "\n",
            "CV accuracy for alpha = 500.000000 is 84% and auc= 0.662\n"
          ]
        }
      ]
    },
    {
      "cell_type": "code",
      "metadata": {
        "id": "UbG_3OwIvH5v"
      },
      "source": [
        "#https://stackoverflow.com/questions/268272/getting-key-with-maximum-value-in-dictionary\n",
        "import operator\n",
        "alpha=max(HayperParametesDictAUC_cv.items(), key=operator.itemgetter(1))[0]\n",
        "min_samples_split_cv,max_depth_cv = alpha.split(\",\")\n",
        "min_samples_split_cv=int(min_samples_split_cv)\n",
        "max_depth_cv = int(max_depth_cv)\n",
        "hp_w2vec = alpha"
      ],
      "execution_count": null,
      "outputs": []
    },
    {
      "cell_type": "code",
      "metadata": {
        "colab": {
          "base_uri": "https://localhost:8080/"
        },
        "id": "pUCns8lIvH9S",
        "outputId": "88db3d83-5d1a-4ef5-ebcc-9434e5e4ddf7"
      },
      "source": [
        "clf_tfidf = DecisionTreeClassifier(min_samples_split=min_samples_split_cv ,criterion='gini',class_weight = 'balanced',max_depth=max_depth_cv, random_state=42)\n",
        "clf_tfidf.fit(X3_tr, y_tr)\n",
        "sig_clf = CalibratedClassifierCV(clf_tfidf, method=\"sigmoid\")\n",
        "sig_clf.fit(X3_tr, y_tr)\n",
        "##########################\n",
        "\n",
        "probs_test   =  sig_clf.predict_proba(X3_test)\n",
        "probs_train  = sig_clf.predict_proba(X3_tr)\n",
        "y_pred_test  = sig_clf.predict(X3_test)\n",
        "y_pred_train = sig_clf.predict(X3_tr)\n",
        "\n",
        "# keep probabilities for the positive outcome only\n",
        "probs_test = probs_test[:, 1]\n",
        "probs_train = probs_train[:,1]\n",
        "# calculate AUC\n",
        "auc = roc_auc_score(y_test, probs_test)\n",
        "\n",
        "auc_w2vec=auc\n",
        "print(\"Test AUC: \",auc)\n",
        "#y_pred_tr =  sig_clf.predict(X2_tr)\n",
        "auc = roc_auc_score(y_tr, probs_train)\n",
        "print(\"Train AUC: \",auc)"
      ],
      "execution_count": null,
      "outputs": [
        {
          "output_type": "stream",
          "name": "stdout",
          "text": [
            "Test AUC:  0.6736954881315882\n",
            "Train AUC:  0.7980438727291415\n"
          ]
        }
      ]
    },
    {
      "cell_type": "code",
      "metadata": {
        "colab": {
          "base_uri": "https://localhost:8080/",
          "height": 301
        },
        "id": "iQL2jxO2vIBA",
        "outputId": "b9ca787f-2375-48a9-d188-b1cbf6cd064a"
      },
      "source": [
        "import matplotlib.pyplot as plt\n",
        "probs_test = sig_clf.predict_proba(X3_test)[:,1]\n",
        "probs_train = sig_clf.predict_proba(X3_tr)[:,1]\n",
        "# calculate roc curve\n",
        "fpr, tpr, thresholds = roc_curve(y_test, probs_test)\n",
        "fpr2, tpr2, thresholds2 = roc_curve(y_tr, probs_train)\n",
        "# plot no skill\n",
        "plt.plot([0, 1], [0, 1], color='C0')\n",
        "# plot the roc curve for the model\n",
        "plt.plot(fpr, tpr, color='C1',label='cv')\n",
        "plt.plot(fpr2, tpr2, color='g',label='train')\n",
        "plt.legend()\n",
        "plt.xlabel('FPR')\n",
        "plt.ylabel('TPR')\n",
        "plt.title(\"ERROR PLOT\")\n",
        "# show the plot\n",
        "plt.show()"
      ],
      "execution_count": null,
      "outputs": [
        {
          "output_type": "display_data",
          "data": {
            "image/png": "[encoded data removed]",
            "text/plain": [
              "<Figure size 432x288 with 1 Axes>"
            ]
          },
          "metadata": {}
        }
      ]
    },
    {
      "cell_type": "code",
      "metadata": {
        "colab": {
          "base_uri": "https://localhost:8080/",
          "height": 355
        },
        "id": "LI96785CvIEa",
        "outputId": "90df9d66-5874-4496-914e-4d78b40098ee"
      },
      "source": [
        "from sklearn.metrics import confusion_matrix\n",
        "cm=confusion_matrix(y_test, y_pred_test)\n",
        "TPR=np.round(cm[1][1]/(cm[0][1]+cm[1][1])*100,2)\n",
        "FPR=np.round(cm[0][0]/(cm[0][0]+cm[1][0])*100,2)\n",
        "Precision= np.round(cm[1][1]/(cm[1][0]+cm[1][1])*100,2)\n",
        "Recall = TPR\n",
        "F1_Score= np.round((2*Precision*Recall)/(Recall+Precision),3)\n",
        "F1_Score_l2=F1_Score\n",
        "\n",
        "\n",
        "import seaborn as sns; sns.set()\n",
        "ax = sns.heatmap(cm,annot=True,fmt=\"d\",cmap=\"YlGnBu\")\n",
        "\n",
        "print(\"TPR: {}%\\nFPR: {}%\\nPrecision: {}%\\nRecall: {}%\\nF1 Score: {}% \".format(TPR,FPR,Precision,Recall,F1_Score))"
      ],
      "execution_count": null,
      "outputs": [
        {
          "output_type": "stream",
          "name": "stdout",
          "text": [
            "TPR: 84.77%\n",
            "FPR: nan%\n",
            "Precision: 100.0%\n",
            "Recall: 84.77%\n",
            "F1 Score: 91.757% \n"
          ]
        },
        {
          "output_type": "display_data",
          "data": {
            "image/png": "[encoded data removed]",
            "text/plain": [
              "<Figure size 432x288 with 2 Axes>"
            ]
          },
          "metadata": {}
        }
      ]
    },
    {
      "cell_type": "code",
      "metadata": {
        "id": "ZRnVcO_6vJNZ"
      },
      "source": [
        "#https://stackoverflow.com/questions/43193880/how-to-get-row-number-in-dataframe-in-pandas\n",
        "test=[]\n",
        "FN=pd.DataFrame({\"Actual\":y_test, \"Predicted\":y_pred_test})\n",
        "FN_indexs=list(FN[(FN[\"Actual\"]==0) & (FN[\"Predicted\"]==1)].index)\n",
        "FN_2=FN[(FN[\"Actual\"]==0) & (FN[\"Predicted\"]==1)]"
      ],
      "execution_count": null,
      "outputs": []
    },
    {
      "cell_type": "code",
      "metadata": {
        "colab": {
          "base_uri": "https://localhost:8080/",
          "height": 254
        },
        "id": "gBnOvZ9MvJRG",
        "outputId": "6bce4732-06fd-47f6-edd0-42d9c1825f2d"
      },
      "source": [
        "price=[]\n",
        "for i in FN_indexs:\n",
        "    price.append(X_test.loc[i]['price'])\n",
        "import seaborn as sns\n",
        "sns.set(style=\"whitegrid\")\n",
        "ax = sns.barplot(y=\"price\", hue=FN_2[\"Predicted\"], data=X_test) "
      ],
      "execution_count": null,
      "outputs": [
        {
          "output_type": "display_data",
          "data": {
            "image/png": "[encoded data removed]",
            "text/plain": [
              "<Figure size 432x288 with 1 Axes>"
            ]
          },
          "metadata": {}
        }
      ]
    },
    {
      "cell_type": "code",
      "metadata": {
        "colab": {
          "base_uri": "https://localhost:8080/",
          "height": 254
        },
        "id": "WCFnYYFvvJUQ",
        "outputId": "3afcdc29-e2f1-4192-ab4d-5a86ea20a05d"
      },
      "source": [
        "ax = sns.barplot(y=\"price\", hue=FN_2[\"Actual\"], data=X_test)"
      ],
      "execution_count": null,
      "outputs": [
        {
          "output_type": "display_data",
          "data": {
            "image/png": "[encoded data removed]",
            "text/plain": [
              "<Figure size 432x288 with 1 Axes>"
            ]
          },
          "metadata": {}
        }
      ]
    },
    {
      "cell_type": "code",
      "metadata": {
        "colab": {
          "base_uri": "https://localhost:8080/",
          "height": 268
        },
        "id": "-QKp8UvgvJXS",
        "outputId": "fbba8d9c-11eb-4780-c926-18ab9fec9363"
      },
      "source": [
        "teacher_number_of_previously_posted_projects=[]\n",
        "for i in FN_indexs:\n",
        "    teacher_number_of_previously_posted_projects.append(X_test.loc[i]['teacher_number_of_previously_posted_projects'])\n",
        "import seaborn as sns, numpy as np\n",
        "ax = sns.distplot(teacher_number_of_previously_posted_projects) "
      ],
      "execution_count": null,
      "outputs": [
        {
          "output_type": "display_data",
          "data": {
            "image/png": "[encoded data removed]",
            "text/plain": [
              "<Figure size 432x288 with 1 Axes>"
            ]
          },
          "metadata": {}
        }
      ]
    },
    {
      "cell_type": "code",
      "metadata": {
        "id": "fpbmqJNpvIHF"
      },
      "source": [
        "#Applying Decision Trees on TFIDF W2V, SET 4"
      ],
      "execution_count": null,
      "outputs": []
    },
    {
      "cell_type": "code",
      "metadata": {
        "colab": {
          "base_uri": "https://localhost:8080/"
        },
        "id": "yyYUrLnJnCEH",
        "outputId": "4032e869-b962-4a05-eea3-a23e864aa3d5"
      },
      "source": [
        "depth_alpha=[1, 5, 10, 50]\n",
        "min_sample_split_alpha=[5,10,100,500]\n",
        "aucTotal_cv=[]\n",
        "aucTotal_train=[]\n",
        "HayperParametesDictAUC_cv=dict()\n",
        "for i in min_sample_split_alpha:\n",
        "    for j in depth_alpha:\n",
        "        print(\"for min sample split =\", i,\"and max depth = \", j)\n",
        "        clf = DecisionTreeClassifier(min_samples_split=i ,criterion='gini', max_depth=j, class_weight = 'balanced',random_state=42)\n",
        "        clf.fit(X4_tr, y_tr)\n",
        "        sig_clf = CalibratedClassifierCV(clf, method=\"sigmoid\")\n",
        "        sig_clf.fit(X4_tr, y_tr)\n",
        "        # predict the response on the crossvalidation train\n",
        "        \n",
        "        probs_cv = sig_clf.predict_proba(X4_cv)\n",
        "    \n",
        "        # predict the response on the train\n",
        "        probs_train = sig_clf.predict_proba(X4_tr)\n",
        "        \n",
        "        # keep probabilities for the positive outcome only\n",
        "        probs_cv = probs_cv[:, 1]\n",
        "        probs_train = probs_train[:,1]\n",
        "        \n",
        "        # calculate AUC\n",
        "        auc_cv = roc_auc_score(y_cv, probs_cv)\n",
        "        auc_train = roc_auc_score(y_tr, probs_train)\n",
        "        # evaluate CV accuracy\n",
        "        probs_cv_acc=sig_clf.predict(X4_cv)\n",
        "        acc_cv = accuracy_score(y_cv, probs_cv_acc, normalize=True) * float(100)\n",
        "        print('\\nCV accuracy for alpha = %f is %d%% and auc= %.3f' % (i, acc_cv,auc_cv))\n",
        "        aucTotal_cv.append(auc_cv)\n",
        "        aucTotal_train.append(auc_train) \n",
        "        HayperParametesDictAUC_cv[\"{},{}\".format(i,j)]=auc_cv"
      ],
      "execution_count": null,
      "outputs": [
        {
          "output_type": "stream",
          "name": "stdout",
          "text": [
            "for min sample split = 5 and max depth =  1\n",
            "\n",
            "CV accuracy for alpha = 5.000000 is 84% and auc= 0.567\n",
            "for min sample split = 5 and max depth =  5\n",
            "\n",
            "CV accuracy for alpha = 5.000000 is 84% and auc= 0.648\n",
            "for min sample split = 5 and max depth =  10\n",
            "\n",
            "CV accuracy for alpha = 5.000000 is 84% and auc= 0.650\n",
            "for min sample split = 5 and max depth =  50\n",
            "\n",
            "CV accuracy for alpha = 5.000000 is 84% and auc= 0.585\n",
            "for min sample split = 10 and max depth =  1\n",
            "\n",
            "CV accuracy for alpha = 10.000000 is 84% and auc= 0.567\n",
            "for min sample split = 10 and max depth =  5\n",
            "\n",
            "CV accuracy for alpha = 10.000000 is 84% and auc= 0.648\n",
            "for min sample split = 10 and max depth =  10\n",
            "\n",
            "CV accuracy for alpha = 10.000000 is 84% and auc= 0.650\n",
            "for min sample split = 10 and max depth =  50\n",
            "\n",
            "CV accuracy for alpha = 10.000000 is 84% and auc= 0.589\n",
            "for min sample split = 100 and max depth =  1\n",
            "\n",
            "CV accuracy for alpha = 100.000000 is 84% and auc= 0.567\n",
            "for min sample split = 100 and max depth =  5\n",
            "\n",
            "CV accuracy for alpha = 100.000000 is 84% and auc= 0.649\n",
            "for min sample split = 100 and max depth =  10\n",
            "\n",
            "CV accuracy for alpha = 100.000000 is 84% and auc= 0.656\n",
            "for min sample split = 100 and max depth =  50\n",
            "\n",
            "CV accuracy for alpha = 100.000000 is 84% and auc= 0.635\n",
            "for min sample split = 500 and max depth =  1\n",
            "\n",
            "CV accuracy for alpha = 500.000000 is 84% and auc= 0.567\n",
            "for min sample split = 500 and max depth =  5\n",
            "\n",
            "CV accuracy for alpha = 500.000000 is 84% and auc= 0.649\n",
            "for min sample split = 500 and max depth =  10\n",
            "\n",
            "CV accuracy for alpha = 500.000000 is 84% and auc= 0.660\n",
            "for min sample split = 500 and max depth =  50\n",
            "\n",
            "CV accuracy for alpha = 500.000000 is 84% and auc= 0.660\n"
          ]
        }
      ]
    },
    {
      "cell_type": "code",
      "metadata": {
        "id": "z_O-Qve41q5R"
      },
      "source": [
        "#https://stackoverflow.com/questions/268272/getting-key-with-maximum-value-in-dictionary\n",
        "import operator\n",
        "alpha=max(HayperParametesDictAUC_cv.items(), key=operator.itemgetter(1))[0]\n",
        "min_samples_split_cv,max_depth_cv = alpha.split(\",\")\n",
        "min_samples_split_cv=int(min_samples_split_cv)\n",
        "max_depth_cv = int(max_depth_cv)\n",
        "hp_tfidf_w2vec = alpha"
      ],
      "execution_count": null,
      "outputs": []
    },
    {
      "cell_type": "code",
      "metadata": {
        "colab": {
          "base_uri": "https://localhost:8080/"
        },
        "id": "gOm6CTuW1q8d",
        "outputId": "ab560787-306e-4aa5-d3ca-57e3df800a46"
      },
      "source": [
        "clf_tfidf = DecisionTreeClassifier(min_samples_split=min_samples_split_cv ,criterion='gini',class_weight = 'balanced',max_depth=max_depth_cv, random_state=42)\n",
        "clf_tfidf.fit(X4_tr, y_tr)\n",
        "sig_clf = CalibratedClassifierCV(clf_tfidf, method=\"sigmoid\")\n",
        "sig_clf.fit(X4_tr, y_tr)\n",
        "##########################\n",
        "\n",
        "probs_test   =  sig_clf.predict_proba(X4_test)\n",
        "probs_train  = sig_clf.predict_proba(X4_tr)\n",
        "y_pred_test  = sig_clf.predict(X4_test)\n",
        "y_pred_train = sig_clf.predict(X4_tr)\n",
        "\n",
        "# keep probabilities for the positive outcome only\n",
        "probs_test = probs_test[:, 1]\n",
        "probs_train = probs_train[:,1]\n",
        "# calculate AUC\n",
        "auc = roc_auc_score(y_test, probs_test)\n",
        "\n",
        "\n",
        "\n",
        "\n",
        "\n",
        "auc_tfidf_w2vec=auc\n",
        "print(\"Test AUC: \",auc)\n",
        "#y_pred_tr =  sig_clf.predict(X2_tr)\n",
        "auc = roc_auc_score(y_tr, probs_train)\n",
        "print(\"Train AUC: \",auc)"
      ],
      "execution_count": null,
      "outputs": [
        {
          "output_type": "stream",
          "name": "stdout",
          "text": [
            "Test AUC:  0.6701844608223595\n",
            "Train AUC:  0.7964745043730603\n"
          ]
        }
      ]
    },
    {
      "cell_type": "code",
      "metadata": {
        "colab": {
          "base_uri": "https://localhost:8080/",
          "height": 301
        },
        "id": "M7G03-Rp1q_o",
        "outputId": "5133d045-e4ab-423b-e0f5-0c70d66c74db"
      },
      "source": [
        "import matplotlib.pyplot as plt\n",
        "probs_test = sig_clf.predict_proba(X4_test)[:,1]\n",
        "probs_train = sig_clf.predict_proba(X4_tr)[:,1]\n",
        "# calculate roc curve\n",
        "fpr, tpr, thresholds = roc_curve(y_test, probs_test)\n",
        "fpr2, tpr2, thresholds2 = roc_curve(y_tr, probs_train)\n",
        "# plot no skill\n",
        "plt.plot([0, 1], [0, 1], color='C0')\n",
        "# plot the roc curve for the model\n",
        "plt.plot(fpr, tpr, color='C1',label='cv')\n",
        "plt.plot(fpr2, tpr2, color='g',label='train')\n",
        "plt.legend()\n",
        "plt.xlabel('FPR')\n",
        "plt.ylabel('TPR')\n",
        "plt.title(\"ERROR PLOT\")\n",
        "# show the plot\n",
        "plt.show()"
      ],
      "execution_count": null,
      "outputs": [
        {
          "output_type": "display_data",
          "data": {
            "image/png": "[encoded data removed]",
            "text/plain": [
              "<Figure size 432x288 with 1 Axes>"
            ]
          },
          "metadata": {}
        }
      ]
    },
    {
      "cell_type": "code",
      "metadata": {
        "id": "jqadWQf41rDB"
      },
      "source": [
        "from sklearn.metrics import confusion_matrix\n",
        "cm=confusion_matrix(y_test, y_pred_test)\n",
        "TPR=np.round(cm[1][1]/(cm[0][1]+cm[1][1])*100,2)\n",
        "FPR=np.round(cm[0][0]/(cm[0][0]+cm[1][0])*100,2)\n",
        "Precision= np.round(cm[1][1]/(cm[1][0]+cm[1][1])*100,2)\n",
        "Recall = TPR\n",
        "F1_Score= np.round((2*Precision*Recall)/(Recall+Precision),3)\n",
        "F1_Score_l2=F1_Score"
      ],
      "execution_count": null,
      "outputs": []
    },
    {
      "cell_type": "code",
      "metadata": {
        "colab": {
          "base_uri": "https://localhost:8080/",
          "height": 355
        },
        "id": "PGqaqHKC1req",
        "outputId": "abb46ee5-826c-4b3e-abfc-26235eefacfe"
      },
      "source": [
        "import seaborn as sns; sns.set()\n",
        "ax = sns.heatmap(cm,annot=True,fmt=\"d\",cmap=\"YlGnBu\")\n",
        "\n",
        "print(\"TPR: {}%\\nFPR: {}%\\nPrecision: {}%\\nRecall: {}%\\nF1 Score: {}% \".format(TPR,FPR,Precision,Recall,F1_Score))"
      ],
      "execution_count": null,
      "outputs": [
        {
          "output_type": "stream",
          "name": "stdout",
          "text": [
            "TPR: 84.77%\n",
            "FPR: nan%\n",
            "Precision: 100.0%\n",
            "Recall: 84.77%\n",
            "F1 Score: 91.757% \n"
          ]
        },
        {
          "output_type": "display_data",
          "data": {
            "image/png": "[encoded data removed]",
            "text/plain": [
              "<Figure size 432x288 with 2 Axes>"
            ]
          },
          "metadata": {}
        }
      ]
    },
    {
      "cell_type": "code",
      "metadata": {
        "id": "BvpjxUSK1rho"
      },
      "source": [
        "#https://stackoverflow.com/questions/43193880/how-to-get-row-number-in-dataframe-in-pandas\n",
        "test=[]\n",
        "FN=pd.DataFrame({\"Actual\":y_test, \"Predicted\":y_pred_test})\n",
        "FN_indexs=list(FN[(FN[\"Actual\"]==0) & (FN[\"Predicted\"]==1)].index)\n",
        "FN_2=FN[(FN[\"Actual\"]==0) & (FN[\"Predicted\"]==1)]"
      ],
      "execution_count": null,
      "outputs": []
    },
    {
      "cell_type": "code",
      "metadata": {
        "colab": {
          "base_uri": "https://localhost:8080/",
          "height": 254
        },
        "id": "t01CCAp91rnu",
        "outputId": "e520e4fc-4dfc-4f59-b387-83fe7b36d206"
      },
      "source": [
        "price=[]\n",
        "for i in FN_indexs:\n",
        "    price.append(X_test.loc[i]['price'])\n",
        "import seaborn as sns\n",
        "sns.set(style=\"whitegrid\")\n",
        "ax = sns.barplot(y=\"price\", hue=FN_2[\"Predicted\"], data=X_test)  "
      ],
      "execution_count": null,
      "outputs": [
        {
          "output_type": "display_data",
          "data": {
            "image/png": "[encoded data removed]",
            "text/plain": [
              "<Figure size 432x288 with 1 Axes>"
            ]
          },
          "metadata": {}
        }
      ]
    },
    {
      "cell_type": "code",
      "metadata": {
        "colab": {
          "base_uri": "https://localhost:8080/",
          "height": 254
        },
        "id": "2LsWyoDw7p2n",
        "outputId": "57b8e60f-661c-4b54-e450-a58b8f0f6e5f"
      },
      "source": [
        "ax = sns.barplot(y=\"price\", hue=FN_2[\"Actual\"], data=X_test)"
      ],
      "execution_count": null,
      "outputs": [
        {
          "output_type": "display_data",
          "data": {
            "image/png": "[encoded data removed]",
            "text/plain": [
              "<Figure size 432x288 with 1 Axes>"
            ]
          },
          "metadata": {}
        }
      ]
    },
    {
      "cell_type": "code",
      "metadata": {
        "colab": {
          "base_uri": "https://localhost:8080/",
          "height": 268
        },
        "id": "nv_eKTtE7p55",
        "outputId": "24fd1077-f58f-47cb-93d0-e88df0cc611d"
      },
      "source": [
        "teacher_number_of_previously_posted_projects=[]\n",
        "for i in FN_indexs:\n",
        "    teacher_number_of_previously_posted_projects.append(X_test.loc[i]['teacher_number_of_previously_posted_projects'])\n",
        "import seaborn as sns, numpy as np\n",
        "ax = sns.distplot(teacher_number_of_previously_posted_projects) "
      ],
      "execution_count": null,
      "outputs": [
        {
          "output_type": "display_data",
          "data": {
            "image/png": "[encoded data removed]",
            "text/plain": [
              "<Figure size 432x288 with 1 Axes>"
            ]
          },
          "metadata": {}
        }
      ]
    },
    {
      "cell_type": "code",
      "metadata": {
        "id": "aZ5NxqtZ79Te"
      },
      "source": [
        "top_5000_features=np.argsort(clf_tfidf.feature_importances_)\n",
        "top_5000_features=top_5000_features[:5000]"
      ],
      "execution_count": null,
      "outputs": []
    },
    {
      "cell_type": "code",
      "metadata": {
        "colab": {
          "base_uri": "https://localhost:8080/"
        },
        "id": "PMFv06rf79W1",
        "outputId": "9c73f88d-8715-46e6-d876-bbba18e1a163"
      },
      "source": [
        "#pick multiple csr columns based on index: https://stackoverflow.com/questions/13352280/slicing-sparse-matrices-in-scipy-which-types-work-best\n",
        "indices = np.where(top_5000_features)[0]\n",
        "X2_tr_5000 = X2_tr.tocsr()[:,indices]\n",
        "X2_cv_5000 = X2_cv.tocsr()[:,indices]\n",
        "X2_test_5000 = X2_test.tocsr()[:,indices]\n",
        "\n",
        "#Check the shape of the new Data's\n",
        "\n",
        "print(X2_tr_5000.shape)\n",
        "print(X2_cv_5000.shape)\n",
        "print(X2_test_5000.shape)"
      ],
      "execution_count": null,
      "outputs": [
        {
          "output_type": "stream",
          "name": "stdout",
          "text": [
            "(53531, 311)\n",
            "(22942, 311)\n",
            "(32775, 311)\n"
          ]
        }
      ]
    },
    {
      "cell_type": "code",
      "metadata": {
        "colab": {
          "base_uri": "https://localhost:8080/"
        },
        "id": "of7WCfCL79ZV",
        "outputId": "01d6cdc0-f5fe-48a1-d79f-10003c3a9cdb"
      },
      "source": [
        "from sklearn.linear_model import LogisticRegression\n",
        "alpha = [0.000001,0.00001,0.0001,0.001,0.01,0.1,1,10,100,1000,10000,100000] \n",
        "\n",
        "aucTotal_cv=[]\n",
        "aucTotal_train=[]\n",
        "HayperParametesDictAUC_cv=dict()\n",
        "for i in alpha:\n",
        "        clf = LogisticRegression(C=i)\n",
        "        clf.fit(X2_tr_5000, y_tr)\n",
        "        sig_clf = CalibratedClassifierCV(clf, method=\"sigmoid\")\n",
        "        sig_clf.fit(X2_tr_5000, y_tr)\n",
        "        # predict the response on the crossvalidation train\n",
        "        \n",
        "    \n",
        "        # predict the response on the crossvalidation train\n",
        "\n",
        "        probs_cv = sig_clf.predict_proba(X2_cv_5000)\n",
        "\n",
        "        # predict the response on the train\n",
        "        probs_train = sig_clf.predict_proba(X2_tr_5000)\n",
        "\n",
        "        # keep probabilities for the positive outcome only\n",
        "        probs_cv = probs_cv[:, 1]\n",
        "        probs_train = probs_train[:,1]\n",
        "\n",
        "        # calculate AUC\n",
        "        auc_cv = roc_auc_score(y_cv, probs_cv)\n",
        "        auc_train = roc_auc_score(y_tr, probs_train)\n",
        "\n",
        "        # $$$$$$$$$$\n",
        "        # evaluate CV accuracy\n",
        "        probs_cv_acc=sig_clf.predict(X2_cv_5000)\n",
        "        acc_cv = accuracy_score(y_cv, probs_cv_acc, normalize=True) * float(100)\n",
        "        print('\\nCV accuracy for alpha = %f is %d%% and auc= %.3f' % (i, acc_cv,auc_cv))\n",
        "        aucTotal_cv.append(auc_cv)\n",
        "        aucTotal_train.append(auc_train) \n",
        "    \n",
        "    \n",
        "    \n",
        "    \n",
        "    \n",
        "        ###############$$$$$$$$$$$$$%%%%%%%%%%%%%%%\n",
        "    \n",
        "\n",
        "        # evaluate CV accuracy\n",
        "        #acc_cv = accuracy_score(y_cv, pred_cv, normalize=True) * float(100)\n",
        "        #print('\\nCV accuracy for alpha = %f is %d%% and auc= %.3f' % (i, acc_cv,auc_cv))\n",
        "        #aucTotal_cv.append(auc_cv)\n",
        "        #aucTotal_train.append(auc_train) \n",
        "       "
      ],
      "execution_count": null,
      "outputs": [
        {
          "output_type": "stream",
          "name": "stdout",
          "text": [
            "\n",
            "CV accuracy for alpha = 0.000001 is 84% and auc= 0.598\n",
            "\n",
            "CV accuracy for alpha = 0.000010 is 84% and auc= 0.598\n",
            "\n",
            "CV accuracy for alpha = 0.000100 is 84% and auc= 0.599\n",
            "\n",
            "CV accuracy for alpha = 0.001000 is 84% and auc= 0.601\n",
            "\n",
            "CV accuracy for alpha = 0.010000 is 84% and auc= 0.608\n",
            "\n",
            "CV accuracy for alpha = 0.100000 is 84% and auc= 0.602\n",
            "\n",
            "CV accuracy for alpha = 1.000000 is 84% and auc= 0.599\n",
            "\n",
            "CV accuracy for alpha = 10.000000 is 84% and auc= 0.596\n",
            "\n",
            "CV accuracy for alpha = 100.000000 is 84% and auc= 0.594\n",
            "\n",
            "CV accuracy for alpha = 1000.000000 is 84% and auc= 0.593\n",
            "\n",
            "CV accuracy for alpha = 10000.000000 is 84% and auc= 0.594\n",
            "\n",
            "CV accuracy for alpha = 100000.000000 is 84% and auc= 0.593\n"
          ]
        }
      ]
    },
    {
      "cell_type": "code",
      "metadata": {
        "id": "dJ_N2qYn79cs"
      },
      "source": [
        "hp_log_5000=alpha[np.argmax(aucTotal_cv)]"
      ],
      "execution_count": null,
      "outputs": []
    },
    {
      "cell_type": "code",
      "metadata": {
        "colab": {
          "base_uri": "https://localhost:8080/"
        },
        "id": "hR5zAqgE79e-",
        "outputId": "9562d5b9-cced-4f67-9c17-af2c5074cc31"
      },
      "source": [
        "clf_tfidf = DecisionTreeClassifier(min_samples_split=min_samples_split_cv ,criterion='gini',class_weight = 'balanced',max_depth=max_depth_cv, random_state=42)\n",
        "clf_tfidf.fit(X4_tr, y_tr)\n",
        "sig_clf = CalibratedClassifierCV(clf_tfidf, method=\"sigmoid\")\n",
        "sig_clf.fit(X4_tr, y_tr)\n",
        "##########################\n",
        "\n",
        "probs_test   =  sig_clf.predict_proba(X4_test)\n",
        "probs_train  = sig_clf.predict_proba(X4_tr)\n",
        "y_pred_test  = sig_clf.predict(X4_test)\n",
        "y_pred_train = sig_clf.predict(X4_tr)\n",
        "\n",
        "# keep probabilities for the positive outcome only\n",
        "probs_test = probs_test[:, 1]\n",
        "probs_train = probs_train[:,1]\n",
        "# calculate AUC\n",
        "auc = roc_auc_score(y_test, probs_test)\n",
        "\n",
        "\n",
        "\n",
        "\n",
        "\n",
        "auc_tfidf_w2vec=auc\n",
        "print(\"Test AUC: \",auc)\n",
        "#y_pred_tr =  sig_clf.predict(X2_tr)\n",
        "auc = roc_auc_score(y_tr, probs_train)\n",
        "print(\"Train AUC: \",auc)"
      ],
      "execution_count": null,
      "outputs": [
        {
          "output_type": "stream",
          "name": "stdout",
          "text": [
            "Test AUC:  0.6701844608223595\n",
            "Train AUC:  0.7964745043730603\n"
          ]
        }
      ]
    },
    {
      "cell_type": "code",
      "metadata": {
        "colab": {
          "base_uri": "https://localhost:8080/"
        },
        "id": "4OUec6F479iU",
        "outputId": "c3d9eeb5-4a15-4191-8820-a07c6211da81"
      },
      "source": [
        "clf = LogisticRegression(C=alpha[np.argmax(aucTotal_cv)])\n",
        "clf.fit(X2_tr_5000, y_tr)\n",
        "sig_clf = CalibratedClassifierCV(clf, method=\"sigmoid\")\n",
        "sig_clf.fit(X2_tr_5000, y_tr)\n",
        "\n",
        "\n",
        "\n",
        "probs_test   =  sig_clf.predict_proba(X2_test_5000)\n",
        "probs_train  = sig_clf.predict_proba(X2_tr_5000)\n",
        "\n",
        "# keep probabilities for the positive outcome only\n",
        "probs_test = probs_test[:, 1]\n",
        "probs_train = probs_train[:,1]\n",
        "# calculate AUC\n",
        "auc = roc_auc_score(y_test, probs_test)\n",
        "\n",
        "\n",
        "\n",
        "\n",
        "auc_logistic_5000=auc\n",
        "print(\"Test AUC: \",auc)\n",
        "auc = roc_auc_score(y_tr, probs_train)\n",
        "print(\"Train AUC: \",auc)"
      ],
      "execution_count": null,
      "outputs": [
        {
          "output_type": "stream",
          "name": "stdout",
          "text": [
            "Test AUC:  0.6163365880182727\n",
            "Train AUC:  0.6276084037818577\n"
          ]
        }
      ]
    },
    {
      "cell_type": "code",
      "metadata": {
        "colab": {
          "base_uri": "https://localhost:8080/",
          "height": 301
        },
        "id": "BeHJOijK79ko",
        "outputId": "e24e5bcf-7e76-473d-bfe8-a95c2ce0bbc0"
      },
      "source": [
        "import matplotlib.pyplot as plt\n",
        "probs_test = sig_clf.predict_proba(X2_test_5000)[:,1]\n",
        "probs_train = sig_clf.predict_proba(X2_tr_5000)[:,1]\n",
        "# calculate roc curve\n",
        "fpr, tpr, thresholds = roc_curve(y_test, probs_test)\n",
        "fpr2, tpr2, thresholds2 = roc_curve(y_tr, probs_train)\n",
        "# plot no skill\n",
        "plt.plot([0, 1], [0, 1], color='C0')\n",
        "# plot the roc curve for the model\n",
        "plt.plot(fpr, tpr, color='C1',label='cv')\n",
        "plt.plot(fpr2, tpr2, color='g',label='train')\n",
        "plt.legend()\n",
        "plt.xlabel('FPR')\n",
        "plt.ylabel('TPR')\n",
        "plt.title(\"ERROR PLOT\")\n",
        "# show the plot\n",
        "plt.show()"
      ],
      "execution_count": null,
      "outputs": [
        {
          "output_type": "display_data",
          "data": {
            "image/png": "[encoded data removed]",
            "text/plain": [
              "<Figure size 432x288 with 1 Axes>"
            ]
          },
          "metadata": {}
        }
      ]
    },
    {
      "cell_type": "code",
      "metadata": {
        "colab": {
          "base_uri": "https://localhost:8080/",
          "height": 355
        },
        "id": "anTNYsKp7p9W",
        "outputId": "75e7dec4-fdc0-4c87-a67b-a333640b05fb"
      },
      "source": [
        "from sklearn.metrics import confusion_matrix\n",
        "cm=confusion_matrix(y_test, y_pred_test)\n",
        "TPR=np.round(cm[1][1]/(cm[0][1]+cm[1][1])*100,2)\n",
        "FPR=np.round(cm[0][0]/(cm[0][0]+cm[1][0])*100,2)\n",
        "Precision= np.round(cm[1][1]/(cm[1][0]+cm[1][1])*100,2)\n",
        "Recall = TPR\n",
        "F1_Score= np.round((2*Precision*Recall)/(Recall+Precision),3)\n",
        "F1_Score_l2=F1_Score\n",
        "\n",
        "import seaborn as sns; sns.set()\n",
        "ax = sns.heatmap(cm,annot=True,fmt=\"d\",cmap=\"YlGnBu\")\n",
        "\n",
        "print(\"TPR: {}%\\nFPR: {}%\\nPrecision: {}%\\nRecall: {}%\\nF1 Score: {}% \".format(TPR,FPR,Precision,Recall,F1_Score))"
      ],
      "execution_count": null,
      "outputs": [
        {
          "output_type": "stream",
          "name": "stdout",
          "text": [
            "TPR: 84.77%\n",
            "FPR: nan%\n",
            "Precision: 100.0%\n",
            "Recall: 84.77%\n",
            "F1 Score: 91.757% \n"
          ]
        },
        {
          "output_type": "display_data",
          "data": {
            "image/png": "[encoded data removed]",
            "text/plain": [
              "<Figure size 432x288 with 2 Axes>"
            ]
          },
          "metadata": {}
        }
      ]
    },
    {
      "cell_type": "code",
      "metadata": {
        "id": "fzumkr2Bl7Wi"
      },
      "source": [
        "# Please compare all yfrom prettytable import PrettyTable\n",
        "from prettytable import PrettyTable\n",
        "    \n",
        "x = PrettyTable()\n",
        "\n",
        "x.field_names = [\"Vectorizer\", \"Model\", \"Hyper Parameter\", \"AUC\"]\n",
        "x.add_row([\"BOW\", \"DecisionTreeClassifier\", hp_bow, np.round(auc_bow,5)])\n",
        "x.add_row([\"Tfidf\",\"DecisionTreeClassifier\", hp_tfidf, np.round(auc_tfidf,5)])\n",
        "x.add_row([\"Word2Vec\", \"DecisionTreeClassifier\", hp_w2vec, np.round(auc_w2vec,5)])\n",
        "x.add_row([\"TfidfWord2Vec\",\"DecisionTreeClassifier\", hp_tfidf_w2vec, np.round(auc_tfidf_w2vec,5)])\n",
        "x.add_row([\"Tfidf\",\"LogisticRegression\", hp_log_5000, np.round(auc_logistic_5000,5)])"
      ],
      "execution_count": null,
      "outputs": []
    },
    {
      "cell_type": "code",
      "metadata": {
        "colab": {
          "base_uri": "https://localhost:8080/"
        },
        "id": "EEJmzLWOmpI3",
        "outputId": "774a97db-2419-47c2-84b8-4bbd466be1b8"
      },
      "source": [
        "print(x)"
      ],
      "execution_count": null,
      "outputs": [
        {
          "output_type": "stream",
          "name": "stdout",
          "text": [
            "+---------------+------------------------+-----------------+---------+\n",
            "|   Vectorizer  |         Model          | Hyper Parameter |   AUC   |\n",
            "+---------------+------------------------+-----------------+---------+\n",
            "|      BOW      | DecisionTreeClassifier |      500,50     | 0.68121 |\n",
            "|     Tfidf     | DecisionTreeClassifier |      500,10     | 0.67605 |\n",
            "|    Word2Vec   | DecisionTreeClassifier |      500,10     |  0.6737 |\n",
            "| TfidfWord2Vec | DecisionTreeClassifier |      500,10     | 0.67018 |\n",
            "|     Tfidf     |   LogisticRegression   |       0.01      | 0.61634 |\n",
            "+---------------+------------------------+-----------------+---------+\n"
          ]
        }
      ]
    }
  ]
}