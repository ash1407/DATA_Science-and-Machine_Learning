{
  "nbformat": 4,
  "nbformat_minor": 0,
  "metadata": {
    "colab": {
      "name": "Backpropagation_assignment_secondone.ipynb",
      "provenance": [],
      "collapsed_sections": []
    },
    "kernelspec": {
      "display_name": "Python 3",
      "language": "python",
      "name": "python3"
    },
    "language_info": {
      "codemirror_mode": {
        "name": "ipython",
        "version": 3
      },
      "file_extension": ".py",
      "mimetype": "text/x-python",
      "name": "python",
      "nbconvert_exporter": "python",
      "pygments_lexer": "ipython3",
      "version": "3.7.6"
    }
  },
  "cells": [
    {
      "cell_type": "markdown",
      "metadata": {
        "id": "y871RZtRhCEH"
      },
      "source": [
        "# <font color='red'>BackPropagation</font>"
      ]
    },
    {
      "cell_type": "markdown",
      "metadata": {
        "id": "LqePYi-4mFvK"
      },
      "source": [
        "**There will be some functions that start with the word \"grader\" ex: grader_sigmoid(), grader_forwardprop(), grader_backprop() etc, you should not change those function definition.<br><br>Every Grader function has to return True.**"
      ]
    },
    {
      "cell_type": "markdown",
      "metadata": {
        "id": "0huUQ0byiI0I"
      },
      "source": [
        "## <font color='red'>Loading data </font>"
      ]
    },
    {
      "cell_type": "code",
      "metadata": {
        "colab": {
          "base_uri": "https://localhost:8080/"
        },
        "id": "IjIVxhRmH2ZM",
        "outputId": "e036e9a6-8a13-4867-f95a-19d8027da3b3"
      },
      "source": [
        "from google.colab import drive\n",
        "drive.mount('/content/drive')"
      ],
      "execution_count": 2,
      "outputs": [
        {
          "output_type": "stream",
          "name": "stdout",
          "text": [
            "Mounted at /content/drive\n"
          ]
        }
      ]
    },
    {
      "cell_type": "code",
      "metadata": {
        "colab": {
          "base_uri": "https://localhost:8080/"
        },
        "id": "1hSje5CBgcUb",
        "outputId": "6f9588d3-f11d-4452-f6e8-0dfdda196483"
      },
      "source": [
        "import pickle\n",
        "import numpy as np\n",
        "from tqdm import tqdm\n",
        "import matplotlib.pyplot as plt\n",
        "\n",
        "with open('/content/drive/MyDrive/Colab Notebooks/data.pkl', 'rb') as f:\n",
        "    data = pickle.load(f)\n",
        "print(data.shape)\n",
        "print(data)\n",
        "X = data[:, :5]\n",
        "y = data[:, -1]\n",
        "print(X.shape, y.shape)"
      ],
      "execution_count": 3,
      "outputs": [
        {
          "output_type": "stream",
          "name": "stdout",
          "text": [
            "(506, 6)\n",
            "[[-1.2879095  -0.12001342 -1.45900038 -0.66660821 -0.14421743  1.85884913]\n",
            " [-0.59338101  0.36716642 -0.30309415 -0.98732948 -0.74026221  1.81901037]\n",
            " [-0.59338101 -0.26581176 -0.30309415 -0.98732948 -0.74026221  1.81989281]\n",
            " ...\n",
            " [ 0.11573841  0.79744934  1.17646583 -0.80321172  0.15812412  1.59974823]\n",
            " [ 0.11573841  0.73699637  1.17646583 -0.80321172  0.15812412  1.5997457 ]\n",
            " [ 0.11573841  0.43473151  1.17646583 -0.80321172  0.15812412  1.59957717]]\n",
            "(506, 5) (506,)\n"
          ]
        }
      ]
    },
    {
      "cell_type": "code",
      "metadata": {
        "id": "fOhehvJvGhuq"
      },
      "source": [
        "# Import packages\n",
        "import h5py \n",
        "import matplotlib.pyplot as plt\n",
        "import numpy as np\n",
        "import seaborn as sns"
      ],
      "execution_count": 4,
      "outputs": []
    },
    {
      "cell_type": "markdown",
      "metadata": {
        "id": "5JL-0soQistC"
      },
      "source": [
        "# <font color='red'>Computational graph</font>"
      ]
    },
    {
      "cell_type": "markdown",
      "metadata": {
        "id": "nREnTTJ3i0Vd"
      },
      "source": [
        "<img src='https://i.imgur.com/seSGbNS.png'>"
      ]
    },
    {
      "cell_type": "markdown",
      "metadata": {
        "id": "DSPX_H_4i_HT"
      },
      "source": [
        "\n",
        "*  **If you observe the graph, we are having input features [f1, f2, f3, f4, f5] and 9 weights [w1, w2, w3, w4, w5, w6,    w7, w8, w9]**.<br><br>\n",
        "*  **The final output of this graph is a value L which is computed as (Y-Y')^2** "
      ]
    },
    {
      "cell_type": "markdown",
      "metadata": {
        "id": "D54eDEv6jkO4"
      },
      "source": [
        "# <font color='red'>Task 1: Implementing backpropagation and Gradient checking </font>"
      ]
    },
    {
      "cell_type": "markdown",
      "metadata": {
        "id": "qocI1Vzqkod9"
      },
      "source": [
        "<font color='blue'><b>Check this video for better understanding of the computational graphs and back propagation</font>"
      ]
    },
    {
      "cell_type": "code",
      "metadata": {
        "colab": {
          "base_uri": "https://localhost:8080/",
          "height": 521
        },
        "id": "Wb5WMdwJinlX",
        "outputId": "b10489ec-890a-445a-c6a4-a3e0ea2a66be"
      },
      "source": [
        "from IPython.display import YouTubeVideo\n",
        "YouTubeVideo('i94OvYb6noo',width=\"1000\",height=\"500\")"
      ],
      "execution_count": null,
      "outputs": [
        {
          "data": {
            "image/jpeg": "[encoded data removed]",
            "text/html": [
              "\n",
              "        <iframe\n",
              "            width=\"1000\"\n",
              "            height=\"500\"\n",
              "            src=\"https://www.youtube.com/embed/i94OvYb6noo\"\n",
              "            frameborder=\"0\"\n",
              "            allowfullscreen\n",
              "        ></iframe>\n",
              "        "
            ],
            "text/plain": [
              "<IPython.lib.display.YouTubeVideo at 0x7f676b82acf8>"
            ]
          },
          "execution_count": 11,
          "metadata": {
            "tags": []
          },
          "output_type": "execute_result"
        }
      ]
    },
    {
      "cell_type": "markdown",
      "metadata": {
        "id": "2jecTyVRlh-6"
      },
      "source": [
        "\n",
        "*  <b>Write two functions<br>\n",
        "    *  Forward propagation</b>(Write your code in<font color='blue'> def forward_propagation()</b></font>)<br><br>\n",
        "    For easy debugging, we will break the computational graph into 3 parts.\n",
        "\n",
        "    <font color='green'><b>Part 1</b></font></b>\n",
        "    <img src='https://i.imgur.com/0xUaxy6.png'><br><br>\n",
        "    <font color='green'><b>Part 2</b></font></b><br>\n",
        "    <img src='https://i.imgur.com/J29pAJL.png'><br><br>\n",
        "    <font color='green'><b>Part 3</b></font></b>\n",
        "    <img src='https://i.imgur.com/vMyCsd9.png'>\n",
        "\n",
        "    <pre>\n",
        "    <font color='green'>\n",
        "def forward_propagation(X, y, W):\n",
        "        <font color='grey'>\n",
        "        # X: input data point, note that in this assignment you are having 5-d data points\n",
        "        # y: output varible\n",
        "        # W: weight array, its of length 9, W[0] corresponds to w1 in graph, W[1] corresponds to w2 in graph, <br>         ..., W[8] corresponds to w9 in graph.  \n",
        "        # you have to return the following variables\n",
        "        # exp= part1 (compute the forward propagation until exp and then store the values in exp)\n",
        "        # tanh =part2(compute the forward propagation until tanh and then store the values in tanh)\n",
        "        # sig = part3(compute the forward propagation until sigmoid and then store the values in sig)\n",
        "        # now compute remaining values from computional graph and get y'\n",
        "        # write code to compute the value of L=(y-y')^2\n",
        "        # compute derivative of L  w.r.to Y' and store it in dl\n",
        "        # Create a dictionary to store all the intermediate values\n",
        "        # store L, exp,tanh,sig,dl variables\n",
        "        </font>\n",
        "        return (dictionary, which you might need to use for back propagation)\n",
        "        <font color='grey'>\n",
        "        </font>\n",
        "</font>\n",
        "</pre>\n",
        "    *  <b>Backward propagation</b>(Write your code in<font color='blue'> def backward_propagation()</b></font>)\n",
        "    </b>\n",
        "    <pre>\n",
        "    <font color='green'>\n",
        "    def backward_propagation(L, W,dictionary):\n",
        "        <font color='grey'>\n",
        "        # L: the loss we calculated for the current point\n",
        "        # dictionary: the outputs of the forward_propagation() function\n",
        "        # write code to compute the gradients of each weight [w1,w2,w3,...,w9]\n",
        "        # Hint: you can use dict type to store the required variables \n",
        "        # return dW, dW is a dictionary with gradients of all the weights\n",
        "        </font>\n",
        "        return dW\n",
        "        </font>\n",
        "</font>\n",
        "</pre>"
      ]
    },
    {
      "cell_type": "markdown",
      "metadata": {
        "id": "STS4NrQQc6OH"
      },
      "source": [
        " ## <font color='red'>Gradient clipping</font>"
      ]
    },
    {
      "cell_type": "markdown",
      "metadata": {
        "id": "XY7ivRNzdPok"
      },
      "source": [
        "<b> Check this  <a href='https://towardsdatascience.com/how-to-debug-a-neural-network-with-gradient-checking-41deec0357a9'>blog link</a> for more details on Gradient clipping"
      ]
    },
    {
      "cell_type": "markdown",
      "metadata": {
        "id": "BrsfpDoidtZ5"
      },
      "source": [
        " we know that the derivative of any function is\n",
        " \n",
        " $$\\lim_{\\epsilon\\to0}\\frac{f(x+\\epsilon)-f(x-\\epsilon)}{2\\epsilon}$$\n"
      ]
    },
    {
      "cell_type": "markdown",
      "metadata": {
        "id": "vUcmt0kPd02f"
      },
      "source": [
        "*  The definition above can be used as a numerical approximation of the derivative. Taking an epsilon small enough, the calculated approximation will have an error in the range of epsilon squared. \n",
        "\n",
        "*  In other words, if epsilon is 0.001, the approximation will be off by 0.00001.\n",
        "\n",
        "Therefore, we can use this to approximate the gradient, and in turn make sure that backpropagation is implemented properly. This forms the basis of <b>gradient checking!</b>"
      ]
    },
    {
      "cell_type": "markdown",
      "metadata": {
        "id": "pFSu16KCeU0x"
      },
      "source": [
        "## <Font color='blue'>Gradient checking example</font>"
      ]
    },
    {
      "cell_type": "markdown",
      "metadata": {
        "id": "Gz0mmT_xecfC"
      },
      "source": [
        "<font >\n",
        "lets understand the concept with a simple example:\n",
        "$f(w1,w2,x1,x2)=w_{1}^{2} . x_{1} + w_{2} . x_{2}$ \n",
        "\n",
        "from the above function , lets assume $w_{1}=1$, $w_{2}=2$, $x_{1}=3$, $x_{2}=4$ the gradient of $f$ w.r.t $w_{1}$ is\n",
        "\n",
        "\\begin{array} {lcl}\n",
        "\\frac{df}{dw_{1}} = dw_{1} &=&2.w_{1}.x_{1} \\\\& = &2.1.3\\\\& = &6\n",
        "\\end{array}\n",
        "\n",
        "\n",
        "let calculate the aproximate gradient of $w_{1}$ as mentinoned in the above formula and considering $\\epsilon=0.0001$\n",
        "\n",
        "\\begin{array} {lcl}\n",
        "dw_1^{approx} & = & \\frac{f(w1+\\epsilon,w2,x1,x2)-f(w1-\\epsilon,w2,x1,x2)}{2\\epsilon} \\\\ & = & \\frac{((1+0.0001)^{2} . 3 + 2 . 4) - ((1-0.0001)^{2} . 3 + 2 . 4)}{2\\epsilon} \\\\ & = & \\frac{(1.00020001 . 3 + 2 . 4) - (0.99980001. 3 + 2 . 4)}{2*0.0001} \\\\ & = & \\frac{(11.00060003) - (10.99940003)}{0.0002}\\\\ & = & 5.99999999999\n",
        "\\end{array}\n",
        "\n",
        "Then, we apply the following formula for gradient check: <i>gradient_check</i> = \n",
        "$\\frac{\\left\\Vert\\left (dW-dW^{approx}\\rm\\right) \\right\\Vert_2}{\\left\\Vert\\left (dW\\rm\\right) \\right\\Vert_2+\\left\\Vert\\left (dW^{approx}\\rm\\right) \\right\\Vert_2}$\n",
        "\n",
        "The equation above is basically the Euclidean distance normalized by the sum of the norm of the vectors. We use normalization in case that one of the vectors is very small.\n",
        "As a value for epsilon, we usually opt for 1e-7. Therefore, if gradient check return a value less than 1e-7, then it means that backpropagation was implemented correctly. Otherwise, there is potentially a mistake in your implementation. If the value exceeds 1e-3, then you are sure that the code is not correct.\n",
        "\n",
        "in our example: <i>gradient_check</i> $ = \\frac{(6 - 5.999999999994898)}{(6 + 5.999999999994898)} = 4.2514140356330737e^{-13}$\n",
        "\n",
        "you can mathamatically derive the same thing like this\n",
        "\n",
        "\\begin{array} {lcl}\n",
        "dw_1^{approx} & = & \\frac{f(w1+\\epsilon,w2,x1,x2)-f(w1-\\epsilon,w2,x1,x2)}{2\\epsilon} \\\\ & = & \\frac{((w_{1}+\\epsilon)^{2} . x_{1} + w_{2} . x_{2}) - ((w_{1}-\\epsilon)^{2} . x_{1} + w_{2} . x_{2})}{2\\epsilon} \\\\ & = & \\frac{4. \\epsilon.w_{1}. x_{1}}{2\\epsilon} \\\\ & = &  2.w_{1}.x_{1}\n",
        "\\end{array}\n"
      ]
    },
    {
      "cell_type": "markdown",
      "metadata": {
        "id": "f1BFQQaCermK"
      },
      "source": [
        "## <font color='red'> Implement Gradient checking </font> <br>\n",
        " (Write your code in <font color='blue'> def gradient_checking()</font>)"
      ]
    },
    {
      "cell_type": "markdown",
      "metadata": {
        "id": "GqpfA3AqfJba"
      },
      "source": [
        "**Algorithm** \n",
        "\n"
      ]
    },
    {
      "cell_type": "markdown",
      "metadata": {
        "id": "FL39KeRFfNoD"
      },
      "source": [
        "<pre>\n",
        "<font color='darkblue'>\n",
        "W = initilize_randomly\n",
        "def gradient_checking(data_point, W):<font color='grey'>\n",
        "    # compute the L value using forward_propagation()\n",
        "    # compute the gradients of W using backword_propagation()</font>\n",
        "    approx_gradients = []\n",
        "    for each wi weight value in W:<font color='grey'>\n",
        "        # add a small value to weight wi, and then find the values of L with the updated weights\n",
        "        # subtract a small value to weight wi, and then find the values of L with the updated weights\n",
        "        # compute the approximation gradients of weight wi</font>\n",
        "        approx_gradients.append(approximation gradients of weight wi)<font color='grey'>\n",
        "    # compare the gradient of weights W from backword_propagation() with the aproximation gradients of weights with <br>  gradient_check formula</font>\n",
        "    return gradient_check</font>\n",
        "<b>NOTE: you can do sanity check by checking all the return values of gradient_checking(),<br> they have to be zero. if not you have bug in your code\n",
        "</pre></b>"
      ]
    },
    {
      "cell_type": "markdown",
      "metadata": {
        "id": "0ufbFBFfhgL0"
      },
      "source": [
        "# <font color='red'> Task 2 : Optimizers </font>"
      ]
    },
    {
      "cell_type": "markdown",
      "metadata": {
        "id": "7zt05soYh1RM"
      },
      "source": [
        "* As a part of this task, you will be implementing 3 type of optimizers(methods to update weight)\n",
        "* Use the same computational graph that was mentioned above to do this task\n",
        "* Initilze the 9 weights from normal distribution with mean=0 and std=0.01"
      ]
    },
    {
      "cell_type": "markdown",
      "metadata": {
        "id": "CAyi7aSAicbr"
      },
      "source": [
        "**Check below video and <a href='https://cs231n.github.io/neural-networks-3/'>this</a> blog**"
      ]
    },
    {
      "cell_type": "code",
      "metadata": {
        "colab": {
          "base_uri": "https://localhost:8080/",
          "height": 521
        },
        "id": "ZogcxiegkQpz",
        "outputId": "9b4e0235-e638-4f20-d9c1-ac3ca4fb3ce8"
      },
      "source": [
        "from IPython.display import YouTubeVideo\n",
        "YouTubeVideo('gYpoJMlgyXA',width=\"1000\",height=\"500\")"
      ],
      "execution_count": null,
      "outputs": [
        {
          "data": {
            "image/jpeg": "[encoded data removed]",
            "text/html": [
              "\n",
              "        <iframe\n",
              "            width=\"1000\"\n",
              "            height=\"500\"\n",
              "            src=\"https://www.youtube.com/embed/gYpoJMlgyXA\"\n",
              "            frameborder=\"0\"\n",
              "            allowfullscreen\n",
              "        ></iframe>\n",
              "        "
            ],
            "text/plain": [
              "<IPython.lib.display.YouTubeVideo at 0x7f676043e208>"
            ]
          },
          "execution_count": 56,
          "metadata": {
            "tags": []
          },
          "output_type": "execute_result"
        }
      ]
    },
    {
      "cell_type": "markdown",
      "metadata": {
        "id": "jmefh7ktjbaR"
      },
      "source": [
        "<font color='blue'><b>Algorithm</b>"
      ]
    },
    {
      "cell_type": "markdown",
      "metadata": {
        "id": "nAc4NudkjdNa"
      },
      "source": [
        "<pre>\n",
        "    for each epoch(1-100):\n",
        "        for each data point in your data:\n",
        "            using the functions forward_propagation() and backword_propagation() compute the gradients of weights\n",
        "            update the weigts with help of gradients  ex: w1 = w1-learning_rate*dw1\n",
        "</pre>"
      ]
    },
    {
      "cell_type": "markdown",
      "metadata": {
        "id": "_fdmPNqtjm3X"
      },
      "source": [
        "## <font color='red'> Implement below tasks</b>"
      ]
    },
    {
      "cell_type": "markdown",
      "metadata": {
        "id": "Ll9-CRsLjx_D"
      },
      "source": [
        "\n",
        "*  <b>Task 2.1</b>: you will be implementing the above algorithm with <b>Vanilla update</b> of weights<br><br>\n",
        "*  <b>Task 2.2</b>: you will be implementing the above algorithm with <b>Momentum update</b> of weights<br><br>\n",
        "*  <b>Task 2.3</b>: you will be implementing the above algorithm with <b>Adam update</b> of weights\n"
      ]
    },
    {
      "cell_type": "markdown",
      "metadata": {
        "id": "atp082demrUR"
      },
      "source": [
        "**Note : If you get any assertion error while running grader functions, please print the variables in grader functions and check which variable is returning False .Recheck your logic for that variable .**"
      ]
    },
    {
      "cell_type": "markdown",
      "metadata": {
        "id": "phG2WDkjkuIL"
      },
      "source": [
        "<br>\n",
        "<br>\n",
        "<br>"
      ]
    },
    {
      "cell_type": "markdown",
      "metadata": {
        "id": "CBaPzHP63grG"
      },
      "source": [
        "# <font color='red'>Task 1 </font>"
      ]
    },
    {
      "cell_type": "markdown",
      "metadata": {
        "id": "QfmV3FUgSrBo"
      },
      "source": [
        "## <font color='blue'>Forward propagation </font>"
      ]
    },
    {
      "cell_type": "code",
      "metadata": {
        "id": "5_pBivcY30qf"
      },
      "source": [
        "def sigmoid(z):\n",
        "    '''In this function, we will compute the sigmoid(z)'''\n",
        "    sigmoid=1/(1+np.exp(-z))\n",
        "    return sigmoid\n",
        "def forward_propagation(x, y, w):\n",
        "    '''In this function, we will compute the forward propagation '''\n",
        "    # X: input data point, note that in this assignment you are having 5-d data points\n",
        "    # y: output varible\n",
        "    # W: weight array, its of length 9, W[0] corresponds to w1 in graph, W[1]corresponds to w2 in graph,..., W[8] corresponds to w9 in graph.\n",
        "    # you have to return the following variables\n",
        "    # exp= part1 (compute the forward propagation until exp and then store thevalues in exp)\n",
        "    # tanh =part2(compute the forward propagation until tanh and then store thevalues in tanh)\n",
        "    # sig = part3(compute the forward propagation until sigmoid and then storethe values in sig)\n",
        "    # now compute remaining values from computional graph and get y'\n",
        "    # write code to compute the value of L=(y-y')^2\n",
        "    # compute derivative of L w.r.to Y' and store it in dl\n",
        "    # Create a dictionary to store all the intermediate values\n",
        "    # store L, exp,tanh,sig variables\n",
        "    FWD_DICT={}\n",
        "    exp= np.exp(((w[0]*x[0]+w[1]*x[1])*(w[0]*x[0]+w[1]*x[1]))+w[5])\n",
        "    tanh=np.tanh(exp+w[6])\n",
        "    sig=sigmoid(((np.sin(w[2]*x[2]))*(w[3]*x[3]+w[4]*x[4]))+w[7])\n",
        "    y_predicted=tanh+(sig*w[8])\n",
        "    Loss=(y-y_predicted)**2\n",
        "    dl=-2*(y-y_predicted)\n",
        "    FWD_DICT['dy_pr']=dl;\n",
        "    FWD_DICT['loss']=Loss;\n",
        "    FWD_DICT['exp']=exp;\n",
        "    FWD_DICT['tanh']=tanh;\n",
        "    FWD_DICT['sigmoid']=sig\n",
        "    return FWD_DICT"
      ],
      "execution_count": 8,
      "outputs": []
    },
    {
      "cell_type": "markdown",
      "metadata": {
        "id": "z-z1rGKqCHNN"
      },
      "source": [
        "<font color='cyan'>Grader function - 1</font>"
      ]
    },
    {
      "cell_type": "code",
      "metadata": {
        "id": "6ZxFF00zBmx1",
        "colab": {
          "base_uri": "https://localhost:8080/"
        },
        "outputId": "395a3a59-8800-4ef0-a34f-38607b5fa5c7"
      },
      "source": [
        "def grader_sigmoid(z):\n",
        " val=sigmoid(z)\n",
        " assert(val==0.8807970779778823)\n",
        " return True\n",
        "grader_sigmoid(2)"
      ],
      "execution_count": 9,
      "outputs": [
        {
          "output_type": "execute_result",
          "data": {
            "text/plain": [
              "True"
            ]
          },
          "metadata": {},
          "execution_count": 9
        }
      ]
    },
    {
      "cell_type": "markdown",
      "metadata": {
        "id": "KgAUXq_aChey"
      },
      "source": [
        "<font color='cyan'>Grader function - 2 </font>"
      ]
    },
    {
      "cell_type": "code",
      "metadata": {
        "id": "3uzsUqcjCorN",
        "colab": {
          "base_uri": "https://localhost:8080/"
        },
        "outputId": "27103568-7e25-447f-a9e4-675f0c74b515"
      },
      "source": [
        "def grader_forwardprop(data):\n",
        "    dl = (data['dy_pr']==-1.9285278284819143)\n",
        "    loss=(data['loss']==0.9298048963072919)\n",
        "    part1=(data['exp']==1.1272967040973583)\n",
        "    part2=(data['tanh']==0.8417934192562146)\n",
        "    part3=(data['sigmoid']==0.5279179387419721)\n",
        "    assert(dl and loss and part1 and part2 and part3)\n",
        "    return True\n",
        "w=np.ones(9)*0.1\n",
        "d1=forward_propagation(X[0],y[0],w)\n",
        "grader_forwardprop(d1)"
      ],
      "execution_count": 10,
      "outputs": [
        {
          "output_type": "execute_result",
          "data": {
            "text/plain": [
              "True"
            ]
          },
          "metadata": {},
          "execution_count": 10
        }
      ]
    },
    {
      "cell_type": "markdown",
      "metadata": {
        "id": "obOaAqj3Sxvb"
      },
      "source": [
        "## <font color='blue'>Backward propagation</font>"
      ]
    },
    {
      "cell_type": "code",
      "metadata": {
        "id": "dS49ykcOGhIv"
      },
      "source": [
        "def backward_propagation(x,w,d1):\n",
        "    '''In this function, we will compute the backward propagation '''\n",
        "    # L: the loss we calculated for the current point\n",
        "    # dictionary: the outputs of the forward_propagation() function\n",
        "    # write code to compute the gradients of each weight [w1,w2,w3,...,w9]\n",
        "    # Hint: you can use dict type to store the required variables\n",
        "    # dw1 = # in dw1 compute derivative of L w.r.to w1\n",
        "    # dw2 = # in dw2 compute derivative of L w.r.to w2\n",
        "    # dw3 = # in dw3 compute derivative of L w.r.to w3\n",
        "    # dw4 = # in dw4 compute derivative of L w.r.to w4\n",
        "    # dw5 = # in dw5 compute derivative of L w.r.to w5\n",
        "    # dw6 = # in dw6 compute derivative of L w.r.to w6\n",
        "    # dw7 = # in dw7 compute derivative of L w.r.to w7\n",
        "    # dw8 = # in dw8 compute derivative of L w.r.to w8\n",
        "    # dw9 = # in dw9 compute derivative of L w.r.to w9\n",
        "    # return dW, dW is a dictionary with gradients of all the weights\n",
        "    back_dict={}\n",
        "    dw1=(d1['dy_pr'])*(1-d1['tanh']**2)*(d1['exp'])*(x[0])*2*(w[0]*x[0]+w[1]*x[1])\n",
        "    dw2=(d1['dy_pr'])*(x[1])*(1-d1['tanh']**2)*(d1['exp'])*2*(w[0]*x[0]+w[1]*x[1])\n",
        "    dw3=(d1['dy_pr'])*w[8]*(d1['sigmoid']*(1-d1['sigmoid']))*(w[3]*x[3]+w[4]*x[4])*(np.cos(w[2]*x[2]))*(x[2])\n",
        "    dw4=(d1['dy_pr'])*w[8]*(d1['sigmoid']*(1-d1['sigmoid']))*(np.sin(w[2]*x[2]))*(x[3])\n",
        "    dw5=(d1['dy_pr'])*w[8]*(d1['sigmoid']*(1-d1['sigmoid']))*(np.sin(w[2]*x[2]))*(x[4])\n",
        "    dw6=(d1['dy_pr'])*(1-(d1['tanh']**2))*(d1['exp'])\n",
        "    dw7=(d1['dy_pr'])*(1-(d1['tanh']**2))\n",
        "    dw8=(d1['dy_pr'])*w[8]*(d1['sigmoid']*(1-d1['sigmoid']))\n",
        "    dw9=(d1['dy_pr'])*(d1['sigmoid'])\n",
        "    back_dict['dw1']=dw1;\n",
        "    back_dict['dw2']=dw2;\n",
        "    back_dict['dw3']=dw3;\n",
        "    back_dict['dw4']=dw4;\n",
        "    back_dict['dw5']=dw5;\n",
        "    back_dict['dw6']=dw6;\n",
        "    back_dict['dw7']=dw7;\n",
        "    back_dict['dw8']=dw8;\n",
        "    back_dict['dw9']=dw9\n",
        "    return back_dict"
      ],
      "execution_count": 13,
      "outputs": []
    },
    {
      "cell_type": "markdown",
      "metadata": {
        "id": "2NpZWAVlS4jb"
      },
      "source": [
        "<font color='cyan'>Grader function - 3 </font>"
      ]
    },
    {
      "cell_type": "code",
      "metadata": {
        "id": "1a8Kll2xGhMJ",
        "colab": {
          "base_uri": "https://localhost:8080/"
        },
        "outputId": "957403e9-f72a-4daf-e59d-695fcdb38995"
      },
      "source": [
        "def grader_backprop(data):\n",
        "    dw1=(data['dw1']==-0.22973323498702003)\n",
        "    dw2=(data['dw2']==-0.021407614717752925)\n",
        "    dw3=(data['dw3']==-0.005625405580266319)\n",
        "    dw4=(data['dw4']==-0.004657941222712423)\n",
        "    dw5=(data['dw5']==-0.0010077228498574246)\n",
        "    dw6=(data['dw6']==-0.6334751873437471)\n",
        "    dw7=(data['dw7']==-0.561941842854033)\n",
        "    dw8=(data['dw8']==-0.04806288407316516)\n",
        "    dw9=(data['dw9']==-1.0181044360187037)\n",
        "    assert(dw1 and dw2 and dw3 and dw4 and dw5 and dw6 and dw7 and dw8 and dw9)\n",
        "    return True\n",
        "w=np.ones(9)*0.1\n",
        "d1=forward_propagation(X[0],y[0],w)\n",
        "d1=backward_propagation(X[0],w,d1)\n",
        "grader_backprop(d1)"
      ],
      "execution_count": 14,
      "outputs": [
        {
          "output_type": "execute_result",
          "data": {
            "text/plain": [
              "True"
            ]
          },
          "metadata": {},
          "execution_count": 14
        }
      ]
    },
    {
      "cell_type": "markdown",
      "metadata": {
        "id": "1rfHHXZwgwo6"
      },
      "source": [
        "## <font color='blue'> Implement gradient checking</font>"
      ]
    },
    {
      "cell_type": "code",
      "metadata": {
        "id": "oh8wj1yjGhOi",
        "colab": {
          "base_uri": "https://localhost:8080/"
        },
        "outputId": "09d17174-b3a6-4ac6-ad3e-6e41e2aa7e2c"
      },
      "source": [
        "result = []\n",
        "W = np.random.rand(9)\n",
        "def gradient_checking(w):\n",
        "    gradient_check = []\n",
        "    approx_gradients = []\n",
        "    d1=forward_propagation(X[0],y[0],W)\n",
        "    d1=backward_propagation(X[0],W,d1)\n",
        "    for i in range(len(W)):\n",
        "        tmp = W[i]\n",
        "        W[i] = tmp+0.0001\n",
        "        d2 = forward_propagation(X[0],y[0],W)\n",
        "        W[i] = tmp-0.0001\n",
        "        d3 = forward_propagation(X[0],y[0],W)\n",
        "        gradcheck = (d2['loss'] - d3['loss'])/(2*0.0001)\n",
        "        W[i] = tmp\n",
        "        approx_gradients.append(gradcheck)\n",
        "    g =[d1['dw1'],d1['dw2'],d1['dw3'],d1['dw4'],d1['dw5'],d1['dw6'],d1['dw7'],d1['dw8'],d1['dw9']]\n",
        "    deno = np.linalg.norm(g) + np.linalg.norm(approx_gradients)\n",
        "    num = np.linalg.norm(np.array(g)-np.array(approx_gradients))\n",
        "    result = num/deno\n",
        "    print(result)\n",
        "    for j in range(9):\n",
        "        num = (d1[\"dw\"+str(j+1)] - approx_gradients[j])/(approx_gradients[j] +d1[\"dw\"+str(j+1)])\n",
        "        gradient_check.append(num)\n",
        "        print(gradient_check)\n",
        "gradient_checking(W)        "
      ],
      "execution_count": 16,
      "outputs": [
        {
          "output_type": "stream",
          "name": "stdout",
          "text": [
            "2.9467700202543076e-10\n",
            "[-2.9712724149967565e-08]\n",
            "[-2.9712724149967565e-08, -1.061394575034814e-09]\n",
            "[-2.9712724149967565e-08, -1.061394575034814e-09, 3.71567712391135e-10]\n",
            "[-2.9712724149967565e-08, -1.061394575034814e-09, 3.71567712391135e-10, 7.665406468025601e-11]\n",
            "[-2.9712724149967565e-08, -1.061394575034814e-09, 3.71567712391135e-10, 7.665406468025601e-11, -6.227887727350919e-11]\n",
            "[-2.9712724149967565e-08, -1.061394575034814e-09, 3.71567712391135e-10, 7.665406468025601e-11, -6.227887727350919e-11, -2.309878191084475e-08]\n",
            "[-2.9712724149967565e-08, -1.061394575034814e-09, 3.71567712391135e-10, 7.665406468025601e-11, -6.227887727350919e-11, -2.309878191084475e-08, -3.7006233566300447e-09]\n",
            "[-2.9712724149967565e-08, -1.061394575034814e-09, 3.71567712391135e-10, 7.665406468025601e-11, -6.227887727350919e-11, -2.309878191084475e-08, -3.7006233566300447e-09, 1.7126064562650465e-10]\n",
            "[-2.9712724149967565e-08, -1.061394575034814e-09, 3.71567712391135e-10, 7.665406468025601e-11, -6.227887727350919e-11, -2.309878191084475e-08, -3.7006233566300447e-09, 1.7126064562650465e-10, 6.424102072271186e-14]\n"
          ]
        }
      ]
    },
    {
      "cell_type": "markdown",
      "metadata": {
        "id": "MhwDSe99kJ32"
      },
      "source": [
        "# <font color='red'>Task 2: Optimizers"
      ]
    },
    {
      "cell_type": "markdown",
      "metadata": {
        "id": "jJzI-vnPk1dB"
      },
      "source": [
        "###<font color='blue'>Algorithm with Vanilla update of weights</font>"
      ]
    },
    {
      "cell_type": "code",
      "metadata": {
        "id": "xJspU6ZuGhRQ"
      },
      "source": [
        " def predic(w,X):\n",
        "     predic = []\n",
        "     for i in X:\n",
        "      exp = np.exp(((w[0]*i[0]+w[1]*i[1])**2)+w[5])\n",
        "      sig = sigmoid(((np.sin(w[2]*i[2]))*(w[3]*i[3]+w[4]*i[4]))+w[7])\n",
        "      tanh = np.tanh(exp+w[6])\n",
        "      y_pred = sig*w[8]+tanh\n",
        "      predic.append(y_pred)\n",
        "     return np.array(predic)\n",
        "    \n",
        "from sklearn.metrics import mean_squared_error as MSE\n",
        "def update_weights_gd(x,y,epochs,eta0):\n",
        "    w=np.random.normal(loc=0, scale=0.01, size=9)\n",
        "    N=len(x) \n",
        "    loss_lst=[]     \n",
        "    for e in range(1,epochs):\n",
        "        grad_dw = np.zeros_like(9)\n",
        "        for i in range(N):\n",
        "            d1=forward_propagation(X[i],y[i],w)\n",
        "            d2=backward_propagation(X[i],w,d1)\n",
        "            for l in range(9):\n",
        "                w[l] = w[l] - eta0 * d2[\"dw\" + str(l+1)]\n",
        "        pred = predic(w,X)\n",
        "        loss_gd = MSE(y,pred)\n",
        "        loss_lst.append(loss_gd)\n",
        "    return w,loss_lst    \n",
        "eta0=0.0001\n",
        "epochs=11\n",
        "w,loss_lst_gd=update_weights_gd(X,y,epochs,eta0)"
      ],
      "execution_count": 52,
      "outputs": []
    },
    {
      "cell_type": "markdown",
      "metadata": {
        "id": "UlTLXrvmlR26"
      },
      "source": [
        "<font color='blue'>Plot between epochs and loss</font>"
      ]
    },
    {
      "cell_type": "code",
      "metadata": {
        "id": "CjTCVUIoGhTo",
        "colab": {
          "base_uri": "https://localhost:8080/",
          "height": 295
        },
        "outputId": "11cb0aa3-b17a-46a2-9c2a-6fc72da42683"
      },
      "source": [
        "import matplotlib.pyplot as plt\n",
        "import numpy as np\n",
        "#rememeber while plotting keep for both elements same for  x,y\n",
        "epoch=[i for i in range(1,11,1)]\n",
        "plt.plot(epoch,loss_lst_gd,label=\"Loss\")\n",
        "plt.legend()\n",
        "plt.xlabel(\"epoch\")\n",
        "plt.ylabel(\"loss\")\n",
        "plt.title(\"SGD - epoch vs loss\")\n",
        "plt.show()"
      ],
      "execution_count": 53,
      "outputs": [
        {
          "output_type": "display_data",
          "data": {
            "image/png": "[encoded data removed]",
            "text/plain": [
              "<Figure size 432x288 with 1 Axes>"
            ]
          },
          "metadata": {
            "needs_background": "light"
          }
        }
      ]
    },
    {
      "cell_type": "markdown",
      "metadata": {
        "id": "cv_hZFWalS2z"
      },
      "source": [
        "###<font color='blue'>Algorithm with Momentum update of weights</font>"
      ]
    },
    {
      "cell_type": "code",
      "metadata": {
        "id": "uucCdyQrGhZt"
      },
      "source": [
        "from sklearn.metrics import mean_squared_error as MSE\n",
        "def update_weights_gd(x,y,epochs,eta0,gamma):\n",
        "    w=np.random.normal(loc=0, scale=0.01, size=9)\n",
        "    v=np.zeros(9)*0.1\n",
        "    N=len(x)\n",
        "    loss_lst=[]\n",
        "    for e in range(1,epochs):\n",
        "        grad_dw = np.zeros_like(9)\n",
        "        for i in range(N):\n",
        "            d1=forward_propagation(X[i],y[i],w)\n",
        "            d2=backward_propagation(X[i],w,d1)\n",
        "            for l in range(9):\n",
        "                g_i = d2[\"dw\" + str(l+1)] - (gamma*v[l])\n",
        "                v[l] = (gamma * v[l]) + (eta0*g_i)\n",
        "                w[l] = w[l] - v[l]\n",
        "        pred = predic(w,X)\n",
        "        loss_gd = MSE(y,pred)\n",
        "        loss_lst.append(loss_gd)\n",
        "    return w,loss_lst\n",
        "eta0=0.0001\n",
        "epochs=11\n",
        "gamma=0.9\n",
        "w,loss_lst_mom=update_weights_gd(X,y,epochs,eta0,gamma)"
      ],
      "execution_count": 57,
      "outputs": []
    },
    {
      "cell_type": "markdown",
      "metadata": {
        "id": "Ow20azfKlVhn"
      },
      "source": [
        "<font color='blue'>Plot between epochs and loss</font>"
      ]
    },
    {
      "cell_type": "code",
      "metadata": {
        "id": "u-m90Sq_Ghce",
        "colab": {
          "base_uri": "https://localhost:8080/",
          "height": 295
        },
        "outputId": "2c329977-e519-4d9d-b428-a39820151aee"
      },
      "source": [
        "import matplotlib.pyplot as plt\n",
        "plt.plot(range(1,epochs),loss_lst_mom,label=\"Loss\")\n",
        "plt.legend()\n",
        "plt.xlabel(\"epoch\")\n",
        "plt.ylabel(\"loss\")\n",
        "plt.title(\"Momentum - epoch vs loss\")\n",
        "plt.show()"
      ],
      "execution_count": 58,
      "outputs": [
        {
          "output_type": "display_data",
          "data": {
            "image/png": "[encoded data removed]",
            "text/plain": [
              "<Figure size 432x288 with 1 Axes>"
            ]
          },
          "metadata": {
            "needs_background": "light"
          }
        }
      ]
    },
    {
      "cell_type": "markdown",
      "metadata": {
        "id": "V4RWWrZ7lWap"
      },
      "source": [
        "###<font color='blue'>Algorithm with Adam update of weights</font>"
      ]
    },
    {
      "cell_type": "code",
      "metadata": {
        "id": "72rRC8rJGhf5"
      },
      "source": [
        "from sklearn.metrics import mean_squared_error as MSE\n",
        "def update_weights_adam(x,y,epochs,beta1,beta2,alpha,eps,t):\n",
        "    w=np.random.normal(loc=0, scale=0.01, size=9)\n",
        "    N=len(x)\n",
        "    v=np.zeros(9)*0.1\n",
        "    m=np.zeros(9)*0.1\n",
        "    loss_lst=[]\n",
        "    for e in range(1,epochs):\n",
        "        grad_dw = np.zeros_like(9)\n",
        "        for i in range(N):\n",
        "            d1=forward_propagation(X[i],y[i],w)\n",
        "            d2=backward_propagation(X[i],w,d1)\n",
        "            for l in range(9):\n",
        "                m[l] = (beta1 * m[l]) + (1-beta1)*d2[\"dw\" + str(l+1)]\n",
        "                v[l] = (beta2 * v[l]) + (1-beta2)*(d2[\"dw\" + str(l+1)]**2)\n",
        "                m_hat = m[l]/(1-beta1)**t\n",
        "                v_hat = v[l]/(1-beta2)**t\n",
        "                w[l] = w[l] - (alpha*m_hat)/(np.sqrt(v_hat)+eps)\n",
        "        pred = predic(w,X)\n",
        "        loss_gd = MSE(y,pred)\n",
        "        loss_lst.append(loss_gd)\n",
        "    return w,loss_lst\n",
        "\n",
        "alpha=0.001\n",
        "epochs=11\n",
        "beta1=0.9\n",
        "beta2=0.99\n",
        "eps=0.0001\n",
        "t=2\n",
        "w,loss_lst_adam=update_weights_adam(X,y,epochs,beta1,beta2,alpha,eps,t)"
      ],
      "execution_count": 60,
      "outputs": []
    },
    {
      "cell_type": "markdown",
      "metadata": {
        "id": "MMy0nBw-lXml"
      },
      "source": [
        "<font color='blue'>Plot between epochs and loss</font>"
      ]
    },
    {
      "cell_type": "code",
      "metadata": {
        "id": "aiFRk_uFlm2V",
        "colab": {
          "base_uri": "https://localhost:8080/",
          "height": 295
        },
        "outputId": "1589abd5-0e57-4df1-b7dd-c4baefcf44ea"
      },
      "source": [
        "import matplotlib.pyplot as plt\n",
        "plt.plot(range(1,epochs),loss_lst_adam,label=\"Loss\")\n",
        "plt.legend()\n",
        "plt.xlabel(\"epoch\")\n",
        "plt.ylabel(\"loss\")\n",
        "plt.title(\"Adam - epoch vs loss\")\n",
        "plt.show()"
      ],
      "execution_count": 61,
      "outputs": [
        {
          "output_type": "display_data",
          "data": {
            "image/png": "[encoded data removed]",
            "text/plain": [
              "<Figure size 432x288 with 1 Axes>"
            ]
          },
          "metadata": {
            "needs_background": "light"
          }
        }
      ]
    },
    {
      "cell_type": "markdown",
      "metadata": {
        "id": "7627cy8YlnYO"
      },
      "source": [
        "<font color='blue'>Comparision plot between epochs and loss with different optimizers</font>"
      ]
    },
    {
      "cell_type": "code",
      "metadata": {
        "id": "scleSfIXl_bC",
        "colab": {
          "base_uri": "https://localhost:8080/",
          "height": 295
        },
        "outputId": "44d86bfb-18ad-472d-9291-085090126dc8"
      },
      "source": [
        "import matplotlib.pyplot as plt\n",
        "plt.plot(range(1,epochs),loss_lst_gd,label=\"gd_Loss\")\n",
        "plt.plot(range(1,epochs),loss_lst_mom,label=\"mom_Loss\")\n",
        "plt.plot(range(1,epochs),loss_lst_adam,label=\"adam_Loss\")\n",
        "plt.legend()\n",
        "plt.xlabel(\"epoch\")\n",
        "plt.ylabel(\"loss\")\n",
        "plt.title(\"Comparision - epoch vs loss\")\n",
        "plt.show()"
      ],
      "execution_count": 62,
      "outputs": [
        {
          "output_type": "display_data",
          "data": {
            "image/png": "[encoded data removed]",
            "text/plain": [
              "<Figure size 432x288 with 1 Axes>"
            ]
          },
          "metadata": {
            "needs_background": "light"
          }
        }
      ]
    },
    {
      "cell_type": "code",
      "metadata": {
        "id": "lfXSaOP8rjBY"
      },
      "source": [
        "conclusion from  above tasks:\n",
        "1.for Gradient Optimizer loss decreases slowly, since convergence is slow here.\n",
        "2.for Gradient ,Momentum Optimizer decrease of loss after epoch 4 is slow but it is comparitively better than gradient Optimizer. \n",
        "3.for AdamOptimizer decrease of loss is very fast and convergence is also really fast."
      ],
      "execution_count": null,
      "outputs": []
    }
  ]
}