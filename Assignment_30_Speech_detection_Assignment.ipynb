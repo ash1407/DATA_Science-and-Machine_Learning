{
  "metadata": {
    "kernelspec": {
      "language": "python",
      "display_name": "Python 3",
      "name": "python3"
    },
    "language_info": {
      "name": "python",
      "version": "3.7.12",
      "mimetype": "text/x-python",
      "codemirror_mode": {
        "name": "ipython",
        "version": 3
      },
      "pygments_lexer": "ipython3",
      "nbconvert_exporter": "python",
      "file_extension": ".py"
    },
    "colab": {
      "name": "notebook383c8bfda5.ipynb",
      "provenance": []
    }
  },
  "nbformat_minor": 0,
  "nbformat": 4,
  "cells": [
    {
      "cell_type": "markdown",
      "source": [
        "# <font color='red'> Spoken Digit Recognition</font>"
      ],
      "metadata": {
        "id": "ZwoTWIysaNmc"
      }
    },
    {
      "cell_type": "markdown",
      "source": [
        "\n",
        "In this notebook, You will do Spoken Digit Recognition. \n",
        "\n",
        "Input - speech signal, output - digit number\n",
        "\n",
        "\n",
        "\n",
        "It contains  \n",
        "\n",
        "1. Reading the dataset. and Preprocess the data set. Detailed instrctions are given below. You have to write the code in the same cell which contains the instrction. \n",
        "2. Training the LSTM with RAW data\n",
        "3. Converting to spectrogram and Training the LSTM network\n",
        "4. Creating the augmented data and doing step 2 and 3 again.  \n",
        "\n",
        "<font size=5>Instructions:</font>\n",
        "\n",
        "    1. Don't change any Grader Functions. Don't manipulate any Grader functions. If you manipulate any, it will be considered as plagiarised. \n",
        "    \n",
        "    2. Please read the instructions on the code cells and markdown cells. We will explain what to write. \n",
        "    \n",
        "    3. Please return outputs in the same format what we asked. Eg. Don't return List of we are asking for a numpy array.\n",
        "    \n",
        "    4. Please read the external links that we are given so that you will learn the concept behind the code that you are writing.\n",
        "    \n",
        "    5. We are giving instructions at each section if necessary, please follow them. \n",
        "\n",
        "<font size=5>Every Grader function has to return True. </font>\n",
        "\n"
      ],
      "metadata": {
        "id": "rPO3mjDDaNmf"
      }
    },
    {
      "cell_type": "code",
      "source": [
        "from google.colab import drive\n",
        "drive.mount('/content/drive')"
      ],
      "metadata": {
        "id": "EQWnqwrViEI8"
      },
      "execution_count": null,
      "outputs": []
    },
    {
      "cell_type": "code",
      "source": [
        "!gdown --id  17YGQheavMbM6aeHYjUcGssXfb7eQHo1z"
      ],
      "metadata": {
        "id": "3DSsRGIYi3hT",
        "execution": {
          "iopub.status.busy": "2022-05-19T17:29:18.393128Z",
          "iopub.execute_input": "2022-05-19T17:29:18.393782Z",
          "iopub.status.idle": "2022-05-19T17:29:19.140121Z",
          "shell.execute_reply.started": "2022-05-19T17:29:18.393741Z",
          "shell.execute_reply": "2022-05-19T17:29:19.139096Z"
        },
        "trusted": true
      },
      "execution_count": null,
      "outputs": []
    },
    {
      "cell_type": "code",
      "source": [
        "import numpy as np\n",
        "import pandas as pd\n",
        "import librosa\n",
        "import os\n",
        "##if you need any imports you can do that here. "
      ],
      "metadata": {
        "id": "_qGuPcj-aNmh",
        "execution": {
          "iopub.status.busy": "2022-05-19T19:31:14.409008Z",
          "iopub.execute_input": "2022-05-19T19:31:14.409344Z",
          "iopub.status.idle": "2022-05-19T19:31:16.597555Z",
          "shell.execute_reply.started": "2022-05-19T19:31:14.409265Z",
          "shell.execute_reply": "2022-05-19T19:31:16.596749Z"
        },
        "trusted": true
      },
      "execution_count": null,
      "outputs": []
    },
    {
      "cell_type": "markdown",
      "source": [
        "We shared recordings.zip, please unzip those. "
      ],
      "metadata": {
        "id": "PdhFzGK1aNmo"
      }
    },
    {
      "cell_type": "code",
      "source": [
        "#read the all file names in the recordings folder given by us\n",
        "#(if you get entire path, it is very useful in future)\n",
        "#save those files names as list in \"all_files\"\n"
      ],
      "metadata": {
        "id": "HDBcl_PUaNmp",
        "execution": {
          "iopub.status.busy": "2022-05-19T19:31:16.600081Z",
          "iopub.execute_input": "2022-05-19T19:31:16.600506Z",
          "iopub.status.idle": "2022-05-19T19:31:16.604809Z",
          "shell.execute_reply.started": "2022-05-19T19:31:16.600466Z",
          "shell.execute_reply": "2022-05-19T19:31:16.603891Z"
        },
        "trusted": true
      },
      "execution_count": null,
      "outputs": []
    },
    {
      "cell_type": "code",
      "source": [
        "\n",
        "!unzip -qn  \"../input/spokenndigit/recordings\" \n"
      ],
      "metadata": {
        "id": "sum2ptFAqZUP",
        "execution": {
          "iopub.status.busy": "2022-05-19T19:31:16.606177Z",
          "iopub.execute_input": "2022-05-19T19:31:16.606423Z",
          "iopub.status.idle": "2022-05-19T19:31:17.429731Z",
          "shell.execute_reply.started": "2022-05-19T19:31:16.606388Z",
          "shell.execute_reply": "2022-05-19T19:31:17.428773Z"
        },
        "trusted": true,
        "outputId": "00e6710e-722f-4ba1-a5ec-4dda3ea45f71"
      },
      "execution_count": null,
      "outputs": [
        {
          "name": "stdout",
          "text": "unzip:  cannot find or open ../input/spokenndigit/recordings, ../input/spokenndigit/recordings.zip or ../input/spokenndigit/recordings.ZIP.\n",
          "output_type": "stream"
        }
      ]
    },
    {
      "cell_type": "code",
      "source": [
        "import os\n",
        "files=os.listdir('../input/spokenndigit/recordings')\n",
        "all_files=[]\n",
        "for f in files:\n",
        "  name=str(f)\n",
        "  all_files.append(name)"
      ],
      "metadata": {
        "id": "YkrCdhRXq_H6",
        "execution": {
          "iopub.status.busy": "2022-05-19T19:58:43.800183Z",
          "iopub.execute_input": "2022-05-19T19:58:43.800450Z",
          "iopub.status.idle": "2022-05-19T19:58:43.938138Z",
          "shell.execute_reply.started": "2022-05-19T19:58:43.800413Z",
          "shell.execute_reply": "2022-05-19T19:58:43.937443Z"
        },
        "trusted": true
      },
      "execution_count": null,
      "outputs": []
    },
    {
      "cell_type": "code",
      "source": [
        "len(all_files)"
      ],
      "metadata": {
        "id": "CsYR4iixq_O1",
        "outputId": "4927fc22-9b6b-403b-97d4-4bcedc852c6d",
        "execution": {
          "iopub.status.busy": "2022-05-19T19:31:17.737527Z",
          "iopub.execute_input": "2022-05-19T19:31:17.737812Z",
          "iopub.status.idle": "2022-05-19T19:31:17.749063Z",
          "shell.execute_reply.started": "2022-05-19T19:31:17.737777Z",
          "shell.execute_reply": "2022-05-19T19:31:17.748255Z"
        },
        "trusted": true
      },
      "execution_count": null,
      "outputs": [
        {
          "execution_count": 5,
          "output_type": "execute_result",
          "data": {
            "text/plain": "2000"
          },
          "metadata": {}
        }
      ]
    },
    {
      "cell_type": "markdown",
      "source": [
        "<font size=4>Grader function 1 </font>"
      ],
      "metadata": {
        "id": "8NYYpfqoaNmv"
      }
    },
    {
      "cell_type": "code",
      "source": [
        "def grader_files():\n",
        "    temp = len(all_files)==2000\n",
        "    temp1 = all([x[-3:]==\"wav\" for x in all_files])\n",
        "    temp = temp and temp1\n",
        "    return temp\n",
        "grader_files()"
      ],
      "metadata": {
        "id": "2oJSOmYBaNmx",
        "outputId": "4baf2af2-1b95-4f29-f0a9-38fc28fb9c0d",
        "execution": {
          "iopub.status.busy": "2022-05-19T19:58:57.136990Z",
          "iopub.execute_input": "2022-05-19T19:58:57.137253Z",
          "iopub.status.idle": "2022-05-19T19:58:57.145754Z",
          "shell.execute_reply.started": "2022-05-19T19:58:57.137222Z",
          "shell.execute_reply": "2022-05-19T19:58:57.145078Z"
        },
        "trusted": true
      },
      "execution_count": null,
      "outputs": [
        {
          "execution_count": 3,
          "output_type": "execute_result",
          "data": {
            "text/plain": "True"
          },
          "metadata": {}
        }
      ]
    },
    {
      "cell_type": "markdown",
      "source": [
        "Create a dataframe(name=df_audio) with two columns(path, label).   \n",
        "You can get the label from the first letter of name.  \n",
        "Eg: 0_jackson_0 --> 0  \n",
        "0_jackson_43 --> 0"
      ],
      "metadata": {
        "id": "MhvSIN6raNm3"
      }
    },
    {
      "cell_type": "code",
      "source": [
        "label=[]\n",
        "for i in range(2000):\n",
        "  label.append(int(all_files[i].split('_')[0]))"
      ],
      "metadata": {
        "id": "hhEz1xk9rU-K",
        "execution": {
          "iopub.status.busy": "2022-05-19T19:59:16.484441Z",
          "iopub.execute_input": "2022-05-19T19:59:16.485151Z",
          "iopub.status.idle": "2022-05-19T19:59:16.491752Z",
          "shell.execute_reply.started": "2022-05-19T19:59:16.485113Z",
          "shell.execute_reply": "2022-05-19T19:59:16.490404Z"
        },
        "trusted": true
      },
      "execution_count": null,
      "outputs": []
    },
    {
      "cell_type": "code",
      "source": [
        "import pandas as pd\n",
        "df_audio=pd.DataFrame()\n",
        "df_audio['path']=all_files\n",
        "df_audio['label']=label"
      ],
      "metadata": {
        "id": "YJjdq03hrbSA",
        "execution": {
          "iopub.status.busy": "2022-05-19T19:59:23.404855Z",
          "iopub.execute_input": "2022-05-19T19:59:23.405113Z",
          "iopub.status.idle": "2022-05-19T19:59:23.426708Z",
          "shell.execute_reply.started": "2022-05-19T19:59:23.405083Z",
          "shell.execute_reply": "2022-05-19T19:59:23.425978Z"
        },
        "trusted": true
      },
      "execution_count": null,
      "outputs": []
    },
    {
      "cell_type": "code",
      "source": [
        "#info\n",
        "df_audio.info()"
      ],
      "metadata": {
        "id": "KGkOCDvcrdmA",
        "outputId": "83405229-a072-4dd9-dff5-2bad0dfc585a",
        "execution": {
          "iopub.status.busy": "2022-05-19T19:59:26.975715Z",
          "iopub.execute_input": "2022-05-19T19:59:26.976304Z",
          "iopub.status.idle": "2022-05-19T19:59:26.997323Z",
          "shell.execute_reply.started": "2022-05-19T19:59:26.976267Z",
          "shell.execute_reply": "2022-05-19T19:59:26.996609Z"
        },
        "trusted": true
      },
      "execution_count": null,
      "outputs": [
        {
          "name": "stdout",
          "text": "<class 'pandas.core.frame.DataFrame'>\nRangeIndex: 2000 entries, 0 to 1999\nData columns (total 2 columns):\n #   Column  Non-Null Count  Dtype \n---  ------  --------------  ----- \n 0   path    2000 non-null   object\n 1   label   2000 non-null   int64 \ndtypes: int64(1), object(1)\nmemory usage: 31.4+ KB\n",
          "output_type": "stream"
        }
      ]
    },
    {
      "cell_type": "markdown",
      "source": [
        "## Exploring the sound dataset"
      ],
      "metadata": {
        "id": "LZbhCvvRPPMw"
      }
    },
    {
      "cell_type": "code",
      "source": [
        "#It is a good programming practise to explore the dataset that you are dealing with. This dataset is unique in itself because it has sounds as input\n",
        "#https://colab.research.google.com/github/Tyler-Hilbert/AudioProcessingInPythonWorkshop/blob/master/AudioProcessingInPython.ipynb\n",
        "#visualize the data and write code to play 2-3 sound samples in the notebook for better understanding.\n",
        "#please go through the following reference video https://www.youtube.com/watch?v=37zCgCdV468"
      ],
      "metadata": {
        "id": "ilJsqdhhPMed",
        "execution": {
          "iopub.status.busy": "2022-05-19T19:31:17.827907Z",
          "iopub.execute_input": "2022-05-19T19:31:17.828887Z",
          "iopub.status.idle": "2022-05-19T19:31:17.834127Z",
          "shell.execute_reply.started": "2022-05-19T19:31:17.828846Z",
          "shell.execute_reply": "2022-05-19T19:31:17.833088Z"
        },
        "trusted": true
      },
      "execution_count": null,
      "outputs": []
    },
    {
      "cell_type": "code",
      "source": [
        ""
      ],
      "metadata": {
        "id": "bX_umjikPy5Y"
      },
      "execution_count": null,
      "outputs": []
    },
    {
      "cell_type": "code",
      "source": [
        ""
      ],
      "metadata": {
        "id": "7Wx5tOjSPX2Y"
      },
      "execution_count": null,
      "outputs": []
    },
    {
      "cell_type": "markdown",
      "source": [
        "## Creating dataframe"
      ],
      "metadata": {
        "id": "AA0nAtjbQLmu"
      }
    },
    {
      "cell_type": "code",
      "source": [
        "#Create a dataframe(name=df_audio) with two columns(path, label).   \n",
        "#You can get the label from the first letter of name.  \n",
        "#Eg: 0_jackson_0 --> 0  \n",
        "#0_jackson_43 --> 0\n"
      ],
      "metadata": {
        "id": "fWP6vXBeaNm3",
        "execution": {
          "iopub.status.busy": "2022-05-19T19:31:17.835845Z",
          "iopub.execute_input": "2022-05-19T19:31:17.836225Z",
          "iopub.status.idle": "2022-05-19T19:31:17.845068Z",
          "shell.execute_reply.started": "2022-05-19T19:31:17.836187Z",
          "shell.execute_reply": "2022-05-19T19:31:17.844221Z"
        },
        "trusted": true
      },
      "execution_count": null,
      "outputs": []
    },
    {
      "cell_type": "code",
      "source": [
        "#info\n",
        "df_audio.info()"
      ],
      "metadata": {
        "id": "5ZpuaGuJaNm8",
        "outputId": "b87f70f9-8355-40c1-ac4d-0ef32ccfe35a",
        "execution": {
          "iopub.status.busy": "2022-05-19T19:31:17.846448Z",
          "iopub.execute_input": "2022-05-19T19:31:17.847184Z",
          "iopub.status.idle": "2022-05-19T19:31:17.863337Z",
          "shell.execute_reply.started": "2022-05-19T19:31:17.847147Z",
          "shell.execute_reply": "2022-05-19T19:31:17.862159Z"
        },
        "trusted": true
      },
      "execution_count": null,
      "outputs": [
        {
          "name": "stdout",
          "text": "<class 'pandas.core.frame.DataFrame'>\nRangeIndex: 2000 entries, 0 to 1999\nData columns (total 2 columns):\n #   Column  Non-Null Count  Dtype \n---  ------  --------------  ----- \n 0   path    2000 non-null   object\n 1   label   2000 non-null   int64 \ndtypes: int64(1), object(1)\nmemory usage: 31.4+ KB\n",
          "output_type": "stream"
        }
      ]
    },
    {
      "cell_type": "markdown",
      "source": [
        "<font size=4>Grader function 2 </font>"
      ],
      "metadata": {
        "id": "VOKpYJ_LaNnD"
      }
    },
    {
      "cell_type": "code",
      "source": [
        "def grader_df():\n",
        "    flag_shape = df_audio.shape==(2000,2)\n",
        "    flag_columns = all(df_audio.columns==['path', 'label'])\n",
        "    list_values = list(df_audio.label.value_counts())\n",
        "    flag_label = len(list_values)==10\n",
        "    flag_label2 = all([i==200 for i in list_values])\n",
        "    final_flag = flag_shape and flag_columns and flag_label and flag_label2\n",
        "    return final_flag\n",
        "grader_df()"
      ],
      "metadata": {
        "id": "7Q8r_T8-aNnE",
        "outputId": "1e3f5f4b-7ae2-4215-e2e6-6b11dc5d3332",
        "execution": {
          "iopub.status.busy": "2022-05-19T19:59:51.084528Z",
          "iopub.execute_input": "2022-05-19T19:59:51.085010Z",
          "iopub.status.idle": "2022-05-19T19:59:51.093105Z",
          "shell.execute_reply.started": "2022-05-19T19:59:51.084970Z",
          "shell.execute_reply": "2022-05-19T19:59:51.092348Z"
        },
        "trusted": true
      },
      "execution_count": null,
      "outputs": [
        {
          "execution_count": 7,
          "output_type": "execute_result",
          "data": {
            "text/plain": "True"
          },
          "metadata": {}
        }
      ]
    },
    {
      "cell_type": "code",
      "source": [
        "from sklearn.utils import shuffle\n",
        "df_audio = shuffle(df_audio, random_state=33)#don't change the random state"
      ],
      "metadata": {
        "id": "PlfssCc3aNnL",
        "execution": {
          "iopub.status.busy": "2022-05-19T19:59:57.305289Z",
          "iopub.execute_input": "2022-05-19T19:59:57.305579Z",
          "iopub.status.idle": "2022-05-19T19:59:57.313962Z",
          "shell.execute_reply.started": "2022-05-19T19:59:57.305545Z",
          "shell.execute_reply": "2022-05-19T19:59:57.313175Z"
        },
        "trusted": true
      },
      "execution_count": null,
      "outputs": []
    },
    {
      "cell_type": "markdown",
      "source": [
        "<pre><font size=4>Train and Validation split</font></pre>"
      ],
      "metadata": {
        "id": "PZ448aENaNnR"
      }
    },
    {
      "cell_type": "code",
      "source": [
        "#split the data into train and validation and save in X_train, X_test, y_train, y_test\n",
        "#use stratify sampling\n",
        "#use random state of 45\n",
        "#use test size of 30%\n",
        "#split the data into train and validation and save in X_train, X_test, y_train, y_test\n",
        "#use stratify sampling\n",
        "#use random state of 45\n",
        "#use test size of 30%\n",
        "# train test split\n",
        "from sklearn.model_selection import train_test_split\n",
        "X_train, X_test, y_train, y_test = train_test_split(df_audio['path'],df_audio['label'], test_size=0.3,\n",
        "stratify=df_audio['label'],random_state=45)"
      ],
      "metadata": {
        "id": "vSPy-Ln6aNnS",
        "execution": {
          "iopub.status.busy": "2022-05-19T20:00:28.452226Z",
          "iopub.execute_input": "2022-05-19T20:00:28.452594Z",
          "iopub.status.idle": "2022-05-19T20:00:28.463368Z",
          "shell.execute_reply.started": "2022-05-19T20:00:28.452556Z",
          "shell.execute_reply": "2022-05-19T20:00:28.462486Z"
        },
        "trusted": true
      },
      "execution_count": null,
      "outputs": []
    },
    {
      "cell_type": "markdown",
      "source": [
        "<font size=4>Grader function 3 </font>"
      ],
      "metadata": {
        "id": "YPK3sbzUaNnW"
      }
    },
    {
      "cell_type": "code",
      "source": [
        "def grader_split():\n",
        "    flag_len = (len(X_train)==1400) and (len(X_test)==600) and (len(y_train)==1400) and (len(y_test)==600)\n",
        "    values_ytrain = list(y_train.value_counts())\n",
        "    flag_ytrain = (len(values_ytrain)==10) and (all([i==140 for i in values_ytrain]))\n",
        "    values_ytest = list(y_test.value_counts())\n",
        "    flag_ytest = (len(values_ytest)==10) and (all([i==60 for i in values_ytest]))\n",
        "    final_flag = flag_len and flag_ytrain and flag_ytest\n",
        "    return final_flag\n",
        "grader_split()"
      ],
      "metadata": {
        "id": "chZzntKUaNnX",
        "outputId": "ad0e95b4-c676-4263-9372-3d7fa8a81265",
        "execution": {
          "iopub.status.busy": "2022-05-19T20:00:32.744000Z",
          "iopub.execute_input": "2022-05-19T20:00:32.744257Z",
          "iopub.status.idle": "2022-05-19T20:00:32.754778Z",
          "shell.execute_reply.started": "2022-05-19T20:00:32.744229Z",
          "shell.execute_reply": "2022-05-19T20:00:32.753910Z"
        },
        "trusted": true
      },
      "execution_count": null,
      "outputs": [
        {
          "execution_count": 10,
          "output_type": "execute_result",
          "data": {
            "text/plain": "True"
          },
          "metadata": {}
        }
      ]
    },
    {
      "cell_type": "markdown",
      "source": [
        "<pre><font size=4>Preprocessing</font>\n",
        "\n",
        "All files are in the \"WAV\" format. We will read those raw data files using the librosa</pre>"
      ],
      "metadata": {
        "id": "LGhh-39vaNnb"
      }
    },
    {
      "cell_type": "code",
      "source": [
        "sample_rate = 22050\n",
        "def load_wav(x, get_duration=True):\n",
        "    '''This return the array values of audio with sampling rate of 22050 and Duration'''\n",
        "    #loading the wav file with sampling rate of 22050\n",
        "    samples, sample_rate = librosa.load(x, sr=22050)\n",
        "    if get_duration:\n",
        "        duration = librosa.get_duration(samples, sample_rate)\n",
        "        return [samples, duration]\n",
        "    else:\n",
        "        return samples"
      ],
      "metadata": {
        "id": "i99JacQSaNnc",
        "execution": {
          "iopub.status.busy": "2022-05-19T20:00:49.913253Z",
          "iopub.execute_input": "2022-05-19T20:00:49.913525Z",
          "iopub.status.idle": "2022-05-19T20:00:49.918832Z",
          "shell.execute_reply.started": "2022-05-19T20:00:49.913474Z",
          "shell.execute_reply": "2022-05-19T20:00:49.918191Z"
        },
        "trusted": true
      },
      "execution_count": null,
      "outputs": []
    },
    {
      "cell_type": "code",
      "source": [
        "#use load_wav function that was written above to get every wave. \n",
        "#save it in X_train_processed and X_test_processed\n",
        "# X_train_processed/X_test_processed should be dataframes with two columns(raw_data, duration) with same index of X_train/y_train\n",
        "import librosa\n",
        "from tqdm import tqdm\n",
        "a1=[]\n",
        "a2=[]\n",
        "b1=[]\n",
        "b2=[]\n",
        "for i in tqdm(range(X_train.shape[0])):\n",
        "  a1.append(load_wav('../input/spokenndigit/recordings/'+X_train.values[i])[0])\n",
        "  a2.append(load_wav('../input/spokenndigit/recordings/'+X_train.values[i])[1])\n",
        "for i in tqdm(range(X_test.shape[0])):\n",
        "  b1.append(load_wav('../input/spokenndigit/recordings/'+X_test.values[i])[0])\n",
        "  b2.append(load_wav('../input/spokenndigit/recordings/'+X_test.values[i])[1])"
      ],
      "metadata": {
        "id": "Rx97f8GGaNnh",
        "outputId": "36f19fc2-680b-49c1-9641-65c7eb3cfdcf",
        "execution": {
          "iopub.status.busy": "2022-05-19T19:31:17.938688Z",
          "iopub.execute_input": "2022-05-19T19:31:17.939786Z"
        },
        "trusted": true
      },
      "execution_count": null,
      "outputs": [
        {
          "name": "stderr",
          "text": "  0%|          | 0/1400 [00:00<?, ?it/s]/opt/conda/lib/python3.7/site-packages/ipykernel_launcher.py:7: FutureWarning: Pass y=[ 1.4801990e-05  1.0912882e-04  1.8360981e-04 ... -1.2996758e-04\n -1.6474516e-04  0.0000000e+00], sr=22050 as keyword args. From version 0.10 passing these as positional arguments will result in an error\n  import sys\n  0%|          | 1/1400 [00:00<18:40,  1.25it/s]/opt/conda/lib/python3.7/site-packages/ipykernel_launcher.py:7: FutureWarning: Pass y=[ 0.0004334   0.00160146  0.00125241 ... -0.02079769 -0.01251514\n  0.        ], sr=22050 as keyword args. From version 0.10 passing these as positional arguments will result in an error\n  import sys\n/opt/conda/lib/python3.7/site-packages/ipykernel_launcher.py:7: FutureWarning: Pass y=[8.1915627e-05 2.4656046e-04 1.9301260e-04 ... 8.1996399e-04 9.6768927e-04\n 0.0000000e+00], sr=22050 as keyword args. From version 0.10 passing these as positional arguments will result in an error\n  import sys\n/opt/conda/lib/python3.7/site-packages/ipykernel_launcher.py:7: FutureWarning: Pass y=[ 0.00034636 -0.00010482 -0.0005768  ...  0.00064287  0.00029415\n  0.        ], sr=22050 as keyword args. From version 0.10 passing these as positional arguments will result in an error\n  import sys\n/opt/conda/lib/python3.7/site-packages/ipykernel_launcher.py:7: FutureWarning: Pass y=[0.00071622 0.00076672 0.00069261 ... 0.00138333 0.00087586 0.        ], sr=22050 as keyword args. From version 0.10 passing these as positional arguments will result in an error\n  import sys\n  0%|          | 5/1400 [00:00<03:17,  7.07it/s]/opt/conda/lib/python3.7/site-packages/ipykernel_launcher.py:7: FutureWarning: Pass y=[-2.1215368e-02 -9.6259648e-03  2.4717825e-03 ... -8.3160252e-05\n -4.4298940e-04  0.0000000e+00], sr=22050 as keyword args. From version 0.10 passing these as positional arguments will result in an error\n  import sys\n/opt/conda/lib/python3.7/site-packages/ipykernel_launcher.py:7: FutureWarning: Pass y=[-0.00857212 -0.01355293 -0.01566704 ... -0.00671739 -0.0038389\n  0.        ], sr=22050 as keyword args. From version 0.10 passing these as positional arguments will result in an error\n  import sys\n/opt/conda/lib/python3.7/site-packages/ipykernel_launcher.py:7: FutureWarning: Pass y=[ 0.00090642  0.00029627 -0.00017514 ... -0.00031076 -0.00034658\n  0.        ], sr=22050 as keyword args. From version 0.10 passing these as positional arguments will result in an error\n  import sys\n/opt/conda/lib/python3.7/site-packages/ipykernel_launcher.py:7: FutureWarning: Pass y=[-2.0702483e-04 -1.1420919e-04  4.2502128e-05 ... -1.3769891e-04\n -1.6022223e-04  0.0000000e+00], sr=22050 as keyword args. From version 0.10 passing these as positional arguments will result in an error\n  import sys\n  1%|          | 9/1400 [00:01<01:48, 12.86it/s]/opt/conda/lib/python3.7/site-packages/ipykernel_launcher.py:7: FutureWarning: Pass y=[-0.00024863 -0.00029509 -0.00026772 ... -0.00051828 -0.00026165\n  0.        ], sr=22050 as keyword args. From version 0.10 passing these as positional arguments will result in an error\n  import sys\n/opt/conda/lib/python3.7/site-packages/ipykernel_launcher.py:7: FutureWarning: Pass y=[ 0.00039698  0.00036578  0.00024075 ... -0.00030284 -0.00011116\n  0.        ], sr=22050 as keyword args. From version 0.10 passing these as positional arguments will result in an error\n  import sys\n/opt/conda/lib/python3.7/site-packages/ipykernel_launcher.py:7: FutureWarning: Pass y=[ 0.00072412 -0.00043902 -0.00437022 ... -0.0063166  -0.00335907\n  0.        ], sr=22050 as keyword args. From version 0.10 passing these as positional arguments will result in an error\n  import sys\n/opt/conda/lib/python3.7/site-packages/ipykernel_launcher.py:7: FutureWarning: Pass y=[-0.00049987 -0.0006236  -0.00059155 ...  0.00011803  0.00010056\n  0.        ], sr=22050 as keyword args. From version 0.10 passing these as positional arguments will result in an error\n  import sys\n/opt/conda/lib/python3.7/site-packages/ipykernel_launcher.py:7: FutureWarning: Pass y=[ 0.0118864   0.01483707  0.01610277 ... -0.01014803 -0.00632309\n  0.        ], sr=22050 as keyword args. From version 0.10 passing these as positional arguments will result in an error\n  import sys\n  1%|          | 14/1400 [00:01<01:10, 19.58it/s]/opt/conda/lib/python3.7/site-packages/ipykernel_launcher.py:7: FutureWarning: Pass y=[-0.00912912 -0.00870886 -0.00356407 ... -0.00798238 -0.00524888\n  0.        ], sr=22050 as keyword args. From version 0.10 passing these as positional arguments will result in an error\n  import sys\n/opt/conda/lib/python3.7/site-packages/ipykernel_launcher.py:7: FutureWarning: Pass y=[-0.00161984  0.000375    0.00166114 ...  0.00096537  0.00066966\n  0.        ], sr=22050 as keyword args. From version 0.10 passing these as positional arguments will result in an error\n  import sys\n/opt/conda/lib/python3.7/site-packages/ipykernel_launcher.py:7: FutureWarning: Pass y=[-0.00028541 -0.00486314 -0.00790274 ... -0.01490183 -0.01345124\n  0.        ], sr=22050 as keyword args. From version 0.10 passing these as positional arguments will result in an error\n  import sys\n/opt/conda/lib/python3.7/site-packages/ipykernel_launcher.py:7: FutureWarning: Pass y=[-0.02441237 -0.0374546  -0.04497262 ... -0.00616833 -0.00669098\n  0.        ], sr=22050 as keyword args. From version 0.10 passing these as positional arguments will result in an error\n  import sys\n  1%|▏         | 18/1400 [00:01<00:58, 23.77it/s]/opt/conda/lib/python3.7/site-packages/ipykernel_launcher.py:7: FutureWarning: Pass y=[-8.9801841e-05  2.0513227e-05  2.3839327e-04 ...  8.9399400e-05\n  8.8773770e-05  0.0000000e+00], sr=22050 as keyword args. From version 0.10 passing these as positional arguments will result in an error\n  import sys\n/opt/conda/lib/python3.7/site-packages/ipykernel_launcher.py:7: FutureWarning: Pass y=[-5.14764542e-05 -9.02143875e-05 -1.71232037e-04 ... -1.12976726e-04\n -3.19580176e-05  0.00000000e+00], sr=22050 as keyword args. From version 0.10 passing these as positional arguments will result in an error\n  import sys\n/opt/conda/lib/python3.7/site-packages/ipykernel_launcher.py:7: FutureWarning: Pass y=[ 0.00551146  0.00166715 -0.00247353 ... -0.0049049  -0.00373905\n  0.        ], sr=22050 as keyword args. From version 0.10 passing these as positional arguments will result in an error\n  import sys\n/opt/conda/lib/python3.7/site-packages/ipykernel_launcher.py:7: FutureWarning: Pass y=[ 0.00137508  0.00397133  0.00269157 ... -0.01529006 -0.01238511\n  0.        ], sr=22050 as keyword args. From version 0.10 passing these as positional arguments will result in an error\n  import sys\n  2%|▏         | 22/1400 [00:01<00:51, 26.80it/s]/opt/conda/lib/python3.7/site-packages/ipykernel_launcher.py:7: FutureWarning: Pass y=[-1.7399634e-05 -5.0572904e-05 -2.4541374e-05 ...  1.5008303e-04\n  1.2477493e-04  0.0000000e+00], sr=22050 as keyword args. From version 0.10 passing these as positional arguments will result in an error\n  import sys\n/opt/conda/lib/python3.7/site-packages/ipykernel_launcher.py:7: FutureWarning: Pass y=[-0.00785741 -0.00419966  0.00313289 ... -0.00779072 -0.00684569\n  0.        ], sr=22050 as keyword args. From version 0.10 passing these as positional arguments will result in an error\n  import sys\n/opt/conda/lib/python3.7/site-packages/ipykernel_launcher.py:7: FutureWarning: Pass y=[ 0.00011043  0.00018038  0.00023114 ... -0.00047356 -0.00028611\n  0.        ], sr=22050 as keyword args. From version 0.10 passing these as positional arguments will result in an error\n  import sys\n/opt/conda/lib/python3.7/site-packages/ipykernel_launcher.py:7: FutureWarning: Pass y=[-0.02370814 -0.0302051  -0.03191616 ... -0.01374275 -0.00943849\n  0.        ], sr=22050 as keyword args. From version 0.10 passing these as positional arguments will result in an error\n  import sys\n  2%|▏         | 26/1400 [00:01<00:46, 29.86it/s]/opt/conda/lib/python3.7/site-packages/ipykernel_launcher.py:7: FutureWarning: Pass y=[-0.00041337 -0.00049048 -0.00044986 ... -0.00027116 -0.00027704\n  0.        ], sr=22050 as keyword args. From version 0.10 passing these as positional arguments will result in an error\n  import sys\n/opt/conda/lib/python3.7/site-packages/ipykernel_launcher.py:7: FutureWarning: Pass y=[-0.00105947 -0.00197405 -0.0007818  ... -0.02069128 -0.01194282\n  0.        ], sr=22050 as keyword args. From version 0.10 passing these as positional arguments will result in an error\n  import sys\n/opt/conda/lib/python3.7/site-packages/ipykernel_launcher.py:7: FutureWarning: Pass y=[-5.3585344e-04  3.2106411e-05  9.3249028e-04 ... -7.2459178e-03\n -2.9253948e-03  0.0000000e+00], sr=22050 as keyword args. From version 0.10 passing these as positional arguments will result in an error\n  import sys\n/opt/conda/lib/python3.7/site-packages/ipykernel_launcher.py:7: FutureWarning: Pass y=[ 0.0044421   0.00507436  0.00501783 ... -0.00502473 -0.00345777\n  0.        ], sr=22050 as keyword args. From version 0.10 passing these as positional arguments will result in an error\n  import sys\n/opt/conda/lib/python3.7/site-packages/ipykernel_launcher.py:7: FutureWarning: Pass y=[-0.00574356 -0.00526388 -0.00218133 ...  0.00552244  0.00454887\n  0.        ], sr=22050 as keyword args. From version 0.10 passing these as positional arguments will result in an error\n  import sys\n  2%|▏         | 31/1400 [00:01<00:42, 32.58it/s]/opt/conda/lib/python3.7/site-packages/ipykernel_launcher.py:7: FutureWarning: Pass y=[-7.0462120e-05 -1.5378121e-04 -2.3074333e-04 ...  8.8978537e-05\n  9.2948743e-05  0.0000000e+00], sr=22050 as keyword args. From version 0.10 passing these as positional arguments will result in an error\n  import sys\n/opt/conda/lib/python3.7/site-packages/ipykernel_launcher.py:7: FutureWarning: Pass y=[-0.00013537 -0.00016245 -0.00013814 ...  0.00031265  0.00020095\n  0.        ], sr=22050 as keyword args. From version 0.10 passing these as positional arguments will result in an error\n  import sys\n/opt/conda/lib/python3.7/site-packages/ipykernel_launcher.py:7: FutureWarning: Pass y=[-4.72408283e-05 -1.59689134e-05 -1.37008865e-05 ... -2.55338004e-04\n -1.62106095e-04  0.00000000e+00], sr=22050 as keyword args. From version 0.10 passing these as positional arguments will result in an error\n  import sys\n/opt/conda/lib/python3.7/site-packages/ipykernel_launcher.py:7: FutureWarning: Pass y=[-2.4189652e-04 -8.0740516e-05  2.2273160e-05 ... -2.7449304e-04\n -1.6650732e-04  0.0000000e+00], sr=22050 as keyword args. From version 0.10 passing these as positional arguments will result in an error\n  import sys\n/opt/conda/lib/python3.7/site-packages/ipykernel_launcher.py:7: FutureWarning: Pass y=[0.00975178 0.01202569 0.0125691  ... 0.00824213 0.00460307 0.        ], sr=22050 as keyword args. From version 0.10 passing these as positional arguments will result in an error\n  import sys\n  3%|▎         | 36/1400 [00:01<00:37, 36.29it/s]/opt/conda/lib/python3.7/site-packages/ipykernel_launcher.py:7: FutureWarning: Pass y=[-0.00629991 -0.0020917   0.00012382 ...  0.00127739  0.00285655\n  0.        ], sr=22050 as keyword args. From version 0.10 passing these as positional arguments will result in an error\n  import sys\n/opt/conda/lib/python3.7/site-packages/ipykernel_launcher.py:7: FutureWarning: Pass y=[-0.00029939 -0.00027813 -0.00017732 ... -0.00117358 -0.00081052\n  0.        ], sr=22050 as keyword args. From version 0.10 passing these as positional arguments will result in an error\n  import sys\n/opt/conda/lib/python3.7/site-packages/ipykernel_launcher.py:7: FutureWarning: Pass y=[ 6.4538646e-04 -6.1825900e-05 -4.4651979e-04 ... -3.0419932e-04\n -2.3238214e-04  0.0000000e+00], sr=22050 as keyword args. From version 0.10 passing these as positional arguments will result in an error\n  import sys\n/opt/conda/lib/python3.7/site-packages/ipykernel_launcher.py:7: FutureWarning: Pass y=[-0.00830145 -0.01397079 -0.01636956 ... -0.0001439   0.00028087\n  0.        ], sr=22050 as keyword args. From version 0.10 passing these as positional arguments will result in an error\n  import sys\n/opt/conda/lib/python3.7/site-packages/ipykernel_launcher.py:7: FutureWarning: Pass y=[-0.00061888 -0.00204226 -0.00459811 ... -0.0094636  -0.00536564\n  0.        ], sr=22050 as keyword args. From version 0.10 passing these as positional arguments will result in an error\n  import sys\n  3%|▎         | 41/1400 [00:01<00:35, 38.01it/s]/opt/conda/lib/python3.7/site-packages/ipykernel_launcher.py:7: FutureWarning: Pass y=[ 0.00909716  0.01102248  0.01150367 ... -0.01067717 -0.00757722\n  0.        ], sr=22050 as keyword args. From version 0.10 passing these as positional arguments will result in an error\n  import sys\n/opt/conda/lib/python3.7/site-packages/ipykernel_launcher.py:7: FutureWarning: Pass y=[-0.0127772  -0.02165227 -0.0241927  ...  0.00949198  0.00502225\n  0.        ], sr=22050 as keyword args. From version 0.10 passing these as positional arguments will result in an error\n  import sys\n/opt/conda/lib/python3.7/site-packages/ipykernel_launcher.py:7: FutureWarning: Pass y=[-0.02073249 -0.0153221  -0.00398084 ...  0.00551595  0.00350916\n  0.        ], sr=22050 as keyword args. From version 0.10 passing these as positional arguments will result in an error\n  import sys\n/opt/conda/lib/python3.7/site-packages/ipykernel_launcher.py:7: FutureWarning: Pass y=[-0.02348601 -0.03191245 -0.03397356 ... -0.00071061 -0.00120652\n  0.        ], sr=22050 as keyword args. From version 0.10 passing these as positional arguments will result in an error\n  import sys\n/opt/conda/lib/python3.7/site-packages/ipykernel_launcher.py:7: FutureWarning: Pass y=[2.5909263e-04 5.7086494e-04 9.6753595e-04 ... 8.9300898e-05 7.3477073e-05\n 0.0000000e+00], sr=22050 as keyword args. From version 0.10 passing these as positional arguments will result in an error\n  import sys\n  3%|▎         | 46/1400 [00:01<00:35, 38.55it/s]/opt/conda/lib/python3.7/site-packages/ipykernel_launcher.py:7: FutureWarning: Pass y=[ 8.3888954e-05 -8.7272174e-06 -6.5585598e-05 ...  2.9985057e-04\n  2.5401838e-04  0.0000000e+00], sr=22050 as keyword args. From version 0.10 passing these as positional arguments will result in an error\n  import sys\n/opt/conda/lib/python3.7/site-packages/ipykernel_launcher.py:7: FutureWarning: Pass y=[-0.00031708 -0.00025395 -0.00012888 ...  0.00056027  0.0003357\n  0.        ], sr=22050 as keyword args. From version 0.10 passing these as positional arguments will result in an error\n  import sys\n/opt/conda/lib/python3.7/site-packages/ipykernel_launcher.py:7: FutureWarning: Pass y=[-1.9468727e-04 -2.6129899e-04 -1.7989555e-04 ...  1.3988842e-04\n  2.5258523e-05  0.0000000e+00], sr=22050 as keyword args. From version 0.10 passing these as positional arguments will result in an error\n  import sys\n/opt/conda/lib/python3.7/site-packages/ipykernel_launcher.py:7: FutureWarning: Pass y=[-0.0111915  -0.00933404 -0.00465981 ...  0.00970241  0.00696927\n  0.        ], sr=22050 as keyword args. From version 0.10 passing these as positional arguments will result in an error\n  import sys\n/opt/conda/lib/python3.7/site-packages/ipykernel_launcher.py:7: FutureWarning: Pass y=[-0.00475813 -0.00305808 -0.00039775 ...  0.00659317  0.00474323\n  0.        ], sr=22050 as keyword args. From version 0.10 passing these as positional arguments will result in an error\n  import sys\n  4%|▎         | 51/1400 [00:02<00:34, 38.68it/s]/opt/conda/lib/python3.7/site-packages/ipykernel_launcher.py:7: FutureWarning: Pass y=[-0.00012118 -0.00011952 -0.00015251 ...  0.00038037  0.00022092\n  0.        ], sr=22050 as keyword args. From version 0.10 passing these as positional arguments will result in an error\n  import sys\n/opt/conda/lib/python3.7/site-packages/ipykernel_launcher.py:7: FutureWarning: Pass y=[ 0.00091985 -0.00016988 -0.00122284 ...  0.00268782  0.00190435\n  0.        ], sr=22050 as keyword args. From version 0.10 passing these as positional arguments will result in an error\n  import sys\n/opt/conda/lib/python3.7/site-packages/ipykernel_launcher.py:7: FutureWarning: Pass y=[-0.03765777 -0.02959969 -0.01187921 ...  0.01041978  0.0064487\n  0.        ], sr=22050 as keyword args. From version 0.10 passing these as positional arguments will result in an error\n  import sys\n/opt/conda/lib/python3.7/site-packages/ipykernel_launcher.py:7: FutureWarning: Pass y=[ 8.5461615e-03  5.5977311e-03 -4.6731166e-05 ...  8.3168531e-03\n  4.6684071e-03  0.0000000e+00], sr=22050 as keyword args. From version 0.10 passing these as positional arguments will result in an error\n  import sys\n/opt/conda/lib/python3.7/site-packages/ipykernel_launcher.py:7: FutureWarning: Pass y=[5.7828773e-05 4.9545455e-05 2.5878353e-05 ... 2.1503949e-04 2.3345064e-04\n 0.0000000e+00], sr=22050 as keyword args. From version 0.10 passing these as positional arguments will result in an error\n  import sys\n  4%|▍         | 56/1400 [00:02<00:33, 40.63it/s]/opt/conda/lib/python3.7/site-packages/ipykernel_launcher.py:7: FutureWarning: Pass y=[-0.01546042 -0.01403756 -0.01000897 ... -0.01470672 -0.01204326\n  0.        ], sr=22050 as keyword args. From version 0.10 passing these as positional arguments will result in an error\n  import sys\n/opt/conda/lib/python3.7/site-packages/ipykernel_launcher.py:7: FutureWarning: Pass y=[-0.01708115 -0.01893142 -0.01072737 ...  0.00722977  0.00372296\n  0.        ], sr=22050 as keyword args. From version 0.10 passing these as positional arguments will result in an error\n  import sys\n/opt/conda/lib/python3.7/site-packages/ipykernel_launcher.py:7: FutureWarning: Pass y=[ 0.01123156  0.01116181  0.00855976 ... -0.00463895 -0.00303568\n  0.        ], sr=22050 as keyword args. From version 0.10 passing these as positional arguments will result in an error\n  import sys\n/opt/conda/lib/python3.7/site-packages/ipykernel_launcher.py:7: FutureWarning: Pass y=[0.00983361 0.00889385 0.0021555  ... 0.01001116 0.00590934 0.        ], sr=22050 as keyword args. From version 0.10 passing these as positional arguments will result in an error\n  import sys\n/opt/conda/lib/python3.7/site-packages/ipykernel_launcher.py:7: FutureWarning: Pass y=[-4.1605770e-05  3.5697019e-05  7.7929915e-05 ...  7.3153133e-05\n  6.4120439e-05  0.0000000e+00], sr=22050 as keyword args. From version 0.10 passing these as positional arguments will result in an error\n  import sys\n  4%|▍         | 61/1400 [00:02<00:34, 38.35it/s]/opt/conda/lib/python3.7/site-packages/ipykernel_launcher.py:7: FutureWarning: Pass y=[-0.00929699 -0.01097792 -0.01101686 ...  0.00917304  0.0052892\n  0.        ], sr=22050 as keyword args. From version 0.10 passing these as positional arguments will result in an error\n  import sys\n/opt/conda/lib/python3.7/site-packages/ipykernel_launcher.py:7: FutureWarning: Pass y=[0.00068669 0.00098951 0.00117002 ... 0.00117632 0.00073853 0.        ], sr=22050 as keyword args. From version 0.10 passing these as positional arguments will result in an error\n  import sys\n/opt/conda/lib/python3.7/site-packages/ipykernel_launcher.py:7: FutureWarning: Pass y=[-0.00809073 -0.00863789 -0.00775991 ... -0.00694935 -0.00571341\n  0.        ], sr=22050 as keyword args. From version 0.10 passing these as positional arguments will result in an error\n  import sys\n/opt/conda/lib/python3.7/site-packages/ipykernel_launcher.py:7: FutureWarning: Pass y=[ 0.00036459  0.00031932  0.00017446 ... -0.00042472 -0.00033886\n  0.        ], sr=22050 as keyword args. From version 0.10 passing these as positional arguments will result in an error\n  import sys\n  5%|▍         | 65/1400 [00:02<00:35, 37.98it/s]/opt/conda/lib/python3.7/site-packages/ipykernel_launcher.py:7: FutureWarning: Pass y=[-0.00739961 -0.01017507 -0.01332822 ... -0.00719128 -0.00570771\n  0.        ], sr=22050 as keyword args. From version 0.10 passing these as positional arguments will result in an error\n  import sys\n/opt/conda/lib/python3.7/site-packages/ipykernel_launcher.py:7: FutureWarning: Pass y=[ 0.01065926  0.01141801  0.00996771 ... -0.01028692 -0.00654683\n  0.        ], sr=22050 as keyword args. From version 0.10 passing these as positional arguments will result in an error\n  import sys\n/opt/conda/lib/python3.7/site-packages/ipykernel_launcher.py:7: FutureWarning: Pass y=[-1.1687490e-05 -9.1512637e-05 -1.0057198e-04 ...  2.8582495e-05\n  8.1022103e-05  0.0000000e+00], sr=22050 as keyword args. From version 0.10 passing these as positional arguments will result in an error\n  import sys\n/opt/conda/lib/python3.7/site-packages/ipykernel_launcher.py:7: FutureWarning: Pass y=[-0.0004011   0.00017035  0.00067701 ... -0.0007557  -0.00039673\n  0.        ], sr=22050 as keyword args. From version 0.10 passing these as positional arguments will result in an error\n  import sys\n/opt/conda/lib/python3.7/site-packages/ipykernel_launcher.py:7: FutureWarning: Pass y=[-0.00018516 -0.0002807  -0.00034726 ...  0.00054573  0.0004164\n  0.        ], sr=22050 as keyword args. From version 0.10 passing these as positional arguments will result in an error\n  import sys\n  5%|▌         | 70/1400 [00:02<00:34, 39.06it/s]/opt/conda/lib/python3.7/site-packages/ipykernel_launcher.py:7: FutureWarning: Pass y=[2.2982003e-04 1.8779071e-04 3.3614495e-05 ... 6.4467516e-05 9.2614107e-05\n 0.0000000e+00], sr=22050 as keyword args. From version 0.10 passing these as positional arguments will result in an error\n  import sys\n/opt/conda/lib/python3.7/site-packages/ipykernel_launcher.py:7: FutureWarning: Pass y=[-0.00842192 -0.01159007 -0.01072421 ... -0.00808989 -0.0052862\n  0.        ], sr=22050 as keyword args. From version 0.10 passing these as positional arguments will result in an error\n  import sys\n/opt/conda/lib/python3.7/site-packages/ipykernel_launcher.py:7: FutureWarning: Pass y=[-0.00655713 -0.00821386 -0.00920375 ... -0.00602748 -0.00338078\n  0.        ], sr=22050 as keyword args. From version 0.10 passing these as positional arguments will result in an error\n  import sys\n/opt/conda/lib/python3.7/site-packages/ipykernel_launcher.py:7: FutureWarning: Pass y=[-1.6688585e-04 -1.8209190e-04 -1.7886976e-04 ...  4.0710143e-05\n  3.9355436e-05  0.0000000e+00], sr=22050 as keyword args. From version 0.10 passing these as positional arguments will result in an error\n  import sys\n  5%|▌         | 74/1400 [00:02<00:33, 39.15it/s]/opt/conda/lib/python3.7/site-packages/ipykernel_launcher.py:7: FutureWarning: Pass y=[-0.00041193 -0.000329   -0.00015681 ...  0.00140373  0.00104721\n  0.        ], sr=22050 as keyword args. From version 0.10 passing these as positional arguments will result in an error\n  import sys\n/opt/conda/lib/python3.7/site-packages/ipykernel_launcher.py:7: FutureWarning: Pass y=[-0.00772918 -0.00731081 -0.0068669  ... -0.00088452 -0.00036167\n  0.        ], sr=22050 as keyword args. From version 0.10 passing these as positional arguments will result in an error\n  import sys\n/opt/conda/lib/python3.7/site-packages/ipykernel_launcher.py:7: FutureWarning: Pass y=[0.00026559 0.00041738 0.00049626 ... 0.00022047 0.00013113 0.        ], sr=22050 as keyword args. From version 0.10 passing these as positional arguments will result in an error\n  import sys\n/opt/conda/lib/python3.7/site-packages/ipykernel_launcher.py:7: FutureWarning: Pass y=[ 0.00040444  0.00012183 -0.00038394 ...  0.00143634  0.00079688\n  0.        ], sr=22050 as keyword args. From version 0.10 passing these as positional arguments will result in an error\n  import sys\n/opt/conda/lib/python3.7/site-packages/ipykernel_launcher.py:7: FutureWarning: Pass y=[-0.0080478  -0.00743176 -0.00662574 ... -0.00084594 -0.00066091\n  0.        ], sr=22050 as keyword args. From version 0.10 passing these as positional arguments will result in an error\n  import sys\n  6%|▌         | 79/1400 [00:02<00:33, 39.93it/s]/opt/conda/lib/python3.7/site-packages/ipykernel_launcher.py:7: FutureWarning: Pass y=[ 0.01208312  0.00964043 -0.00131988 ...  0.00822154  0.00478145\n  0.        ], sr=22050 as keyword args. From version 0.10 passing these as positional arguments will result in an error\n  import sys\n/opt/conda/lib/python3.7/site-packages/ipykernel_launcher.py:7: FutureWarning: Pass y=[-0.00905394 -0.01054217 -0.01043033 ...  0.01151193  0.00753968\n  0.        ], sr=22050 as keyword args. From version 0.10 passing these as positional arguments will result in an error\n  import sys\n/opt/conda/lib/python3.7/site-packages/ipykernel_launcher.py:7: FutureWarning: Pass y=[ 2.7776830e-04  1.9693398e-04  9.4206473e-05 ... -1.7816729e-04\n -5.8589529e-05  0.0000000e+00], sr=22050 as keyword args. From version 0.10 passing these as positional arguments will result in an error\n  import sys\n/opt/conda/lib/python3.7/site-packages/ipykernel_launcher.py:7: FutureWarning: Pass y=[ 0.01010186  0.00019839 -0.01907542 ... -0.00932233 -0.00617164\n  0.        ], sr=22050 as keyword args. From version 0.10 passing these as positional arguments will result in an error\n  import sys\n/opt/conda/lib/python3.7/site-packages/ipykernel_launcher.py:7: FutureWarning: Pass y=[3.4061039e-05 1.8590265e-05 1.9039904e-05 ... 2.2592692e-04 1.3723763e-04\n 0.0000000e+00], sr=22050 as keyword args. From version 0.10 passing these as positional arguments will result in an error\n  import sys\n  6%|▌         | 84/1400 [00:02<00:33, 39.60it/s]/opt/conda/lib/python3.7/site-packages/ipykernel_launcher.py:7: FutureWarning: Pass y=[-0.01629995 -0.01295322 -0.00428665 ...  0.00988413  0.00725074\n  0.        ], sr=22050 as keyword args. From version 0.10 passing these as positional arguments will result in an error\n  import sys\n/opt/conda/lib/python3.7/site-packages/ipykernel_launcher.py:7: FutureWarning: Pass y=[-4.1745367e-05 -3.3140623e-05 -1.9796046e-06 ... -1.6589211e-04\n -4.3107229e-05  0.0000000e+00], sr=22050 as keyword args. From version 0.10 passing these as positional arguments will result in an error\n  import sys\n/opt/conda/lib/python3.7/site-packages/ipykernel_launcher.py:7: FutureWarning: Pass y=[-0.00027079 -0.00028075 -0.00020836 ... -0.00044562 -0.00029593\n  0.        ], sr=22050 as keyword args. From version 0.10 passing these as positional arguments will result in an error\n  import sys\n/opt/conda/lib/python3.7/site-packages/ipykernel_launcher.py:7: FutureWarning: Pass y=[-0.01655325 -0.01904764 -0.01679279 ...  0.00819226  0.00470259\n  0.        ], sr=22050 as keyword args. From version 0.10 passing these as positional arguments will result in an error\n  import sys\n/opt/conda/lib/python3.7/site-packages/ipykernel_launcher.py:7: FutureWarning: Pass y=[-0.00788385 -0.00894179 -0.00845201 ... -0.00774951 -0.00458068\n  0.        ], sr=22050 as keyword args. From version 0.10 passing these as positional arguments will result in an error\n  import sys\n  6%|▋         | 89/1400 [00:03<00:32, 39.97it/s]/opt/conda/lib/python3.7/site-packages/ipykernel_launcher.py:7: FutureWarning: Pass y=[-0.00033142 -0.00037707 -0.00035443 ...  0.00048389  0.00029396\n  0.        ], sr=22050 as keyword args. From version 0.10 passing these as positional arguments will result in an error\n  import sys\n/opt/conda/lib/python3.7/site-packages/ipykernel_launcher.py:7: FutureWarning: Pass y=[-0.00476471 -0.00214833  0.0006192  ...  0.00467989  0.00334421\n  0.        ], sr=22050 as keyword args. From version 0.10 passing these as positional arguments will result in an error\n  import sys\n/opt/conda/lib/python3.7/site-packages/ipykernel_launcher.py:7: FutureWarning: Pass y=[0.00913219 0.01039481 0.00903457 ... 0.00879257 0.00549724 0.        ], sr=22050 as keyword args. From version 0.10 passing these as positional arguments will result in an error\n  import sys\n/opt/conda/lib/python3.7/site-packages/ipykernel_launcher.py:7: FutureWarning: Pass y=[-7.4794237e-04 -8.3240954e-04  1.3026066e-05 ... -7.2490419e-03\n -5.9247236e-03  0.0000000e+00], sr=22050 as keyword args. From version 0.10 passing these as positional arguments will result in an error\n  import sys\n/opt/conda/lib/python3.7/site-packages/ipykernel_launcher.py:7: FutureWarning: Pass y=[-0.01459668 -0.0151473  -0.01521732 ... -0.00023194  0.00077135\n  0.        ], sr=22050 as keyword args. From version 0.10 passing these as positional arguments will result in an error\n  import sys\n  7%|▋         | 94/1400 [00:03<00:33, 38.99it/s]/opt/conda/lib/python3.7/site-packages/ipykernel_launcher.py:7: FutureWarning: Pass y=[-0.00883067 -0.00991247 -0.00838392 ...  0.00152179  0.00366946\n  0.        ], sr=22050 as keyword args. From version 0.10 passing these as positional arguments will result in an error\n  import sys\n/opt/conda/lib/python3.7/site-packages/ipykernel_launcher.py:7: FutureWarning: Pass y=[-0.00043578 -0.00030235  0.00014428 ...  0.00036472  0.00014418\n  0.        ], sr=22050 as keyword args. From version 0.10 passing these as positional arguments will result in an error\n  import sys\n/opt/conda/lib/python3.7/site-packages/ipykernel_launcher.py:7: FutureWarning: Pass y=[-0.006236   -0.00743173 -0.00879041 ... -0.00097897  0.00110092\n  0.        ], sr=22050 as keyword args. From version 0.10 passing these as positional arguments will result in an error\n  import sys\n/opt/conda/lib/python3.7/site-packages/ipykernel_launcher.py:7: FutureWarning: Pass y=[-0.00070646 -0.00067943  0.00011461 ...  0.00132207  0.00161834\n  0.        ], sr=22050 as keyword args. From version 0.10 passing these as positional arguments will result in an error\n  import sys\n/opt/conda/lib/python3.7/site-packages/ipykernel_launcher.py:7: FutureWarning: Pass y=[0.00012589 0.00051234 0.00039108 ... 0.00027601 0.00027978 0.        ], sr=22050 as keyword args. From version 0.10 passing these as positional arguments will result in an error\n  import sys\n  7%|▋         | 99/1400 [00:03<00:32, 40.38it/s]/opt/conda/lib/python3.7/site-packages/ipykernel_launcher.py:7: FutureWarning: Pass y=[ 0.00013926  0.00315052  0.00637324 ... -0.00655118 -0.00378515\n  0.        ], sr=22050 as keyword args. From version 0.10 passing these as positional arguments will result in an error\n  import sys\n/opt/conda/lib/python3.7/site-packages/ipykernel_launcher.py:7: FutureWarning: Pass y=[-0.01806572 -0.02294626 -0.02117176 ...  0.00824381  0.00418715\n  0.        ], sr=22050 as keyword args. From version 0.10 passing these as positional arguments will result in an error\n  import sys\n/opt/conda/lib/python3.7/site-packages/ipykernel_launcher.py:7: FutureWarning: Pass y=[0.00095354 0.0010334  0.0012559  ... 0.00051248 0.00035842 0.        ], sr=22050 as keyword args. From version 0.10 passing these as positional arguments will result in an error\n  import sys\n/opt/conda/lib/python3.7/site-packages/ipykernel_launcher.py:7: FutureWarning: Pass y=[-0.02140912 -0.01595176 -0.00346013 ...  0.0076997   0.00381435\n  0.        ], sr=22050 as keyword args. From version 0.10 passing these as positional arguments will result in an error\n  import sys\n/opt/conda/lib/python3.7/site-packages/ipykernel_launcher.py:7: FutureWarning: Pass y=[-0.01438814 -0.01339607 -0.01074238 ... -0.00768543 -0.00679008\n  0.        ], sr=22050 as keyword args. From version 0.10 passing these as positional arguments will result in an error\n  import sys\n  7%|▋         | 104/1400 [00:03<00:32, 39.86it/s]/opt/conda/lib/python3.7/site-packages/ipykernel_launcher.py:7: FutureWarning: Pass y=[-0.0046134  -0.0021856   0.0001971  ... -0.00476791 -0.00328333\n  0.        ], sr=22050 as keyword args. From version 0.10 passing these as positional arguments will result in an error\n  import sys\n/opt/conda/lib/python3.7/site-packages/ipykernel_launcher.py:7: FutureWarning: Pass y=[ 0.00133032  0.00373502  0.00250509 ... -0.01482    -0.00939099\n  0.        ], sr=22050 as keyword args. From version 0.10 passing these as positional arguments will result in an error\n  import sys\n/opt/conda/lib/python3.7/site-packages/ipykernel_launcher.py:7: FutureWarning: Pass y=[-0.00133922 -0.00153088 -0.00149562 ...  0.00091515  0.00050001\n  0.        ], sr=22050 as keyword args. From version 0.10 passing these as positional arguments will result in an error\n  import sys\n/opt/conda/lib/python3.7/site-packages/ipykernel_launcher.py:7: FutureWarning: Pass y=[ 0.00082664 -0.00170933 -0.00588215 ...  0.00099696 -0.00142082\n  0.        ], sr=22050 as keyword args. From version 0.10 passing these as positional arguments will result in an error\n  import sys\n/opt/conda/lib/python3.7/site-packages/ipykernel_launcher.py:7: FutureWarning: Pass y=[-1.9592171e-05  1.8857954e-05  3.4384011e-05 ... -6.5216816e-05\n -5.9851609e-05  0.0000000e+00], sr=22050 as keyword args. From version 0.10 passing these as positional arguments will result in an error\n  import sys\n  8%|▊         | 109/1400 [00:03<00:32, 39.84it/s]/opt/conda/lib/python3.7/site-packages/ipykernel_launcher.py:7: FutureWarning: Pass y=[ 1.0814996e-03  7.3211850e-06 -7.7646383e-04 ...  3.7285936e-04\n  2.5724788e-04  0.0000000e+00], sr=22050 as keyword args. From version 0.10 passing these as positional arguments will result in an error\n  import sys\n/opt/conda/lib/python3.7/site-packages/ipykernel_launcher.py:7: FutureWarning: Pass y=[2.3828172e-04 2.7024120e-04 2.4017568e-04 ... 2.1449952e-04 9.4478753e-05\n 0.0000000e+00], sr=22050 as keyword args. From version 0.10 passing these as positional arguments will result in an error\n  import sys\n/opt/conda/lib/python3.7/site-packages/ipykernel_launcher.py:7: FutureWarning: Pass y=[-1.2326427e-04 -1.5044842e-04 -9.4460236e-05 ...  7.5377943e-04\n  4.4095507e-04  0.0000000e+00], sr=22050 as keyword args. From version 0.10 passing these as positional arguments will result in an error\n  import sys\n/opt/conda/lib/python3.7/site-packages/ipykernel_launcher.py:7: FutureWarning: Pass y=[-0.00097771 -0.00117412 -0.00126085 ...  0.0002429   0.00013942\n  0.        ], sr=22050 as keyword args. From version 0.10 passing these as positional arguments will result in an error\n  import sys\n/opt/conda/lib/python3.7/site-packages/ipykernel_launcher.py:7: FutureWarning: Pass y=[-0.03143739 -0.01758987  0.00573059 ... -0.00708738 -0.00351985\n  0.        ], sr=22050 as keyword args. From version 0.10 passing these as positional arguments will result in an error\n  import sys\n  8%|▊         | 114/1400 [00:03<00:32, 39.61it/s]/opt/conda/lib/python3.7/site-packages/ipykernel_launcher.py:7: FutureWarning: Pass y=[-0.02397298 -0.02937053 -0.0276427  ... -0.00932762 -0.00319924\n  0.        ], sr=22050 as keyword args. From version 0.10 passing these as positional arguments will result in an error\n  import sys\n/opt/conda/lib/python3.7/site-packages/ipykernel_launcher.py:7: FutureWarning: Pass y=[-2.9613150e-04 -1.0061800e-04  1.4521914e-04 ... -7.8485660e-05\n -1.1069320e-04  0.0000000e+00], sr=22050 as keyword args. From version 0.10 passing these as positional arguments will result in an error\n  import sys\n/opt/conda/lib/python3.7/site-packages/ipykernel_launcher.py:7: FutureWarning: Pass y=[0.00035473 0.00071749 0.00080521 ... 0.00032561 0.00016228 0.        ], sr=22050 as keyword args. From version 0.10 passing these as positional arguments will result in an error\n  import sys\n/opt/conda/lib/python3.7/site-packages/ipykernel_launcher.py:7: FutureWarning: Pass y=[ 6.6093163e-04  5.8617716e-04 -5.3336615e-05 ...  3.9207668e-04\n -8.3274499e-05  0.0000000e+00], sr=22050 as keyword args. From version 0.10 passing these as positional arguments will result in an error\n  import sys\n  8%|▊         | 118/1400 [00:03<00:32, 39.31it/s]/opt/conda/lib/python3.7/site-packages/ipykernel_launcher.py:7: FutureWarning: Pass y=[-0.00751499 -0.01365615 -0.0170801  ... -0.00801221 -0.00708266\n  0.        ], sr=22050 as keyword args. From version 0.10 passing these as positional arguments will result in an error\n  import sys\n/opt/conda/lib/python3.7/site-packages/ipykernel_launcher.py:7: FutureWarning: Pass y=[-4.7780024e-05 -2.4398734e-05 -9.7133279e-06 ...  4.7874160e-04\n  3.0624875e-04  0.0000000e+00], sr=22050 as keyword args. From version 0.10 passing these as positional arguments will result in an error\n  import sys\n/opt/conda/lib/python3.7/site-packages/ipykernel_launcher.py:7: FutureWarning: Pass y=[ 0.01489398  0.01661554  0.01363257 ... -0.00157627  0.00211615\n  0.        ], sr=22050 as keyword args. From version 0.10 passing these as positional arguments will result in an error\n  import sys\n/opt/conda/lib/python3.7/site-packages/ipykernel_launcher.py:7: FutureWarning: Pass y=[-0.0109838  -0.01151735 -0.0092707  ... -0.00902925 -0.0053032\n  0.        ], sr=22050 as keyword args. From version 0.10 passing these as positional arguments will result in an error\n  import sys\n/opt/conda/lib/python3.7/site-packages/ipykernel_launcher.py:7: FutureWarning: Pass y=[ 0.007682    0.00909828  0.00882496 ... -0.01326216 -0.01042392\n  0.        ], sr=22050 as keyword args. From version 0.10 passing these as positional arguments will result in an error\n  import sys\n  9%|▉         | 123/1400 [00:03<00:31, 41.02it/s]/opt/conda/lib/python3.7/site-packages/ipykernel_launcher.py:7: FutureWarning: Pass y=[0.01020893 0.01230824 0.01279481 ... 0.00852454 0.00453396 0.        ], sr=22050 as keyword args. From version 0.10 passing these as positional arguments will result in an error\n  import sys\n/opt/conda/lib/python3.7/site-packages/ipykernel_launcher.py:7: FutureWarning: Pass y=[-0.00459225 -0.00511933 -0.00432596 ... -0.00365456 -0.00172171\n  0.        ], sr=22050 as keyword args. From version 0.10 passing these as positional arguments will result in an error\n  import sys\n/opt/conda/lib/python3.7/site-packages/ipykernel_launcher.py:7: FutureWarning: Pass y=[-0.00143874 -0.00387247 -0.00549274 ... -0.00798644 -0.00277445\n  0.        ], sr=22050 as keyword args. From version 0.10 passing these as positional arguments will result in an error\n  import sys\n/opt/conda/lib/python3.7/site-packages/ipykernel_launcher.py:7: FutureWarning: Pass y=[2.8541478e-04 2.4202818e-04 1.7001292e-04 ... 7.2423750e-06 4.7957896e-05\n 0.0000000e+00], sr=22050 as keyword args. From version 0.10 passing these as positional arguments will result in an error\n  import sys\n/opt/conda/lib/python3.7/site-packages/ipykernel_launcher.py:7: FutureWarning: Pass y=[-3.3089034e-06  4.6810899e-05  5.8501555e-05 ...  1.0417964e-03\n  8.0626516e-04  0.0000000e+00], sr=22050 as keyword args. From version 0.10 passing these as positional arguments will result in an error\n  import sys\n  9%|▉         | 128/1400 [00:04<00:33, 37.91it/s]/opt/conda/lib/python3.7/site-packages/ipykernel_launcher.py:7: FutureWarning: Pass y=[7.7763325e-05 1.5435999e-04 2.8238553e-04 ... 1.8770648e-04 1.1551318e-04\n 0.0000000e+00], sr=22050 as keyword args. From version 0.10 passing these as positional arguments will result in an error\n  import sys\n/opt/conda/lib/python3.7/site-packages/ipykernel_launcher.py:7: FutureWarning: Pass y=[ 0.01019936  0.01269517  0.01376142 ... -0.00960319 -0.00612449\n  0.        ], sr=22050 as keyword args. From version 0.10 passing these as positional arguments will result in an error\n  import sys\n/opt/conda/lib/python3.7/site-packages/ipykernel_launcher.py:7: FutureWarning: Pass y=[-0.00963888 -0.01121132 -0.01105125 ... -0.00775486 -0.00402074\n  0.        ], sr=22050 as keyword args. From version 0.10 passing these as positional arguments will result in an error\n  import sys\n/opt/conda/lib/python3.7/site-packages/ipykernel_launcher.py:7: FutureWarning: Pass y=[-0.00161574 -0.00051481  0.00108896 ...  0.00095066  0.00061085\n  0.        ], sr=22050 as keyword args. From version 0.10 passing these as positional arguments will result in an error\n  import sys\n  9%|▉         | 132/1400 [00:04<00:33, 37.77it/s]/opt/conda/lib/python3.7/site-packages/ipykernel_launcher.py:7: FutureWarning: Pass y=[ 0.00012855 -0.00011896 -0.00061249 ... -0.00079862 -0.00014855\n  0.        ], sr=22050 as keyword args. From version 0.10 passing these as positional arguments will result in an error\n  import sys\n/opt/conda/lib/python3.7/site-packages/ipykernel_launcher.py:7: FutureWarning: Pass y=[ 0.00056182 -0.00110229 -0.00332908 ... -0.0006524  -0.0004326\n  0.        ], sr=22050 as keyword args. From version 0.10 passing these as positional arguments will result in an error\n  import sys\n/opt/conda/lib/python3.7/site-packages/ipykernel_launcher.py:7: FutureWarning: Pass y=[0.00030517 0.0004057  0.0002945  ... 0.00032441 0.00022221 0.        ], sr=22050 as keyword args. From version 0.10 passing these as positional arguments will result in an error\n  import sys\n/opt/conda/lib/python3.7/site-packages/ipykernel_launcher.py:7: FutureWarning: Pass y=[-8.1112019e-05 -2.5788391e-05  3.2030170e-05 ...  5.6830107e-05\n  9.4421630e-05  0.0000000e+00], sr=22050 as keyword args. From version 0.10 passing these as positional arguments will result in an error\n  import sys\n 10%|▉         | 136/1400 [00:04<00:32, 38.31it/s]/opt/conda/lib/python3.7/site-packages/ipykernel_launcher.py:7: FutureWarning: Pass y=[-0.00022524 -0.00408037 -0.00703367 ... -0.00867764 -0.0061203\n  0.        ], sr=22050 as keyword args. From version 0.10 passing these as positional arguments will result in an error\n  import sys\n/opt/conda/lib/python3.7/site-packages/ipykernel_launcher.py:7: FutureWarning: Pass y=[ 0.00690034  0.00082513 -0.0039759  ...  0.00910608  0.00628488\n  0.        ], sr=22050 as keyword args. From version 0.10 passing these as positional arguments will result in an error\n  import sys\n/opt/conda/lib/python3.7/site-packages/ipykernel_launcher.py:7: FutureWarning: Pass y=[-0.00927738 -0.01464703 -0.01595507 ... -0.01362643 -0.010641\n  0.        ], sr=22050 as keyword args. From version 0.10 passing these as positional arguments will result in an error\n  import sys\n/opt/conda/lib/python3.7/site-packages/ipykernel_launcher.py:7: FutureWarning: Pass y=[ 2.75899511e-05  1.13133625e-04  1.56098729e-04 ... -4.39083815e-04\n -7.31895037e-04  0.00000000e+00], sr=22050 as keyword args. From version 0.10 passing these as positional arguments will result in an error\n  import sys\n/opt/conda/lib/python3.7/site-packages/ipykernel_launcher.py:7: FutureWarning: Pass y=[-0.00492317 -0.00605292 -0.00645221 ...  0.00349442  0.00174001\n  0.        ], sr=22050 as keyword args. From version 0.10 passing these as positional arguments will result in an error\n  import sys\n 10%|█         | 141/1400 [00:04<00:32, 39.12it/s]/opt/conda/lib/python3.7/site-packages/ipykernel_launcher.py:7: FutureWarning: Pass y=[0.00019136 0.00017783 0.00011608 ... 0.00014926 0.00013714 0.        ], sr=22050 as keyword args. From version 0.10 passing these as positional arguments will result in an error\n  import sys\n/opt/conda/lib/python3.7/site-packages/ipykernel_launcher.py:7: FutureWarning: Pass y=[-0.00045602 -0.00055517 -0.00057252 ...  0.00074598  0.00044786\n  0.        ], sr=22050 as keyword args. From version 0.10 passing these as positional arguments will result in an error\n  import sys\n/opt/conda/lib/python3.7/site-packages/ipykernel_launcher.py:7: FutureWarning: Pass y=[ 3.11516160e-05 -1.14893206e-04 -1.26883358e-04 ... -4.12595546e-04\n -3.02167173e-04  0.00000000e+00], sr=22050 as keyword args. From version 0.10 passing these as positional arguments will result in an error\n  import sys\n/opt/conda/lib/python3.7/site-packages/ipykernel_launcher.py:7: FutureWarning: Pass y=[0.00939648 0.01134565 0.01185874 ... 0.00933884 0.00480688 0.        ], sr=22050 as keyword args. From version 0.10 passing these as positional arguments will result in an error\n  import sys\n 10%|█         | 145/1400 [00:04<00:32, 38.68it/s]/opt/conda/lib/python3.7/site-packages/ipykernel_launcher.py:7: FutureWarning: Pass y=[-0.00045976 -0.00068443 -0.00053952 ...  0.00030732  0.00014921\n  0.        ], sr=22050 as keyword args. From version 0.10 passing these as positional arguments will result in an error\n  import sys\n/opt/conda/lib/python3.7/site-packages/ipykernel_launcher.py:7: FutureWarning: Pass y=[-0.00110938 -0.00124049 -0.00123271 ...  0.00135296  0.00085249\n  0.        ], sr=22050 as keyword args. From version 0.10 passing these as positional arguments will result in an error\n  import sys\n/opt/conda/lib/python3.7/site-packages/ipykernel_launcher.py:7: FutureWarning: Pass y=[-0.00034572 -0.00052399 -0.00068333 ...  0.0007624   0.00046084\n  0.        ], sr=22050 as keyword args. From version 0.10 passing these as positional arguments will result in an error\n  import sys\n/opt/conda/lib/python3.7/site-packages/ipykernel_launcher.py:7: FutureWarning: Pass y=[ 1.8809909e-04  1.7255174e-04  1.2570014e-04 ... -1.1905914e-04\n -6.7561145e-05  0.0000000e+00], sr=22050 as keyword args. From version 0.10 passing these as positional arguments will result in an error\n  import sys\n/opt/conda/lib/python3.7/site-packages/ipykernel_launcher.py:7: FutureWarning: Pass y=[-0.00721617 -0.00877718 -0.00902262 ...  0.00046424  0.00275924\n  0.        ], sr=22050 as keyword args. From version 0.10 passing these as positional arguments will result in an error\n  import sys\n 11%|█         | 150/1400 [00:04<00:29, 41.68it/s]/opt/conda/lib/python3.7/site-packages/ipykernel_launcher.py:7: FutureWarning: Pass y=[ 0.00924243  0.00639639  0.00057555 ... -0.00908316 -0.00581362\n  0.        ], sr=22050 as keyword args. From version 0.10 passing these as positional arguments will result in an error\n  import sys\n/opt/conda/lib/python3.7/site-packages/ipykernel_launcher.py:7: FutureWarning: Pass y=[ 1.7845037e-05  1.5119356e-04  2.4892105e-04 ... -1.5669505e-04\n -7.6817036e-05  0.0000000e+00], sr=22050 as keyword args. From version 0.10 passing these as positional arguments will result in an error\n  import sys\n/opt/conda/lib/python3.7/site-packages/ipykernel_launcher.py:7: FutureWarning: Pass y=[-0.00390689 -0.00303454 -0.00203082 ...  0.00424814  0.0021707\n  0.        ], sr=22050 as keyword args. From version 0.10 passing these as positional arguments will result in an error\n  import sys\n/opt/conda/lib/python3.7/site-packages/ipykernel_launcher.py:7: FutureWarning: Pass y=[-0.01143828 -0.01495448 -0.01316751 ...  0.0108822   0.00745807\n  0.        ], sr=22050 as keyword args. From version 0.10 passing these as positional arguments will result in an error\n  import sys\n/opt/conda/lib/python3.7/site-packages/ipykernel_launcher.py:7: FutureWarning: Pass y=[1.4803679e-04 2.4339525e-04 2.9828990e-04 ... 1.8245098e-04 4.2433046e-05\n 0.0000000e+00], sr=22050 as keyword args. From version 0.10 passing these as positional arguments will result in an error\n  import sys\n 11%|█         | 155/1400 [00:04<00:31, 40.14it/s]/opt/conda/lib/python3.7/site-packages/ipykernel_launcher.py:7: FutureWarning: Pass y=[ 0.01473862  0.00238534 -0.01878861 ...  0.00878779  0.00552111\n  0.        ], sr=22050 as keyword args. From version 0.10 passing these as positional arguments will result in an error\n  import sys\n/opt/conda/lib/python3.7/site-packages/ipykernel_launcher.py:7: FutureWarning: Pass y=[-0.00948806 -0.01471067 -0.01578573 ... -0.00640708 -0.00588743\n  0.        ], sr=22050 as keyword args. From version 0.10 passing these as positional arguments will result in an error\n  import sys\n/opt/conda/lib/python3.7/site-packages/ipykernel_launcher.py:7: FutureWarning: Pass y=[3.3366826e-04 5.1420566e-04 6.2851555e-04 ... 9.5195064e-05 1.2488234e-04\n 0.0000000e+00], sr=22050 as keyword args. From version 0.10 passing these as positional arguments will result in an error\n  import sys\n/opt/conda/lib/python3.7/site-packages/ipykernel_launcher.py:7: FutureWarning: Pass y=[-0.0001603  -0.00013706 -0.00011629 ...  0.00026769  0.00012706\n  0.        ], sr=22050 as keyword args. From version 0.10 passing these as positional arguments will result in an error\n  import sys\n/opt/conda/lib/python3.7/site-packages/ipykernel_launcher.py:7: FutureWarning: Pass y=[0.00929861 0.01069443 0.0103869  ... 0.00960173 0.00552398 0.        ], sr=22050 as keyword args. From version 0.10 passing these as positional arguments will result in an error\n  import sys\n 11%|█▏        | 160/1400 [00:04<00:30, 40.35it/s]/opt/conda/lib/python3.7/site-packages/ipykernel_launcher.py:7: FutureWarning: Pass y=[-0.00315649 -0.01038425 -0.01359183 ... -0.00708527 -0.00542501\n  0.        ], sr=22050 as keyword args. From version 0.10 passing these as positional arguments will result in an error\n  import sys\n/opt/conda/lib/python3.7/site-packages/ipykernel_launcher.py:7: FutureWarning: Pass y=[-0.00095914 -0.00570436 -0.01099645 ... -0.00785199 -0.00592386\n  0.        ], sr=22050 as keyword args. From version 0.10 passing these as positional arguments will result in an error\n  import sys\n/opt/conda/lib/python3.7/site-packages/ipykernel_launcher.py:7: FutureWarning: Pass y=[-0.00010441 -0.00017196 -0.00019176 ... -0.00041971 -0.00033447\n  0.        ], sr=22050 as keyword args. From version 0.10 passing these as positional arguments will result in an error\n  import sys\n/opt/conda/lib/python3.7/site-packages/ipykernel_launcher.py:7: FutureWarning: Pass y=[ 7.4443516e-05  9.8519995e-05  9.2597555e-05 ... -2.6886156e-04\n -2.1785476e-04  0.0000000e+00], sr=22050 as keyword args. From version 0.10 passing these as positional arguments will result in an error\n  import sys\n/opt/conda/lib/python3.7/site-packages/ipykernel_launcher.py:7: FutureWarning: Pass y=[0.02987266 0.03133512 0.02784388 ... 0.00171319 0.00219867 0.        ], sr=22050 as keyword args. From version 0.10 passing these as positional arguments will result in an error\n  import sys\n 12%|█▏        | 165/1400 [00:04<00:29, 41.44it/s]/opt/conda/lib/python3.7/site-packages/ipykernel_launcher.py:7: FutureWarning: Pass y=[-0.0002226  -0.00024854 -0.00026934 ...  0.00044275  0.00029491\n  0.        ], sr=22050 as keyword args. From version 0.10 passing these as positional arguments will result in an error\n  import sys\n/opt/conda/lib/python3.7/site-packages/ipykernel_launcher.py:7: FutureWarning: Pass y=[ 0.00062083 -0.00058096 -0.00453466 ... -0.00746788 -0.00270961\n  0.        ], sr=22050 as keyword args. From version 0.10 passing these as positional arguments will result in an error\n  import sys\n/opt/conda/lib/python3.7/site-packages/ipykernel_launcher.py:7: FutureWarning: Pass y=[ 2.7818676e-05  1.2448708e-03  1.3229817e-03 ... -1.4994453e-02\n -1.2586623e-02  0.0000000e+00], sr=22050 as keyword args. From version 0.10 passing these as positional arguments will result in an error\n  import sys\n/opt/conda/lib/python3.7/site-packages/ipykernel_launcher.py:7: FutureWarning: Pass y=[-0.0067118  -0.0067647  -0.00433639 ... -0.00650354 -0.00197004\n  0.        ], sr=22050 as keyword args. From version 0.10 passing these as positional arguments will result in an error\n  import sys\n/opt/conda/lib/python3.7/site-packages/ipykernel_launcher.py:7: FutureWarning: Pass y=[1.7866498e-04 6.7710054e-05 2.7984990e-05 ... 4.0757039e-04 1.7369345e-04\n 0.0000000e+00], sr=22050 as keyword args. From version 0.10 passing these as positional arguments will result in an error\n  import sys\n 12%|█▏        | 170/1400 [00:05<00:29, 41.72it/s]/opt/conda/lib/python3.7/site-packages/ipykernel_launcher.py:7: FutureWarning: Pass y=[-0.0101948  -0.01176267 -0.01143264 ...  0.00841749  0.00622128\n  0.        ], sr=22050 as keyword args. From version 0.10 passing these as positional arguments will result in an error\n  import sys\n/opt/conda/lib/python3.7/site-packages/ipykernel_launcher.py:7: FutureWarning: Pass y=[-1.9673229e-05 -6.0371267e-06 -2.3048144e-06 ...  8.1826322e-05\n  6.1193801e-05  0.0000000e+00], sr=22050 as keyword args. From version 0.10 passing these as positional arguments will result in an error\n  import sys\n/opt/conda/lib/python3.7/site-packages/ipykernel_launcher.py:7: FutureWarning: Pass y=[-1.2313852e-05  5.5254462e-05  8.5233973e-05 ... -3.4160370e-05\n  5.5210330e-05  0.0000000e+00], sr=22050 as keyword args. From version 0.10 passing these as positional arguments will result in an error\n  import sys\n/opt/conda/lib/python3.7/site-packages/ipykernel_launcher.py:7: FutureWarning: Pass y=[ 0.00013852 -0.00057594 -0.00089943 ... -0.00117849 -0.00071249\n  0.        ], sr=22050 as keyword args. From version 0.10 passing these as positional arguments will result in an error\n  import sys\n/opt/conda/lib/python3.7/site-packages/ipykernel_launcher.py:7: FutureWarning: Pass y=[-0.00899366 -0.01009987 -0.00937777 ...  0.00892015  0.00556149\n  0.        ], sr=22050 as keyword args. From version 0.10 passing these as positional arguments will result in an error\n  import sys\n 12%|█▎        | 175/1400 [00:05<00:29, 41.46it/s]/opt/conda/lib/python3.7/site-packages/ipykernel_launcher.py:7: FutureWarning: Pass y=[-0.00923745 -0.01405159 -0.01541501 ... -0.01650157 -0.0081054\n  0.        ], sr=22050 as keyword args. From version 0.10 passing these as positional arguments will result in an error\n  import sys\n/opt/conda/lib/python3.7/site-packages/ipykernel_launcher.py:7: FutureWarning: Pass y=[ 0.00057921  0.00024595 -0.00026787 ... -0.00051778 -0.0003168\n  0.        ], sr=22050 as keyword args. From version 0.10 passing these as positional arguments will result in an error\n  import sys\n/opt/conda/lib/python3.7/site-packages/ipykernel_launcher.py:7: FutureWarning: Pass y=[-0.01617631 -0.01244435 -0.00437508 ... -0.00593246 -0.00083478\n  0.        ], sr=22050 as keyword args. From version 0.10 passing these as positional arguments will result in an error\n  import sys\n/opt/conda/lib/python3.7/site-packages/ipykernel_launcher.py:7: FutureWarning: Pass y=[-3.9612336e-04 -2.1417958e-04  9.9236240e-05 ...  4.0200714e-04\n  1.7590575e-04  0.0000000e+00], sr=22050 as keyword args. From version 0.10 passing these as positional arguments will result in an error\n  import sys\n/opt/conda/lib/python3.7/site-packages/ipykernel_launcher.py:7: FutureWarning: Pass y=[-1.2967273e-04 -1.7043376e-04 -1.7680171e-04 ...  4.3216816e-05\n  7.4750060e-05  0.0000000e+00], sr=22050 as keyword args. From version 0.10 passing these as positional arguments will result in an error\n  import sys\n 13%|█▎        | 180/1400 [00:05<00:28, 42.21it/s]/opt/conda/lib/python3.7/site-packages/ipykernel_launcher.py:7: FutureWarning: Pass y=[-2.8689836e-05 -1.3796720e-04 -1.7782408e-04 ... -3.0480299e-04\n -2.5143404e-04  0.0000000e+00], sr=22050 as keyword args. From version 0.10 passing these as positional arguments will result in an error\n  import sys\n/opt/conda/lib/python3.7/site-packages/ipykernel_launcher.py:7: FutureWarning: Pass y=[3.4453804e-04 2.8251208e-04 4.2451138e-05 ... 7.1003241e-04 4.4644426e-04\n 0.0000000e+00], sr=22050 as keyword args. From version 0.10 passing these as positional arguments will result in an error\n  import sys\n/opt/conda/lib/python3.7/site-packages/ipykernel_launcher.py:7: FutureWarning: Pass y=[-0.00993055 -0.01448338 -0.01519897 ... -0.00758563 -0.00377921\n  0.        ], sr=22050 as keyword args. From version 0.10 passing these as positional arguments will result in an error\n  import sys\n/opt/conda/lib/python3.7/site-packages/ipykernel_launcher.py:7: FutureWarning: Pass y=[ 0.00018036  0.00036452  0.0001977  ... -0.00052991 -0.00023681\n  0.        ], sr=22050 as keyword args. From version 0.10 passing these as positional arguments will result in an error\n  import sys\n/opt/conda/lib/python3.7/site-packages/ipykernel_launcher.py:7: FutureWarning: Pass y=[-0.00224587 -0.00567313 -0.00653472 ...  0.00113198  0.00224538\n  0.        ], sr=22050 as keyword args. From version 0.10 passing these as positional arguments will result in an error\n  import sys\n 13%|█▎        | 185/1400 [00:05<00:29, 41.08it/s]/opt/conda/lib/python3.7/site-packages/ipykernel_launcher.py:7: FutureWarning: Pass y=[-0.00578616 -0.00329795 -0.00178762 ... -0.00712707 -0.00259564\n  0.        ], sr=22050 as keyword args. From version 0.10 passing these as positional arguments will result in an error\n  import sys\n/opt/conda/lib/python3.7/site-packages/ipykernel_launcher.py:7: FutureWarning: Pass y=[-2.1709508e-04 -2.8584333e-04 -3.2137151e-04 ... -1.4611601e-04\n -9.2387432e-05  0.0000000e+00], sr=22050 as keyword args. From version 0.10 passing these as positional arguments will result in an error\n  import sys\n/opt/conda/lib/python3.7/site-packages/ipykernel_launcher.py:7: FutureWarning: Pass y=[-0.01066374 -0.00624947  0.001639   ...  0.00763415  0.00413733\n  0.        ], sr=22050 as keyword args. From version 0.10 passing these as positional arguments will result in an error\n  import sys\n/opt/conda/lib/python3.7/site-packages/ipykernel_launcher.py:7: FutureWarning: Pass y=[ 0.0003632   0.00043165  0.00022336 ... -0.0013374  -0.00099375\n  0.        ], sr=22050 as keyword args. From version 0.10 passing these as positional arguments will result in an error\n  import sys\n/opt/conda/lib/python3.7/site-packages/ipykernel_launcher.py:7: FutureWarning: Pass y=[-0.00028488 -0.00035029 -0.00037504 ...  0.0007927   0.00052889\n  0.        ], sr=22050 as keyword args. From version 0.10 passing these as positional arguments will result in an error\n  import sys\n 14%|█▎        | 190/1400 [00:05<00:27, 43.35it/s]/opt/conda/lib/python3.7/site-packages/ipykernel_launcher.py:7: FutureWarning: Pass y=[ 0.00719299  0.00734878  0.00763525 ... -0.00754462 -0.0017093\n  0.        ], sr=22050 as keyword args. From version 0.10 passing these as positional arguments will result in an error\n  import sys\n/opt/conda/lib/python3.7/site-packages/ipykernel_launcher.py:7: FutureWarning: Pass y=[-0.00035837 -0.00485787 -0.00783844 ... -0.00791963 -0.00459429\n  0.        ], sr=22050 as keyword args. From version 0.10 passing these as positional arguments will result in an error\n  import sys\n/opt/conda/lib/python3.7/site-packages/ipykernel_launcher.py:7: FutureWarning: Pass y=[ 0.00013745  0.00027431  0.00038906 ... -0.0003159  -0.00019132\n  0.        ], sr=22050 as keyword args. From version 0.10 passing these as positional arguments will result in an error\n  import sys\n/opt/conda/lib/python3.7/site-packages/ipykernel_launcher.py:7: FutureWarning: Pass y=[ 3.51922863e-05 -1.10204404e-04 -2.19576526e-04 ...  5.38549793e-05\n  9.53055642e-05  0.00000000e+00], sr=22050 as keyword args. From version 0.10 passing these as positional arguments will result in an error\n  import sys\n/opt/conda/lib/python3.7/site-packages/ipykernel_launcher.py:7: FutureWarning: Pass y=[-0.0003635  -0.00035511 -0.00023788 ...  0.00026943  0.00012611\n  0.        ], sr=22050 as keyword args. From version 0.10 passing these as positional arguments will result in an error\n  import sys\n 14%|█▍        | 195/1400 [00:05<00:27, 43.16it/s]/opt/conda/lib/python3.7/site-packages/ipykernel_launcher.py:7: FutureWarning: Pass y=[-7.6577518e-05 -1.3176311e-04 -1.1549392e-04 ...  2.1196982e-04\n  8.8288325e-05  0.0000000e+00], sr=22050 as keyword args. From version 0.10 passing these as positional arguments will result in an error\n  import sys\n/opt/conda/lib/python3.7/site-packages/ipykernel_launcher.py:7: FutureWarning: Pass y=[3.5060005e-04 4.8826952e-04 5.7321525e-04 ... 2.1554662e-04 9.0382739e-05\n 0.0000000e+00], sr=22050 as keyword args. From version 0.10 passing these as positional arguments will result in an error\n  import sys\n/opt/conda/lib/python3.7/site-packages/ipykernel_launcher.py:7: FutureWarning: Pass y=[-0.01547774 -0.0190787  -0.01852583 ... -0.01423621 -0.0096193\n  0.        ], sr=22050 as keyword args. From version 0.10 passing these as positional arguments will result in an error\n  import sys\n/opt/conda/lib/python3.7/site-packages/ipykernel_launcher.py:7: FutureWarning: Pass y=[ 1.8442822e-04  2.3262906e-04  2.4726725e-04 ... -5.5699151e-05\n -2.1269894e-05  0.0000000e+00], sr=22050 as keyword args. From version 0.10 passing these as positional arguments will result in an error\n  import sys\n/opt/conda/lib/python3.7/site-packages/ipykernel_launcher.py:7: FutureWarning: Pass y=[-0.00760779 -0.00879797 -0.0086147  ... -0.00591564 -0.00513939\n  0.        ], sr=22050 as keyword args. From version 0.10 passing these as positional arguments will result in an error\n  import sys\n 14%|█▍        | 200/1400 [00:05<00:28, 42.60it/s]/opt/conda/lib/python3.7/site-packages/ipykernel_launcher.py:7: FutureWarning: Pass y=[ 2.8538727e-05  1.5634103e-04  1.6896195e-04 ... -8.7521672e-05\n -4.2712367e-05  0.0000000e+00], sr=22050 as keyword args. From version 0.10 passing these as positional arguments will result in an error\n  import sys\n/opt/conda/lib/python3.7/site-packages/ipykernel_launcher.py:7: FutureWarning: Pass y=[ 0.01066967  0.01191793  0.01134474 ... -0.00705395 -0.00332659\n  0.        ], sr=22050 as keyword args. From version 0.10 passing these as positional arguments will result in an error\n  import sys\n/opt/conda/lib/python3.7/site-packages/ipykernel_launcher.py:7: FutureWarning: Pass y=[-0.00832167 -0.01369232 -0.01608319 ... -0.00774412 -0.00359829\n  0.        ], sr=22050 as keyword args. From version 0.10 passing these as positional arguments will result in an error\n  import sys\n/opt/conda/lib/python3.7/site-packages/ipykernel_launcher.py:7: FutureWarning: Pass y=[ 0.00799326 -0.00126505 -0.00936751 ...  0.00783206  0.00428386\n  0.        ], sr=22050 as keyword args. From version 0.10 passing these as positional arguments will result in an error\n  import sys\n/opt/conda/lib/python3.7/site-packages/ipykernel_launcher.py:7: FutureWarning: Pass y=[-1.9690917e-04 -1.1977968e-04  1.9974934e-05 ... -8.8095549e-05\n -3.8495702e-05  0.0000000e+00], sr=22050 as keyword args. From version 0.10 passing these as positional arguments will result in an error\n  import sys\n 15%|█▍        | 205/1400 [00:05<00:27, 43.47it/s]/opt/conda/lib/python3.7/site-packages/ipykernel_launcher.py:7: FutureWarning: Pass y=[ 0.00826002  0.01372685  0.01629947 ... -0.00725367 -0.00598273\n  0.        ], sr=22050 as keyword args. From version 0.10 passing these as positional arguments will result in an error\n  import sys\n/opt/conda/lib/python3.7/site-packages/ipykernel_launcher.py:7: FutureWarning: Pass y=[-4.5402627e-05  9.0301342e-05  1.9426012e-04 ... -8.4469728e-05\n -5.7662906e-05  0.0000000e+00], sr=22050 as keyword args. From version 0.10 passing these as positional arguments will result in an error\n  import sys\n/opt/conda/lib/python3.7/site-packages/ipykernel_launcher.py:7: FutureWarning: Pass y=[-6.0839142e-04 -4.2591142e-04 -9.3687755e-05 ...  2.1494398e-04\n  1.8750133e-04  0.0000000e+00], sr=22050 as keyword args. From version 0.10 passing these as positional arguments will result in an error\n  import sys\n/opt/conda/lib/python3.7/site-packages/ipykernel_launcher.py:7: FutureWarning: Pass y=[ 5.5321661e-04  4.1662095e-04 -4.4828455e-05 ...  9.0315245e-04\n  4.6822501e-04  0.0000000e+00], sr=22050 as keyword args. From version 0.10 passing these as positional arguments will result in an error\n  import sys\n/opt/conda/lib/python3.7/site-packages/ipykernel_launcher.py:7: FutureWarning: Pass y=[9.1893875e-05 1.0150425e-04 3.9567407e-05 ... 8.4240042e-04 5.3858443e-04\n 0.0000000e+00], sr=22050 as keyword args. From version 0.10 passing these as positional arguments will result in an error\n  import sys\n 15%|█▌        | 210/1400 [00:05<00:26, 44.60it/s]/opt/conda/lib/python3.7/site-packages/ipykernel_launcher.py:7: FutureWarning: Pass y=[-0.01701377 -0.02273709 -0.02371016 ...  0.00130626  0.00219318\n  0.        ], sr=22050 as keyword args. From version 0.10 passing these as positional arguments will result in an error\n  import sys\n/opt/conda/lib/python3.7/site-packages/ipykernel_launcher.py:7: FutureWarning: Pass y=[-0.00030271 -0.0002809  -0.00011422 ...  0.00042667  0.0003088\n  0.        ], sr=22050 as keyword args. From version 0.10 passing these as positional arguments will result in an error\n  import sys\n/opt/conda/lib/python3.7/site-packages/ipykernel_launcher.py:7: FutureWarning: Pass y=[-0.00045277 -0.00041037 -0.00022939 ...  0.00020591  0.00011382\n  0.        ], sr=22050 as keyword args. From version 0.10 passing these as positional arguments will result in an error\n  import sys\n/opt/conda/lib/python3.7/site-packages/ipykernel_launcher.py:7: FutureWarning: Pass y=[ 0.00017505  0.00020699  0.00020854 ... -0.00020966 -0.00014696\n  0.        ], sr=22050 as keyword args. From version 0.10 passing these as positional arguments will result in an error\n  import sys\n/opt/conda/lib/python3.7/site-packages/ipykernel_launcher.py:7: FutureWarning: Pass y=[ 0.01074963  0.01133996  0.01033177 ... -0.01177063 -0.0081541\n  0.        ], sr=22050 as keyword args. From version 0.10 passing these as positional arguments will result in an error\n  import sys\n 15%|█▌        | 215/1400 [00:06<00:27, 43.10it/s]/opt/conda/lib/python3.7/site-packages/ipykernel_launcher.py:7: FutureWarning: Pass y=[-0.01409154 -0.00522066  0.00655017 ... -0.00807756 -0.0046682\n  0.        ], sr=22050 as keyword args. From version 0.10 passing these as positional arguments will result in an error\n  import sys\n/opt/conda/lib/python3.7/site-packages/ipykernel_launcher.py:7: FutureWarning: Pass y=[-0.00923396 -0.01425328 -0.01561432 ... -0.00845676 -0.00516453\n  0.        ], sr=22050 as keyword args. From version 0.10 passing these as positional arguments will result in an error\n  import sys\n/opt/conda/lib/python3.7/site-packages/ipykernel_launcher.py:7: FutureWarning: Pass y=[0.00321483 0.00132143 0.00047846 ... 0.00468796 0.00253381 0.        ], sr=22050 as keyword args. From version 0.10 passing these as positional arguments will result in an error\n  import sys\n/opt/conda/lib/python3.7/site-packages/ipykernel_launcher.py:7: FutureWarning: Pass y=[ 2.6511494e-05  1.7196934e-04  3.4844383e-04 ...  4.0257237e-06\n -2.5697462e-05  0.0000000e+00], sr=22050 as keyword args. From version 0.10 passing these as positional arguments will result in an error\n  import sys\n/opt/conda/lib/python3.7/site-packages/ipykernel_launcher.py:7: FutureWarning: Pass y=[-2.7326788e-04 -4.2910684e-05  8.1241771e-05 ... -2.2880980e-04\n -2.5470436e-04  0.0000000e+00], sr=22050 as keyword args. From version 0.10 passing these as positional arguments will result in an error\n  import sys\n 16%|█▌        | 220/1400 [00:06<00:28, 41.32it/s]/opt/conda/lib/python3.7/site-packages/ipykernel_launcher.py:7: FutureWarning: Pass y=[ 4.9248032e-05  5.3341475e-05  3.8451712e-05 ... -2.0074121e-04\n -1.1264777e-04  0.0000000e+00], sr=22050 as keyword args. From version 0.10 passing these as positional arguments will result in an error\n  import sys\n/opt/conda/lib/python3.7/site-packages/ipykernel_launcher.py:7: FutureWarning: Pass y=[4.4414348e-05 6.8734793e-05 6.7406819e-07 ... 9.7374048e-04 4.0082136e-04\n 0.0000000e+00], sr=22050 as keyword args. From version 0.10 passing these as positional arguments will result in an error\n  import sys\n/opt/conda/lib/python3.7/site-packages/ipykernel_launcher.py:7: FutureWarning: Pass y=[ 0.00124521  0.00020538 -0.00063528 ...  0.00093975  0.00076327\n  0.        ], sr=22050 as keyword args. From version 0.10 passing these as positional arguments will result in an error\n  import sys\n/opt/conda/lib/python3.7/site-packages/ipykernel_launcher.py:7: FutureWarning: Pass y=[-6.2388205e-04 -8.5161919e-05  2.3025037e-04 ...  2.4782069e-04\n  5.7718680e-05  0.0000000e+00], sr=22050 as keyword args. From version 0.10 passing these as positional arguments will result in an error\n  import sys\n/opt/conda/lib/python3.7/site-packages/ipykernel_launcher.py:7: FutureWarning: Pass y=[ 1.31626894e-06 -2.94116853e-06  2.90083949e-06 ...  1.19809316e-04\n  1.31714929e-04  0.00000000e+00], sr=22050 as keyword args. From version 0.10 passing these as positional arguments will result in an error\n  import sys\n 16%|█▌        | 225/1400 [00:06<00:28, 41.92it/s]/opt/conda/lib/python3.7/site-packages/ipykernel_launcher.py:7: FutureWarning: Pass y=[ 4.4865134e-05  1.4157466e-03  1.4940135e-03 ... -6.4581526e-03\n -6.2738708e-03  0.0000000e+00], sr=22050 as keyword args. From version 0.10 passing these as positional arguments will result in an error\n  import sys\n/opt/conda/lib/python3.7/site-packages/ipykernel_launcher.py:7: FutureWarning: Pass y=[2.3474706e-04 3.2595493e-04 3.7657985e-04 ... 1.3532047e-04 8.7144581e-05\n 0.0000000e+00], sr=22050 as keyword args. From version 0.10 passing these as positional arguments will result in an error\n  import sys\n/opt/conda/lib/python3.7/site-packages/ipykernel_launcher.py:7: FutureWarning: Pass y=[-3.5905384e-04 -9.8045712e-05  3.0451271e-04 ...  6.6139182e-04\n  3.8950134e-04  0.0000000e+00], sr=22050 as keyword args. From version 0.10 passing these as positional arguments will result in an error\n  import sys\n/opt/conda/lib/python3.7/site-packages/ipykernel_launcher.py:7: FutureWarning: Pass y=[6.9024172e-05 7.0477676e-05 1.0265467e-04 ... 3.1402372e-04 2.3464757e-04\n 0.0000000e+00], sr=22050 as keyword args. From version 0.10 passing these as positional arguments will result in an error\n  import sys\n/opt/conda/lib/python3.7/site-packages/ipykernel_launcher.py:7: FutureWarning: Pass y=[-4.1545249e-04 -4.6020353e-04 -3.6893727e-04 ...  3.2896223e-05\n  6.5635737e-05  0.0000000e+00], sr=22050 as keyword args. From version 0.10 passing these as positional arguments will result in an error\n  import sys\n 16%|█▋        | 230/1400 [00:06<00:27, 41.95it/s]/opt/conda/lib/python3.7/site-packages/ipykernel_launcher.py:7: FutureWarning: Pass y=[ 3.8396898e-05  6.8122303e-05  8.1701102e-05 ... -1.4011448e-03\n -6.9207721e-04  0.0000000e+00], sr=22050 as keyword args. From version 0.10 passing these as positional arguments will result in an error\n  import sys\n/opt/conda/lib/python3.7/site-packages/ipykernel_launcher.py:7: FutureWarning: Pass y=[-7.3159041e-05 -5.2254796e-05 -2.7433507e-05 ... -1.7014629e-04\n -7.2223447e-05  0.0000000e+00], sr=22050 as keyword args. From version 0.10 passing these as positional arguments will result in an error\n  import sys\n/opt/conda/lib/python3.7/site-packages/ipykernel_launcher.py:7: FutureWarning: Pass y=[ 8.3907107e-05  7.7527497e-05  9.3171599e-05 ... -1.7903428e-04\n -8.2255203e-05  0.0000000e+00], sr=22050 as keyword args. From version 0.10 passing these as positional arguments will result in an error\n  import sys\n/opt/conda/lib/python3.7/site-packages/ipykernel_launcher.py:7: FutureWarning: Pass y=[-0.00027467 -0.00032497 -0.00033134 ... -0.00137484 -0.00093845\n  0.        ], sr=22050 as keyword args. From version 0.10 passing these as positional arguments will result in an error\n  import sys\n/opt/conda/lib/python3.7/site-packages/ipykernel_launcher.py:7: FutureWarning: Pass y=[-4.8279922e-04 -5.1367318e-04 -5.3281314e-04 ... -2.7812505e-04\n -4.6332752e-05  0.0000000e+00], sr=22050 as keyword args. From version 0.10 passing these as positional arguments will result in an error\n  import sys\n 17%|█▋        | 235/1400 [00:06<00:27, 41.67it/s]/opt/conda/lib/python3.7/site-packages/ipykernel_launcher.py:7: FutureWarning: Pass y=[-0.01414452 -0.01509489 -0.01580658 ... -0.00128072  0.00150884\n  0.        ], sr=22050 as keyword args. From version 0.10 passing these as positional arguments will result in an error\n  import sys\n/opt/conda/lib/python3.7/site-packages/ipykernel_launcher.py:7: FutureWarning: Pass y=[4.6524144e-04 4.4052306e-04 2.8040010e-04 ... 8.8896420e-05 3.5256287e-06\n 0.0000000e+00], sr=22050 as keyword args. From version 0.10 passing these as positional arguments will result in an error\n  import sys\n/opt/conda/lib/python3.7/site-packages/ipykernel_launcher.py:7: FutureWarning: Pass y=[ 1.4400005e-04 -7.2092087e-05 -3.6051834e-04 ... -2.6339409e-05\n -1.1043907e-04  0.0000000e+00], sr=22050 as keyword args. From version 0.10 passing these as positional arguments will result in an error\n  import sys\n/opt/conda/lib/python3.7/site-packages/ipykernel_launcher.py:7: FutureWarning: Pass y=[-0.00941378 -0.01108067 -0.01107946 ... -0.00992906 -0.0065106\n  0.        ], sr=22050 as keyword args. From version 0.10 passing these as positional arguments will result in an error\n  import sys\n/opt/conda/lib/python3.7/site-packages/ipykernel_launcher.py:7: FutureWarning: Pass y=[-0.00623742 -0.00652298 -0.00774189 ... -0.01400636 -0.01125026\n  0.        ], sr=22050 as keyword args. From version 0.10 passing these as positional arguments will result in an error\n  import sys\n 17%|█▋        | 240/1400 [00:06<00:28, 40.46it/s]/opt/conda/lib/python3.7/site-packages/ipykernel_launcher.py:7: FutureWarning: Pass y=[0.01028172 0.01069494 0.00845264 ... 0.00769879 0.00410843 0.        ], sr=22050 as keyword args. From version 0.10 passing these as positional arguments will result in an error\n  import sys\n/opt/conda/lib/python3.7/site-packages/ipykernel_launcher.py:7: FutureWarning: Pass y=[-3.5560653e-05 -9.6562144e-06  1.7890161e-05 ... -1.6666410e-04\n -4.4383723e-05  0.0000000e+00], sr=22050 as keyword args. From version 0.10 passing these as positional arguments will result in an error\n  import sys\n/opt/conda/lib/python3.7/site-packages/ipykernel_launcher.py:7: FutureWarning: Pass y=[-0.01003062 -0.00765631 -0.00292546 ... -0.00755975 -0.00362036\n  0.        ], sr=22050 as keyword args. From version 0.10 passing these as positional arguments will result in an error\n  import sys\n/opt/conda/lib/python3.7/site-packages/ipykernel_launcher.py:7: FutureWarning: Pass y=[ 0.01034905  0.01266312  0.01326222 ... -0.00748277 -0.00367556\n  0.        ], sr=22050 as keyword args. From version 0.10 passing these as positional arguments will result in an error\n  import sys\n/opt/conda/lib/python3.7/site-packages/ipykernel_launcher.py:7: FutureWarning: Pass y=[-0.01093447 -0.01022677 -0.0066492  ...  0.00741899  0.00366258\n  0.        ], sr=22050 as keyword args. From version 0.10 passing these as positional arguments will result in an error\n  import sys\n 18%|█▊        | 245/1400 [00:06<00:29, 38.68it/s]/opt/conda/lib/python3.7/site-packages/ipykernel_launcher.py:7: FutureWarning: Pass y=[-7.8548874e-05 -1.4606632e-04 -2.0704648e-04 ... -1.2206895e-04\n -8.7700741e-05  0.0000000e+00], sr=22050 as keyword args. From version 0.10 passing these as positional arguments will result in an error\n  import sys\n/opt/conda/lib/python3.7/site-packages/ipykernel_launcher.py:7: FutureWarning: Pass y=[-0.00084721 -0.00093768 -0.00086498 ...  0.00030233  0.00020216\n  0.        ], sr=22050 as keyword args. From version 0.10 passing these as positional arguments will result in an error\n  import sys\n/opt/conda/lib/python3.7/site-packages/ipykernel_launcher.py:7: FutureWarning: Pass y=[ 0.009264    0.01103195  0.01132121 ... -0.00782262 -0.00437916\n  0.        ], sr=22050 as keyword args. From version 0.10 passing these as positional arguments will result in an error\n  import sys\n/opt/conda/lib/python3.7/site-packages/ipykernel_launcher.py:7: FutureWarning: Pass y=[-0.00039737 -0.00043307 -0.00045969 ...  0.00114827  0.00075302\n  0.        ], sr=22050 as keyword args. From version 0.10 passing these as positional arguments will result in an error\n  import sys\n 18%|█▊        | 249/1400 [00:06<00:32, 35.50it/s]/opt/conda/lib/python3.7/site-packages/ipykernel_launcher.py:7: FutureWarning: Pass y=[0.00063324 0.00078916 0.00081522 ... 0.00062176 0.00027303 0.        ], sr=22050 as keyword args. From version 0.10 passing these as positional arguments will result in an error\n  import sys\n/opt/conda/lib/python3.7/site-packages/ipykernel_launcher.py:7: FutureWarning: Pass y=[-1.9678244e-04 -2.3209410e-04 -7.5914686e-05 ... -5.5669367e-05\n -5.6677777e-06  0.0000000e+00], sr=22050 as keyword args. From version 0.10 passing these as positional arguments will result in an error\n  import sys\n/opt/conda/lib/python3.7/site-packages/ipykernel_launcher.py:7: FutureWarning: Pass y=[-0.00046724 -0.00047808 -0.00033115 ...  0.00102397  0.00051608\n  0.        ], sr=22050 as keyword args. From version 0.10 passing these as positional arguments will result in an error\n  import sys\n/opt/conda/lib/python3.7/site-packages/ipykernel_launcher.py:7: FutureWarning: Pass y=[0.00051726 0.00054999 0.00050424 ... 0.00125476 0.00082226 0.        ], sr=22050 as keyword args. From version 0.10 passing these as positional arguments will result in an error\n  import sys\n 18%|█▊        | 253/1400 [00:07<00:32, 34.95it/s]/opt/conda/lib/python3.7/site-packages/ipykernel_launcher.py:7: FutureWarning: Pass y=[-2.4562603e-04 -2.4711856e-04 -2.0244851e-04 ... -2.8718074e-05\n -6.7216446e-05  0.0000000e+00], sr=22050 as keyword args. From version 0.10 passing these as positional arguments will result in an error\n  import sys\n/opt/conda/lib/python3.7/site-packages/ipykernel_launcher.py:7: FutureWarning: Pass y=[-0.00064907 -0.00646612 -0.01234169 ... -0.00033376 -0.00150013\n  0.        ], sr=22050 as keyword args. From version 0.10 passing these as positional arguments will result in an error\n  import sys\n/opt/conda/lib/python3.7/site-packages/ipykernel_launcher.py:7: FutureWarning: Pass y=[-2.7527474e-05  1.4583554e-05  8.9305206e-05 ... -2.8896937e-04\n -1.2882130e-04  0.0000000e+00], sr=22050 as keyword args. From version 0.10 passing these as positional arguments will result in an error\n  import sys\n/opt/conda/lib/python3.7/site-packages/ipykernel_launcher.py:7: FutureWarning: Pass y=[0.00013494 0.00022423 0.00025781 ... 0.00023897 0.00017409 0.        ], sr=22050 as keyword args. From version 0.10 passing these as positional arguments will result in an error\n  import sys\n 18%|█▊        | 257/1400 [00:07<00:32, 35.59it/s]/opt/conda/lib/python3.7/site-packages/ipykernel_launcher.py:7: FutureWarning: Pass y=[ 0.00011066  0.00022499  0.0002563  ... -0.00065372 -0.00035034\n  0.        ], sr=22050 as keyword args. From version 0.10 passing these as positional arguments will result in an error\n  import sys\n/opt/conda/lib/python3.7/site-packages/ipykernel_launcher.py:7: FutureWarning: Pass y=[-0.00746698 -0.00610931 -0.00284505 ...  0.0009952   0.00076701\n  0.        ], sr=22050 as keyword args. From version 0.10 passing these as positional arguments will result in an error\n  import sys\n/opt/conda/lib/python3.7/site-packages/ipykernel_launcher.py:7: FutureWarning: Pass y=[ 0.00088011  0.00216895  0.00131238 ... -0.00632143 -0.00541541\n  0.        ], sr=22050 as keyword args. From version 0.10 passing these as positional arguments will result in an error\n  import sys\n/opt/conda/lib/python3.7/site-packages/ipykernel_launcher.py:7: FutureWarning: Pass y=[-6.3243671e-04 -6.6989928e-04 -5.6612410e-04 ...  1.2835610e-04\n  4.3696314e-06  0.0000000e+00], sr=22050 as keyword args. From version 0.10 passing these as positional arguments will result in an error\n  import sys\n/opt/conda/lib/python3.7/site-packages/ipykernel_launcher.py:7: FutureWarning: Pass y=[-1.2966411e-05 -9.4071265e-06  3.0786839e-05 ... -3.6671256e-05\n -3.6647118e-05  0.0000000e+00], sr=22050 as keyword args. From version 0.10 passing these as positional arguments will result in an error\n  import sys\n 19%|█▊        | 262/1400 [00:07<00:30, 37.48it/s]/opt/conda/lib/python3.7/site-packages/ipykernel_launcher.py:7: FutureWarning: Pass y=[-0.00113164 -0.00121204 -0.001072   ...  0.00119233  0.00081527\n  0.        ], sr=22050 as keyword args. From version 0.10 passing these as positional arguments will result in an error\n  import sys\n/opt/conda/lib/python3.7/site-packages/ipykernel_launcher.py:7: FutureWarning: Pass y=[-0.00095883 -0.01998624 -0.02934129 ...  0.00068789 -0.00266361\n  0.        ], sr=22050 as keyword args. From version 0.10 passing these as positional arguments will result in an error\n  import sys\n/opt/conda/lib/python3.7/site-packages/ipykernel_launcher.py:7: FutureWarning: Pass y=[-0.00725416 -0.00836933 -0.00858749 ... -0.00609935 -0.00312224\n  0.        ], sr=22050 as keyword args. From version 0.10 passing these as positional arguments will result in an error\n  import sys\n/opt/conda/lib/python3.7/site-packages/ipykernel_launcher.py:7: FutureWarning: Pass y=[-6.6591565e-05 -7.0466973e-05 -3.8271821e-05 ...  7.0110364e-05\n  6.5584347e-05  0.0000000e+00], sr=22050 as keyword args. From version 0.10 passing these as positional arguments will result in an error\n  import sys\n 19%|█▉        | 266/1400 [00:07<00:30, 37.66it/s]/opt/conda/lib/python3.7/site-packages/ipykernel_launcher.py:7: FutureWarning: Pass y=[-5.5576162e-05 -4.2374610e-05 -6.6374259e-06 ...  7.7449249e-06\n  7.0796636e-06  0.0000000e+00], sr=22050 as keyword args. From version 0.10 passing these as positional arguments will result in an error\n  import sys\n/opt/conda/lib/python3.7/site-packages/ipykernel_launcher.py:7: FutureWarning: Pass y=[-0.00705135 -0.00418829 -0.00126178 ... -0.00728519 -0.00458696\n  0.        ], sr=22050 as keyword args. From version 0.10 passing these as positional arguments will result in an error\n  import sys\n/opt/conda/lib/python3.7/site-packages/ipykernel_launcher.py:7: FutureWarning: Pass y=[ 3.2320729e-04 -5.0014445e-05 -2.1603802e-04 ... -1.0388534e-03\n -8.7758159e-04  0.0000000e+00], sr=22050 as keyword args. From version 0.10 passing these as positional arguments will result in an error\n  import sys\n/opt/conda/lib/python3.7/site-packages/ipykernel_launcher.py:7: FutureWarning: Pass y=[-9.4022958e-05 -1.2552233e-04 -8.4080326e-05 ... -2.4250730e-04\n -1.9752828e-04  0.0000000e+00], sr=22050 as keyword args. From version 0.10 passing these as positional arguments will result in an error\n  import sys\n/opt/conda/lib/python3.7/site-packages/ipykernel_launcher.py:7: FutureWarning: Pass y=[-0.00011286 -0.00753677 -0.0141786  ... -0.00590991 -0.00581346\n  0.        ], sr=22050 as keyword args. From version 0.10 passing these as positional arguments will result in an error\n  import sys\n 19%|█▉        | 271/1400 [00:07<00:29, 38.55it/s]/opt/conda/lib/python3.7/site-packages/ipykernel_launcher.py:7: FutureWarning: Pass y=[-0.00935155 -0.01115445 -0.01131248 ... -0.0088081  -0.00481068\n  0.        ], sr=22050 as keyword args. From version 0.10 passing these as positional arguments will result in an error\n  import sys\n/opt/conda/lib/python3.7/site-packages/ipykernel_launcher.py:7: FutureWarning: Pass y=[-0.00671596 -0.00753912 -0.0083724  ... -0.00786557 -0.00690901\n  0.        ], sr=22050 as keyword args. From version 0.10 passing these as positional arguments will result in an error\n  import sys\n/opt/conda/lib/python3.7/site-packages/ipykernel_launcher.py:7: FutureWarning: Pass y=[ 4.0625542e-05  6.8192225e-05  7.5223797e-05 ... -4.4500618e-04\n -2.7089688e-04  0.0000000e+00], sr=22050 as keyword args. From version 0.10 passing these as positional arguments will result in an error\n  import sys\n/opt/conda/lib/python3.7/site-packages/ipykernel_launcher.py:7: FutureWarning: Pass y=[-0.00085715 -0.00070261 -0.00036334 ... -0.00096318 -0.00048714\n  0.        ], sr=22050 as keyword args. From version 0.10 passing these as positional arguments will result in an error\n  import sys\n 20%|█▉        | 275/1400 [00:07<00:29, 37.97it/s]/opt/conda/lib/python3.7/site-packages/ipykernel_launcher.py:7: FutureWarning: Pass y=[ 1.11261485e-04 -1.38853793e-04 -3.07267619e-04 ... -1.84196077e-04\n -8.99111110e-05  0.00000000e+00], sr=22050 as keyword args. From version 0.10 passing these as positional arguments will result in an error\n  import sys\n/opt/conda/lib/python3.7/site-packages/ipykernel_launcher.py:7: FutureWarning: Pass y=[-0.0005327  -0.00060626 -0.00062754 ...  0.00023354  0.00012339\n  0.        ], sr=22050 as keyword args. From version 0.10 passing these as positional arguments will result in an error\n  import sys\n/opt/conda/lib/python3.7/site-packages/ipykernel_launcher.py:7: FutureWarning: Pass y=[ 2.0416303e-05 -7.6802135e-06 -5.4815257e-05 ...  1.5672563e-03\n  1.2203080e-03  0.0000000e+00], sr=22050 as keyword args. From version 0.10 passing these as positional arguments will result in an error\n  import sys\n/opt/conda/lib/python3.7/site-packages/ipykernel_launcher.py:7: FutureWarning: Pass y=[ 7.97398970e-05  1.04018669e-04  1.48993058e-04 ... -9.95186419e-05\n -1.16933064e-04  0.00000000e+00], sr=22050 as keyword args. From version 0.10 passing these as positional arguments will result in an error\n  import sys\n/opt/conda/lib/python3.7/site-packages/ipykernel_launcher.py:7: FutureWarning: Pass y=[ 0.00067137  0.00515617  0.00790392 ... -0.00058253 -0.00288249\n  0.        ], sr=22050 as keyword args. From version 0.10 passing these as positional arguments will result in an error\n  import sys\n 20%|██        | 280/1400 [00:07<00:28, 39.58it/s]/opt/conda/lib/python3.7/site-packages/ipykernel_launcher.py:7: FutureWarning: Pass y=[ 0.00127553 -0.00369983 -0.01158967 ...  0.0005631   0.00242733\n  0.        ], sr=22050 as keyword args. From version 0.10 passing these as positional arguments will result in an error\n  import sys\n/opt/conda/lib/python3.7/site-packages/ipykernel_launcher.py:7: FutureWarning: Pass y=[-0.00019081 -0.0002491  -0.00021122 ...  0.00035543  0.00020114\n  0.        ], sr=22050 as keyword args. From version 0.10 passing these as positional arguments will result in an error\n  import sys\n/opt/conda/lib/python3.7/site-packages/ipykernel_launcher.py:7: FutureWarning: Pass y=[-1.3435299e-04 -1.2250907e-04 -6.4347129e-05 ...  1.5908471e-04\n  2.8448083e-04  0.0000000e+00], sr=22050 as keyword args. From version 0.10 passing these as positional arguments will result in an error\n  import sys\n/opt/conda/lib/python3.7/site-packages/ipykernel_launcher.py:7: FutureWarning: Pass y=[-0.02815403 -0.01208857  0.01225557 ... -0.00827293 -0.00467457\n  0.        ], sr=22050 as keyword args. From version 0.10 passing these as positional arguments will result in an error\n  import sys\n/opt/conda/lib/python3.7/site-packages/ipykernel_launcher.py:7: FutureWarning: Pass y=[ 5.2881666e-04  4.6640616e-05 -4.4473648e-04 ...  2.7276375e-04\n  5.0137860e-05  0.0000000e+00], sr=22050 as keyword args. From version 0.10 passing these as positional arguments will result in an error\n  import sys\n 20%|██        | 285/1400 [00:07<00:27, 39.96it/s]/opt/conda/lib/python3.7/site-packages/ipykernel_launcher.py:7: FutureWarning: Pass y=[-0.02713294 -0.01777091  0.00043569 ...  0.00839466  0.00502745\n  0.        ], sr=22050 as keyword args. From version 0.10 passing these as positional arguments will result in an error\n  import sys\n/opt/conda/lib/python3.7/site-packages/ipykernel_launcher.py:7: FutureWarning: Pass y=[-1.8207456e-05 -8.3380328e-05 -1.0331021e-04 ...  4.2008856e-04\n  2.3456436e-04  0.0000000e+00], sr=22050 as keyword args. From version 0.10 passing these as positional arguments will result in an error\n  import sys\n/opt/conda/lib/python3.7/site-packages/ipykernel_launcher.py:7: FutureWarning: Pass y=[ 0.00129332  0.00076712 -0.00015034 ... -0.00111967 -0.00073841\n  0.        ], sr=22050 as keyword args. From version 0.10 passing these as positional arguments will result in an error\n  import sys\n/opt/conda/lib/python3.7/site-packages/ipykernel_launcher.py:7: FutureWarning: Pass y=[-0.009866   -0.01185279 -0.01237982 ... -0.00790569 -0.00422549\n  0.        ], sr=22050 as keyword args. From version 0.10 passing these as positional arguments will result in an error\n  import sys\n 21%|██        | 289/1400 [00:08<00:28, 38.71it/s]/opt/conda/lib/python3.7/site-packages/ipykernel_launcher.py:7: FutureWarning: Pass y=[ 1.14533141e-05 -1.07184605e-05 -5.26708500e-05 ... -1.70605519e-04\n -7.42356497e-05  0.00000000e+00], sr=22050 as keyword args. From version 0.10 passing these as positional arguments will result in an error\n  import sys\n/opt/conda/lib/python3.7/site-packages/ipykernel_launcher.py:7: FutureWarning: Pass y=[-0.00972184 -0.01181079 -0.00939262 ... -0.00776733 -0.00661351\n  0.        ], sr=22050 as keyword args. From version 0.10 passing these as positional arguments will result in an error\n  import sys\n/opt/conda/lib/python3.7/site-packages/ipykernel_launcher.py:7: FutureWarning: Pass y=[-2.5466743e-05  3.2875131e-04  5.5008201e-04 ... -7.1534712e-04\n -2.8286313e-04  0.0000000e+00], sr=22050 as keyword args. From version 0.10 passing these as positional arguments will result in an error\n  import sys\n/opt/conda/lib/python3.7/site-packages/ipykernel_launcher.py:7: FutureWarning: Pass y=[ 0.00042097  0.00011132 -0.00010934 ...  0.00026603  0.00016451\n  0.        ], sr=22050 as keyword args. From version 0.10 passing these as positional arguments will result in an error\n  import sys\n 21%|██        | 293/1400 [00:08<00:28, 38.36it/s]/opt/conda/lib/python3.7/site-packages/ipykernel_launcher.py:7: FutureWarning: Pass y=[0.00470081 0.00549063 0.00538479 ... 0.00561957 0.00544831 0.        ], sr=22050 as keyword args. From version 0.10 passing these as positional arguments will result in an error\n  import sys\n/opt/conda/lib/python3.7/site-packages/ipykernel_launcher.py:7: FutureWarning: Pass y=[ 2.9245240e-04  1.9628671e-05 -2.6359258e-04 ... -1.4864795e-04\n -1.1010083e-04  0.0000000e+00], sr=22050 as keyword args. From version 0.10 passing these as positional arguments will result in an error\n  import sys\n/opt/conda/lib/python3.7/site-packages/ipykernel_launcher.py:7: FutureWarning: Pass y=[-0.00073967 -0.00103912 -0.00129    ... -0.00029714 -0.0002437\n  0.        ], sr=22050 as keyword args. From version 0.10 passing these as positional arguments will result in an error\n  import sys\n/opt/conda/lib/python3.7/site-packages/ipykernel_launcher.py:7: FutureWarning: Pass y=[ 1.1414198e-03  8.1013847e-04  5.6929894e-05 ...  2.5865409e-05\n -3.9944632e-04  0.0000000e+00], sr=22050 as keyword args. From version 0.10 passing these as positional arguments will result in an error\n  import sys\n 21%|██        | 297/1400 [00:08<00:29, 37.77it/s]/opt/conda/lib/python3.7/site-packages/ipykernel_launcher.py:7: FutureWarning: Pass y=[ 1.6008267e-04  7.6582874e-05 -5.6025976e-05 ... -7.6462684e-04\n -5.3166784e-04  0.0000000e+00], sr=22050 as keyword args. From version 0.10 passing these as positional arguments will result in an error\n  import sys\n/opt/conda/lib/python3.7/site-packages/ipykernel_launcher.py:7: FutureWarning: Pass y=[ 6.9368958e-05 -1.5724698e-05 -7.5949589e-05 ... -1.1209437e-05\n  1.1191959e-05  0.0000000e+00], sr=22050 as keyword args. From version 0.10 passing these as positional arguments will result in an error\n  import sys\n/opt/conda/lib/python3.7/site-packages/ipykernel_launcher.py:7: FutureWarning: Pass y=[-0.0081026  -0.00887688 -0.00814859 ... -0.00628562 -0.00473226\n  0.        ], sr=22050 as keyword args. From version 0.10 passing these as positional arguments will result in an error\n  import sys\n/opt/conda/lib/python3.7/site-packages/ipykernel_launcher.py:7: FutureWarning: Pass y=[-0.00752545 -0.0056825  -0.00221308 ... -0.00425419 -0.00229873\n  0.        ], sr=22050 as keyword args. From version 0.10 passing these as positional arguments will result in an error\n  import sys\n 22%|██▏       | 301/1400 [00:08<00:29, 37.84it/s]/opt/conda/lib/python3.7/site-packages/ipykernel_launcher.py:7: FutureWarning: Pass y=[-0.00042933 -0.00047445 -0.00041204 ... -0.00043931 -0.00024301\n  0.        ], sr=22050 as keyword args. From version 0.10 passing these as positional arguments will result in an error\n  import sys\n/opt/conda/lib/python3.7/site-packages/ipykernel_launcher.py:7: FutureWarning: Pass y=[ 4.4097458e-05  5.4746390e-05  3.8307837e-05 ... -2.4894817e-04\n -1.2260533e-04  0.0000000e+00], sr=22050 as keyword args. From version 0.10 passing these as positional arguments will result in an error\n  import sys\n/opt/conda/lib/python3.7/site-packages/ipykernel_launcher.py:7: FutureWarning: Pass y=[ 4.3859839e-04  6.0668605e-04  7.4208924e-04 ... -1.7194802e-04\n -3.8980386e-05  0.0000000e+00], sr=22050 as keyword args. From version 0.10 passing these as positional arguments will result in an error\n  import sys\n/opt/conda/lib/python3.7/site-packages/ipykernel_launcher.py:7: FutureWarning: Pass y=[ 4.8249713e-06 -8.4248692e-05 -1.4378330e-04 ...  1.4829608e-04\n  2.1346252e-04  0.0000000e+00], sr=22050 as keyword args. From version 0.10 passing these as positional arguments will result in an error\n  import sys\n/opt/conda/lib/python3.7/site-packages/ipykernel_launcher.py:7: FutureWarning: Pass y=[0.00460499 0.0054782  0.00566385 ... 0.00451646 0.0024285  0.        ], sr=22050 as keyword args. From version 0.10 passing these as positional arguments will result in an error\n  import sys\n 22%|██▏       | 306/1400 [00:08<00:28, 38.43it/s]/opt/conda/lib/python3.7/site-packages/ipykernel_launcher.py:7: FutureWarning: Pass y=[-0.00072568 -0.00075834 -0.00056717 ... -0.00065275 -0.00057891\n  0.        ], sr=22050 as keyword args. From version 0.10 passing these as positional arguments will result in an error\n  import sys\n/opt/conda/lib/python3.7/site-packages/ipykernel_launcher.py:7: FutureWarning: Pass y=[ 0.01430171  0.02177549  0.01128868 ...  0.00022991 -0.00162492\n  0.        ], sr=22050 as keyword args. From version 0.10 passing these as positional arguments will result in an error\n  import sys\n/opt/conda/lib/python3.7/site-packages/ipykernel_launcher.py:7: FutureWarning: Pass y=[ 0.00102358  0.00074714  0.00015636 ... -0.00037732 -0.00058735\n  0.        ], sr=22050 as keyword args. From version 0.10 passing these as positional arguments will result in an error\n  import sys\n/opt/conda/lib/python3.7/site-packages/ipykernel_launcher.py:7: FutureWarning: Pass y=[-0.00522089  0.0046116   0.00953631 ...  0.00413018  0.00247652\n  0.        ], sr=22050 as keyword args. From version 0.10 passing these as positional arguments will result in an error\n  import sys\n/opt/conda/lib/python3.7/site-packages/ipykernel_launcher.py:7: FutureWarning: Pass y=[-0.02484    -0.0345853  -0.0383971  ... -0.00679408 -0.00527997\n  0.        ], sr=22050 as keyword args. From version 0.10 passing these as positional arguments will result in an error\n  import sys\n 22%|██▏       | 311/1400 [00:08<00:27, 39.58it/s]/opt/conda/lib/python3.7/site-packages/ipykernel_launcher.py:7: FutureWarning: Pass y=[-6.8564742e-04 -7.3035655e-04 -6.4776815e-04 ... -3.7612717e-04\n  9.6200150e-05  0.0000000e+00], sr=22050 as keyword args. From version 0.10 passing these as positional arguments will result in an error\n  import sys\n/opt/conda/lib/python3.7/site-packages/ipykernel_launcher.py:7: FutureWarning: Pass y=[-0.00010507 -0.0001073  -0.00014968 ... -0.00012916 -0.00028258\n  0.        ], sr=22050 as keyword args. From version 0.10 passing these as positional arguments will result in an error\n  import sys\n/opt/conda/lib/python3.7/site-packages/ipykernel_launcher.py:7: FutureWarning: Pass y=[-0.01930504 -0.02275831 -0.01628527 ...  0.01003128  0.00703871\n  0.        ], sr=22050 as keyword args. From version 0.10 passing these as positional arguments will result in an error\n  import sys\n/opt/conda/lib/python3.7/site-packages/ipykernel_launcher.py:7: FutureWarning: Pass y=[ 0.00148215  0.00121607 -0.00044899 ... -0.00773565 -0.00518588\n  0.        ], sr=22050 as keyword args. From version 0.10 passing these as positional arguments will result in an error\n  import sys\n 22%|██▎       | 315/1400 [00:08<00:28, 38.05it/s]/opt/conda/lib/python3.7/site-packages/ipykernel_launcher.py:7: FutureWarning: Pass y=[-0.0071138  -0.00378957 -0.00079946 ... -0.00759554 -0.00503986\n  0.        ], sr=22050 as keyword args. From version 0.10 passing these as positional arguments will result in an error\n  import sys\n/opt/conda/lib/python3.7/site-packages/ipykernel_launcher.py:7: FutureWarning: Pass y=[-2.3682056e-05 -1.5547998e-06  3.8825568e-05 ...  3.3659147e-04\n  2.3973045e-04  0.0000000e+00], sr=22050 as keyword args. From version 0.10 passing these as positional arguments will result in an error\n  import sys\n/opt/conda/lib/python3.7/site-packages/ipykernel_launcher.py:7: FutureWarning: Pass y=[-1.5190835e-04 -2.1414377e-04 -2.5624278e-04 ... -4.3367447e-05\n -6.2318206e-05  0.0000000e+00], sr=22050 as keyword args. From version 0.10 passing these as positional arguments will result in an error\n  import sys\n/opt/conda/lib/python3.7/site-packages/ipykernel_launcher.py:7: FutureWarning: Pass y=[ 8.0886239e-05 -1.6309388e-04 -5.2757369e-04 ... -2.6327837e-04\n -1.4285164e-04  0.0000000e+00], sr=22050 as keyword args. From version 0.10 passing these as positional arguments will result in an error\n  import sys\n/opt/conda/lib/python3.7/site-packages/ipykernel_launcher.py:7: FutureWarning: Pass y=[-0.0013165  -0.00173534 -0.00190695 ... -0.00041571 -0.00032908\n  0.        ], sr=22050 as keyword args. From version 0.10 passing these as positional arguments will result in an error\n  import sys\n 23%|██▎       | 320/1400 [00:08<00:27, 39.68it/s]/opt/conda/lib/python3.7/site-packages/ipykernel_launcher.py:7: FutureWarning: Pass y=[7.4332616e-05 6.8715803e-05 6.9890120e-05 ... 7.5287354e-04 5.0009426e-04\n 0.0000000e+00], sr=22050 as keyword args. From version 0.10 passing these as positional arguments will result in an error\n  import sys\n/opt/conda/lib/python3.7/site-packages/ipykernel_launcher.py:7: FutureWarning: Pass y=[-0.000287   -0.00029152 -0.00026852 ... -0.00019428 -0.0001965\n  0.        ], sr=22050 as keyword args. From version 0.10 passing these as positional arguments will result in an error\n  import sys\n/opt/conda/lib/python3.7/site-packages/ipykernel_launcher.py:7: FutureWarning: Pass y=[0.00300582 0.00318848 0.00232763 ... 0.00127676 0.00052507 0.        ], sr=22050 as keyword args. From version 0.10 passing these as positional arguments will result in an error\n  import sys\n/opt/conda/lib/python3.7/site-packages/ipykernel_launcher.py:7: FutureWarning: Pass y=[-6.7520676e-05 -4.4410415e-05  2.7785829e-05 ...  2.5740828e-04\n  7.4948068e-05  0.0000000e+00], sr=22050 as keyword args. From version 0.10 passing these as positional arguments will result in an error\n  import sys\n/opt/conda/lib/python3.7/site-packages/ipykernel_launcher.py:7: FutureWarning: Pass y=[-0.00900733 -0.01064563 -0.01053646 ... -0.01037519 -0.00757056\n  0.        ], sr=22050 as keyword args. From version 0.10 passing these as positional arguments will result in an error\n  import sys\n 23%|██▎       | 325/1400 [00:08<00:26, 40.75it/s]/opt/conda/lib/python3.7/site-packages/ipykernel_launcher.py:7: FutureWarning: Pass y=[0.00033029 0.00041639 0.00026862 ... 0.00079878 0.00049166 0.        ], sr=22050 as keyword args. From version 0.10 passing these as positional arguments will result in an error\n  import sys\n/opt/conda/lib/python3.7/site-packages/ipykernel_launcher.py:7: FutureWarning: Pass y=[-0.00936416 -0.01141811 -0.01222591 ...  0.01030162  0.00663222\n  0.        ], sr=22050 as keyword args. From version 0.10 passing these as positional arguments will result in an error\n  import sys\n/opt/conda/lib/python3.7/site-packages/ipykernel_launcher.py:7: FutureWarning: Pass y=[-0.01120874 -0.01459736 -0.01601739 ...  0.01125586  0.00740483\n  0.        ], sr=22050 as keyword args. From version 0.10 passing these as positional arguments will result in an error\n  import sys\n/opt/conda/lib/python3.7/site-packages/ipykernel_launcher.py:7: FutureWarning: Pass y=[2.0334212e-05 2.0420508e-05 1.8830582e-05 ... 2.8251848e-04 1.3802489e-04\n 0.0000000e+00], sr=22050 as keyword args. From version 0.10 passing these as positional arguments will result in an error\n  import sys\n/opt/conda/lib/python3.7/site-packages/ipykernel_launcher.py:7: FutureWarning: Pass y=[ 9.2857490e-06  3.5796962e-05  7.0540977e-05 ... -9.3214185e-05\n -6.3776817e-05  0.0000000e+00], sr=22050 as keyword args. From version 0.10 passing these as positional arguments will result in an error\n  import sys\n 24%|██▎       | 330/1400 [00:09<00:25, 41.98it/s]/opt/conda/lib/python3.7/site-packages/ipykernel_launcher.py:7: FutureWarning: Pass y=[0.00024566 0.00023941 0.00021052 ... 0.00044599 0.00033458 0.        ], sr=22050 as keyword args. From version 0.10 passing these as positional arguments will result in an error\n  import sys\n/opt/conda/lib/python3.7/site-packages/ipykernel_launcher.py:7: FutureWarning: Pass y=[-9.4664487e-05 -4.3405940e-05 -1.4857804e-05 ... -5.0546267e-05\n -6.7495559e-05  0.0000000e+00], sr=22050 as keyword args. From version 0.10 passing these as positional arguments will result in an error\n  import sys\n/opt/conda/lib/python3.7/site-packages/ipykernel_launcher.py:7: FutureWarning: Pass y=[0.00950985 0.00989918 0.00946551 ... 0.0090782  0.00564801 0.        ], sr=22050 as keyword args. From version 0.10 passing these as positional arguments will result in an error\n  import sys\n/opt/conda/lib/python3.7/site-packages/ipykernel_launcher.py:7: FutureWarning: Pass y=[0.00042634 0.00049685 0.00045519 ... 0.00108911 0.00079258 0.        ], sr=22050 as keyword args. From version 0.10 passing these as positional arguments will result in an error\n  import sys\n/opt/conda/lib/python3.7/site-packages/ipykernel_launcher.py:7: FutureWarning: Pass y=[ 0.00019883  0.00022677  0.00023106 ... -0.0003467  -0.00034027\n  0.        ], sr=22050 as keyword args. From version 0.10 passing these as positional arguments will result in an error\n  import sys\n 24%|██▍       | 335/1400 [00:09<00:24, 43.46it/s]/opt/conda/lib/python3.7/site-packages/ipykernel_launcher.py:7: FutureWarning: Pass y=[-0.00656359 -0.00236303  0.00012445 ...  0.00038791  0.00269469\n  0.        ], sr=22050 as keyword args. From version 0.10 passing these as positional arguments will result in an error\n  import sys\n/opt/conda/lib/python3.7/site-packages/ipykernel_launcher.py:7: FutureWarning: Pass y=[-0.000474   -0.00025018  0.0001514  ...  0.00140605  0.00086253\n  0.        ], sr=22050 as keyword args. From version 0.10 passing these as positional arguments will result in an error\n  import sys\n/opt/conda/lib/python3.7/site-packages/ipykernel_launcher.py:7: FutureWarning: Pass y=[-6.1801067e-05 -1.0775665e-05  6.6739092e-05 ... -2.0200046e-04\n -1.7067189e-04  0.0000000e+00], sr=22050 as keyword args. From version 0.10 passing these as positional arguments will result in an error\n  import sys\n/opt/conda/lib/python3.7/site-packages/ipykernel_launcher.py:7: FutureWarning: Pass y=[-0.00511484 -0.00453431 -0.00266088 ...  0.00402188  0.00551809\n  0.        ], sr=22050 as keyword args. From version 0.10 passing these as positional arguments will result in an error\n  import sys\n/opt/conda/lib/python3.7/site-packages/ipykernel_launcher.py:7: FutureWarning: Pass y=[-0.00910664 -0.01057885 -0.0099202  ... -0.00955882 -0.00586551\n  0.        ], sr=22050 as keyword args. From version 0.10 passing these as positional arguments will result in an error\n  import sys\n 24%|██▍       | 340/1400 [00:09<00:24, 42.86it/s]/opt/conda/lib/python3.7/site-packages/ipykernel_launcher.py:7: FutureWarning: Pass y=[-0.00958921 -0.01450931 -0.0154797  ...  0.0008681  -0.00080977\n  0.        ], sr=22050 as keyword args. From version 0.10 passing these as positional arguments will result in an error\n  import sys\n/opt/conda/lib/python3.7/site-packages/ipykernel_launcher.py:7: FutureWarning: Pass y=[0.00018053 0.00021338 0.00016377 ... 0.00168727 0.00086763 0.        ], sr=22050 as keyword args. From version 0.10 passing these as positional arguments will result in an error\n  import sys\n/opt/conda/lib/python3.7/site-packages/ipykernel_launcher.py:7: FutureWarning: Pass y=[ 0.0005763   0.00021668 -0.00042094 ... -0.00748055 -0.00157516\n  0.        ], sr=22050 as keyword args. From version 0.10 passing these as positional arguments will result in an error\n  import sys\n/opt/conda/lib/python3.7/site-packages/ipykernel_launcher.py:7: FutureWarning: Pass y=[0.0086211  0.01056932 0.01134907 ... 0.00865705 0.00565783 0.        ], sr=22050 as keyword args. From version 0.10 passing these as positional arguments will result in an error\n  import sys\n/opt/conda/lib/python3.7/site-packages/ipykernel_launcher.py:7: FutureWarning: Pass y=[-0.00031246 -0.00037002 -0.00036954 ... -0.0002412  -0.00018735\n  0.        ], sr=22050 as keyword args. From version 0.10 passing these as positional arguments will result in an error\n  import sys\n 25%|██▍       | 345/1400 [00:09<00:25, 41.50it/s]/opt/conda/lib/python3.7/site-packages/ipykernel_launcher.py:7: FutureWarning: Pass y=[ 1.5322062e-04  1.9488699e-04  2.0051900e-04 ... -8.0773694e-05\n  2.7679960e-05  0.0000000e+00], sr=22050 as keyword args. From version 0.10 passing these as positional arguments will result in an error\n  import sys\n/opt/conda/lib/python3.7/site-packages/ipykernel_launcher.py:7: FutureWarning: Pass y=[-0.01635202 -0.0206735  -0.02158944 ... -0.00925793 -0.00675929\n  0.        ], sr=22050 as keyword args. From version 0.10 passing these as positional arguments will result in an error\n  import sys\n/opt/conda/lib/python3.7/site-packages/ipykernel_launcher.py:7: FutureWarning: Pass y=[0.00033786 0.0002684  0.00017406 ... 0.00065553 0.00041743 0.        ], sr=22050 as keyword args. From version 0.10 passing these as positional arguments will result in an error\n  import sys\n/opt/conda/lib/python3.7/site-packages/ipykernel_launcher.py:7: FutureWarning: Pass y=[0.0001844  0.00018897 0.00014871 ... 0.00050603 0.00026482 0.        ], sr=22050 as keyword args. From version 0.10 passing these as positional arguments will result in an error\n  import sys\n/opt/conda/lib/python3.7/site-packages/ipykernel_launcher.py:7: FutureWarning: Pass y=[-1.2045478e-04 -9.4245042e-05 -2.4784775e-05 ...  9.0851419e-05\n  8.9383568e-05  0.0000000e+00], sr=22050 as keyword args. From version 0.10 passing these as positional arguments will result in an error\n  import sys\n 25%|██▌       | 350/1400 [00:09<00:25, 41.64it/s]/opt/conda/lib/python3.7/site-packages/ipykernel_launcher.py:7: FutureWarning: Pass y=[ 6.2426276e-05 -8.5246946e-05 -2.1928802e-04 ... -7.2701339e-04\n -7.6525967e-04 -4.0985583e-04], sr=22050 as keyword args. From version 0.10 passing these as positional arguments will result in an error\n  import sys\n/opt/conda/lib/python3.7/site-packages/ipykernel_launcher.py:7: FutureWarning: Pass y=[0.00055146 0.00072647 0.00080018 ... 0.00069984 0.00046417 0.        ], sr=22050 as keyword args. From version 0.10 passing these as positional arguments will result in an error\n  import sys\n/opt/conda/lib/python3.7/site-packages/ipykernel_launcher.py:7: FutureWarning: Pass y=[ 0.00152422  0.00343706  0.0020048  ... -0.01176335 -0.00462031\n  0.        ], sr=22050 as keyword args. From version 0.10 passing these as positional arguments will result in an error\n  import sys\n/opt/conda/lib/python3.7/site-packages/ipykernel_launcher.py:7: FutureWarning: Pass y=[ 8.9733396e-04  1.0312427e-03  9.3262602e-04 ... -3.5440066e-04\n -8.4856540e-05  0.0000000e+00], sr=22050 as keyword args. From version 0.10 passing these as positional arguments will result in an error\n  import sys\n/opt/conda/lib/python3.7/site-packages/ipykernel_launcher.py:7: FutureWarning: Pass y=[-0.00848555 -0.01462643 -0.01697895 ... -0.01413665 -0.01135238\n  0.        ], sr=22050 as keyword args. From version 0.10 passing these as positional arguments will result in an error\n  import sys\n 25%|██▌       | 355/1400 [00:09<00:25, 41.14it/s]/opt/conda/lib/python3.7/site-packages/ipykernel_launcher.py:7: FutureWarning: Pass y=[0.00903089 0.00741009 0.00255751 ... 0.00996695 0.007012   0.        ], sr=22050 as keyword args. From version 0.10 passing these as positional arguments will result in an error\n  import sys\n/opt/conda/lib/python3.7/site-packages/ipykernel_launcher.py:7: FutureWarning: Pass y=[-1.9327957e-05 -2.3905010e-05 -3.5368437e-05 ... -6.2687432e-05\n  4.3803548e-06  0.0000000e+00], sr=22050 as keyword args. From version 0.10 passing these as positional arguments will result in an error\n  import sys\n/opt/conda/lib/python3.7/site-packages/ipykernel_launcher.py:7: FutureWarning: Pass y=[-0.00899424 -0.01081712 -0.01117813 ... -0.00817569 -0.00405017\n  0.        ], sr=22050 as keyword args. From version 0.10 passing these as positional arguments will result in an error\n  import sys\n/opt/conda/lib/python3.7/site-packages/ipykernel_launcher.py:7: FutureWarning: Pass y=[-5.4811979e-05  2.8909388e-05  1.5710838e-04 ...  1.6448955e-04\n  2.3751282e-04  0.0000000e+00], sr=22050 as keyword args. From version 0.10 passing these as positional arguments will result in an error\n  import sys\n/opt/conda/lib/python3.7/site-packages/ipykernel_launcher.py:7: FutureWarning: Pass y=[-6.5749824e-05  5.8126785e-05  1.0026905e-04 ...  1.6738010e-04\n  1.0411962e-04  0.0000000e+00], sr=22050 as keyword args. From version 0.10 passing these as positional arguments will result in an error\n  import sys\n 26%|██▌       | 360/1400 [00:09<00:26, 39.74it/s]/opt/conda/lib/python3.7/site-packages/ipykernel_launcher.py:7: FutureWarning: Pass y=[ 0.0002456   0.00024499  0.00020364 ... -0.00012134 -0.00012201\n  0.        ], sr=22050 as keyword args. From version 0.10 passing these as positional arguments will result in an error\n  import sys\n/opt/conda/lib/python3.7/site-packages/ipykernel_launcher.py:7: FutureWarning: Pass y=[ 0.00089049  0.00091937  0.000728   ... -0.00047395 -0.00025061\n  0.        ], sr=22050 as keyword args. From version 0.10 passing these as positional arguments will result in an error\n  import sys\n/opt/conda/lib/python3.7/site-packages/ipykernel_launcher.py:7: FutureWarning: Pass y=[ 0.00457461  0.00113006 -0.00283752 ... -0.005416   -0.00419094\n  0.        ], sr=22050 as keyword args. From version 0.10 passing these as positional arguments will result in an error\n  import sys\n/opt/conda/lib/python3.7/site-packages/ipykernel_launcher.py:7: FutureWarning: Pass y=[-0.00046537 -0.00041819 -0.00033456 ... -0.00045799 -0.00025089\n  0.        ], sr=22050 as keyword args. From version 0.10 passing these as positional arguments will result in an error\n  import sys\n 26%|██▌       | 364/1400 [00:09<00:27, 38.29it/s]/opt/conda/lib/python3.7/site-packages/ipykernel_launcher.py:7: FutureWarning: Pass y=[0.00873924 0.01017075 0.00995917 ... 0.00821218 0.00458212 0.        ], sr=22050 as keyword args. From version 0.10 passing these as positional arguments will result in an error\n  import sys\n/opt/conda/lib/python3.7/site-packages/ipykernel_launcher.py:7: FutureWarning: Pass y=[-3.8278453e-05 -1.5818808e-04 -2.5462228e-04 ...  2.9705380e-04\n  2.2292009e-04  0.0000000e+00], sr=22050 as keyword args. From version 0.10 passing these as positional arguments will result in an error\n  import sys\n/opt/conda/lib/python3.7/site-packages/ipykernel_launcher.py:7: FutureWarning: Pass y=[ 9.8630764e-05 -1.8974583e-04 -3.9032308e-04 ...  4.7418181e-04\n  2.6393091e-04  0.0000000e+00], sr=22050 as keyword args. From version 0.10 passing these as positional arguments will result in an error\n  import sys\n/opt/conda/lib/python3.7/site-packages/ipykernel_launcher.py:7: FutureWarning: Pass y=[-3.5698089e-04 -3.2531377e-04 -2.4478984e-04 ... -1.2911341e-04\n -8.0801801e-05  0.0000000e+00], sr=22050 as keyword args. From version 0.10 passing these as positional arguments will result in an error\n  import sys\n 26%|██▋       | 368/1400 [00:10<00:31, 32.31it/s]/opt/conda/lib/python3.7/site-packages/ipykernel_launcher.py:7: FutureWarning: Pass y=[-0.00049335 -0.00061181 -0.00070843 ...  0.00070647  0.00035904\n  0.        ], sr=22050 as keyword args. From version 0.10 passing these as positional arguments will result in an error\n  import sys\n/opt/conda/lib/python3.7/site-packages/ipykernel_launcher.py:7: FutureWarning: Pass y=[ 0.0155505   0.01509669  0.01109245 ... -0.00757491 -0.00692559\n  0.        ], sr=22050 as keyword args. From version 0.10 passing these as positional arguments will result in an error\n  import sys\n/opt/conda/lib/python3.7/site-packages/ipykernel_launcher.py:7: FutureWarning: Pass y=[ 0.00106431  0.00158564  0.00037471 ... -0.00053275 -0.00133808\n  0.        ], sr=22050 as keyword args. From version 0.10 passing these as positional arguments will result in an error\n  import sys\n/opt/conda/lib/python3.7/site-packages/ipykernel_launcher.py:7: FutureWarning: Pass y=[-0.00115465 -0.00136296 -0.0013661  ... -0.00119027 -0.00060054\n  0.        ], sr=22050 as keyword args. From version 0.10 passing these as positional arguments will result in an error\n  import sys\n 27%|██▋       | 372/1400 [00:10<00:32, 31.27it/s]/opt/conda/lib/python3.7/site-packages/ipykernel_launcher.py:7: FutureWarning: Pass y=[ 0.00926089  0.01199458  0.0132406  ... -0.00960092 -0.00689803\n  0.        ], sr=22050 as keyword args. From version 0.10 passing these as positional arguments will result in an error\n  import sys\n/opt/conda/lib/python3.7/site-packages/ipykernel_launcher.py:7: FutureWarning: Pass y=[ 0.05311573  0.06532273  0.0705513  ... -0.00877549 -0.00377685\n  0.        ], sr=22050 as keyword args. From version 0.10 passing these as positional arguments will result in an error\n  import sys\n/opt/conda/lib/python3.7/site-packages/ipykernel_launcher.py:7: FutureWarning: Pass y=[ 0.00809423  0.0128059   0.01546665 ... -0.00520007 -0.0004071\n  0.        ], sr=22050 as keyword args. From version 0.10 passing these as positional arguments will result in an error\n  import sys\n/opt/conda/lib/python3.7/site-packages/ipykernel_launcher.py:7: FutureWarning: Pass y=[ 0.00986417  0.01191376  0.01226901 ... -0.01119109 -0.00722924\n  0.        ], sr=22050 as keyword args. From version 0.10 passing these as positional arguments will result in an error\n  import sys\n 27%|██▋       | 376/1400 [00:10<00:34, 29.50it/s]/opt/conda/lib/python3.7/site-packages/ipykernel_launcher.py:7: FutureWarning: Pass y=[ 0.0001763  -0.00223474 -0.00580377 ... -0.00754301 -0.00455216\n  0.        ], sr=22050 as keyword args. From version 0.10 passing these as positional arguments will result in an error\n  import sys\n/opt/conda/lib/python3.7/site-packages/ipykernel_launcher.py:7: FutureWarning: Pass y=[-0.00668669 -0.00571089 -0.0033472  ... -0.01031958 -0.0040485\n  0.        ], sr=22050 as keyword args. From version 0.10 passing these as positional arguments will result in an error\n  import sys\n/opt/conda/lib/python3.7/site-packages/ipykernel_launcher.py:7: FutureWarning: Pass y=[ 0.01108713  0.01257827  0.01195667 ... -0.01043651 -0.00826646\n  0.        ], sr=22050 as keyword args. From version 0.10 passing these as positional arguments will result in an error\n  import sys\n/opt/conda/lib/python3.7/site-packages/ipykernel_launcher.py:7: FutureWarning: Pass y=[-0.01628855 -0.02200703 -0.02383038 ... -0.01381681 -0.01126321\n  0.        ], sr=22050 as keyword args. From version 0.10 passing these as positional arguments will result in an error\n  import sys\n 27%|██▋       | 380/1400 [00:10<00:34, 29.25it/s]/opt/conda/lib/python3.7/site-packages/ipykernel_launcher.py:7: FutureWarning: Pass y=[-3.5317737e-04 -3.9794820e-04 -4.2274845e-04 ... -3.7036716e-05\n -7.4335971e-06  0.0000000e+00], sr=22050 as keyword args. From version 0.10 passing these as positional arguments will result in an error\n  import sys\n/opt/conda/lib/python3.7/site-packages/ipykernel_launcher.py:7: FutureWarning: Pass y=[ 0.01130054  0.01367852  0.01440813 ... -0.0083481  -0.00488799\n  0.        ], sr=22050 as keyword args. From version 0.10 passing these as positional arguments will result in an error\n  import sys\n/opt/conda/lib/python3.7/site-packages/ipykernel_launcher.py:7: FutureWarning: Pass y=[ 2.7706788e-04  5.1024702e-04  6.8940764e-04 ... -1.5371450e-04\n -3.5775702e-05  0.0000000e+00], sr=22050 as keyword args. From version 0.10 passing these as positional arguments will result in an error\n  import sys\n/opt/conda/lib/python3.7/site-packages/ipykernel_launcher.py:7: FutureWarning: Pass y=[ 0.00045663 -0.00011942 -0.00061868 ... -0.00696886 -0.00373856\n  0.        ], sr=22050 as keyword args. From version 0.10 passing these as positional arguments will result in an error\n  import sys\n/opt/conda/lib/python3.7/site-packages/ipykernel_launcher.py:7: FutureWarning: Pass y=[-0.0072181  -0.00928129 -0.00951311 ... -0.00028047 -0.00234186\n  0.        ], sr=22050 as keyword args. From version 0.10 passing these as positional arguments will result in an error\n  import sys\n 28%|██▊       | 385/1400 [00:10<00:31, 32.39it/s]/opt/conda/lib/python3.7/site-packages/ipykernel_launcher.py:7: FutureWarning: Pass y=[-0.00680166 -0.01004476 -0.01403012 ... -0.00121993  0.00017829\n  0.        ], sr=22050 as keyword args. From version 0.10 passing these as positional arguments will result in an error\n  import sys\n/opt/conda/lib/python3.7/site-packages/ipykernel_launcher.py:7: FutureWarning: Pass y=[ 6.448184e-05 -6.918722e-06 -7.432861e-05 ... -5.669696e-04 -4.365845e-04\n  0.000000e+00], sr=22050 as keyword args. From version 0.10 passing these as positional arguments will result in an error\n  import sys\n/opt/conda/lib/python3.7/site-packages/ipykernel_launcher.py:7: FutureWarning: Pass y=[0.00131162 0.00300645 0.00179605 ... 0.00028328 0.00244419 0.        ], sr=22050 as keyword args. From version 0.10 passing these as positional arguments will result in an error\n  import sys\n/opt/conda/lib/python3.7/site-packages/ipykernel_launcher.py:7: FutureWarning: Pass y=[ 0.02374921  0.02708245  0.02537573 ... -0.00797863 -0.00635097\n  0.        ], sr=22050 as keyword args. From version 0.10 passing these as positional arguments will result in an error\n  import sys\n/opt/conda/lib/python3.7/site-packages/ipykernel_launcher.py:7: FutureWarning: Pass y=[-0.01059509 -0.00419713  0.00521721 ... -0.00917696 -0.00689763\n  0.        ], sr=22050 as keyword args. From version 0.10 passing these as positional arguments will result in an error\n  import sys\n 28%|██▊       | 390/1400 [00:10<00:29, 34.58it/s]/opt/conda/lib/python3.7/site-packages/ipykernel_launcher.py:7: FutureWarning: Pass y=[0.0003018  0.00045376 0.00057972 ... 0.00084085 0.00049631 0.        ], sr=22050 as keyword args. From version 0.10 passing these as positional arguments will result in an error\n  import sys\n/opt/conda/lib/python3.7/site-packages/ipykernel_launcher.py:7: FutureWarning: Pass y=[-5.3242886e-05 -1.9571230e-04 -3.3400860e-04 ...  8.8848162e-04\n  5.9440942e-04  0.0000000e+00], sr=22050 as keyword args. From version 0.10 passing these as positional arguments will result in an error\n  import sys\n/opt/conda/lib/python3.7/site-packages/ipykernel_launcher.py:7: FutureWarning: Pass y=[-0.01593174 -0.01335299 -0.00604314 ...  0.00958527  0.0055457\n  0.        ], sr=22050 as keyword args. From version 0.10 passing these as positional arguments will result in an error\n  import sys\n/opt/conda/lib/python3.7/site-packages/ipykernel_launcher.py:7: FutureWarning: Pass y=[-0.0189511  -0.01883961 -0.01374879 ... -0.00966796 -0.00686011\n  0.        ], sr=22050 as keyword args. From version 0.10 passing these as positional arguments will result in an error\n  import sys\n 28%|██▊       | 394/1400 [00:10<00:29, 34.60it/s]/opt/conda/lib/python3.7/site-packages/ipykernel_launcher.py:7: FutureWarning: Pass y=[-0.01338921 -0.01227355 -0.01058023 ...  0.00131719 -0.00048122\n  0.        ], sr=22050 as keyword args. From version 0.10 passing these as positional arguments will result in an error\n  import sys\n/opt/conda/lib/python3.7/site-packages/ipykernel_launcher.py:7: FutureWarning: Pass y=[-0.00899133 -0.00781846 -0.00366858 ... -0.00800545 -0.00505834\n  0.        ], sr=22050 as keyword args. From version 0.10 passing these as positional arguments will result in an error\n  import sys\n/opt/conda/lib/python3.7/site-packages/ipykernel_launcher.py:7: FutureWarning: Pass y=[2.2166506e-04 2.0719733e-04 1.8041237e-04 ... 3.4276185e-05 1.1190521e-05\n 0.0000000e+00], sr=22050 as keyword args. From version 0.10 passing these as positional arguments will result in an error\n  import sys\n/opt/conda/lib/python3.7/site-packages/ipykernel_launcher.py:7: FutureWarning: Pass y=[-0.01292829 -0.00733796 -0.00132833 ...  0.00365397  0.00248465\n  0.        ], sr=22050 as keyword args. From version 0.10 passing these as positional arguments will result in an error\n  import sys\n 28%|██▊       | 398/1400 [00:11<00:32, 31.13it/s]/opt/conda/lib/python3.7/site-packages/ipykernel_launcher.py:7: FutureWarning: Pass y=[-2.3325458e-05 -1.5431813e-04 -2.8174350e-04 ...  4.7075209e-05\n  5.0532668e-05  0.0000000e+00], sr=22050 as keyword args. From version 0.10 passing these as positional arguments will result in an error\n  import sys\n/opt/conda/lib/python3.7/site-packages/ipykernel_launcher.py:7: FutureWarning: Pass y=[-0.00028628 -0.00032097 -0.00026877 ... -0.00018809 -0.00012333\n  0.        ], sr=22050 as keyword args. From version 0.10 passing these as positional arguments will result in an error\n  import sys\n/opt/conda/lib/python3.7/site-packages/ipykernel_launcher.py:7: FutureWarning: Pass y=[0.01083772 0.01261142 0.01224265 ... 0.00919761 0.00733867 0.        ], sr=22050 as keyword args. From version 0.10 passing these as positional arguments will result in an error\n  import sys\n/opt/conda/lib/python3.7/site-packages/ipykernel_launcher.py:7: FutureWarning: Pass y=[-2.2238896e-04 -2.8045519e-04 -3.0523611e-04 ... -1.2205046e-04\n -9.0610090e-05  0.0000000e+00], sr=22050 as keyword args. From version 0.10 passing these as positional arguments will result in an error\n  import sys\n 29%|██▊       | 402/1400 [00:11<00:32, 30.86it/s]/opt/conda/lib/python3.7/site-packages/ipykernel_launcher.py:7: FutureWarning: Pass y=[-0.01175099 -0.01576894 -0.01860877 ... -0.01037942 -0.00792113\n  0.        ], sr=22050 as keyword args. From version 0.10 passing these as positional arguments will result in an error\n  import sys\n/opt/conda/lib/python3.7/site-packages/ipykernel_launcher.py:7: FutureWarning: Pass y=[ 0.01101641  0.01335165  0.01399878 ... -0.0096433  -0.00658723\n  0.        ], sr=22050 as keyword args. From version 0.10 passing these as positional arguments will result in an error\n  import sys\n/opt/conda/lib/python3.7/site-packages/ipykernel_launcher.py:7: FutureWarning: Pass y=[-7.6302746e-04 -8.1656547e-04 -6.7670346e-04 ...  5.3577958e-05\n  3.2552027e-05  0.0000000e+00], sr=22050 as keyword args. From version 0.10 passing these as positional arguments will result in an error\n  import sys\n/opt/conda/lib/python3.7/site-packages/ipykernel_launcher.py:7: FutureWarning: Pass y=[-0.00865422 -0.01397903 -0.01598609 ... -0.00617957 -0.00207975\n  0.        ], sr=22050 as keyword args. From version 0.10 passing these as positional arguments will result in an error\n  import sys\n 29%|██▉       | 406/1400 [00:11<00:34, 29.04it/s]/opt/conda/lib/python3.7/site-packages/ipykernel_launcher.py:7: FutureWarning: Pass y=[-2.6293821e-04 -3.1099404e-04 -3.1410603e-04 ... -6.6071539e-06\n -5.5976176e-05  0.0000000e+00], sr=22050 as keyword args. From version 0.10 passing these as positional arguments will result in an error\n  import sys\n/opt/conda/lib/python3.7/site-packages/ipykernel_launcher.py:7: FutureWarning: Pass y=[ 4.1731968e-04  3.9541410e-04  2.9374100e-04 ... -2.5087436e-05\n  2.0452342e-05  0.0000000e+00], sr=22050 as keyword args. From version 0.10 passing these as positional arguments will result in an error\n  import sys\n/opt/conda/lib/python3.7/site-packages/ipykernel_launcher.py:7: FutureWarning: Pass y=[-0.00037121 -0.00049811 -0.0005147  ...  0.00013225  0.00014316\n  0.        ], sr=22050 as keyword args. From version 0.10 passing these as positional arguments will result in an error\n  import sys\n 29%|██▉       | 409/1400 [00:11<00:34, 28.69it/s]/opt/conda/lib/python3.7/site-packages/ipykernel_launcher.py:7: FutureWarning: Pass y=[-0.01261714 -0.01605257 -0.01796651 ... -0.00745523 -0.00395471\n  0.        ], sr=22050 as keyword args. From version 0.10 passing these as positional arguments will result in an error\n  import sys\n/opt/conda/lib/python3.7/site-packages/ipykernel_launcher.py:7: FutureWarning: Pass y=[0.00113459 0.00123926 0.00115177 ... 0.00065639 0.0004059  0.        ], sr=22050 as keyword args. From version 0.10 passing these as positional arguments will result in an error\n  import sys\n/opt/conda/lib/python3.7/site-packages/ipykernel_launcher.py:7: FutureWarning: Pass y=[-0.00077443 -0.00697159 -0.01269625 ... -0.00831207 -0.00467837\n  0.        ], sr=22050 as keyword args. From version 0.10 passing these as positional arguments will result in an error\n  import sys\n 29%|██▉       | 412/1400 [00:11<00:35, 27.71it/s]/opt/conda/lib/python3.7/site-packages/ipykernel_launcher.py:7: FutureWarning: Pass y=[ 2.7068938e-05  8.4845524e-05  1.4900435e-04 ... -2.9451496e-04\n -1.4923542e-04  0.0000000e+00], sr=22050 as keyword args. From version 0.10 passing these as positional arguments will result in an error\n  import sys\n/opt/conda/lib/python3.7/site-packages/ipykernel_launcher.py:7: FutureWarning: Pass y=[-0.01297805 -0.00247491  0.01122601 ... -0.00714979 -0.00349285\n  0.        ], sr=22050 as keyword args. From version 0.10 passing these as positional arguments will result in an error\n  import sys\n/opt/conda/lib/python3.7/site-packages/ipykernel_launcher.py:7: FutureWarning: Pass y=[ 3.0458521e-04  1.9864673e-04  7.2689836e-05 ... -1.1261023e-04\n -1.4443697e-04  0.0000000e+00], sr=22050 as keyword args. From version 0.10 passing these as positional arguments will result in an error\n  import sys\n 30%|██▉       | 415/1400 [00:11<00:36, 26.85it/s]/opt/conda/lib/python3.7/site-packages/ipykernel_launcher.py:7: FutureWarning: Pass y=[-0.00036026  0.0002468   0.00067291 ... -0.0001834  -0.00012929\n  0.        ], sr=22050 as keyword args. From version 0.10 passing these as positional arguments will result in an error\n  import sys\n/opt/conda/lib/python3.7/site-packages/ipykernel_launcher.py:7: FutureWarning: Pass y=[-0.01116951 -0.01476257 -0.01665974 ... -0.00881063 -0.00549749\n  0.        ], sr=22050 as keyword args. From version 0.10 passing these as positional arguments will result in an error\n  import sys\n/opt/conda/lib/python3.7/site-packages/ipykernel_launcher.py:7: FutureWarning: Pass y=[-0.0001123  -0.0001603  -0.0002119  ... -0.00046574 -0.00034456\n  0.        ], sr=22050 as keyword args. From version 0.10 passing these as positional arguments will result in an error\n  import sys\n 30%|██▉       | 418/1400 [00:11<00:37, 26.36it/s]/opt/conda/lib/python3.7/site-packages/ipykernel_launcher.py:7: FutureWarning: Pass y=[ 0.00016826  0.00018294  0.00021386 ... -0.0003805  -0.00018878\n  0.        ], sr=22050 as keyword args. From version 0.10 passing these as positional arguments will result in an error\n  import sys\n/opt/conda/lib/python3.7/site-packages/ipykernel_launcher.py:7: FutureWarning: Pass y=[-0.01589102 -0.01024395 -0.00281679 ... -0.00930385 -0.00640995\n  0.        ], sr=22050 as keyword args. From version 0.10 passing these as positional arguments will result in an error\n  import sys\n/opt/conda/lib/python3.7/site-packages/ipykernel_launcher.py:7: FutureWarning: Pass y=[0.00044674 0.00042569 0.00032398 ... 0.00051259 0.00031685 0.        ], sr=22050 as keyword args. From version 0.10 passing these as positional arguments will result in an error\n  import sys\n 30%|███       | 421/1400 [00:11<00:37, 25.97it/s]/opt/conda/lib/python3.7/site-packages/ipykernel_launcher.py:7: FutureWarning: Pass y=[-0.00553058 -0.00603946 -0.00503229 ... -0.00443816 -0.00294311\n  0.        ], sr=22050 as keyword args. From version 0.10 passing these as positional arguments will result in an error\n  import sys\n/opt/conda/lib/python3.7/site-packages/ipykernel_launcher.py:7: FutureWarning: Pass y=[-0.00736712 -0.00912982 -0.0091941  ... -0.01325849 -0.00862608\n  0.        ], sr=22050 as keyword args. From version 0.10 passing these as positional arguments will result in an error\n  import sys\n/opt/conda/lib/python3.7/site-packages/ipykernel_launcher.py:7: FutureWarning: Pass y=[ 4.2851214e-05  2.3057664e-05 -1.9516700e-04 ... -7.6243142e-04\n -3.6593064e-04  0.0000000e+00], sr=22050 as keyword args. From version 0.10 passing these as positional arguments will result in an error\n  import sys\n 30%|███       | 424/1400 [00:12<00:38, 25.64it/s]/opt/conda/lib/python3.7/site-packages/ipykernel_launcher.py:7: FutureWarning: Pass y=[-1.4738686e-02 -1.0860448e-02 -4.4041630e-03 ... -7.1155853e-05\n  2.4727962e-03  0.0000000e+00], sr=22050 as keyword args. From version 0.10 passing these as positional arguments will result in an error\n  import sys\n/opt/conda/lib/python3.7/site-packages/ipykernel_launcher.py:7: FutureWarning: Pass y=[1.6216232e-05 4.7063972e-05 4.4487289e-05 ... 4.4701850e-05 1.8708617e-05\n 0.0000000e+00], sr=22050 as keyword args. From version 0.10 passing these as positional arguments will result in an error\n  import sys\n/opt/conda/lib/python3.7/site-packages/ipykernel_launcher.py:7: FutureWarning: Pass y=[ 0.00032242  0.00029701  0.000263   ... -0.00141425 -0.00085174\n  0.        ], sr=22050 as keyword args. From version 0.10 passing these as positional arguments will result in an error\n  import sys\n/opt/conda/lib/python3.7/site-packages/ipykernel_launcher.py:7: FutureWarning: Pass y=[-0.00955616 -0.01521473 -0.01634784 ... -0.00610132 -0.0024879\n  0.        ], sr=22050 as keyword args. From version 0.10 passing these as positional arguments will result in an error\n  import sys\n/opt/conda/lib/python3.7/site-packages/ipykernel_launcher.py:7: FutureWarning: Pass y=[ 0.00067998  0.00042068 -0.0003371  ...  0.00643547  0.00696891\n  0.        ], sr=22050 as keyword args. From version 0.10 passing these as positional arguments will result in an error\n  import sys\n 31%|███       | 429/1400 [00:12<00:32, 30.03it/s]/opt/conda/lib/python3.7/site-packages/ipykernel_launcher.py:7: FutureWarning: Pass y=[-0.00876389 -0.01039559 -0.00907513 ... -0.00621034 -0.00614898\n  0.        ], sr=22050 as keyword args. From version 0.10 passing these as positional arguments will result in an error\n  import sys\n/opt/conda/lib/python3.7/site-packages/ipykernel_launcher.py:7: FutureWarning: Pass y=[-0.02901107 -0.02448062 -0.01132948 ...  0.00833953  0.00404735\n  0.        ], sr=22050 as keyword args. From version 0.10 passing these as positional arguments will result in an error\n  import sys\n/opt/conda/lib/python3.7/site-packages/ipykernel_launcher.py:7: FutureWarning: Pass y=[ 0.00070528  0.00015698 -0.00032496 ... -0.00019198 -0.00028195\n  0.        ], sr=22050 as keyword args. From version 0.10 passing these as positional arguments will result in an error\n  import sys\n/opt/conda/lib/python3.7/site-packages/ipykernel_launcher.py:7: FutureWarning: Pass y=[-1.1050645e-04 -4.1972555e-05  3.1253345e-05 ... -1.8623294e-04\n -4.8239322e-05  0.0000000e+00], sr=22050 as keyword args. From version 0.10 passing these as positional arguments will result in an error\n  import sys\n/opt/conda/lib/python3.7/site-packages/ipykernel_launcher.py:7: FutureWarning: Pass y=[-0.0005349   0.00029281  0.00104439 ... -0.01987138 -0.00982696\n  0.        ], sr=22050 as keyword args. From version 0.10 passing these as positional arguments will result in an error\n  import sys\n 31%|███       | 434/1400 [00:12<00:28, 33.53it/s]/opt/conda/lib/python3.7/site-packages/ipykernel_launcher.py:7: FutureWarning: Pass y=[-3.2976674e-04 -2.8552691e-04 -8.0861158e-05 ...  2.4257085e-04\n  2.3812665e-04  0.0000000e+00], sr=22050 as keyword args. From version 0.10 passing these as positional arguments will result in an error\n  import sys\n/opt/conda/lib/python3.7/site-packages/ipykernel_launcher.py:7: FutureWarning: Pass y=[-2.7064874e-04 -1.5245052e-04  6.0491871e-05 ... -5.8517871e-05\n -3.8382332e-05  0.0000000e+00], sr=22050 as keyword args. From version 0.10 passing these as positional arguments will result in an error\n  import sys\n/opt/conda/lib/python3.7/site-packages/ipykernel_launcher.py:7: FutureWarning: Pass y=[-4.2492127e-05 -6.6624605e-05 -2.1254536e-04 ...  1.3804258e-03\n  1.0374169e-03  0.0000000e+00], sr=22050 as keyword args. From version 0.10 passing these as positional arguments will result in an error\n  import sys\n/opt/conda/lib/python3.7/site-packages/ipykernel_launcher.py:7: FutureWarning: Pass y=[-0.00442093 -0.00276909 -0.00081569 ...  0.00432238  0.00455159\n  0.        ], sr=22050 as keyword args. From version 0.10 passing these as positional arguments will result in an error\n  import sys\n/opt/conda/lib/python3.7/site-packages/ipykernel_launcher.py:7: FutureWarning: Pass y=[-0.00392571 -0.00219628 -0.00108276 ... -0.00411524 -0.00352335\n  0.        ], sr=22050 as keyword args. From version 0.10 passing these as positional arguments will result in an error\n  import sys\n 31%|███▏      | 439/1400 [00:12<00:27, 35.15it/s]/opt/conda/lib/python3.7/site-packages/ipykernel_launcher.py:7: FutureWarning: Pass y=[ 6.4503845e-05  9.7255739e-05  1.0378359e-04 ... -3.1902950e-04\n -2.1184329e-04  0.0000000e+00], sr=22050 as keyword args. From version 0.10 passing these as positional arguments will result in an error\n  import sys\n/opt/conda/lib/python3.7/site-packages/ipykernel_launcher.py:7: FutureWarning: Pass y=[-0.00896673 -0.01065176 -0.01078402 ... -0.00906902 -0.006155\n  0.        ], sr=22050 as keyword args. From version 0.10 passing these as positional arguments will result in an error\n  import sys\n/opt/conda/lib/python3.7/site-packages/ipykernel_launcher.py:7: FutureWarning: Pass y=[-0.01461519 -0.01320274 -0.01012849 ... -0.00769239 -0.00606125\n  0.        ], sr=22050 as keyword args. From version 0.10 passing these as positional arguments will result in an error\n  import sys\n/opt/conda/lib/python3.7/site-packages/ipykernel_launcher.py:7: FutureWarning: Pass y=[-2.98193569e-04 -1.28399057e-04  3.71510614e-05 ...  1.08907525e-05\n  1.59247447e-05  0.00000000e+00], sr=22050 as keyword args. From version 0.10 passing these as positional arguments will result in an error\n  import sys\n 32%|███▏      | 443/1400 [00:12<00:26, 36.11it/s]/opt/conda/lib/python3.7/site-packages/ipykernel_launcher.py:7: FutureWarning: Pass y=[-6.4842643e-05 -3.9992399e-05 -4.5272814e-06 ... -3.9564100e-05\n -1.9386980e-05  0.0000000e+00], sr=22050 as keyword args. From version 0.10 passing these as positional arguments will result in an error\n  import sys\n/opt/conda/lib/python3.7/site-packages/ipykernel_launcher.py:7: FutureWarning: Pass y=[-0.00094861 -0.00338368 -0.00556289 ... -0.00749142 -0.00216646\n  0.        ], sr=22050 as keyword args. From version 0.10 passing these as positional arguments will result in an error\n  import sys\n/opt/conda/lib/python3.7/site-packages/ipykernel_launcher.py:7: FutureWarning: Pass y=[-0.00988518 -0.01094614 -0.01046498 ...  0.01091982  0.00692666\n  0.        ], sr=22050 as keyword args. From version 0.10 passing these as positional arguments will result in an error\n  import sys\n/opt/conda/lib/python3.7/site-packages/ipykernel_launcher.py:7: FutureWarning: Pass y=[0.03704252 0.03410676 0.0218757  ... 0.00079249 0.00251885 0.        ], sr=22050 as keyword args. From version 0.10 passing these as positional arguments will result in an error\n  import sys\n 32%|███▏      | 447/1400 [00:12<00:25, 36.92it/s]/opt/conda/lib/python3.7/site-packages/ipykernel_launcher.py:7: FutureWarning: Pass y=[-0.00915875 -0.01588343 -0.01745584 ... -0.01242484 -0.00487281\n  0.        ], sr=22050 as keyword args. From version 0.10 passing these as positional arguments will result in an error\n  import sys\n/opt/conda/lib/python3.7/site-packages/ipykernel_launcher.py:7: FutureWarning: Pass y=[ 0.00560784  0.00323724  0.00192004 ... -0.00029915  0.00194626\n  0.        ], sr=22050 as keyword args. From version 0.10 passing these as positional arguments will result in an error\n  import sys\n/opt/conda/lib/python3.7/site-packages/ipykernel_launcher.py:7: FutureWarning: Pass y=[ 1.1522975e-05 -1.5293181e-04 -3.4144268e-04 ...  8.6558732e-04\n  4.9163069e-04  0.0000000e+00], sr=22050 as keyword args. From version 0.10 passing these as positional arguments will result in an error\n  import sys\n/opt/conda/lib/python3.7/site-packages/ipykernel_launcher.py:7: FutureWarning: Pass y=[ 0.0005949   0.00035432 -0.0001654  ...  0.00033156  0.00023872\n  0.        ], sr=22050 as keyword args. From version 0.10 passing these as positional arguments will result in an error\n  import sys\n/opt/conda/lib/python3.7/site-packages/ipykernel_launcher.py:7: FutureWarning: Pass y=[ 0.01208585  0.01247999  0.00806017 ... -0.00979522 -0.00726398\n  0.        ], sr=22050 as keyword args. From version 0.10 passing these as positional arguments will result in an error\n  import sys\n 32%|███▏      | 452/1400 [00:12<00:24, 39.40it/s]/opt/conda/lib/python3.7/site-packages/ipykernel_launcher.py:7: FutureWarning: Pass y=[ 9.8780496e-05  3.4772987e-05 -2.4433619e-05 ... -2.2198717e-04\n -1.6876811e-04  0.0000000e+00], sr=22050 as keyword args. From version 0.10 passing these as positional arguments will result in an error\n  import sys\n/opt/conda/lib/python3.7/site-packages/ipykernel_launcher.py:7: FutureWarning: Pass y=[-0.00022207 -0.00021424 -0.00012104 ... -0.00015628 -0.0001822\n  0.        ], sr=22050 as keyword args. From version 0.10 passing these as positional arguments will result in an error\n  import sys\n/opt/conda/lib/python3.7/site-packages/ipykernel_launcher.py:7: FutureWarning: Pass y=[0.00904929 0.01079783 0.01105259 ... 0.00750495 0.00379303 0.        ], sr=22050 as keyword args. From version 0.10 passing these as positional arguments will result in an error\n  import sys\n/opt/conda/lib/python3.7/site-packages/ipykernel_launcher.py:7: FutureWarning: Pass y=[ 6.4700674e-07  5.2238494e-05  5.8859900e-05 ... -3.4808452e-04\n -1.9912631e-04  0.0000000e+00], sr=22050 as keyword args. From version 0.10 passing these as positional arguments will result in an error\n  import sys\n 33%|███▎      | 456/1400 [00:12<00:24, 38.40it/s]/opt/conda/lib/python3.7/site-packages/ipykernel_launcher.py:7: FutureWarning: Pass y=[ 5.4752600e-04  4.0823876e-04  2.3334322e-05 ...  2.2575849e-05\n -3.7079375e-05  0.0000000e+00], sr=22050 as keyword args. From version 0.10 passing these as positional arguments will result in an error\n  import sys\n/opt/conda/lib/python3.7/site-packages/ipykernel_launcher.py:7: FutureWarning: Pass y=[ 5.9146714e-05  6.7418980e-05  7.9094971e-05 ... -4.5583383e-04\n -2.3515108e-04  0.0000000e+00], sr=22050 as keyword args. From version 0.10 passing these as positional arguments will result in an error\n  import sys\n/opt/conda/lib/python3.7/site-packages/ipykernel_launcher.py:7: FutureWarning: Pass y=[-5.4800545e-05 -3.4465673e-05 -1.2531506e-05 ... -1.4246430e-04\n -1.6104072e-04  0.0000000e+00], sr=22050 as keyword args. From version 0.10 passing these as positional arguments will result in an error\n  import sys\n/opt/conda/lib/python3.7/site-packages/ipykernel_launcher.py:7: FutureWarning: Pass y=[-1.7364935e-05  3.0808125e-05  3.2817752e-05 ... -9.0356770e-07\n  2.0214617e-05  0.0000000e+00], sr=22050 as keyword args. From version 0.10 passing these as positional arguments will result in an error\n  import sys\n/opt/conda/lib/python3.7/site-packages/ipykernel_launcher.py:7: FutureWarning: Pass y=[-0.00771398 -0.00785282 -0.00743092 ... -0.00553901 -0.00056162\n  0.        ], sr=22050 as keyword args. From version 0.10 passing these as positional arguments will result in an error\n  import sys\n 33%|███▎      | 461/1400 [00:12<00:23, 39.86it/s]/opt/conda/lib/python3.7/site-packages/ipykernel_launcher.py:7: FutureWarning: Pass y=[-0.01128018 -0.01510549 -0.01788933 ...  0.00859837  0.0051591\n  0.        ], sr=22050 as keyword args. From version 0.10 passing these as positional arguments will result in an error\n  import sys\n/opt/conda/lib/python3.7/site-packages/ipykernel_launcher.py:7: FutureWarning: Pass y=[-0.00946243 -0.01451403 -0.01562436 ... -0.01527489 -0.01219951\n  0.        ], sr=22050 as keyword args. From version 0.10 passing these as positional arguments will result in an error\n  import sys\n/opt/conda/lib/python3.7/site-packages/ipykernel_launcher.py:7: FutureWarning: Pass y=[0.00985212 0.01144829 0.01122327 ... 0.01051125 0.00767794 0.        ], sr=22050 as keyword args. From version 0.10 passing these as positional arguments will result in an error\n  import sys\n/opt/conda/lib/python3.7/site-packages/ipykernel_launcher.py:7: FutureWarning: Pass y=[0.01377526 0.01610336 0.01745691 ... 0.00145526 0.00204531 0.        ], sr=22050 as keyword args. From version 0.10 passing these as positional arguments will result in an error\n  import sys\n 33%|███▎      | 465/1400 [00:13<00:23, 39.35it/s]/opt/conda/lib/python3.7/site-packages/ipykernel_launcher.py:7: FutureWarning: Pass y=[ 3.4066514e-04  1.3262311e-04 -1.0935990e-04 ...  2.4920015e-05\n  9.9840590e-06  0.0000000e+00], sr=22050 as keyword args. From version 0.10 passing these as positional arguments will result in an error\n  import sys\n/opt/conda/lib/python3.7/site-packages/ipykernel_launcher.py:7: FutureWarning: Pass y=[-1.3626262e-03 -4.7367867e-04  4.8376565e-04 ... -1.8115915e-04\n  5.3525102e-05  0.0000000e+00], sr=22050 as keyword args. From version 0.10 passing these as positional arguments will result in an error\n  import sys\n/opt/conda/lib/python3.7/site-packages/ipykernel_launcher.py:7: FutureWarning: Pass y=[ 0.01041199  0.00860256  0.00357574 ... -0.01094435 -0.00603507\n  0.        ], sr=22050 as keyword args. From version 0.10 passing these as positional arguments will result in an error\n  import sys\n/opt/conda/lib/python3.7/site-packages/ipykernel_launcher.py:7: FutureWarning: Pass y=[ 3.6801648e-05 -1.4040836e-04 -2.7859816e-04 ... -3.3588894e-04\n -2.4875271e-04  0.0000000e+00], sr=22050 as keyword args. From version 0.10 passing these as positional arguments will result in an error\n  import sys\n 34%|███▎      | 469/1400 [00:13<00:23, 39.39it/s]/opt/conda/lib/python3.7/site-packages/ipykernel_launcher.py:7: FutureWarning: Pass y=[-0.00026507 -0.00442086 -0.00750119 ... -0.01332583 -0.01203225\n  0.        ], sr=22050 as keyword args. From version 0.10 passing these as positional arguments will result in an error\n  import sys\n/opt/conda/lib/python3.7/site-packages/ipykernel_launcher.py:7: FutureWarning: Pass y=[-0.00158303 -0.0018494  -0.0018068  ...  0.00037343  0.00012769\n  0.        ], sr=22050 as keyword args. From version 0.10 passing these as positional arguments will result in an error\n  import sys\n/opt/conda/lib/python3.7/site-packages/ipykernel_launcher.py:7: FutureWarning: Pass y=[0.00075093 0.00091014 0.00093366 ... 0.00219467 0.00118531 0.        ], sr=22050 as keyword args. From version 0.10 passing these as positional arguments will result in an error\n  import sys\n/opt/conda/lib/python3.7/site-packages/ipykernel_launcher.py:7: FutureWarning: Pass y=[-0.0091686  -0.01387744 -0.01532508 ... -0.00624677 -0.00610242\n  0.        ], sr=22050 as keyword args. From version 0.10 passing these as positional arguments will result in an error\n  import sys\n/opt/conda/lib/python3.7/site-packages/ipykernel_launcher.py:7: FutureWarning: Pass y=[0.00057112 0.00040919 0.00016341 ... 0.00063329 0.00041738 0.        ], sr=22050 as keyword args. From version 0.10 passing these as positional arguments will result in an error\n  import sys\n 34%|███▍      | 474/1400 [00:13<00:22, 40.62it/s]/opt/conda/lib/python3.7/site-packages/ipykernel_launcher.py:7: FutureWarning: Pass y=[-5.9406928e-05 -9.1697861e-05 -1.0503701e-04 ... -1.1698429e-03\n -7.8675844e-04  0.0000000e+00], sr=22050 as keyword args. From version 0.10 passing these as positional arguments will result in an error\n  import sys\n/opt/conda/lib/python3.7/site-packages/ipykernel_launcher.py:7: FutureWarning: Pass y=[-1.6579154e-04 -1.3696011e-04 -5.9563918e-05 ...  5.7636236e-04\n  3.6052873e-04  0.0000000e+00], sr=22050 as keyword args. From version 0.10 passing these as positional arguments will result in an error\n  import sys\n/opt/conda/lib/python3.7/site-packages/ipykernel_launcher.py:7: FutureWarning: Pass y=[-0.00625192 -0.00393095 -0.00188927 ... -0.0105392  -0.00442834\n  0.        ], sr=22050 as keyword args. From version 0.10 passing these as positional arguments will result in an error\n  import sys\n/opt/conda/lib/python3.7/site-packages/ipykernel_launcher.py:7: FutureWarning: Pass y=[-0.00919657 -0.01169794 -0.01275383 ... -0.00980583 -0.00662508\n  0.        ], sr=22050 as keyword args. From version 0.10 passing these as positional arguments will result in an error\n  import sys\n/opt/conda/lib/python3.7/site-packages/ipykernel_launcher.py:7: FutureWarning: Pass y=[-7.9566948e-05 -2.4213722e-04 -3.9632601e-04 ... -9.7398603e-05\n -4.6552363e-05  0.0000000e+00], sr=22050 as keyword args. From version 0.10 passing these as positional arguments will result in an error\n  import sys\n 34%|███▍      | 479/1400 [00:13<00:22, 40.85it/s]/opt/conda/lib/python3.7/site-packages/ipykernel_launcher.py:7: FutureWarning: Pass y=[ 0.00042481  0.00072069  0.00079923 ... -0.00226051 -0.00137745\n  0.        ], sr=22050 as keyword args. From version 0.10 passing these as positional arguments will result in an error\n  import sys\n/opt/conda/lib/python3.7/site-packages/ipykernel_launcher.py:7: FutureWarning: Pass y=[-0.00672526 -0.0081842  -0.00898947 ...  0.00143002  0.00293064\n  0.        ], sr=22050 as keyword args. From version 0.10 passing these as positional arguments will result in an error\n  import sys\n/opt/conda/lib/python3.7/site-packages/ipykernel_launcher.py:7: FutureWarning: Pass y=[-0.00869885 -0.01266306 -0.01462774 ... -0.00620768 -0.00273009\n  0.        ], sr=22050 as keyword args. From version 0.10 passing these as positional arguments will result in an error\n  import sys\n/opt/conda/lib/python3.7/site-packages/ipykernel_launcher.py:7: FutureWarning: Pass y=[-0.00782675 -0.00850774 -0.00809556 ... -0.00512082 -0.00196779\n  0.        ], sr=22050 as keyword args. From version 0.10 passing these as positional arguments will result in an error\n  import sys\n/opt/conda/lib/python3.7/site-packages/ipykernel_launcher.py:7: FutureWarning: Pass y=[ 1.2264545e-04  1.6108432e-04  1.5767963e-04 ... -2.9026045e-05\n  3.6825681e-05  0.0000000e+00], sr=22050 as keyword args. From version 0.10 passing these as positional arguments will result in an error\n  import sys\n 35%|███▍      | 484/1400 [00:13<00:21, 41.70it/s]/opt/conda/lib/python3.7/site-packages/ipykernel_launcher.py:7: FutureWarning: Pass y=[0.00040051 0.00053069 0.00043214 ... 0.00056997 0.00048496 0.        ], sr=22050 as keyword args. From version 0.10 passing these as positional arguments will result in an error\n  import sys\n/opt/conda/lib/python3.7/site-packages/ipykernel_launcher.py:7: FutureWarning: Pass y=[-0.00937629 -0.01179539 -0.01210951 ... -0.00752822 -0.00399158\n  0.        ], sr=22050 as keyword args. From version 0.10 passing these as positional arguments will result in an error\n  import sys\n/opt/conda/lib/python3.7/site-packages/ipykernel_launcher.py:7: FutureWarning: Pass y=[-0.00105749 -0.0012803  -0.00129782 ... -0.00024834 -0.00016305\n  0.        ], sr=22050 as keyword args. From version 0.10 passing these as positional arguments will result in an error\n  import sys\n/opt/conda/lib/python3.7/site-packages/ipykernel_launcher.py:7: FutureWarning: Pass y=[-7.7408673e-05 -2.2949486e-04 -2.4320597e-04 ...  1.6316917e-04\n  3.5721761e-05  0.0000000e+00], sr=22050 as keyword args. From version 0.10 passing these as positional arguments will result in an error\n  import sys\n/opt/conda/lib/python3.7/site-packages/ipykernel_launcher.py:7: FutureWarning: Pass y=[-0.01118911 -0.01333256 -0.01341301 ... -0.0075526  -0.00377254\n  0.        ], sr=22050 as keyword args. From version 0.10 passing these as positional arguments will result in an error\n  import sys\n 35%|███▍      | 489/1400 [00:13<00:21, 41.47it/s]/opt/conda/lib/python3.7/site-packages/ipykernel_launcher.py:7: FutureWarning: Pass y=[ 0.00010122  0.00010513  0.00010996 ... -0.00050966 -0.00032527\n  0.        ], sr=22050 as keyword args. From version 0.10 passing these as positional arguments will result in an error\n  import sys\n/opt/conda/lib/python3.7/site-packages/ipykernel_launcher.py:7: FutureWarning: Pass y=[0.00134539 0.00128609 0.00067012 ... 0.00011198 0.00030465 0.        ], sr=22050 as keyword args. From version 0.10 passing these as positional arguments will result in an error\n  import sys\n/opt/conda/lib/python3.7/site-packages/ipykernel_launcher.py:7: FutureWarning: Pass y=[-0.00064622  0.00015268  0.00054421 ...  0.0005646   0.00019246\n  0.        ], sr=22050 as keyword args. From version 0.10 passing these as positional arguments will result in an error\n  import sys\n/opt/conda/lib/python3.7/site-packages/ipykernel_launcher.py:7: FutureWarning: Pass y=[ 0.01072331  0.00844378  0.00331656 ... -0.00909333 -0.00529731\n  0.        ], sr=22050 as keyword args. From version 0.10 passing these as positional arguments will result in an error\n  import sys\n/opt/conda/lib/python3.7/site-packages/ipykernel_launcher.py:7: FutureWarning: Pass y=[ 1.5802934e-05 -1.2480655e-05  6.4920215e-07 ... -1.6119666e-03\n -1.1215820e-03  0.0000000e+00], sr=22050 as keyword args. From version 0.10 passing these as positional arguments will result in an error\n  import sys\n 35%|███▌      | 494/1400 [00:13<00:22, 39.78it/s]/opt/conda/lib/python3.7/site-packages/ipykernel_launcher.py:7: FutureWarning: Pass y=[-4.9102254e-04 -5.9272489e-04 -5.6632090e-04 ... -1.0649471e-04\n -7.4449606e-05  0.0000000e+00], sr=22050 as keyword args. From version 0.10 passing these as positional arguments will result in an error\n  import sys\n/opt/conda/lib/python3.7/site-packages/ipykernel_launcher.py:7: FutureWarning: Pass y=[-0.00918413 -0.0105588  -0.01022695 ... -0.00956838 -0.005484\n  0.        ], sr=22050 as keyword args. From version 0.10 passing these as positional arguments will result in an error\n  import sys\n/opt/conda/lib/python3.7/site-packages/ipykernel_launcher.py:7: FutureWarning: Pass y=[-0.00043983 -0.00499741 -0.00785993 ... -0.00638572 -0.00664218\n  0.        ], sr=22050 as keyword args. From version 0.10 passing these as positional arguments will result in an error\n  import sys\n/opt/conda/lib/python3.7/site-packages/ipykernel_launcher.py:7: FutureWarning: Pass y=[ 5.4318989e-05  2.5010422e-05 -8.8954876e-06 ...  1.6913614e-04\n  8.8016110e-05  0.0000000e+00], sr=22050 as keyword args. From version 0.10 passing these as positional arguments will result in an error\n  import sys\n/opt/conda/lib/python3.7/site-packages/ipykernel_launcher.py:7: FutureWarning: Pass y=[ 3.3392898e-05 -9.0058209e-05 -2.3797504e-04 ... -3.4695250e-04\n -1.7143691e-04  0.0000000e+00], sr=22050 as keyword args. From version 0.10 passing these as positional arguments will result in an error\n  import sys\n 36%|███▌      | 499/1400 [00:13<00:22, 40.40it/s]/opt/conda/lib/python3.7/site-packages/ipykernel_launcher.py:7: FutureWarning: Pass y=[4.3444797e-05 5.4605305e-05 3.6637655e-05 ... 4.0112701e-04 3.2681884e-04\n 0.0000000e+00], sr=22050 as keyword args. From version 0.10 passing these as positional arguments will result in an error\n  import sys\n/opt/conda/lib/python3.7/site-packages/ipykernel_launcher.py:7: FutureWarning: Pass y=[0.01282279 0.01619399 0.017465   ... 0.00749116 0.00370417 0.        ], sr=22050 as keyword args. From version 0.10 passing these as positional arguments will result in an error\n  import sys\n/opt/conda/lib/python3.7/site-packages/ipykernel_launcher.py:7: FutureWarning: Pass y=[-0.0001735  -0.00049016 -0.00077302 ... -0.00122182 -0.00096516\n  0.        ], sr=22050 as keyword args. From version 0.10 passing these as positional arguments will result in an error\n  import sys\n/opt/conda/lib/python3.7/site-packages/ipykernel_launcher.py:7: FutureWarning: Pass y=[-0.00062301 -0.00059018 -0.0004685  ... -0.00027387 -0.00022134\n  0.        ], sr=22050 as keyword args. From version 0.10 passing these as positional arguments will result in an error\n  import sys\n/opt/conda/lib/python3.7/site-packages/ipykernel_launcher.py:7: FutureWarning: Pass y=[-0.00772226 -0.00898907 -0.00867451 ... -0.00156422  0.00201843\n  0.        ], sr=22050 as keyword args. From version 0.10 passing these as positional arguments will result in an error\n  import sys\n 36%|███▌      | 504/1400 [00:13<00:21, 40.92it/s]/opt/conda/lib/python3.7/site-packages/ipykernel_launcher.py:7: FutureWarning: Pass y=[-0.00044617 -0.00052381 -0.00054048 ... -0.00038884 -0.00035988\n  0.        ], sr=22050 as keyword args. From version 0.10 passing these as positional arguments will result in an error\n  import sys\n/opt/conda/lib/python3.7/site-packages/ipykernel_launcher.py:7: FutureWarning: Pass y=[-5.4457290e-05 -1.1175282e-05 -7.9148504e-06 ... -6.8549249e-05\n -1.7702254e-05  0.0000000e+00], sr=22050 as keyword args. From version 0.10 passing these as positional arguments will result in an error\n  import sys\n/opt/conda/lib/python3.7/site-packages/ipykernel_launcher.py:7: FutureWarning: Pass y=[-0.00681105 -0.0060876  -0.0065352  ...  0.00121112  0.00077951\n  0.        ], sr=22050 as keyword args. From version 0.10 passing these as positional arguments will result in an error\n  import sys\n/opt/conda/lib/python3.7/site-packages/ipykernel_launcher.py:7: FutureWarning: Pass y=[-6.6408647e-05 -5.4269847e-05 -1.9161382e-05 ...  3.8111009e-04\n  2.1994222e-04  0.0000000e+00], sr=22050 as keyword args. From version 0.10 passing these as positional arguments will result in an error\n  import sys\n/opt/conda/lib/python3.7/site-packages/ipykernel_launcher.py:7: FutureWarning: Pass y=[-0.02303625 -0.02183104 -0.01456108 ...  0.00045984  0.00188295\n  0.        ], sr=22050 as keyword args. From version 0.10 passing these as positional arguments will result in an error\n  import sys\n 36%|███▋      | 509/1400 [00:14<00:20, 43.17it/s]/opt/conda/lib/python3.7/site-packages/ipykernel_launcher.py:7: FutureWarning: Pass y=[ 0.00850654  0.00723964  0.0027963  ... -0.00840394 -0.003115\n  0.        ], sr=22050 as keyword args. From version 0.10 passing these as positional arguments will result in an error\n  import sys\n/opt/conda/lib/python3.7/site-packages/ipykernel_launcher.py:7: FutureWarning: Pass y=[-0.0018315  -0.00117391  0.0003263  ...  0.00065535  0.00020319\n  0.        ], sr=22050 as keyword args. From version 0.10 passing these as positional arguments will result in an error\n  import sys\n/opt/conda/lib/python3.7/site-packages/ipykernel_launcher.py:7: FutureWarning: Pass y=[ 1.5138477e-04  1.3447621e-04  5.6767447e-05 ... -2.3200469e-04\n -1.5368158e-04  0.0000000e+00], sr=22050 as keyword args. From version 0.10 passing these as positional arguments will result in an error\n  import sys\n/opt/conda/lib/python3.7/site-packages/ipykernel_launcher.py:7: FutureWarning: Pass y=[ 7.2416478e-05 -4.8845471e-04 -7.0194580e-04 ... -2.8667538e-04\n -1.7325678e-04  0.0000000e+00], sr=22050 as keyword args. From version 0.10 passing these as positional arguments will result in an error\n  import sys\n/opt/conda/lib/python3.7/site-packages/ipykernel_launcher.py:7: FutureWarning: Pass y=[-0.00057651 -0.00051477 -0.00014167 ... -0.00022547 -0.00018145\n  0.        ], sr=22050 as keyword args. From version 0.10 passing these as positional arguments will result in an error\n  import sys\n 37%|███▋      | 514/1400 [00:14<00:20, 43.73it/s]/opt/conda/lib/python3.7/site-packages/ipykernel_launcher.py:7: FutureWarning: Pass y=[-0.00975279 -0.01120514 -0.01095313 ... -0.00934536 -0.00531352\n  0.        ], sr=22050 as keyword args. From version 0.10 passing these as positional arguments will result in an error\n  import sys\n/opt/conda/lib/python3.7/site-packages/ipykernel_launcher.py:7: FutureWarning: Pass y=[-0.0076014  -0.00857097 -0.00840721 ... -0.01462913 -0.009992\n  0.        ], sr=22050 as keyword args. From version 0.10 passing these as positional arguments will result in an error\n  import sys\n/opt/conda/lib/python3.7/site-packages/ipykernel_launcher.py:7: FutureWarning: Pass y=[6.4853644e-05 1.3096663e-04 1.7463102e-04 ... 8.4688072e-05 5.0138995e-05\n 0.0000000e+00], sr=22050 as keyword args. From version 0.10 passing these as positional arguments will result in an error\n  import sys\n/opt/conda/lib/python3.7/site-packages/ipykernel_launcher.py:7: FutureWarning: Pass y=[-0.01105906 -0.01399115 -0.01594752 ... -0.00786941 -0.00415424\n  0.        ], sr=22050 as keyword args. From version 0.10 passing these as positional arguments will result in an error\n  import sys\n/opt/conda/lib/python3.7/site-packages/ipykernel_launcher.py:7: FutureWarning: Pass y=[ 9.2834009e-05  8.9433139e-05  8.1985731e-05 ... -2.0886266e-05\n -2.8686061e-05  0.0000000e+00], sr=22050 as keyword args. From version 0.10 passing these as positional arguments will result in an error\n  import sys\n 37%|███▋      | 519/1400 [00:14<00:20, 42.60it/s]/opt/conda/lib/python3.7/site-packages/ipykernel_launcher.py:7: FutureWarning: Pass y=[-0.0179248  -0.0062798   0.00791905 ... -0.00909449 -0.00584603\n  0.        ], sr=22050 as keyword args. From version 0.10 passing these as positional arguments will result in an error\n  import sys\n/opt/conda/lib/python3.7/site-packages/ipykernel_launcher.py:7: FutureWarning: Pass y=[-0.00170612 -0.00499148 -0.006319   ... -0.01433363 -0.00940071\n  0.        ], sr=22050 as keyword args. From version 0.10 passing these as positional arguments will result in an error\n  import sys\n/opt/conda/lib/python3.7/site-packages/ipykernel_launcher.py:7: FutureWarning: Pass y=[-0.00035325 -0.00029045 -0.00012156 ...  0.0004243   0.00018067\n  0.        ], sr=22050 as keyword args. From version 0.10 passing these as positional arguments will result in an error\n  import sys\n/opt/conda/lib/python3.7/site-packages/ipykernel_launcher.py:7: FutureWarning: Pass y=[-0.00749256 -0.0083464  -0.008301   ... -0.00866874 -0.00745084\n  0.        ], sr=22050 as keyword args. From version 0.10 passing these as positional arguments will result in an error\n  import sys\n/opt/conda/lib/python3.7/site-packages/ipykernel_launcher.py:7: FutureWarning: Pass y=[0.00013191 0.00027305 0.0002626  ... 0.00089259 0.00049373 0.        ], sr=22050 as keyword args. From version 0.10 passing these as positional arguments will result in an error\n  import sys\n 37%|███▋      | 524/1400 [00:14<00:20, 42.69it/s]/opt/conda/lib/python3.7/site-packages/ipykernel_launcher.py:7: FutureWarning: Pass y=[-2.8866107e-04 -2.5855699e-05  3.7181858e-04 ... -1.8375744e-03\n -1.3265532e-03  0.0000000e+00], sr=22050 as keyword args. From version 0.10 passing these as positional arguments will result in an error\n  import sys\n/opt/conda/lib/python3.7/site-packages/ipykernel_launcher.py:7: FutureWarning: Pass y=[ 5.1754665e-05 -1.7533953e-04 -3.9617933e-04 ...  8.4528449e-04\n  6.0107448e-04  0.0000000e+00], sr=22050 as keyword args. From version 0.10 passing these as positional arguments will result in an error\n  import sys\n/opt/conda/lib/python3.7/site-packages/ipykernel_launcher.py:7: FutureWarning: Pass y=[-0.01075361 -0.00254746  0.0068189  ... -0.01019025 -0.00726577\n  0.        ], sr=22050 as keyword args. From version 0.10 passing these as positional arguments will result in an error\n  import sys\n/opt/conda/lib/python3.7/site-packages/ipykernel_launcher.py:7: FutureWarning: Pass y=[-2.9117267e-05  1.3330442e-04  2.6166349e-04 ...  3.9964892e-05\n  6.2448030e-06  0.0000000e+00], sr=22050 as keyword args. From version 0.10 passing these as positional arguments will result in an error\n  import sys\n/opt/conda/lib/python3.7/site-packages/ipykernel_launcher.py:7: FutureWarning: Pass y=[-1.4301726e-04 -4.0263592e-05  4.7708527e-05 ...  4.1808421e-04\n  2.6921174e-04  0.0000000e+00], sr=22050 as keyword args. From version 0.10 passing these as positional arguments will result in an error\n  import sys\n 38%|███▊      | 529/1400 [00:14<00:20, 42.74it/s]/opt/conda/lib/python3.7/site-packages/ipykernel_launcher.py:7: FutureWarning: Pass y=[ 0.00019367 -0.0023843  -0.00587238 ... -0.0079206  -0.00673775\n  0.        ], sr=22050 as keyword args. From version 0.10 passing these as positional arguments will result in an error\n  import sys\n/opt/conda/lib/python3.7/site-packages/ipykernel_launcher.py:7: FutureWarning: Pass y=[0.00944158 0.01126751 0.0114977  ... 0.00724255 0.00349455 0.        ], sr=22050 as keyword args. From version 0.10 passing these as positional arguments will result in an error\n  import sys\n/opt/conda/lib/python3.7/site-packages/ipykernel_launcher.py:7: FutureWarning: Pass y=[ 3.8681583e-06 -1.4216021e-05 -4.4409553e-05 ... -1.6023280e-04\n -8.2037768e-05  0.0000000e+00], sr=22050 as keyword args. From version 0.10 passing these as positional arguments will result in an error\n  import sys\n/opt/conda/lib/python3.7/site-packages/ipykernel_launcher.py:7: FutureWarning: Pass y=[ 2.9120539e-04  2.8576347e-04  1.8850701e-04 ... -2.5022107e-05\n -8.9522589e-05  0.0000000e+00], sr=22050 as keyword args. From version 0.10 passing these as positional arguments will result in an error\n  import sys\n/opt/conda/lib/python3.7/site-packages/ipykernel_launcher.py:7: FutureWarning: Pass y=[ 0.02286698  0.02851708  0.02818898 ... -0.00767246 -0.00308384\n  0.        ], sr=22050 as keyword args. From version 0.10 passing these as positional arguments will result in an error\n  import sys\n 38%|███▊      | 534/1400 [00:14<00:20, 42.85it/s]/opt/conda/lib/python3.7/site-packages/ipykernel_launcher.py:7: FutureWarning: Pass y=[-0.0095162  -0.00398864  0.00261372 ...  0.00764372  0.00415201\n  0.        ], sr=22050 as keyword args. From version 0.10 passing these as positional arguments will result in an error\n  import sys\n/opt/conda/lib/python3.7/site-packages/ipykernel_launcher.py:7: FutureWarning: Pass y=[ 0.00034292  0.00040224  0.00041392 ... -0.0003392  -0.00025226\n  0.        ], sr=22050 as keyword args. From version 0.10 passing these as positional arguments will result in an error\n  import sys\n/opt/conda/lib/python3.7/site-packages/ipykernel_launcher.py:7: FutureWarning: Pass y=[ 0.01011643  0.01191711  0.01203432 ... -0.0094501  -0.00597532\n  0.        ], sr=22050 as keyword args. From version 0.10 passing these as positional arguments will result in an error\n  import sys\n/opt/conda/lib/python3.7/site-packages/ipykernel_launcher.py:7: FutureWarning: Pass y=[-2.9045932e-05  2.7538833e-04  5.1634549e-04 ... -3.6477949e-04\n -5.1404472e-04  0.0000000e+00], sr=22050 as keyword args. From version 0.10 passing these as positional arguments will result in an error\n  import sys\n/opt/conda/lib/python3.7/site-packages/ipykernel_launcher.py:7: FutureWarning: Pass y=[ 1.2626602e-04  4.7563390e-05 -6.4927975e-05 ... -1.5167090e-04\n -1.2399151e-04  0.0000000e+00], sr=22050 as keyword args. From version 0.10 passing these as positional arguments will result in an error\n  import sys\n 38%|███▊      | 539/1400 [00:14<00:20, 41.74it/s]/opt/conda/lib/python3.7/site-packages/ipykernel_launcher.py:7: FutureWarning: Pass y=[ 0.00867046  0.0102589   0.0088695  ... -0.00508106 -0.00249155\n  0.        ], sr=22050 as keyword args. From version 0.10 passing these as positional arguments will result in an error\n  import sys\n/opt/conda/lib/python3.7/site-packages/ipykernel_launcher.py:7: FutureWarning: Pass y=[-0.00142095 -0.00081136  0.00014637 ...  0.00026343  0.00019609\n  0.        ], sr=22050 as keyword args. From version 0.10 passing these as positional arguments will result in an error\n  import sys\n/opt/conda/lib/python3.7/site-packages/ipykernel_launcher.py:7: FutureWarning: Pass y=[-2.7113053e-04 -1.3100712e-04  7.4062955e-05 ... -1.9716406e-04\n -1.8776554e-04  0.0000000e+00], sr=22050 as keyword args. From version 0.10 passing these as positional arguments will result in an error\n  import sys\n/opt/conda/lib/python3.7/site-packages/ipykernel_launcher.py:7: FutureWarning: Pass y=[-1.8602352e-04 -1.7180388e-04  3.5471996e-05 ...  1.0858716e-05\n -8.3094228e-06  0.0000000e+00], sr=22050 as keyword args. From version 0.10 passing these as positional arguments will result in an error\n  import sys\n/opt/conda/lib/python3.7/site-packages/ipykernel_launcher.py:7: FutureWarning: Pass y=[-2.3351192e-04  5.1540275e-05  3.0398200e-04 ... -9.2158960e-05\n  1.6660470e-04  0.0000000e+00], sr=22050 as keyword args. From version 0.10 passing these as positional arguments will result in an error\n  import sys\n 39%|███▉      | 544/1400 [00:14<00:20, 41.68it/s]/opt/conda/lib/python3.7/site-packages/ipykernel_launcher.py:7: FutureWarning: Pass y=[ 0.0096251   0.01126398  0.01118532 ... -0.00933473 -0.00656485\n  0.        ], sr=22050 as keyword args. From version 0.10 passing these as positional arguments will result in an error\n  import sys\n/opt/conda/lib/python3.7/site-packages/ipykernel_launcher.py:7: FutureWarning: Pass y=[-0.00836266 -0.0114117  -0.01052104 ... -0.00048304  0.00071951\n  0.        ], sr=22050 as keyword args. From version 0.10 passing these as positional arguments will result in an error\n  import sys\n/opt/conda/lib/python3.7/site-packages/ipykernel_launcher.py:7: FutureWarning: Pass y=[ 0.00939815  0.01168734  0.00962579 ... -0.01477481 -0.01185124\n  0.        ], sr=22050 as keyword args. From version 0.10 passing these as positional arguments will result in an error\n  import sys\n/opt/conda/lib/python3.7/site-packages/ipykernel_launcher.py:7: FutureWarning: Pass y=[4.8452326e-05 3.2271164e-05 2.9534018e-05 ... 4.0580311e-05 4.3653661e-05\n 0.0000000e+00], sr=22050 as keyword args. From version 0.10 passing these as positional arguments will result in an error\n  import sys\n/opt/conda/lib/python3.7/site-packages/ipykernel_launcher.py:7: FutureWarning: Pass y=[-0.00985163 -0.00845292 -0.0030444  ...  0.01011682  0.00599646\n  0.        ], sr=22050 as keyword args. From version 0.10 passing these as positional arguments will result in an error\n  import sys\n 39%|███▉      | 549/1400 [00:15<00:20, 40.93it/s]/opt/conda/lib/python3.7/site-packages/ipykernel_launcher.py:7: FutureWarning: Pass y=[-3.5753832e-04 -1.7940548e-04 -9.2978070e-07 ...  5.0215417e-04\n  2.0113599e-04  0.0000000e+00], sr=22050 as keyword args. From version 0.10 passing these as positional arguments will result in an error\n  import sys\n/opt/conda/lib/python3.7/site-packages/ipykernel_launcher.py:7: FutureWarning: Pass y=[0.00100961 0.00119009 0.00118282 ... 0.00013826 0.00012986 0.        ], sr=22050 as keyword args. From version 0.10 passing these as positional arguments will result in an error\n  import sys\n/opt/conda/lib/python3.7/site-packages/ipykernel_launcher.py:7: FutureWarning: Pass y=[-5.1348779e-06 -2.9017545e-05 -4.0239909e-05 ...  2.7330144e-04\n  1.6582958e-04  0.0000000e+00], sr=22050 as keyword args. From version 0.10 passing these as positional arguments will result in an error\n  import sys\n/opt/conda/lib/python3.7/site-packages/ipykernel_launcher.py:7: FutureWarning: Pass y=[ 0.00025833 -0.001464   -0.00502855 ... -0.00739119 -0.00708301\n  0.        ], sr=22050 as keyword args. From version 0.10 passing these as positional arguments will result in an error\n  import sys\n/opt/conda/lib/python3.7/site-packages/ipykernel_launcher.py:7: FutureWarning: Pass y=[-0.01932056 -0.02240125 -0.02146186 ...  0.01148525  0.00796377\n  0.        ], sr=22050 as keyword args. From version 0.10 passing these as positional arguments will result in an error\n  import sys\n 40%|███▉      | 554/1400 [00:15<00:20, 41.89it/s]/opt/conda/lib/python3.7/site-packages/ipykernel_launcher.py:7: FutureWarning: Pass y=[ 5.6360159e-03  2.9218432e-03 -2.0076991e-04 ...  9.5353658e-05\n -2.1462311e-05  0.0000000e+00], sr=22050 as keyword args. From version 0.10 passing these as positional arguments will result in an error\n  import sys\n/opt/conda/lib/python3.7/site-packages/ipykernel_launcher.py:7: FutureWarning: Pass y=[-2.2562701e-04 -1.0616163e-04  9.7883258e-06 ... -7.5835449e-04\n -4.8474336e-04  0.0000000e+00], sr=22050 as keyword args. From version 0.10 passing these as positional arguments will result in an error\n  import sys\n/opt/conda/lib/python3.7/site-packages/ipykernel_launcher.py:7: FutureWarning: Pass y=[-0.00074079 -0.00067642 -0.00038853 ...  0.00037227  0.0002069\n  0.        ], sr=22050 as keyword args. From version 0.10 passing these as positional arguments will result in an error\n  import sys\n/opt/conda/lib/python3.7/site-packages/ipykernel_launcher.py:7: FutureWarning: Pass y=[-9.4115426e-04 -8.0196164e-04 -4.5772493e-04 ... -1.4172740e-04\n -5.1417424e-05  0.0000000e+00], sr=22050 as keyword args. From version 0.10 passing these as positional arguments will result in an error\n  import sys\n/opt/conda/lib/python3.7/site-packages/ipykernel_launcher.py:7: FutureWarning: Pass y=[ 3.0039095e-03  1.1466509e-02  8.5905679e-03 ... -1.8777199e-03\n -9.5354022e-05  0.0000000e+00], sr=22050 as keyword args. From version 0.10 passing these as positional arguments will result in an error\n  import sys\n 40%|███▉      | 559/1400 [00:15<00:20, 40.20it/s]/opt/conda/lib/python3.7/site-packages/ipykernel_launcher.py:7: FutureWarning: Pass y=[ 6.8287096e-05 -7.2861876e-04 -7.8252243e-04 ... -7.8094653e-03\n -5.2802153e-03  0.0000000e+00], sr=22050 as keyword args. From version 0.10 passing these as positional arguments will result in an error\n  import sys\n/opt/conda/lib/python3.7/site-packages/ipykernel_launcher.py:7: FutureWarning: Pass y=[ 7.2253715e-05 -9.1451155e-05 -2.2008666e-04 ... -3.1309886e-04\n -2.7879755e-04  0.0000000e+00], sr=22050 as keyword args. From version 0.10 passing these as positional arguments will result in an error\n  import sys\n/opt/conda/lib/python3.7/site-packages/ipykernel_launcher.py:7: FutureWarning: Pass y=[-0.01318471 -0.01110909 -0.00511736 ... -0.00745302 -0.00388124\n  0.        ], sr=22050 as keyword args. From version 0.10 passing these as positional arguments will result in an error\n  import sys\n/opt/conda/lib/python3.7/site-packages/ipykernel_launcher.py:7: FutureWarning: Pass y=[6.6344153e-05 1.5236219e-04 4.2001854e-04 ... 6.5666815e-04 3.6839486e-04\n 0.0000000e+00], sr=22050 as keyword args. From version 0.10 passing these as positional arguments will result in an error\n  import sys\n/opt/conda/lib/python3.7/site-packages/ipykernel_launcher.py:7: FutureWarning: Pass y=[ 8.1580547e-05 -2.3039251e-04 -6.3418550e-04 ...  2.8041180e-04\n  2.0809019e-04  0.0000000e+00], sr=22050 as keyword args. From version 0.10 passing these as positional arguments will result in an error\n  import sys\n 40%|████      | 564/1400 [00:15<00:20, 40.50it/s]/opt/conda/lib/python3.7/site-packages/ipykernel_launcher.py:7: FutureWarning: Pass y=[ 0.00058027 -0.00133365 -0.00198059 ... -0.00235418  0.00049518\n  0.        ], sr=22050 as keyword args. From version 0.10 passing these as positional arguments will result in an error\n  import sys\n/opt/conda/lib/python3.7/site-packages/ipykernel_launcher.py:7: FutureWarning: Pass y=[-0.01588595 -0.01797113 -0.01685383 ... -0.00035727 -0.00049899\n  0.        ], sr=22050 as keyword args. From version 0.10 passing these as positional arguments will result in an error\n  import sys\n/opt/conda/lib/python3.7/site-packages/ipykernel_launcher.py:7: FutureWarning: Pass y=[-0.0007616  -0.00094779 -0.0010196  ... -0.00087909 -0.00055436\n  0.        ], sr=22050 as keyword args. From version 0.10 passing these as positional arguments will result in an error\n  import sys\n/opt/conda/lib/python3.7/site-packages/ipykernel_launcher.py:7: FutureWarning: Pass y=[-0.0006095  -0.00058889 -0.00051028 ... -0.00062194 -0.0004447\n  0.        ], sr=22050 as keyword args. From version 0.10 passing these as positional arguments will result in an error\n  import sys\n/opt/conda/lib/python3.7/site-packages/ipykernel_launcher.py:7: FutureWarning: Pass y=[ 2.5358482e-04  2.6716717e-04  1.7184719e-04 ... -4.1262792e-05\n -3.1636424e-05  0.0000000e+00], sr=22050 as keyword args. From version 0.10 passing these as positional arguments will result in an error\n  import sys\n 41%|████      | 569/1400 [00:15<00:20, 41.34it/s]/opt/conda/lib/python3.7/site-packages/ipykernel_launcher.py:7: FutureWarning: Pass y=[ 4.2642958e-05  1.5608440e-04  2.6913828e-04 ... -6.6793041e-04\n -3.7281337e-04  0.0000000e+00], sr=22050 as keyword args. From version 0.10 passing these as positional arguments will result in an error\n  import sys\n/opt/conda/lib/python3.7/site-packages/ipykernel_launcher.py:7: FutureWarning: Pass y=[-0.00783175 -0.00899724 -0.0085653  ... -0.01550409 -0.01202912\n  0.        ], sr=22050 as keyword args. From version 0.10 passing these as positional arguments will result in an error\n  import sys\n/opt/conda/lib/python3.7/site-packages/ipykernel_launcher.py:7: FutureWarning: Pass y=[-0.01543983 -0.02252018 -0.02900389 ... -0.01017341 -0.0065402\n  0.        ], sr=22050 as keyword args. From version 0.10 passing these as positional arguments will result in an error\n  import sys\n/opt/conda/lib/python3.7/site-packages/ipykernel_launcher.py:7: FutureWarning: Pass y=[ 7.8288103e-05  1.1136271e-03  1.1655572e-03 ... -6.2975003e-03\n -4.3919398e-03  0.0000000e+00], sr=22050 as keyword args. From version 0.10 passing these as positional arguments will result in an error\n  import sys\n/opt/conda/lib/python3.7/site-packages/ipykernel_launcher.py:7: FutureWarning: Pass y=[-0.00702306 -0.00719493 -0.00752812 ... -0.02186895 -0.01524445\n  0.        ], sr=22050 as keyword args. From version 0.10 passing these as positional arguments will result in an error\n  import sys\n 41%|████      | 574/1400 [00:15<00:19, 42.22it/s]/opt/conda/lib/python3.7/site-packages/ipykernel_launcher.py:7: FutureWarning: Pass y=[ 5.9318088e-04 -1.0521111e-06 -5.5311434e-04 ... -2.5335906e-04\n -1.4697634e-04  0.0000000e+00], sr=22050 as keyword args. From version 0.10 passing these as positional arguments will result in an error\n  import sys\n/opt/conda/lib/python3.7/site-packages/ipykernel_launcher.py:7: FutureWarning: Pass y=[-0.00094527 -0.00691111 -0.01259675 ...  0.00090855 -0.00055872\n  0.        ], sr=22050 as keyword args. From version 0.10 passing these as positional arguments will result in an error\n  import sys\n/opt/conda/lib/python3.7/site-packages/ipykernel_launcher.py:7: FutureWarning: Pass y=[0.0012664  0.00129924 0.00087311 ... 0.00182579 0.00142623 0.        ], sr=22050 as keyword args. From version 0.10 passing these as positional arguments will result in an error\n  import sys\n/opt/conda/lib/python3.7/site-packages/ipykernel_launcher.py:7: FutureWarning: Pass y=[-0.01138143 -0.0095173  -0.00757946 ... -0.00397388 -0.00430527\n  0.        ], sr=22050 as keyword args. From version 0.10 passing these as positional arguments will result in an error\n  import sys\n/opt/conda/lib/python3.7/site-packages/ipykernel_launcher.py:7: FutureWarning: Pass y=[-5.4209395e-05  3.0948384e-05  2.6216588e-04 ...  1.2623999e-04\n  2.3277878e-04  0.0000000e+00], sr=22050 as keyword args. From version 0.10 passing these as positional arguments will result in an error\n  import sys\n 41%|████▏     | 579/1400 [00:15<00:19, 42.56it/s]/opt/conda/lib/python3.7/site-packages/ipykernel_launcher.py:7: FutureWarning: Pass y=[-0.00533571 -0.00615387 -0.0058919  ...  0.00469637  0.002953\n  0.        ], sr=22050 as keyword args. From version 0.10 passing these as positional arguments will result in an error\n  import sys\n/opt/conda/lib/python3.7/site-packages/ipykernel_launcher.py:7: FutureWarning: Pass y=[ 0.0009878   0.0015723   0.00044969 ... -0.0206045  -0.01603604\n  0.        ], sr=22050 as keyword args. From version 0.10 passing these as positional arguments will result in an error\n  import sys\n/opt/conda/lib/python3.7/site-packages/ipykernel_launcher.py:7: FutureWarning: Pass y=[-0.00895633 -0.00678171 -0.00208421 ... -0.00853438 -0.00486151\n  0.        ], sr=22050 as keyword args. From version 0.10 passing these as positional arguments will result in an error\n  import sys\n/opt/conda/lib/python3.7/site-packages/ipykernel_launcher.py:7: FutureWarning: Pass y=[ 0.00723899 -0.00790721 -0.02135281 ...  0.00034559  0.00210484\n  0.        ], sr=22050 as keyword args. From version 0.10 passing these as positional arguments will result in an error\n  import sys\n/opt/conda/lib/python3.7/site-packages/ipykernel_launcher.py:7: FutureWarning: Pass y=[ 8.5550954e-04  9.2619896e-04 -3.6231086e-05 ...  8.0088031e-04\n  2.0959892e-03  0.0000000e+00], sr=22050 as keyword args. From version 0.10 passing these as positional arguments will result in an error\n  import sys\n 42%|████▏     | 584/1400 [00:15<00:19, 41.91it/s]/opt/conda/lib/python3.7/site-packages/ipykernel_launcher.py:7: FutureWarning: Pass y=[-0.00053381 -0.00064842 -0.00065005 ...  0.00062937  0.00035107\n  0.        ], sr=22050 as keyword args. From version 0.10 passing these as positional arguments will result in an error\n  import sys\n/opt/conda/lib/python3.7/site-packages/ipykernel_launcher.py:7: FutureWarning: Pass y=[-0.00884346 -0.00715379 -0.00361373 ...  0.00951861  0.00653011\n  0.        ], sr=22050 as keyword args. From version 0.10 passing these as positional arguments will result in an error\n  import sys\n/opt/conda/lib/python3.7/site-packages/ipykernel_launcher.py:7: FutureWarning: Pass y=[ 0.01473359  0.00409854 -0.01548753 ... -0.0087676  -0.00540016\n  0.        ], sr=22050 as keyword args. From version 0.10 passing these as positional arguments will result in an error\n  import sys\n/opt/conda/lib/python3.7/site-packages/ipykernel_launcher.py:7: FutureWarning: Pass y=[ 3.5094203e-05  4.4867571e-05  4.8684324e-05 ... -5.7910020e-05\n -4.2735911e-07  0.0000000e+00], sr=22050 as keyword args. From version 0.10 passing these as positional arguments will result in an error\n  import sys\n/opt/conda/lib/python3.7/site-packages/ipykernel_launcher.py:7: FutureWarning: Pass y=[-0.0264472  -0.02872196 -0.0211847  ... -0.00795126 -0.00442156\n  0.        ], sr=22050 as keyword args. From version 0.10 passing these as positional arguments will result in an error\n  import sys\n 42%|████▏     | 589/1400 [00:16<00:19, 40.65it/s]/opt/conda/lib/python3.7/site-packages/ipykernel_launcher.py:7: FutureWarning: Pass y=[ 2.2708492e-04  2.1461497e-05 -1.9875650e-04 ... -4.8911810e-04\n -2.6703221e-04  0.0000000e+00], sr=22050 as keyword args. From version 0.10 passing these as positional arguments will result in an error\n  import sys\n/opt/conda/lib/python3.7/site-packages/ipykernel_launcher.py:7: FutureWarning: Pass y=[-5.6349597e-04 -2.3437823e-04 -8.3013525e-05 ...  1.3325204e-03\n  1.1118331e-03  0.0000000e+00], sr=22050 as keyword args. From version 0.10 passing these as positional arguments will result in an error\n  import sys\n/opt/conda/lib/python3.7/site-packages/ipykernel_launcher.py:7: FutureWarning: Pass y=[ 0.00029655  0.00042516  0.00052263 ... -0.00030999 -0.0002041\n  0.        ], sr=22050 as keyword args. From version 0.10 passing these as positional arguments will result in an error\n  import sys\n/opt/conda/lib/python3.7/site-packages/ipykernel_launcher.py:7: FutureWarning: Pass y=[-2.0281608e-05 -1.9760468e-05 -7.3828145e-05 ...  2.7602478e-05\n -2.6848269e-05  0.0000000e+00], sr=22050 as keyword args. From version 0.10 passing these as positional arguments will result in an error\n  import sys\n/opt/conda/lib/python3.7/site-packages/ipykernel_launcher.py:7: FutureWarning: Pass y=[-0.00885319 -0.008147   -0.00527142 ...  0.00865975  0.00467819\n  0.        ], sr=22050 as keyword args. From version 0.10 passing these as positional arguments will result in an error\n  import sys\n 42%|████▏     | 594/1400 [00:16<00:20, 39.77it/s]/opt/conda/lib/python3.7/site-packages/ipykernel_launcher.py:7: FutureWarning: Pass y=[-3.58335637e-05  1.83386674e-05  2.03777454e-05 ... -2.05301432e-04\n -1.18926226e-04  0.00000000e+00], sr=22050 as keyword args. From version 0.10 passing these as positional arguments will result in an error\n  import sys\n/opt/conda/lib/python3.7/site-packages/ipykernel_launcher.py:7: FutureWarning: Pass y=[-0.00988438 -0.01165777 -0.01177688 ... -0.00811196 -0.00473075\n  0.        ], sr=22050 as keyword args. From version 0.10 passing these as positional arguments will result in an error\n  import sys\n/opt/conda/lib/python3.7/site-packages/ipykernel_launcher.py:7: FutureWarning: Pass y=[7.2427720e-05 2.6554251e-04 4.5673220e-04 ... 4.3226371e-04 2.3829036e-04\n 0.0000000e+00], sr=22050 as keyword args. From version 0.10 passing these as positional arguments will result in an error\n  import sys\n/opt/conda/lib/python3.7/site-packages/ipykernel_launcher.py:7: FutureWarning: Pass y=[-0.00491294 -0.00575482 -0.00583401 ...  0.00480828  0.00343729\n  0.        ], sr=22050 as keyword args. From version 0.10 passing these as positional arguments will result in an error\n  import sys\n 43%|████▎     | 598/1400 [00:16<00:20, 39.09it/s]/opt/conda/lib/python3.7/site-packages/ipykernel_launcher.py:7: FutureWarning: Pass y=[-0.00054448 -0.00169934 -0.00419601 ... -0.00704253 -0.00512872\n  0.        ], sr=22050 as keyword args. From version 0.10 passing these as positional arguments will result in an error\n  import sys\n/opt/conda/lib/python3.7/site-packages/ipykernel_launcher.py:7: FutureWarning: Pass y=[ 0.00752633  0.00602049  0.00254236 ... -0.01025407 -0.00479723\n  0.        ], sr=22050 as keyword args. From version 0.10 passing these as positional arguments will result in an error\n  import sys\n/opt/conda/lib/python3.7/site-packages/ipykernel_launcher.py:7: FutureWarning: Pass y=[ 3.4486034e-06 -4.1973399e-05 -8.5925589e-05 ... -2.5378831e-04\n -5.3485077e-05  0.0000000e+00], sr=22050 as keyword args. From version 0.10 passing these as positional arguments will result in an error\n  import sys\n/opt/conda/lib/python3.7/site-packages/ipykernel_launcher.py:7: FutureWarning: Pass y=[-3.2050553e-04 -1.4106405e-04  4.3022233e-06 ... -2.2120943e-04\n -7.5695163e-05  0.0000000e+00], sr=22050 as keyword args. From version 0.10 passing these as positional arguments will result in an error\n  import sys\n/opt/conda/lib/python3.7/site-packages/ipykernel_launcher.py:7: FutureWarning: Pass y=[-0.00459578  0.00338822  0.00684294 ...  0.00853974  0.00501921\n  0.        ], sr=22050 as keyword args. From version 0.10 passing these as positional arguments will result in an error\n  import sys\n 43%|████▎     | 603/1400 [00:16<00:19, 39.87it/s]/opt/conda/lib/python3.7/site-packages/ipykernel_launcher.py:7: FutureWarning: Pass y=[-0.01245357 -0.01197713 -0.00834666 ...  0.01006972  0.00655571\n  0.        ], sr=22050 as keyword args. From version 0.10 passing these as positional arguments will result in an error\n  import sys\n/opt/conda/lib/python3.7/site-packages/ipykernel_launcher.py:7: FutureWarning: Pass y=[-0.00117544 -0.00163743 -0.00044582 ... -0.00036588 -0.00139099\n  0.        ], sr=22050 as keyword args. From version 0.10 passing these as positional arguments will result in an error\n  import sys\n/opt/conda/lib/python3.7/site-packages/ipykernel_launcher.py:7: FutureWarning: Pass y=[0.00010822 0.00027224 0.00032196 ... 0.00102905 0.00057469 0.        ], sr=22050 as keyword args. From version 0.10 passing these as positional arguments will result in an error\n  import sys\n/opt/conda/lib/python3.7/site-packages/ipykernel_launcher.py:7: FutureWarning: Pass y=[ 6.4885142e-05  1.3438119e-05 -4.6760571e-05 ... -2.8864953e-05\n  6.1704773e-06  0.0000000e+00], sr=22050 as keyword args. From version 0.10 passing these as positional arguments will result in an error\n  import sys\n/opt/conda/lib/python3.7/site-packages/ipykernel_launcher.py:7: FutureWarning: Pass y=[-0.00962231 -0.01414532 -0.01508348 ... -0.01322387 -0.01109065\n  0.        ], sr=22050 as keyword args. From version 0.10 passing these as positional arguments will result in an error\n  import sys\n 43%|████▎     | 608/1400 [00:16<00:19, 41.62it/s]/opt/conda/lib/python3.7/site-packages/ipykernel_launcher.py:7: FutureWarning: Pass y=[0.00051492 0.00048741 0.00032313 ... 0.0004582  0.00021289 0.        ], sr=22050 as keyword args. From version 0.10 passing these as positional arguments will result in an error\n  import sys\n/opt/conda/lib/python3.7/site-packages/ipykernel_launcher.py:7: FutureWarning: Pass y=[0.00051116 0.00061191 0.00063072 ... 0.00040123 0.00019622 0.        ], sr=22050 as keyword args. From version 0.10 passing these as positional arguments will result in an error\n  import sys\n/opt/conda/lib/python3.7/site-packages/ipykernel_launcher.py:7: FutureWarning: Pass y=[-0.00666255 -0.00466833 -0.00218424 ... -0.01420313 -0.01255787\n  0.        ], sr=22050 as keyword args. From version 0.10 passing these as positional arguments will result in an error\n  import sys\n/opt/conda/lib/python3.7/site-packages/ipykernel_launcher.py:7: FutureWarning: Pass y=[ 0.00023743  0.00020157  0.00011643 ... -0.00021913 -0.00012092\n  0.        ], sr=22050 as keyword args. From version 0.10 passing these as positional arguments will result in an error\n  import sys\n/opt/conda/lib/python3.7/site-packages/ipykernel_launcher.py:7: FutureWarning: Pass y=[-0.00065465 -0.0002009   0.00024369 ...  0.00108482  0.00071542\n  0.        ], sr=22050 as keyword args. From version 0.10 passing these as positional arguments will result in an error\n  import sys\n 44%|████▍     | 613/1400 [00:16<00:19, 41.08it/s]/opt/conda/lib/python3.7/site-packages/ipykernel_launcher.py:7: FutureWarning: Pass y=[-0.00813415 -0.00897351 -0.0082048  ... -0.01320327 -0.01070483\n  0.        ], sr=22050 as keyword args. From version 0.10 passing these as positional arguments will result in an error\n  import sys\n/opt/conda/lib/python3.7/site-packages/ipykernel_launcher.py:7: FutureWarning: Pass y=[ 0.009003    0.01413628  0.01575691 ... -0.01318909 -0.01218182\n  0.        ], sr=22050 as keyword args. From version 0.10 passing these as positional arguments will result in an error\n  import sys\n/opt/conda/lib/python3.7/site-packages/ipykernel_launcher.py:7: FutureWarning: Pass y=[-0.00946661 -0.0142362  -0.01534037 ... -0.02078247 -0.0161578\n  0.        ], sr=22050 as keyword args. From version 0.10 passing these as positional arguments will result in an error\n  import sys\n/opt/conda/lib/python3.7/site-packages/ipykernel_launcher.py:7: FutureWarning: Pass y=[-0.01003396 -0.01214918 -0.01275474 ...  0.00746659  0.00378734\n  0.        ], sr=22050 as keyword args. From version 0.10 passing these as positional arguments will result in an error\n  import sys\n/opt/conda/lib/python3.7/site-packages/ipykernel_launcher.py:7: FutureWarning: Pass y=[-0.00059594 -0.00048615 -0.0003464  ...  0.00028423  0.00017172\n  0.        ], sr=22050 as keyword args. From version 0.10 passing these as positional arguments will result in an error\n  import sys\n 44%|████▍     | 618/1400 [00:16<00:19, 40.69it/s]/opt/conda/lib/python3.7/site-packages/ipykernel_launcher.py:7: FutureWarning: Pass y=[-0.00028205 -0.00056882 -0.00098952 ...  0.00068575  0.00050041\n  0.        ], sr=22050 as keyword args. From version 0.10 passing these as positional arguments will result in an error\n  import sys\n/opt/conda/lib/python3.7/site-packages/ipykernel_launcher.py:7: FutureWarning: Pass y=[-0.03981348 -0.04858805 -0.04893702 ... -0.0089566  -0.00497027\n  0.        ], sr=22050 as keyword args. From version 0.10 passing these as positional arguments will result in an error\n  import sys\n/opt/conda/lib/python3.7/site-packages/ipykernel_launcher.py:7: FutureWarning: Pass y=[-0.00058858 -0.0007496  -0.00081031 ...  0.00058681  0.00042495\n  0.        ], sr=22050 as keyword args. From version 0.10 passing these as positional arguments will result in an error\n  import sys\n/opt/conda/lib/python3.7/site-packages/ipykernel_launcher.py:7: FutureWarning: Pass y=[-0.00926968 -0.01104074 -0.01111562 ... -0.00832835 -0.0043971\n  0.        ], sr=22050 as keyword args. From version 0.10 passing these as positional arguments will result in an error\n  import sys\n/opt/conda/lib/python3.7/site-packages/ipykernel_launcher.py:7: FutureWarning: Pass y=[1.3095597e-04 1.7668487e-04 1.7287473e-04 ... 8.8835746e-05 7.6128694e-05\n 0.0000000e+00], sr=22050 as keyword args. From version 0.10 passing these as positional arguments will result in an error\n  import sys\n 44%|████▍     | 623/1400 [00:16<00:18, 41.97it/s]/opt/conda/lib/python3.7/site-packages/ipykernel_launcher.py:7: FutureWarning: Pass y=[-0.0149184  -0.01380438 -0.01038298 ...  0.00055536  0.00158228\n  0.        ], sr=22050 as keyword args. From version 0.10 passing these as positional arguments will result in an error\n  import sys\n/opt/conda/lib/python3.7/site-packages/ipykernel_launcher.py:7: FutureWarning: Pass y=[ 0.00629088 -0.00179708 -0.00901236 ... -0.00504949 -0.00335953\n  0.        ], sr=22050 as keyword args. From version 0.10 passing these as positional arguments will result in an error\n  import sys\n/opt/conda/lib/python3.7/site-packages/ipykernel_launcher.py:7: FutureWarning: Pass y=[-0.00622557 -0.00332113 -0.00133016 ... -0.00589514 -0.00646165\n  0.        ], sr=22050 as keyword args. From version 0.10 passing these as positional arguments will result in an error\n  import sys\n/opt/conda/lib/python3.7/site-packages/ipykernel_launcher.py:7: FutureWarning: Pass y=[ 1.3330589e-05  3.8072802e-05  6.0832041e-05 ... -3.0758227e-03\n -1.9417756e-03  0.0000000e+00], sr=22050 as keyword args. From version 0.10 passing these as positional arguments will result in an error\n  import sys\n/opt/conda/lib/python3.7/site-packages/ipykernel_launcher.py:7: FutureWarning: Pass y=[-0.02047212 -0.01044861  0.00436393 ... -0.00752237 -0.00404829\n  0.        ], sr=22050 as keyword args. From version 0.10 passing these as positional arguments will result in an error\n  import sys\n 45%|████▍     | 628/1400 [00:16<00:19, 39.75it/s]/opt/conda/lib/python3.7/site-packages/ipykernel_launcher.py:7: FutureWarning: Pass y=[-0.01225819 -0.01575047 -0.0175306  ...  0.00899402  0.00584835\n  0.        ], sr=22050 as keyword args. From version 0.10 passing these as positional arguments will result in an error\n  import sys\n/opt/conda/lib/python3.7/site-packages/ipykernel_launcher.py:7: FutureWarning: Pass y=[ 0.00162303  0.00255102  0.00086761 ... -0.01368401 -0.01172137\n  0.        ], sr=22050 as keyword args. From version 0.10 passing these as positional arguments will result in an error\n  import sys\n/opt/conda/lib/python3.7/site-packages/ipykernel_launcher.py:7: FutureWarning: Pass y=[ 0.00063747  0.00091036  0.00088496 ... -0.00037664 -0.00016821\n  0.        ], sr=22050 as keyword args. From version 0.10 passing these as positional arguments will result in an error\n  import sys\n/opt/conda/lib/python3.7/site-packages/ipykernel_launcher.py:7: FutureWarning: Pass y=[-0.00899124 -0.01052575 -0.0104764  ... -0.00970769 -0.00603259\n  0.        ], sr=22050 as keyword args. From version 0.10 passing these as positional arguments will result in an error\n  import sys\n/opt/conda/lib/python3.7/site-packages/ipykernel_launcher.py:7: FutureWarning: Pass y=[-0.00064414 -0.00083342 -0.00084865 ... -0.00018433 -0.00015335\n  0.        ], sr=22050 as keyword args. From version 0.10 passing these as positional arguments will result in an error\n  import sys\n 45%|████▌     | 633/1400 [00:17<00:19, 39.97it/s]/opt/conda/lib/python3.7/site-packages/ipykernel_launcher.py:7: FutureWarning: Pass y=[-9.8320757e-05 -1.2114358e-04 -1.7231824e-04 ... -3.1982793e-04\n -1.9626810e-04  0.0000000e+00], sr=22050 as keyword args. From version 0.10 passing these as positional arguments will result in an error\n  import sys\n/opt/conda/lib/python3.7/site-packages/ipykernel_launcher.py:7: FutureWarning: Pass y=[-0.00042049 -0.00371975 -0.00650056 ...  0.00058425  0.00058936\n  0.        ], sr=22050 as keyword args. From version 0.10 passing these as positional arguments will result in an error\n  import sys\n/opt/conda/lib/python3.7/site-packages/ipykernel_launcher.py:7: FutureWarning: Pass y=[ 1.3866679e-04 -5.3255324e-05 -2.5555067e-04 ... -3.5256601e-04\n -2.0286877e-04  0.0000000e+00], sr=22050 as keyword args. From version 0.10 passing these as positional arguments will result in an error\n  import sys\n/opt/conda/lib/python3.7/site-packages/ipykernel_launcher.py:7: FutureWarning: Pass y=[0.0005567  0.0007172  0.00069412 ... 0.00083832 0.00042451 0.        ], sr=22050 as keyword args. From version 0.10 passing these as positional arguments will result in an error\n  import sys\n/opt/conda/lib/python3.7/site-packages/ipykernel_launcher.py:7: FutureWarning: Pass y=[-0.00012786 -0.00026597 -0.00044541 ...  0.00045806  0.00031106\n  0.        ], sr=22050 as keyword args. From version 0.10 passing these as positional arguments will result in an error\n  import sys\n 46%|████▌     | 638/1400 [00:17<00:18, 40.62it/s]/opt/conda/lib/python3.7/site-packages/ipykernel_launcher.py:7: FutureWarning: Pass y=[-0.00900675 -0.01070081 -0.01110983 ... -0.00919002 -0.00546291\n  0.        ], sr=22050 as keyword args. From version 0.10 passing these as positional arguments will result in an error\n  import sys\n/opt/conda/lib/python3.7/site-packages/ipykernel_launcher.py:7: FutureWarning: Pass y=[-0.01401615 -0.01510828 -0.01301554 ... -0.00810771 -0.00458982\n  0.        ], sr=22050 as keyword args. From version 0.10 passing these as positional arguments will result in an error\n  import sys\n/opt/conda/lib/python3.7/site-packages/ipykernel_launcher.py:7: FutureWarning: Pass y=[-0.00260727 -0.00580552 -0.00626662 ... -0.00613078 -0.00175394\n  0.        ], sr=22050 as keyword args. From version 0.10 passing these as positional arguments will result in an error\n  import sys\n/opt/conda/lib/python3.7/site-packages/ipykernel_launcher.py:7: FutureWarning: Pass y=[2.5120960e-04 2.2508239e-04 1.8309358e-04 ... 5.7636662e-05 2.0053711e-05\n 0.0000000e+00], sr=22050 as keyword args. From version 0.10 passing these as positional arguments will result in an error\n  import sys\n/opt/conda/lib/python3.7/site-packages/ipykernel_launcher.py:7: FutureWarning: Pass y=[-0.00078167  0.00194565  0.00606597 ...  0.00115872  0.00107605\n  0.        ], sr=22050 as keyword args. From version 0.10 passing these as positional arguments will result in an error\n  import sys\n 46%|████▌     | 643/1400 [00:17<00:18, 41.05it/s]/opt/conda/lib/python3.7/site-packages/ipykernel_launcher.py:7: FutureWarning: Pass y=[ 2.0252282e-04  2.0385819e-04  8.7171247e-05 ... -9.4435026e-04\n -5.9875142e-04  0.0000000e+00], sr=22050 as keyword args. From version 0.10 passing these as positional arguments will result in an error\n  import sys\n/opt/conda/lib/python3.7/site-packages/ipykernel_launcher.py:7: FutureWarning: Pass y=[-0.01696287 -0.02547864 -0.02977152 ... -0.00744636 -0.00738713\n  0.        ], sr=22050 as keyword args. From version 0.10 passing these as positional arguments will result in an error\n  import sys\n/opt/conda/lib/python3.7/site-packages/ipykernel_launcher.py:7: FutureWarning: Pass y=[-0.00019957 -0.00023813 -0.00024634 ...  0.00042953  0.00033124\n  0.        ], sr=22050 as keyword args. From version 0.10 passing these as positional arguments will result in an error\n  import sys\n/opt/conda/lib/python3.7/site-packages/ipykernel_launcher.py:7: FutureWarning: Pass y=[-0.00698123 -0.00784665 -0.00820953 ... -0.00822943 -0.00519296\n  0.        ], sr=22050 as keyword args. From version 0.10 passing these as positional arguments will result in an error\n  import sys\n/opt/conda/lib/python3.7/site-packages/ipykernel_launcher.py:7: FutureWarning: Pass y=[-0.00267455 -0.00629888 -0.00666924 ...  0.00113861  0.00028678\n  0.        ], sr=22050 as keyword args. From version 0.10 passing these as positional arguments will result in an error\n  import sys\n 46%|████▋     | 648/1400 [00:17<00:18, 40.89it/s]/opt/conda/lib/python3.7/site-packages/ipykernel_launcher.py:7: FutureWarning: Pass y=[ 1.6795197e-03 -6.5032131e-05 -5.0550080e-03 ... -1.3098313e-02\n -1.1850044e-02  0.0000000e+00], sr=22050 as keyword args. From version 0.10 passing these as positional arguments will result in an error\n  import sys\n/opt/conda/lib/python3.7/site-packages/ipykernel_launcher.py:7: FutureWarning: Pass y=[-0.00021226 -0.0003257  -0.00041725 ... -0.00031178 -0.00024703\n  0.        ], sr=22050 as keyword args. From version 0.10 passing these as positional arguments will result in an error\n  import sys\n/opt/conda/lib/python3.7/site-packages/ipykernel_launcher.py:7: FutureWarning: Pass y=[-0.00954755 -0.01175971 -0.01170759 ... -0.00828525 -0.0046599\n  0.        ], sr=22050 as keyword args. From version 0.10 passing these as positional arguments will result in an error\n  import sys\n/opt/conda/lib/python3.7/site-packages/ipykernel_launcher.py:7: FutureWarning: Pass y=[ 2.9144218e-07 -9.4447436e-04 -9.3949278e-04 ... -1.3873934e-02\n -8.0137039e-03  0.0000000e+00], sr=22050 as keyword args. From version 0.10 passing these as positional arguments will result in an error\n  import sys\n/opt/conda/lib/python3.7/site-packages/ipykernel_launcher.py:7: FutureWarning: Pass y=[ 0.00046185  0.00122386  0.0008551  ... -0.00654576 -0.00543722\n  0.        ], sr=22050 as keyword args. From version 0.10 passing these as positional arguments will result in an error\n  import sys\n 47%|████▋     | 653/1400 [00:17<00:18, 41.13it/s]/opt/conda/lib/python3.7/site-packages/ipykernel_launcher.py:7: FutureWarning: Pass y=[-0.00020796 -0.00038489 -0.00055653 ... -0.00025136 -0.00014632\n  0.        ], sr=22050 as keyword args. From version 0.10 passing these as positional arguments will result in an error\n  import sys\n/opt/conda/lib/python3.7/site-packages/ipykernel_launcher.py:7: FutureWarning: Pass y=[-0.01210955 -0.03103875 -0.0437047  ... -0.00915924 -0.00620667\n  0.        ], sr=22050 as keyword args. From version 0.10 passing these as positional arguments will result in an error\n  import sys\n/opt/conda/lib/python3.7/site-packages/ipykernel_launcher.py:7: FutureWarning: Pass y=[-6.0690167e-05 -6.6672314e-05 -6.3828251e-05 ...  2.7889153e-04\n  2.8450647e-04  0.0000000e+00], sr=22050 as keyword args. From version 0.10 passing these as positional arguments will result in an error\n  import sys\n/opt/conda/lib/python3.7/site-packages/ipykernel_launcher.py:7: FutureWarning: Pass y=[-0.00990702 -0.01550643 -0.01626637 ... -0.00488732  0.0003541\n  0.        ], sr=22050 as keyword args. From version 0.10 passing these as positional arguments will result in an error\n  import sys\n/opt/conda/lib/python3.7/site-packages/ipykernel_launcher.py:7: FutureWarning: Pass y=[-2.2241965e-04 -2.1804185e-04 -1.7838940e-04 ...  5.1704363e-05\n  1.1083409e-05  0.0000000e+00], sr=22050 as keyword args. From version 0.10 passing these as positional arguments will result in an error\n  import sys\n 47%|████▋     | 658/1400 [00:17<00:17, 41.80it/s]/opt/conda/lib/python3.7/site-packages/ipykernel_launcher.py:7: FutureWarning: Pass y=[ 2.3444423e-05  3.3317931e-05  6.4411324e-05 ... -4.1332204e-04\n -3.4126730e-04  0.0000000e+00], sr=22050 as keyword args. From version 0.10 passing these as positional arguments will result in an error\n  import sys\n/opt/conda/lib/python3.7/site-packages/ipykernel_launcher.py:7: FutureWarning: Pass y=[-0.00474669 -0.00553151 -0.00539589 ... -0.0047299  -0.00297051\n  0.        ], sr=22050 as keyword args. From version 0.10 passing these as positional arguments will result in an error\n  import sys\n/opt/conda/lib/python3.7/site-packages/ipykernel_launcher.py:7: FutureWarning: Pass y=[-0.00559441 -0.00679207 -0.00704394 ...  0.00419375  0.00250871\n  0.        ], sr=22050 as keyword args. From version 0.10 passing these as positional arguments will result in an error\n  import sys\n/opt/conda/lib/python3.7/site-packages/ipykernel_launcher.py:7: FutureWarning: Pass y=[-0.00025105 -0.00029551 -0.00026314 ...  0.00041196  0.00032636\n  0.        ], sr=22050 as keyword args. From version 0.10 passing these as positional arguments will result in an error\n  import sys\n/opt/conda/lib/python3.7/site-packages/ipykernel_launcher.py:7: FutureWarning: Pass y=[0.01065571 0.01297124 0.01362493 ... 0.00819509 0.00461175 0.        ], sr=22050 as keyword args. From version 0.10 passing these as positional arguments will result in an error\n  import sys\n 47%|████▋     | 663/1400 [00:17<00:18, 39.81it/s]/opt/conda/lib/python3.7/site-packages/ipykernel_launcher.py:7: FutureWarning: Pass y=[-0.01065291 -0.00416766  0.00491991 ...  0.00798564  0.00449476\n  0.        ], sr=22050 as keyword args. From version 0.10 passing these as positional arguments will result in an error\n  import sys\n/opt/conda/lib/python3.7/site-packages/ipykernel_launcher.py:7: FutureWarning: Pass y=[-1.4241716e-04 -2.2509260e-04 -2.9254868e-04 ... -1.2563920e-04\n -7.3955955e-05  0.0000000e+00], sr=22050 as keyword args. From version 0.10 passing these as positional arguments will result in an error\n  import sys\n/opt/conda/lib/python3.7/site-packages/ipykernel_launcher.py:7: FutureWarning: Pass y=[-0.00038525 -0.00055836 -0.00077029 ... -0.00047143 -0.00030767\n  0.        ], sr=22050 as keyword args. From version 0.10 passing these as positional arguments will result in an error\n  import sys\n/opt/conda/lib/python3.7/site-packages/ipykernel_launcher.py:7: FutureWarning: Pass y=[-2.4562702e-05 -2.2963004e-03 -5.5266833e-03 ... -6.4212116e-03\n -5.0490280e-03  0.0000000e+00], sr=22050 as keyword args. From version 0.10 passing these as positional arguments will result in an error\n  import sys\n/opt/conda/lib/python3.7/site-packages/ipykernel_launcher.py:7: FutureWarning: Pass y=[-0.00922577 -0.01087359 -0.01142783 ...  0.0075428   0.00376174\n  0.        ], sr=22050 as keyword args. From version 0.10 passing these as positional arguments will result in an error\n  import sys\n 48%|████▊     | 668/1400 [00:17<00:18, 39.61it/s]/opt/conda/lib/python3.7/site-packages/ipykernel_launcher.py:7: FutureWarning: Pass y=[ 2.77582993e-04  1.09298504e-04 -4.54607471e-05 ... -4.22715966e-04\n -2.98533472e-04  0.00000000e+00], sr=22050 as keyword args. From version 0.10 passing these as positional arguments will result in an error\n  import sys\n/opt/conda/lib/python3.7/site-packages/ipykernel_launcher.py:7: FutureWarning: Pass y=[ 2.4831328e-05  3.0942432e-05  4.0951463e-06 ... -1.4180738e-04\n -7.1003968e-05  0.0000000e+00], sr=22050 as keyword args. From version 0.10 passing these as positional arguments will result in an error\n  import sys\n/opt/conda/lib/python3.7/site-packages/ipykernel_launcher.py:7: FutureWarning: Pass y=[-1.6849942e-03 -5.5893469e-03 -7.0693265e-03 ...  6.3549371e-05\n -5.7761290e-04  0.0000000e+00], sr=22050 as keyword args. From version 0.10 passing these as positional arguments will result in an error\n  import sys\n/opt/conda/lib/python3.7/site-packages/ipykernel_launcher.py:7: FutureWarning: Pass y=[ 0.04700745  0.05909798  0.06283801 ... -0.00608782 -0.00220537\n  0.        ], sr=22050 as keyword args. From version 0.10 passing these as positional arguments will result in an error\n  import sys\n 48%|████▊     | 672/1400 [00:18<00:18, 39.70it/s]/opt/conda/lib/python3.7/site-packages/ipykernel_launcher.py:7: FutureWarning: Pass y=[-0.01079825 -0.01005756 -0.00572801 ...  0.01051498  0.00707851\n  0.        ], sr=22050 as keyword args. From version 0.10 passing these as positional arguments will result in an error\n  import sys\n/opt/conda/lib/python3.7/site-packages/ipykernel_launcher.py:7: FutureWarning: Pass y=[ 0.0004298  -0.00139511 -0.00511915 ... -0.00758937 -0.00532233\n  0.        ], sr=22050 as keyword args. From version 0.10 passing these as positional arguments will result in an error\n  import sys\n/opt/conda/lib/python3.7/site-packages/ipykernel_launcher.py:7: FutureWarning: Pass y=[-0.00052755 -0.00337829 -0.00616427 ... -0.00607859 -0.00574241\n  0.        ], sr=22050 as keyword args. From version 0.10 passing these as positional arguments will result in an error\n  import sys\n/opt/conda/lib/python3.7/site-packages/ipykernel_launcher.py:7: FutureWarning: Pass y=[ 1.5038966e-05  2.3076416e-05  1.8737333e-05 ... -2.6225168e-04\n -1.8043061e-04  0.0000000e+00], sr=22050 as keyword args. From version 0.10 passing these as positional arguments will result in an error\n  import sys\n/opt/conda/lib/python3.7/site-packages/ipykernel_launcher.py:7: FutureWarning: Pass y=[-0.01032237 -0.01287117 -0.01136935 ... -0.01050752 -0.00712669\n  0.        ], sr=22050 as keyword args. From version 0.10 passing these as positional arguments will result in an error\n  import sys\n 48%|████▊     | 677/1400 [00:18<00:17, 40.99it/s]/opt/conda/lib/python3.7/site-packages/ipykernel_launcher.py:7: FutureWarning: Pass y=[-0.00715076 -0.00691239 -0.00711573 ... -0.00732813 -0.00234054\n  0.        ], sr=22050 as keyword args. From version 0.10 passing these as positional arguments will result in an error\n  import sys\n/opt/conda/lib/python3.7/site-packages/ipykernel_launcher.py:7: FutureWarning: Pass y=[-1.0898901e-04 -8.4288484e-05 -8.5097730e-05 ...  1.2391609e-03\n  6.4946566e-04  0.0000000e+00], sr=22050 as keyword args. From version 0.10 passing these as positional arguments will result in an error\n  import sys\n/opt/conda/lib/python3.7/site-packages/ipykernel_launcher.py:7: FutureWarning: Pass y=[-0.02618774 -0.01682135 -0.00290652 ... -0.00990398 -0.00543314\n  0.        ], sr=22050 as keyword args. From version 0.10 passing these as positional arguments will result in an error\n  import sys\n/opt/conda/lib/python3.7/site-packages/ipykernel_launcher.py:7: FutureWarning: Pass y=[-1.0950823e-05 -6.7534878e-05 -8.3843581e-05 ...  5.7923491e-04\n  2.9771196e-04  0.0000000e+00], sr=22050 as keyword args. From version 0.10 passing these as positional arguments will result in an error\n  import sys\n/opt/conda/lib/python3.7/site-packages/ipykernel_launcher.py:7: FutureWarning: Pass y=[ 0.00041511  0.00247481  0.00211999 ...  0.00013356 -0.00159458\n  0.        ], sr=22050 as keyword args. From version 0.10 passing these as positional arguments will result in an error\n  import sys\n 49%|████▊     | 682/1400 [00:18<00:18, 39.54it/s]/opt/conda/lib/python3.7/site-packages/ipykernel_launcher.py:7: FutureWarning: Pass y=[-3.2081734e-05 -1.2475361e-04 -2.0023079e-04 ...  3.5800746e-05\n  4.4506982e-05  0.0000000e+00], sr=22050 as keyword args. From version 0.10 passing these as positional arguments will result in an error\n  import sys\n/opt/conda/lib/python3.7/site-packages/ipykernel_launcher.py:7: FutureWarning: Pass y=[-0.00010707 -0.00018772 -0.00013351 ...  0.00190235  0.00116701\n  0.        ], sr=22050 as keyword args. From version 0.10 passing these as positional arguments will result in an error\n  import sys\n/opt/conda/lib/python3.7/site-packages/ipykernel_launcher.py:7: FutureWarning: Pass y=[-4.092430e-04  5.202901e-05  5.061963e-04 ...  6.877747e-04  4.412211e-04\n  0.000000e+00], sr=22050 as keyword args. From version 0.10 passing these as positional arguments will result in an error\n  import sys\n/opt/conda/lib/python3.7/site-packages/ipykernel_launcher.py:7: FutureWarning: Pass y=[0.00995055 0.01189828 0.01217728 ... 0.0099673  0.00698184 0.        ], sr=22050 as keyword args. From version 0.10 passing these as positional arguments will result in an error\n  import sys\n/opt/conda/lib/python3.7/site-packages/ipykernel_launcher.py:7: FutureWarning: Pass y=[ 0.00140151  0.00053324 -0.00059167 ... -0.00189888 -0.00140772\n  0.        ], sr=22050 as keyword args. From version 0.10 passing these as positional arguments will result in an error\n  import sys\n 49%|████▉     | 687/1400 [00:18<00:17, 41.20it/s]/opt/conda/lib/python3.7/site-packages/ipykernel_launcher.py:7: FutureWarning: Pass y=[-0.00961938 -0.01172145 -0.01149947 ... -0.00997686 -0.00696875\n  0.        ], sr=22050 as keyword args. From version 0.10 passing these as positional arguments will result in an error\n  import sys\n/opt/conda/lib/python3.7/site-packages/ipykernel_launcher.py:7: FutureWarning: Pass y=[-0.00013039 -0.00031827 -0.00040277 ... -0.00032502 -0.00025752\n  0.        ], sr=22050 as keyword args. From version 0.10 passing these as positional arguments will result in an error\n  import sys\n/opt/conda/lib/python3.7/site-packages/ipykernel_launcher.py:7: FutureWarning: Pass y=[ 0.00031669  0.00036335  0.00036618 ... -0.00038464 -0.00021635\n  0.        ], sr=22050 as keyword args. From version 0.10 passing these as positional arguments will result in an error\n  import sys\n/opt/conda/lib/python3.7/site-packages/ipykernel_launcher.py:7: FutureWarning: Pass y=[-0.00011865 -0.00024113 -0.00020416 ... -0.00042726 -0.00021056\n  0.        ], sr=22050 as keyword args. From version 0.10 passing these as positional arguments will result in an error\n  import sys\n/opt/conda/lib/python3.7/site-packages/ipykernel_launcher.py:7: FutureWarning: Pass y=[-0.0002542   0.000379    0.00093638 ... -0.00050107 -0.00036829\n  0.        ], sr=22050 as keyword args. From version 0.10 passing these as positional arguments will result in an error\n  import sys\n 49%|████▉     | 692/1400 [00:18<00:17, 39.95it/s]/opt/conda/lib/python3.7/site-packages/ipykernel_launcher.py:7: FutureWarning: Pass y=[0.00893529 0.01027517 0.00978918 ... 0.00794027 0.00459506 0.        ], sr=22050 as keyword args. From version 0.10 passing these as positional arguments will result in an error\n  import sys\n/opt/conda/lib/python3.7/site-packages/ipykernel_launcher.py:7: FutureWarning: Pass y=[-0.00768433 -0.00723902 -0.00372575 ... -0.00737769 -0.00606773\n  0.        ], sr=22050 as keyword args. From version 0.10 passing these as positional arguments will result in an error\n  import sys\n/opt/conda/lib/python3.7/site-packages/ipykernel_launcher.py:7: FutureWarning: Pass y=[-3.62846215e-04 -4.22258716e-04 -3.49940121e-04 ...  1.11835136e-04\n -1.34563825e-05  0.00000000e+00], sr=22050 as keyword args. From version 0.10 passing these as positional arguments will result in an error\n  import sys\n/opt/conda/lib/python3.7/site-packages/ipykernel_launcher.py:7: FutureWarning: Pass y=[-0.00419126 -0.00440749 -0.00366623 ...  0.00221234  0.00138267\n  0.        ], sr=22050 as keyword args. From version 0.10 passing these as positional arguments will result in an error\n  import sys\n/opt/conda/lib/python3.7/site-packages/ipykernel_launcher.py:7: FutureWarning: Pass y=[-1.5872929e-04 -5.4369222e-05  4.9701510e-05 ...  4.7705846e-04\n  3.7267440e-04  0.0000000e+00], sr=22050 as keyword args. From version 0.10 passing these as positional arguments will result in an error\n  import sys\n 50%|████▉     | 697/1400 [00:18<00:16, 41.40it/s]/opt/conda/lib/python3.7/site-packages/ipykernel_launcher.py:7: FutureWarning: Pass y=[0.01150609 0.01355554 0.01336737 ... 0.00860533 0.00998567 0.        ], sr=22050 as keyword args. From version 0.10 passing these as positional arguments will result in an error\n  import sys\n/opt/conda/lib/python3.7/site-packages/ipykernel_launcher.py:7: FutureWarning: Pass y=[ 3.9134541e-04  3.8669835e-04  3.1697220e-04 ... -1.9899997e-04\n -7.3156654e-05  0.0000000e+00], sr=22050 as keyword args. From version 0.10 passing these as positional arguments will result in an error\n  import sys\n/opt/conda/lib/python3.7/site-packages/ipykernel_launcher.py:7: FutureWarning: Pass y=[-0.01018732 -0.0055954   0.00256246 ... -0.00858374 -0.00516028\n  0.        ], sr=22050 as keyword args. From version 0.10 passing these as positional arguments will result in an error\n  import sys\n/opt/conda/lib/python3.7/site-packages/ipykernel_launcher.py:7: FutureWarning: Pass y=[0.00880221 0.0060364  0.0008376  ... 0.00907812 0.00590038 0.        ], sr=22050 as keyword args. From version 0.10 passing these as positional arguments will result in an error\n  import sys\n/opt/conda/lib/python3.7/site-packages/ipykernel_launcher.py:7: FutureWarning: Pass y=[-0.01152097 -0.00909159 -0.00327683 ...  0.00969093  0.00654902\n  0.        ], sr=22050 as keyword args. From version 0.10 passing these as positional arguments will result in an error\n  import sys\n 50%|█████     | 702/1400 [00:18<00:17, 40.67it/s]/opt/conda/lib/python3.7/site-packages/ipykernel_launcher.py:7: FutureWarning: Pass y=[-0.01409185 -0.02051629 -0.02030387 ... -0.0087433  -0.00503094\n  0.        ], sr=22050 as keyword args. From version 0.10 passing these as positional arguments will result in an error\n  import sys\n/opt/conda/lib/python3.7/site-packages/ipykernel_launcher.py:7: FutureWarning: Pass y=[ 0.00840332  0.00920835  0.00498552 ... -0.01454893 -0.01319031\n  0.        ], sr=22050 as keyword args. From version 0.10 passing these as positional arguments will result in an error\n  import sys\n/opt/conda/lib/python3.7/site-packages/ipykernel_launcher.py:7: FutureWarning: Pass y=[ 0.0008225   0.00093073  0.0008788  ... -0.0009759  -0.00062293\n  0.        ], sr=22050 as keyword args. From version 0.10 passing these as positional arguments will result in an error\n  import sys\n/opt/conda/lib/python3.7/site-packages/ipykernel_launcher.py:7: FutureWarning: Pass y=[-7.4497293e-05 -3.7280955e-05  6.2687475e-05 ... -3.4398137e-05\n  3.0207022e-05  0.0000000e+00], sr=22050 as keyword args. From version 0.10 passing these as positional arguments will result in an error\n  import sys\n/opt/conda/lib/python3.7/site-packages/ipykernel_launcher.py:7: FutureWarning: Pass y=[-0.0001805  -0.00022097 -0.000158   ...  0.00030754  0.00015066\n  0.        ], sr=22050 as keyword args. From version 0.10 passing these as positional arguments will result in an error\n  import sys\n 50%|█████     | 707/1400 [00:18<00:16, 41.09it/s]/opt/conda/lib/python3.7/site-packages/ipykernel_launcher.py:7: FutureWarning: Pass y=[-0.00058412 -0.00051776 -0.00036713 ... -0.00039481 -0.00016806\n  0.        ], sr=22050 as keyword args. From version 0.10 passing these as positional arguments will result in an error\n  import sys\n/opt/conda/lib/python3.7/site-packages/ipykernel_launcher.py:7: FutureWarning: Pass y=[ 0.00042738  0.00038162  0.00039027 ... -0.00128177 -0.00078499\n  0.        ], sr=22050 as keyword args. From version 0.10 passing these as positional arguments will result in an error\n  import sys\n/opt/conda/lib/python3.7/site-packages/ipykernel_launcher.py:7: FutureWarning: Pass y=[0.00065062 0.00084969 0.00089928 ... 0.00083109 0.00101917 0.        ], sr=22050 as keyword args. From version 0.10 passing these as positional arguments will result in an error\n  import sys\n/opt/conda/lib/python3.7/site-packages/ipykernel_launcher.py:7: FutureWarning: Pass y=[ 0.01229682  0.01033108 -0.00147136 ...  0.00737223  0.00356182\n  0.        ], sr=22050 as keyword args. From version 0.10 passing these as positional arguments will result in an error\n  import sys\n/opt/conda/lib/python3.7/site-packages/ipykernel_launcher.py:7: FutureWarning: Pass y=[-0.00795699 -0.00864823 -0.00808536 ... -0.00997883 -0.00493948\n  0.        ], sr=22050 as keyword args. From version 0.10 passing these as positional arguments will result in an error\n  import sys\n 51%|█████     | 712/1400 [00:19<00:16, 41.26it/s]/opt/conda/lib/python3.7/site-packages/ipykernel_launcher.py:7: FutureWarning: Pass y=[-0.00924923 -0.01091733 -0.01094554 ... -0.00997913 -0.0070974\n  0.        ], sr=22050 as keyword args. From version 0.10 passing these as positional arguments will result in an error\n  import sys\n/opt/conda/lib/python3.7/site-packages/ipykernel_launcher.py:7: FutureWarning: Pass y=[-0.01044162 -0.01182128 -0.01006097 ...  0.00969393  0.00725006\n  0.        ], sr=22050 as keyword args. From version 0.10 passing these as positional arguments will result in an error\n  import sys\n/opt/conda/lib/python3.7/site-packages/ipykernel_launcher.py:7: FutureWarning: Pass y=[ 0.00048589 -0.00541538 -0.01258462 ... -0.00713708 -0.00471357\n  0.        ], sr=22050 as keyword args. From version 0.10 passing these as positional arguments will result in an error\n  import sys\n/opt/conda/lib/python3.7/site-packages/ipykernel_launcher.py:7: FutureWarning: Pass y=[0.01010387 0.01183271 0.01169496 ... 0.00907337 0.00613742 0.        ], sr=22050 as keyword args. From version 0.10 passing these as positional arguments will result in an error\n  import sys\n/opt/conda/lib/python3.7/site-packages/ipykernel_launcher.py:7: FutureWarning: Pass y=[-5.5735021e-05 -3.2697750e-05  4.6018476e-06 ...  1.5076838e-04\n  8.7568158e-05  0.0000000e+00], sr=22050 as keyword args. From version 0.10 passing these as positional arguments will result in an error\n  import sys\n 51%|█████     | 717/1400 [00:19<00:16, 42.46it/s]/opt/conda/lib/python3.7/site-packages/ipykernel_launcher.py:7: FutureWarning: Pass y=[0.01062028 0.01260133 0.0127892  ... 0.00963906 0.00505101 0.        ], sr=22050 as keyword args. From version 0.10 passing these as positional arguments will result in an error\n  import sys\n/opt/conda/lib/python3.7/site-packages/ipykernel_launcher.py:7: FutureWarning: Pass y=[-0.00015728 -0.00028457 -0.00046333 ... -0.00041882 -0.00013949\n  0.        ], sr=22050 as keyword args. From version 0.10 passing these as positional arguments will result in an error\n  import sys\n/opt/conda/lib/python3.7/site-packages/ipykernel_launcher.py:7: FutureWarning: Pass y=[-0.00024141 -0.00026113 -0.00019337 ...  0.00021186  0.00016266\n  0.        ], sr=22050 as keyword args. From version 0.10 passing these as positional arguments will result in an error\n  import sys\n/opt/conda/lib/python3.7/site-packages/ipykernel_launcher.py:7: FutureWarning: Pass y=[-0.00810155 -0.00479557  0.00254686 ... -0.00589556 -0.00130342\n  0.        ], sr=22050 as keyword args. From version 0.10 passing these as positional arguments will result in an error\n  import sys\n/opt/conda/lib/python3.7/site-packages/ipykernel_launcher.py:7: FutureWarning: Pass y=[-0.01304849 -0.01477892 -0.01124628 ...  0.00780159  0.00356112\n  0.        ], sr=22050 as keyword args. From version 0.10 passing these as positional arguments will result in an error\n  import sys\n 52%|█████▏    | 722/1400 [00:19<00:15, 44.20it/s]/opt/conda/lib/python3.7/site-packages/ipykernel_launcher.py:7: FutureWarning: Pass y=[-0.00097813 -0.00502326 -0.00729561 ... -0.01403661 -0.01307408\n -0.008048  ], sr=22050 as keyword args. From version 0.10 passing these as positional arguments will result in an error\n  import sys\n/opt/conda/lib/python3.7/site-packages/ipykernel_launcher.py:7: FutureWarning: Pass y=[-4.6487305e-05  5.0344377e-05  2.0111355e-04 ...  2.3652331e-04\n  1.9613585e-04  0.0000000e+00], sr=22050 as keyword args. From version 0.10 passing these as positional arguments will result in an error\n  import sys\n/opt/conda/lib/python3.7/site-packages/ipykernel_launcher.py:7: FutureWarning: Pass y=[-0.00488823 -0.00359965 -0.00106246 ...  0.00506465  0.00310188\n  0.        ], sr=22050 as keyword args. From version 0.10 passing these as positional arguments will result in an error\n  import sys\n/opt/conda/lib/python3.7/site-packages/ipykernel_launcher.py:7: FutureWarning: Pass y=[-0.0068922  -0.00376064 -0.00101395 ... -0.00760779 -0.00505853\n  0.        ], sr=22050 as keyword args. From version 0.10 passing these as positional arguments will result in an error\n  import sys\n/opt/conda/lib/python3.7/site-packages/ipykernel_launcher.py:7: FutureWarning: Pass y=[-0.00880945 -0.00626097 -0.00133164 ...  0.00657749  0.00554277\n  0.        ], sr=22050 as keyword args. From version 0.10 passing these as positional arguments will result in an error\n  import sys\n 52%|█████▏    | 727/1400 [00:19<00:15, 42.51it/s]/opt/conda/lib/python3.7/site-packages/ipykernel_launcher.py:7: FutureWarning: Pass y=[-0.0074494  -0.00594918 -0.00252619 ... -0.00742868 -0.00583658\n  0.        ], sr=22050 as keyword args. From version 0.10 passing these as positional arguments will result in an error\n  import sys\n/opt/conda/lib/python3.7/site-packages/ipykernel_launcher.py:7: FutureWarning: Pass y=[ 0.00135801  0.00187322  0.00034709 ... -0.00750091 -0.00521871\n  0.        ], sr=22050 as keyword args. From version 0.10 passing these as positional arguments will result in an error\n  import sys\n/opt/conda/lib/python3.7/site-packages/ipykernel_launcher.py:7: FutureWarning: Pass y=[ 0.00026306  0.00032237  0.00031582 ... -0.00031677 -0.00019405\n  0.        ], sr=22050 as keyword args. From version 0.10 passing these as positional arguments will result in an error\n  import sys\n/opt/conda/lib/python3.7/site-packages/ipykernel_launcher.py:7: FutureWarning: Pass y=[-5.7989260e-04 -5.6624995e-04 -3.7228594e-05 ...  3.4702383e-04\n  2.2394127e-04  0.0000000e+00], sr=22050 as keyword args. From version 0.10 passing these as positional arguments will result in an error\n  import sys\n/opt/conda/lib/python3.7/site-packages/ipykernel_launcher.py:7: FutureWarning: Pass y=[-1.7575403e-04 -4.0950465e-05 -1.5430058e-04 ...  3.1426962e-04\n  1.8730544e-04  0.0000000e+00], sr=22050 as keyword args. From version 0.10 passing these as positional arguments will result in an error\n  import sys\n 52%|█████▏    | 732/1400 [00:19<00:15, 43.19it/s]/opt/conda/lib/python3.7/site-packages/ipykernel_launcher.py:7: FutureWarning: Pass y=[ 3.4342389e-05 -1.2481044e-05 -1.2916563e-05 ...  2.7962515e-04\n  1.8649831e-04  0.0000000e+00], sr=22050 as keyword args. From version 0.10 passing these as positional arguments will result in an error\n  import sys\n/opt/conda/lib/python3.7/site-packages/ipykernel_launcher.py:7: FutureWarning: Pass y=[-5.4838305e-04 -7.2071102e-04 -7.5189554e-04 ... -1.3282141e-04\n -3.8124243e-05  0.0000000e+00], sr=22050 as keyword args. From version 0.10 passing these as positional arguments will result in an error\n  import sys\n/opt/conda/lib/python3.7/site-packages/ipykernel_launcher.py:7: FutureWarning: Pass y=[-0.02378025 -0.0352982  -0.0434945  ... -0.00053338  0.00189413\n  0.        ], sr=22050 as keyword args. From version 0.10 passing these as positional arguments will result in an error\n  import sys\n/opt/conda/lib/python3.7/site-packages/ipykernel_launcher.py:7: FutureWarning: Pass y=[ 0.00018977  0.00025902  0.00032515 ... -0.00043486 -0.0003141\n  0.        ], sr=22050 as keyword args. From version 0.10 passing these as positional arguments will result in an error\n  import sys\n/opt/conda/lib/python3.7/site-packages/ipykernel_launcher.py:7: FutureWarning: Pass y=[-0.00672758 -0.00372046 -0.00101744 ...  0.00085082  0.00173285\n  0.        ], sr=22050 as keyword args. From version 0.10 passing these as positional arguments will result in an error\n  import sys\n 53%|█████▎    | 737/1400 [00:19<00:15, 42.48it/s]/opt/conda/lib/python3.7/site-packages/ipykernel_launcher.py:7: FutureWarning: Pass y=[-0.00895621 -0.00126594  0.00636035 ... -0.0075899  -0.00383172\n  0.        ], sr=22050 as keyword args. From version 0.10 passing these as positional arguments will result in an error\n  import sys\n/opt/conda/lib/python3.7/site-packages/ipykernel_launcher.py:7: FutureWarning: Pass y=[-0.000199   -0.00018777 -0.0001538  ... -0.00015712 -0.00010938\n  0.        ], sr=22050 as keyword args. From version 0.10 passing these as positional arguments will result in an error\n  import sys\n/opt/conda/lib/python3.7/site-packages/ipykernel_launcher.py:7: FutureWarning: Pass y=[-6.7821826e-04 -3.8872269e-04  8.0373509e-05 ... -1.2857068e-04\n -2.1338174e-05  0.0000000e+00], sr=22050 as keyword args. From version 0.10 passing these as positional arguments will result in an error\n  import sys\n/opt/conda/lib/python3.7/site-packages/ipykernel_launcher.py:7: FutureWarning: Pass y=[-0.00974564 -0.01139026 -0.01148429 ...  0.00943463  0.00569224\n  0.        ], sr=22050 as keyword args. From version 0.10 passing these as positional arguments will result in an error\n  import sys\n/opt/conda/lib/python3.7/site-packages/ipykernel_launcher.py:7: FutureWarning: Pass y=[-7.1473193e-04 -4.9599446e-04  7.8429177e-05 ... -7.8763702e-04\n -3.8898643e-04  0.0000000e+00], sr=22050 as keyword args. From version 0.10 passing these as positional arguments will result in an error\n  import sys\n 53%|█████▎    | 742/1400 [00:19<00:15, 42.10it/s]/opt/conda/lib/python3.7/site-packages/ipykernel_launcher.py:7: FutureWarning: Pass y=[-7.8028745e-05  2.3774184e-05  8.6790402e-05 ... -7.0611095e-05\n -1.2910874e-04  0.0000000e+00], sr=22050 as keyword args. From version 0.10 passing these as positional arguments will result in an error\n  import sys\n/opt/conda/lib/python3.7/site-packages/ipykernel_launcher.py:7: FutureWarning: Pass y=[-0.00069247 -0.00460878 -0.00720721 ... -0.01634679 -0.01099657\n  0.        ], sr=22050 as keyword args. From version 0.10 passing these as positional arguments will result in an error\n  import sys\n/opt/conda/lib/python3.7/site-packages/ipykernel_launcher.py:7: FutureWarning: Pass y=[ 3.6363429e-04 -9.8371247e-06 -3.3833148e-04 ... -1.0291361e-03\n -9.0973068e-04  0.0000000e+00], sr=22050 as keyword args. From version 0.10 passing these as positional arguments will result in an error\n  import sys\n/opt/conda/lib/python3.7/site-packages/ipykernel_launcher.py:7: FutureWarning: Pass y=[ 0.0095098   0.01134464  0.01149986 ... -0.00923817 -0.00638002\n  0.        ], sr=22050 as keyword args. From version 0.10 passing these as positional arguments will result in an error\n  import sys\n/opt/conda/lib/python3.7/site-packages/ipykernel_launcher.py:7: FutureWarning: Pass y=[-9.1013353e-05 -3.2546191e-04 -4.9921742e-04 ... -4.6897240e-04\n -2.8405714e-04  0.0000000e+00], sr=22050 as keyword args. From version 0.10 passing these as positional arguments will result in an error\n  import sys\n 53%|█████▎    | 747/1400 [00:19<00:15, 41.17it/s]/opt/conda/lib/python3.7/site-packages/ipykernel_launcher.py:7: FutureWarning: Pass y=[-0.00155012 -0.01186719 -0.01715623 ... -0.00023703 -0.00102188\n  0.        ], sr=22050 as keyword args. From version 0.10 passing these as positional arguments will result in an error\n  import sys\n/opt/conda/lib/python3.7/site-packages/ipykernel_launcher.py:7: FutureWarning: Pass y=[-1.9857268e-04 -2.6262741e-04 -2.1474563e-04 ... -7.3841766e-05\n -4.5188386e-05  0.0000000e+00], sr=22050 as keyword args. From version 0.10 passing these as positional arguments will result in an error\n  import sys\n/opt/conda/lib/python3.7/site-packages/ipykernel_launcher.py:7: FutureWarning: Pass y=[0.00053889 0.00052101 0.00024336 ... 0.00047095 0.00028909 0.        ], sr=22050 as keyword args. From version 0.10 passing these as positional arguments will result in an error\n  import sys\n/opt/conda/lib/python3.7/site-packages/ipykernel_launcher.py:7: FutureWarning: Pass y=[ 2.5093471e-04  1.4636472e-04  8.5914464e-05 ... -5.4075464e-04\n -2.9754918e-04  0.0000000e+00], sr=22050 as keyword args. From version 0.10 passing these as positional arguments will result in an error\n  import sys\n/opt/conda/lib/python3.7/site-packages/ipykernel_launcher.py:7: FutureWarning: Pass y=[0.00022714 0.00027564 0.00030492 ... 0.00051297 0.00029808 0.        ], sr=22050 as keyword args. From version 0.10 passing these as positional arguments will result in an error\n  import sys\n 54%|█████▎    | 752/1400 [00:19<00:15, 42.26it/s]/opt/conda/lib/python3.7/site-packages/ipykernel_launcher.py:7: FutureWarning: Pass y=[-0.00121027 -0.0076377  -0.01290666 ... -0.00752553 -0.00698404\n  0.        ], sr=22050 as keyword args. From version 0.10 passing these as positional arguments will result in an error\n  import sys\n/opt/conda/lib/python3.7/site-packages/ipykernel_launcher.py:7: FutureWarning: Pass y=[ 8.6847976e-05 -1.4519288e-04 -4.2038548e-04 ...  4.2390564e-04\n  2.1424516e-04  0.0000000e+00], sr=22050 as keyword args. From version 0.10 passing these as positional arguments will result in an error\n  import sys\n/opt/conda/lib/python3.7/site-packages/ipykernel_launcher.py:7: FutureWarning: Pass y=[-0.00115952 -0.00435185 -0.00640958 ... -0.02433054 -0.01150448\n  0.        ], sr=22050 as keyword args. From version 0.10 passing these as positional arguments will result in an error\n  import sys\n/opt/conda/lib/python3.7/site-packages/ipykernel_launcher.py:7: FutureWarning: Pass y=[-0.01504859 -0.00640453  0.00249415 ... -0.00912639 -0.00559391\n  0.        ], sr=22050 as keyword args. From version 0.10 passing these as positional arguments will result in an error\n  import sys\n/opt/conda/lib/python3.7/site-packages/ipykernel_launcher.py:7: FutureWarning: Pass y=[-0.00145054 -0.00180758 -0.0001876  ... -0.00513915 -0.00047228\n  0.        ], sr=22050 as keyword args. From version 0.10 passing these as positional arguments will result in an error\n  import sys\n 54%|█████▍    | 757/1400 [00:20<00:16, 39.43it/s]/opt/conda/lib/python3.7/site-packages/ipykernel_launcher.py:7: FutureWarning: Pass y=[-0.00846346 -0.01409588 -0.01630691 ... -0.00608163 -0.00139527\n  0.        ], sr=22050 as keyword args. From version 0.10 passing these as positional arguments will result in an error\n  import sys\n/opt/conda/lib/python3.7/site-packages/ipykernel_launcher.py:7: FutureWarning: Pass y=[-0.00012902 -0.00025861 -0.00039444 ...  0.00021874  0.00011878\n  0.        ], sr=22050 as keyword args. From version 0.10 passing these as positional arguments will result in an error\n  import sys\n/opt/conda/lib/python3.7/site-packages/ipykernel_launcher.py:7: FutureWarning: Pass y=[2.8834035e-04 3.0144109e-04 2.7787453e-04 ... 7.1135430e-05 9.0810980e-05\n 0.0000000e+00], sr=22050 as keyword args. From version 0.10 passing these as positional arguments will result in an error\n  import sys\n/opt/conda/lib/python3.7/site-packages/ipykernel_launcher.py:7: FutureWarning: Pass y=[-0.01101861 -0.01339579 -0.01432873 ...  0.00874535  0.0066168\n  0.        ], sr=22050 as keyword args. From version 0.10 passing these as positional arguments will result in an error\n  import sys\n/opt/conda/lib/python3.7/site-packages/ipykernel_launcher.py:7: FutureWarning: Pass y=[-0.03756839 -0.03183947 -0.01604608 ...  0.00865538  0.00530516\n  0.        ], sr=22050 as keyword args. From version 0.10 passing these as positional arguments will result in an error\n  import sys\n 54%|█████▍    | 762/1400 [00:20<00:15, 40.26it/s]/opt/conda/lib/python3.7/site-packages/ipykernel_launcher.py:7: FutureWarning: Pass y=[-8.8523680e-05 -2.8887580e-05 -5.6060317e-06 ... -8.9831017e-05\n -6.4311942e-05  0.0000000e+00], sr=22050 as keyword args. From version 0.10 passing these as positional arguments will result in an error\n  import sys\n/opt/conda/lib/python3.7/site-packages/ipykernel_launcher.py:7: FutureWarning: Pass y=[ 0.01173884  0.00688477 -0.00645829 ... -0.00789458 -0.00447399\n  0.        ], sr=22050 as keyword args. From version 0.10 passing these as positional arguments will result in an error\n  import sys\n/opt/conda/lib/python3.7/site-packages/ipykernel_launcher.py:7: FutureWarning: Pass y=[ 0.00020937  0.00024506  0.00022672 ... -0.00018813 -0.00015131\n  0.        ], sr=22050 as keyword args. From version 0.10 passing these as positional arguments will result in an error\n  import sys\n/opt/conda/lib/python3.7/site-packages/ipykernel_launcher.py:7: FutureWarning: Pass y=[0.00083932 0.00095577 0.00089402 ... 0.00099706 0.00072004 0.        ], sr=22050 as keyword args. From version 0.10 passing these as positional arguments will result in an error\n  import sys\n/opt/conda/lib/python3.7/site-packages/ipykernel_launcher.py:7: FutureWarning: Pass y=[ 0.01041905  0.01277963  0.01350871 ... -0.01082768 -0.00723383\n  0.        ], sr=22050 as keyword args. From version 0.10 passing these as positional arguments will result in an error\n  import sys\n 55%|█████▍    | 767/1400 [00:20<00:15, 40.44it/s]/opt/conda/lib/python3.7/site-packages/ipykernel_launcher.py:7: FutureWarning: Pass y=[ 0.00032666  0.00033921  0.00025562 ... -0.00039896 -0.00022127\n  0.        ], sr=22050 as keyword args. From version 0.10 passing these as positional arguments will result in an error\n  import sys\n/opt/conda/lib/python3.7/site-packages/ipykernel_launcher.py:7: FutureWarning: Pass y=[-5.1060815e-05 -1.0756543e-04 -1.5412191e-04 ... -2.2884525e-04\n -8.6702501e-05  0.0000000e+00], sr=22050 as keyword args. From version 0.10 passing these as positional arguments will result in an error\n  import sys\n/opt/conda/lib/python3.7/site-packages/ipykernel_launcher.py:7: FutureWarning: Pass y=[ 6.7829463e-04  8.9737726e-04  9.7780023e-04 ...  5.8352492e-05\n -8.5630876e-05  0.0000000e+00], sr=22050 as keyword args. From version 0.10 passing these as positional arguments will result in an error\n  import sys\n/opt/conda/lib/python3.7/site-packages/ipykernel_launcher.py:7: FutureWarning: Pass y=[-0.00944163 -0.01141747 -0.01188294 ... -0.00759803 -0.00411664\n  0.        ], sr=22050 as keyword args. From version 0.10 passing these as positional arguments will result in an error\n  import sys\n/opt/conda/lib/python3.7/site-packages/ipykernel_launcher.py:7: FutureWarning: Pass y=[-1.1110621e-05 -1.2078432e-06 -1.0624299e-06 ...  3.2820015e-05\n -1.2998365e-05  0.0000000e+00], sr=22050 as keyword args. From version 0.10 passing these as positional arguments will result in an error\n  import sys\n 55%|█████▌    | 772/1400 [00:20<00:15, 39.82it/s]/opt/conda/lib/python3.7/site-packages/ipykernel_launcher.py:7: FutureWarning: Pass y=[-0.00085147 -0.0008463  -0.00049023 ... -0.000865   -0.00069772\n  0.        ], sr=22050 as keyword args. From version 0.10 passing these as positional arguments will result in an error\n  import sys\n/opt/conda/lib/python3.7/site-packages/ipykernel_launcher.py:7: FutureWarning: Pass y=[ 7.4209260e-05  7.3974905e-07 -9.7168551e-05 ... -6.6876841e-05\n -2.7572845e-05  0.0000000e+00], sr=22050 as keyword args. From version 0.10 passing these as positional arguments will result in an error\n  import sys\n/opt/conda/lib/python3.7/site-packages/ipykernel_launcher.py:7: FutureWarning: Pass y=[-0.01156493 -0.01091781 -0.00636886 ...  0.00861936  0.00422805\n  0.        ], sr=22050 as keyword args. From version 0.10 passing these as positional arguments will result in an error\n  import sys\n/opt/conda/lib/python3.7/site-packages/ipykernel_launcher.py:7: FutureWarning: Pass y=[-0.0148104  -0.01307367 -0.00978881 ... -0.01455647 -0.00961422\n  0.        ], sr=22050 as keyword args. From version 0.10 passing these as positional arguments will result in an error\n  import sys\n/opt/conda/lib/python3.7/site-packages/ipykernel_launcher.py:7: FutureWarning: Pass y=[-0.00046545 -0.00735814 -0.01359616 ... -0.02296061 -0.01778203\n  0.        ], sr=22050 as keyword args. From version 0.10 passing these as positional arguments will result in an error\n  import sys\n 56%|█████▌    | 777/1400 [00:20<00:14, 41.54it/s]/opt/conda/lib/python3.7/site-packages/ipykernel_launcher.py:7: FutureWarning: Pass y=[-3.4047764e-05 -8.2288250e-05  1.0171811e-04 ... -5.8600286e-05\n  1.0624215e-04  0.0000000e+00], sr=22050 as keyword args. From version 0.10 passing these as positional arguments will result in an error\n  import sys\n/opt/conda/lib/python3.7/site-packages/ipykernel_launcher.py:7: FutureWarning: Pass y=[-0.0003079  -0.00031128 -0.00015761 ... -0.00060359 -0.00018552\n  0.        ], sr=22050 as keyword args. From version 0.10 passing these as positional arguments will result in an error\n  import sys\n/opt/conda/lib/python3.7/site-packages/ipykernel_launcher.py:7: FutureWarning: Pass y=[ 0.00950884  0.01106956  0.01100749 ... -0.00782439 -0.00402996\n  0.        ], sr=22050 as keyword args. From version 0.10 passing these as positional arguments will result in an error\n  import sys\n/opt/conda/lib/python3.7/site-packages/ipykernel_launcher.py:7: FutureWarning: Pass y=[ 0.00356165 -0.00043825 -0.00327309 ...  0.00433246  0.00315526\n  0.        ], sr=22050 as keyword args. From version 0.10 passing these as positional arguments will result in an error\n  import sys\n/opt/conda/lib/python3.7/site-packages/ipykernel_launcher.py:7: FutureWarning: Pass y=[-0.00070231 -0.00162061 -0.00082531 ... -0.00689071 -0.00643762\n  0.        ], sr=22050 as keyword args. From version 0.10 passing these as positional arguments will result in an error\n  import sys\n 56%|█████▌    | 782/1400 [00:20<00:15, 39.81it/s]/opt/conda/lib/python3.7/site-packages/ipykernel_launcher.py:7: FutureWarning: Pass y=[-0.00674082 -0.00425557 -0.00172148 ... -0.0080871  -0.00484243\n  0.        ], sr=22050 as keyword args. From version 0.10 passing these as positional arguments will result in an error\n  import sys\n/opt/conda/lib/python3.7/site-packages/ipykernel_launcher.py:7: FutureWarning: Pass y=[-9.7374677e-06  2.5421419e-05 -4.9540566e-05 ... -6.3919375e-04\n -4.4664316e-04  0.0000000e+00], sr=22050 as keyword args. From version 0.10 passing these as positional arguments will result in an error\n  import sys\n/opt/conda/lib/python3.7/site-packages/ipykernel_launcher.py:7: FutureWarning: Pass y=[ 0.01610227  0.02327044  0.028404   ... -0.01252295 -0.00628998\n  0.        ], sr=22050 as keyword args. From version 0.10 passing these as positional arguments will result in an error\n  import sys\n/opt/conda/lib/python3.7/site-packages/ipykernel_launcher.py:7: FutureWarning: Pass y=[-0.0107741  -0.01282678 -0.01309959 ...  0.0071972   0.00364294\n  0.        ], sr=22050 as keyword args. From version 0.10 passing these as positional arguments will result in an error\n  import sys\n/opt/conda/lib/python3.7/site-packages/ipykernel_launcher.py:7: FutureWarning: Pass y=[ 1.0607191e-03  1.2973549e-03  1.1771276e-03 ... -2.2386041e-04\n -6.3851738e-05  0.0000000e+00], sr=22050 as keyword args. From version 0.10 passing these as positional arguments will result in an error\n  import sys\n 56%|█████▌    | 787/1400 [00:20<00:14, 41.46it/s]/opt/conda/lib/python3.7/site-packages/ipykernel_launcher.py:7: FutureWarning: Pass y=[9.9621261e-08 7.1005023e-05 3.0060122e-05 ... 2.8967363e-04 2.1564578e-04\n 0.0000000e+00], sr=22050 as keyword args. From version 0.10 passing these as positional arguments will result in an error\n  import sys\n/opt/conda/lib/python3.7/site-packages/ipykernel_launcher.py:7: FutureWarning: Pass y=[5.6586025e-05 1.4968296e-04 2.0101681e-04 ... 4.2877251e-05 3.8897448e-05\n 0.0000000e+00], sr=22050 as keyword args. From version 0.10 passing these as positional arguments will result in an error\n  import sys\n/opt/conda/lib/python3.7/site-packages/ipykernel_launcher.py:7: FutureWarning: Pass y=[-0.02187446 -0.01492769 -0.00087743 ... -0.00796752 -0.00451282\n  0.        ], sr=22050 as keyword args. From version 0.10 passing these as positional arguments will result in an error\n  import sys\n/opt/conda/lib/python3.7/site-packages/ipykernel_launcher.py:7: FutureWarning: Pass y=[-7.5195200e-04 -9.3708665e-04 -1.0403860e-03 ... -1.3086264e-04\n -6.8719200e-05  0.0000000e+00], sr=22050 as keyword args. From version 0.10 passing these as positional arguments will result in an error\n  import sys\n/opt/conda/lib/python3.7/site-packages/ipykernel_launcher.py:7: FutureWarning: Pass y=[0.00010243 0.00020204 0.00027343 ... 0.000321   0.00017786 0.        ], sr=22050 as keyword args. From version 0.10 passing these as positional arguments will result in an error\n  import sys\n 57%|█████▋    | 792/1400 [00:21<00:17, 35.34it/s]/opt/conda/lib/python3.7/site-packages/ipykernel_launcher.py:7: FutureWarning: Pass y=[-1.5422323e-04 -3.0906557e-04 -3.3329311e-04 ... -6.3062747e-05\n -8.7172324e-05  0.0000000e+00], sr=22050 as keyword args. From version 0.10 passing these as positional arguments will result in an error\n  import sys\n/opt/conda/lib/python3.7/site-packages/ipykernel_launcher.py:7: FutureWarning: Pass y=[-0.00138426 -0.00335571 -0.00193389 ... -0.00767836 -0.00565756\n  0.        ], sr=22050 as keyword args. From version 0.10 passing these as positional arguments will result in an error\n  import sys\n/opt/conda/lib/python3.7/site-packages/ipykernel_launcher.py:7: FutureWarning: Pass y=[1.7512644e-04 1.0234092e-04 4.1625743e-05 ... 2.8043933e-04 1.6480619e-04\n 0.0000000e+00], sr=22050 as keyword args. From version 0.10 passing these as positional arguments will result in an error\n  import sys\n/opt/conda/lib/python3.7/site-packages/ipykernel_launcher.py:7: FutureWarning: Pass y=[ 5.5331754e-04  3.2178208e-04  8.2230996e-05 ... -1.4476114e-03\n -1.0054786e-03  0.0000000e+00], sr=22050 as keyword args. From version 0.10 passing these as positional arguments will result in an error\n  import sys\n 57%|█████▋    | 796/1400 [00:21<00:17, 33.94it/s]/opt/conda/lib/python3.7/site-packages/ipykernel_launcher.py:7: FutureWarning: Pass y=[-0.01201248  0.00018216  0.00855176 ... -0.00883606 -0.00569641\n  0.        ], sr=22050 as keyword args. From version 0.10 passing these as positional arguments will result in an error\n  import sys\n/opt/conda/lib/python3.7/site-packages/ipykernel_launcher.py:7: FutureWarning: Pass y=[ 0.00035551  0.00181244  0.00465714 ...  0.00096112 -0.00063803\n  0.        ], sr=22050 as keyword args. From version 0.10 passing these as positional arguments will result in an error\n  import sys\n/opt/conda/lib/python3.7/site-packages/ipykernel_launcher.py:7: FutureWarning: Pass y=[-0.0004597  -0.00031277 -0.00010612 ...  0.00061001  0.00043509\n  0.        ], sr=22050 as keyword args. From version 0.10 passing these as positional arguments will result in an error\n  import sys\n/opt/conda/lib/python3.7/site-packages/ipykernel_launcher.py:7: FutureWarning: Pass y=[-0.0010207  -0.00106574 -0.00101488 ... -0.00043641 -0.00041372\n  0.        ], sr=22050 as keyword args. From version 0.10 passing these as positional arguments will result in an error\n  import sys\n 57%|█████▋    | 800/1400 [00:21<00:19, 30.94it/s]/opt/conda/lib/python3.7/site-packages/ipykernel_launcher.py:7: FutureWarning: Pass y=[-0.01092936 -0.01365111 -0.01451287 ...  0.00771094  0.00437856\n  0.        ], sr=22050 as keyword args. From version 0.10 passing these as positional arguments will result in an error\n  import sys\n/opt/conda/lib/python3.7/site-packages/ipykernel_launcher.py:7: FutureWarning: Pass y=[ 0.00982791  0.01191685  0.01257643 ... -0.00738853 -0.00368064\n  0.        ], sr=22050 as keyword args. From version 0.10 passing these as positional arguments will result in an error\n  import sys\n/opt/conda/lib/python3.7/site-packages/ipykernel_launcher.py:7: FutureWarning: Pass y=[-0.00760779 -0.00879797 -0.0086147  ... -0.00782701 -0.00534686\n  0.        ], sr=22050 as keyword args. From version 0.10 passing these as positional arguments will result in an error\n  import sys\n/opt/conda/lib/python3.7/site-packages/ipykernel_launcher.py:7: FutureWarning: Pass y=[ 0.0090901   0.01088386  0.01127272 ... -0.00878322 -0.00560134\n  0.        ], sr=22050 as keyword args. From version 0.10 passing these as positional arguments will result in an error\n  import sys\n 57%|█████▋    | 804/1400 [00:21<00:20, 28.84it/s]/opt/conda/lib/python3.7/site-packages/ipykernel_launcher.py:7: FutureWarning: Pass y=[-0.00932135 -0.01024904 -0.00914097 ...  0.00887631  0.00823344\n  0.        ], sr=22050 as keyword args. From version 0.10 passing these as positional arguments will result in an error\n  import sys\n/opt/conda/lib/python3.7/site-packages/ipykernel_launcher.py:7: FutureWarning: Pass y=[-0.01635981 -0.02229164 -0.02399972 ... -0.00616965 -0.00319298\n  0.        ], sr=22050 as keyword args. From version 0.10 passing these as positional arguments will result in an error\n  import sys\n/opt/conda/lib/python3.7/site-packages/ipykernel_launcher.py:7: FutureWarning: Pass y=[-0.00188469 -0.00545567 -0.00671676 ... -0.00709199 -0.00498149\n  0.        ], sr=22050 as keyword args. From version 0.10 passing these as positional arguments will result in an error\n  import sys\n/opt/conda/lib/python3.7/site-packages/ipykernel_launcher.py:7: FutureWarning: Pass y=[ 0.00935276  0.00199278 -0.00540561 ...  0.00772472  0.00427069\n  0.        ], sr=22050 as keyword args. From version 0.10 passing these as positional arguments will result in an error\n  import sys\n/opt/conda/lib/python3.7/site-packages/ipykernel_launcher.py:7: FutureWarning: Pass y=[8.6398555e-05 2.5805883e-04 3.5912392e-04 ... 1.3167982e-03 8.6315023e-04\n 0.0000000e+00], sr=22050 as keyword args. From version 0.10 passing these as positional arguments will result in an error\n  import sys\n 58%|█████▊    | 809/1400 [00:21<00:18, 32.59it/s]/opt/conda/lib/python3.7/site-packages/ipykernel_launcher.py:7: FutureWarning: Pass y=[ 1.1498825e-04 -4.2447424e-05 -1.4686472e-04 ...  1.8480867e-04\n  2.0299669e-04  0.0000000e+00], sr=22050 as keyword args. From version 0.10 passing these as positional arguments will result in an error\n  import sys\n/opt/conda/lib/python3.7/site-packages/ipykernel_launcher.py:7: FutureWarning: Pass y=[-0.00554188 -0.00792967 -0.00489442 ... -0.01378835 -0.01062275\n  0.        ], sr=22050 as keyword args. From version 0.10 passing these as positional arguments will result in an error\n  import sys\n/opt/conda/lib/python3.7/site-packages/ipykernel_launcher.py:7: FutureWarning: Pass y=[-0.00629857 -0.00613663 -0.00417314 ... -0.01427778 -0.01085744\n  0.        ], sr=22050 as keyword args. From version 0.10 passing these as positional arguments will result in an error\n  import sys\n/opt/conda/lib/python3.7/site-packages/ipykernel_launcher.py:7: FutureWarning: Pass y=[-0.00819259 -0.00734629 -0.0036727  ... -0.00888557 -0.00543467\n  0.        ], sr=22050 as keyword args. From version 0.10 passing these as positional arguments will result in an error\n  import sys\n/opt/conda/lib/python3.7/site-packages/ipykernel_launcher.py:7: FutureWarning: Pass y=[-0.00776562 -0.00918176 -0.00881425 ... -0.00756042 -0.00743557\n  0.        ], sr=22050 as keyword args. From version 0.10 passing these as positional arguments will result in an error\n  import sys\n 58%|█████▊    | 814/1400 [00:21<00:16, 35.47it/s]/opt/conda/lib/python3.7/site-packages/ipykernel_launcher.py:7: FutureWarning: Pass y=[ 0.00454499 -0.00435301 -0.01274584 ... -0.00449611 -0.00284292\n  0.        ], sr=22050 as keyword args. From version 0.10 passing these as positional arguments will result in an error\n  import sys\n/opt/conda/lib/python3.7/site-packages/ipykernel_launcher.py:7: FutureWarning: Pass y=[-0.00030066 -0.0002648  -0.00016868 ...  0.00190842  0.00136722\n  0.        ], sr=22050 as keyword args. From version 0.10 passing these as positional arguments will result in an error\n  import sys\n/opt/conda/lib/python3.7/site-packages/ipykernel_launcher.py:7: FutureWarning: Pass y=[-0.00033501 -0.00221429 -0.00510469 ... -0.00112729  0.00358403\n  0.        ], sr=22050 as keyword args. From version 0.10 passing these as positional arguments will result in an error\n  import sys\n/opt/conda/lib/python3.7/site-packages/ipykernel_launcher.py:7: FutureWarning: Pass y=[0.01281921 0.00848093 0.00030846 ... 0.00996277 0.00858446 0.        ], sr=22050 as keyword args. From version 0.10 passing these as positional arguments will result in an error\n  import sys\n/opt/conda/lib/python3.7/site-packages/ipykernel_launcher.py:7: FutureWarning: Pass y=[-0.00185321 -0.00157298  0.00051316 ... -0.00794618 -0.00461266\n  0.        ], sr=22050 as keyword args. From version 0.10 passing these as positional arguments will result in an error\n  import sys\n 58%|█████▊    | 819/1400 [00:21<00:15, 37.35it/s]/opt/conda/lib/python3.7/site-packages/ipykernel_launcher.py:7: FutureWarning: Pass y=[-0.01455255 -0.01354629 -0.01053739 ...  0.00038178  0.00199422\n  0.        ], sr=22050 as keyword args. From version 0.10 passing these as positional arguments will result in an error\n  import sys\n/opt/conda/lib/python3.7/site-packages/ipykernel_launcher.py:7: FutureWarning: Pass y=[-0.00031172 -0.00025826 -0.00017567 ... -0.00028596 -0.00018175\n  0.        ], sr=22050 as keyword args. From version 0.10 passing these as positional arguments will result in an error\n  import sys\n/opt/conda/lib/python3.7/site-packages/ipykernel_launcher.py:7: FutureWarning: Pass y=[-0.00824508 -0.01375961 -0.01624648 ... -0.00641353 -0.00286709\n  0.        ], sr=22050 as keyword args. From version 0.10 passing these as positional arguments will result in an error\n  import sys\n/opt/conda/lib/python3.7/site-packages/ipykernel_launcher.py:7: FutureWarning: Pass y=[0.00924998 0.01076814 0.01064686 ... 0.00736274 0.00375254 0.        ], sr=22050 as keyword args. From version 0.10 passing these as positional arguments will result in an error\n  import sys\n/opt/conda/lib/python3.7/site-packages/ipykernel_launcher.py:7: FutureWarning: Pass y=[-0.01004777 -0.01092049 -0.00924438 ...  0.00859305  0.00535724\n  0.        ], sr=22050 as keyword args. From version 0.10 passing these as positional arguments will result in an error\n  import sys\n 59%|█████▉    | 824/1400 [00:21<00:15, 38.39it/s]/opt/conda/lib/python3.7/site-packages/ipykernel_launcher.py:7: FutureWarning: Pass y=[-0.01528947 -0.0182139  -0.01368266 ... -0.00953974 -0.00624656\n  0.        ], sr=22050 as keyword args. From version 0.10 passing these as positional arguments will result in an error\n  import sys\n/opt/conda/lib/python3.7/site-packages/ipykernel_launcher.py:7: FutureWarning: Pass y=[-1.1565548e-05 -1.2261153e-04 -2.0310779e-04 ... -1.5635601e-04\n -7.7468052e-05  0.0000000e+00], sr=22050 as keyword args. From version 0.10 passing these as positional arguments will result in an error\n  import sys\n/opt/conda/lib/python3.7/site-packages/ipykernel_launcher.py:7: FutureWarning: Pass y=[-0.00030495 -0.00090317 -0.00112159 ... -0.00032358 -0.00015263\n  0.        ], sr=22050 as keyword args. From version 0.10 passing these as positional arguments will result in an error\n  import sys\n/opt/conda/lib/python3.7/site-packages/ipykernel_launcher.py:7: FutureWarning: Pass y=[-2.9058169e-04 -1.5853460e-04  2.4545543e-05 ... -3.9978971e-04\n -3.8523768e-04  0.0000000e+00], sr=22050 as keyword args. From version 0.10 passing these as positional arguments will result in an error\n  import sys\n 59%|█████▉    | 828/1400 [00:22<00:15, 37.57it/s]/opt/conda/lib/python3.7/site-packages/ipykernel_launcher.py:7: FutureWarning: Pass y=[ 1.0007583e-04  7.2005634e-05 -4.0863146e-05 ...  1.1022065e-04\n  7.5992517e-05  0.0000000e+00], sr=22050 as keyword args. From version 0.10 passing these as positional arguments will result in an error\n  import sys\n/opt/conda/lib/python3.7/site-packages/ipykernel_launcher.py:7: FutureWarning: Pass y=[-4.6668170e-05 -1.6379114e-05  9.7142274e-06 ...  4.4641391e-05\n  2.6259806e-05  0.0000000e+00], sr=22050 as keyword args. From version 0.10 passing these as positional arguments will result in an error\n  import sys\n/opt/conda/lib/python3.7/site-packages/ipykernel_launcher.py:7: FutureWarning: Pass y=[-0.00016146  0.00351659  0.00708427 ... -0.00580378 -0.00679186\n  0.        ], sr=22050 as keyword args. From version 0.10 passing these as positional arguments will result in an error\n  import sys\n/opt/conda/lib/python3.7/site-packages/ipykernel_launcher.py:7: FutureWarning: Pass y=[-0.00018073 -0.00023949 -0.00028095 ... -0.00032974 -0.00020964\n  0.        ], sr=22050 as keyword args. From version 0.10 passing these as positional arguments will result in an error\n  import sys\n/opt/conda/lib/python3.7/site-packages/ipykernel_launcher.py:7: FutureWarning: Pass y=[-0.00603127 -0.00312236 -0.00134411 ... -0.00705749 -0.00677395\n  0.        ], sr=22050 as keyword args. From version 0.10 passing these as positional arguments will result in an error\n  import sys\n 60%|█████▉    | 833/1400 [00:22<00:14, 39.34it/s]/opt/conda/lib/python3.7/site-packages/ipykernel_launcher.py:7: FutureWarning: Pass y=[-0.00485818 -0.00076552  0.00265706 ...  0.0047433   0.00321645\n  0.        ], sr=22050 as keyword args. From version 0.10 passing these as positional arguments will result in an error\n  import sys\n/opt/conda/lib/python3.7/site-packages/ipykernel_launcher.py:7: FutureWarning: Pass y=[ 0.01236014  0.00193097 -0.0136515  ... -0.00750981 -0.00349052\n  0.        ], sr=22050 as keyword args. From version 0.10 passing these as positional arguments will result in an error\n  import sys\n/opt/conda/lib/python3.7/site-packages/ipykernel_launcher.py:7: FutureWarning: Pass y=[-8.1789494e-06  1.0969547e-04  2.3113411e-04 ... -1.9104232e-04\n -8.9900510e-05  0.0000000e+00], sr=22050 as keyword args. From version 0.10 passing these as positional arguments will result in an error\n  import sys\n/opt/conda/lib/python3.7/site-packages/ipykernel_launcher.py:7: FutureWarning: Pass y=[-0.00562985 -0.00864393 -0.00914986 ...  0.00448619  0.00441819\n  0.        ], sr=22050 as keyword args. From version 0.10 passing these as positional arguments will result in an error\n  import sys\n 60%|█████▉    | 837/1400 [00:22<00:14, 37.80it/s]/opt/conda/lib/python3.7/site-packages/ipykernel_launcher.py:7: FutureWarning: Pass y=[ 0.00754642  0.00072254 -0.00488625 ... -0.01031129 -0.00673319\n  0.        ], sr=22050 as keyword args. From version 0.10 passing these as positional arguments will result in an error\n  import sys\n/opt/conda/lib/python3.7/site-packages/ipykernel_launcher.py:7: FutureWarning: Pass y=[-0.00921183 -0.01052085 -0.0085482  ...  0.0007626   0.00170186\n  0.        ], sr=22050 as keyword args. From version 0.10 passing these as positional arguments will result in an error\n  import sys\n/opt/conda/lib/python3.7/site-packages/ipykernel_launcher.py:7: FutureWarning: Pass y=[-4.7269423e-04 -3.6624688e-04 -1.4138607e-04 ... -4.8904240e-05\n  5.5460067e-05  0.0000000e+00], sr=22050 as keyword args. From version 0.10 passing these as positional arguments will result in an error\n  import sys\n/opt/conda/lib/python3.7/site-packages/ipykernel_launcher.py:7: FutureWarning: Pass y=[-0.0081034  -0.00901189 -0.00827648 ... -0.00708249 -0.00731435\n  0.        ], sr=22050 as keyword args. From version 0.10 passing these as positional arguments will result in an error\n  import sys\n 60%|██████    | 841/1400 [00:22<00:14, 37.97it/s]/opt/conda/lib/python3.7/site-packages/ipykernel_launcher.py:7: FutureWarning: Pass y=[-1.4932693e-06  1.7757247e-04  3.0308057e-04 ...  1.3503702e-03\n  9.0643379e-04  0.0000000e+00], sr=22050 as keyword args. From version 0.10 passing these as positional arguments will result in an error\n  import sys\n/opt/conda/lib/python3.7/site-packages/ipykernel_launcher.py:7: FutureWarning: Pass y=[ 3.4301207e-04  2.4336331e-04  4.7770041e-05 ... -4.5438870e-04\n -3.3429905e-04  0.0000000e+00], sr=22050 as keyword args. From version 0.10 passing these as positional arguments will result in an error\n  import sys\n/opt/conda/lib/python3.7/site-packages/ipykernel_launcher.py:7: FutureWarning: Pass y=[-0.00952655 -0.00962948 -0.0074645  ...  0.00726628  0.0079791\n  0.        ], sr=22050 as keyword args. From version 0.10 passing these as positional arguments will result in an error\n  import sys\n/opt/conda/lib/python3.7/site-packages/ipykernel_launcher.py:7: FutureWarning: Pass y=[2.2919777e-04 2.6273550e-04 2.7896950e-04 ... 1.6472168e-04 6.2464831e-05\n 0.0000000e+00], sr=22050 as keyword args. From version 0.10 passing these as positional arguments will result in an error\n  import sys\n/opt/conda/lib/python3.7/site-packages/ipykernel_launcher.py:7: FutureWarning: Pass y=[ 0.00018403  0.00078008  0.00069535 ... -0.00795068 -0.00427976\n  0.        ], sr=22050 as keyword args. From version 0.10 passing these as positional arguments will result in an error\n  import sys\n 60%|██████    | 846/1400 [00:22<00:14, 39.40it/s]/opt/conda/lib/python3.7/site-packages/ipykernel_launcher.py:7: FutureWarning: Pass y=[-0.00882852 -0.0080293  -0.00323265 ... -0.00786286 -0.00741236\n  0.        ], sr=22050 as keyword args. From version 0.10 passing these as positional arguments will result in an error\n  import sys\n/opt/conda/lib/python3.7/site-packages/ipykernel_launcher.py:7: FutureWarning: Pass y=[0.00016351 0.00022107 0.00029811 ... 0.00048487 0.000177   0.        ], sr=22050 as keyword args. From version 0.10 passing these as positional arguments will result in an error\n  import sys\n/opt/conda/lib/python3.7/site-packages/ipykernel_launcher.py:7: FutureWarning: Pass y=[ 0.00105433  0.00067499  0.00022797 ... -0.00060897 -0.00041527\n  0.        ], sr=22050 as keyword args. From version 0.10 passing these as positional arguments will result in an error\n  import sys\n/opt/conda/lib/python3.7/site-packages/ipykernel_launcher.py:7: FutureWarning: Pass y=[-0.00080834 -0.00091986 -0.00085454 ... -0.00064584 -0.00038265\n  0.        ], sr=22050 as keyword args. From version 0.10 passing these as positional arguments will result in an error\n  import sys\n/opt/conda/lib/python3.7/site-packages/ipykernel_launcher.py:7: FutureWarning: Pass y=[-0.01770862 -0.01101173  0.00015604 ...  0.0082047   0.00470144\n  0.        ], sr=22050 as keyword args. From version 0.10 passing these as positional arguments will result in an error\n  import sys\n 61%|██████    | 851/1400 [00:22<00:13, 40.18it/s]/opt/conda/lib/python3.7/site-packages/ipykernel_launcher.py:7: FutureWarning: Pass y=[ 2.1669746e-04  2.7664375e-04  3.0794539e-04 ... -7.9667640e-05\n -5.1916977e-05  0.0000000e+00], sr=22050 as keyword args. From version 0.10 passing these as positional arguments will result in an error\n  import sys\n/opt/conda/lib/python3.7/site-packages/ipykernel_launcher.py:7: FutureWarning: Pass y=[-0.00647637 -0.00805325 -0.00913876 ... -0.0139492  -0.01175104\n  0.        ], sr=22050 as keyword args. From version 0.10 passing these as positional arguments will result in an error\n  import sys\n/opt/conda/lib/python3.7/site-packages/ipykernel_launcher.py:7: FutureWarning: Pass y=[-0.00110951 -0.00118123 -0.00093836 ...  0.00046278  0.0003291\n  0.        ], sr=22050 as keyword args. From version 0.10 passing these as positional arguments will result in an error\n  import sys\n/opt/conda/lib/python3.7/site-packages/ipykernel_launcher.py:7: FutureWarning: Pass y=[-5.8392292e-08  2.6674374e-04  3.6899469e-04 ... -1.9499721e-04\n -1.5854728e-04  0.0000000e+00], sr=22050 as keyword args. From version 0.10 passing these as positional arguments will result in an error\n  import sys\n/opt/conda/lib/python3.7/site-packages/ipykernel_launcher.py:7: FutureWarning: Pass y=[-0.051689   -0.04682749 -0.02751476 ... -0.01108691 -0.00669278\n  0.        ], sr=22050 as keyword args. From version 0.10 passing these as positional arguments will result in an error\n  import sys\n 61%|██████    | 856/1400 [00:22<00:13, 41.65it/s]/opt/conda/lib/python3.7/site-packages/ipykernel_launcher.py:7: FutureWarning: Pass y=[0.01056301 0.01277363 0.01336583 ... 0.01033057 0.007163   0.        ], sr=22050 as keyword args. From version 0.10 passing these as positional arguments will result in an error\n  import sys\n/opt/conda/lib/python3.7/site-packages/ipykernel_launcher.py:7: FutureWarning: Pass y=[2.41455753e-04 2.94861529e-04 2.86416500e-04 ... 1.18808915e-04\n 2.93591947e-05 0.00000000e+00], sr=22050 as keyword args. From version 0.10 passing these as positional arguments will result in an error\n  import sys\n/opt/conda/lib/python3.7/site-packages/ipykernel_launcher.py:7: FutureWarning: Pass y=[0.00964437 0.01165256 0.01214565 ... 0.00976643 0.00690275 0.        ], sr=22050 as keyword args. From version 0.10 passing these as positional arguments will result in an error\n  import sys\n/opt/conda/lib/python3.7/site-packages/ipykernel_launcher.py:7: FutureWarning: Pass y=[ 0.00076898  0.00066979  0.00023489 ...  0.000173   -0.00023724\n  0.        ], sr=22050 as keyword args. From version 0.10 passing these as positional arguments will result in an error\n  import sys\n/opt/conda/lib/python3.7/site-packages/ipykernel_launcher.py:7: FutureWarning: Pass y=[ 0.00831055  0.00839424  0.00740171 ... -0.00993543 -0.00745505\n  0.        ], sr=22050 as keyword args. From version 0.10 passing these as positional arguments will result in an error\n  import sys\n 62%|██████▏   | 861/1400 [00:22<00:13, 39.37it/s]/opt/conda/lib/python3.7/site-packages/ipykernel_launcher.py:7: FutureWarning: Pass y=[-0.00043927 -0.00048965 -0.00038252 ...  0.00039622  0.00033176\n  0.        ], sr=22050 as keyword args. From version 0.10 passing these as positional arguments will result in an error\n  import sys\n/opt/conda/lib/python3.7/site-packages/ipykernel_launcher.py:7: FutureWarning: Pass y=[-3.9352149e-06  7.0005219e-05  1.3812839e-04 ... -3.2631749e-05\n -1.2332057e-05  0.0000000e+00], sr=22050 as keyword args. From version 0.10 passing these as positional arguments will result in an error\n  import sys\n/opt/conda/lib/python3.7/site-packages/ipykernel_launcher.py:7: FutureWarning: Pass y=[-0.00591211  0.00180555  0.00709033 ... -0.00829371 -0.00349778\n  0.        ], sr=22050 as keyword args. From version 0.10 passing these as positional arguments will result in an error\n  import sys\n/opt/conda/lib/python3.7/site-packages/ipykernel_launcher.py:7: FutureWarning: Pass y=[-1.8599145e-04 -1.8582214e-04 -1.0961361e-04 ...  5.3212643e-05\n  1.6672756e-04  0.0000000e+00], sr=22050 as keyword args. From version 0.10 passing these as positional arguments will result in an error\n  import sys\n/opt/conda/lib/python3.7/site-packages/ipykernel_launcher.py:7: FutureWarning: Pass y=[-0.00070566 -0.00064997 -0.00013889 ... -0.0003035  -0.00017501\n  0.        ], sr=22050 as keyword args. From version 0.10 passing these as positional arguments will result in an error\n  import sys\n 62%|██████▏   | 866/1400 [00:23<00:12, 42.02it/s]/opt/conda/lib/python3.7/site-packages/ipykernel_launcher.py:7: FutureWarning: Pass y=[-0.01031293 -0.01048654 -0.00372482 ...  0.00431512  0.00358194\n  0.        ], sr=22050 as keyword args. From version 0.10 passing these as positional arguments will result in an error\n  import sys\n/opt/conda/lib/python3.7/site-packages/ipykernel_launcher.py:7: FutureWarning: Pass y=[ 0.00904428  0.00351358 -0.00406407 ... -0.0108236  -0.00703816\n  0.        ], sr=22050 as keyword args. From version 0.10 passing these as positional arguments will result in an error\n  import sys\n/opt/conda/lib/python3.7/site-packages/ipykernel_launcher.py:7: FutureWarning: Pass y=[0.00022272 0.0002022  0.00016688 ... 0.00054204 0.00043487 0.        ], sr=22050 as keyword args. From version 0.10 passing these as positional arguments will result in an error\n  import sys\n/opt/conda/lib/python3.7/site-packages/ipykernel_launcher.py:7: FutureWarning: Pass y=[ 0.00935849  0.01181553  0.01272349 ... -0.0094539  -0.00531716\n  0.        ], sr=22050 as keyword args. From version 0.10 passing these as positional arguments will result in an error\n  import sys\n/opt/conda/lib/python3.7/site-packages/ipykernel_launcher.py:7: FutureWarning: Pass y=[-1.4086260e-04 -3.1780562e-04 -4.8064359e-04 ...  1.3862563e-04\n  6.7190696e-05  0.0000000e+00], sr=22050 as keyword args. From version 0.10 passing these as positional arguments will result in an error\n  import sys\n 62%|██████▏   | 871/1400 [00:23<00:12, 41.39it/s]/opt/conda/lib/python3.7/site-packages/ipykernel_launcher.py:7: FutureWarning: Pass y=[0.00997567 0.01181911 0.01202372 ... 0.00725109 0.00368201 0.        ], sr=22050 as keyword args. From version 0.10 passing these as positional arguments will result in an error\n  import sys\n/opt/conda/lib/python3.7/site-packages/ipykernel_launcher.py:7: FutureWarning: Pass y=[-0.00122627 -0.00114776  0.00023212 ... -0.00802275 -0.00602999\n  0.        ], sr=22050 as keyword args. From version 0.10 passing these as positional arguments will result in an error\n  import sys\n/opt/conda/lib/python3.7/site-packages/ipykernel_launcher.py:7: FutureWarning: Pass y=[-7.8603422e-05 -7.7440374e-05 -7.6993849e-05 ...  2.4688139e-04\n  1.3982090e-04  0.0000000e+00], sr=22050 as keyword args. From version 0.10 passing these as positional arguments will result in an error\n  import sys\n/opt/conda/lib/python3.7/site-packages/ipykernel_launcher.py:7: FutureWarning: Pass y=[-0.02617685 -0.01967332 -0.00748248 ... -0.00942472 -0.00652599\n  0.        ], sr=22050 as keyword args. From version 0.10 passing these as positional arguments will result in an error\n  import sys\n/opt/conda/lib/python3.7/site-packages/ipykernel_launcher.py:7: FutureWarning: Pass y=[-0.00054022 -0.00079792 -0.001004   ...  0.00041299  0.00029848\n  0.        ], sr=22050 as keyword args. From version 0.10 passing these as positional arguments will result in an error\n  import sys\n 63%|██████▎   | 876/1400 [00:23<00:12, 41.72it/s]/opt/conda/lib/python3.7/site-packages/ipykernel_launcher.py:7: FutureWarning: Pass y=[0.00062461 0.00069415 0.0006535  ... 0.00042031 0.00030609 0.        ], sr=22050 as keyword args. From version 0.10 passing these as positional arguments will result in an error\n  import sys\n/opt/conda/lib/python3.7/site-packages/ipykernel_launcher.py:7: FutureWarning: Pass y=[1.1429640e-04 1.4521231e-04 1.6341105e-04 ... 1.7793919e-04 5.2963831e-05\n 0.0000000e+00], sr=22050 as keyword args. From version 0.10 passing these as positional arguments will result in an error\n  import sys\n/opt/conda/lib/python3.7/site-packages/ipykernel_launcher.py:7: FutureWarning: Pass y=[ 1.6667171e-04  1.4596383e-04  8.0813552e-05 ... -5.8031391e-04\n -4.0060710e-04  0.0000000e+00], sr=22050 as keyword args. From version 0.10 passing these as positional arguments will result in an error\n  import sys\n/opt/conda/lib/python3.7/site-packages/ipykernel_launcher.py:7: FutureWarning: Pass y=[-0.00100172 -0.00412795 -0.00622651 ...  0.00023606  0.00256237\n  0.        ], sr=22050 as keyword args. From version 0.10 passing these as positional arguments will result in an error\n  import sys\n/opt/conda/lib/python3.7/site-packages/ipykernel_launcher.py:7: FutureWarning: Pass y=[ 0.00058206  0.00047836 -0.00017343 ... -0.00052166 -0.00117626\n  0.        ], sr=22050 as keyword args. From version 0.10 passing these as positional arguments will result in an error\n  import sys\n 63%|██████▎   | 881/1400 [00:23<00:12, 41.72it/s]/opt/conda/lib/python3.7/site-packages/ipykernel_launcher.py:7: FutureWarning: Pass y=[-0.00158579 -0.00836771 -0.01319352 ... -0.00533008 -0.00029097\n  0.        ], sr=22050 as keyword args. From version 0.10 passing these as positional arguments will result in an error\n  import sys\n/opt/conda/lib/python3.7/site-packages/ipykernel_launcher.py:7: FutureWarning: Pass y=[-9.0505714e-03 -1.5350391e-02 -1.7032355e-02 ... -9.9049603e-06\n -2.4043762e-03  0.0000000e+00], sr=22050 as keyword args. From version 0.10 passing these as positional arguments will result in an error\n  import sys\n/opt/conda/lib/python3.7/site-packages/ipykernel_launcher.py:7: FutureWarning: Pass y=[ 1.5877026e-04  5.0115010e-05 -1.5900457e-06 ... -3.2159820e-04\n -2.7658520e-04  0.0000000e+00], sr=22050 as keyword args. From version 0.10 passing these as positional arguments will result in an error\n  import sys\n/opt/conda/lib/python3.7/site-packages/ipykernel_launcher.py:7: FutureWarning: Pass y=[-3.3278593e-05  4.6577647e-05  1.3008139e-04 ... -4.7828504e-04\n -3.0220923e-04  0.0000000e+00], sr=22050 as keyword args. From version 0.10 passing these as positional arguments will result in an error\n  import sys\n/opt/conda/lib/python3.7/site-packages/ipykernel_launcher.py:7: FutureWarning: Pass y=[ 0.00051424 -0.00536185 -0.01256147 ... -0.01470317 -0.01130282\n  0.        ], sr=22050 as keyword args. From version 0.10 passing these as positional arguments will result in an error\n  import sys\n 63%|██████▎   | 886/1400 [00:23<00:12, 42.36it/s]/opt/conda/lib/python3.7/site-packages/ipykernel_launcher.py:7: FutureWarning: Pass y=[-0.00639845 -0.0081202  -0.00929005 ... -0.00720335 -0.00436913\n  0.        ], sr=22050 as keyword args. From version 0.10 passing these as positional arguments will result in an error\n  import sys\n/opt/conda/lib/python3.7/site-packages/ipykernel_launcher.py:7: FutureWarning: Pass y=[-3.52280040e-05  1.50502565e-05  1.09830551e-04 ... -4.54094145e-04\n -3.25515080e-04  0.00000000e+00], sr=22050 as keyword args. From version 0.10 passing these as positional arguments will result in an error\n  import sys\n/opt/conda/lib/python3.7/site-packages/ipykernel_launcher.py:7: FutureWarning: Pass y=[-0.00048446 -0.00046289 -0.00016228 ...  0.00091897  0.00045219\n  0.        ], sr=22050 as keyword args. From version 0.10 passing these as positional arguments will result in an error\n  import sys\n/opt/conda/lib/python3.7/site-packages/ipykernel_launcher.py:7: FutureWarning: Pass y=[-0.00021116 -0.0003122  -0.00040625 ...  0.00204899  0.00125397\n  0.        ], sr=22050 as keyword args. From version 0.10 passing these as positional arguments will result in an error\n  import sys\n/opt/conda/lib/python3.7/site-packages/ipykernel_launcher.py:7: FutureWarning: Pass y=[0.01064541 0.01339954 0.01459161 ... 0.00743799 0.003777   0.        ], sr=22050 as keyword args. From version 0.10 passing these as positional arguments will result in an error\n  import sys\n 64%|██████▎   | 891/1400 [00:23<00:12, 41.33it/s]/opt/conda/lib/python3.7/site-packages/ipykernel_launcher.py:7: FutureWarning: Pass y=[ 0.00910826  0.01129217  0.01221025 ... -0.00900931 -0.00498067\n  0.        ], sr=22050 as keyword args. From version 0.10 passing these as positional arguments will result in an error\n  import sys\n/opt/conda/lib/python3.7/site-packages/ipykernel_launcher.py:7: FutureWarning: Pass y=[ 0.0008105   0.00100807  0.00048182 ... -0.00077458 -0.00042083\n  0.        ], sr=22050 as keyword args. From version 0.10 passing these as positional arguments will result in an error\n  import sys\n/opt/conda/lib/python3.7/site-packages/ipykernel_launcher.py:7: FutureWarning: Pass y=[-0.00747992 -0.00717873 -0.00389309 ... -0.00036374  0.0018583\n  0.        ], sr=22050 as keyword args. From version 0.10 passing these as positional arguments will result in an error\n  import sys\n/opt/conda/lib/python3.7/site-packages/ipykernel_launcher.py:7: FutureWarning: Pass y=[ 0.00959252  0.01167958  0.01231432 ... -0.01001436 -0.00691992\n  0.        ], sr=22050 as keyword args. From version 0.10 passing these as positional arguments will result in an error\n  import sys\n/opt/conda/lib/python3.7/site-packages/ipykernel_launcher.py:7: FutureWarning: Pass y=[-0.01621493 -0.01362791 -0.00376843 ...  0.00789222  0.00443108\n  0.        ], sr=22050 as keyword args. From version 0.10 passing these as positional arguments will result in an error\n  import sys\n 64%|██████▍   | 896/1400 [00:23<00:13, 38.75it/s]/opt/conda/lib/python3.7/site-packages/ipykernel_launcher.py:7: FutureWarning: Pass y=[-1.9292129e-04 -7.4238735e-05  1.2926527e-04 ... -3.2473909e-04\n -2.6042934e-04  0.0000000e+00], sr=22050 as keyword args. From version 0.10 passing these as positional arguments will result in an error\n  import sys\n/opt/conda/lib/python3.7/site-packages/ipykernel_launcher.py:7: FutureWarning: Pass y=[ 1.9559485e-04  1.2252637e-04  2.5735566e-05 ... -6.8447639e-06\n  3.7988607e-04  0.0000000e+00], sr=22050 as keyword args. From version 0.10 passing these as positional arguments will result in an error\n  import sys\n/opt/conda/lib/python3.7/site-packages/ipykernel_launcher.py:7: FutureWarning: Pass y=[ 0.01559664  0.01835741  0.01755257 ... -0.00068581  0.00235094\n  0.        ], sr=22050 as keyword args. From version 0.10 passing these as positional arguments will result in an error\n  import sys\n/opt/conda/lib/python3.7/site-packages/ipykernel_launcher.py:7: FutureWarning: Pass y=[0.004839   0.0032622  0.00072164 ... 0.0041231  0.00198022 0.        ], sr=22050 as keyword args. From version 0.10 passing these as positional arguments will result in an error\n  import sys\n 64%|██████▍   | 900/1400 [00:23<00:13, 38.16it/s]/opt/conda/lib/python3.7/site-packages/ipykernel_launcher.py:7: FutureWarning: Pass y=[-0.00188179 -0.00564097 -0.00689942 ... -0.00406871 -0.00055558\n  0.        ], sr=22050 as keyword args. From version 0.10 passing these as positional arguments will result in an error\n  import sys\n/opt/conda/lib/python3.7/site-packages/ipykernel_launcher.py:7: FutureWarning: Pass y=[-0.00978428 -0.01188944 -0.01250907 ... -0.01120125 -0.008301\n -0.0040177 ], sr=22050 as keyword args. From version 0.10 passing these as positional arguments will result in an error\n  import sys\n/opt/conda/lib/python3.7/site-packages/ipykernel_launcher.py:7: FutureWarning: Pass y=[ 0.00023     0.00024453  0.00020231 ... -0.00042307 -0.00034769\n  0.        ], sr=22050 as keyword args. From version 0.10 passing these as positional arguments will result in an error\n  import sys\n/opt/conda/lib/python3.7/site-packages/ipykernel_launcher.py:7: FutureWarning: Pass y=[-0.00040303 -0.00400321 -0.00690787 ... -0.00682817 -0.00161607\n  0.        ], sr=22050 as keyword args. From version 0.10 passing these as positional arguments will result in an error\n  import sys\n/opt/conda/lib/python3.7/site-packages/ipykernel_launcher.py:7: FutureWarning: Pass y=[-0.0156987  -0.02101434 -0.02323368 ... -0.01371762 -0.00997941\n  0.        ], sr=22050 as keyword args. From version 0.10 passing these as positional arguments will result in an error\n  import sys\n 65%|██████▍   | 905/1400 [00:23<00:12, 39.15it/s]/opt/conda/lib/python3.7/site-packages/ipykernel_launcher.py:7: FutureWarning: Pass y=[ 0.00476705  0.0009869  -0.00271287 ... -0.00476759 -0.0055988\n  0.        ], sr=22050 as keyword args. From version 0.10 passing these as positional arguments will result in an error\n  import sys\n/opt/conda/lib/python3.7/site-packages/ipykernel_launcher.py:7: FutureWarning: Pass y=[-0.00807343 -0.01018994 -0.00962473 ... -0.00645799 -0.00475394\n  0.        ], sr=22050 as keyword args. From version 0.10 passing these as positional arguments will result in an error\n  import sys\n/opt/conda/lib/python3.7/site-packages/ipykernel_launcher.py:7: FutureWarning: Pass y=[0.00055161 0.00037882 0.00012904 ... 0.00016013 0.00015289 0.        ], sr=22050 as keyword args. From version 0.10 passing these as positional arguments will result in an error\n  import sys\n/opt/conda/lib/python3.7/site-packages/ipykernel_launcher.py:7: FutureWarning: Pass y=[ 0.00103281  0.00362639  0.0058482  ... -0.01272526 -0.00923218\n  0.        ], sr=22050 as keyword args. From version 0.10 passing these as positional arguments will result in an error\n  import sys\n 65%|██████▍   | 909/1400 [00:24<00:12, 39.10it/s]/opt/conda/lib/python3.7/site-packages/ipykernel_launcher.py:7: FutureWarning: Pass y=[-0.00108692 -0.00198371 -0.00075918 ... -0.00039628  0.00265077\n  0.        ], sr=22050 as keyword args. From version 0.10 passing these as positional arguments will result in an error\n  import sys\n/opt/conda/lib/python3.7/site-packages/ipykernel_launcher.py:7: FutureWarning: Pass y=[-0.00884291 -0.01141731 -0.00997866 ...  0.00026337  0.00293497\n  0.        ], sr=22050 as keyword args. From version 0.10 passing these as positional arguments will result in an error\n  import sys\n/opt/conda/lib/python3.7/site-packages/ipykernel_launcher.py:7: FutureWarning: Pass y=[ 0.00104673  0.00206416  0.00102933 ... -0.0067547  -0.00637314\n  0.        ], sr=22050 as keyword args. From version 0.10 passing these as positional arguments will result in an error\n  import sys\n/opt/conda/lib/python3.7/site-packages/ipykernel_launcher.py:7: FutureWarning: Pass y=[-0.00026847 -0.00635539 -0.01266899 ...  0.00144     0.00023901\n  0.        ], sr=22050 as keyword args. From version 0.10 passing these as positional arguments will result in an error\n  import sys\n/opt/conda/lib/python3.7/site-packages/ipykernel_launcher.py:7: FutureWarning: Pass y=[0.00084789 0.00078203 0.00053319 ... 0.00012971 0.00012302 0.        ], sr=22050 as keyword args. From version 0.10 passing these as positional arguments will result in an error\n  import sys\n 65%|██████▌   | 914/1400 [00:24<00:11, 41.28it/s]/opt/conda/lib/python3.7/site-packages/ipykernel_launcher.py:7: FutureWarning: Pass y=[ 0.01077276 -0.01585177 -0.04145843 ...  0.00842619  0.0049068\n  0.        ], sr=22050 as keyword args. From version 0.10 passing these as positional arguments will result in an error\n  import sys\n/opt/conda/lib/python3.7/site-packages/ipykernel_launcher.py:7: FutureWarning: Pass y=[-0.00067464 -0.00043552 -0.00012162 ...  0.00152597  0.00101716\n  0.        ], sr=22050 as keyword args. From version 0.10 passing these as positional arguments will result in an error\n  import sys\n/opt/conda/lib/python3.7/site-packages/ipykernel_launcher.py:7: FutureWarning: Pass y=[0.00964655 0.01146935 0.01179865 ... 0.00913298 0.0058332  0.        ], sr=22050 as keyword args. From version 0.10 passing these as positional arguments will result in an error\n  import sys\n/opt/conda/lib/python3.7/site-packages/ipykernel_launcher.py:7: FutureWarning: Pass y=[ 0.00012396  0.00016875  0.00016629 ... -0.00030258 -0.0001772\n  0.        ], sr=22050 as keyword args. From version 0.10 passing these as positional arguments will result in an error\n  import sys\n/opt/conda/lib/python3.7/site-packages/ipykernel_launcher.py:7: FutureWarning: Pass y=[-0.00185538 -0.00161587 -0.00051955 ... -0.00066427 -0.00105444\n  0.        ], sr=22050 as keyword args. From version 0.10 passing these as positional arguments will result in an error\n  import sys\n 66%|██████▌   | 919/1400 [00:24<00:11, 41.32it/s]/opt/conda/lib/python3.7/site-packages/ipykernel_launcher.py:7: FutureWarning: Pass y=[ 0.00860523  0.0144876   0.01678206 ... -0.00665416 -0.0037808\n  0.        ], sr=22050 as keyword args. From version 0.10 passing these as positional arguments will result in an error\n  import sys\n/opt/conda/lib/python3.7/site-packages/ipykernel_launcher.py:7: FutureWarning: Pass y=[ 0.00022206  0.0002535   0.0002318  ... -0.00163465 -0.00077485\n  0.        ], sr=22050 as keyword args. From version 0.10 passing these as positional arguments will result in an error\n  import sys\n/opt/conda/lib/python3.7/site-packages/ipykernel_launcher.py:7: FutureWarning: Pass y=[-0.00848571 -0.01281564 -0.01501458 ...  0.00078058  0.00075762\n  0.        ], sr=22050 as keyword args. From version 0.10 passing these as positional arguments will result in an error\n  import sys\n/opt/conda/lib/python3.7/site-packages/ipykernel_launcher.py:7: FutureWarning: Pass y=[-0.00021068 -0.00031496 -0.00033759 ...  0.00018187  0.00013899\n  0.        ], sr=22050 as keyword args. From version 0.10 passing these as positional arguments will result in an error\n  import sys\n/opt/conda/lib/python3.7/site-packages/ipykernel_launcher.py:7: FutureWarning: Pass y=[-7.0500784e-05 -7.1575319e-05 -4.5017241e-05 ...  3.9650555e-04\n  2.1840478e-04  0.0000000e+00], sr=22050 as keyword args. From version 0.10 passing these as positional arguments will result in an error\n  import sys\n 66%|██████▌   | 924/1400 [00:24<00:13, 35.43it/s]/opt/conda/lib/python3.7/site-packages/ipykernel_launcher.py:7: FutureWarning: Pass y=[-0.01122631 -0.01063774 -0.00667791 ...  0.00863982  0.00488716\n  0.        ], sr=22050 as keyword args. From version 0.10 passing these as positional arguments will result in an error\n  import sys\n/opt/conda/lib/python3.7/site-packages/ipykernel_launcher.py:7: FutureWarning: Pass y=[ 0.00483641  0.00254656 -0.00064768 ...  0.00363609  0.00173413\n  0.        ], sr=22050 as keyword args. From version 0.10 passing these as positional arguments will result in an error\n  import sys\n/opt/conda/lib/python3.7/site-packages/ipykernel_launcher.py:7: FutureWarning: Pass y=[-0.01801915 -0.02304271 -0.02595442 ...  0.01273342  0.00925512\n  0.        ], sr=22050 as keyword args. From version 0.10 passing these as positional arguments will result in an error\n  import sys\n/opt/conda/lib/python3.7/site-packages/ipykernel_launcher.py:7: FutureWarning: Pass y=[0.00037321 0.00026146 0.00011157 ... 0.00025007 0.00016827 0.        ], sr=22050 as keyword args. From version 0.10 passing these as positional arguments will result in an error\n  import sys\n 66%|██████▋   | 928/1400 [00:24<00:13, 35.49it/s]/opt/conda/lib/python3.7/site-packages/ipykernel_launcher.py:7: FutureWarning: Pass y=[-0.00950592 -0.01211333 -0.00991354 ... -0.01679935 -0.01178676\n  0.        ], sr=22050 as keyword args. From version 0.10 passing these as positional arguments will result in an error\n  import sys\n/opt/conda/lib/python3.7/site-packages/ipykernel_launcher.py:7: FutureWarning: Pass y=[-0.00110506 -0.00059647  0.00029712 ... -0.0015186  -0.00097412\n  0.        ], sr=22050 as keyword args. From version 0.10 passing these as positional arguments will result in an error\n  import sys\n/opt/conda/lib/python3.7/site-packages/ipykernel_launcher.py:7: FutureWarning: Pass y=[ 3.9982529e-05 -7.3811191e-04 -1.4872557e-03 ...  5.4382643e-04\n  3.3492391e-04  0.0000000e+00], sr=22050 as keyword args. From version 0.10 passing these as positional arguments will result in an error\n  import sys\n/opt/conda/lib/python3.7/site-packages/ipykernel_launcher.py:7: FutureWarning: Pass y=[-1.5746600e-04 -2.1189255e-04 -2.5776384e-04 ...  9.9560901e-05\n  5.1624607e-05  0.0000000e+00], sr=22050 as keyword args. From version 0.10 passing these as positional arguments will result in an error\n  import sys\n/opt/conda/lib/python3.7/site-packages/ipykernel_launcher.py:7: FutureWarning: Pass y=[ 1.8011512e-04  1.3778498e-04  4.1579457e-05 ...  2.8571828e-06\n -1.5076749e-05  0.0000000e+00], sr=22050 as keyword args. From version 0.10 passing these as positional arguments will result in an error\n  import sys\n 67%|██████▋   | 933/1400 [00:24<00:12, 37.27it/s]/opt/conda/lib/python3.7/site-packages/ipykernel_launcher.py:7: FutureWarning: Pass y=[-0.02255017 -0.02638807 -0.02614087 ... -0.02330716 -0.018442\n  0.        ], sr=22050 as keyword args. From version 0.10 passing these as positional arguments will result in an error\n  import sys\n/opt/conda/lib/python3.7/site-packages/ipykernel_launcher.py:7: FutureWarning: Pass y=[-0.0078092  -0.00474161 -0.00078228 ... -0.00108724  0.00195857\n  0.        ], sr=22050 as keyword args. From version 0.10 passing these as positional arguments will result in an error\n  import sys\n/opt/conda/lib/python3.7/site-packages/ipykernel_launcher.py:7: FutureWarning: Pass y=[-0.00140339 -0.00181204 -0.00024156 ... -0.01561162 -0.01177551\n  0.        ], sr=22050 as keyword args. From version 0.10 passing these as positional arguments will result in an error\n  import sys\n/opt/conda/lib/python3.7/site-packages/ipykernel_launcher.py:7: FutureWarning: Pass y=[-0.01521314 -0.01453249 -0.00853608 ... -0.0093229  -0.00595665\n  0.        ], sr=22050 as keyword args. From version 0.10 passing these as positional arguments will result in an error\n  import sys\n/opt/conda/lib/python3.7/site-packages/ipykernel_launcher.py:7: FutureWarning: Pass y=[2.6810798e-04 1.3837917e-04 3.2815198e-05 ... 1.0730487e-03 6.8056141e-04\n 0.0000000e+00], sr=22050 as keyword args. From version 0.10 passing these as positional arguments will result in an error\n  import sys\n 67%|██████▋   | 938/1400 [00:24<00:11, 38.76it/s]/opt/conda/lib/python3.7/site-packages/ipykernel_launcher.py:7: FutureWarning: Pass y=[-0.01232344 -0.00898632 -0.00264321 ...  0.00949153  0.00612999\n  0.        ], sr=22050 as keyword args. From version 0.10 passing these as positional arguments will result in an error\n  import sys\n/opt/conda/lib/python3.7/site-packages/ipykernel_launcher.py:7: FutureWarning: Pass y=[-0.01521944 -0.02024129 -0.02298889 ... -0.01555428 -0.00978931\n  0.        ], sr=22050 as keyword args. From version 0.10 passing these as positional arguments will result in an error\n  import sys\n/opt/conda/lib/python3.7/site-packages/ipykernel_launcher.py:7: FutureWarning: Pass y=[ 0.0100718   0.0118264   0.01192499 ... -0.00854549 -0.00531407\n  0.        ], sr=22050 as keyword args. From version 0.10 passing these as positional arguments will result in an error\n  import sys\n/opt/conda/lib/python3.7/site-packages/ipykernel_launcher.py:7: FutureWarning: Pass y=[-6.5934539e-05 -5.2746916e-05 -1.7588934e-05 ... -1.5515424e-04\n -2.0635022e-04  0.0000000e+00], sr=22050 as keyword args. From version 0.10 passing these as positional arguments will result in an error\n  import sys\n 67%|██████▋   | 942/1400 [00:24<00:11, 38.52it/s]/opt/conda/lib/python3.7/site-packages/ipykernel_launcher.py:7: FutureWarning: Pass y=[ 1.7576828e-04  2.0211362e-04  1.2453708e-04 ... -2.8710105e-05\n -6.2526553e-05  0.0000000e+00], sr=22050 as keyword args. From version 0.10 passing these as positional arguments will result in an error\n  import sys\n/opt/conda/lib/python3.7/site-packages/ipykernel_launcher.py:7: FutureWarning: Pass y=[-0.00848664 -0.01081263 -0.00977841 ... -0.00556075 -0.00674463\n  0.        ], sr=22050 as keyword args. From version 0.10 passing these as positional arguments will result in an error\n  import sys\n/opt/conda/lib/python3.7/site-packages/ipykernel_launcher.py:7: FutureWarning: Pass y=[ 0.00027779  0.00030618  0.00015899 ... -0.00027354 -0.00015352\n  0.        ], sr=22050 as keyword args. From version 0.10 passing these as positional arguments will result in an error\n  import sys\n/opt/conda/lib/python3.7/site-packages/ipykernel_launcher.py:7: FutureWarning: Pass y=[-0.00115612 -0.00134254 -0.00135075 ...  0.0005014   0.00021847\n  0.        ], sr=22050 as keyword args. From version 0.10 passing these as positional arguments will result in an error\n  import sys\n/opt/conda/lib/python3.7/site-packages/ipykernel_launcher.py:7: FutureWarning: Pass y=[ 6.3725362e-05  2.2618010e-04  4.1126352e-04 ... -1.1950413e-03\n -7.7261258e-04  0.0000000e+00], sr=22050 as keyword args. From version 0.10 passing these as positional arguments will result in an error\n  import sys\n 68%|██████▊   | 947/1400 [00:25<00:11, 40.70it/s]/opt/conda/lib/python3.7/site-packages/ipykernel_launcher.py:7: FutureWarning: Pass y=[-0.00811215 -0.00833801 -0.0075843  ... -0.01463015 -0.00942557\n  0.        ], sr=22050 as keyword args. From version 0.10 passing these as positional arguments will result in an error\n  import sys\n/opt/conda/lib/python3.7/site-packages/ipykernel_launcher.py:7: FutureWarning: Pass y=[-0.00925827 -0.01136324 -0.01199275 ...  0.00812729  0.00459157\n  0.        ], sr=22050 as keyword args. From version 0.10 passing these as positional arguments will result in an error\n  import sys\n/opt/conda/lib/python3.7/site-packages/ipykernel_launcher.py:7: FutureWarning: Pass y=[-0.01639582 -0.02016051 -0.01859399 ... -0.00786318 -0.00346739\n  0.        ], sr=22050 as keyword args. From version 0.10 passing these as positional arguments will result in an error\n  import sys\n/opt/conda/lib/python3.7/site-packages/ipykernel_launcher.py:7: FutureWarning: Pass y=[0.0009812  0.00118876 0.00049911 ... 0.00063771 0.00044587 0.        ], sr=22050 as keyword args. From version 0.10 passing these as positional arguments will result in an error\n  import sys\n/opt/conda/lib/python3.7/site-packages/ipykernel_launcher.py:7: FutureWarning: Pass y=[ 0.00017569  0.00018276  0.00016929 ... -0.0002432  -0.00015422\n  0.        ], sr=22050 as keyword args. From version 0.10 passing these as positional arguments will result in an error\n  import sys\n 68%|██████▊   | 952/1400 [00:25<00:11, 40.58it/s]/opt/conda/lib/python3.7/site-packages/ipykernel_launcher.py:7: FutureWarning: Pass y=[ 5.8388454e-05 -3.0546938e-03 -6.3454951e-03 ... -1.0160070e-02\n -4.2521548e-03  0.0000000e+00], sr=22050 as keyword args. From version 0.10 passing these as positional arguments will result in an error\n  import sys\n/opt/conda/lib/python3.7/site-packages/ipykernel_launcher.py:7: FutureWarning: Pass y=[-0.00754565 -0.00846518 -0.00836036 ... -0.00596737 -0.00664571\n  0.        ], sr=22050 as keyword args. From version 0.10 passing these as positional arguments will result in an error\n  import sys\n/opt/conda/lib/python3.7/site-packages/ipykernel_launcher.py:7: FutureWarning: Pass y=[-2.1542439e-05  2.9588320e-05  4.2427382e-05 ... -1.7208487e-04\n -1.3463758e-04  0.0000000e+00], sr=22050 as keyword args. From version 0.10 passing these as positional arguments will result in an error\n  import sys\n/opt/conda/lib/python3.7/site-packages/ipykernel_launcher.py:7: FutureWarning: Pass y=[-0.00564439 -0.00293108  0.0011116  ...  0.00405963  0.00217466\n  0.        ], sr=22050 as keyword args. From version 0.10 passing these as positional arguments will result in an error\n  import sys\n/opt/conda/lib/python3.7/site-packages/ipykernel_launcher.py:7: FutureWarning: Pass y=[-0.01438874 -0.01530768 -0.01571713 ... -0.02309071 -0.01881843\n  0.        ], sr=22050 as keyword args. From version 0.10 passing these as positional arguments will result in an error\n  import sys\n 68%|██████▊   | 957/1400 [00:25<00:11, 40.13it/s]/opt/conda/lib/python3.7/site-packages/ipykernel_launcher.py:7: FutureWarning: Pass y=[-8.8022913e-05 -8.5710708e-05 -1.0319236e-04 ... -3.9377736e-04\n -2.1561497e-04  0.0000000e+00], sr=22050 as keyword args. From version 0.10 passing these as positional arguments will result in an error\n  import sys\n/opt/conda/lib/python3.7/site-packages/ipykernel_launcher.py:7: FutureWarning: Pass y=[-0.00949086 -0.01142773 -0.01185304 ... -0.01337922 -0.00863362\n  0.        ], sr=22050 as keyword args. From version 0.10 passing these as positional arguments will result in an error\n  import sys\n/opt/conda/lib/python3.7/site-packages/ipykernel_launcher.py:7: FutureWarning: Pass y=[-0.00860797 -0.01020272 -0.00890193 ...  0.00130917  0.00192706\n  0.        ], sr=22050 as keyword args. From version 0.10 passing these as positional arguments will result in an error\n  import sys\n/opt/conda/lib/python3.7/site-packages/ipykernel_launcher.py:7: FutureWarning: Pass y=[-0.0093495  -0.01071813 -0.01032097 ... -0.00825276 -0.00469021\n  0.        ], sr=22050 as keyword args. From version 0.10 passing these as positional arguments will result in an error\n  import sys\n/opt/conda/lib/python3.7/site-packages/ipykernel_launcher.py:7: FutureWarning: Pass y=[ 0.00951809  0.01136493  0.01154909 ... -0.0085827  -0.00535752\n  0.        ], sr=22050 as keyword args. From version 0.10 passing these as positional arguments will result in an error\n  import sys\n 69%|██████▊   | 962/1400 [00:25<00:11, 39.47it/s]/opt/conda/lib/python3.7/site-packages/ipykernel_launcher.py:7: FutureWarning: Pass y=[-0.032297   -0.00277099  0.02863692 ...  0.00819463  0.00452361\n  0.        ], sr=22050 as keyword args. From version 0.10 passing these as positional arguments will result in an error\n  import sys\n/opt/conda/lib/python3.7/site-packages/ipykernel_launcher.py:7: FutureWarning: Pass y=[-0.00616112 -0.00386632  0.00058242 ...  0.00478673  0.00413835\n  0.        ], sr=22050 as keyword args. From version 0.10 passing these as positional arguments will result in an error\n  import sys\n/opt/conda/lib/python3.7/site-packages/ipykernel_launcher.py:7: FutureWarning: Pass y=[ 9.23672851e-05 -4.66632227e-05 -1.14527094e-04 ...  3.90280940e-04\n  2.12846164e-04  0.00000000e+00], sr=22050 as keyword args. From version 0.10 passing these as positional arguments will result in an error\n  import sys\n/opt/conda/lib/python3.7/site-packages/ipykernel_launcher.py:7: FutureWarning: Pass y=[ 1.5782520e-04  1.6368195e-04  1.6087637e-04 ... -5.7159035e-05\n -4.8506179e-05  0.0000000e+00], sr=22050 as keyword args. From version 0.10 passing these as positional arguments will result in an error\n  import sys\n/opt/conda/lib/python3.7/site-packages/ipykernel_launcher.py:7: FutureWarning: Pass y=[-0.00888222 -0.00783081  0.00077971 ...  0.00506064  0.00363265\n  0.        ], sr=22050 as keyword args. From version 0.10 passing these as positional arguments will result in an error\n  import sys\n 69%|██████▉   | 967/1400 [00:25<00:10, 39.81it/s]/opt/conda/lib/python3.7/site-packages/ipykernel_launcher.py:7: FutureWarning: Pass y=[ 1.7350960e-04  2.1200435e-04  1.8233320e-04 ...  1.3981847e-04\n -1.4335026e-05  0.0000000e+00], sr=22050 as keyword args. From version 0.10 passing these as positional arguments will result in an error\n  import sys\n/opt/conda/lib/python3.7/site-packages/ipykernel_launcher.py:7: FutureWarning: Pass y=[ 1.3654097e-04  6.7958659e-05 -5.8183359e-05 ...  1.9315031e-04\n  1.0953767e-04  0.0000000e+00], sr=22050 as keyword args. From version 0.10 passing these as positional arguments will result in an error\n  import sys\n/opt/conda/lib/python3.7/site-packages/ipykernel_launcher.py:7: FutureWarning: Pass y=[-0.00037161  0.00013335  0.00052155 ... -0.0002184  -0.00020379\n  0.        ], sr=22050 as keyword args. From version 0.10 passing these as positional arguments will result in an error\n  import sys\n/opt/conda/lib/python3.7/site-packages/ipykernel_launcher.py:7: FutureWarning: Pass y=[ 1.7534887e-05 -6.1173989e-05 -1.1090025e-04 ... -1.4168472e-03\n -6.6297274e-04  0.0000000e+00], sr=22050 as keyword args. From version 0.10 passing these as positional arguments will result in an error\n  import sys\n/opt/conda/lib/python3.7/site-packages/ipykernel_launcher.py:7: FutureWarning: Pass y=[ 1.88851061e-06  1.11288726e-04  2.25753582e-04 ... -1.79030525e-04\n -6.91553068e-05  0.00000000e+00], sr=22050 as keyword args. From version 0.10 passing these as positional arguments will result in an error\n  import sys\n 69%|██████▉   | 972/1400 [00:25<00:10, 39.63it/s]/opt/conda/lib/python3.7/site-packages/ipykernel_launcher.py:7: FutureWarning: Pass y=[-0.00089199 -0.00099292 -0.0006091  ...  0.00082717  0.0009041\n  0.        ], sr=22050 as keyword args. From version 0.10 passing these as positional arguments will result in an error\n  import sys\n/opt/conda/lib/python3.7/site-packages/ipykernel_launcher.py:7: FutureWarning: Pass y=[ 0.0012452  -0.00046118  0.00198484 ... -0.00419679 -0.00222415\n  0.        ], sr=22050 as keyword args. From version 0.10 passing these as positional arguments will result in an error\n  import sys\n/opt/conda/lib/python3.7/site-packages/ipykernel_launcher.py:7: FutureWarning: Pass y=[-0.0071221  -0.00795952 -0.00830092 ... -0.00715172 -0.00597211\n  0.        ], sr=22050 as keyword args. From version 0.10 passing these as positional arguments will result in an error\n  import sys\n/opt/conda/lib/python3.7/site-packages/ipykernel_launcher.py:7: FutureWarning: Pass y=[-1.9343581e-05 -3.4413300e-05 -2.6457828e-05 ...  9.8514814e-05\n  1.1369586e-04  0.0000000e+00], sr=22050 as keyword args. From version 0.10 passing these as positional arguments will result in an error\n  import sys\n/opt/conda/lib/python3.7/site-packages/ipykernel_launcher.py:7: FutureWarning: Pass y=[-6.4630462e-05 -1.0301059e-04 -1.5913222e-04 ... -1.1570413e-05\n  3.2134336e-05  0.0000000e+00], sr=22050 as keyword args. From version 0.10 passing these as positional arguments will result in an error\n  import sys\n 70%|██████▉   | 977/1400 [00:25<00:10, 40.96it/s]/opt/conda/lib/python3.7/site-packages/ipykernel_launcher.py:7: FutureWarning: Pass y=[-0.00867912 -0.00719557 -0.00256101 ... -0.00602927 -0.00567692\n  0.        ], sr=22050 as keyword args. From version 0.10 passing these as positional arguments will result in an error\n  import sys\n/opt/conda/lib/python3.7/site-packages/ipykernel_launcher.py:7: FutureWarning: Pass y=[-0.00053002  0.00016096  0.0007409  ...  0.00026445  0.00271597\n  0.        ], sr=22050 as keyword args. From version 0.10 passing these as positional arguments will result in an error\n  import sys\n/opt/conda/lib/python3.7/site-packages/ipykernel_launcher.py:7: FutureWarning: Pass y=[-7.8326826e-05 -6.5733424e-05 -7.7606746e-05 ...  2.3930352e-04\n  1.7697818e-04  0.0000000e+00], sr=22050 as keyword args. From version 0.10 passing these as positional arguments will result in an error\n  import sys\n/opt/conda/lib/python3.7/site-packages/ipykernel_launcher.py:7: FutureWarning: Pass y=[-0.00050437 -0.00450906 -0.00735361 ... -0.00743133 -0.00722881\n  0.        ], sr=22050 as keyword args. From version 0.10 passing these as positional arguments will result in an error\n  import sys\n/opt/conda/lib/python3.7/site-packages/ipykernel_launcher.py:7: FutureWarning: Pass y=[ 0.00087808  0.00049916 -0.00052531 ...  0.00062348  0.00030978\n  0.        ], sr=22050 as keyword args. From version 0.10 passing these as positional arguments will result in an error\n  import sys\n 70%|███████   | 982/1400 [00:25<00:10, 41.56it/s]/opt/conda/lib/python3.7/site-packages/ipykernel_launcher.py:7: FutureWarning: Pass y=[-1.5151392e-04 -2.2769502e-05  1.3164162e-04 ... -1.4261066e-04\n -7.1066424e-05  0.0000000e+00], sr=22050 as keyword args. From version 0.10 passing these as positional arguments will result in an error\n  import sys\n/opt/conda/lib/python3.7/site-packages/ipykernel_launcher.py:7: FutureWarning: Pass y=[-0.00019068 -0.00024691 -0.00025402 ... -0.00013379 -0.000105\n  0.        ], sr=22050 as keyword args. From version 0.10 passing these as positional arguments will result in an error\n  import sys\n/opt/conda/lib/python3.7/site-packages/ipykernel_launcher.py:7: FutureWarning: Pass y=[-0.00166147 -0.00140789 -0.0009143  ... -0.0003685  -0.00019451\n  0.        ], sr=22050 as keyword args. From version 0.10 passing these as positional arguments will result in an error\n  import sys\n/opt/conda/lib/python3.7/site-packages/ipykernel_launcher.py:7: FutureWarning: Pass y=[-0.004269   -0.00313852 -0.00164458 ...  0.00454075  0.00296912\n  0.        ], sr=22050 as keyword args. From version 0.10 passing these as positional arguments will result in an error\n  import sys\n/opt/conda/lib/python3.7/site-packages/ipykernel_launcher.py:7: FutureWarning: Pass y=[0.00926914 0.01088915 0.01076346 ... 0.00842926 0.00455575 0.        ], sr=22050 as keyword args. From version 0.10 passing these as positional arguments will result in an error\n  import sys\n 70%|███████   | 987/1400 [00:26<00:09, 42.41it/s]/opt/conda/lib/python3.7/site-packages/ipykernel_launcher.py:7: FutureWarning: Pass y=[-0.00972538 -0.01134179 -0.01104943 ...  0.00687002  0.00326375\n  0.        ], sr=22050 as keyword args. From version 0.10 passing these as positional arguments will result in an error\n  import sys\n/opt/conda/lib/python3.7/site-packages/ipykernel_launcher.py:7: FutureWarning: Pass y=[3.2829965e-04 3.4714059e-04 2.5371125e-04 ... 1.2941851e-04 1.7158985e-05\n 0.0000000e+00], sr=22050 as keyword args. From version 0.10 passing these as positional arguments will result in an error\n  import sys\n/opt/conda/lib/python3.7/site-packages/ipykernel_launcher.py:7: FutureWarning: Pass y=[0.00901092 0.01090434 0.0114631  ... 0.00847667 0.00494233 0.        ], sr=22050 as keyword args. From version 0.10 passing these as positional arguments will result in an error\n  import sys\n/opt/conda/lib/python3.7/site-packages/ipykernel_launcher.py:7: FutureWarning: Pass y=[0.00130416 0.00291524 0.0017118  ... 0.00252594 0.00291976 0.        ], sr=22050 as keyword args. From version 0.10 passing these as positional arguments will result in an error\n  import sys\n/opt/conda/lib/python3.7/site-packages/ipykernel_launcher.py:7: FutureWarning: Pass y=[-0.00524083 -0.00627032 -0.00644285 ... -0.00443368 -0.00258594\n  0.        ], sr=22050 as keyword args. From version 0.10 passing these as positional arguments will result in an error\n  import sys\n 71%|███████   | 992/1400 [00:26<00:09, 41.29it/s]/opt/conda/lib/python3.7/site-packages/ipykernel_launcher.py:7: FutureWarning: Pass y=[1.0061963e-04 8.8907997e-05 7.5995296e-05 ... 3.6994161e-04 1.7374192e-04\n 0.0000000e+00], sr=22050 as keyword args. From version 0.10 passing these as positional arguments will result in an error\n  import sys\n/opt/conda/lib/python3.7/site-packages/ipykernel_launcher.py:7: FutureWarning: Pass y=[-0.01718429 -0.02384981 -0.02581769 ... -0.00826824 -0.00491941\n  0.        ], sr=22050 as keyword args. From version 0.10 passing these as positional arguments will result in an error\n  import sys\n/opt/conda/lib/python3.7/site-packages/ipykernel_launcher.py:7: FutureWarning: Pass y=[-0.00766753 -0.00848801 -0.00825408 ... -0.00750592 -0.00596396\n  0.        ], sr=22050 as keyword args. From version 0.10 passing these as positional arguments will result in an error\n  import sys\n/opt/conda/lib/python3.7/site-packages/ipykernel_launcher.py:7: FutureWarning: Pass y=[0.0005723  0.00084493 0.00095971 ... 0.00082795 0.00061185 0.00027947], sr=22050 as keyword args. From version 0.10 passing these as positional arguments will result in an error\n  import sys\n/opt/conda/lib/python3.7/site-packages/ipykernel_launcher.py:7: FutureWarning: Pass y=[-0.01533941 -0.01279201 -0.00488622 ... -0.00831153 -0.00463418\n  0.        ], sr=22050 as keyword args. From version 0.10 passing these as positional arguments will result in an error\n  import sys\n 71%|███████   | 997/1400 [00:26<00:09, 43.08it/s]/opt/conda/lib/python3.7/site-packages/ipykernel_launcher.py:7: FutureWarning: Pass y=[ 0.00483104  0.00568779  0.00567765 ... -0.00360795 -0.00188472\n  0.        ], sr=22050 as keyword args. From version 0.10 passing these as positional arguments will result in an error\n  import sys\n/opt/conda/lib/python3.7/site-packages/ipykernel_launcher.py:7: FutureWarning: Pass y=[-0.00092641 -0.00113561 -0.0012642  ...  0.00085294  0.00052446\n  0.        ], sr=22050 as keyword args. From version 0.10 passing these as positional arguments will result in an error\n  import sys\n/opt/conda/lib/python3.7/site-packages/ipykernel_launcher.py:7: FutureWarning: Pass y=[-0.03703027 -0.0272905  -0.00247002 ... -0.00900406 -0.00578301\n  0.        ], sr=22050 as keyword args. From version 0.10 passing these as positional arguments will result in an error\n  import sys\n/opt/conda/lib/python3.7/site-packages/ipykernel_launcher.py:7: FutureWarning: Pass y=[-0.0232483  -0.01834598 -0.00771513 ...  0.00867804  0.00498675\n  0.        ], sr=22050 as keyword args. From version 0.10 passing these as positional arguments will result in an error\n  import sys\n/opt/conda/lib/python3.7/site-packages/ipykernel_launcher.py:7: FutureWarning: Pass y=[ 0.00129247 -0.0025711  -0.00724551 ... -0.01592791 -0.01055585\n  0.        ], sr=22050 as keyword args. From version 0.10 passing these as positional arguments will result in an error\n  import sys\n 72%|███████▏  | 1002/1400 [00:26<00:09, 41.00it/s]/opt/conda/lib/python3.7/site-packages/ipykernel_launcher.py:7: FutureWarning: Pass y=[ 0.01193518 -0.00406664 -0.02198585 ...  0.00887148  0.00487717\n  0.        ], sr=22050 as keyword args. From version 0.10 passing these as positional arguments will result in an error\n  import sys\n/opt/conda/lib/python3.7/site-packages/ipykernel_launcher.py:7: FutureWarning: Pass y=[-0.01268146 -0.01071888 -0.00511965 ... -0.00734541 -0.00360425\n  0.        ], sr=22050 as keyword args. From version 0.10 passing these as positional arguments will result in an error\n  import sys\n/opt/conda/lib/python3.7/site-packages/ipykernel_launcher.py:7: FutureWarning: Pass y=[ 2.4930269e-03  2.5480941e-03  1.4689647e-03 ... -3.3395286e-04\n -5.9798098e-05  0.0000000e+00], sr=22050 as keyword args. From version 0.10 passing these as positional arguments will result in an error\n  import sys\n/opt/conda/lib/python3.7/site-packages/ipykernel_launcher.py:7: FutureWarning: Pass y=[-1.13143295e-04 -1.31518493e-04 -8.94797995e-05 ... -1.32208993e-03\n -9.52281407e-04  0.00000000e+00], sr=22050 as keyword args. From version 0.10 passing these as positional arguments will result in an error\n  import sys\n/opt/conda/lib/python3.7/site-packages/ipykernel_launcher.py:7: FutureWarning: Pass y=[-0.00986116 -0.01333721 -0.01164101 ... -0.00846327 -0.00550007\n  0.        ], sr=22050 as keyword args. From version 0.10 passing these as positional arguments will result in an error\n  import sys\n 72%|███████▏  | 1007/1400 [00:26<00:09, 40.59it/s]/opt/conda/lib/python3.7/site-packages/ipykernel_launcher.py:7: FutureWarning: Pass y=[-2.1115267e-04 -8.8524692e-05  4.3532575e-05 ... -3.9322089e-04\n -3.6503287e-04  0.0000000e+00], sr=22050 as keyword args. From version 0.10 passing these as positional arguments will result in an error\n  import sys\n/opt/conda/lib/python3.7/site-packages/ipykernel_launcher.py:7: FutureWarning: Pass y=[-2.5222156e-05 -1.5332917e-04 -2.6773417e-04 ...  1.8788142e-04\n  1.0344627e-04  0.0000000e+00], sr=22050 as keyword args. From version 0.10 passing these as positional arguments will result in an error\n  import sys\n/opt/conda/lib/python3.7/site-packages/ipykernel_launcher.py:7: FutureWarning: Pass y=[ 0.00014826  0.00022374  0.00024062 ... -0.00055747 -0.00030014\n  0.        ], sr=22050 as keyword args. From version 0.10 passing these as positional arguments will result in an error\n  import sys\n/opt/conda/lib/python3.7/site-packages/ipykernel_launcher.py:7: FutureWarning: Pass y=[-0.00042526 -0.00047391 -0.00043056 ...  0.00014327  0.00010967\n  0.        ], sr=22050 as keyword args. From version 0.10 passing these as positional arguments will result in an error\n  import sys\n/opt/conda/lib/python3.7/site-packages/ipykernel_launcher.py:7: FutureWarning: Pass y=[5.2112323e-04 6.5823784e-04 6.8956451e-04 ... 2.2823559e-04 2.2578808e-05\n 0.0000000e+00], sr=22050 as keyword args. From version 0.10 passing these as positional arguments will result in an error\n  import sys\n 72%|███████▏  | 1012/1400 [00:26<00:09, 42.23it/s]/opt/conda/lib/python3.7/site-packages/ipykernel_launcher.py:7: FutureWarning: Pass y=[ 0.00034895  0.00074718  0.00036874 ... -0.00520316 -0.00198109\n  0.        ], sr=22050 as keyword args. From version 0.10 passing these as positional arguments will result in an error\n  import sys\n/opt/conda/lib/python3.7/site-packages/ipykernel_launcher.py:7: FutureWarning: Pass y=[-0.01986994 -0.029262   -0.02731034 ... -0.00819004 -0.00446022\n  0.        ], sr=22050 as keyword args. From version 0.10 passing these as positional arguments will result in an error\n  import sys\n/opt/conda/lib/python3.7/site-packages/ipykernel_launcher.py:7: FutureWarning: Pass y=[ 0.00906532  0.00379823 -0.00512883 ... -0.00883691 -0.00581145\n  0.        ], sr=22050 as keyword args. From version 0.10 passing these as positional arguments will result in an error\n  import sys\n/opt/conda/lib/python3.7/site-packages/ipykernel_launcher.py:7: FutureWarning: Pass y=[-0.00169743 -0.00200921 -0.00199147 ... -0.00066674 -0.00044778\n  0.        ], sr=22050 as keyword args. From version 0.10 passing these as positional arguments will result in an error\n  import sys\n/opt/conda/lib/python3.7/site-packages/ipykernel_launcher.py:7: FutureWarning: Pass y=[2.8461272e-05 1.5401763e-04 1.7735445e-04 ... 2.4458912e-04 1.7832997e-04\n 0.0000000e+00], sr=22050 as keyword args. From version 0.10 passing these as positional arguments will result in an error\n  import sys\n 73%|███████▎  | 1017/1400 [00:26<00:09, 41.30it/s]/opt/conda/lib/python3.7/site-packages/ipykernel_launcher.py:7: FutureWarning: Pass y=[-0.02057804 -0.00615784  0.01099428 ...  0.00910549  0.00627303\n  0.        ], sr=22050 as keyword args. From version 0.10 passing these as positional arguments will result in an error\n  import sys\n/opt/conda/lib/python3.7/site-packages/ipykernel_launcher.py:7: FutureWarning: Pass y=[ 2.6993689e-04  2.8964950e-04  1.8942120e-04 ... -5.8745001e-05\n -2.4669349e-05  0.0000000e+00], sr=22050 as keyword args. From version 0.10 passing these as positional arguments will result in an error\n  import sys\n/opt/conda/lib/python3.7/site-packages/ipykernel_launcher.py:7: FutureWarning: Pass y=[ 5.3655123e-04  5.2355649e-04 -8.6664004e-05 ... -7.0472653e-03\n -3.0207303e-03  0.0000000e+00], sr=22050 as keyword args. From version 0.10 passing these as positional arguments will result in an error\n  import sys\n/opt/conda/lib/python3.7/site-packages/ipykernel_launcher.py:7: FutureWarning: Pass y=[ 6.3927982e-05  1.8070907e-04  3.3123989e-04 ... -7.5170328e-04\n -4.8299957e-04  0.0000000e+00], sr=22050 as keyword args. From version 0.10 passing these as positional arguments will result in an error\n  import sys\n/opt/conda/lib/python3.7/site-packages/ipykernel_launcher.py:7: FutureWarning: Pass y=[-3.4957964e-04 -3.5539112e-04 -3.0529546e-04 ...  9.4766125e-05\n  4.6883379e-05  0.0000000e+00], sr=22050 as keyword args. From version 0.10 passing these as positional arguments will result in an error\n  import sys\n 73%|███████▎  | 1022/1400 [00:26<00:09, 40.29it/s]/opt/conda/lib/python3.7/site-packages/ipykernel_launcher.py:7: FutureWarning: Pass y=[-0.0066159  -0.00115104  0.00467757 ... -0.00739992 -0.00567262\n  0.        ], sr=22050 as keyword args. From version 0.10 passing these as positional arguments will result in an error\n  import sys\n/opt/conda/lib/python3.7/site-packages/ipykernel_launcher.py:7: FutureWarning: Pass y=[0.00070699 0.00067895 0.00052252 ... 0.00029337 0.00012327 0.        ], sr=22050 as keyword args. From version 0.10 passing these as positional arguments will result in an error\n  import sys\n/opt/conda/lib/python3.7/site-packages/ipykernel_launcher.py:7: FutureWarning: Pass y=[0.00176968 0.00209088 0.00205907 ... 0.00081323 0.00047146 0.        ], sr=22050 as keyword args. From version 0.10 passing these as positional arguments will result in an error\n  import sys\n/opt/conda/lib/python3.7/site-packages/ipykernel_launcher.py:7: FutureWarning: Pass y=[-2.0321159e-04 -1.2579460e-04 -4.2029224e-05 ... -2.7268541e-05\n -3.7761853e-05  0.0000000e+00], sr=22050 as keyword args. From version 0.10 passing these as positional arguments will result in an error\n  import sys\n/opt/conda/lib/python3.7/site-packages/ipykernel_launcher.py:7: FutureWarning: Pass y=[-3.54996955e-05  9.70011115e-06  1.15062736e-04 ... -4.97398840e-04\n -2.01660077e-04  0.00000000e+00], sr=22050 as keyword args. From version 0.10 passing these as positional arguments will result in an error\n  import sys\n 73%|███████▎  | 1027/1400 [00:27<00:09, 40.77it/s]/opt/conda/lib/python3.7/site-packages/ipykernel_launcher.py:7: FutureWarning: Pass y=[-0.00770945  0.00346152  0.01404984 ... -0.00693067 -0.00757848\n  0.        ], sr=22050 as keyword args. From version 0.10 passing these as positional arguments will result in an error\n  import sys\n/opt/conda/lib/python3.7/site-packages/ipykernel_launcher.py:7: FutureWarning: Pass y=[-0.00860017 -0.01515735 -0.0202418  ... -0.01438634 -0.00876671\n  0.        ], sr=22050 as keyword args. From version 0.10 passing these as positional arguments will result in an error\n  import sys\n/opt/conda/lib/python3.7/site-packages/ipykernel_launcher.py:7: FutureWarning: Pass y=[-0.01456678 -0.01780324 -0.01859569 ...  0.00965888  0.00739393\n  0.        ], sr=22050 as keyword args. From version 0.10 passing these as positional arguments will result in an error\n  import sys\n/opt/conda/lib/python3.7/site-packages/ipykernel_launcher.py:7: FutureWarning: Pass y=[-0.0097383  -0.00957662 -0.00667125 ... -0.00994257 -0.00577354\n  0.        ], sr=22050 as keyword args. From version 0.10 passing these as positional arguments will result in an error\n  import sys\n/opt/conda/lib/python3.7/site-packages/ipykernel_launcher.py:7: FutureWarning: Pass y=[ 0.00069637  0.00091759  0.00012717 ... -0.00129903 -0.00158788\n  0.        ], sr=22050 as keyword args. From version 0.10 passing these as positional arguments will result in an error\n  import sys\n 74%|███████▎  | 1032/1400 [00:27<00:09, 40.48it/s]/opt/conda/lib/python3.7/site-packages/ipykernel_launcher.py:7: FutureWarning: Pass y=[-0.00695299 -0.01190398 -0.0158176  ... -0.00692643 -0.00483936\n  0.        ], sr=22050 as keyword args. From version 0.10 passing these as positional arguments will result in an error\n  import sys\n/opt/conda/lib/python3.7/site-packages/ipykernel_launcher.py:7: FutureWarning: Pass y=[ 2.5137997e-04  1.5137436e-04  7.5472046e-05 ... -3.9131273e-04\n -2.2306381e-04  0.0000000e+00], sr=22050 as keyword args. From version 0.10 passing these as positional arguments will result in an error\n  import sys\n/opt/conda/lib/python3.7/site-packages/ipykernel_launcher.py:7: FutureWarning: Pass y=[-0.00067594 -0.00076502 -0.00067591 ... -0.00043295 -0.00029102\n  0.        ], sr=22050 as keyword args. From version 0.10 passing these as positional arguments will result in an error\n  import sys\n/opt/conda/lib/python3.7/site-packages/ipykernel_launcher.py:7: FutureWarning: Pass y=[-0.00926347 -0.01100866 -0.01124192 ...  0.01028887  0.0072901\n  0.        ], sr=22050 as keyword args. From version 0.10 passing these as positional arguments will result in an error\n  import sys\n/opt/conda/lib/python3.7/site-packages/ipykernel_launcher.py:7: FutureWarning: Pass y=[-0.03028543 -0.03871313 -0.04448535 ... -0.00777219 -0.00366921\n  0.        ], sr=22050 as keyword args. From version 0.10 passing these as positional arguments will result in an error\n  import sys\n 74%|███████▍  | 1037/1400 [00:27<00:08, 40.64it/s]/opt/conda/lib/python3.7/site-packages/ipykernel_launcher.py:7: FutureWarning: Pass y=[ 0.00951835  0.01142046  0.01181951 ... -0.00781506 -0.00439268\n  0.        ], sr=22050 as keyword args. From version 0.10 passing these as positional arguments will result in an error\n  import sys\n/opt/conda/lib/python3.7/site-packages/ipykernel_launcher.py:7: FutureWarning: Pass y=[ 0.00048159 -0.00296371 -0.00686774 ... -0.00547763 -0.00201003\n  0.        ], sr=22050 as keyword args. From version 0.10 passing these as positional arguments will result in an error\n  import sys\n/opt/conda/lib/python3.7/site-packages/ipykernel_launcher.py:7: FutureWarning: Pass y=[1.8814486e-04 9.2909686e-05 2.5241325e-05 ... 8.9797490e-05 1.1596501e-04\n 0.0000000e+00], sr=22050 as keyword args. From version 0.10 passing these as positional arguments will result in an error\n  import sys\n/opt/conda/lib/python3.7/site-packages/ipykernel_launcher.py:7: FutureWarning: Pass y=[-0.00032788 -0.00054333 -0.00064908 ...  0.00018834  0.00016445\n  0.        ], sr=22050 as keyword args. From version 0.10 passing these as positional arguments will result in an error\n  import sys\n/opt/conda/lib/python3.7/site-packages/ipykernel_launcher.py:7: FutureWarning: Pass y=[-5.1335170e-04 -4.8109354e-04 -3.3868110e-04 ...  1.2755167e-04\n  7.3945585e-06  0.0000000e+00], sr=22050 as keyword args. From version 0.10 passing these as positional arguments will result in an error\n  import sys\n 74%|███████▍  | 1042/1400 [00:27<00:08, 41.11it/s]/opt/conda/lib/python3.7/site-packages/ipykernel_launcher.py:7: FutureWarning: Pass y=[ 2.3103737e-04 -4.2540116e-05 -2.7809179e-04 ... -4.2732083e-04\n -2.2665258e-04  0.0000000e+00], sr=22050 as keyword args. From version 0.10 passing these as positional arguments will result in an error\n  import sys\n/opt/conda/lib/python3.7/site-packages/ipykernel_launcher.py:7: FutureWarning: Pass y=[ 0.0013107   0.00051576 -0.00086836 ... -0.00048123 -0.00037821\n  0.        ], sr=22050 as keyword args. From version 0.10 passing these as positional arguments will result in an error\n  import sys\n/opt/conda/lib/python3.7/site-packages/ipykernel_launcher.py:7: FutureWarning: Pass y=[ 8.6798864e-05  7.5955864e-04  6.4145389e-04 ... -5.6301625e-03\n -4.7593482e-04  0.0000000e+00], sr=22050 as keyword args. From version 0.10 passing these as positional arguments will result in an error\n  import sys\n/opt/conda/lib/python3.7/site-packages/ipykernel_launcher.py:7: FutureWarning: Pass y=[-0.02263818 -0.01521302 -0.00038085 ...  0.00691543  0.00335552\n  0.        ], sr=22050 as keyword args. From version 0.10 passing these as positional arguments will result in an error\n  import sys\n/opt/conda/lib/python3.7/site-packages/ipykernel_launcher.py:7: FutureWarning: Pass y=[-0.00080493  0.00084289  0.00185427 ... -0.01377218 -0.01409804\n  0.        ], sr=22050 as keyword args. From version 0.10 passing these as positional arguments will result in an error\n  import sys\n 75%|███████▍  | 1047/1400 [00:27<00:08, 40.96it/s]/opt/conda/lib/python3.7/site-packages/ipykernel_launcher.py:7: FutureWarning: Pass y=[ 0.0112248   0.01357289  0.01425171 ... -0.00884036 -0.00612829\n  0.        ], sr=22050 as keyword args. From version 0.10 passing these as positional arguments will result in an error\n  import sys\n/opt/conda/lib/python3.7/site-packages/ipykernel_launcher.py:7: FutureWarning: Pass y=[7.6458171e-05 3.2090439e-04 5.3693616e-04 ... 1.7353103e-05 3.6402048e-06\n 0.0000000e+00], sr=22050 as keyword args. From version 0.10 passing these as positional arguments will result in an error\n  import sys\n/opt/conda/lib/python3.7/site-packages/ipykernel_launcher.py:7: FutureWarning: Pass y=[-0.00625898 -0.01051014 -0.0152259  ... -0.02002753 -0.0102274\n  0.        ], sr=22050 as keyword args. From version 0.10 passing these as positional arguments will result in an error\n  import sys\n/opt/conda/lib/python3.7/site-packages/ipykernel_launcher.py:7: FutureWarning: Pass y=[-8.1743790e-05 -8.1605918e-05 -6.2774525e-05 ... -6.3808795e-05\n -3.9570212e-05  0.0000000e+00], sr=22050 as keyword args. From version 0.10 passing these as positional arguments will result in an error\n  import sys\n/opt/conda/lib/python3.7/site-packages/ipykernel_launcher.py:7: FutureWarning: Pass y=[-0.00757208 -0.00607176 -0.00256817 ... -0.00712014 -0.00508142\n  0.        ], sr=22050 as keyword args. From version 0.10 passing these as positional arguments will result in an error\n  import sys\n 75%|███████▌  | 1052/1400 [00:27<00:08, 41.98it/s]/opt/conda/lib/python3.7/site-packages/ipykernel_launcher.py:7: FutureWarning: Pass y=[-0.0008662  -0.00456382 -0.00697838 ... -0.00494868 -0.0004939\n  0.        ], sr=22050 as keyword args. From version 0.10 passing these as positional arguments will result in an error\n  import sys\n/opt/conda/lib/python3.7/site-packages/ipykernel_launcher.py:7: FutureWarning: Pass y=[-0.00440213 -0.00323067 -0.0015391  ... -0.00417514 -0.00254252\n  0.        ], sr=22050 as keyword args. From version 0.10 passing these as positional arguments will result in an error\n  import sys\n/opt/conda/lib/python3.7/site-packages/ipykernel_launcher.py:7: FutureWarning: Pass y=[-0.00037514 -0.00034754 -0.0002481  ...  0.00056542  0.00039134\n  0.        ], sr=22050 as keyword args. From version 0.10 passing these as positional arguments will result in an error\n  import sys\n/opt/conda/lib/python3.7/site-packages/ipykernel_launcher.py:7: FutureWarning: Pass y=[-0.02250027 -0.02090687 -0.01322902 ... -0.01036789 -0.00786942\n  0.        ], sr=22050 as keyword args. From version 0.10 passing these as positional arguments will result in an error\n  import sys\n/opt/conda/lib/python3.7/site-packages/ipykernel_launcher.py:7: FutureWarning: Pass y=[ 1.4741420e-05 -4.1131945e-05 -5.5236658e-05 ...  1.6776877e-04\n  7.4296833e-05  0.0000000e+00], sr=22050 as keyword args. From version 0.10 passing these as positional arguments will result in an error\n  import sys\n 76%|███████▌  | 1057/1400 [00:27<00:08, 40.73it/s]/opt/conda/lib/python3.7/site-packages/ipykernel_launcher.py:7: FutureWarning: Pass y=[-7.5054757e-04 -7.4137718e-04 -6.5630593e-04 ...  1.6249303e-04\n  8.5574604e-05  0.0000000e+00], sr=22050 as keyword args. From version 0.10 passing these as positional arguments will result in an error\n  import sys\n/opt/conda/lib/python3.7/site-packages/ipykernel_launcher.py:7: FutureWarning: Pass y=[5.1596089e-05 8.7146982e-05 4.4459779e-05 ... 1.9951003e-04 2.3336687e-04\n 0.0000000e+00], sr=22050 as keyword args. From version 0.10 passing these as positional arguments will result in an error\n  import sys\n/opt/conda/lib/python3.7/site-packages/ipykernel_launcher.py:7: FutureWarning: Pass y=[ 7.2438488e-06  3.0200092e-05  3.5401285e-06 ... -3.9104180e-04\n -1.8282492e-04  0.0000000e+00], sr=22050 as keyword args. From version 0.10 passing these as positional arguments will result in an error\n  import sys\n/opt/conda/lib/python3.7/site-packages/ipykernel_launcher.py:7: FutureWarning: Pass y=[ 9.5826201e-04 -3.2280156e-04 -1.3338974e-03 ... -8.9703986e-05\n -2.5903454e-04  0.0000000e+00], sr=22050 as keyword args. From version 0.10 passing these as positional arguments will result in an error\n  import sys\n/opt/conda/lib/python3.7/site-packages/ipykernel_launcher.py:7: FutureWarning: Pass y=[-2.3382796e-05  2.8212047e-05  6.2569598e-05 ...  2.5409632e-04\n  1.6319292e-04  0.0000000e+00], sr=22050 as keyword args. From version 0.10 passing these as positional arguments will result in an error\n  import sys\n 76%|███████▌  | 1062/1400 [00:27<00:08, 41.55it/s]/opt/conda/lib/python3.7/site-packages/ipykernel_launcher.py:7: FutureWarning: Pass y=[-0.00147392 -0.000507    0.0012677  ... -0.0070815  -0.00654349\n  0.        ], sr=22050 as keyword args. From version 0.10 passing these as positional arguments will result in an error\n  import sys\n/opt/conda/lib/python3.7/site-packages/ipykernel_launcher.py:7: FutureWarning: Pass y=[ 0.002116   -0.00277329 -0.01177185 ... -0.01466027 -0.00797841\n  0.        ], sr=22050 as keyword args. From version 0.10 passing these as positional arguments will result in an error\n  import sys\n/opt/conda/lib/python3.7/site-packages/ipykernel_launcher.py:7: FutureWarning: Pass y=[-0.01644303 -0.01050034 -0.00168233 ... -0.00461922 -0.00096484\n  0.        ], sr=22050 as keyword args. From version 0.10 passing these as positional arguments will result in an error\n  import sys\n/opt/conda/lib/python3.7/site-packages/ipykernel_launcher.py:7: FutureWarning: Pass y=[-7.54132816e-06 -4.16724906e-05 -6.02600048e-05 ...  7.25271166e-05\n  1.36851895e-05  0.00000000e+00], sr=22050 as keyword args. From version 0.10 passing these as positional arguments will result in an error\n  import sys\n/opt/conda/lib/python3.7/site-packages/ipykernel_launcher.py:7: FutureWarning: Pass y=[-0.00123615 -0.00447062 -0.00630073 ... -0.01462195 -0.0077615\n  0.        ], sr=22050 as keyword args. From version 0.10 passing these as positional arguments will result in an error\n  import sys\n/opt/conda/lib/python3.7/site-packages/ipykernel_launcher.py:7: FutureWarning: Pass y=[0.00926068 0.01067747 0.01043192 ... 0.00983746 0.00702106 0.        ], sr=22050 as keyword args. From version 0.10 passing these as positional arguments will result in an error\n  import sys\n 76%|███████▋  | 1068/1400 [00:28<00:07, 42.83it/s]/opt/conda/lib/python3.7/site-packages/ipykernel_launcher.py:7: FutureWarning: Pass y=[ 0.0215      0.02192892  0.0166042  ... -0.00694489 -0.00461513\n  0.        ], sr=22050 as keyword args. From version 0.10 passing these as positional arguments will result in an error\n  import sys\n/opt/conda/lib/python3.7/site-packages/ipykernel_launcher.py:7: FutureWarning: Pass y=[ 1.3539147e-04  9.7307660e-05  8.8186316e-05 ... -1.1592417e-04\n -3.4230306e-05  0.0000000e+00], sr=22050 as keyword args. From version 0.10 passing these as positional arguments will result in an error\n  import sys\n/opt/conda/lib/python3.7/site-packages/ipykernel_launcher.py:7: FutureWarning: Pass y=[-0.00947598 -0.01097587 -0.01076128 ... -0.00893179 -0.00539225\n  0.        ], sr=22050 as keyword args. From version 0.10 passing these as positional arguments will result in an error\n  import sys\n/opt/conda/lib/python3.7/site-packages/ipykernel_launcher.py:7: FutureWarning: Pass y=[-0.00048665  0.0004391   0.00113308 ... -0.00806577 -0.00320208\n  0.        ], sr=22050 as keyword args. From version 0.10 passing these as positional arguments will result in an error\n  import sys\n/opt/conda/lib/python3.7/site-packages/ipykernel_launcher.py:7: FutureWarning: Pass y=[-7.9812606e-05  1.0092660e-04  1.7805530e-04 ...  7.6031883e-04\n  3.9432538e-04  0.0000000e+00], sr=22050 as keyword args. From version 0.10 passing these as positional arguments will result in an error\n  import sys\n 77%|███████▋  | 1073/1400 [00:28<00:07, 42.15it/s]/opt/conda/lib/python3.7/site-packages/ipykernel_launcher.py:7: FutureWarning: Pass y=[-0.00031464 -0.00077779 -0.00043105 ... -0.01377467 -0.00914956\n  0.        ], sr=22050 as keyword args. From version 0.10 passing these as positional arguments will result in an error\n  import sys\n/opt/conda/lib/python3.7/site-packages/ipykernel_launcher.py:7: FutureWarning: Pass y=[-4.4355975e-04 -2.0217650e-04 -6.2406485e-05 ... -8.6462300e-04\n -5.6142011e-04  0.0000000e+00], sr=22050 as keyword args. From version 0.10 passing these as positional arguments will result in an error\n  import sys\n/opt/conda/lib/python3.7/site-packages/ipykernel_launcher.py:7: FutureWarning: Pass y=[-0.01761021 -0.01858365 -0.01287118 ...  0.0088811   0.00575948\n  0.        ], sr=22050 as keyword args. From version 0.10 passing these as positional arguments will result in an error\n  import sys\n/opt/conda/lib/python3.7/site-packages/ipykernel_launcher.py:7: FutureWarning: Pass y=[-0.01291091 -0.01577299 -0.01424406 ... -0.00739763 -0.00370599\n  0.        ], sr=22050 as keyword args. From version 0.10 passing these as positional arguments will result in an error\n  import sys\n/opt/conda/lib/python3.7/site-packages/ipykernel_launcher.py:7: FutureWarning: Pass y=[-0.0007472  -0.00065053 -0.00035282 ...  0.00172738  0.00135399\n  0.00067376], sr=22050 as keyword args. From version 0.10 passing these as positional arguments will result in an error\n  import sys\n 77%|███████▋  | 1078/1400 [00:28<00:07, 42.24it/s]/opt/conda/lib/python3.7/site-packages/ipykernel_launcher.py:7: FutureWarning: Pass y=[ 1.3966141e-04  1.1752855e-04  9.6612916e-05 ... -4.8147768e-04\n -3.5592090e-04  0.0000000e+00], sr=22050 as keyword args. From version 0.10 passing these as positional arguments will result in an error\n  import sys\n/opt/conda/lib/python3.7/site-packages/ipykernel_launcher.py:7: FutureWarning: Pass y=[-0.01929424 -0.02376509 -0.01877117 ... -0.00794194 -0.0045239\n  0.        ], sr=22050 as keyword args. From version 0.10 passing these as positional arguments will result in an error\n  import sys\n/opt/conda/lib/python3.7/site-packages/ipykernel_launcher.py:7: FutureWarning: Pass y=[5.6963466e-04 6.7394797e-04 4.9017690e-04 ... 2.0263440e-04 3.9644536e-05\n 0.0000000e+00], sr=22050 as keyword args. From version 0.10 passing these as positional arguments will result in an error\n  import sys\n/opt/conda/lib/python3.7/site-packages/ipykernel_launcher.py:7: FutureWarning: Pass y=[ 1.3211073e-04  2.4614143e-04 -2.0946334e-05 ... -1.2897124e-04\n -6.9431568e-05  0.0000000e+00], sr=22050 as keyword args. From version 0.10 passing these as positional arguments will result in an error\n  import sys\n/opt/conda/lib/python3.7/site-packages/ipykernel_launcher.py:7: FutureWarning: Pass y=[0.00580165 0.0069664  0.00726809 ... 0.0043699  0.00274848 0.        ], sr=22050 as keyword args. From version 0.10 passing these as positional arguments will result in an error\n  import sys\n 77%|███████▋  | 1083/1400 [00:28<00:07, 40.87it/s]/opt/conda/lib/python3.7/site-packages/ipykernel_launcher.py:7: FutureWarning: Pass y=[-0.01325553 -0.00978841 -0.00501055 ...  0.00075664  0.00279929\n  0.        ], sr=22050 as keyword args. From version 0.10 passing these as positional arguments will result in an error\n  import sys\n/opt/conda/lib/python3.7/site-packages/ipykernel_launcher.py:7: FutureWarning: Pass y=[-1.0635415e-06  6.2443150e-06 -3.3432568e-06 ...  9.1684567e-05\n  5.1998501e-05  0.0000000e+00], sr=22050 as keyword args. From version 0.10 passing these as positional arguments will result in an error\n  import sys\n/opt/conda/lib/python3.7/site-packages/ipykernel_launcher.py:7: FutureWarning: Pass y=[ 0.00047644 -0.00021121 -0.00082822 ... -0.00077453 -0.00062807\n  0.        ], sr=22050 as keyword args. From version 0.10 passing these as positional arguments will result in an error\n  import sys\n/opt/conda/lib/python3.7/site-packages/ipykernel_launcher.py:7: FutureWarning: Pass y=[-1.3766013e-04 -6.8548470e-05  2.6776732e-05 ... -5.7611137e-06\n  4.9756927e-05  0.0000000e+00], sr=22050 as keyword args. From version 0.10 passing these as positional arguments will result in an error\n  import sys\n/opt/conda/lib/python3.7/site-packages/ipykernel_launcher.py:7: FutureWarning: Pass y=[-3.5488771e-05  1.0697427e-05  2.5139254e-05 ... -5.1120736e-05\n -4.2432450e-05  0.0000000e+00], sr=22050 as keyword args. From version 0.10 passing these as positional arguments will result in an error\n  import sys\n 78%|███████▊  | 1088/1400 [00:28<00:07, 42.12it/s]/opt/conda/lib/python3.7/site-packages/ipykernel_launcher.py:7: FutureWarning: Pass y=[-5.76848688e-05 -1.00093275e-04 -1.14883012e-04 ... -3.25390516e-04\n -2.44733877e-04  0.00000000e+00], sr=22050 as keyword args. From version 0.10 passing these as positional arguments will result in an error\n  import sys\n/opt/conda/lib/python3.7/site-packages/ipykernel_launcher.py:7: FutureWarning: Pass y=[ 0.00112176  0.00150713  0.00023429 ... -0.0147947  -0.01093672\n  0.        ], sr=22050 as keyword args. From version 0.10 passing these as positional arguments will result in an error\n  import sys\n/opt/conda/lib/python3.7/site-packages/ipykernel_launcher.py:7: FutureWarning: Pass y=[-8.1834194e-05 -2.6688733e-04 -4.5705974e-04 ...  1.9850123e-04\n  1.1503901e-04  0.0000000e+00], sr=22050 as keyword args. From version 0.10 passing these as positional arguments will result in an error\n  import sys\n/opt/conda/lib/python3.7/site-packages/ipykernel_launcher.py:7: FutureWarning: Pass y=[-0.00012767 -0.0002045  -0.0001989  ... -0.00016211 -0.0001581\n  0.        ], sr=22050 as keyword args. From version 0.10 passing these as positional arguments will result in an error\n  import sys\n/opt/conda/lib/python3.7/site-packages/ipykernel_launcher.py:7: FutureWarning: Pass y=[-0.00924754 -0.01092453 -0.01105385 ...  0.00811262  0.00447652\n  0.        ], sr=22050 as keyword args. From version 0.10 passing these as positional arguments will result in an error\n  import sys\n 78%|███████▊  | 1093/1400 [00:28<00:07, 41.62it/s]/opt/conda/lib/python3.7/site-packages/ipykernel_launcher.py:7: FutureWarning: Pass y=[-1.4711737e-04 -1.6414384e-04 -1.6113845e-04 ...  1.6386187e-04\n  6.3316736e-05  0.0000000e+00], sr=22050 as keyword args. From version 0.10 passing these as positional arguments will result in an error\n  import sys\n/opt/conda/lib/python3.7/site-packages/ipykernel_launcher.py:7: FutureWarning: Pass y=[-1.47003739e-04 -7.29568128e-05 -1.16554875e-05 ... -9.94525362e-06\n -6.93827824e-05  0.00000000e+00], sr=22050 as keyword args. From version 0.10 passing these as positional arguments will result in an error\n  import sys\n/opt/conda/lib/python3.7/site-packages/ipykernel_launcher.py:7: FutureWarning: Pass y=[ 2.0209462e-05  2.0931252e-06 -4.6085443e-05 ...  1.3227008e-04\n  1.5815071e-04  0.0000000e+00], sr=22050 as keyword args. From version 0.10 passing these as positional arguments will result in an error\n  import sys\n/opt/conda/lib/python3.7/site-packages/ipykernel_launcher.py:7: FutureWarning: Pass y=[-0.00730728 -0.00423468 -0.0010168  ... -0.00652461 -0.0032706\n  0.        ], sr=22050 as keyword args. From version 0.10 passing these as positional arguments will result in an error\n  import sys\n/opt/conda/lib/python3.7/site-packages/ipykernel_launcher.py:7: FutureWarning: Pass y=[ 0.00136156  0.00017037 -0.00447321 ... -0.01409008 -0.01147891\n  0.        ], sr=22050 as keyword args. From version 0.10 passing these as positional arguments will result in an error\n  import sys\n 78%|███████▊  | 1098/1400 [00:28<00:07, 42.33it/s]/opt/conda/lib/python3.7/site-packages/ipykernel_launcher.py:7: FutureWarning: Pass y=[-0.0004316  -0.00062213 -0.00076567 ...  0.00034024  0.00021839\n  0.        ], sr=22050 as keyword args. From version 0.10 passing these as positional arguments will result in an error\n  import sys\n/opt/conda/lib/python3.7/site-packages/ipykernel_launcher.py:7: FutureWarning: Pass y=[ 0.00053618  0.00050836  0.00037308 ... -0.00033167 -0.00026981\n  0.        ], sr=22050 as keyword args. From version 0.10 passing these as positional arguments will result in an error\n  import sys\n/opt/conda/lib/python3.7/site-packages/ipykernel_launcher.py:7: FutureWarning: Pass y=[-0.01735115 -0.0061733   0.00977264 ...  0.00440129  0.00522396\n  0.        ], sr=22050 as keyword args. From version 0.10 passing these as positional arguments will result in an error\n  import sys\n/opt/conda/lib/python3.7/site-packages/ipykernel_launcher.py:7: FutureWarning: Pass y=[-0.00037594 -0.00040798 -0.00037718 ... -0.00025644 -0.00011828\n  0.        ], sr=22050 as keyword args. From version 0.10 passing these as positional arguments will result in an error\n  import sys\n/opt/conda/lib/python3.7/site-packages/ipykernel_launcher.py:7: FutureWarning: Pass y=[0.00045734 0.00057813 0.00060843 ... 0.00025207 0.00015342 0.        ], sr=22050 as keyword args. From version 0.10 passing these as positional arguments will result in an error\n  import sys\n 79%|███████▉  | 1103/1400 [00:28<00:07, 40.86it/s]/opt/conda/lib/python3.7/site-packages/ipykernel_launcher.py:7: FutureWarning: Pass y=[-1.5235522e-04 -1.6324229e-04 -1.7434105e-04 ...  1.0574066e-05\n -2.0756544e-05  0.0000000e+00], sr=22050 as keyword args. From version 0.10 passing these as positional arguments will result in an error\n  import sys\n/opt/conda/lib/python3.7/site-packages/ipykernel_launcher.py:7: FutureWarning: Pass y=[-1.17708165e-04 -8.32560399e-05  1.27488129e-05 ...  2.89549294e-04\n  1.73037508e-04  0.00000000e+00], sr=22050 as keyword args. From version 0.10 passing these as positional arguments will result in an error\n  import sys\n/opt/conda/lib/python3.7/site-packages/ipykernel_launcher.py:7: FutureWarning: Pass y=[0.00028122 0.00031122 0.00034147 ... 0.0002416  0.00014245 0.        ], sr=22050 as keyword args. From version 0.10 passing these as positional arguments will result in an error\n  import sys\n/opt/conda/lib/python3.7/site-packages/ipykernel_launcher.py:7: FutureWarning: Pass y=[2.8267092e-04 2.9288555e-04 2.1768254e-04 ... 1.2690088e-04 3.5153887e-05\n 0.0000000e+00], sr=22050 as keyword args. From version 0.10 passing these as positional arguments will result in an error\n  import sys\n/opt/conda/lib/python3.7/site-packages/ipykernel_launcher.py:7: FutureWarning: Pass y=[ 6.8141708e-05  1.8283630e-03  2.0187865e-03 ... -6.1684558e-03\n -5.8075706e-03  0.0000000e+00], sr=22050 as keyword args. From version 0.10 passing these as positional arguments will result in an error\n  import sys\n 79%|███████▉  | 1108/1400 [00:28<00:07, 39.35it/s]/opt/conda/lib/python3.7/site-packages/ipykernel_launcher.py:7: FutureWarning: Pass y=[ 0.00151598  0.00049039 -0.001336   ... -0.00609932 -0.00365019\n  0.        ], sr=22050 as keyword args. From version 0.10 passing these as positional arguments will result in an error\n  import sys\n/opt/conda/lib/python3.7/site-packages/ipykernel_launcher.py:7: FutureWarning: Pass y=[-0.00796918 -0.00631894 -0.00248958 ... -0.00862177 -0.00307735\n  0.        ], sr=22050 as keyword args. From version 0.10 passing these as positional arguments will result in an error\n  import sys\n/opt/conda/lib/python3.7/site-packages/ipykernel_launcher.py:7: FutureWarning: Pass y=[ 0.00111647  0.00169782  0.00208037 ... -0.00302371 -0.0021663\n  0.        ], sr=22050 as keyword args. From version 0.10 passing these as positional arguments will result in an error\n  import sys\n/opt/conda/lib/python3.7/site-packages/ipykernel_launcher.py:7: FutureWarning: Pass y=[-0.00026879 -0.00041794 -0.00058787 ...  0.00070859  0.00057417\n  0.        ], sr=22050 as keyword args. From version 0.10 passing these as positional arguments will result in an error\n  import sys\n/opt/conda/lib/python3.7/site-packages/ipykernel_launcher.py:7: FutureWarning: Pass y=[-0.00985395 -0.00641876 -0.00102203 ... -0.00961948 -0.00578966\n  0.        ], sr=22050 as keyword args. From version 0.10 passing these as positional arguments will result in an error\n  import sys\n 80%|███████▉  | 1113/1400 [00:29<00:07, 39.49it/s]/opt/conda/lib/python3.7/site-packages/ipykernel_launcher.py:7: FutureWarning: Pass y=[-0.00997902 -0.01451219 -0.01890417 ...  0.00847637  0.00461722\n  0.        ], sr=22050 as keyword args. From version 0.10 passing these as positional arguments will result in an error\n  import sys\n/opt/conda/lib/python3.7/site-packages/ipykernel_launcher.py:7: FutureWarning: Pass y=[-0.01381093 -0.01997929 -0.02555934 ... -0.00948325 -0.00590675\n  0.        ], sr=22050 as keyword args. From version 0.10 passing these as positional arguments will result in an error\n  import sys\n/opt/conda/lib/python3.7/site-packages/ipykernel_launcher.py:7: FutureWarning: Pass y=[-0.00889647 -0.01447793 -0.01620696 ... -0.01311075 -0.01150119\n  0.        ], sr=22050 as keyword args. From version 0.10 passing these as positional arguments will result in an error\n  import sys\n/opt/conda/lib/python3.7/site-packages/ipykernel_launcher.py:7: FutureWarning: Pass y=[-0.01184689 -0.01689891 -0.017858   ... -0.00895451 -0.00548826\n  0.        ], sr=22050 as keyword args. From version 0.10 passing these as positional arguments will result in an error\n  import sys\n 80%|███████▉  | 1117/1400 [00:29<00:07, 39.03it/s]/opt/conda/lib/python3.7/site-packages/ipykernel_launcher.py:7: FutureWarning: Pass y=[-0.00737026 -0.00523486 -0.00173362 ... -0.00689117 -0.00627859\n  0.        ], sr=22050 as keyword args. From version 0.10 passing these as positional arguments will result in an error\n  import sys\n/opt/conda/lib/python3.7/site-packages/ipykernel_launcher.py:7: FutureWarning: Pass y=[-0.00733521 -0.00973646 -0.00985123 ... -0.00715494 -0.0072437\n  0.        ], sr=22050 as keyword args. From version 0.10 passing these as positional arguments will result in an error\n  import sys\n/opt/conda/lib/python3.7/site-packages/ipykernel_launcher.py:7: FutureWarning: Pass y=[ 0.00010588 -0.00029394 -0.00067897 ... -0.00203397 -0.00121154\n  0.        ], sr=22050 as keyword args. From version 0.10 passing these as positional arguments will result in an error\n  import sys\n/opt/conda/lib/python3.7/site-packages/ipykernel_launcher.py:7: FutureWarning: Pass y=[-3.5203638e-04 -3.3695545e-04 -2.9961244e-04 ... -6.9638219e-05\n -3.6448291e-05  0.0000000e+00], sr=22050 as keyword args. From version 0.10 passing these as positional arguments will result in an error\n  import sys\n/opt/conda/lib/python3.7/site-packages/ipykernel_launcher.py:7: FutureWarning: Pass y=[ 1.6714726e-04  7.5542412e-05 -3.2329946e-05 ...  2.3491007e-04\n  2.3598765e-04  0.0000000e+00], sr=22050 as keyword args. From version 0.10 passing these as positional arguments will result in an error\n  import sys\n 80%|████████  | 1122/1400 [00:29<00:06, 39.98it/s]/opt/conda/lib/python3.7/site-packages/ipykernel_launcher.py:7: FutureWarning: Pass y=[-0.01440302 -0.01401735 -0.01132638 ... -0.01258135 -0.00787508\n  0.        ], sr=22050 as keyword args. From version 0.10 passing these as positional arguments will result in an error\n  import sys\n/opt/conda/lib/python3.7/site-packages/ipykernel_launcher.py:7: FutureWarning: Pass y=[0.00463013 0.00558776 0.00585043 ... 0.00482221 0.00318384 0.        ], sr=22050 as keyword args. From version 0.10 passing these as positional arguments will result in an error\n  import sys\n/opt/conda/lib/python3.7/site-packages/ipykernel_launcher.py:7: FutureWarning: Pass y=[-2.5050520e-04 -2.9813609e-04 -2.7135151e-04 ... -1.4832694e-04\n -6.0075094e-05  0.0000000e+00], sr=22050 as keyword args. From version 0.10 passing these as positional arguments will result in an error\n  import sys\n/opt/conda/lib/python3.7/site-packages/ipykernel_launcher.py:7: FutureWarning: Pass y=[-0.01499226 -0.02717584 -0.02820679 ...  0.00880538  0.00649483\n  0.        ], sr=22050 as keyword args. From version 0.10 passing these as positional arguments will result in an error\n  import sys\n/opt/conda/lib/python3.7/site-packages/ipykernel_launcher.py:7: FutureWarning: Pass y=[-0.00259853 -0.00695288 -0.00741246 ... -0.01425376 -0.0125287\n  0.        ], sr=22050 as keyword args. From version 0.10 passing these as positional arguments will result in an error\n  import sys\n 80%|████████  | 1127/1400 [00:29<00:07, 38.21it/s]/opt/conda/lib/python3.7/site-packages/ipykernel_launcher.py:7: FutureWarning: Pass y=[4.1349074e-05 4.1846037e-05 1.6735130e-05 ... 2.4304893e-04 1.2927841e-04\n 0.0000000e+00], sr=22050 as keyword args. From version 0.10 passing these as positional arguments will result in an error\n  import sys\n/opt/conda/lib/python3.7/site-packages/ipykernel_launcher.py:7: FutureWarning: Pass y=[ 2.1846570e-06 -7.2288502e-05 -1.2134704e-04 ... -5.7503321e-06\n -4.0558447e-05  0.0000000e+00], sr=22050 as keyword args. From version 0.10 passing these as positional arguments will result in an error\n  import sys\n/opt/conda/lib/python3.7/site-packages/ipykernel_launcher.py:7: FutureWarning: Pass y=[-0.03281671 -0.03062631 -0.01914869 ... -0.00760897 -0.0041437\n  0.        ], sr=22050 as keyword args. From version 0.10 passing these as positional arguments will result in an error\n  import sys\n/opt/conda/lib/python3.7/site-packages/ipykernel_launcher.py:7: FutureWarning: Pass y=[-9.83444552e-05 -1.05382336e-04 -5.32107842e-05 ...  7.08521169e-04\n  4.81251889e-04  0.00000000e+00], sr=22050 as keyword args. From version 0.10 passing these as positional arguments will result in an error\n  import sys\n/opt/conda/lib/python3.7/site-packages/ipykernel_launcher.py:7: FutureWarning: Pass y=[-0.00012906 -0.00032715 -0.00023344 ... -0.00063167 -0.00036531\n  0.        ], sr=22050 as keyword args. From version 0.10 passing these as positional arguments will result in an error\n  import sys\n 81%|████████  | 1132/1400 [00:29<00:06, 39.68it/s]/opt/conda/lib/python3.7/site-packages/ipykernel_launcher.py:7: FutureWarning: Pass y=[0.00038772 0.0003992  0.00044809 ... 0.00095002 0.00066798 0.        ], sr=22050 as keyword args. From version 0.10 passing these as positional arguments will result in an error\n  import sys\n/opt/conda/lib/python3.7/site-packages/ipykernel_launcher.py:7: FutureWarning: Pass y=[0.00064442 0.00219359 0.00159096 ... 0.00721698 0.00277785 0.        ], sr=22050 as keyword args. From version 0.10 passing these as positional arguments will result in an error\n  import sys\n/opt/conda/lib/python3.7/site-packages/ipykernel_launcher.py:7: FutureWarning: Pass y=[-0.00967505 -0.01154229 -0.01181312 ...  0.00995779  0.00593817\n  0.        ], sr=22050 as keyword args. From version 0.10 passing these as positional arguments will result in an error\n  import sys\n/opt/conda/lib/python3.7/site-packages/ipykernel_launcher.py:7: FutureWarning: Pass y=[-0.00073498 -0.00400019 -0.00656455 ...  0.00055654 -0.00149703\n  0.        ], sr=22050 as keyword args. From version 0.10 passing these as positional arguments will result in an error\n  import sys\n/opt/conda/lib/python3.7/site-packages/ipykernel_launcher.py:7: FutureWarning: Pass y=[-4.6871137e-05 -8.9816594e-06  1.9223327e-05 ... -2.9705637e-04\n -3.1645526e-04  0.0000000e+00], sr=22050 as keyword args. From version 0.10 passing these as positional arguments will result in an error\n  import sys\n 81%|████████  | 1137/1400 [00:29<00:06, 41.09it/s]/opt/conda/lib/python3.7/site-packages/ipykernel_launcher.py:7: FutureWarning: Pass y=[ 0.00899297  0.00978048  0.00804859 ... -0.02173888 -0.01820227\n -0.01052715], sr=22050 as keyword args. From version 0.10 passing these as positional arguments will result in an error\n  import sys\n/opt/conda/lib/python3.7/site-packages/ipykernel_launcher.py:7: FutureWarning: Pass y=[-0.00042136 -0.00123035 -0.00135782 ...  0.00083452  0.00045685\n  0.        ], sr=22050 as keyword args. From version 0.10 passing these as positional arguments will result in an error\n  import sys\n/opt/conda/lib/python3.7/site-packages/ipykernel_launcher.py:7: FutureWarning: Pass y=[-0.00866839 -0.00440815  0.00185543 ... -0.00986243 -0.00615387\n  0.        ], sr=22050 as keyword args. From version 0.10 passing these as positional arguments will result in an error\n  import sys\n/opt/conda/lib/python3.7/site-packages/ipykernel_launcher.py:7: FutureWarning: Pass y=[-2.0819416e-04 -9.9600271e-05  2.5104073e-05 ...  7.3305135e-05\n -8.0061109e-06  0.0000000e+00], sr=22050 as keyword args. From version 0.10 passing these as positional arguments will result in an error\n  import sys\n/opt/conda/lib/python3.7/site-packages/ipykernel_launcher.py:7: FutureWarning: Pass y=[ 0.00816202  0.01277229  0.01535373 ... -0.01386817 -0.01274068\n  0.        ], sr=22050 as keyword args. From version 0.10 passing these as positional arguments will result in an error\n  import sys\n 82%|████████▏ | 1142/1400 [00:29<00:06, 42.18it/s]/opt/conda/lib/python3.7/site-packages/ipykernel_launcher.py:7: FutureWarning: Pass y=[ 4.0855142e-04  3.2023474e-04  7.2197472e-05 ... -9.3961321e-04\n -6.3311984e-04  0.0000000e+00], sr=22050 as keyword args. From version 0.10 passing these as positional arguments will result in an error\n  import sys\n/opt/conda/lib/python3.7/site-packages/ipykernel_launcher.py:7: FutureWarning: Pass y=[-3.0853681e-04 -3.2019227e-05  3.9248579e-04 ... -1.0985002e-03\n -8.6668116e-04  0.0000000e+00], sr=22050 as keyword args. From version 0.10 passing these as positional arguments will result in an error\n  import sys\n/opt/conda/lib/python3.7/site-packages/ipykernel_launcher.py:7: FutureWarning: Pass y=[ 8.0887885e-06 -5.1606089e-06 -7.7509476e-06 ...  2.5666869e-04\n  1.5189814e-04  0.0000000e+00], sr=22050 as keyword args. From version 0.10 passing these as positional arguments will result in an error\n  import sys\n/opt/conda/lib/python3.7/site-packages/ipykernel_launcher.py:7: FutureWarning: Pass y=[-0.00011274 -0.00030763 -0.00049102 ...  0.00021455  0.00018908\n  0.        ], sr=22050 as keyword args. From version 0.10 passing these as positional arguments will result in an error\n  import sys\n/opt/conda/lib/python3.7/site-packages/ipykernel_launcher.py:7: FutureWarning: Pass y=[ 0.00020262  0.00022113  0.00013838 ... -0.00039451 -0.00049972\n  0.        ], sr=22050 as keyword args. From version 0.10 passing these as positional arguments will result in an error\n  import sys\n 82%|████████▏ | 1147/1400 [00:29<00:05, 42.82it/s]/opt/conda/lib/python3.7/site-packages/ipykernel_launcher.py:7: FutureWarning: Pass y=[ 0.00431438  0.00087037 -0.00257794 ...  0.00473359  0.00316356\n  0.        ], sr=22050 as keyword args. From version 0.10 passing these as positional arguments will result in an error\n  import sys\n/opt/conda/lib/python3.7/site-packages/ipykernel_launcher.py:7: FutureWarning: Pass y=[-0.00077888 -0.00444056 -0.00694422 ... -0.0016736   0.00180166\n  0.        ], sr=22050 as keyword args. From version 0.10 passing these as positional arguments will result in an error\n  import sys\n/opt/conda/lib/python3.7/site-packages/ipykernel_launcher.py:7: FutureWarning: Pass y=[ 0.00897025  0.01106628  0.01195106 ... -0.00763991 -0.00372095\n  0.        ], sr=22050 as keyword args. From version 0.10 passing these as positional arguments will result in an error\n  import sys\n/opt/conda/lib/python3.7/site-packages/ipykernel_launcher.py:7: FutureWarning: Pass y=[0.00897612 0.01053634 0.01044273 ... 0.0103106  0.00575485 0.        ], sr=22050 as keyword args. From version 0.10 passing these as positional arguments will result in an error\n  import sys\n/opt/conda/lib/python3.7/site-packages/ipykernel_launcher.py:7: FutureWarning: Pass y=[-0.01997872 -0.01305044 -0.00586329 ... -0.00037361  0.00342049\n  0.        ], sr=22050 as keyword args. From version 0.10 passing these as positional arguments will result in an error\n  import sys\n 82%|████████▏ | 1152/1400 [00:30<00:06, 39.99it/s]/opt/conda/lib/python3.7/site-packages/ipykernel_launcher.py:7: FutureWarning: Pass y=[ 0.00878438  0.00275927 -0.00368563 ...  0.00836978  0.00421204\n  0.        ], sr=22050 as keyword args. From version 0.10 passing these as positional arguments will result in an error\n  import sys\n/opt/conda/lib/python3.7/site-packages/ipykernel_launcher.py:7: FutureWarning: Pass y=[ 2.0899870e-04  2.6707049e-04  2.9754304e-04 ... -8.1213475e-05\n -8.6314409e-05  0.0000000e+00], sr=22050 as keyword args. From version 0.10 passing these as positional arguments will result in an error\n  import sys\n/opt/conda/lib/python3.7/site-packages/ipykernel_launcher.py:7: FutureWarning: Pass y=[ 0.00535065  0.00404727  0.00126265 ... -0.00482135 -0.00356176\n  0.        ], sr=22050 as keyword args. From version 0.10 passing these as positional arguments will result in an error\n  import sys\n/opt/conda/lib/python3.7/site-packages/ipykernel_launcher.py:7: FutureWarning: Pass y=[-0.00909998 -0.01079265 -0.01093914 ...  0.0085637   0.00517017\n  0.        ], sr=22050 as keyword args. From version 0.10 passing these as positional arguments will result in an error\n  import sys\n/opt/conda/lib/python3.7/site-packages/ipykernel_launcher.py:7: FutureWarning: Pass y=[ 2.5039852e-05  1.0424179e-04  2.1574202e-04 ... -3.0961368e-04\n -2.9898077e-04  0.0000000e+00], sr=22050 as keyword args. From version 0.10 passing these as positional arguments will result in an error\n  import sys\n 83%|████████▎ | 1157/1400 [00:30<00:06, 39.63it/s]/opt/conda/lib/python3.7/site-packages/ipykernel_launcher.py:7: FutureWarning: Pass y=[ 2.6076162e-04  7.7726421e-05 -1.7280357e-04 ... -2.6180159e-04\n -1.5957061e-04  0.0000000e+00], sr=22050 as keyword args. From version 0.10 passing these as positional arguments will result in an error\n  import sys\n/opt/conda/lib/python3.7/site-packages/ipykernel_launcher.py:7: FutureWarning: Pass y=[-0.00041149 -0.00051403 -0.00045676 ...  0.00066741  0.00037404\n  0.        ], sr=22050 as keyword args. From version 0.10 passing these as positional arguments will result in an error\n  import sys\n/opt/conda/lib/python3.7/site-packages/ipykernel_launcher.py:7: FutureWarning: Pass y=[6.0148467e-04 6.1840634e-04 4.4707407e-04 ... 3.0683144e-04 9.5273870e-05\n 0.0000000e+00], sr=22050 as keyword args. From version 0.10 passing these as positional arguments will result in an error\n  import sys\n/opt/conda/lib/python3.7/site-packages/ipykernel_launcher.py:7: FutureWarning: Pass y=[-0.00069991 -0.00075126 -0.00061699 ...  0.00068482  0.00032557\n  0.        ], sr=22050 as keyword args. From version 0.10 passing these as positional arguments will result in an error\n  import sys\n/opt/conda/lib/python3.7/site-packages/ipykernel_launcher.py:7: FutureWarning: Pass y=[-8.6100888e-05 -2.8725140e-04 -4.5144258e-04 ... -2.5247291e-04\n -1.9050876e-04  0.0000000e+00], sr=22050 as keyword args. From version 0.10 passing these as positional arguments will result in an error\n  import sys\n 83%|████████▎ | 1162/1400 [00:30<00:05, 41.59it/s]/opt/conda/lib/python3.7/site-packages/ipykernel_launcher.py:7: FutureWarning: Pass y=[-1.9722024e-04 -1.7381521e-04 -1.3998315e-04 ...  6.5992092e-05\n  2.3401532e-05  0.0000000e+00], sr=22050 as keyword args. From version 0.10 passing these as positional arguments will result in an error\n  import sys\n/opt/conda/lib/python3.7/site-packages/ipykernel_launcher.py:7: FutureWarning: Pass y=[ 3.8347953e-06 -2.9964468e-03 -6.2336717e-03 ... -9.7698020e-04\n  1.7026734e-03  0.0000000e+00], sr=22050 as keyword args. From version 0.10 passing these as positional arguments will result in an error\n  import sys\n/opt/conda/lib/python3.7/site-packages/ipykernel_launcher.py:7: FutureWarning: Pass y=[-0.01204526 -0.02130201 -0.02532943 ... -0.0095465  -0.00639807\n  0.        ], sr=22050 as keyword args. From version 0.10 passing these as positional arguments will result in an error\n  import sys\n/opt/conda/lib/python3.7/site-packages/ipykernel_launcher.py:7: FutureWarning: Pass y=[-2.7313520e-04 -2.5786209e-04 -2.1372164e-04 ...  9.8797602e-05\n  7.2695730e-05  0.0000000e+00], sr=22050 as keyword args. From version 0.10 passing these as positional arguments will result in an error\n  import sys\n/opt/conda/lib/python3.7/site-packages/ipykernel_launcher.py:7: FutureWarning: Pass y=[-2.8269269e-04 -2.3235689e-04 -1.3642291e-04 ... -1.5820880e-04\n -7.8680459e-05  0.0000000e+00], sr=22050 as keyword args. From version 0.10 passing these as positional arguments will result in an error\n  import sys\n 83%|████████▎ | 1167/1400 [00:30<00:05, 42.16it/s]/opt/conda/lib/python3.7/site-packages/ipykernel_launcher.py:7: FutureWarning: Pass y=[-0.00738048 -0.00493656 -0.001626   ... -0.00648284 -0.00667671\n  0.        ], sr=22050 as keyword args. From version 0.10 passing these as positional arguments will result in an error\n  import sys\n/opt/conda/lib/python3.7/site-packages/ipykernel_launcher.py:7: FutureWarning: Pass y=[-0.00032246 -0.00031592 -0.00026045 ... -0.00032934 -0.00026436\n  0.        ], sr=22050 as keyword args. From version 0.10 passing these as positional arguments will result in an error\n  import sys\n/opt/conda/lib/python3.7/site-packages/ipykernel_launcher.py:7: FutureWarning: Pass y=[-0.00057319 -0.00071507 -0.00071069 ... -0.00027889 -0.00013303\n  0.        ], sr=22050 as keyword args. From version 0.10 passing these as positional arguments will result in an error\n  import sys\n/opt/conda/lib/python3.7/site-packages/ipykernel_launcher.py:7: FutureWarning: Pass y=[ 4.11578658e-05  1.01925234e-05 -1.18918460e-05 ... -1.15511386e-04\n -9.50234171e-05  0.00000000e+00], sr=22050 as keyword args. From version 0.10 passing these as positional arguments will result in an error\n  import sys\n/opt/conda/lib/python3.7/site-packages/ipykernel_launcher.py:7: FutureWarning: Pass y=[-0.01103481 -0.01334671 -0.01390121 ...  0.00885263  0.00564063\n  0.        ], sr=22050 as keyword args. From version 0.10 passing these as positional arguments will result in an error\n  import sys\n 84%|████████▎ | 1172/1400 [00:30<00:05, 40.99it/s]/opt/conda/lib/python3.7/site-packages/ipykernel_launcher.py:7: FutureWarning: Pass y=[-0.00073616 -0.00089526 -0.0009056  ... -0.00065828 -0.00043589\n  0.        ], sr=22050 as keyword args. From version 0.10 passing these as positional arguments will result in an error\n  import sys\n/opt/conda/lib/python3.7/site-packages/ipykernel_launcher.py:7: FutureWarning: Pass y=[-0.00760643 -0.00879675 -0.00861507 ... -0.00765444 -0.00421113\n  0.        ], sr=22050 as keyword args. From version 0.10 passing these as positional arguments will result in an error\n  import sys\n/opt/conda/lib/python3.7/site-packages/ipykernel_launcher.py:7: FutureWarning: Pass y=[-0.00123783 -0.00140055 -0.00127716 ...  0.0013109   0.00073866\n  0.        ], sr=22050 as keyword args. From version 0.10 passing these as positional arguments will result in an error\n  import sys\n/opt/conda/lib/python3.7/site-packages/ipykernel_launcher.py:7: FutureWarning: Pass y=[-0.01677167 -0.02005167 -0.01864212 ... -0.0097168  -0.00682364\n  0.        ], sr=22050 as keyword args. From version 0.10 passing these as positional arguments will result in an error\n  import sys\n/opt/conda/lib/python3.7/site-packages/ipykernel_launcher.py:7: FutureWarning: Pass y=[-0.01431946 -0.01237628 -0.00965582 ... -0.00646901 -0.00318526\n  0.        ], sr=22050 as keyword args. From version 0.10 passing these as positional arguments will result in an error\n  import sys\n 84%|████████▍ | 1177/1400 [00:30<00:05, 41.08it/s]/opt/conda/lib/python3.7/site-packages/ipykernel_launcher.py:7: FutureWarning: Pass y=[-0.0432483  -0.02857936 -0.00053534 ...  0.00945276  0.00617147\n  0.        ], sr=22050 as keyword args. From version 0.10 passing these as positional arguments will result in an error\n  import sys\n/opt/conda/lib/python3.7/site-packages/ipykernel_launcher.py:7: FutureWarning: Pass y=[ 0.00017194  0.0002248   0.00017799 ... -0.00038651 -0.00032313\n  0.        ], sr=22050 as keyword args. From version 0.10 passing these as positional arguments will result in an error\n  import sys\n/opt/conda/lib/python3.7/site-packages/ipykernel_launcher.py:7: FutureWarning: Pass y=[8.7624103e-05 2.3313434e-04 3.0201543e-04 ... 3.6708247e-05 7.8034493e-05\n 0.0000000e+00], sr=22050 as keyword args. From version 0.10 passing these as positional arguments will result in an error\n  import sys\n/opt/conda/lib/python3.7/site-packages/ipykernel_launcher.py:7: FutureWarning: Pass y=[-0.1723858  -0.17114532 -0.14269668 ... -0.01356803 -0.01116779\n  0.        ], sr=22050 as keyword args. From version 0.10 passing these as positional arguments will result in an error\n  import sys\n/opt/conda/lib/python3.7/site-packages/ipykernel_launcher.py:7: FutureWarning: Pass y=[ 1.02227474e-04  4.35868205e-05 -3.20037943e-05 ... -2.21681199e-04\n -1.88043385e-04  0.00000000e+00], sr=22050 as keyword args. From version 0.10 passing these as positional arguments will result in an error\n  import sys\n 84%|████████▍ | 1182/1400 [00:30<00:05, 41.39it/s]/opt/conda/lib/python3.7/site-packages/ipykernel_launcher.py:7: FutureWarning: Pass y=[-0.00744168 -0.00830889 -0.00832316 ... -0.00793158 -0.00558981\n  0.        ], sr=22050 as keyword args. From version 0.10 passing these as positional arguments will result in an error\n  import sys\n/opt/conda/lib/python3.7/site-packages/ipykernel_launcher.py:7: FutureWarning: Pass y=[ 2.6230724e-04  2.2983702e-04  9.4244133e-05 ...  1.4207098e-05\n -1.4638265e-05  0.0000000e+00], sr=22050 as keyword args. From version 0.10 passing these as positional arguments will result in an error\n  import sys\n/opt/conda/lib/python3.7/site-packages/ipykernel_launcher.py:7: FutureWarning: Pass y=[ 4.9470895e-05 -2.6827509e-05 -8.3600935e-05 ... -2.6312118e-04\n -1.2209453e-04  0.0000000e+00], sr=22050 as keyword args. From version 0.10 passing these as positional arguments will result in an error\n  import sys\n/opt/conda/lib/python3.7/site-packages/ipykernel_launcher.py:7: FutureWarning: Pass y=[-0.00227636 -0.00668771 -0.0075117  ... -0.00503343 -0.00168933\n  0.        ], sr=22050 as keyword args. From version 0.10 passing these as positional arguments will result in an error\n  import sys\n/opt/conda/lib/python3.7/site-packages/ipykernel_launcher.py:7: FutureWarning: Pass y=[-0.01116811 -0.01377193 -0.01466458 ... -0.00802489 -0.00428819\n  0.        ], sr=22050 as keyword args. From version 0.10 passing these as positional arguments will result in an error\n  import sys\n 85%|████████▍ | 1187/1400 [00:30<00:05, 42.10it/s]/opt/conda/lib/python3.7/site-packages/ipykernel_launcher.py:7: FutureWarning: Pass y=[0.00019806 0.00035628 0.00046915 ... 0.00061642 0.00037356 0.        ], sr=22050 as keyword args. From version 0.10 passing these as positional arguments will result in an error\n  import sys\n/opt/conda/lib/python3.7/site-packages/ipykernel_launcher.py:7: FutureWarning: Pass y=[-0.00923839 -0.01109809 -0.01148325 ... -0.0092843  -0.00657158\n  0.        ], sr=22050 as keyword args. From version 0.10 passing these as positional arguments will result in an error\n  import sys\n/opt/conda/lib/python3.7/site-packages/ipykernel_launcher.py:7: FutureWarning: Pass y=[ 0.00865421  0.01319913  0.01520614 ... -0.01381252 -0.00876158\n  0.        ], sr=22050 as keyword args. From version 0.10 passing these as positional arguments will result in an error\n  import sys\n/opt/conda/lib/python3.7/site-packages/ipykernel_launcher.py:7: FutureWarning: Pass y=[ 0.00022408  0.00028231  0.00035736 ... -0.00018833 -0.00013782\n  0.        ], sr=22050 as keyword args. From version 0.10 passing these as positional arguments will result in an error\n  import sys\n/opt/conda/lib/python3.7/site-packages/ipykernel_launcher.py:7: FutureWarning: Pass y=[-0.00027579 -0.00031114 -0.00029267 ...  0.00049382  0.00027761\n  0.        ], sr=22050 as keyword args. From version 0.10 passing these as positional arguments will result in an error\n  import sys\n 85%|████████▌ | 1192/1400 [00:31<00:04, 41.95it/s]/opt/conda/lib/python3.7/site-packages/ipykernel_launcher.py:7: FutureWarning: Pass y=[-0.00717374 -0.00627947 -0.00647253 ... -0.00034341 -0.00185525\n  0.        ], sr=22050 as keyword args. From version 0.10 passing these as positional arguments will result in an error\n  import sys\n/opt/conda/lib/python3.7/site-packages/ipykernel_launcher.py:7: FutureWarning: Pass y=[ 0.00106579  0.00064668 -0.00022141 ... -0.00096066 -0.00119478\n  0.        ], sr=22050 as keyword args. From version 0.10 passing these as positional arguments will result in an error\n  import sys\n/opt/conda/lib/python3.7/site-packages/ipykernel_launcher.py:7: FutureWarning: Pass y=[-0.00109596 -0.00361588 -0.00576765 ... -0.00069445  0.0024558\n  0.        ], sr=22050 as keyword args. From version 0.10 passing these as positional arguments will result in an error\n  import sys\n/opt/conda/lib/python3.7/site-packages/ipykernel_launcher.py:7: FutureWarning: Pass y=[ 0.0003392   0.0003048   0.00023578 ... -0.00054997 -0.00030559\n  0.        ], sr=22050 as keyword args. From version 0.10 passing these as positional arguments will result in an error\n  import sys\n/opt/conda/lib/python3.7/site-packages/ipykernel_launcher.py:7: FutureWarning: Pass y=[ 0.00020237  0.00016728  0.00010463 ... -0.00016708 -0.00011606\n  0.        ], sr=22050 as keyword args. From version 0.10 passing these as positional arguments will result in an error\n  import sys\n 86%|████████▌ | 1197/1400 [00:31<00:04, 40.95it/s]/opt/conda/lib/python3.7/site-packages/ipykernel_launcher.py:7: FutureWarning: Pass y=[ 0.00102779  0.00122339  0.00135471 ... -0.00161985 -0.00110772\n  0.        ], sr=22050 as keyword args. From version 0.10 passing these as positional arguments will result in an error\n  import sys\n/opt/conda/lib/python3.7/site-packages/ipykernel_launcher.py:7: FutureWarning: Pass y=[ 1.5309600e-03  2.0408090e-03  2.0324921e-03 ... -5.9558519e-05\n -1.1119561e-04  0.0000000e+00], sr=22050 as keyword args. From version 0.10 passing these as positional arguments will result in an error\n  import sys\n/opt/conda/lib/python3.7/site-packages/ipykernel_launcher.py:7: FutureWarning: Pass y=[7.5382697e-05 1.9821823e-04 2.6601276e-04 ... 7.5808953e-04 5.7997351e-04\n 0.0000000e+00], sr=22050 as keyword args. From version 0.10 passing these as positional arguments will result in an error\n  import sys\n/opt/conda/lib/python3.7/site-packages/ipykernel_launcher.py:7: FutureWarning: Pass y=[-0.0077113  -0.00487177 -0.001192   ... -0.00039529  0.00202479\n  0.        ], sr=22050 as keyword args. From version 0.10 passing these as positional arguments will result in an error\n  import sys\n/opt/conda/lib/python3.7/site-packages/ipykernel_launcher.py:7: FutureWarning: Pass y=[ 9.5773117e-05  8.8416185e-05  1.2125244e-04 ... -2.2992268e-04\n -7.3984767e-05  0.0000000e+00], sr=22050 as keyword args. From version 0.10 passing these as positional arguments will result in an error\n  import sys\n 86%|████████▌ | 1202/1400 [00:31<00:04, 41.48it/s]/opt/conda/lib/python3.7/site-packages/ipykernel_launcher.py:7: FutureWarning: Pass y=[-0.00031422 -0.00038577 -0.00038623 ...  0.0003507   0.00023384\n  0.        ], sr=22050 as keyword args. From version 0.10 passing these as positional arguments will result in an error\n  import sys\n/opt/conda/lib/python3.7/site-packages/ipykernel_launcher.py:7: FutureWarning: Pass y=[0.00112369 0.00099326 0.0006082  ... 0.00134654 0.00097921 0.        ], sr=22050 as keyword args. From version 0.10 passing these as positional arguments will result in an error\n  import sys\n/opt/conda/lib/python3.7/site-packages/ipykernel_launcher.py:7: FutureWarning: Pass y=[ 1.2010315e-04  9.3736140e-05  1.4149670e-05 ... -7.5334153e-04\n -3.5954898e-04  0.0000000e+00], sr=22050 as keyword args. From version 0.10 passing these as positional arguments will result in an error\n  import sys\n/opt/conda/lib/python3.7/site-packages/ipykernel_launcher.py:7: FutureWarning: Pass y=[-0.00913383 -0.01095033 -0.01134212 ... -0.00811925 -0.00437534\n  0.        ], sr=22050 as keyword args. From version 0.10 passing these as positional arguments will result in an error\n  import sys\n/opt/conda/lib/python3.7/site-packages/ipykernel_launcher.py:7: FutureWarning: Pass y=[ 0.00114947  0.00056719 -0.00027728 ... -0.00049019 -0.00027294\n  0.        ], sr=22050 as keyword args. From version 0.10 passing these as positional arguments will result in an error\n  import sys\n 86%|████████▌ | 1207/1400 [00:31<00:04, 41.26it/s]/opt/conda/lib/python3.7/site-packages/ipykernel_launcher.py:7: FutureWarning: Pass y=[-0.01016365 -0.01188899 -0.01171624 ... -0.01006979 -0.00727286\n  0.        ], sr=22050 as keyword args. From version 0.10 passing these as positional arguments will result in an error\n  import sys\n/opt/conda/lib/python3.7/site-packages/ipykernel_launcher.py:7: FutureWarning: Pass y=[-1.58237177e-04 -8.56319457e-05  3.93578830e-06 ... -1.15124916e-04\n -1.75137029e-05  0.00000000e+00], sr=22050 as keyword args. From version 0.10 passing these as positional arguments will result in an error\n  import sys\n/opt/conda/lib/python3.7/site-packages/ipykernel_launcher.py:7: FutureWarning: Pass y=[0.0095766  0.01123803 0.01115651 ... 0.00924255 0.006117   0.        ], sr=22050 as keyword args. From version 0.10 passing these as positional arguments will result in an error\n  import sys\n/opt/conda/lib/python3.7/site-packages/ipykernel_launcher.py:7: FutureWarning: Pass y=[-2.0948228e-04 -2.1188620e-04 -2.4590219e-04 ...  9.4247305e-05\n  3.9720639e-05  0.0000000e+00], sr=22050 as keyword args. From version 0.10 passing these as positional arguments will result in an error\n  import sys\n/opt/conda/lib/python3.7/site-packages/ipykernel_launcher.py:7: FutureWarning: Pass y=[0.0090341  0.01089348 0.01128546 ... 0.00858076 0.00503511 0.        ], sr=22050 as keyword args. From version 0.10 passing these as positional arguments will result in an error\n  import sys\n 87%|████████▋ | 1212/1400 [00:31<00:04, 41.21it/s]/opt/conda/lib/python3.7/site-packages/ipykernel_launcher.py:7: FutureWarning: Pass y=[-0.01115875 -0.00522426  0.00248694 ...  0.00891507  0.00542385\n  0.        ], sr=22050 as keyword args. From version 0.10 passing these as positional arguments will result in an error\n  import sys\n/opt/conda/lib/python3.7/site-packages/ipykernel_launcher.py:7: FutureWarning: Pass y=[ 0.00099888  0.00024551 -0.0006659  ... -0.00028265 -0.00121036\n  0.        ], sr=22050 as keyword args. From version 0.10 passing these as positional arguments will result in an error\n  import sys\n/opt/conda/lib/python3.7/site-packages/ipykernel_launcher.py:7: FutureWarning: Pass y=[-1.4705602e-02 -1.6833592e-02 -1.7048221e-02 ... -5.9184000e-05\n -1.0945675e-03  0.0000000e+00], sr=22050 as keyword args. From version 0.10 passing these as positional arguments will result in an error\n  import sys\n/opt/conda/lib/python3.7/site-packages/ipykernel_launcher.py:7: FutureWarning: Pass y=[-2.0886879e-05 -7.0446564e-05 -1.4305381e-04 ... -3.0362235e-05\n -5.8694350e-05  0.0000000e+00], sr=22050 as keyword args. From version 0.10 passing these as positional arguments will result in an error\n  import sys\n/opt/conda/lib/python3.7/site-packages/ipykernel_launcher.py:7: FutureWarning: Pass y=[ 3.6726671e-04 -2.5289855e-05 -3.2224803e-04 ...  2.2387662e-04\n  2.3874290e-04  0.0000000e+00], sr=22050 as keyword args. From version 0.10 passing these as positional arguments will result in an error\n  import sys\n 87%|████████▋ | 1217/1400 [00:31<00:04, 41.93it/s]/opt/conda/lib/python3.7/site-packages/ipykernel_launcher.py:7: FutureWarning: Pass y=[-0.00786173 -0.00911168 -0.00897455 ...  0.0073811   0.00363052\n  0.        ], sr=22050 as keyword args. From version 0.10 passing these as positional arguments will result in an error\n  import sys\n/opt/conda/lib/python3.7/site-packages/ipykernel_launcher.py:7: FutureWarning: Pass y=[ 3.6271760e-04  2.2202831e-04  8.6560649e-05 ... -1.9258351e-04\n -2.2791352e-04  0.0000000e+00], sr=22050 as keyword args. From version 0.10 passing these as positional arguments will result in an error\n  import sys\n/opt/conda/lib/python3.7/site-packages/ipykernel_launcher.py:7: FutureWarning: Pass y=[-0.00481509 -0.00556175 -0.00555544 ...  0.00514527  0.00310001\n  0.        ], sr=22050 as keyword args. From version 0.10 passing these as positional arguments will result in an error\n  import sys\n/opt/conda/lib/python3.7/site-packages/ipykernel_launcher.py:7: FutureWarning: Pass y=[-5.0009065e-05 -7.1410795e-05 -6.8811685e-05 ... -8.1650964e-05\n -6.5079999e-05  0.0000000e+00], sr=22050 as keyword args. From version 0.10 passing these as positional arguments will result in an error\n  import sys\n/opt/conda/lib/python3.7/site-packages/ipykernel_launcher.py:7: FutureWarning: Pass y=[-0.00051423 -0.00046596 -0.0003045  ... -0.00141899 -0.00112135\n  0.        ], sr=22050 as keyword args. From version 0.10 passing these as positional arguments will result in an error\n  import sys\n 87%|████████▋ | 1222/1400 [00:31<00:04, 41.94it/s]/opt/conda/lib/python3.7/site-packages/ipykernel_launcher.py:7: FutureWarning: Pass y=[-0.01047174 -0.01255379 -0.01275152 ... -0.00980894 -0.00584391\n  0.        ], sr=22050 as keyword args. From version 0.10 passing these as positional arguments will result in an error\n  import sys\n/opt/conda/lib/python3.7/site-packages/ipykernel_launcher.py:7: FutureWarning: Pass y=[-0.01066535 -0.01303716 -0.01384184 ... -0.00742254 -0.00378853\n  0.        ], sr=22050 as keyword args. From version 0.10 passing these as positional arguments will result in an error\n  import sys\n/opt/conda/lib/python3.7/site-packages/ipykernel_launcher.py:7: FutureWarning: Pass y=[ 0.01151333  0.01459086  0.01590026 ... -0.00735763 -0.0037857\n  0.        ], sr=22050 as keyword args. From version 0.10 passing these as positional arguments will result in an error\n  import sys\n/opt/conda/lib/python3.7/site-packages/ipykernel_launcher.py:7: FutureWarning: Pass y=[ 0.01043056  0.00944298  0.00634827 ... -0.00878746 -0.00540559\n  0.        ], sr=22050 as keyword args. From version 0.10 passing these as positional arguments will result in an error\n  import sys\n/opt/conda/lib/python3.7/site-packages/ipykernel_launcher.py:7: FutureWarning: Pass y=[-3.1098025e-04 -3.0997346e-04 -1.6604051e-04 ...  9.7903336e-05\n  5.4940716e-05  0.0000000e+00], sr=22050 as keyword args. From version 0.10 passing these as positional arguments will result in an error\n  import sys\n 88%|████████▊ | 1227/1400 [00:31<00:04, 38.64it/s]/opt/conda/lib/python3.7/site-packages/ipykernel_launcher.py:7: FutureWarning: Pass y=[-0.02592209 -0.01578292  0.00109502 ...  0.00895097  0.00601621\n  0.        ], sr=22050 as keyword args. From version 0.10 passing these as positional arguments will result in an error\n  import sys\n/opt/conda/lib/python3.7/site-packages/ipykernel_launcher.py:7: FutureWarning: Pass y=[-0.04517221 -0.03577473 -0.01548363 ... -0.00848582 -0.0064045\n  0.        ], sr=22050 as keyword args. From version 0.10 passing these as positional arguments will result in an error\n  import sys\n/opt/conda/lib/python3.7/site-packages/ipykernel_launcher.py:7: FutureWarning: Pass y=[-0.0076223  -0.00454437 -0.00097579 ... -0.00775916 -0.00725546\n  0.        ], sr=22050 as keyword args. From version 0.10 passing these as positional arguments will result in an error\n  import sys\n/opt/conda/lib/python3.7/site-packages/ipykernel_launcher.py:7: FutureWarning: Pass y=[-1.3518594e-05  8.8225279e-06  3.7699931e-05 ...  1.9100329e-04\n  1.8032924e-04  0.0000000e+00], sr=22050 as keyword args. From version 0.10 passing these as positional arguments will result in an error\n  import sys\n 88%|████████▊ | 1231/1400 [00:32<00:05, 32.28it/s]/opt/conda/lib/python3.7/site-packages/ipykernel_launcher.py:7: FutureWarning: Pass y=[-1.9998854e-04 -2.6064366e-05  2.2682217e-04 ... -2.2850886e-04\n -1.3927920e-04  0.0000000e+00], sr=22050 as keyword args. From version 0.10 passing these as positional arguments will result in an error\n  import sys\n/opt/conda/lib/python3.7/site-packages/ipykernel_launcher.py:7: FutureWarning: Pass y=[ 1.37696925e-05 -4.78821539e-06 -3.27374983e-05 ... -2.19389840e-05\n -5.02847661e-06  0.00000000e+00], sr=22050 as keyword args. From version 0.10 passing these as positional arguments will result in an error\n  import sys\n/opt/conda/lib/python3.7/site-packages/ipykernel_launcher.py:7: FutureWarning: Pass y=[0.00674249 0.00330852 0.00072355 ... 0.00079697 0.00098857 0.        ], sr=22050 as keyword args. From version 0.10 passing these as positional arguments will result in an error\n  import sys\n/opt/conda/lib/python3.7/site-packages/ipykernel_launcher.py:7: FutureWarning: Pass y=[-0.0055568  -0.00333215 -0.00207089 ... -0.0071408  -0.0072894\n  0.        ], sr=22050 as keyword args. From version 0.10 passing these as positional arguments will result in an error\n  import sys\n 88%|████████▊ | 1235/1400 [00:32<00:05, 30.11it/s]/opt/conda/lib/python3.7/site-packages/ipykernel_launcher.py:7: FutureWarning: Pass y=[-0.01284128 -0.01368056 -0.00997524 ... -0.00958921 -0.00656564\n  0.        ], sr=22050 as keyword args. From version 0.10 passing these as positional arguments will result in an error\n  import sys\n/opt/conda/lib/python3.7/site-packages/ipykernel_launcher.py:7: FutureWarning: Pass y=[-0.01005262 -0.00959069 -0.00574929 ... -0.00757405 -0.00405078\n  0.        ], sr=22050 as keyword args. From version 0.10 passing these as positional arguments will result in an error\n  import sys\n/opt/conda/lib/python3.7/site-packages/ipykernel_launcher.py:7: FutureWarning: Pass y=[-2.2113198e-04 -4.8770595e-04 -3.9918913e-04 ... -6.6696157e-05\n -4.3962125e-04  0.0000000e+00], sr=22050 as keyword args. From version 0.10 passing these as positional arguments will result in an error\n  import sys\n/opt/conda/lib/python3.7/site-packages/ipykernel_launcher.py:7: FutureWarning: Pass y=[ 2.1424158e-04  3.0247474e-04  2.8139455e-04 ...  1.6235836e-05\n -1.4786323e-04  0.0000000e+00], sr=22050 as keyword args. From version 0.10 passing these as positional arguments will result in an error\n  import sys\n 88%|████████▊ | 1239/1400 [00:32<00:05, 28.18it/s]/opt/conda/lib/python3.7/site-packages/ipykernel_launcher.py:7: FutureWarning: Pass y=[-0.01152756 -0.01109664 -0.0075165  ... -0.00835872 -0.00505847\n  0.        ], sr=22050 as keyword args. From version 0.10 passing these as positional arguments will result in an error\n  import sys\n/opt/conda/lib/python3.7/site-packages/ipykernel_launcher.py:7: FutureWarning: Pass y=[0.00094479 0.00098083 0.00090088 ... 0.00121628 0.0008421  0.        ], sr=22050 as keyword args. From version 0.10 passing these as positional arguments will result in an error\n  import sys\n/opt/conda/lib/python3.7/site-packages/ipykernel_launcher.py:7: FutureWarning: Pass y=[-4.3083466e-05 -9.4545481e-05  3.6713976e-07 ... -4.8317688e-05\n -2.9102497e-05  0.0000000e+00], sr=22050 as keyword args. From version 0.10 passing these as positional arguments will result in an error\n  import sys\n/opt/conda/lib/python3.7/site-packages/ipykernel_launcher.py:7: FutureWarning: Pass y=[-0.00753477 -0.00664455 -0.00328012 ... -0.00730806 -0.00578664\n  0.        ], sr=22050 as keyword args. From version 0.10 passing these as positional arguments will result in an error\n  import sys\n 89%|████████▉ | 1243/1400 [00:32<00:05, 30.53it/s]/opt/conda/lib/python3.7/site-packages/ipykernel_launcher.py:7: FutureWarning: Pass y=[-0.0120688  -0.01922482 -0.023686   ...  0.01012542  0.00706976\n  0.        ], sr=22050 as keyword args. From version 0.10 passing these as positional arguments will result in an error\n  import sys\n/opt/conda/lib/python3.7/site-packages/ipykernel_launcher.py:7: FutureWarning: Pass y=[-1.0041164e-04 -6.0760878e-05  6.5594286e-06 ...  9.7064789e-05\n  1.1263467e-04  0.0000000e+00], sr=22050 as keyword args. From version 0.10 passing these as positional arguments will result in an error\n  import sys\n/opt/conda/lib/python3.7/site-packages/ipykernel_launcher.py:7: FutureWarning: Pass y=[ 2.9009494e-05  1.4545098e-05 -3.6477952e-04 ... -5.7965855e-04\n -2.5542142e-04  0.0000000e+00], sr=22050 as keyword args. From version 0.10 passing these as positional arguments will result in an error\n  import sys\n/opt/conda/lib/python3.7/site-packages/ipykernel_launcher.py:7: FutureWarning: Pass y=[-0.00146065 -0.00567635 -0.00740046 ... -0.00448972  0.00025776\n  0.        ], sr=22050 as keyword args. From version 0.10 passing these as positional arguments will result in an error\n  import sys\n/opt/conda/lib/python3.7/site-packages/ipykernel_launcher.py:7: FutureWarning: Pass y=[ 0.00538323  0.0045706   0.00249769 ... -0.00483312 -0.00329084\n  0.        ], sr=22050 as keyword args. From version 0.10 passing these as positional arguments will result in an error\n  import sys\n 89%|████████▉ | 1248/1400 [00:32<00:04, 32.75it/s]/opt/conda/lib/python3.7/site-packages/ipykernel_launcher.py:7: FutureWarning: Pass y=[-0.01171384 -0.01569892 -0.01837226 ...  0.01017752  0.00750456\n  0.        ], sr=22050 as keyword args. From version 0.10 passing these as positional arguments will result in an error\n  import sys\n",
          "output_type": "stream"
        }
      ]
    },
    {
      "cell_type": "code",
      "source": [
        "print(len(a1))\n",
        "print(len(a2))\n",
        "print(len(b1))\n",
        "print(len(b2))"
      ],
      "metadata": {
        "id": "vuWlVZRKsbv6",
        "outputId": "6604b1b2-063b-469e-d3ba-d83f3c227f65",
        "execution": {
          "iopub.status.busy": "2022-05-19T19:39:11.559883Z",
          "iopub.execute_input": "2022-05-19T19:39:11.560234Z",
          "iopub.status.idle": "2022-05-19T19:39:11.566249Z",
          "shell.execute_reply.started": "2022-05-19T19:39:11.560201Z",
          "shell.execute_reply": "2022-05-19T19:39:11.565560Z"
        },
        "trusted": true
      },
      "execution_count": null,
      "outputs": [
        {
          "name": "stdout",
          "text": "1400\n1400\n600\n600\n",
          "output_type": "stream"
        }
      ]
    },
    {
      "cell_type": "code",
      "source": [
        "X_train_processed=pd.DataFrame()\n",
        "X_test_processed=pd.DataFrame()\n",
        "X_train_processed['raw_data']=a1\n",
        "X_train_processed['duration']=a2\n",
        "X_test_processed['raw_data']=b1\n",
        "X_test_processed['duration']=b2"
      ],
      "metadata": {
        "id": "JV1Wf08Ssb2n",
        "execution": {
          "iopub.status.busy": "2022-05-19T19:39:11.574823Z",
          "iopub.execute_input": "2022-05-19T19:39:11.575284Z",
          "iopub.status.idle": "2022-05-19T19:39:11.587574Z",
          "shell.execute_reply.started": "2022-05-19T19:39:11.575254Z",
          "shell.execute_reply": "2022-05-19T19:39:11.586756Z"
        },
        "trusted": true
      },
      "execution_count": null,
      "outputs": []
    },
    {
      "cell_type": "code",
      "source": [
        "#plot the histogram of the duration for trian\n",
        "X_train_processed.hist(column='duration')"
      ],
      "metadata": {
        "id": "duQZPQevaNno",
        "outputId": "e2085a2e-32ba-4f62-ffff-2b353964f06c",
        "execution": {
          "iopub.status.busy": "2022-05-19T19:39:11.589230Z",
          "iopub.execute_input": "2022-05-19T19:39:11.590134Z",
          "iopub.status.idle": "2022-05-19T19:39:11.785915Z",
          "shell.execute_reply.started": "2022-05-19T19:39:11.590073Z",
          "shell.execute_reply": "2022-05-19T19:39:11.785240Z"
        },
        "trusted": true
      },
      "execution_count": null,
      "outputs": [
        {
          "execution_count": 72,
          "output_type": "execute_result",
          "data": {
            "text/plain": "array([[<AxesSubplot:title={'center':'duration'}>]], dtype=object)"
          },
          "metadata": {}
        },
        {
          "output_type": "display_data",
          "data": {
            "text/plain": "<Figure size 432x288 with 1 Axes>",
            "image/png": "[encoded data removed]"
          },
          "metadata": {
            "needs_background": "light"
          }
        }
      ]
    },
    {
      "cell_type": "code",
      "source": [
        "#plot the histogram of the duration for trian\n",
        "#plot the histogram of the duration for trian\n",
        "X_test_processed.hist(column='duration')"
      ],
      "metadata": {
        "id": "wE5SDRzSaNns",
        "outputId": "51741a71-3acf-4491-a12f-2b2a4651385e",
        "execution": {
          "iopub.status.busy": "2022-05-19T19:39:11.787295Z",
          "iopub.execute_input": "2022-05-19T19:39:11.788063Z",
          "iopub.status.idle": "2022-05-19T19:39:12.001664Z",
          "shell.execute_reply.started": "2022-05-19T19:39:11.788025Z",
          "shell.execute_reply": "2022-05-19T19:39:12.001016Z"
        },
        "trusted": true
      },
      "execution_count": null,
      "outputs": [
        {
          "execution_count": 73,
          "output_type": "execute_result",
          "data": {
            "text/plain": "array([[<AxesSubplot:title={'center':'duration'}>]], dtype=object)"
          },
          "metadata": {}
        },
        {
          "output_type": "display_data",
          "data": {
            "text/plain": "<Figure size 432x288 with 1 Axes>",
            "image/png": "[encoded data removed]"
          },
          "metadata": {
            "needs_background": "light"
          }
        }
      ]
    },
    {
      "cell_type": "code",
      "source": [
        "#print 0 to 100 percentile values with step size of 10 for train data duration. \n",
        "#print 0 to 100 percentile values with step size of 10 for train data duration.\n",
        "import numpy as np\n",
        "for i in range(0,101,10):\n",
        "  if i%10==0:\n",
        "    print(i,' th percentile is : ',np.percentile(X_train_processed['duration'], i))"
      ],
      "metadata": {
        "id": "vvLhm1AqaNny",
        "outputId": "7d44f34b-ed75-4eed-8722-48235ce3c965",
        "execution": {
          "iopub.status.busy": "2022-05-19T19:39:12.002868Z",
          "iopub.execute_input": "2022-05-19T19:39:12.003183Z",
          "iopub.status.idle": "2022-05-19T19:39:12.019940Z",
          "shell.execute_reply.started": "2022-05-19T19:39:12.003146Z",
          "shell.execute_reply": "2022-05-19T19:39:12.019041Z"
        },
        "trusted": true
      },
      "execution_count": null,
      "outputs": [
        {
          "name": "stdout",
          "text": "0  th percentile is :  0.1435374149659864\n10  th percentile is :  0.2591020408163265\n20  th percentile is :  0.297750566893424\n30  th percentile is :  0.33048072562358277\n40  th percentile is :  0.35586394557823126\n50  th percentile is :  0.38589569160997733\n60  th percentile is :  0.413124716553288\n70  th percentile is :  0.4444671201814059\n80  th percentile is :  0.4813424036281179\n90  th percentile is :  0.5528934240362812\n100  th percentile is :  2.282766439909297\n",
          "output_type": "stream"
        }
      ]
    },
    {
      "cell_type": "code",
      "source": [
        "##print 90 to 100 percentile values with step size of 1. \n",
        "for i in range(90,101):\n",
        "  print(i,' th percentile is : ',np.percentile(X_train_processed['duration'], i))"
      ],
      "metadata": {
        "id": "rSlVQh4CaNn2",
        "outputId": "cc88ff77-3c04-4b89-bb12-8906177b551f",
        "execution": {
          "iopub.status.busy": "2022-05-19T19:39:12.022195Z",
          "iopub.execute_input": "2022-05-19T19:39:12.022467Z",
          "iopub.status.idle": "2022-05-19T19:39:12.036362Z",
          "shell.execute_reply.started": "2022-05-19T19:39:12.022430Z",
          "shell.execute_reply": "2022-05-19T19:39:12.035445Z"
        },
        "trusted": true
      },
      "execution_count": null,
      "outputs": [
        {
          "name": "stdout",
          "text": "90  th percentile is :  0.5528934240362812\n91  th percentile is :  0.561917006802721\n92  th percentile is :  0.5759256235827664\n93  th percentile is :  0.5915578231292521\n94  th percentile is :  0.6101587301587301\n95  th percentile is :  0.622421768707483\n96  th percentile is :  0.6385142857142857\n97  th percentile is :  0.6582875283446712\n98  th percentile is :  0.6883972789115647\n99  th percentile is :  0.7654394557823128\n100  th percentile is :  2.282766439909297\n",
          "output_type": "stream"
        }
      ]
    },
    {
      "cell_type": "markdown",
      "source": [
        "<font size=4>Grader function 4 </font>"
      ],
      "metadata": {
        "id": "JbMb4Y0RaNoA"
      }
    },
    {
      "cell_type": "code",
      "source": [
        "def grader_processed():\n",
        "    flag_columns = (all(X_train_processed.columns==['raw_data', 'duration'])) and (all(X_test_processed.columns==['raw_data', 'duration']))\n",
        "    flag_shape = (X_train_processed.shape ==(1400, 2)) and (X_test_processed.shape==(600,2))\n",
        "    return flag_columns and flag_shape\n",
        "grader_processed()"
      ],
      "metadata": {
        "id": "UMoyLLSAaNoF",
        "outputId": "619f6d19-7dc1-4f03-be43-d22b58b1102e",
        "execution": {
          "iopub.status.busy": "2022-05-19T19:39:12.038021Z",
          "iopub.execute_input": "2022-05-19T19:39:12.038277Z",
          "iopub.status.idle": "2022-05-19T19:39:12.046418Z",
          "shell.execute_reply.started": "2022-05-19T19:39:12.038242Z",
          "shell.execute_reply": "2022-05-19T19:39:12.045541Z"
        },
        "trusted": true
      },
      "execution_count": null,
      "outputs": [
        {
          "execution_count": 76,
          "output_type": "execute_result",
          "data": {
            "text/plain": "True"
          },
          "metadata": {}
        }
      ]
    },
    {
      "cell_type": "markdown",
      "source": [
        "<b>Based on our analysis 99 percentile values are less than 0.8sec so we will limit maximum length of X_train_processed and X_test_processed to 0.8 sec. It is similar to pad_sequence for a text dataset.</b>\n",
        "\n",
        "<b>While loading the audio files, we are using sampling rate of 22050 so one sec will give array of length 22050. so, our maximum length is 0.8*22050 = 17640\n",
        "</b>\n",
        "<b>Pad with Zero if length of sequence is less than 17640 else Truncate the number. </b>\n",
        "\n",
        "<b> Also create a masking vector for train and test. </b>\n",
        "\n",
        "<b> masking vector value = 1 if it is real value, 0 if it is pad value. Masking vector data type must be bool.</b>\n"
      ],
      "metadata": {
        "id": "Cux3_jfcaNoM"
      }
    },
    {
      "cell_type": "code",
      "source": [
        "import tensorflow as tf\n",
        "from tensorflow import keras\n",
        "from tensorflow.keras import layers\n",
        "from tensorflow.keras.layers import Dense,Input,Activation,BatchNormalization,Dropout,Embedding,LSTM,Flatten,Conv1D,MaxPool1D,GlobalAveragePooling3D\n",
        "from tensorflow.keras.models import Model\n",
        "import random as rn\n",
        "from sklearn.metrics import roc_auc_score\n",
        "from sklearn.metrics import f1_score\n",
        "from tensorflow.keras import layers\n",
        "from tensorflow.keras.regularizers import l2\n",
        "from tensorflow.keras.callbacks import ModelCheckpoint ,TensorBoard,EarlyStopping,LearningRateScheduler\n",
        "#from keras.layers.embeddings import Embedding\n",
        "from keras.preprocessing import sequence\n",
        "from tensorflow.keras.layers import concatenate"
      ],
      "metadata": {
        "id": "lbLdgS8QtSoS",
        "execution": {
          "iopub.status.busy": "2022-05-19T19:39:12.048014Z",
          "iopub.execute_input": "2022-05-19T19:39:12.048608Z",
          "iopub.status.idle": "2022-05-19T19:39:12.059446Z",
          "shell.execute_reply.started": "2022-05-19T19:39:12.048556Z",
          "shell.execute_reply": "2022-05-19T19:39:12.057495Z"
        },
        "trusted": true
      },
      "execution_count": null,
      "outputs": []
    },
    {
      "cell_type": "code",
      "source": [
        "max_seq_length=17640\n",
        "X_train_pad_seq=[] #np.zeros((1400,17640))\n",
        "X_train_mask= [] #np.zeros((1400,17640))\n",
        "for i in tqdm(range(X_train_processed.shape[0])):\n",
        "  # pad if len less than max_seq_length\n",
        "  if len(X_train_processed['raw_data'].values[i]) < max_seq_length:\n",
        "    seq=X_train_processed['raw_data'].values[i].tolist()+ \\\n",
        "    [0 for item in range(max_seq_length-len(X_train_processed['raw_data'].values[i]))]\n",
        "  else:\n",
        "    # Truncate if len greater then max_seq_length\n",
        "    seq = X_train_processed['raw_data'].values[i].tolist()[:max_seq_length]\n",
        "  #mask=[1 if x!=0 else 0 for x in tokens]\n",
        "  mask=[1 if x!=0 else 0 for x in seq]\n",
        "  mask=[bool(x) for x in mask]\n",
        "  X_train_pad_seq.append(seq)\n",
        "  X_train_mask.append(mask)"
      ],
      "metadata": {
        "id": "HmRvh6mNtjmZ",
        "outputId": "4d0afb31-1376-4949-8965-58599c742f01",
        "execution": {
          "iopub.status.busy": "2022-05-19T19:39:12.061458Z",
          "iopub.execute_input": "2022-05-19T19:39:12.062012Z",
          "iopub.status.idle": "2022-05-19T19:39:17.377040Z",
          "shell.execute_reply.started": "2022-05-19T19:39:12.061971Z",
          "shell.execute_reply": "2022-05-19T19:39:17.376314Z"
        },
        "trusted": true
      },
      "execution_count": null,
      "outputs": [
        {
          "name": "stderr",
          "text": "100%|██████████| 1400/1400 [00:05<00:00, 264.13it/s]\n",
          "output_type": "stream"
        }
      ]
    },
    {
      "cell_type": "code",
      "source": [
        "X_train_pad_seq=np.array(X_train_pad_seq)\n",
        "X_train_mask=np.array(X_train_mask)"
      ],
      "metadata": {
        "id": "XpdL8CAauHXF",
        "execution": {
          "iopub.status.busy": "2022-05-19T19:39:17.378628Z",
          "iopub.execute_input": "2022-05-19T19:39:17.379130Z",
          "iopub.status.idle": "2022-05-19T19:39:22.790175Z",
          "shell.execute_reply.started": "2022-05-19T19:39:17.379091Z",
          "shell.execute_reply": "2022-05-19T19:39:22.789304Z"
        },
        "trusted": true
      },
      "execution_count": null,
      "outputs": []
    },
    {
      "cell_type": "code",
      "source": [
        "X_test_processed.shape"
      ],
      "metadata": {
        "id": "en_fiT2xuHeu",
        "outputId": "bd7c0faa-d0dc-49de-caf0-a2921c9d9253",
        "execution": {
          "iopub.status.busy": "2022-05-19T19:39:22.791867Z",
          "iopub.execute_input": "2022-05-19T19:39:22.792140Z",
          "iopub.status.idle": "2022-05-19T19:39:22.811429Z",
          "shell.execute_reply.started": "2022-05-19T19:39:22.792105Z",
          "shell.execute_reply": "2022-05-19T19:39:22.810656Z"
        },
        "trusted": true
      },
      "execution_count": null,
      "outputs": [
        {
          "execution_count": 80,
          "output_type": "execute_result",
          "data": {
            "text/plain": "(600, 2)"
          },
          "metadata": {}
        }
      ]
    },
    {
      "cell_type": "code",
      "source": [
        "max_seq_length=17640\n",
        "X_test_pad_seq=[] #np.zeros((600,17640))\n",
        "X_test_mask=[] #np.zeros((600,17640))\n",
        "for i in tqdm(range(X_test_processed.shape[0])):\n",
        "  # pad if len less than\n",
        "  if len(X_test_processed['raw_data'].values[i]) < max_seq_length:\n",
        "    # Add the ['PAD'] token\n",
        "    seq=X_test_processed['raw_data'].values[i].tolist()+[0 for item in range(max_seq_length-len(X_test_processed['raw_data'].values[i]))]\n",
        "  else:\n",
        "    # Truncate the tokens at maxLen - 1 and add a '[SEP]' tag.\n",
        "    seq = X_test_processed['raw_data'].values[i].tolist()[:max_seq_length]\n",
        "  #mask=[1 if x!=0 else 0 for x in tokens]\n",
        "  mask=[1 if x!=0 else 0 for x in seq]\n",
        "  mask=[bool(x) for x in mask]\n",
        "  X_test_pad_seq.append(seq)\n",
        "  X_test_mask.append(mask)"
      ],
      "metadata": {
        "id": "3fHnOZUsuHl1",
        "outputId": "8381f784-0092-4e65-bb89-46a1b5111890",
        "execution": {
          "iopub.status.busy": "2022-05-19T19:39:22.815445Z",
          "iopub.execute_input": "2022-05-19T19:39:22.815900Z",
          "iopub.status.idle": "2022-05-19T19:39:25.108349Z",
          "shell.execute_reply.started": "2022-05-19T19:39:22.815858Z",
          "shell.execute_reply": "2022-05-19T19:39:25.107636Z"
        },
        "trusted": true
      },
      "execution_count": null,
      "outputs": [
        {
          "name": "stderr",
          "text": "100%|██████████| 600/600 [00:02<00:00, 263.16it/s]\n",
          "output_type": "stream"
        }
      ]
    },
    {
      "cell_type": "code",
      "source": [
        "X_test_pad_seq=np.array(X_test_pad_seq)\n",
        "X_test_mask=np.array(X_test_mask)"
      ],
      "metadata": {
        "id": "nlQfnIBQuHtj",
        "execution": {
          "iopub.status.busy": "2022-05-19T19:39:25.109643Z",
          "iopub.execute_input": "2022-05-19T19:39:25.110306Z",
          "iopub.status.idle": "2022-05-19T19:39:27.297280Z",
          "shell.execute_reply.started": "2022-05-19T19:39:25.110261Z",
          "shell.execute_reply": "2022-05-19T19:39:27.296507Z"
        },
        "trusted": true
      },
      "execution_count": null,
      "outputs": []
    },
    {
      "cell_type": "code",
      "source": [
        "X_test_mask[i]"
      ],
      "metadata": {
        "id": "2vJrG_Fiucb_",
        "outputId": "030f41f8-20cd-46e2-c1de-432f6ab10182",
        "execution": {
          "iopub.status.busy": "2022-05-19T19:39:27.298537Z",
          "iopub.execute_input": "2022-05-19T19:39:27.298810Z",
          "iopub.status.idle": "2022-05-19T19:39:27.306072Z",
          "shell.execute_reply.started": "2022-05-19T19:39:27.298778Z",
          "shell.execute_reply": "2022-05-19T19:39:27.305399Z"
        },
        "trusted": true
      },
      "execution_count": null,
      "outputs": [
        {
          "execution_count": 83,
          "output_type": "execute_result",
          "data": {
            "text/plain": "array([ True,  True,  True, ..., False, False, False])"
          },
          "metadata": {}
        }
      ]
    },
    {
      "cell_type": "code",
      "source": [
        "max_length  = 17640"
      ],
      "metadata": {
        "id": "voqSEyvcaNoO",
        "execution": {
          "iopub.status.busy": "2022-05-19T19:39:27.307475Z",
          "iopub.execute_input": "2022-05-19T19:39:27.307863Z",
          "iopub.status.idle": "2022-05-19T19:39:27.314551Z",
          "shell.execute_reply.started": "2022-05-19T19:39:27.307826Z",
          "shell.execute_reply": "2022-05-19T19:39:27.313817Z"
        },
        "trusted": true
      },
      "execution_count": null,
      "outputs": []
    },
    {
      "cell_type": "code",
      "source": [
        "## as discussed above, Pad with Zero if length of sequence is less than 17640 else Truncate the number. \n",
        "## save in the X_train_pad_seq, X_test_pad_seq\n",
        "## also Create masking vector X_train_mask, X_test_mask\n",
        "\n",
        "## all the X_train_pad_seq, X_test_pad_seq, X_train_mask, X_test_mask will be numpy arrays mask vector dtype must be bool."
      ],
      "metadata": {
        "id": "B1-_r20BaNoW",
        "execution": {
          "iopub.status.busy": "2022-05-19T19:39:27.315870Z",
          "iopub.execute_input": "2022-05-19T19:39:27.316446Z",
          "iopub.status.idle": "2022-05-19T19:39:27.324397Z",
          "shell.execute_reply.started": "2022-05-19T19:39:27.316408Z",
          "shell.execute_reply": "2022-05-19T19:39:27.323746Z"
        },
        "trusted": true
      },
      "execution_count": null,
      "outputs": []
    },
    {
      "cell_type": "markdown",
      "source": [
        "<font size=4>Grader function 5 </font>"
      ],
      "metadata": {
        "id": "zEHMgm4DaNoe"
      }
    },
    {
      "cell_type": "code",
      "source": [
        "def grader_padoutput():\n",
        "    flag_padshape = (X_train_pad_seq.shape==(1400, 17640)) and (X_test_pad_seq.shape==(600, 17640)) and (y_train.shape==(1400,))\n",
        "    flag_maskshape = (X_train_mask.shape==(1400, 17640)) and (X_test_mask.shape==(600, 17640)) and (y_test.shape==(600,))\n",
        "    flag_dtype = (X_train_mask.dtype==bool) and (X_test_mask.dtype==bool)\n",
        "    return flag_padshape and flag_maskshape and flag_dtype\n",
        "grader_padoutput()"
      ],
      "metadata": {
        "id": "Th3KhplGaNof",
        "outputId": "24c5c207-0087-4a75-e2e9-c4da66b328e2",
        "execution": {
          "iopub.status.busy": "2022-05-19T19:39:27.325660Z",
          "iopub.execute_input": "2022-05-19T19:39:27.326160Z",
          "iopub.status.idle": "2022-05-19T19:39:27.337282Z",
          "shell.execute_reply.started": "2022-05-19T19:39:27.326125Z",
          "shell.execute_reply": "2022-05-19T19:39:27.336638Z"
        },
        "trusted": true
      },
      "execution_count": null,
      "outputs": [
        {
          "execution_count": 86,
          "output_type": "execute_result",
          "data": {
            "text/plain": "True"
          },
          "metadata": {}
        }
      ]
    },
    {
      "cell_type": "markdown",
      "source": [
        "### 1. Giving Raw data directly. "
      ],
      "metadata": {
        "id": "K0kaYQ1jaNop"
      }
    },
    {
      "cell_type": "markdown",
      "source": [
        "\n",
        "Now we have\n",
        "\n",
        "Train data: X_train_pad_seq, X_train_mask and y_train  \n",
        "Test data: X_test_pad_seq, X_test_mask and y_test   \n",
        "\n",
        "We will create a LSTM model which takes this input. \n",
        "\n",
        "Task:\n",
        "\n",
        "1. Create an LSTM network which takes \"X_train_pad_seq\" as input, \"X_train_mask\" as mask input. You can use any number of LSTM cells. Please read LSTM documentation(https://www.tensorflow.org/api_docs/python/tf/keras/layers/LSTM) in tensorflow to know more about mask and also https://www.tensorflow.org/guide/keras/masking_and_padding \n",
        "2. Get the final output of the LSTM and give it to Dense layer of any size and then give it to Dense layer of size 10(because we have 10 outputs) and then compile with the sparse categorical cross entropy( because we are not converting it to one hot vectors). Also check the datatype of class labels(y_values) and make sure that you convert your class labels  to integer datatype before fitting in the model.\n",
        "3. While defining your model make sure that you pass both the input layer and mask input layer as input to lstm layer as follows\n",
        "<img src='https://i.imgur.com/FvcgvbY.jpg'>\n",
        "4. Use tensorboard to plot the graphs of loss and metric(use custom micro F1 score as metric) and histograms of gradients. You can write your code for computing F1 score using this <a  href='https://i.imgur.com/8YULUcu.jpg'>link</a> \n",
        "\n",
        "5. make sure that it won't overfit. \n",
        "6. You are free to include any regularization\n"
      ],
      "metadata": {
        "id": "xGHxh3jTaNoq"
      }
    },
    {
      "cell_type": "code",
      "source": [
        "from tensorflow.keras.layers import Input, LSTM, Dense\n",
        "from tensorflow.keras.models import Model\n",
        "import tensorflow as tf"
      ],
      "metadata": {
        "id": "X8yg951AaNor",
        "execution": {
          "iopub.status.busy": "2022-05-19T19:39:27.338607Z",
          "iopub.execute_input": "2022-05-19T19:39:27.339031Z",
          "iopub.status.idle": "2022-05-19T19:39:27.345731Z",
          "shell.execute_reply.started": "2022-05-19T19:39:27.338983Z",
          "shell.execute_reply": "2022-05-19T19:39:27.344870Z"
        },
        "trusted": true
      },
      "execution_count": null,
      "outputs": []
    },
    {
      "cell_type": "code",
      "source": [
        "## as discussed above, please write the architecture of the model.\n",
        "## you will have two input layers in your model (data input layer and mask input layer)\n",
        "## make sure that you have defined the data type of masking layer as bool\n",
        "from sklearn.preprocessing import LabelEncoder\n",
        "encoder = LabelEncoder()\n",
        "encoder.fit(y_train)\n",
        "y_train_encoded = encoder.transform(y_train)\n",
        "y_test_encoded = encoder.transform(y_test)\n",
        "y_train_ohe = tf.keras.utils.to_categorical(y_train_encoded)\n",
        "y_test_ohe = tf.keras.utils.to_categorical(y_test_encoded)"
      ],
      "metadata": {
        "id": "d8y1sgeVaNoy",
        "execution": {
          "iopub.status.busy": "2022-05-19T19:39:27.346989Z",
          "iopub.execute_input": "2022-05-19T19:39:27.347435Z",
          "iopub.status.idle": "2022-05-19T19:39:27.357648Z",
          "shell.execute_reply.started": "2022-05-19T19:39:27.347399Z",
          "shell.execute_reply": "2022-05-19T19:39:27.357007Z"
        },
        "trusted": true
      },
      "execution_count": null,
      "outputs": []
    },
    {
      "cell_type": "code",
      "source": [
        "y_test_ohe[0]"
      ],
      "metadata": {
        "id": "sJq1MKnmu5Si",
        "outputId": "12366928-7394-41a9-bd2a-c547dca3de2b",
        "execution": {
          "iopub.status.busy": "2022-05-19T19:39:27.358870Z",
          "iopub.execute_input": "2022-05-19T19:39:27.359374Z",
          "iopub.status.idle": "2022-05-19T19:39:27.371784Z",
          "shell.execute_reply.started": "2022-05-19T19:39:27.359318Z",
          "shell.execute_reply": "2022-05-19T19:39:27.371029Z"
        },
        "trusted": true
      },
      "execution_count": null,
      "outputs": [
        {
          "execution_count": 89,
          "output_type": "execute_result",
          "data": {
            "text/plain": "array([0., 0., 0., 1., 0., 0., 0., 0., 0., 0.], dtype=float32)"
          },
          "metadata": {}
        }
      ]
    },
    {
      "cell_type": "code",
      "source": [
        "## as discussed above, please write the LSTM\n",
        "input1 = Input(shape=(17640, 1,))\n",
        "input_mask=Input(shape=(17640,),dtype=bool)\n",
        "LSTM_layer= LSTM(50,dropout=0.2)(inputs=input1,mask=input_mask)\n",
        "x = Dense(16,activation='relu',kernel_initializer=tf.keras.initializers.he_normal(seed=30),kernel_regularizer=l2(0.001))(LSTM_layer)\n",
        "x = Dropout(0.25)(x)\n",
        "x = BatchNormalization()(x)\n",
        "x = Dense(12,activation='relu',kernel_initializer=tf.keras.initializers.he_normal(seed=30),kernel_regularizer=l2(0.001))(x)\n",
        "x = Dropout(0.35)(x)\n",
        "x = BatchNormalization()(x)\n",
        "x = Dense(8,activation='relu',kernel_initializer=tf.keras.initializers.he_normal(seed=30),kernel_regularizer=l2(0.001))(x)\n",
        "x = BatchNormalization()(x)\n",
        "dense = Dense(10,activation='relu',kernel_initializer=tf.keras.initializers.he_normal(seed=30),kernel_regularizer=l2(0.00001))(x)\n",
        "Out = Dense(units=10,activation='softmax',kernel_initializer=tf.keras.initializers.glorot_normal(seed=3),name='Output')(dense)\n",
        "model1= Model(inputs=(input1,input_mask),outputs=Out)"
      ],
      "metadata": {
        "id": "mGCMUA4yu5a2",
        "execution": {
          "iopub.status.busy": "2022-05-19T19:39:27.373124Z",
          "iopub.execute_input": "2022-05-19T19:39:27.373383Z",
          "iopub.status.idle": "2022-05-19T19:39:28.124341Z",
          "shell.execute_reply.started": "2022-05-19T19:39:27.373348Z",
          "shell.execute_reply": "2022-05-19T19:39:28.123629Z"
        },
        "trusted": true
      },
      "execution_count": null,
      "outputs": []
    },
    {
      "cell_type": "code",
      "source": [
        "import tensorflow as tf\n",
        "import keras.backend as K\n",
        "import os\n",
        "import datetime\n",
        "#https://www.kaggle.com/c/liverpool-ion-switching/discussion/132646\n",
        "def f1(y_true, y_pred):\n",
        "  y_pred = K.round(y_pred)\n",
        "  tp = K.sum(K.cast(y_true*y_pred, 'float'), axis=0)\n",
        "  # tn = K.sum(K.cast((1-y_true)*(1-y_pred), 'float'), axis=0)\n",
        "  fp = K.sum(K.cast((1-y_true)*y_pred, 'float'), axis=0)\n",
        "  fn = K.sum(K.cast(y_true*(1-y_pred), 'float'), axis=0)\n",
        "  p = tp / (tp + fp + K.epsilon())\n",
        "  r = tp / (tp + fn + K.epsilon())\n",
        "  f1 = 2*p*r / (p+r+K.epsilon())\n",
        "  f1 = tf.where(tf.math.is_nan(f1), tf.zeros_like(f1), f1)\n",
        "  return K.mean(f1)"
      ],
      "metadata": {
        "id": "z57auP3su5iT",
        "execution": {
          "iopub.status.busy": "2022-05-19T20:14:22.024725Z",
          "iopub.execute_input": "2022-05-19T20:14:22.025338Z",
          "iopub.status.idle": "2022-05-19T20:14:22.032684Z",
          "shell.execute_reply.started": "2022-05-19T20:14:22.025298Z",
          "shell.execute_reply": "2022-05-19T20:14:22.031645Z"
        },
        "trusted": true
      },
      "execution_count": null,
      "outputs": []
    },
    {
      "cell_type": "code",
      "source": [
        "!pip install tensorflow-addons==0.16.1\n",
        "import tensorflow_addons as tfa"
      ],
      "metadata": {
        "id": "RJ3hI6y9mnEH",
        "outputId": "76df270f-9a3e-46eb-db19-a0f73c926c4f",
        "execution": {
          "iopub.status.busy": "2022-05-19T20:20:58.843527Z",
          "iopub.execute_input": "2022-05-19T20:20:58.843859Z",
          "iopub.status.idle": "2022-05-19T20:21:15.139398Z",
          "shell.execute_reply.started": "2022-05-19T20:20:58.843819Z",
          "shell.execute_reply": "2022-05-19T20:21:15.138627Z"
        },
        "trusted": true
      },
      "execution_count": null,
      "outputs": [
        {
          "name": "stdout",
          "text": "Collecting tensorflow-addons==0.16.1\n  Downloading tensorflow_addons-0.16.1-cp37-cp37m-manylinux_2_12_x86_64.manylinux2010_x86_64.whl (1.1 MB)\n\u001b[2K     \u001b[90m━━━━━━━━━━━━━━━━━━━━━━━━━━━━━━━━━━━━━━━━\u001b[0m \u001b[32m1.1/1.1 MB\u001b[0m \u001b[31m3.9 MB/s\u001b[0m eta \u001b[36m0:00:00\u001b[0m00:01\u001b[0m00:01\u001b[0m0m\n\u001b[?25hRequirement already satisfied: typeguard>=2.7 in /opt/conda/lib/python3.7/site-packages (from tensorflow-addons==0.16.1) (2.13.3)\nInstalling collected packages: tensorflow-addons\n  Attempting uninstall: tensorflow-addons\n    Found existing installation: tensorflow-addons 0.14.0\n    Uninstalling tensorflow-addons-0.14.0:\n      Successfully uninstalled tensorflow-addons-0.14.0\nSuccessfully installed tensorflow-addons-0.16.1\n\u001b[33mWARNING: Running pip as the 'root' user can result in broken permissions and conflicting behaviour with the system package manager. It is recommended to use a virtual environment instead: https://pip.pypa.io/warnings/venv\u001b[0m\u001b[33m\n\u001b[0m",
          "output_type": "stream"
        }
      ]
    },
    {
      "cell_type": "code",
      "source": [
        "from sklearn.metrics import roc_auc_score\n",
        "from sklearn.metrics import f1_score\n"
      ],
      "metadata": {
        "id": "_7sxetKUu5pn",
        "execution": {
          "iopub.status.busy": "2022-05-19T20:16:49.504592Z",
          "iopub.execute_input": "2022-05-19T20:16:49.505127Z",
          "iopub.status.idle": "2022-05-19T20:16:49.511439Z",
          "shell.execute_reply.started": "2022-05-19T20:16:49.505089Z",
          "shell.execute_reply": "2022-05-19T20:16:49.510752Z"
        },
        "trusted": true
      },
      "execution_count": null,
      "outputs": []
    },
    {
      "cell_type": "code",
      "source": [
        "#https://stackoverflow.com/questions/43263111/defining-an-auc-metric-for-keras-to-support-evaluation-of-validation-dataset\n",
        "def auc( y_true, y_pred ) :\n",
        "  score = tf.py_function( lambda y_true, y_pred : f1_score( y_true, y_pred, average='micro', sample_weight=None).astype('float32'),[y_true, y_pred],'float32', )\n",
        "  return score"
      ],
      "metadata": {
        "id": "RPj_DGW2aNo9",
        "execution": {
          "iopub.status.busy": "2022-05-19T19:39:37.796312Z",
          "iopub.execute_input": "2022-05-19T19:39:37.796870Z",
          "iopub.status.idle": "2022-05-19T19:39:37.807439Z",
          "shell.execute_reply.started": "2022-05-19T19:39:37.796832Z",
          "shell.execute_reply": "2022-05-19T19:39:37.806632Z"
        },
        "trusted": true
      },
      "execution_count": null,
      "outputs": []
    },
    {
      "cell_type": "code",
      "source": [
        "%load_ext tensorboard"
      ],
      "metadata": {
        "id": "9DObOXKXvhg4",
        "execution": {
          "iopub.status.busy": "2022-05-19T19:39:37.808908Z",
          "iopub.execute_input": "2022-05-19T19:39:37.809446Z",
          "iopub.status.idle": "2022-05-19T19:39:37.820874Z",
          "shell.execute_reply.started": "2022-05-19T19:39:37.809410Z",
          "shell.execute_reply": "2022-05-19T19:39:37.819625Z"
        },
        "trusted": true,
        "outputId": "b12308c4-94b8-4585-896e-44d38b5f2d57"
      },
      "execution_count": null,
      "outputs": [
        {
          "name": "stdout",
          "text": "The tensorboard extension is already loaded. To reload it, use:\n  %reload_ext tensorboard\n",
          "output_type": "stream"
        }
      ]
    },
    {
      "cell_type": "code",
      "source": [
        "#tensorbord for model1\n",
        "logdir = os.path.join(\"logs\", datetime.datetime.now().strftime(\"%Y%m%d-%H%M%S\"))\n",
        "tensorboard_callback = tf.keras.callbacks.TensorBoard(logdir, histogram_freq=1)\n",
        "%tensorboard --logdir $logdir"
      ],
      "metadata": {
        "id": "TohOHRGWvhpy",
        "outputId": "fc1f62cc-1776-4fb1-b9fd-64791578bb3d",
        "execution": {
          "iopub.status.busy": "2022-05-19T19:39:37.822393Z",
          "iopub.execute_input": "2022-05-19T19:39:37.822915Z",
          "iopub.status.idle": "2022-05-19T19:39:41.278993Z",
          "shell.execute_reply.started": "2022-05-19T19:39:37.822879Z",
          "shell.execute_reply": "2022-05-19T19:39:41.278167Z"
        },
        "collapsed": true,
        "jupyter": {
          "outputs_hidden": true
        },
        "trusted": true
      },
      "execution_count": null,
      "outputs": [
        {
          "name": "stderr",
          "text": "2022-05-19 19:39:37.827676: I tensorflow/core/profiler/lib/profiler_session.cc:131] Profiler session initializing.\n2022-05-19 19:39:37.828266: I tensorflow/core/profiler/lib/profiler_session.cc:146] Profiler session started.\n2022-05-19 19:39:38.075510: I tensorflow/core/profiler/lib/profiler_session.cc:164] Profiler session tear down.\n2022-05-19 19:39:38.075693: I tensorflow/core/profiler/internal/gpu/cupti_tracer.cc:1748] CUPTI activity buffer flushed\n",
          "output_type": "stream"
        },
        {
          "output_type": "display_data",
          "data": {
            "text/plain": "<IPython.core.display.HTML object>",
            "text/html": "\n      <iframe id=\"tensorboard-frame-c4cc478371223017\" width=\"100%\" height=\"800\" frameborder=\"0\">\n      </iframe>\n      <script>\n        (function() {\n          const frame = document.getElementById(\"tensorboard-frame-c4cc478371223017\");\n          const url = new URL(\"/\", window.location);\n          const port = 6006;\n          if (port) {\n            url.port = port;\n          }\n          frame.src = url;\n        })();\n      </script>\n    "
          },
          "metadata": {}
        }
      ]
    },
    {
      "cell_type": "code",
      "source": [
        "optimizer=tf.keras.optimizers.Adam(learning_rate=0.0001)\n",
        "model1.compile(optimizer=optimizer, loss='categorical_crossentropy',metrics=[tfa.metrics.F1Score(num_classes=10,name='f1_score',average='micro')])"
      ],
      "metadata": {
        "id": "fhvHI4kavhw2",
        "execution": {
          "iopub.status.busy": "2022-05-19T19:39:41.281253Z",
          "iopub.execute_input": "2022-05-19T19:39:41.281917Z",
          "iopub.status.idle": "2022-05-19T19:39:41.302151Z",
          "shell.execute_reply.started": "2022-05-19T19:39:41.281871Z",
          "shell.execute_reply": "2022-05-19T19:39:41.301382Z"
        },
        "trusted": true
      },
      "execution_count": null,
      "outputs": []
    },
    {
      "cell_type": "code",
      "source": [
        "model1.summary()"
      ],
      "metadata": {
        "id": "5yZuuGFdv43j",
        "outputId": "af451e08-db20-4076-c066-f0b072ed9da8",
        "execution": {
          "iopub.status.busy": "2022-05-19T19:39:41.303707Z",
          "iopub.execute_input": "2022-05-19T19:39:41.304212Z",
          "iopub.status.idle": "2022-05-19T19:39:41.319153Z",
          "shell.execute_reply.started": "2022-05-19T19:39:41.304173Z",
          "shell.execute_reply": "2022-05-19T19:39:41.318261Z"
        },
        "trusted": true
      },
      "execution_count": null,
      "outputs": [
        {
          "name": "stdout",
          "text": "Model: \"model_2\"\n__________________________________________________________________________________________________\nLayer (type)                    Output Shape         Param #     Connected to                     \n==================================================================================================\ninput_4 (InputLayer)            [(None, 17640, 1)]   0                                            \n__________________________________________________________________________________________________\ninput_5 (InputLayer)            [(None, 17640)]      0                                            \n__________________________________________________________________________________________________\nlstm_2 (LSTM)                   (None, 50)           10400       input_4[0][0]                    \n                                                                 input_5[0][0]                    \n__________________________________________________________________________________________________\ndense_8 (Dense)                 (None, 16)           816         lstm_2[0][0]                     \n__________________________________________________________________________________________________\ndropout_4 (Dropout)             (None, 16)           0           dense_8[0][0]                    \n__________________________________________________________________________________________________\nbatch_normalization_6 (BatchNor (None, 16)           64          dropout_4[0][0]                  \n__________________________________________________________________________________________________\ndense_9 (Dense)                 (None, 12)           204         batch_normalization_6[0][0]      \n__________________________________________________________________________________________________\ndropout_5 (Dropout)             (None, 12)           0           dense_9[0][0]                    \n__________________________________________________________________________________________________\nbatch_normalization_7 (BatchNor (None, 12)           48          dropout_5[0][0]                  \n__________________________________________________________________________________________________\ndense_10 (Dense)                (None, 8)            104         batch_normalization_7[0][0]      \n__________________________________________________________________________________________________\nbatch_normalization_8 (BatchNor (None, 8)            32          dense_10[0][0]                   \n__________________________________________________________________________________________________\ndense_11 (Dense)                (None, 10)           90          batch_normalization_8[0][0]      \n__________________________________________________________________________________________________\nOutput (Dense)                  (None, 10)           110         dense_11[0][0]                   \n==================================================================================================\nTotal params: 11,868\nTrainable params: 11,796\nNon-trainable params: 72\n__________________________________________________________________________________________________\n",
          "output_type": "stream"
        }
      ]
    },
    {
      "cell_type": "code",
      "source": [
        "#train your model\n",
        "model1.fit([X_train_pad_seq,X_train_mask],y_train_ohe,epochs=5, validation_data=([X_test_pad_seq,X_test_mask],y_test_ohe), batch_size=32,\n",
        "callbacks=[tensorboard_callback])"
      ],
      "metadata": {
        "id": "6Rwan8Wlvw2u",
        "outputId": "76a2b6c8-197d-434f-b612-7648ca9d8b0f",
        "execution": {
          "iopub.status.busy": "2022-05-19T19:39:41.325562Z",
          "iopub.execute_input": "2022-05-19T19:39:41.325772Z",
          "iopub.status.idle": "2022-05-19T19:42:08.100681Z",
          "shell.execute_reply.started": "2022-05-19T19:39:41.325749Z",
          "shell.execute_reply": "2022-05-19T19:42:08.099447Z"
        },
        "trusted": true
      },
      "execution_count": null,
      "outputs": [
        {
          "name": "stdout",
          "text": "Epoch 1/5\n 1/44 [..............................] - ETA: 3:18 - loss: 2.3998 - f1_score: 0.1250",
          "output_type": "stream"
        },
        {
          "name": "stderr",
          "text": "2022-05-19 19:39:46.366914: I tensorflow/core/profiler/lib/profiler_session.cc:131] Profiler session initializing.\n2022-05-19 19:39:46.366967: I tensorflow/core/profiler/lib/profiler_session.cc:146] Profiler session started.\n",
          "output_type": "stream"
        },
        {
          "name": "stdout",
          "text": " 2/44 [>.............................] - ETA: 38s - loss: 2.5639 - f1_score: 0.0938 ",
          "output_type": "stream"
        },
        {
          "name": "stderr",
          "text": "2022-05-19 19:39:47.264879: I tensorflow/core/profiler/lib/profiler_session.cc:66] Profiler session collecting data.\n2022-05-19 19:39:47.301715: I tensorflow/core/profiler/internal/gpu/cupti_tracer.cc:1748] CUPTI activity buffer flushed\n2022-05-19 19:39:47.438233: I tensorflow/core/profiler/internal/gpu/cupti_collector.cc:673]  GpuTracer has collected 54258 callback api events and 54255 activity events. \n2022-05-19 19:39:48.434145: I tensorflow/core/profiler/lib/profiler_session.cc:164] Profiler session tear down.\n2022-05-19 19:39:50.208025: I tensorflow/core/profiler/rpc/client/save_profile.cc:136] Creating directory: logs/20220519-193937/train/plugins/profile/2022_05_19_19_39_48\n\n2022-05-19 19:39:51.022744: I tensorflow/core/profiler/rpc/client/save_profile.cc:142] Dumped gzipped tool data for trace.json.gz to logs/20220519-193937/train/plugins/profile/2022_05_19_19_39_48/d16476142c60.trace.json.gz\n2022-05-19 19:39:51.741313: I tensorflow/core/profiler/rpc/client/save_profile.cc:136] Creating directory: logs/20220519-193937/train/plugins/profile/2022_05_19_19_39_48\n\n2022-05-19 19:39:51.745688: I tensorflow/core/profiler/rpc/client/save_profile.cc:142] Dumped gzipped tool data for memory_profile.json.gz to logs/20220519-193937/train/plugins/profile/2022_05_19_19_39_48/d16476142c60.memory_profile.json.gz\n2022-05-19 19:39:51.758020: I tensorflow/core/profiler/rpc/client/capture_profile.cc:251] Creating directory: logs/20220519-193937/train/plugins/profile/2022_05_19_19_39_48\nDumped tool data for xplane.pb to logs/20220519-193937/train/plugins/profile/2022_05_19_19_39_48/d16476142c60.xplane.pb\nDumped tool data for overview_page.pb to logs/20220519-193937/train/plugins/profile/2022_05_19_19_39_48/d16476142c60.overview_page.pb\nDumped tool data for input_pipeline.pb to logs/20220519-193937/train/plugins/profile/2022_05_19_19_39_48/d16476142c60.input_pipeline.pb\nDumped tool data for tensorflow_stats.pb to logs/20220519-193937/train/plugins/profile/2022_05_19_19_39_48/d16476142c60.tensorflow_stats.pb\nDumped tool data for kernel_stats.pb to logs/20220519-193937/train/plugins/profile/2022_05_19_19_39_48/d16476142c60.kernel_stats.pb\n\n",
          "output_type": "stream"
        },
        {
          "name": "stdout",
          "text": "44/44 [==============================] - 38s 767ms/step - loss: 2.6266 - f1_score: 0.0850 - val_loss: 2.3833 - val_f1_score: 0.1000\nEpoch 2/5\n44/44 [==============================] - 28s 630ms/step - loss: 2.5884 - f1_score: 0.1014 - val_loss: 2.4005 - val_f1_score: 0.1000\nEpoch 3/5\n44/44 [==============================] - 27s 609ms/step - loss: 2.5764 - f1_score: 0.1036 - val_loss: 2.4184 - val_f1_score: 0.1000\nEpoch 4/5\n44/44 [==============================] - 27s 609ms/step - loss: 2.5672 - f1_score: 0.1093 - val_loss: 2.4338 - val_f1_score: 0.1000\nEpoch 5/5\n44/44 [==============================] - 27s 628ms/step - loss: 2.5429 - f1_score: 0.1121 - val_loss: 2.4424 - val_f1_score: 0.1000\n",
          "output_type": "stream"
        },
        {
          "execution_count": 99,
          "output_type": "execute_result",
          "data": {
            "text/plain": "<keras.callbacks.History at 0x7f1e848f4090>"
          },
          "metadata": {}
        }
      ]
    },
    {
      "cell_type": "code",
      "source": [
        "from IPython.display import Image\n",
        "Image('/content/Screenshot (225).png',width=800,height=500)"
      ],
      "metadata": {
        "id": "xszi38aKp5vj",
        "outputId": "1552b748-e0f9-4b01-f277-d23375a8faa9",
        "execution": {
          "iopub.status.busy": "2022-05-19T19:42:08.101933Z",
          "iopub.execute_input": "2022-05-19T19:42:08.102825Z",
          "iopub.status.idle": "2022-05-19T19:42:08.127079Z",
          "shell.execute_reply.started": "2022-05-19T19:42:08.102770Z",
          "shell.execute_reply": "2022-05-19T19:42:08.126342Z"
        },
        "trusted": true
      },
      "execution_count": null,
      "outputs": [
        {
          "traceback": [
            "\u001b[0;31m---------------------------------------------------------------------------\u001b[0m",
            "\u001b[0;31mTypeError\u001b[0m                                 Traceback (most recent call last)",
            "\u001b[0;32m/opt/conda/lib/python3.7/site-packages/IPython/core/display.py\u001b[0m in \u001b[0;36m_data_and_metadata\u001b[0;34m(self, always_both)\u001b[0m\n\u001b[1;32m   1299\u001b[0m         \u001b[0;32mtry\u001b[0m\u001b[0;34m:\u001b[0m\u001b[0;34m\u001b[0m\u001b[0;34m\u001b[0m\u001b[0m\n\u001b[0;32m-> 1300\u001b[0;31m             \u001b[0mb64_data\u001b[0m \u001b[0;34m=\u001b[0m \u001b[0mb2a_base64\u001b[0m\u001b[0;34m(\u001b[0m\u001b[0mself\u001b[0m\u001b[0;34m.\u001b[0m\u001b[0mdata\u001b[0m\u001b[0;34m)\u001b[0m\u001b[0;34m.\u001b[0m\u001b[0mdecode\u001b[0m\u001b[0;34m(\u001b[0m\u001b[0;34m'ascii'\u001b[0m\u001b[0;34m)\u001b[0m\u001b[0;34m\u001b[0m\u001b[0;34m\u001b[0m\u001b[0m\n\u001b[0m\u001b[1;32m   1301\u001b[0m         \u001b[0;32mexcept\u001b[0m \u001b[0mTypeError\u001b[0m\u001b[0;34m:\u001b[0m\u001b[0;34m\u001b[0m\u001b[0;34m\u001b[0m\u001b[0m\n",
            "\u001b[0;31mTypeError\u001b[0m: a bytes-like object is required, not 'str'",
            "\nDuring handling of the above exception, another exception occurred:\n",
            "\u001b[0;31mFileNotFoundError\u001b[0m                         Traceback (most recent call last)",
            "\u001b[0;32m/opt/conda/lib/python3.7/site-packages/IPython/core/formatters.py\u001b[0m in \u001b[0;36m__call__\u001b[0;34m(self, obj, include, exclude)\u001b[0m\n\u001b[1;32m    968\u001b[0m \u001b[0;34m\u001b[0m\u001b[0m\n\u001b[1;32m    969\u001b[0m             \u001b[0;32mif\u001b[0m \u001b[0mmethod\u001b[0m \u001b[0;32mis\u001b[0m \u001b[0;32mnot\u001b[0m \u001b[0;32mNone\u001b[0m\u001b[0;34m:\u001b[0m\u001b[0;34m\u001b[0m\u001b[0;34m\u001b[0m\u001b[0m\n\u001b[0;32m--> 970\u001b[0;31m                 \u001b[0;32mreturn\u001b[0m \u001b[0mmethod\u001b[0m\u001b[0;34m(\u001b[0m\u001b[0minclude\u001b[0m\u001b[0;34m=\u001b[0m\u001b[0minclude\u001b[0m\u001b[0;34m,\u001b[0m \u001b[0mexclude\u001b[0m\u001b[0;34m=\u001b[0m\u001b[0mexclude\u001b[0m\u001b[0;34m)\u001b[0m\u001b[0;34m\u001b[0m\u001b[0;34m\u001b[0m\u001b[0m\n\u001b[0m\u001b[1;32m    971\u001b[0m             \u001b[0;32mreturn\u001b[0m \u001b[0;32mNone\u001b[0m\u001b[0;34m\u001b[0m\u001b[0;34m\u001b[0m\u001b[0m\n\u001b[1;32m    972\u001b[0m         \u001b[0;32melse\u001b[0m\u001b[0;34m:\u001b[0m\u001b[0;34m\u001b[0m\u001b[0;34m\u001b[0m\u001b[0m\n",
            "\u001b[0;32m/opt/conda/lib/python3.7/site-packages/IPython/core/display.py\u001b[0m in \u001b[0;36m_repr_mimebundle_\u001b[0;34m(self, include, exclude)\u001b[0m\n\u001b[1;32m   1288\u001b[0m         \u001b[0;32mif\u001b[0m \u001b[0mself\u001b[0m\u001b[0;34m.\u001b[0m\u001b[0membed\u001b[0m\u001b[0;34m:\u001b[0m\u001b[0;34m\u001b[0m\u001b[0;34m\u001b[0m\u001b[0m\n\u001b[1;32m   1289\u001b[0m             \u001b[0mmimetype\u001b[0m \u001b[0;34m=\u001b[0m \u001b[0mself\u001b[0m\u001b[0;34m.\u001b[0m\u001b[0m_mimetype\u001b[0m\u001b[0;34m\u001b[0m\u001b[0;34m\u001b[0m\u001b[0m\n\u001b[0;32m-> 1290\u001b[0;31m             \u001b[0mdata\u001b[0m\u001b[0;34m,\u001b[0m \u001b[0mmetadata\u001b[0m \u001b[0;34m=\u001b[0m \u001b[0mself\u001b[0m\u001b[0;34m.\u001b[0m\u001b[0m_data_and_metadata\u001b[0m\u001b[0;34m(\u001b[0m\u001b[0malways_both\u001b[0m\u001b[0;34m=\u001b[0m\u001b[0;32mTrue\u001b[0m\u001b[0;34m)\u001b[0m\u001b[0;34m\u001b[0m\u001b[0;34m\u001b[0m\u001b[0m\n\u001b[0m\u001b[1;32m   1291\u001b[0m             \u001b[0;32mif\u001b[0m \u001b[0mmetadata\u001b[0m\u001b[0;34m:\u001b[0m\u001b[0;34m\u001b[0m\u001b[0;34m\u001b[0m\u001b[0m\n\u001b[1;32m   1292\u001b[0m                 \u001b[0mmetadata\u001b[0m \u001b[0;34m=\u001b[0m \u001b[0;34m{\u001b[0m\u001b[0mmimetype\u001b[0m\u001b[0;34m:\u001b[0m \u001b[0mmetadata\u001b[0m\u001b[0;34m}\u001b[0m\u001b[0;34m\u001b[0m\u001b[0;34m\u001b[0m\u001b[0m\n",
            "\u001b[0;32m/opt/conda/lib/python3.7/site-packages/IPython/core/display.py\u001b[0m in \u001b[0;36m_data_and_metadata\u001b[0;34m(self, always_both)\u001b[0m\n\u001b[1;32m   1301\u001b[0m         \u001b[0;32mexcept\u001b[0m \u001b[0mTypeError\u001b[0m\u001b[0;34m:\u001b[0m\u001b[0;34m\u001b[0m\u001b[0;34m\u001b[0m\u001b[0m\n\u001b[1;32m   1302\u001b[0m             raise FileNotFoundError(\n\u001b[0;32m-> 1303\u001b[0;31m                 \"No such file or directory: '%s'\" % (self.data))\n\u001b[0m\u001b[1;32m   1304\u001b[0m         \u001b[0mmd\u001b[0m \u001b[0;34m=\u001b[0m \u001b[0;34m{\u001b[0m\u001b[0;34m}\u001b[0m\u001b[0;34m\u001b[0m\u001b[0;34m\u001b[0m\u001b[0m\n\u001b[1;32m   1305\u001b[0m         \u001b[0;32mif\u001b[0m \u001b[0mself\u001b[0m\u001b[0;34m.\u001b[0m\u001b[0mmetadata\u001b[0m\u001b[0;34m:\u001b[0m\u001b[0;34m\u001b[0m\u001b[0;34m\u001b[0m\u001b[0m\n",
            "\u001b[0;31mFileNotFoundError\u001b[0m: No such file or directory: '/content/Screenshot (225).png'"
          ],
          "ename": "FileNotFoundError",
          "evalue": "No such file or directory: '/content/Screenshot (225).png'",
          "output_type": "error"
        },
        {
          "traceback": [
            "\u001b[0;31m---------------------------------------------------------------------------\u001b[0m",
            "\u001b[0;31mTypeError\u001b[0m                                 Traceback (most recent call last)",
            "\u001b[0;32m/opt/conda/lib/python3.7/site-packages/IPython/core/display.py\u001b[0m in \u001b[0;36m_data_and_metadata\u001b[0;34m(self, always_both)\u001b[0m\n\u001b[1;32m   1299\u001b[0m         \u001b[0;32mtry\u001b[0m\u001b[0;34m:\u001b[0m\u001b[0;34m\u001b[0m\u001b[0;34m\u001b[0m\u001b[0m\n\u001b[0;32m-> 1300\u001b[0;31m             \u001b[0mb64_data\u001b[0m \u001b[0;34m=\u001b[0m \u001b[0mb2a_base64\u001b[0m\u001b[0;34m(\u001b[0m\u001b[0mself\u001b[0m\u001b[0;34m.\u001b[0m\u001b[0mdata\u001b[0m\u001b[0;34m)\u001b[0m\u001b[0;34m.\u001b[0m\u001b[0mdecode\u001b[0m\u001b[0;34m(\u001b[0m\u001b[0;34m'ascii'\u001b[0m\u001b[0;34m)\u001b[0m\u001b[0;34m\u001b[0m\u001b[0;34m\u001b[0m\u001b[0m\n\u001b[0m\u001b[1;32m   1301\u001b[0m         \u001b[0;32mexcept\u001b[0m \u001b[0mTypeError\u001b[0m\u001b[0;34m:\u001b[0m\u001b[0;34m\u001b[0m\u001b[0;34m\u001b[0m\u001b[0m\n",
            "\u001b[0;31mTypeError\u001b[0m: a bytes-like object is required, not 'str'",
            "\nDuring handling of the above exception, another exception occurred:\n",
            "\u001b[0;31mFileNotFoundError\u001b[0m                         Traceback (most recent call last)",
            "\u001b[0;32m/opt/conda/lib/python3.7/site-packages/IPython/core/formatters.py\u001b[0m in \u001b[0;36m__call__\u001b[0;34m(self, obj)\u001b[0m\n\u001b[1;32m    343\u001b[0m             \u001b[0mmethod\u001b[0m \u001b[0;34m=\u001b[0m \u001b[0mget_real_method\u001b[0m\u001b[0;34m(\u001b[0m\u001b[0mobj\u001b[0m\u001b[0;34m,\u001b[0m \u001b[0mself\u001b[0m\u001b[0;34m.\u001b[0m\u001b[0mprint_method\u001b[0m\u001b[0;34m)\u001b[0m\u001b[0;34m\u001b[0m\u001b[0;34m\u001b[0m\u001b[0m\n\u001b[1;32m    344\u001b[0m             \u001b[0;32mif\u001b[0m \u001b[0mmethod\u001b[0m \u001b[0;32mis\u001b[0m \u001b[0;32mnot\u001b[0m \u001b[0;32mNone\u001b[0m\u001b[0;34m:\u001b[0m\u001b[0;34m\u001b[0m\u001b[0;34m\u001b[0m\u001b[0m\n\u001b[0;32m--> 345\u001b[0;31m                 \u001b[0;32mreturn\u001b[0m \u001b[0mmethod\u001b[0m\u001b[0;34m(\u001b[0m\u001b[0;34m)\u001b[0m\u001b[0;34m\u001b[0m\u001b[0;34m\u001b[0m\u001b[0m\n\u001b[0m\u001b[1;32m    346\u001b[0m             \u001b[0;32mreturn\u001b[0m \u001b[0;32mNone\u001b[0m\u001b[0;34m\u001b[0m\u001b[0;34m\u001b[0m\u001b[0m\n\u001b[1;32m    347\u001b[0m         \u001b[0;32melse\u001b[0m\u001b[0;34m:\u001b[0m\u001b[0;34m\u001b[0m\u001b[0;34m\u001b[0m\u001b[0m\n",
            "\u001b[0;32m/opt/conda/lib/python3.7/site-packages/IPython/core/display.py\u001b[0m in \u001b[0;36m_repr_png_\u001b[0;34m(self)\u001b[0m\n\u001b[1;32m   1318\u001b[0m     \u001b[0;32mdef\u001b[0m \u001b[0m_repr_png_\u001b[0m\u001b[0;34m(\u001b[0m\u001b[0mself\u001b[0m\u001b[0;34m)\u001b[0m\u001b[0;34m:\u001b[0m\u001b[0;34m\u001b[0m\u001b[0;34m\u001b[0m\u001b[0m\n\u001b[1;32m   1319\u001b[0m         \u001b[0;32mif\u001b[0m \u001b[0mself\u001b[0m\u001b[0;34m.\u001b[0m\u001b[0membed\u001b[0m \u001b[0;32mand\u001b[0m \u001b[0mself\u001b[0m\u001b[0;34m.\u001b[0m\u001b[0mformat\u001b[0m \u001b[0;34m==\u001b[0m \u001b[0mself\u001b[0m\u001b[0;34m.\u001b[0m\u001b[0m_FMT_PNG\u001b[0m\u001b[0;34m:\u001b[0m\u001b[0;34m\u001b[0m\u001b[0;34m\u001b[0m\u001b[0m\n\u001b[0;32m-> 1320\u001b[0;31m             \u001b[0;32mreturn\u001b[0m \u001b[0mself\u001b[0m\u001b[0;34m.\u001b[0m\u001b[0m_data_and_metadata\u001b[0m\u001b[0;34m(\u001b[0m\u001b[0;34m)\u001b[0m\u001b[0;34m\u001b[0m\u001b[0;34m\u001b[0m\u001b[0m\n\u001b[0m\u001b[1;32m   1321\u001b[0m \u001b[0;34m\u001b[0m\u001b[0m\n\u001b[1;32m   1322\u001b[0m     \u001b[0;32mdef\u001b[0m \u001b[0m_repr_jpeg_\u001b[0m\u001b[0;34m(\u001b[0m\u001b[0mself\u001b[0m\u001b[0;34m)\u001b[0m\u001b[0;34m:\u001b[0m\u001b[0;34m\u001b[0m\u001b[0;34m\u001b[0m\u001b[0m\n",
            "\u001b[0;32m/opt/conda/lib/python3.7/site-packages/IPython/core/display.py\u001b[0m in \u001b[0;36m_data_and_metadata\u001b[0;34m(self, always_both)\u001b[0m\n\u001b[1;32m   1301\u001b[0m         \u001b[0;32mexcept\u001b[0m \u001b[0mTypeError\u001b[0m\u001b[0;34m:\u001b[0m\u001b[0;34m\u001b[0m\u001b[0;34m\u001b[0m\u001b[0m\n\u001b[1;32m   1302\u001b[0m             raise FileNotFoundError(\n\u001b[0;32m-> 1303\u001b[0;31m                 \"No such file or directory: '%s'\" % (self.data))\n\u001b[0m\u001b[1;32m   1304\u001b[0m         \u001b[0mmd\u001b[0m \u001b[0;34m=\u001b[0m \u001b[0;34m{\u001b[0m\u001b[0;34m}\u001b[0m\u001b[0;34m\u001b[0m\u001b[0;34m\u001b[0m\u001b[0m\n\u001b[1;32m   1305\u001b[0m         \u001b[0;32mif\u001b[0m \u001b[0mself\u001b[0m\u001b[0;34m.\u001b[0m\u001b[0mmetadata\u001b[0m\u001b[0;34m:\u001b[0m\u001b[0;34m\u001b[0m\u001b[0;34m\u001b[0m\u001b[0m\n",
            "\u001b[0;31mFileNotFoundError\u001b[0m: No such file or directory: '/content/Screenshot (225).png'"
          ],
          "ename": "FileNotFoundError",
          "evalue": "No such file or directory: '/content/Screenshot (225).png'",
          "output_type": "error"
        },
        {
          "execution_count": 100,
          "output_type": "execute_result",
          "data": {
            "text/plain": "<IPython.core.display.Image object>"
          },
          "metadata": {}
        }
      ]
    },
    {
      "cell_type": "code",
      "source": [
        "from IPython.display import Image\n",
        "Image('/content/Screenshot (226).png',width=800,height=500)"
      ],
      "metadata": {
        "id": "UEzjp4HcqBYs",
        "outputId": "379d8d94-228b-4516-da2d-f022facf4164",
        "execution": {
          "iopub.status.busy": "2022-05-19T19:42:08.128409Z",
          "iopub.execute_input": "2022-05-19T19:42:08.128824Z",
          "iopub.status.idle": "2022-05-19T19:42:08.150876Z",
          "shell.execute_reply.started": "2022-05-19T19:42:08.128789Z",
          "shell.execute_reply": "2022-05-19T19:42:08.150059Z"
        },
        "trusted": true
      },
      "execution_count": null,
      "outputs": [
        {
          "traceback": [
            "\u001b[0;31m---------------------------------------------------------------------------\u001b[0m",
            "\u001b[0;31mTypeError\u001b[0m                                 Traceback (most recent call last)",
            "\u001b[0;32m/opt/conda/lib/python3.7/site-packages/IPython/core/display.py\u001b[0m in \u001b[0;36m_data_and_metadata\u001b[0;34m(self, always_both)\u001b[0m\n\u001b[1;32m   1299\u001b[0m         \u001b[0;32mtry\u001b[0m\u001b[0;34m:\u001b[0m\u001b[0;34m\u001b[0m\u001b[0;34m\u001b[0m\u001b[0m\n\u001b[0;32m-> 1300\u001b[0;31m             \u001b[0mb64_data\u001b[0m \u001b[0;34m=\u001b[0m \u001b[0mb2a_base64\u001b[0m\u001b[0;34m(\u001b[0m\u001b[0mself\u001b[0m\u001b[0;34m.\u001b[0m\u001b[0mdata\u001b[0m\u001b[0;34m)\u001b[0m\u001b[0;34m.\u001b[0m\u001b[0mdecode\u001b[0m\u001b[0;34m(\u001b[0m\u001b[0;34m'ascii'\u001b[0m\u001b[0;34m)\u001b[0m\u001b[0;34m\u001b[0m\u001b[0;34m\u001b[0m\u001b[0m\n\u001b[0m\u001b[1;32m   1301\u001b[0m         \u001b[0;32mexcept\u001b[0m \u001b[0mTypeError\u001b[0m\u001b[0;34m:\u001b[0m\u001b[0;34m\u001b[0m\u001b[0;34m\u001b[0m\u001b[0m\n",
            "\u001b[0;31mTypeError\u001b[0m: a bytes-like object is required, not 'str'",
            "\nDuring handling of the above exception, another exception occurred:\n",
            "\u001b[0;31mFileNotFoundError\u001b[0m                         Traceback (most recent call last)",
            "\u001b[0;32m/opt/conda/lib/python3.7/site-packages/IPython/core/formatters.py\u001b[0m in \u001b[0;36m__call__\u001b[0;34m(self, obj, include, exclude)\u001b[0m\n\u001b[1;32m    968\u001b[0m \u001b[0;34m\u001b[0m\u001b[0m\n\u001b[1;32m    969\u001b[0m             \u001b[0;32mif\u001b[0m \u001b[0mmethod\u001b[0m \u001b[0;32mis\u001b[0m \u001b[0;32mnot\u001b[0m \u001b[0;32mNone\u001b[0m\u001b[0;34m:\u001b[0m\u001b[0;34m\u001b[0m\u001b[0;34m\u001b[0m\u001b[0m\n\u001b[0;32m--> 970\u001b[0;31m                 \u001b[0;32mreturn\u001b[0m \u001b[0mmethod\u001b[0m\u001b[0;34m(\u001b[0m\u001b[0minclude\u001b[0m\u001b[0;34m=\u001b[0m\u001b[0minclude\u001b[0m\u001b[0;34m,\u001b[0m \u001b[0mexclude\u001b[0m\u001b[0;34m=\u001b[0m\u001b[0mexclude\u001b[0m\u001b[0;34m)\u001b[0m\u001b[0;34m\u001b[0m\u001b[0;34m\u001b[0m\u001b[0m\n\u001b[0m\u001b[1;32m    971\u001b[0m             \u001b[0;32mreturn\u001b[0m \u001b[0;32mNone\u001b[0m\u001b[0;34m\u001b[0m\u001b[0;34m\u001b[0m\u001b[0m\n\u001b[1;32m    972\u001b[0m         \u001b[0;32melse\u001b[0m\u001b[0;34m:\u001b[0m\u001b[0;34m\u001b[0m\u001b[0;34m\u001b[0m\u001b[0m\n",
            "\u001b[0;32m/opt/conda/lib/python3.7/site-packages/IPython/core/display.py\u001b[0m in \u001b[0;36m_repr_mimebundle_\u001b[0;34m(self, include, exclude)\u001b[0m\n\u001b[1;32m   1288\u001b[0m         \u001b[0;32mif\u001b[0m \u001b[0mself\u001b[0m\u001b[0;34m.\u001b[0m\u001b[0membed\u001b[0m\u001b[0;34m:\u001b[0m\u001b[0;34m\u001b[0m\u001b[0;34m\u001b[0m\u001b[0m\n\u001b[1;32m   1289\u001b[0m             \u001b[0mmimetype\u001b[0m \u001b[0;34m=\u001b[0m \u001b[0mself\u001b[0m\u001b[0;34m.\u001b[0m\u001b[0m_mimetype\u001b[0m\u001b[0;34m\u001b[0m\u001b[0;34m\u001b[0m\u001b[0m\n\u001b[0;32m-> 1290\u001b[0;31m             \u001b[0mdata\u001b[0m\u001b[0;34m,\u001b[0m \u001b[0mmetadata\u001b[0m \u001b[0;34m=\u001b[0m \u001b[0mself\u001b[0m\u001b[0;34m.\u001b[0m\u001b[0m_data_and_metadata\u001b[0m\u001b[0;34m(\u001b[0m\u001b[0malways_both\u001b[0m\u001b[0;34m=\u001b[0m\u001b[0;32mTrue\u001b[0m\u001b[0;34m)\u001b[0m\u001b[0;34m\u001b[0m\u001b[0;34m\u001b[0m\u001b[0m\n\u001b[0m\u001b[1;32m   1291\u001b[0m             \u001b[0;32mif\u001b[0m \u001b[0mmetadata\u001b[0m\u001b[0;34m:\u001b[0m\u001b[0;34m\u001b[0m\u001b[0;34m\u001b[0m\u001b[0m\n\u001b[1;32m   1292\u001b[0m                 \u001b[0mmetadata\u001b[0m \u001b[0;34m=\u001b[0m \u001b[0;34m{\u001b[0m\u001b[0mmimetype\u001b[0m\u001b[0;34m:\u001b[0m \u001b[0mmetadata\u001b[0m\u001b[0;34m}\u001b[0m\u001b[0;34m\u001b[0m\u001b[0;34m\u001b[0m\u001b[0m\n",
            "\u001b[0;32m/opt/conda/lib/python3.7/site-packages/IPython/core/display.py\u001b[0m in \u001b[0;36m_data_and_metadata\u001b[0;34m(self, always_both)\u001b[0m\n\u001b[1;32m   1301\u001b[0m         \u001b[0;32mexcept\u001b[0m \u001b[0mTypeError\u001b[0m\u001b[0;34m:\u001b[0m\u001b[0;34m\u001b[0m\u001b[0;34m\u001b[0m\u001b[0m\n\u001b[1;32m   1302\u001b[0m             raise FileNotFoundError(\n\u001b[0;32m-> 1303\u001b[0;31m                 \"No such file or directory: '%s'\" % (self.data))\n\u001b[0m\u001b[1;32m   1304\u001b[0m         \u001b[0mmd\u001b[0m \u001b[0;34m=\u001b[0m \u001b[0;34m{\u001b[0m\u001b[0;34m}\u001b[0m\u001b[0;34m\u001b[0m\u001b[0;34m\u001b[0m\u001b[0m\n\u001b[1;32m   1305\u001b[0m         \u001b[0;32mif\u001b[0m \u001b[0mself\u001b[0m\u001b[0;34m.\u001b[0m\u001b[0mmetadata\u001b[0m\u001b[0;34m:\u001b[0m\u001b[0;34m\u001b[0m\u001b[0;34m\u001b[0m\u001b[0m\n",
            "\u001b[0;31mFileNotFoundError\u001b[0m: No such file or directory: '/content/Screenshot (226).png'"
          ],
          "ename": "FileNotFoundError",
          "evalue": "No such file or directory: '/content/Screenshot (226).png'",
          "output_type": "error"
        },
        {
          "traceback": [
            "\u001b[0;31m---------------------------------------------------------------------------\u001b[0m",
            "\u001b[0;31mTypeError\u001b[0m                                 Traceback (most recent call last)",
            "\u001b[0;32m/opt/conda/lib/python3.7/site-packages/IPython/core/display.py\u001b[0m in \u001b[0;36m_data_and_metadata\u001b[0;34m(self, always_both)\u001b[0m\n\u001b[1;32m   1299\u001b[0m         \u001b[0;32mtry\u001b[0m\u001b[0;34m:\u001b[0m\u001b[0;34m\u001b[0m\u001b[0;34m\u001b[0m\u001b[0m\n\u001b[0;32m-> 1300\u001b[0;31m             \u001b[0mb64_data\u001b[0m \u001b[0;34m=\u001b[0m \u001b[0mb2a_base64\u001b[0m\u001b[0;34m(\u001b[0m\u001b[0mself\u001b[0m\u001b[0;34m.\u001b[0m\u001b[0mdata\u001b[0m\u001b[0;34m)\u001b[0m\u001b[0;34m.\u001b[0m\u001b[0mdecode\u001b[0m\u001b[0;34m(\u001b[0m\u001b[0;34m'ascii'\u001b[0m\u001b[0;34m)\u001b[0m\u001b[0;34m\u001b[0m\u001b[0;34m\u001b[0m\u001b[0m\n\u001b[0m\u001b[1;32m   1301\u001b[0m         \u001b[0;32mexcept\u001b[0m \u001b[0mTypeError\u001b[0m\u001b[0;34m:\u001b[0m\u001b[0;34m\u001b[0m\u001b[0;34m\u001b[0m\u001b[0m\n",
            "\u001b[0;31mTypeError\u001b[0m: a bytes-like object is required, not 'str'",
            "\nDuring handling of the above exception, another exception occurred:\n",
            "\u001b[0;31mFileNotFoundError\u001b[0m                         Traceback (most recent call last)",
            "\u001b[0;32m/opt/conda/lib/python3.7/site-packages/IPython/core/formatters.py\u001b[0m in \u001b[0;36m__call__\u001b[0;34m(self, obj)\u001b[0m\n\u001b[1;32m    343\u001b[0m             \u001b[0mmethod\u001b[0m \u001b[0;34m=\u001b[0m \u001b[0mget_real_method\u001b[0m\u001b[0;34m(\u001b[0m\u001b[0mobj\u001b[0m\u001b[0;34m,\u001b[0m \u001b[0mself\u001b[0m\u001b[0;34m.\u001b[0m\u001b[0mprint_method\u001b[0m\u001b[0;34m)\u001b[0m\u001b[0;34m\u001b[0m\u001b[0;34m\u001b[0m\u001b[0m\n\u001b[1;32m    344\u001b[0m             \u001b[0;32mif\u001b[0m \u001b[0mmethod\u001b[0m \u001b[0;32mis\u001b[0m \u001b[0;32mnot\u001b[0m \u001b[0;32mNone\u001b[0m\u001b[0;34m:\u001b[0m\u001b[0;34m\u001b[0m\u001b[0;34m\u001b[0m\u001b[0m\n\u001b[0;32m--> 345\u001b[0;31m                 \u001b[0;32mreturn\u001b[0m \u001b[0mmethod\u001b[0m\u001b[0;34m(\u001b[0m\u001b[0;34m)\u001b[0m\u001b[0;34m\u001b[0m\u001b[0;34m\u001b[0m\u001b[0m\n\u001b[0m\u001b[1;32m    346\u001b[0m             \u001b[0;32mreturn\u001b[0m \u001b[0;32mNone\u001b[0m\u001b[0;34m\u001b[0m\u001b[0;34m\u001b[0m\u001b[0m\n\u001b[1;32m    347\u001b[0m         \u001b[0;32melse\u001b[0m\u001b[0;34m:\u001b[0m\u001b[0;34m\u001b[0m\u001b[0;34m\u001b[0m\u001b[0m\n",
            "\u001b[0;32m/opt/conda/lib/python3.7/site-packages/IPython/core/display.py\u001b[0m in \u001b[0;36m_repr_png_\u001b[0;34m(self)\u001b[0m\n\u001b[1;32m   1318\u001b[0m     \u001b[0;32mdef\u001b[0m \u001b[0m_repr_png_\u001b[0m\u001b[0;34m(\u001b[0m\u001b[0mself\u001b[0m\u001b[0;34m)\u001b[0m\u001b[0;34m:\u001b[0m\u001b[0;34m\u001b[0m\u001b[0;34m\u001b[0m\u001b[0m\n\u001b[1;32m   1319\u001b[0m         \u001b[0;32mif\u001b[0m \u001b[0mself\u001b[0m\u001b[0;34m.\u001b[0m\u001b[0membed\u001b[0m \u001b[0;32mand\u001b[0m \u001b[0mself\u001b[0m\u001b[0;34m.\u001b[0m\u001b[0mformat\u001b[0m \u001b[0;34m==\u001b[0m \u001b[0mself\u001b[0m\u001b[0;34m.\u001b[0m\u001b[0m_FMT_PNG\u001b[0m\u001b[0;34m:\u001b[0m\u001b[0;34m\u001b[0m\u001b[0;34m\u001b[0m\u001b[0m\n\u001b[0;32m-> 1320\u001b[0;31m             \u001b[0;32mreturn\u001b[0m \u001b[0mself\u001b[0m\u001b[0;34m.\u001b[0m\u001b[0m_data_and_metadata\u001b[0m\u001b[0;34m(\u001b[0m\u001b[0;34m)\u001b[0m\u001b[0;34m\u001b[0m\u001b[0;34m\u001b[0m\u001b[0m\n\u001b[0m\u001b[1;32m   1321\u001b[0m \u001b[0;34m\u001b[0m\u001b[0m\n\u001b[1;32m   1322\u001b[0m     \u001b[0;32mdef\u001b[0m \u001b[0m_repr_jpeg_\u001b[0m\u001b[0;34m(\u001b[0m\u001b[0mself\u001b[0m\u001b[0;34m)\u001b[0m\u001b[0;34m:\u001b[0m\u001b[0;34m\u001b[0m\u001b[0;34m\u001b[0m\u001b[0m\n",
            "\u001b[0;32m/opt/conda/lib/python3.7/site-packages/IPython/core/display.py\u001b[0m in \u001b[0;36m_data_and_metadata\u001b[0;34m(self, always_both)\u001b[0m\n\u001b[1;32m   1301\u001b[0m         \u001b[0;32mexcept\u001b[0m \u001b[0mTypeError\u001b[0m\u001b[0;34m:\u001b[0m\u001b[0;34m\u001b[0m\u001b[0;34m\u001b[0m\u001b[0m\n\u001b[1;32m   1302\u001b[0m             raise FileNotFoundError(\n\u001b[0;32m-> 1303\u001b[0;31m                 \"No such file or directory: '%s'\" % (self.data))\n\u001b[0m\u001b[1;32m   1304\u001b[0m         \u001b[0mmd\u001b[0m \u001b[0;34m=\u001b[0m \u001b[0;34m{\u001b[0m\u001b[0;34m}\u001b[0m\u001b[0;34m\u001b[0m\u001b[0;34m\u001b[0m\u001b[0m\n\u001b[1;32m   1305\u001b[0m         \u001b[0;32mif\u001b[0m \u001b[0mself\u001b[0m\u001b[0;34m.\u001b[0m\u001b[0mmetadata\u001b[0m\u001b[0;34m:\u001b[0m\u001b[0;34m\u001b[0m\u001b[0;34m\u001b[0m\u001b[0m\n",
            "\u001b[0;31mFileNotFoundError\u001b[0m: No such file or directory: '/content/Screenshot (226).png'"
          ],
          "ename": "FileNotFoundError",
          "evalue": "No such file or directory: '/content/Screenshot (226).png'",
          "output_type": "error"
        },
        {
          "execution_count": 101,
          "output_type": "execute_result",
          "data": {
            "text/plain": "<IPython.core.display.Image object>"
          },
          "metadata": {}
        }
      ]
    },
    {
      "cell_type": "markdown",
      "source": [
        "### 2. Converting into spectrogram and giving spectrogram data as input  \n",
        "\n",
        "We can use librosa to convert raw data into spectrogram. A spectrogram shows the features in a two-dimensional representation with the\n",
        "intensity of a frequency at a point in time i.e we are converting Time domain to frequency domain. you can read more about this in https://pnsn.org/spectrograms/what-is-a-spectrogram\n"
      ],
      "metadata": {
        "id": "2Fwk0X4zaNpR"
      }
    },
    {
      "cell_type": "code",
      "source": [
        "def convert_to_spectrogram(raw_data):\n",
        "    '''converting to spectrogram'''\n",
        "    spectrum = librosa.feature.melspectrogram(y=raw_data, sr=sample_rate, n_mels=64)\n",
        "    logmel_spectrum = librosa.power_to_db(S=spectrum, ref=np.max)\n",
        "    return logmel_spectrum"
      ],
      "metadata": {
        "id": "nb5AGzTjaNpS",
        "execution": {
          "iopub.status.busy": "2022-05-19T19:42:08.152420Z",
          "iopub.execute_input": "2022-05-19T19:42:08.152686Z",
          "iopub.status.idle": "2022-05-19T19:42:08.158970Z",
          "shell.execute_reply.started": "2022-05-19T19:42:08.152653Z",
          "shell.execute_reply": "2022-05-19T19:42:08.158159Z"
        },
        "trusted": true
      },
      "execution_count": null,
      "outputs": []
    },
    {
      "cell_type": "code",
      "source": [
        "X_train_spectrogram=[]\n",
        "X_test_spectrogram=[]\n",
        "for i in tqdm(range(X_train_processed.shape[0])):\n",
        "  X_train_spectrogram.append(convert_to_spectrogram(X_train_pad_seq[i]))\n",
        "for i in tqdm(range(X_test_processed.shape[0])):\n",
        "  X_test_spectrogram.append(convert_to_spectrogram(X_test_pad_seq[i]))"
      ],
      "metadata": {
        "id": "B__rN4RjaNpc",
        "outputId": "8662d8f8-c3fc-4907-9086-0559b71ae784",
        "execution": {
          "iopub.status.busy": "2022-05-19T19:42:08.160676Z",
          "iopub.execute_input": "2022-05-19T19:42:08.161170Z",
          "iopub.status.idle": "2022-05-19T19:42:19.668222Z",
          "shell.execute_reply.started": "2022-05-19T19:42:08.161134Z",
          "shell.execute_reply": "2022-05-19T19:42:19.667495Z"
        },
        "trusted": true
      },
      "execution_count": null,
      "outputs": [
        {
          "name": "stderr",
          "text": "100%|██████████| 1400/1400 [00:07<00:00, 190.09it/s]\n100%|██████████| 600/600 [00:04<00:00, 145.66it/s]\n",
          "output_type": "stream"
        }
      ]
    },
    {
      "cell_type": "code",
      "source": [
        "X_train_spectrogram = np.array(X_train_spectrogram)\n",
        "X_test_spectrogram = np.array(X_test_spectrogram)"
      ],
      "metadata": {
        "id": "cMPaKcJWqPl0",
        "execution": {
          "iopub.status.busy": "2022-05-19T19:42:19.672254Z",
          "iopub.execute_input": "2022-05-19T19:42:19.676209Z",
          "iopub.status.idle": "2022-05-19T19:42:19.711565Z",
          "shell.execute_reply.started": "2022-05-19T19:42:19.676162Z",
          "shell.execute_reply": "2022-05-19T19:42:19.710751Z"
        },
        "trusted": true
      },
      "execution_count": null,
      "outputs": []
    },
    {
      "cell_type": "markdown",
      "source": [
        "<font size=4>Grader function 6 </font>"
      ],
      "metadata": {
        "id": "zr1ynYZnaNpj"
      }
    },
    {
      "cell_type": "code",
      "source": [
        "def grader_spectrogram():\n",
        "    flag_shape = (X_train_spectrogram.shape==(1400,64, 35)) and (X_test_spectrogram.shape == (600, 64, 35))\n",
        "    return flag_shape\n",
        "grader_spectrogram()"
      ],
      "metadata": {
        "id": "oniXBXcsaNpk",
        "outputId": "f0086005-d546-4791-ad41-e19d058b45bc",
        "execution": {
          "iopub.status.busy": "2022-05-19T19:42:19.712782Z",
          "iopub.execute_input": "2022-05-19T19:42:19.713044Z",
          "iopub.status.idle": "2022-05-19T19:42:19.724401Z",
          "shell.execute_reply.started": "2022-05-19T19:42:19.713007Z",
          "shell.execute_reply": "2022-05-19T19:42:19.721838Z"
        },
        "trusted": true
      },
      "execution_count": null,
      "outputs": [
        {
          "execution_count": 105,
          "output_type": "execute_result",
          "data": {
            "text/plain": "True"
          },
          "metadata": {}
        }
      ]
    },
    {
      "cell_type": "markdown",
      "source": [
        "\n",
        "Now we have\n",
        "\n",
        "Train data: X_train_spectrogram and y_train  \n",
        "Test data: X_test_spectrogram and y_test   \n",
        "\n",
        "We will create a LSTM model which takes this input. \n",
        "\n",
        "Task:\n",
        "\n",
        "1. Create an LSTM network which takes \"X_train_spectrogram\" as input and has to return output at every time step. \n",
        "2. Average the output of every time step and give this to the Dense layer of any size. \n",
        "(ex: Output from LSTM will be  (None, time_steps, features) average the output of every time step i.e, you should get (None,time_steps) \n",
        "and then pass to dense layer )\n",
        "3. give the above output to Dense layer of size 10( output layer) and train the network with sparse categorical cross entropy.  \n",
        "4. Use tensorboard to plot the graphs of loss and metric(use custom micro F1 score as metric) and histograms of gradients. You can write your code for computing F1 score using this <a  href='https://i.imgur.com/8YULUcu.jpg'>link</a> \n",
        "5. make sure that it won't overfit. \n",
        "6. You are free to include any regularization\n"
      ],
      "metadata": {
        "id": "xxlEVyIYaNpt"
      }
    },
    {
      "cell_type": "code",
      "source": [
        "# write the architecture of the model\n",
        "#print model.summary and make sure that it is following point 2 mentioned above"
      ],
      "metadata": {
        "id": "IaQjaiiGaNpv",
        "execution": {
          "iopub.status.busy": "2022-05-19T19:42:19.725750Z",
          "iopub.execute_input": "2022-05-19T19:42:19.726187Z",
          "iopub.status.idle": "2022-05-19T19:42:19.730257Z",
          "shell.execute_reply.started": "2022-05-19T19:42:19.726137Z",
          "shell.execute_reply": "2022-05-19T19:42:19.729247Z"
        },
        "trusted": true
      },
      "execution_count": null,
      "outputs": []
    },
    {
      "cell_type": "code",
      "source": [
        "from tensorflow.keras.layers import Input, LSTM, Dense,GlobalAveragePooling1D,GlobalAveragePooling2D,GlobalAvgPool3D\n",
        "from tensorflow.keras.models import Model\n",
        "import tensorflow as tf"
      ],
      "metadata": {
        "id": "862fP2e-aNp3",
        "execution": {
          "iopub.status.busy": "2022-05-19T20:16:25.024454Z",
          "iopub.execute_input": "2022-05-19T20:16:25.025209Z",
          "iopub.status.idle": "2022-05-19T20:16:25.030016Z",
          "shell.execute_reply.started": "2022-05-19T20:16:25.025156Z",
          "shell.execute_reply": "2022-05-19T20:16:25.029167Z"
        },
        "trusted": true
      },
      "execution_count": null,
      "outputs": []
    },
    {
      "cell_type": "code",
      "source": [
        "## as discussed above, please write the LSTM\n",
        "input1 = Input(shape=(64, 35,))\n",
        "LSTM_layer= LSTM(256,dropout=0.01,return_sequences=True)(input1)\n",
        "#tr = tf.transpose(LSTM_layer,perm=[0, 2, 1])\n",
        "avg=GlobalAveragePooling1D(data_format='channels_last')(LSTM_layer)\n",
        "x = Dense(256,activation='relu',kernel_initializer=tf.keras.initializers.he_normal(seed=31),kernel_regularizer=l2(0.0001))(avg)\n",
        "x = Dropout(0.01)(x)\n",
        "x = BatchNormalization()(x)\n",
        "x = Dense(128,activation='relu',kernel_initializer=tf.keras.initializers.he_normal(seed=43),kernel_regularizer=l2(0.0001))(x)\n",
        "x = Dropout(0.01)(x)\n",
        "x = BatchNormalization()(x)\n",
        "x = Dense(64,activation='relu',kernel_initializer=tf.keras.initializers.he_normal(seed=54),kernel_regularizer=l2(0.0001))(x)\n",
        "x = BatchNormalization()(x)\n",
        "dense = Dense(32,activation='relu',kernel_initializer=tf.keras.initializers.he_normal(seed=40),kernel_regularizer=l2(0.0001))(x)\n",
        "Out = Dense(units=10,activation='softmax',kernel_initializer=tf.keras.initializers.glorot_normal(seed=45),name='Output')(dense)\n",
        "model2= Model(inputs=input1,outputs=Out)"
      ],
      "metadata": {
        "id": "VtMsbGs3aNp_",
        "execution": {
          "iopub.status.busy": "2022-05-19T19:42:19.742412Z",
          "iopub.execute_input": "2022-05-19T19:42:19.742769Z",
          "iopub.status.idle": "2022-05-19T19:42:20.057426Z",
          "shell.execute_reply.started": "2022-05-19T19:42:19.742710Z",
          "shell.execute_reply": "2022-05-19T19:42:20.056720Z"
        },
        "trusted": true
      },
      "execution_count": null,
      "outputs": []
    },
    {
      "cell_type": "code",
      "source": [
        "model2.summary()"
      ],
      "metadata": {
        "id": "wJYPETsfq8Km",
        "outputId": "f5d5b5ca-282a-445a-c50a-e22a01cd4d33",
        "execution": {
          "iopub.status.busy": "2022-05-19T19:42:20.058646Z",
          "iopub.execute_input": "2022-05-19T19:42:20.058887Z",
          "iopub.status.idle": "2022-05-19T19:42:20.073103Z",
          "shell.execute_reply.started": "2022-05-19T19:42:20.058856Z",
          "shell.execute_reply": "2022-05-19T19:42:20.069300Z"
        },
        "trusted": true
      },
      "execution_count": null,
      "outputs": [
        {
          "name": "stdout",
          "text": "Model: \"model_3\"\n_________________________________________________________________\nLayer (type)                 Output Shape              Param #   \n=================================================================\ninput_6 (InputLayer)         [(None, 64, 35)]          0         \n_________________________________________________________________\nlstm_3 (LSTM)                (None, 64, 256)           299008    \n_________________________________________________________________\nglobal_average_pooling1d_1 ( (None, 256)               0         \n_________________________________________________________________\ndense_12 (Dense)             (None, 256)               65792     \n_________________________________________________________________\ndropout_6 (Dropout)          (None, 256)               0         \n_________________________________________________________________\nbatch_normalization_9 (Batch (None, 256)               1024      \n_________________________________________________________________\ndense_13 (Dense)             (None, 128)               32896     \n_________________________________________________________________\ndropout_7 (Dropout)          (None, 128)               0         \n_________________________________________________________________\nbatch_normalization_10 (Batc (None, 128)               512       \n_________________________________________________________________\ndense_14 (Dense)             (None, 64)                8256      \n_________________________________________________________________\nbatch_normalization_11 (Batc (None, 64)                256       \n_________________________________________________________________\ndense_15 (Dense)             (None, 32)                2080      \n_________________________________________________________________\nOutput (Dense)               (None, 10)                330       \n=================================================================\nTotal params: 410,154\nTrainable params: 409,258\nNon-trainable params: 896\n_________________________________________________________________\n",
          "output_type": "stream"
        }
      ]
    },
    {
      "cell_type": "code",
      "source": [
        "#tensorbord for model1\n",
        "logdir = os.path.join(\"logs\", datetime.datetime.now().strftime(\"%Y%m%d-%H%M%S\"))\n",
        "tensorboard_callback = tf.keras.callbacks.TensorBoard(logdir, histogram_freq=1)\n",
        "%tensorboard --logdir $logdir"
      ],
      "metadata": {
        "id": "Dth7flQgq8UI",
        "outputId": "6924fd4b-cbf9-4318-b918-0dc14d768757",
        "execution": {
          "iopub.status.busy": "2022-05-19T19:42:20.074473Z",
          "iopub.execute_input": "2022-05-19T19:42:20.074933Z",
          "iopub.status.idle": "2022-05-19T19:42:23.451204Z",
          "shell.execute_reply.started": "2022-05-19T19:42:20.074891Z",
          "shell.execute_reply": "2022-05-19T19:42:23.450209Z"
        },
        "trusted": true
      },
      "execution_count": null,
      "outputs": [
        {
          "name": "stderr",
          "text": "2022-05-19 19:42:20.078434: I tensorflow/core/profiler/lib/profiler_session.cc:131] Profiler session initializing.\n2022-05-19 19:42:20.078486: I tensorflow/core/profiler/lib/profiler_session.cc:146] Profiler session started.\n2022-05-19 19:42:20.239025: I tensorflow/core/profiler/lib/profiler_session.cc:164] Profiler session tear down.\n2022-05-19 19:42:20.239209: I tensorflow/core/profiler/internal/gpu/cupti_tracer.cc:1748] CUPTI activity buffer flushed\n",
          "output_type": "stream"
        },
        {
          "output_type": "display_data",
          "data": {
            "text/plain": "<IPython.core.display.HTML object>",
            "text/html": "\n      <iframe id=\"tensorboard-frame-8d84dd93c4998fae\" width=\"100%\" height=\"800\" frameborder=\"0\">\n      </iframe>\n      <script>\n        (function() {\n          const frame = document.getElementById(\"tensorboard-frame-8d84dd93c4998fae\");\n          const url = new URL(\"/\", window.location);\n          const port = 6007;\n          if (port) {\n            url.port = port;\n          }\n          frame.src = url;\n        })();\n      </script>\n    "
          },
          "metadata": {}
        }
      ]
    },
    {
      "cell_type": "code",
      "source": [
        "def changeLearningRate(epochs,learning_rate):\n",
        "  if epochs<50:\n",
        "    learning_rate=0.001\n",
        "    return learning_rate\n",
        "  elif epochs<75 and epochs>125:\n",
        "    learning_rate=0.0001\n",
        "    return learning_rate\n",
        "  else:\n",
        "    learning_rate=0.000001\n",
        "    return learning_rate\n",
        "lrschedule = LearningRateScheduler(changeLearningRate,verbose=1)"
      ],
      "metadata": {
        "id": "w9b9w-JQrGvr",
        "execution": {
          "iopub.status.busy": "2022-05-19T19:42:23.453271Z",
          "iopub.execute_input": "2022-05-19T19:42:23.453775Z",
          "iopub.status.idle": "2022-05-19T19:42:23.461774Z",
          "shell.execute_reply.started": "2022-05-19T19:42:23.453731Z",
          "shell.execute_reply": "2022-05-19T19:42:23.460472Z"
        },
        "trusted": true
      },
      "execution_count": null,
      "outputs": []
    },
    {
      "cell_type": "code",
      "source": [
        "optimizer=tf.keras.optimizers.Adam(learning_rate=0.001)\n",
        "model2.compile(optimizer=optimizer, loss='categorical_crossentropy',metrics=[tfa.metrics.F1Score(num_classes=10,name='f1_score',average='micro')])"
      ],
      "metadata": {
        "id": "7R3fY8tKrG5l",
        "execution": {
          "iopub.status.busy": "2022-05-19T19:42:23.463310Z",
          "iopub.execute_input": "2022-05-19T19:42:23.463630Z",
          "iopub.status.idle": "2022-05-19T19:42:23.486384Z",
          "shell.execute_reply.started": "2022-05-19T19:42:23.463574Z",
          "shell.execute_reply": "2022-05-19T19:42:23.485748Z"
        },
        "trusted": true
      },
      "execution_count": null,
      "outputs": []
    },
    {
      "cell_type": "code",
      "source": [
        "model2.fit(X_train_spectrogram,y_train_ohe,epochs=200, validation_data=(X_test_spectrogram,y_test_ohe),\n",
        "batch_size=50,\n",
        "callbacks=[tensorboard_callback,lrschedule])"
      ],
      "metadata": {
        "id": "tJ1HMagCrHBb",
        "outputId": "540a54ff-b4e7-4ced-c0d9-45fc7ef69533",
        "execution": {
          "iopub.status.busy": "2022-05-19T19:42:23.487524Z",
          "iopub.execute_input": "2022-05-19T19:42:23.487874Z",
          "iopub.status.idle": "2022-05-19T19:44:47.650281Z",
          "shell.execute_reply.started": "2022-05-19T19:42:23.487821Z",
          "shell.execute_reply": "2022-05-19T19:44:47.649519Z"
        },
        "trusted": true
      },
      "execution_count": null,
      "outputs": [
        {
          "name": "stdout",
          "text": "Epoch 1/200\n\nEpoch 00001: LearningRateScheduler setting learning rate to 0.001.\n 1/28 [>.............................] - ETA: 1:01 - loss: 2.9187 - f1_score: 0.1600",
          "output_type": "stream"
        },
        {
          "name": "stderr",
          "text": "2022-05-19 19:42:25.897439: I tensorflow/core/profiler/lib/profiler_session.cc:131] Profiler session initializing.\n2022-05-19 19:42:25.897483: I tensorflow/core/profiler/lib/profiler_session.cc:146] Profiler session started.\n",
          "output_type": "stream"
        },
        {
          "name": "stdout",
          "text": " 2/28 [=>............................] - ETA: 7s - loss: 2.9564 - f1_score: 0.1100  ",
          "output_type": "stream"
        },
        {
          "name": "stderr",
          "text": "2022-05-19 19:42:26.215775: I tensorflow/core/profiler/lib/profiler_session.cc:66] Profiler session collecting data.\n2022-05-19 19:42:26.217014: I tensorflow/core/profiler/internal/gpu/cupti_tracer.cc:1748] CUPTI activity buffer flushed\n2022-05-19 19:42:26.351418: I tensorflow/core/profiler/internal/gpu/cupti_collector.cc:673]  GpuTracer has collected 640 callback api events and 637 activity events. \n2022-05-19 19:42:26.364815: I tensorflow/core/profiler/lib/profiler_session.cc:164] Profiler session tear down.\n2022-05-19 19:42:26.381013: I tensorflow/core/profiler/rpc/client/save_profile.cc:136] Creating directory: logs/20220519-194220/train/plugins/profile/2022_05_19_19_42_26\n\n2022-05-19 19:42:26.390445: I tensorflow/core/profiler/rpc/client/save_profile.cc:142] Dumped gzipped tool data for trace.json.gz to logs/20220519-194220/train/plugins/profile/2022_05_19_19_42_26/d16476142c60.trace.json.gz\n2022-05-19 19:42:26.407981: I tensorflow/core/profiler/rpc/client/save_profile.cc:136] Creating directory: logs/20220519-194220/train/plugins/profile/2022_05_19_19_42_26\n\n2022-05-19 19:42:26.410687: I tensorflow/core/profiler/rpc/client/save_profile.cc:142] Dumped gzipped tool data for memory_profile.json.gz to logs/20220519-194220/train/plugins/profile/2022_05_19_19_42_26/d16476142c60.memory_profile.json.gz\n2022-05-19 19:42:26.411705: I tensorflow/core/profiler/rpc/client/capture_profile.cc:251] Creating directory: logs/20220519-194220/train/plugins/profile/2022_05_19_19_42_26\nDumped tool data for xplane.pb to logs/20220519-194220/train/plugins/profile/2022_05_19_19_42_26/d16476142c60.xplane.pb\nDumped tool data for overview_page.pb to logs/20220519-194220/train/plugins/profile/2022_05_19_19_42_26/d16476142c60.overview_page.pb\nDumped tool data for input_pipeline.pb to logs/20220519-194220/train/plugins/profile/2022_05_19_19_42_26/d16476142c60.input_pipeline.pb\nDumped tool data for tensorflow_stats.pb to logs/20220519-194220/train/plugins/profile/2022_05_19_19_42_26/d16476142c60.tensorflow_stats.pb\nDumped tool data for kernel_stats.pb to logs/20220519-194220/train/plugins/profile/2022_05_19_19_42_26/d16476142c60.kernel_stats.pb\n\n",
          "output_type": "stream"
        },
        {
          "name": "stdout",
          "text": "28/28 [==============================] - 4s 52ms/step - loss: 2.4338 - f1_score: 0.2193 - val_loss: 2.3358 - val_f1_score: 0.1700\nEpoch 2/200\n\nEpoch 00002: LearningRateScheduler setting learning rate to 0.001.\n28/28 [==============================] - 0s 11ms/step - loss: 1.9062 - f1_score: 0.3664 - val_loss: 2.2035 - val_f1_score: 0.3017\nEpoch 3/200\n\nEpoch 00003: LearningRateScheduler setting learning rate to 0.001.\n28/28 [==============================] - 0s 15ms/step - loss: 1.6642 - f1_score: 0.4529 - val_loss: 2.1720 - val_f1_score: 0.2583\nEpoch 4/200\n\nEpoch 00004: LearningRateScheduler setting learning rate to 0.001.\n28/28 [==============================] - 0s 11ms/step - loss: 1.4776 - f1_score: 0.5229 - val_loss: 2.0471 - val_f1_score: 0.3133\nEpoch 5/200\n\nEpoch 00005: LearningRateScheduler setting learning rate to 0.001.\n28/28 [==============================] - 0s 11ms/step - loss: 1.3302 - f1_score: 0.5643 - val_loss: 1.8409 - val_f1_score: 0.3667\nEpoch 6/200\n\nEpoch 00006: LearningRateScheduler setting learning rate to 0.001.\n28/28 [==============================] - 0s 11ms/step - loss: 1.2474 - f1_score: 0.6007 - val_loss: 2.1404 - val_f1_score: 0.2217\nEpoch 7/200\n\nEpoch 00007: LearningRateScheduler setting learning rate to 0.001.\n28/28 [==============================] - 0s 11ms/step - loss: 1.1312 - f1_score: 0.6464 - val_loss: 2.1780 - val_f1_score: 0.2100\nEpoch 8/200\n\nEpoch 00008: LearningRateScheduler setting learning rate to 0.001.\n28/28 [==============================] - 0s 11ms/step - loss: 1.1263 - f1_score: 0.6400 - val_loss: 2.4280 - val_f1_score: 0.2867\nEpoch 9/200\n\nEpoch 00009: LearningRateScheduler setting learning rate to 0.001.\n28/28 [==============================] - 0s 11ms/step - loss: 1.0599 - f1_score: 0.6593 - val_loss: 1.8472 - val_f1_score: 0.3383\nEpoch 10/200\n\nEpoch 00010: LearningRateScheduler setting learning rate to 0.001.\n28/28 [==============================] - 0s 11ms/step - loss: 1.0822 - f1_score: 0.6493 - val_loss: 1.9441 - val_f1_score: 0.3083\nEpoch 11/200\n\nEpoch 00011: LearningRateScheduler setting learning rate to 0.001.\n28/28 [==============================] - 0s 11ms/step - loss: 0.9975 - f1_score: 0.6821 - val_loss: 1.9114 - val_f1_score: 0.3083\nEpoch 12/200\n\nEpoch 00012: LearningRateScheduler setting learning rate to 0.001.\n28/28 [==============================] - 0s 11ms/step - loss: 0.9713 - f1_score: 0.6879 - val_loss: 1.9997 - val_f1_score: 0.3833\nEpoch 13/200\n\nEpoch 00013: LearningRateScheduler setting learning rate to 0.001.\n28/28 [==============================] - 0s 11ms/step - loss: 0.9438 - f1_score: 0.6864 - val_loss: 2.0190 - val_f1_score: 0.3350\nEpoch 14/200\n\nEpoch 00014: LearningRateScheduler setting learning rate to 0.001.\n28/28 [==============================] - 0s 11ms/step - loss: 0.9541 - f1_score: 0.6886 - val_loss: 2.5141 - val_f1_score: 0.2767\nEpoch 15/200\n\nEpoch 00015: LearningRateScheduler setting learning rate to 0.001.\n28/28 [==============================] - 0s 11ms/step - loss: 0.9187 - f1_score: 0.7100 - val_loss: 2.1331 - val_f1_score: 0.3617\nEpoch 16/200\n\nEpoch 00016: LearningRateScheduler setting learning rate to 0.001.\n28/28 [==============================] - 0s 11ms/step - loss: 0.9375 - f1_score: 0.7007 - val_loss: 1.7518 - val_f1_score: 0.4700\nEpoch 17/200\n\nEpoch 00017: LearningRateScheduler setting learning rate to 0.001.\n28/28 [==============================] - 0s 11ms/step - loss: 0.8706 - f1_score: 0.7221 - val_loss: 1.5445 - val_f1_score: 0.5300\nEpoch 18/200\n\nEpoch 00018: LearningRateScheduler setting learning rate to 0.001.\n28/28 [==============================] - 0s 11ms/step - loss: 0.8794 - f1_score: 0.7157 - val_loss: 3.0015 - val_f1_score: 0.3317\nEpoch 19/200\n\nEpoch 00019: LearningRateScheduler setting learning rate to 0.001.\n28/28 [==============================] - 0s 12ms/step - loss: 0.8414 - f1_score: 0.7307 - val_loss: 2.0021 - val_f1_score: 0.3383\nEpoch 20/200\n\nEpoch 00020: LearningRateScheduler setting learning rate to 0.001.\n28/28 [==============================] - 0s 11ms/step - loss: 0.8728 - f1_score: 0.7150 - val_loss: 1.8225 - val_f1_score: 0.3833\nEpoch 21/200\n\nEpoch 00021: LearningRateScheduler setting learning rate to 0.001.\n28/28 [==============================] - 0s 11ms/step - loss: 0.8974 - f1_score: 0.7043 - val_loss: 2.0605 - val_f1_score: 0.2817\nEpoch 22/200\n\nEpoch 00022: LearningRateScheduler setting learning rate to 0.001.\n28/28 [==============================] - 0s 11ms/step - loss: 0.8547 - f1_score: 0.7350 - val_loss: 2.6159 - val_f1_score: 0.2817\nEpoch 23/200\n\nEpoch 00023: LearningRateScheduler setting learning rate to 0.001.\n28/28 [==============================] - 0s 11ms/step - loss: 0.7772 - f1_score: 0.7400 - val_loss: 1.8690 - val_f1_score: 0.4000\nEpoch 24/200\n\nEpoch 00024: LearningRateScheduler setting learning rate to 0.001.\n28/28 [==============================] - 0s 11ms/step - loss: 0.7689 - f1_score: 0.7457 - val_loss: 2.0813 - val_f1_score: 0.4650\nEpoch 25/200\n\nEpoch 00025: LearningRateScheduler setting learning rate to 0.001.\n28/28 [==============================] - 0s 11ms/step - loss: 0.7835 - f1_score: 0.7586 - val_loss: 3.2593 - val_f1_score: 0.2233\nEpoch 26/200\n\nEpoch 00026: LearningRateScheduler setting learning rate to 0.001.\n28/28 [==============================] - 0s 12ms/step - loss: 0.7857 - f1_score: 0.7507 - val_loss: 3.0468 - val_f1_score: 0.2633\nEpoch 27/200\n\nEpoch 00027: LearningRateScheduler setting learning rate to 0.001.\n28/28 [==============================] - 0s 11ms/step - loss: 0.7622 - f1_score: 0.7550 - val_loss: 2.1246 - val_f1_score: 0.3617\nEpoch 28/200\n\nEpoch 00028: LearningRateScheduler setting learning rate to 0.001.\n28/28 [==============================] - 0s 11ms/step - loss: 0.7227 - f1_score: 0.7686 - val_loss: 2.1439 - val_f1_score: 0.3700\nEpoch 29/200\n\nEpoch 00029: LearningRateScheduler setting learning rate to 0.001.\n28/28 [==============================] - 0s 14ms/step - loss: 0.7742 - f1_score: 0.7407 - val_loss: 1.5673 - val_f1_score: 0.5000\nEpoch 30/200\n\nEpoch 00030: LearningRateScheduler setting learning rate to 0.001.\n28/28 [==============================] - 0s 11ms/step - loss: 0.7521 - f1_score: 0.7679 - val_loss: 2.6801 - val_f1_score: 0.2633\nEpoch 31/200\n\nEpoch 00031: LearningRateScheduler setting learning rate to 0.001.\n28/28 [==============================] - 0s 11ms/step - loss: 0.7326 - f1_score: 0.7657 - val_loss: 2.5568 - val_f1_score: 0.3317\nEpoch 32/200\n\nEpoch 00032: LearningRateScheduler setting learning rate to 0.001.\n28/28 [==============================] - 0s 11ms/step - loss: 0.7385 - f1_score: 0.7593 - val_loss: 1.9703 - val_f1_score: 0.3933\nEpoch 33/200\n\nEpoch 00033: LearningRateScheduler setting learning rate to 0.001.\n28/28 [==============================] - 0s 11ms/step - loss: 0.7683 - f1_score: 0.7471 - val_loss: 2.0631 - val_f1_score: 0.4683\nEpoch 34/200\n\nEpoch 00034: LearningRateScheduler setting learning rate to 0.001.\n28/28 [==============================] - 0s 11ms/step - loss: 0.7184 - f1_score: 0.7779 - val_loss: 4.5003 - val_f1_score: 0.1900\nEpoch 35/200\n\nEpoch 00035: LearningRateScheduler setting learning rate to 0.001.\n28/28 [==============================] - 0s 11ms/step - loss: 0.7575 - f1_score: 0.7500 - val_loss: 2.8152 - val_f1_score: 0.3567\nEpoch 36/200\n\nEpoch 00036: LearningRateScheduler setting learning rate to 0.001.\n28/28 [==============================] - 0s 11ms/step - loss: 0.7513 - f1_score: 0.7579 - val_loss: 2.9546 - val_f1_score: 0.3433\nEpoch 37/200\n\nEpoch 00037: LearningRateScheduler setting learning rate to 0.001.\n28/28 [==============================] - 0s 11ms/step - loss: 0.7429 - f1_score: 0.7629 - val_loss: 1.1908 - val_f1_score: 0.6100\nEpoch 38/200\n\nEpoch 00038: LearningRateScheduler setting learning rate to 0.001.\n28/28 [==============================] - 0s 11ms/step - loss: 0.6547 - f1_score: 0.8014 - val_loss: 3.5049 - val_f1_score: 0.2750\nEpoch 39/200\n\nEpoch 00039: LearningRateScheduler setting learning rate to 0.001.\n28/28 [==============================] - 0s 11ms/step - loss: 0.6520 - f1_score: 0.7957 - val_loss: 1.7651 - val_f1_score: 0.4467\nEpoch 40/200\n\nEpoch 00040: LearningRateScheduler setting learning rate to 0.001.\n28/28 [==============================] - 0s 11ms/step - loss: 0.6828 - f1_score: 0.7850 - val_loss: 3.3005 - val_f1_score: 0.2467\nEpoch 41/200\n\nEpoch 00041: LearningRateScheduler setting learning rate to 0.001.\n28/28 [==============================] - 0s 11ms/step - loss: 0.6748 - f1_score: 0.7907 - val_loss: 2.1059 - val_f1_score: 0.3917\nEpoch 42/200\n\nEpoch 00042: LearningRateScheduler setting learning rate to 0.001.\n28/28 [==============================] - 0s 11ms/step - loss: 0.6347 - f1_score: 0.7957 - val_loss: 1.4233 - val_f1_score: 0.5200\nEpoch 43/200\n\nEpoch 00043: LearningRateScheduler setting learning rate to 0.001.\n28/28 [==============================] - 0s 11ms/step - loss: 0.6742 - f1_score: 0.7714 - val_loss: 1.9684 - val_f1_score: 0.4650\nEpoch 44/200\n\nEpoch 00044: LearningRateScheduler setting learning rate to 0.001.\n28/28 [==============================] - 0s 11ms/step - loss: 0.6129 - f1_score: 0.8114 - val_loss: 2.7682 - val_f1_score: 0.3467\nEpoch 45/200\n\nEpoch 00045: LearningRateScheduler setting learning rate to 0.001.\n28/28 [==============================] - 0s 11ms/step - loss: 0.6092 - f1_score: 0.8043 - val_loss: 2.5023 - val_f1_score: 0.3650\nEpoch 46/200\n\nEpoch 00046: LearningRateScheduler setting learning rate to 0.001.\n28/28 [==============================] - 0s 12ms/step - loss: 0.6145 - f1_score: 0.8036 - val_loss: 2.5239 - val_f1_score: 0.4067\nEpoch 47/200\n\nEpoch 00047: LearningRateScheduler setting learning rate to 0.001.\n28/28 [==============================] - 0s 11ms/step - loss: 0.6447 - f1_score: 0.7857 - val_loss: 3.3732 - val_f1_score: 0.2867\nEpoch 48/200\n\nEpoch 00048: LearningRateScheduler setting learning rate to 0.001.\n28/28 [==============================] - 0s 11ms/step - loss: 0.5646 - f1_score: 0.8207 - val_loss: 9.8547 - val_f1_score: 0.1583\nEpoch 49/200\n\nEpoch 00049: LearningRateScheduler setting learning rate to 0.001.\n28/28 [==============================] - 0s 11ms/step - loss: 0.6136 - f1_score: 0.8064 - val_loss: 20.8262 - val_f1_score: 0.1483\nEpoch 50/200\n\nEpoch 00050: LearningRateScheduler setting learning rate to 0.001.\n28/28 [==============================] - 0s 11ms/step - loss: 0.5964 - f1_score: 0.8207 - val_loss: 6.7609 - val_f1_score: 0.2367\nEpoch 51/200\n\nEpoch 00051: LearningRateScheduler setting learning rate to 1e-06.\n28/28 [==============================] - 0s 11ms/step - loss: 0.5797 - f1_score: 0.8336 - val_loss: 4.1592 - val_f1_score: 0.2533\nEpoch 52/200\n\nEpoch 00052: LearningRateScheduler setting learning rate to 1e-06.\n28/28 [==============================] - 0s 11ms/step - loss: 0.5894 - f1_score: 0.8186 - val_loss: 2.5606 - val_f1_score: 0.3933\nEpoch 53/200\n\nEpoch 00053: LearningRateScheduler setting learning rate to 1e-06.\n28/28 [==============================] - 0s 17ms/step - loss: 0.5877 - f1_score: 0.8164 - val_loss: 1.6391 - val_f1_score: 0.5233\nEpoch 54/200\n\nEpoch 00054: LearningRateScheduler setting learning rate to 1e-06.\n28/28 [==============================] - 1s 20ms/step - loss: 0.5887 - f1_score: 0.8150 - val_loss: 1.1688 - val_f1_score: 0.6300\nEpoch 55/200\n\nEpoch 00055: LearningRateScheduler setting learning rate to 1e-06.\n28/28 [==============================] - 0s 11ms/step - loss: 0.5950 - f1_score: 0.8057 - val_loss: 0.8827 - val_f1_score: 0.7117\nEpoch 56/200\n\nEpoch 00056: LearningRateScheduler setting learning rate to 1e-06.\n28/28 [==============================] - 0s 11ms/step - loss: 0.5657 - f1_score: 0.8221 - val_loss: 0.7214 - val_f1_score: 0.7517\nEpoch 57/200\n\nEpoch 00057: LearningRateScheduler setting learning rate to 1e-06.\n28/28 [==============================] - 0s 11ms/step - loss: 0.5775 - f1_score: 0.8164 - val_loss: 0.6362 - val_f1_score: 0.7900\nEpoch 58/200\n\nEpoch 00058: LearningRateScheduler setting learning rate to 1e-06.\n28/28 [==============================] - 0s 11ms/step - loss: 0.5768 - f1_score: 0.8271 - val_loss: 0.5868 - val_f1_score: 0.8133\nEpoch 59/200\n\nEpoch 00059: LearningRateScheduler setting learning rate to 1e-06.\n28/28 [==============================] - 0s 11ms/step - loss: 0.5384 - f1_score: 0.8393 - val_loss: 0.5582 - val_f1_score: 0.8217\nEpoch 60/200\n\nEpoch 00060: LearningRateScheduler setting learning rate to 1e-06.\n28/28 [==============================] - 0s 11ms/step - loss: 0.5455 - f1_score: 0.8300 - val_loss: 0.5422 - val_f1_score: 0.8267\nEpoch 61/200\n\nEpoch 00061: LearningRateScheduler setting learning rate to 1e-06.\n28/28 [==============================] - 0s 10ms/step - loss: 0.5594 - f1_score: 0.8350 - val_loss: 0.5300 - val_f1_score: 0.8267\nEpoch 62/200\n\nEpoch 00062: LearningRateScheduler setting learning rate to 1e-06.\n28/28 [==============================] - 0s 11ms/step - loss: 0.5693 - f1_score: 0.8293 - val_loss: 0.5225 - val_f1_score: 0.8333\nEpoch 63/200\n\nEpoch 00063: LearningRateScheduler setting learning rate to 1e-06.\n28/28 [==============================] - 0s 11ms/step - loss: 0.5413 - f1_score: 0.8457 - val_loss: 0.5188 - val_f1_score: 0.8333\nEpoch 64/200\n\nEpoch 00064: LearningRateScheduler setting learning rate to 1e-06.\n28/28 [==============================] - 0s 12ms/step - loss: 0.5617 - f1_score: 0.8214 - val_loss: 0.5156 - val_f1_score: 0.8367\nEpoch 65/200\n\nEpoch 00065: LearningRateScheduler setting learning rate to 1e-06.\n28/28 [==============================] - 0s 11ms/step - loss: 0.5363 - f1_score: 0.8350 - val_loss: 0.5145 - val_f1_score: 0.8367\nEpoch 66/200\n\nEpoch 00066: LearningRateScheduler setting learning rate to 1e-06.\n28/28 [==============================] - 0s 11ms/step - loss: 0.5409 - f1_score: 0.8329 - val_loss: 0.5129 - val_f1_score: 0.8383\nEpoch 67/200\n\nEpoch 00067: LearningRateScheduler setting learning rate to 1e-06.\n28/28 [==============================] - 0s 11ms/step - loss: 0.5454 - f1_score: 0.8357 - val_loss: 0.5115 - val_f1_score: 0.8367\nEpoch 68/200\n\nEpoch 00068: LearningRateScheduler setting learning rate to 1e-06.\n28/28 [==============================] - 0s 11ms/step - loss: 0.5642 - f1_score: 0.8307 - val_loss: 0.5101 - val_f1_score: 0.8400\nEpoch 69/200\n\nEpoch 00069: LearningRateScheduler setting learning rate to 1e-06.\n28/28 [==============================] - 0s 11ms/step - loss: 0.5656 - f1_score: 0.8171 - val_loss: 0.5090 - val_f1_score: 0.8400\nEpoch 70/200\n\nEpoch 00070: LearningRateScheduler setting learning rate to 1e-06.\n28/28 [==============================] - 0s 11ms/step - loss: 0.5417 - f1_score: 0.8264 - val_loss: 0.5072 - val_f1_score: 0.8400\nEpoch 71/200\n\nEpoch 00071: LearningRateScheduler setting learning rate to 1e-06.\n28/28 [==============================] - 0s 11ms/step - loss: 0.5394 - f1_score: 0.8357 - val_loss: 0.5061 - val_f1_score: 0.8417\nEpoch 72/200\n\nEpoch 00072: LearningRateScheduler setting learning rate to 1e-06.\n28/28 [==============================] - 0s 11ms/step - loss: 0.5341 - f1_score: 0.8471 - val_loss: 0.5054 - val_f1_score: 0.8433\nEpoch 73/200\n\nEpoch 00073: LearningRateScheduler setting learning rate to 1e-06.\n28/28 [==============================] - 0s 11ms/step - loss: 0.5351 - f1_score: 0.8314 - val_loss: 0.5039 - val_f1_score: 0.8417\nEpoch 74/200\n\nEpoch 00074: LearningRateScheduler setting learning rate to 1e-06.\n28/28 [==============================] - 0s 11ms/step - loss: 0.5146 - f1_score: 0.8436 - val_loss: 0.5023 - val_f1_score: 0.8417\nEpoch 75/200\n\nEpoch 00075: LearningRateScheduler setting learning rate to 1e-06.\n28/28 [==============================] - 0s 11ms/step - loss: 0.5456 - f1_score: 0.8379 - val_loss: 0.5014 - val_f1_score: 0.8417\nEpoch 76/200\n\nEpoch 00076: LearningRateScheduler setting learning rate to 1e-06.\n28/28 [==============================] - 0s 11ms/step - loss: 0.5435 - f1_score: 0.8343 - val_loss: 0.5006 - val_f1_score: 0.8433\nEpoch 77/200\n\nEpoch 00077: LearningRateScheduler setting learning rate to 1e-06.\n28/28 [==============================] - 0s 11ms/step - loss: 0.5486 - f1_score: 0.8371 - val_loss: 0.4995 - val_f1_score: 0.8433\nEpoch 78/200\n\nEpoch 00078: LearningRateScheduler setting learning rate to 1e-06.\n28/28 [==============================] - 0s 14ms/step - loss: 0.5422 - f1_score: 0.8507 - val_loss: 0.4993 - val_f1_score: 0.8450\nEpoch 79/200\n\nEpoch 00079: LearningRateScheduler setting learning rate to 1e-06.\n28/28 [==============================] - 0s 12ms/step - loss: 0.5239 - f1_score: 0.8414 - val_loss: 0.4987 - val_f1_score: 0.8450\nEpoch 80/200\n\nEpoch 00080: LearningRateScheduler setting learning rate to 1e-06.\n28/28 [==============================] - 0s 11ms/step - loss: 0.5426 - f1_score: 0.8350 - val_loss: 0.4974 - val_f1_score: 0.8450\nEpoch 81/200\n\nEpoch 00081: LearningRateScheduler setting learning rate to 1e-06.\n28/28 [==============================] - 0s 11ms/step - loss: 0.5464 - f1_score: 0.8350 - val_loss: 0.4965 - val_f1_score: 0.8483\nEpoch 82/200\n\nEpoch 00082: LearningRateScheduler setting learning rate to 1e-06.\n28/28 [==============================] - 0s 11ms/step - loss: 0.5425 - f1_score: 0.8407 - val_loss: 0.4957 - val_f1_score: 0.8467\nEpoch 83/200\n\nEpoch 00083: LearningRateScheduler setting learning rate to 1e-06.\n28/28 [==============================] - 0s 11ms/step - loss: 0.5265 - f1_score: 0.8421 - val_loss: 0.4950 - val_f1_score: 0.8417\nEpoch 84/200\n\nEpoch 00084: LearningRateScheduler setting learning rate to 1e-06.\n28/28 [==============================] - 0s 11ms/step - loss: 0.5142 - f1_score: 0.8493 - val_loss: 0.4943 - val_f1_score: 0.8433\nEpoch 85/200\n\nEpoch 00085: LearningRateScheduler setting learning rate to 1e-06.\n28/28 [==============================] - 0s 11ms/step - loss: 0.5359 - f1_score: 0.8357 - val_loss: 0.4934 - val_f1_score: 0.8467\nEpoch 86/200\n\nEpoch 00086: LearningRateScheduler setting learning rate to 1e-06.\n28/28 [==============================] - 0s 10ms/step - loss: 0.5186 - f1_score: 0.8550 - val_loss: 0.4933 - val_f1_score: 0.8467\nEpoch 87/200\n\nEpoch 00087: LearningRateScheduler setting learning rate to 1e-06.\n28/28 [==============================] - 0s 11ms/step - loss: 0.5438 - f1_score: 0.8336 - val_loss: 0.4925 - val_f1_score: 0.8483\nEpoch 88/200\n\nEpoch 00088: LearningRateScheduler setting learning rate to 1e-06.\n28/28 [==============================] - 0s 11ms/step - loss: 0.5181 - f1_score: 0.8400 - val_loss: 0.4922 - val_f1_score: 0.8467\nEpoch 89/200\n\nEpoch 00089: LearningRateScheduler setting learning rate to 1e-06.\n28/28 [==============================] - 0s 11ms/step - loss: 0.4773 - f1_score: 0.8671 - val_loss: 0.4917 - val_f1_score: 0.8483\nEpoch 90/200\n\nEpoch 00090: LearningRateScheduler setting learning rate to 1e-06.\n28/28 [==============================] - 0s 11ms/step - loss: 0.5268 - f1_score: 0.8407 - val_loss: 0.4910 - val_f1_score: 0.8467\nEpoch 91/200\n\nEpoch 00091: LearningRateScheduler setting learning rate to 1e-06.\n28/28 [==============================] - 0s 11ms/step - loss: 0.5019 - f1_score: 0.8571 - val_loss: 0.4896 - val_f1_score: 0.8483\nEpoch 92/200\n\nEpoch 00092: LearningRateScheduler setting learning rate to 1e-06.\n28/28 [==============================] - 0s 11ms/step - loss: 0.5149 - f1_score: 0.8479 - val_loss: 0.4892 - val_f1_score: 0.8500\nEpoch 93/200\n\nEpoch 00093: LearningRateScheduler setting learning rate to 1e-06.\n28/28 [==============================] - 0s 11ms/step - loss: 0.4991 - f1_score: 0.8493 - val_loss: 0.4889 - val_f1_score: 0.8517\nEpoch 94/200\n\nEpoch 00094: LearningRateScheduler setting learning rate to 1e-06.\n28/28 [==============================] - 0s 11ms/step - loss: 0.5042 - f1_score: 0.8543 - val_loss: 0.4882 - val_f1_score: 0.8517\nEpoch 95/200\n\nEpoch 00095: LearningRateScheduler setting learning rate to 1e-06.\n28/28 [==============================] - 0s 11ms/step - loss: 0.5145 - f1_score: 0.8407 - val_loss: 0.4875 - val_f1_score: 0.8500\nEpoch 96/200\n\nEpoch 00096: LearningRateScheduler setting learning rate to 1e-06.\n28/28 [==============================] - 0s 11ms/step - loss: 0.5061 - f1_score: 0.8521 - val_loss: 0.4875 - val_f1_score: 0.8517\nEpoch 97/200\n\nEpoch 00097: LearningRateScheduler setting learning rate to 1e-06.\n28/28 [==============================] - 0s 11ms/step - loss: 0.4968 - f1_score: 0.8579 - val_loss: 0.4865 - val_f1_score: 0.8500\nEpoch 98/200\n\nEpoch 00098: LearningRateScheduler setting learning rate to 1e-06.\n28/28 [==============================] - 0s 11ms/step - loss: 0.5141 - f1_score: 0.8386 - val_loss: 0.4852 - val_f1_score: 0.8483\nEpoch 99/200\n\nEpoch 00099: LearningRateScheduler setting learning rate to 1e-06.\n28/28 [==============================] - 0s 11ms/step - loss: 0.4916 - f1_score: 0.8571 - val_loss: 0.4848 - val_f1_score: 0.8533\nEpoch 100/200\n\nEpoch 00100: LearningRateScheduler setting learning rate to 1e-06.\n28/28 [==============================] - 0s 11ms/step - loss: 0.5013 - f1_score: 0.8514 - val_loss: 0.4842 - val_f1_score: 0.8533\nEpoch 101/200\n\nEpoch 00101: LearningRateScheduler setting learning rate to 1e-06.\n28/28 [==============================] - 0s 11ms/step - loss: 0.5346 - f1_score: 0.8429 - val_loss: 0.4834 - val_f1_score: 0.8550\nEpoch 102/200\n\nEpoch 00102: LearningRateScheduler setting learning rate to 1e-06.\n28/28 [==============================] - 0s 11ms/step - loss: 0.4990 - f1_score: 0.8536 - val_loss: 0.4828 - val_f1_score: 0.8550\nEpoch 103/200\n\nEpoch 00103: LearningRateScheduler setting learning rate to 1e-06.\n28/28 [==============================] - 0s 12ms/step - loss: 0.4879 - f1_score: 0.8457 - val_loss: 0.4824 - val_f1_score: 0.8550\nEpoch 104/200\n\nEpoch 00104: LearningRateScheduler setting learning rate to 1e-06.\n28/28 [==============================] - 0s 13ms/step - loss: 0.4909 - f1_score: 0.8550 - val_loss: 0.4822 - val_f1_score: 0.8567\nEpoch 105/200\n\nEpoch 00105: LearningRateScheduler setting learning rate to 1e-06.\n28/28 [==============================] - 0s 11ms/step - loss: 0.4679 - f1_score: 0.8593 - val_loss: 0.4815 - val_f1_score: 0.8567\nEpoch 106/200\n\nEpoch 00106: LearningRateScheduler setting learning rate to 1e-06.\n28/28 [==============================] - 0s 11ms/step - loss: 0.5157 - f1_score: 0.8457 - val_loss: 0.4816 - val_f1_score: 0.8533\nEpoch 107/200\n\nEpoch 00107: LearningRateScheduler setting learning rate to 1e-06.\n28/28 [==============================] - 0s 11ms/step - loss: 0.4790 - f1_score: 0.8671 - val_loss: 0.4807 - val_f1_score: 0.8567\nEpoch 108/200\n\nEpoch 00108: LearningRateScheduler setting learning rate to 1e-06.\n28/28 [==============================] - 0s 12ms/step - loss: 0.5074 - f1_score: 0.8536 - val_loss: 0.4803 - val_f1_score: 0.8583\nEpoch 109/200\n\nEpoch 00109: LearningRateScheduler setting learning rate to 1e-06.\n28/28 [==============================] - 0s 11ms/step - loss: 0.4884 - f1_score: 0.8586 - val_loss: 0.4796 - val_f1_score: 0.8617\nEpoch 110/200\n\nEpoch 00110: LearningRateScheduler setting learning rate to 1e-06.\n28/28 [==============================] - 0s 11ms/step - loss: 0.4920 - f1_score: 0.8543 - val_loss: 0.4789 - val_f1_score: 0.8617\nEpoch 111/200\n\nEpoch 00111: LearningRateScheduler setting learning rate to 1e-06.\n28/28 [==============================] - 0s 11ms/step - loss: 0.4623 - f1_score: 0.8643 - val_loss: 0.4785 - val_f1_score: 0.8600\nEpoch 112/200\n\nEpoch 00112: LearningRateScheduler setting learning rate to 1e-06.\n28/28 [==============================] - 0s 11ms/step - loss: 0.4673 - f1_score: 0.8593 - val_loss: 0.4774 - val_f1_score: 0.8600\nEpoch 113/200\n\nEpoch 00113: LearningRateScheduler setting learning rate to 1e-06.\n28/28 [==============================] - 0s 11ms/step - loss: 0.4876 - f1_score: 0.8586 - val_loss: 0.4768 - val_f1_score: 0.8583\nEpoch 114/200\n\nEpoch 00114: LearningRateScheduler setting learning rate to 1e-06.\n28/28 [==============================] - 0s 11ms/step - loss: 0.4733 - f1_score: 0.8671 - val_loss: 0.4767 - val_f1_score: 0.8583\nEpoch 115/200\n\nEpoch 00115: LearningRateScheduler setting learning rate to 1e-06.\n28/28 [==============================] - 0s 11ms/step - loss: 0.4976 - f1_score: 0.8579 - val_loss: 0.4762 - val_f1_score: 0.8567\nEpoch 116/200\n\nEpoch 00116: LearningRateScheduler setting learning rate to 1e-06.\n28/28 [==============================] - 0s 11ms/step - loss: 0.5012 - f1_score: 0.8557 - val_loss: 0.4754 - val_f1_score: 0.8583\nEpoch 117/200\n\nEpoch 00117: LearningRateScheduler setting learning rate to 1e-06.\n28/28 [==============================] - 0s 11ms/step - loss: 0.4893 - f1_score: 0.8586 - val_loss: 0.4751 - val_f1_score: 0.8600\nEpoch 118/200\n\nEpoch 00118: LearningRateScheduler setting learning rate to 1e-06.\n28/28 [==============================] - 0s 11ms/step - loss: 0.4909 - f1_score: 0.8521 - val_loss: 0.4745 - val_f1_score: 0.8600\nEpoch 119/200\n\nEpoch 00119: LearningRateScheduler setting learning rate to 1e-06.\n28/28 [==============================] - 0s 11ms/step - loss: 0.5002 - f1_score: 0.8529 - val_loss: 0.4738 - val_f1_score: 0.8567\nEpoch 120/200\n\nEpoch 00120: LearningRateScheduler setting learning rate to 1e-06.\n28/28 [==============================] - 0s 11ms/step - loss: 0.4689 - f1_score: 0.8571 - val_loss: 0.4734 - val_f1_score: 0.8567\nEpoch 121/200\n\nEpoch 00121: LearningRateScheduler setting learning rate to 1e-06.\n28/28 [==============================] - 0s 11ms/step - loss: 0.4654 - f1_score: 0.8686 - val_loss: 0.4733 - val_f1_score: 0.8583\nEpoch 122/200\n\nEpoch 00122: LearningRateScheduler setting learning rate to 1e-06.\n28/28 [==============================] - 0s 11ms/step - loss: 0.4721 - f1_score: 0.8614 - val_loss: 0.4728 - val_f1_score: 0.8600\nEpoch 123/200\n\nEpoch 00123: LearningRateScheduler setting learning rate to 1e-06.\n28/28 [==============================] - 0s 11ms/step - loss: 0.4868 - f1_score: 0.8500 - val_loss: 0.4722 - val_f1_score: 0.8583\nEpoch 124/200\n\nEpoch 00124: LearningRateScheduler setting learning rate to 1e-06.\n28/28 [==============================] - 0s 11ms/step - loss: 0.4638 - f1_score: 0.8600 - val_loss: 0.4719 - val_f1_score: 0.8583\nEpoch 125/200\n\nEpoch 00125: LearningRateScheduler setting learning rate to 1e-06.\n28/28 [==============================] - 0s 11ms/step - loss: 0.4673 - f1_score: 0.8650 - val_loss: 0.4720 - val_f1_score: 0.8600\nEpoch 126/200\n\nEpoch 00126: LearningRateScheduler setting learning rate to 1e-06.\n28/28 [==============================] - 0s 11ms/step - loss: 0.4588 - f1_score: 0.8779 - val_loss: 0.4717 - val_f1_score: 0.8583\nEpoch 127/200\n\nEpoch 00127: LearningRateScheduler setting learning rate to 1e-06.\n28/28 [==============================] - 0s 11ms/step - loss: 0.4759 - f1_score: 0.8643 - val_loss: 0.4711 - val_f1_score: 0.8617\nEpoch 128/200\n\nEpoch 00128: LearningRateScheduler setting learning rate to 1e-06.\n28/28 [==============================] - 0s 17ms/step - loss: 0.4573 - f1_score: 0.8721 - val_loss: 0.4712 - val_f1_score: 0.8583\nEpoch 129/200\n\nEpoch 00129: LearningRateScheduler setting learning rate to 1e-06.\n28/28 [==============================] - 0s 18ms/step - loss: 0.4854 - f1_score: 0.8586 - val_loss: 0.4710 - val_f1_score: 0.8567\nEpoch 130/200\n\nEpoch 00130: LearningRateScheduler setting learning rate to 1e-06.\n28/28 [==============================] - 0s 11ms/step - loss: 0.4650 - f1_score: 0.8664 - val_loss: 0.4706 - val_f1_score: 0.8600\nEpoch 131/200\n\nEpoch 00131: LearningRateScheduler setting learning rate to 1e-06.\n28/28 [==============================] - 0s 11ms/step - loss: 0.4537 - f1_score: 0.8736 - val_loss: 0.4699 - val_f1_score: 0.8583\nEpoch 132/200\n\nEpoch 00132: LearningRateScheduler setting learning rate to 1e-06.\n28/28 [==============================] - 0s 13ms/step - loss: 0.4596 - f1_score: 0.8671 - val_loss: 0.4692 - val_f1_score: 0.8600\nEpoch 133/200\n\nEpoch 00133: LearningRateScheduler setting learning rate to 1e-06.\n28/28 [==============================] - 0s 10ms/step - loss: 0.4718 - f1_score: 0.8614 - val_loss: 0.4691 - val_f1_score: 0.8600\nEpoch 134/200\n\nEpoch 00134: LearningRateScheduler setting learning rate to 1e-06.\n28/28 [==============================] - 0s 11ms/step - loss: 0.4615 - f1_score: 0.8707 - val_loss: 0.4691 - val_f1_score: 0.8617\nEpoch 135/200\n\nEpoch 00135: LearningRateScheduler setting learning rate to 1e-06.\n28/28 [==============================] - 0s 11ms/step - loss: 0.4548 - f1_score: 0.8721 - val_loss: 0.4692 - val_f1_score: 0.8617\nEpoch 136/200\n\nEpoch 00136: LearningRateScheduler setting learning rate to 1e-06.\n28/28 [==============================] - 0s 11ms/step - loss: 0.4766 - f1_score: 0.8579 - val_loss: 0.4691 - val_f1_score: 0.8617\nEpoch 137/200\n\nEpoch 00137: LearningRateScheduler setting learning rate to 1e-06.\n28/28 [==============================] - 0s 11ms/step - loss: 0.4692 - f1_score: 0.8600 - val_loss: 0.4685 - val_f1_score: 0.8617\nEpoch 138/200\n\nEpoch 00138: LearningRateScheduler setting learning rate to 1e-06.\n28/28 [==============================] - 0s 11ms/step - loss: 0.4685 - f1_score: 0.8564 - val_loss: 0.4681 - val_f1_score: 0.8617\nEpoch 139/200\n\nEpoch 00139: LearningRateScheduler setting learning rate to 1e-06.\n28/28 [==============================] - 0s 11ms/step - loss: 0.4578 - f1_score: 0.8679 - val_loss: 0.4678 - val_f1_score: 0.8617\nEpoch 140/200\n\nEpoch 00140: LearningRateScheduler setting learning rate to 1e-06.\n28/28 [==============================] - 0s 11ms/step - loss: 0.4754 - f1_score: 0.8550 - val_loss: 0.4679 - val_f1_score: 0.8617\nEpoch 141/200\n\nEpoch 00141: LearningRateScheduler setting learning rate to 1e-06.\n28/28 [==============================] - 0s 12ms/step - loss: 0.4650 - f1_score: 0.8621 - val_loss: 0.4676 - val_f1_score: 0.8617\nEpoch 142/200\n\nEpoch 00142: LearningRateScheduler setting learning rate to 1e-06.\n28/28 [==============================] - 0s 11ms/step - loss: 0.4652 - f1_score: 0.8579 - val_loss: 0.4673 - val_f1_score: 0.8617\nEpoch 143/200\n\nEpoch 00143: LearningRateScheduler setting learning rate to 1e-06.\n28/28 [==============================] - 0s 11ms/step - loss: 0.4575 - f1_score: 0.8714 - val_loss: 0.4668 - val_f1_score: 0.8633\nEpoch 144/200\n\nEpoch 00144: LearningRateScheduler setting learning rate to 1e-06.\n28/28 [==============================] - 0s 11ms/step - loss: 0.4583 - f1_score: 0.8629 - val_loss: 0.4662 - val_f1_score: 0.8633\nEpoch 145/200\n\nEpoch 00145: LearningRateScheduler setting learning rate to 1e-06.\n28/28 [==============================] - 0s 11ms/step - loss: 0.4486 - f1_score: 0.8686 - val_loss: 0.4660 - val_f1_score: 0.8633\nEpoch 146/200\n\nEpoch 00146: LearningRateScheduler setting learning rate to 1e-06.\n28/28 [==============================] - 0s 11ms/step - loss: 0.4775 - f1_score: 0.8614 - val_loss: 0.4658 - val_f1_score: 0.8633\nEpoch 147/200\n\nEpoch 00147: LearningRateScheduler setting learning rate to 1e-06.\n28/28 [==============================] - 0s 11ms/step - loss: 0.4595 - f1_score: 0.8643 - val_loss: 0.4656 - val_f1_score: 0.8633\nEpoch 148/200\n\nEpoch 00148: LearningRateScheduler setting learning rate to 1e-06.\n28/28 [==============================] - 0s 11ms/step - loss: 0.4524 - f1_score: 0.8714 - val_loss: 0.4653 - val_f1_score: 0.8633\nEpoch 149/200\n\nEpoch 00149: LearningRateScheduler setting learning rate to 1e-06.\n28/28 [==============================] - 0s 11ms/step - loss: 0.4256 - f1_score: 0.8714 - val_loss: 0.4649 - val_f1_score: 0.8600\nEpoch 150/200\n\nEpoch 00150: LearningRateScheduler setting learning rate to 1e-06.\n28/28 [==============================] - 0s 11ms/step - loss: 0.4745 - f1_score: 0.8600 - val_loss: 0.4649 - val_f1_score: 0.8633\nEpoch 151/200\n\nEpoch 00151: LearningRateScheduler setting learning rate to 1e-06.\n28/28 [==============================] - 0s 11ms/step - loss: 0.4459 - f1_score: 0.8814 - val_loss: 0.4649 - val_f1_score: 0.8600\nEpoch 152/200\n\nEpoch 00152: LearningRateScheduler setting learning rate to 1e-06.\n28/28 [==============================] - 0s 10ms/step - loss: 0.4696 - f1_score: 0.8586 - val_loss: 0.4646 - val_f1_score: 0.8650\nEpoch 153/200\n\nEpoch 00153: LearningRateScheduler setting learning rate to 1e-06.\n28/28 [==============================] - 0s 14ms/step - loss: 0.4815 - f1_score: 0.8564 - val_loss: 0.4639 - val_f1_score: 0.8633\nEpoch 154/200\n\nEpoch 00154: LearningRateScheduler setting learning rate to 1e-06.\n28/28 [==============================] - 0s 11ms/step - loss: 0.4640 - f1_score: 0.8714 - val_loss: 0.4632 - val_f1_score: 0.8650\nEpoch 155/200\n\nEpoch 00155: LearningRateScheduler setting learning rate to 1e-06.\n28/28 [==============================] - 0s 11ms/step - loss: 0.4683 - f1_score: 0.8579 - val_loss: 0.4631 - val_f1_score: 0.8633\nEpoch 156/200\n\nEpoch 00156: LearningRateScheduler setting learning rate to 1e-06.\n28/28 [==============================] - 0s 11ms/step - loss: 0.4974 - f1_score: 0.8507 - val_loss: 0.4627 - val_f1_score: 0.8633\nEpoch 157/200\n\nEpoch 00157: LearningRateScheduler setting learning rate to 1e-06.\n28/28 [==============================] - 0s 11ms/step - loss: 0.4609 - f1_score: 0.8643 - val_loss: 0.4628 - val_f1_score: 0.8633\nEpoch 158/200\n\nEpoch 00158: LearningRateScheduler setting learning rate to 1e-06.\n28/28 [==============================] - 0s 11ms/step - loss: 0.4762 - f1_score: 0.8664 - val_loss: 0.4622 - val_f1_score: 0.8633\nEpoch 159/200\n\nEpoch 00159: LearningRateScheduler setting learning rate to 1e-06.\n28/28 [==============================] - 0s 11ms/step - loss: 0.4708 - f1_score: 0.8607 - val_loss: 0.4617 - val_f1_score: 0.8650\nEpoch 160/200\n\nEpoch 00160: LearningRateScheduler setting learning rate to 1e-06.\n28/28 [==============================] - 0s 11ms/step - loss: 0.4606 - f1_score: 0.8700 - val_loss: 0.4617 - val_f1_score: 0.8667\nEpoch 161/200\n\nEpoch 00161: LearningRateScheduler setting learning rate to 1e-06.\n28/28 [==============================] - 0s 11ms/step - loss: 0.4545 - f1_score: 0.8679 - val_loss: 0.4612 - val_f1_score: 0.8683\nEpoch 162/200\n\nEpoch 00162: LearningRateScheduler setting learning rate to 1e-06.\n28/28 [==============================] - 0s 11ms/step - loss: 0.4825 - f1_score: 0.8664 - val_loss: 0.4607 - val_f1_score: 0.8683\nEpoch 163/200\n\nEpoch 00163: LearningRateScheduler setting learning rate to 1e-06.\n28/28 [==============================] - 0s 11ms/step - loss: 0.4421 - f1_score: 0.8779 - val_loss: 0.4608 - val_f1_score: 0.8683\nEpoch 164/200\n\nEpoch 00164: LearningRateScheduler setting learning rate to 1e-06.\n28/28 [==============================] - 0s 11ms/step - loss: 0.4669 - f1_score: 0.8693 - val_loss: 0.4604 - val_f1_score: 0.8700\nEpoch 165/200\n\nEpoch 00165: LearningRateScheduler setting learning rate to 1e-06.\n28/28 [==============================] - 0s 11ms/step - loss: 0.4584 - f1_score: 0.8671 - val_loss: 0.4605 - val_f1_score: 0.8700\nEpoch 166/200\n\nEpoch 00166: LearningRateScheduler setting learning rate to 1e-06.\n28/28 [==============================] - 0s 11ms/step - loss: 0.4441 - f1_score: 0.8821 - val_loss: 0.4605 - val_f1_score: 0.8700\nEpoch 167/200\n\nEpoch 00167: LearningRateScheduler setting learning rate to 1e-06.\n28/28 [==============================] - 0s 11ms/step - loss: 0.4319 - f1_score: 0.8793 - val_loss: 0.4606 - val_f1_score: 0.8667\nEpoch 168/200\n\nEpoch 00168: LearningRateScheduler setting learning rate to 1e-06.\n28/28 [==============================] - 0s 11ms/step - loss: 0.4518 - f1_score: 0.8586 - val_loss: 0.4600 - val_f1_score: 0.8683\nEpoch 169/200\n\nEpoch 00169: LearningRateScheduler setting learning rate to 1e-06.\n28/28 [==============================] - 0s 11ms/step - loss: 0.4317 - f1_score: 0.8750 - val_loss: 0.4600 - val_f1_score: 0.8683\nEpoch 170/200\n\nEpoch 00170: LearningRateScheduler setting learning rate to 1e-06.\n28/28 [==============================] - 0s 11ms/step - loss: 0.4220 - f1_score: 0.8857 - val_loss: 0.4602 - val_f1_score: 0.8650\nEpoch 171/200\n\nEpoch 00171: LearningRateScheduler setting learning rate to 1e-06.\n28/28 [==============================] - 0s 11ms/step - loss: 0.4570 - f1_score: 0.8614 - val_loss: 0.4600 - val_f1_score: 0.8667\nEpoch 172/200\n\nEpoch 00172: LearningRateScheduler setting learning rate to 1e-06.\n28/28 [==============================] - 0s 11ms/step - loss: 0.4392 - f1_score: 0.8786 - val_loss: 0.4597 - val_f1_score: 0.8667\nEpoch 173/200\n\nEpoch 00173: LearningRateScheduler setting learning rate to 1e-06.\n28/28 [==============================] - 0s 11ms/step - loss: 0.4568 - f1_score: 0.8779 - val_loss: 0.4597 - val_f1_score: 0.8650\nEpoch 174/200\n\nEpoch 00174: LearningRateScheduler setting learning rate to 1e-06.\n28/28 [==============================] - 0s 11ms/step - loss: 0.4610 - f1_score: 0.8693 - val_loss: 0.4596 - val_f1_score: 0.8667\nEpoch 175/200\n\nEpoch 00175: LearningRateScheduler setting learning rate to 1e-06.\n28/28 [==============================] - 0s 11ms/step - loss: 0.4487 - f1_score: 0.8771 - val_loss: 0.4597 - val_f1_score: 0.8667\nEpoch 176/200\n\nEpoch 00176: LearningRateScheduler setting learning rate to 1e-06.\n28/28 [==============================] - 0s 11ms/step - loss: 0.4404 - f1_score: 0.8771 - val_loss: 0.4596 - val_f1_score: 0.8667\nEpoch 177/200\n\nEpoch 00177: LearningRateScheduler setting learning rate to 1e-06.\n28/28 [==============================] - 0s 11ms/step - loss: 0.4565 - f1_score: 0.8650 - val_loss: 0.4593 - val_f1_score: 0.8650\nEpoch 178/200\n\nEpoch 00178: LearningRateScheduler setting learning rate to 1e-06.\n28/28 [==============================] - 0s 11ms/step - loss: 0.4519 - f1_score: 0.8729 - val_loss: 0.4592 - val_f1_score: 0.8667\nEpoch 179/200\n\nEpoch 00179: LearningRateScheduler setting learning rate to 1e-06.\n28/28 [==============================] - 0s 13ms/step - loss: 0.4437 - f1_score: 0.8721 - val_loss: 0.4593 - val_f1_score: 0.8650\nEpoch 180/200\n\nEpoch 00180: LearningRateScheduler setting learning rate to 1e-06.\n28/28 [==============================] - 0s 11ms/step - loss: 0.4331 - f1_score: 0.8793 - val_loss: 0.4589 - val_f1_score: 0.8700\nEpoch 181/200\n\nEpoch 00181: LearningRateScheduler setting learning rate to 1e-06.\n28/28 [==============================] - 0s 11ms/step - loss: 0.4370 - f1_score: 0.8764 - val_loss: 0.4586 - val_f1_score: 0.8683\nEpoch 182/200\n\nEpoch 00182: LearningRateScheduler setting learning rate to 1e-06.\n28/28 [==============================] - 0s 11ms/step - loss: 0.4479 - f1_score: 0.8707 - val_loss: 0.4587 - val_f1_score: 0.8667\nEpoch 183/200\n\nEpoch 00183: LearningRateScheduler setting learning rate to 1e-06.\n28/28 [==============================] - 0s 11ms/step - loss: 0.4320 - f1_score: 0.8850 - val_loss: 0.4587 - val_f1_score: 0.8683\nEpoch 184/200\n\nEpoch 00184: LearningRateScheduler setting learning rate to 1e-06.\n28/28 [==============================] - 0s 11ms/step - loss: 0.4485 - f1_score: 0.8671 - val_loss: 0.4584 - val_f1_score: 0.8683\nEpoch 185/200\n\nEpoch 00185: LearningRateScheduler setting learning rate to 1e-06.\n28/28 [==============================] - 0s 11ms/step - loss: 0.4461 - f1_score: 0.8700 - val_loss: 0.4581 - val_f1_score: 0.8650\nEpoch 186/200\n\nEpoch 00186: LearningRateScheduler setting learning rate to 1e-06.\n28/28 [==============================] - 0s 10ms/step - loss: 0.4666 - f1_score: 0.8750 - val_loss: 0.4579 - val_f1_score: 0.8667\nEpoch 187/200\n\nEpoch 00187: LearningRateScheduler setting learning rate to 1e-06.\n28/28 [==============================] - 0s 11ms/step - loss: 0.4445 - f1_score: 0.8700 - val_loss: 0.4576 - val_f1_score: 0.8683\nEpoch 188/200\n\nEpoch 00188: LearningRateScheduler setting learning rate to 1e-06.\n28/28 [==============================] - 0s 11ms/step - loss: 0.4469 - f1_score: 0.8736 - val_loss: 0.4578 - val_f1_score: 0.8683\nEpoch 189/200\n\nEpoch 00189: LearningRateScheduler setting learning rate to 1e-06.\n28/28 [==============================] - 0s 11ms/step - loss: 0.4413 - f1_score: 0.8693 - val_loss: 0.4578 - val_f1_score: 0.8667\nEpoch 190/200\n\nEpoch 00190: LearningRateScheduler setting learning rate to 1e-06.\n28/28 [==============================] - 0s 11ms/step - loss: 0.4526 - f1_score: 0.8671 - val_loss: 0.4575 - val_f1_score: 0.8683\nEpoch 191/200\n\nEpoch 00191: LearningRateScheduler setting learning rate to 1e-06.\n28/28 [==============================] - 0s 11ms/step - loss: 0.4441 - f1_score: 0.8679 - val_loss: 0.4572 - val_f1_score: 0.8667\nEpoch 192/200\n\nEpoch 00192: LearningRateScheduler setting learning rate to 1e-06.\n28/28 [==============================] - 0s 11ms/step - loss: 0.4415 - f1_score: 0.8786 - val_loss: 0.4568 - val_f1_score: 0.8683\nEpoch 193/200\n\nEpoch 00193: LearningRateScheduler setting learning rate to 1e-06.\n28/28 [==============================] - 0s 11ms/step - loss: 0.4368 - f1_score: 0.8700 - val_loss: 0.4569 - val_f1_score: 0.8700\nEpoch 194/200\n\nEpoch 00194: LearningRateScheduler setting learning rate to 1e-06.\n28/28 [==============================] - 0s 11ms/step - loss: 0.4662 - f1_score: 0.8729 - val_loss: 0.4567 - val_f1_score: 0.8683\nEpoch 195/200\n\nEpoch 00195: LearningRateScheduler setting learning rate to 1e-06.\n28/28 [==============================] - 0s 11ms/step - loss: 0.4484 - f1_score: 0.8600 - val_loss: 0.4567 - val_f1_score: 0.8683\nEpoch 196/200\n\nEpoch 00196: LearningRateScheduler setting learning rate to 1e-06.\n28/28 [==============================] - 0s 11ms/step - loss: 0.4325 - f1_score: 0.8729 - val_loss: 0.4565 - val_f1_score: 0.8683\nEpoch 197/200\n\nEpoch 00197: LearningRateScheduler setting learning rate to 1e-06.\n28/28 [==============================] - 0s 11ms/step - loss: 0.4389 - f1_score: 0.8736 - val_loss: 0.4566 - val_f1_score: 0.8683\nEpoch 198/200\n\nEpoch 00198: LearningRateScheduler setting learning rate to 1e-06.\n28/28 [==============================] - 0s 11ms/step - loss: 0.4498 - f1_score: 0.8707 - val_loss: 0.4564 - val_f1_score: 0.8667\nEpoch 199/200\n\nEpoch 00199: LearningRateScheduler setting learning rate to 1e-06.\n28/28 [==============================] - 0s 11ms/step - loss: 0.4451 - f1_score: 0.8764 - val_loss: 0.4561 - val_f1_score: 0.8683\nEpoch 200/200\n\nEpoch 00200: LearningRateScheduler setting learning rate to 1e-06.\n28/28 [==============================] - 0s 11ms/step - loss: 0.4660 - f1_score: 0.8686 - val_loss: 0.4562 - val_f1_score: 0.8650\n",
          "output_type": "stream"
        },
        {
          "execution_count": 113,
          "output_type": "execute_result",
          "data": {
            "text/plain": "<keras.callbacks.History at 0x7f1e8b3ec5d0>"
          },
          "metadata": {}
        }
      ]
    },
    {
      "cell_type": "code",
      "source": [
        "from IPython.display import Image\n",
        "Image('/content/Screenshot (72).png',width=1000,height=500)"
      ],
      "metadata": {
        "id": "U8NGM_uSq8cu",
        "outputId": "1879c823-bf28-4807-d4c2-0b2834988324",
        "execution": {
          "iopub.status.busy": "2022-05-19T19:44:47.651842Z",
          "iopub.execute_input": "2022-05-19T19:44:47.652126Z",
          "iopub.status.idle": "2022-05-19T19:44:47.673944Z",
          "shell.execute_reply.started": "2022-05-19T19:44:47.652090Z",
          "shell.execute_reply": "2022-05-19T19:44:47.673294Z"
        },
        "trusted": true
      },
      "execution_count": null,
      "outputs": [
        {
          "traceback": [
            "\u001b[0;31m---------------------------------------------------------------------------\u001b[0m",
            "\u001b[0;31mTypeError\u001b[0m                                 Traceback (most recent call last)",
            "\u001b[0;32m/opt/conda/lib/python3.7/site-packages/IPython/core/display.py\u001b[0m in \u001b[0;36m_data_and_metadata\u001b[0;34m(self, always_both)\u001b[0m\n\u001b[1;32m   1299\u001b[0m         \u001b[0;32mtry\u001b[0m\u001b[0;34m:\u001b[0m\u001b[0;34m\u001b[0m\u001b[0;34m\u001b[0m\u001b[0m\n\u001b[0;32m-> 1300\u001b[0;31m             \u001b[0mb64_data\u001b[0m \u001b[0;34m=\u001b[0m \u001b[0mb2a_base64\u001b[0m\u001b[0;34m(\u001b[0m\u001b[0mself\u001b[0m\u001b[0;34m.\u001b[0m\u001b[0mdata\u001b[0m\u001b[0;34m)\u001b[0m\u001b[0;34m.\u001b[0m\u001b[0mdecode\u001b[0m\u001b[0;34m(\u001b[0m\u001b[0;34m'ascii'\u001b[0m\u001b[0;34m)\u001b[0m\u001b[0;34m\u001b[0m\u001b[0;34m\u001b[0m\u001b[0m\n\u001b[0m\u001b[1;32m   1301\u001b[0m         \u001b[0;32mexcept\u001b[0m \u001b[0mTypeError\u001b[0m\u001b[0;34m:\u001b[0m\u001b[0;34m\u001b[0m\u001b[0;34m\u001b[0m\u001b[0m\n",
            "\u001b[0;31mTypeError\u001b[0m: a bytes-like object is required, not 'str'",
            "\nDuring handling of the above exception, another exception occurred:\n",
            "\u001b[0;31mFileNotFoundError\u001b[0m                         Traceback (most recent call last)",
            "\u001b[0;32m/opt/conda/lib/python3.7/site-packages/IPython/core/formatters.py\u001b[0m in \u001b[0;36m__call__\u001b[0;34m(self, obj, include, exclude)\u001b[0m\n\u001b[1;32m    968\u001b[0m \u001b[0;34m\u001b[0m\u001b[0m\n\u001b[1;32m    969\u001b[0m             \u001b[0;32mif\u001b[0m \u001b[0mmethod\u001b[0m \u001b[0;32mis\u001b[0m \u001b[0;32mnot\u001b[0m \u001b[0;32mNone\u001b[0m\u001b[0;34m:\u001b[0m\u001b[0;34m\u001b[0m\u001b[0;34m\u001b[0m\u001b[0m\n\u001b[0;32m--> 970\u001b[0;31m                 \u001b[0;32mreturn\u001b[0m \u001b[0mmethod\u001b[0m\u001b[0;34m(\u001b[0m\u001b[0minclude\u001b[0m\u001b[0;34m=\u001b[0m\u001b[0minclude\u001b[0m\u001b[0;34m,\u001b[0m \u001b[0mexclude\u001b[0m\u001b[0;34m=\u001b[0m\u001b[0mexclude\u001b[0m\u001b[0;34m)\u001b[0m\u001b[0;34m\u001b[0m\u001b[0;34m\u001b[0m\u001b[0m\n\u001b[0m\u001b[1;32m    971\u001b[0m             \u001b[0;32mreturn\u001b[0m \u001b[0;32mNone\u001b[0m\u001b[0;34m\u001b[0m\u001b[0;34m\u001b[0m\u001b[0m\n\u001b[1;32m    972\u001b[0m         \u001b[0;32melse\u001b[0m\u001b[0;34m:\u001b[0m\u001b[0;34m\u001b[0m\u001b[0;34m\u001b[0m\u001b[0m\n",
            "\u001b[0;32m/opt/conda/lib/python3.7/site-packages/IPython/core/display.py\u001b[0m in \u001b[0;36m_repr_mimebundle_\u001b[0;34m(self, include, exclude)\u001b[0m\n\u001b[1;32m   1288\u001b[0m         \u001b[0;32mif\u001b[0m \u001b[0mself\u001b[0m\u001b[0;34m.\u001b[0m\u001b[0membed\u001b[0m\u001b[0;34m:\u001b[0m\u001b[0;34m\u001b[0m\u001b[0;34m\u001b[0m\u001b[0m\n\u001b[1;32m   1289\u001b[0m             \u001b[0mmimetype\u001b[0m \u001b[0;34m=\u001b[0m \u001b[0mself\u001b[0m\u001b[0;34m.\u001b[0m\u001b[0m_mimetype\u001b[0m\u001b[0;34m\u001b[0m\u001b[0;34m\u001b[0m\u001b[0m\n\u001b[0;32m-> 1290\u001b[0;31m             \u001b[0mdata\u001b[0m\u001b[0;34m,\u001b[0m \u001b[0mmetadata\u001b[0m \u001b[0;34m=\u001b[0m \u001b[0mself\u001b[0m\u001b[0;34m.\u001b[0m\u001b[0m_data_and_metadata\u001b[0m\u001b[0;34m(\u001b[0m\u001b[0malways_both\u001b[0m\u001b[0;34m=\u001b[0m\u001b[0;32mTrue\u001b[0m\u001b[0;34m)\u001b[0m\u001b[0;34m\u001b[0m\u001b[0;34m\u001b[0m\u001b[0m\n\u001b[0m\u001b[1;32m   1291\u001b[0m             \u001b[0;32mif\u001b[0m \u001b[0mmetadata\u001b[0m\u001b[0;34m:\u001b[0m\u001b[0;34m\u001b[0m\u001b[0;34m\u001b[0m\u001b[0m\n\u001b[1;32m   1292\u001b[0m                 \u001b[0mmetadata\u001b[0m \u001b[0;34m=\u001b[0m \u001b[0;34m{\u001b[0m\u001b[0mmimetype\u001b[0m\u001b[0;34m:\u001b[0m \u001b[0mmetadata\u001b[0m\u001b[0;34m}\u001b[0m\u001b[0;34m\u001b[0m\u001b[0;34m\u001b[0m\u001b[0m\n",
            "\u001b[0;32m/opt/conda/lib/python3.7/site-packages/IPython/core/display.py\u001b[0m in \u001b[0;36m_data_and_metadata\u001b[0;34m(self, always_both)\u001b[0m\n\u001b[1;32m   1301\u001b[0m         \u001b[0;32mexcept\u001b[0m \u001b[0mTypeError\u001b[0m\u001b[0;34m:\u001b[0m\u001b[0;34m\u001b[0m\u001b[0;34m\u001b[0m\u001b[0m\n\u001b[1;32m   1302\u001b[0m             raise FileNotFoundError(\n\u001b[0;32m-> 1303\u001b[0;31m                 \"No such file or directory: '%s'\" % (self.data))\n\u001b[0m\u001b[1;32m   1304\u001b[0m         \u001b[0mmd\u001b[0m \u001b[0;34m=\u001b[0m \u001b[0;34m{\u001b[0m\u001b[0;34m}\u001b[0m\u001b[0;34m\u001b[0m\u001b[0;34m\u001b[0m\u001b[0m\n\u001b[1;32m   1305\u001b[0m         \u001b[0;32mif\u001b[0m \u001b[0mself\u001b[0m\u001b[0;34m.\u001b[0m\u001b[0mmetadata\u001b[0m\u001b[0;34m:\u001b[0m\u001b[0;34m\u001b[0m\u001b[0;34m\u001b[0m\u001b[0m\n",
            "\u001b[0;31mFileNotFoundError\u001b[0m: No such file or directory: '/content/Screenshot (72).png'"
          ],
          "ename": "FileNotFoundError",
          "evalue": "No such file or directory: '/content/Screenshot (72).png'",
          "output_type": "error"
        },
        {
          "traceback": [
            "\u001b[0;31m---------------------------------------------------------------------------\u001b[0m",
            "\u001b[0;31mTypeError\u001b[0m                                 Traceback (most recent call last)",
            "\u001b[0;32m/opt/conda/lib/python3.7/site-packages/IPython/core/display.py\u001b[0m in \u001b[0;36m_data_and_metadata\u001b[0;34m(self, always_both)\u001b[0m\n\u001b[1;32m   1299\u001b[0m         \u001b[0;32mtry\u001b[0m\u001b[0;34m:\u001b[0m\u001b[0;34m\u001b[0m\u001b[0;34m\u001b[0m\u001b[0m\n\u001b[0;32m-> 1300\u001b[0;31m             \u001b[0mb64_data\u001b[0m \u001b[0;34m=\u001b[0m \u001b[0mb2a_base64\u001b[0m\u001b[0;34m(\u001b[0m\u001b[0mself\u001b[0m\u001b[0;34m.\u001b[0m\u001b[0mdata\u001b[0m\u001b[0;34m)\u001b[0m\u001b[0;34m.\u001b[0m\u001b[0mdecode\u001b[0m\u001b[0;34m(\u001b[0m\u001b[0;34m'ascii'\u001b[0m\u001b[0;34m)\u001b[0m\u001b[0;34m\u001b[0m\u001b[0;34m\u001b[0m\u001b[0m\n\u001b[0m\u001b[1;32m   1301\u001b[0m         \u001b[0;32mexcept\u001b[0m \u001b[0mTypeError\u001b[0m\u001b[0;34m:\u001b[0m\u001b[0;34m\u001b[0m\u001b[0;34m\u001b[0m\u001b[0m\n",
            "\u001b[0;31mTypeError\u001b[0m: a bytes-like object is required, not 'str'",
            "\nDuring handling of the above exception, another exception occurred:\n",
            "\u001b[0;31mFileNotFoundError\u001b[0m                         Traceback (most recent call last)",
            "\u001b[0;32m/opt/conda/lib/python3.7/site-packages/IPython/core/formatters.py\u001b[0m in \u001b[0;36m__call__\u001b[0;34m(self, obj)\u001b[0m\n\u001b[1;32m    343\u001b[0m             \u001b[0mmethod\u001b[0m \u001b[0;34m=\u001b[0m \u001b[0mget_real_method\u001b[0m\u001b[0;34m(\u001b[0m\u001b[0mobj\u001b[0m\u001b[0;34m,\u001b[0m \u001b[0mself\u001b[0m\u001b[0;34m.\u001b[0m\u001b[0mprint_method\u001b[0m\u001b[0;34m)\u001b[0m\u001b[0;34m\u001b[0m\u001b[0;34m\u001b[0m\u001b[0m\n\u001b[1;32m    344\u001b[0m             \u001b[0;32mif\u001b[0m \u001b[0mmethod\u001b[0m \u001b[0;32mis\u001b[0m \u001b[0;32mnot\u001b[0m \u001b[0;32mNone\u001b[0m\u001b[0;34m:\u001b[0m\u001b[0;34m\u001b[0m\u001b[0;34m\u001b[0m\u001b[0m\n\u001b[0;32m--> 345\u001b[0;31m                 \u001b[0;32mreturn\u001b[0m \u001b[0mmethod\u001b[0m\u001b[0;34m(\u001b[0m\u001b[0;34m)\u001b[0m\u001b[0;34m\u001b[0m\u001b[0;34m\u001b[0m\u001b[0m\n\u001b[0m\u001b[1;32m    346\u001b[0m             \u001b[0;32mreturn\u001b[0m \u001b[0;32mNone\u001b[0m\u001b[0;34m\u001b[0m\u001b[0;34m\u001b[0m\u001b[0m\n\u001b[1;32m    347\u001b[0m         \u001b[0;32melse\u001b[0m\u001b[0;34m:\u001b[0m\u001b[0;34m\u001b[0m\u001b[0;34m\u001b[0m\u001b[0m\n",
            "\u001b[0;32m/opt/conda/lib/python3.7/site-packages/IPython/core/display.py\u001b[0m in \u001b[0;36m_repr_png_\u001b[0;34m(self)\u001b[0m\n\u001b[1;32m   1318\u001b[0m     \u001b[0;32mdef\u001b[0m \u001b[0m_repr_png_\u001b[0m\u001b[0;34m(\u001b[0m\u001b[0mself\u001b[0m\u001b[0;34m)\u001b[0m\u001b[0;34m:\u001b[0m\u001b[0;34m\u001b[0m\u001b[0;34m\u001b[0m\u001b[0m\n\u001b[1;32m   1319\u001b[0m         \u001b[0;32mif\u001b[0m \u001b[0mself\u001b[0m\u001b[0;34m.\u001b[0m\u001b[0membed\u001b[0m \u001b[0;32mand\u001b[0m \u001b[0mself\u001b[0m\u001b[0;34m.\u001b[0m\u001b[0mformat\u001b[0m \u001b[0;34m==\u001b[0m \u001b[0mself\u001b[0m\u001b[0;34m.\u001b[0m\u001b[0m_FMT_PNG\u001b[0m\u001b[0;34m:\u001b[0m\u001b[0;34m\u001b[0m\u001b[0;34m\u001b[0m\u001b[0m\n\u001b[0;32m-> 1320\u001b[0;31m             \u001b[0;32mreturn\u001b[0m \u001b[0mself\u001b[0m\u001b[0;34m.\u001b[0m\u001b[0m_data_and_metadata\u001b[0m\u001b[0;34m(\u001b[0m\u001b[0;34m)\u001b[0m\u001b[0;34m\u001b[0m\u001b[0;34m\u001b[0m\u001b[0m\n\u001b[0m\u001b[1;32m   1321\u001b[0m \u001b[0;34m\u001b[0m\u001b[0m\n\u001b[1;32m   1322\u001b[0m     \u001b[0;32mdef\u001b[0m \u001b[0m_repr_jpeg_\u001b[0m\u001b[0;34m(\u001b[0m\u001b[0mself\u001b[0m\u001b[0;34m)\u001b[0m\u001b[0;34m:\u001b[0m\u001b[0;34m\u001b[0m\u001b[0;34m\u001b[0m\u001b[0m\n",
            "\u001b[0;32m/opt/conda/lib/python3.7/site-packages/IPython/core/display.py\u001b[0m in \u001b[0;36m_data_and_metadata\u001b[0;34m(self, always_both)\u001b[0m\n\u001b[1;32m   1301\u001b[0m         \u001b[0;32mexcept\u001b[0m \u001b[0mTypeError\u001b[0m\u001b[0;34m:\u001b[0m\u001b[0;34m\u001b[0m\u001b[0;34m\u001b[0m\u001b[0m\n\u001b[1;32m   1302\u001b[0m             raise FileNotFoundError(\n\u001b[0;32m-> 1303\u001b[0;31m                 \"No such file or directory: '%s'\" % (self.data))\n\u001b[0m\u001b[1;32m   1304\u001b[0m         \u001b[0mmd\u001b[0m \u001b[0;34m=\u001b[0m \u001b[0;34m{\u001b[0m\u001b[0;34m}\u001b[0m\u001b[0;34m\u001b[0m\u001b[0;34m\u001b[0m\u001b[0m\n\u001b[1;32m   1305\u001b[0m         \u001b[0;32mif\u001b[0m \u001b[0mself\u001b[0m\u001b[0;34m.\u001b[0m\u001b[0mmetadata\u001b[0m\u001b[0;34m:\u001b[0m\u001b[0;34m\u001b[0m\u001b[0;34m\u001b[0m\u001b[0m\n",
            "\u001b[0;31mFileNotFoundError\u001b[0m: No such file or directory: '/content/Screenshot (72).png'"
          ],
          "ename": "FileNotFoundError",
          "evalue": "No such file or directory: '/content/Screenshot (72).png'",
          "output_type": "error"
        },
        {
          "execution_count": 114,
          "output_type": "execute_result",
          "data": {
            "text/plain": "<IPython.core.display.Image object>"
          },
          "metadata": {}
        }
      ]
    },
    {
      "cell_type": "code",
      "source": [
        "from IPython.display import Image\n",
        "Image('/content/Screenshot (73).png',width=1000,height=500)"
      ],
      "metadata": {
        "id": "SZ1q5Whcw26w",
        "outputId": "13935391-350c-4dd4-f2ba-18cfac971574",
        "execution": {
          "iopub.status.busy": "2022-05-19T19:44:47.675193Z",
          "iopub.execute_input": "2022-05-19T19:44:47.675641Z",
          "iopub.status.idle": "2022-05-19T19:44:47.695717Z",
          "shell.execute_reply.started": "2022-05-19T19:44:47.675600Z",
          "shell.execute_reply": "2022-05-19T19:44:47.694782Z"
        },
        "trusted": true
      },
      "execution_count": null,
      "outputs": [
        {
          "traceback": [
            "\u001b[0;31m---------------------------------------------------------------------------\u001b[0m",
            "\u001b[0;31mTypeError\u001b[0m                                 Traceback (most recent call last)",
            "\u001b[0;32m/opt/conda/lib/python3.7/site-packages/IPython/core/display.py\u001b[0m in \u001b[0;36m_data_and_metadata\u001b[0;34m(self, always_both)\u001b[0m\n\u001b[1;32m   1299\u001b[0m         \u001b[0;32mtry\u001b[0m\u001b[0;34m:\u001b[0m\u001b[0;34m\u001b[0m\u001b[0;34m\u001b[0m\u001b[0m\n\u001b[0;32m-> 1300\u001b[0;31m             \u001b[0mb64_data\u001b[0m \u001b[0;34m=\u001b[0m \u001b[0mb2a_base64\u001b[0m\u001b[0;34m(\u001b[0m\u001b[0mself\u001b[0m\u001b[0;34m.\u001b[0m\u001b[0mdata\u001b[0m\u001b[0;34m)\u001b[0m\u001b[0;34m.\u001b[0m\u001b[0mdecode\u001b[0m\u001b[0;34m(\u001b[0m\u001b[0;34m'ascii'\u001b[0m\u001b[0;34m)\u001b[0m\u001b[0;34m\u001b[0m\u001b[0;34m\u001b[0m\u001b[0m\n\u001b[0m\u001b[1;32m   1301\u001b[0m         \u001b[0;32mexcept\u001b[0m \u001b[0mTypeError\u001b[0m\u001b[0;34m:\u001b[0m\u001b[0;34m\u001b[0m\u001b[0;34m\u001b[0m\u001b[0m\n",
            "\u001b[0;31mTypeError\u001b[0m: a bytes-like object is required, not 'str'",
            "\nDuring handling of the above exception, another exception occurred:\n",
            "\u001b[0;31mFileNotFoundError\u001b[0m                         Traceback (most recent call last)",
            "\u001b[0;32m/opt/conda/lib/python3.7/site-packages/IPython/core/formatters.py\u001b[0m in \u001b[0;36m__call__\u001b[0;34m(self, obj, include, exclude)\u001b[0m\n\u001b[1;32m    968\u001b[0m \u001b[0;34m\u001b[0m\u001b[0m\n\u001b[1;32m    969\u001b[0m             \u001b[0;32mif\u001b[0m \u001b[0mmethod\u001b[0m \u001b[0;32mis\u001b[0m \u001b[0;32mnot\u001b[0m \u001b[0;32mNone\u001b[0m\u001b[0;34m:\u001b[0m\u001b[0;34m\u001b[0m\u001b[0;34m\u001b[0m\u001b[0m\n\u001b[0;32m--> 970\u001b[0;31m                 \u001b[0;32mreturn\u001b[0m \u001b[0mmethod\u001b[0m\u001b[0;34m(\u001b[0m\u001b[0minclude\u001b[0m\u001b[0;34m=\u001b[0m\u001b[0minclude\u001b[0m\u001b[0;34m,\u001b[0m \u001b[0mexclude\u001b[0m\u001b[0;34m=\u001b[0m\u001b[0mexclude\u001b[0m\u001b[0;34m)\u001b[0m\u001b[0;34m\u001b[0m\u001b[0;34m\u001b[0m\u001b[0m\n\u001b[0m\u001b[1;32m    971\u001b[0m             \u001b[0;32mreturn\u001b[0m \u001b[0;32mNone\u001b[0m\u001b[0;34m\u001b[0m\u001b[0;34m\u001b[0m\u001b[0m\n\u001b[1;32m    972\u001b[0m         \u001b[0;32melse\u001b[0m\u001b[0;34m:\u001b[0m\u001b[0;34m\u001b[0m\u001b[0;34m\u001b[0m\u001b[0m\n",
            "\u001b[0;32m/opt/conda/lib/python3.7/site-packages/IPython/core/display.py\u001b[0m in \u001b[0;36m_repr_mimebundle_\u001b[0;34m(self, include, exclude)\u001b[0m\n\u001b[1;32m   1288\u001b[0m         \u001b[0;32mif\u001b[0m \u001b[0mself\u001b[0m\u001b[0;34m.\u001b[0m\u001b[0membed\u001b[0m\u001b[0;34m:\u001b[0m\u001b[0;34m\u001b[0m\u001b[0;34m\u001b[0m\u001b[0m\n\u001b[1;32m   1289\u001b[0m             \u001b[0mmimetype\u001b[0m \u001b[0;34m=\u001b[0m \u001b[0mself\u001b[0m\u001b[0;34m.\u001b[0m\u001b[0m_mimetype\u001b[0m\u001b[0;34m\u001b[0m\u001b[0;34m\u001b[0m\u001b[0m\n\u001b[0;32m-> 1290\u001b[0;31m             \u001b[0mdata\u001b[0m\u001b[0;34m,\u001b[0m \u001b[0mmetadata\u001b[0m \u001b[0;34m=\u001b[0m \u001b[0mself\u001b[0m\u001b[0;34m.\u001b[0m\u001b[0m_data_and_metadata\u001b[0m\u001b[0;34m(\u001b[0m\u001b[0malways_both\u001b[0m\u001b[0;34m=\u001b[0m\u001b[0;32mTrue\u001b[0m\u001b[0;34m)\u001b[0m\u001b[0;34m\u001b[0m\u001b[0;34m\u001b[0m\u001b[0m\n\u001b[0m\u001b[1;32m   1291\u001b[0m             \u001b[0;32mif\u001b[0m \u001b[0mmetadata\u001b[0m\u001b[0;34m:\u001b[0m\u001b[0;34m\u001b[0m\u001b[0;34m\u001b[0m\u001b[0m\n\u001b[1;32m   1292\u001b[0m                 \u001b[0mmetadata\u001b[0m \u001b[0;34m=\u001b[0m \u001b[0;34m{\u001b[0m\u001b[0mmimetype\u001b[0m\u001b[0;34m:\u001b[0m \u001b[0mmetadata\u001b[0m\u001b[0;34m}\u001b[0m\u001b[0;34m\u001b[0m\u001b[0;34m\u001b[0m\u001b[0m\n",
            "\u001b[0;32m/opt/conda/lib/python3.7/site-packages/IPython/core/display.py\u001b[0m in \u001b[0;36m_data_and_metadata\u001b[0;34m(self, always_both)\u001b[0m\n\u001b[1;32m   1301\u001b[0m         \u001b[0;32mexcept\u001b[0m \u001b[0mTypeError\u001b[0m\u001b[0;34m:\u001b[0m\u001b[0;34m\u001b[0m\u001b[0;34m\u001b[0m\u001b[0m\n\u001b[1;32m   1302\u001b[0m             raise FileNotFoundError(\n\u001b[0;32m-> 1303\u001b[0;31m                 \"No such file or directory: '%s'\" % (self.data))\n\u001b[0m\u001b[1;32m   1304\u001b[0m         \u001b[0mmd\u001b[0m \u001b[0;34m=\u001b[0m \u001b[0;34m{\u001b[0m\u001b[0;34m}\u001b[0m\u001b[0;34m\u001b[0m\u001b[0;34m\u001b[0m\u001b[0m\n\u001b[1;32m   1305\u001b[0m         \u001b[0;32mif\u001b[0m \u001b[0mself\u001b[0m\u001b[0;34m.\u001b[0m\u001b[0mmetadata\u001b[0m\u001b[0;34m:\u001b[0m\u001b[0;34m\u001b[0m\u001b[0;34m\u001b[0m\u001b[0m\n",
            "\u001b[0;31mFileNotFoundError\u001b[0m: No such file or directory: '/content/Screenshot (73).png'"
          ],
          "ename": "FileNotFoundError",
          "evalue": "No such file or directory: '/content/Screenshot (73).png'",
          "output_type": "error"
        },
        {
          "traceback": [
            "\u001b[0;31m---------------------------------------------------------------------------\u001b[0m",
            "\u001b[0;31mTypeError\u001b[0m                                 Traceback (most recent call last)",
            "\u001b[0;32m/opt/conda/lib/python3.7/site-packages/IPython/core/display.py\u001b[0m in \u001b[0;36m_data_and_metadata\u001b[0;34m(self, always_both)\u001b[0m\n\u001b[1;32m   1299\u001b[0m         \u001b[0;32mtry\u001b[0m\u001b[0;34m:\u001b[0m\u001b[0;34m\u001b[0m\u001b[0;34m\u001b[0m\u001b[0m\n\u001b[0;32m-> 1300\u001b[0;31m             \u001b[0mb64_data\u001b[0m \u001b[0;34m=\u001b[0m \u001b[0mb2a_base64\u001b[0m\u001b[0;34m(\u001b[0m\u001b[0mself\u001b[0m\u001b[0;34m.\u001b[0m\u001b[0mdata\u001b[0m\u001b[0;34m)\u001b[0m\u001b[0;34m.\u001b[0m\u001b[0mdecode\u001b[0m\u001b[0;34m(\u001b[0m\u001b[0;34m'ascii'\u001b[0m\u001b[0;34m)\u001b[0m\u001b[0;34m\u001b[0m\u001b[0;34m\u001b[0m\u001b[0m\n\u001b[0m\u001b[1;32m   1301\u001b[0m         \u001b[0;32mexcept\u001b[0m \u001b[0mTypeError\u001b[0m\u001b[0;34m:\u001b[0m\u001b[0;34m\u001b[0m\u001b[0;34m\u001b[0m\u001b[0m\n",
            "\u001b[0;31mTypeError\u001b[0m: a bytes-like object is required, not 'str'",
            "\nDuring handling of the above exception, another exception occurred:\n",
            "\u001b[0;31mFileNotFoundError\u001b[0m                         Traceback (most recent call last)",
            "\u001b[0;32m/opt/conda/lib/python3.7/site-packages/IPython/core/formatters.py\u001b[0m in \u001b[0;36m__call__\u001b[0;34m(self, obj)\u001b[0m\n\u001b[1;32m    343\u001b[0m             \u001b[0mmethod\u001b[0m \u001b[0;34m=\u001b[0m \u001b[0mget_real_method\u001b[0m\u001b[0;34m(\u001b[0m\u001b[0mobj\u001b[0m\u001b[0;34m,\u001b[0m \u001b[0mself\u001b[0m\u001b[0;34m.\u001b[0m\u001b[0mprint_method\u001b[0m\u001b[0;34m)\u001b[0m\u001b[0;34m\u001b[0m\u001b[0;34m\u001b[0m\u001b[0m\n\u001b[1;32m    344\u001b[0m             \u001b[0;32mif\u001b[0m \u001b[0mmethod\u001b[0m \u001b[0;32mis\u001b[0m \u001b[0;32mnot\u001b[0m \u001b[0;32mNone\u001b[0m\u001b[0;34m:\u001b[0m\u001b[0;34m\u001b[0m\u001b[0;34m\u001b[0m\u001b[0m\n\u001b[0;32m--> 345\u001b[0;31m                 \u001b[0;32mreturn\u001b[0m \u001b[0mmethod\u001b[0m\u001b[0;34m(\u001b[0m\u001b[0;34m)\u001b[0m\u001b[0;34m\u001b[0m\u001b[0;34m\u001b[0m\u001b[0m\n\u001b[0m\u001b[1;32m    346\u001b[0m             \u001b[0;32mreturn\u001b[0m \u001b[0;32mNone\u001b[0m\u001b[0;34m\u001b[0m\u001b[0;34m\u001b[0m\u001b[0m\n\u001b[1;32m    347\u001b[0m         \u001b[0;32melse\u001b[0m\u001b[0;34m:\u001b[0m\u001b[0;34m\u001b[0m\u001b[0;34m\u001b[0m\u001b[0m\n",
            "\u001b[0;32m/opt/conda/lib/python3.7/site-packages/IPython/core/display.py\u001b[0m in \u001b[0;36m_repr_png_\u001b[0;34m(self)\u001b[0m\n\u001b[1;32m   1318\u001b[0m     \u001b[0;32mdef\u001b[0m \u001b[0m_repr_png_\u001b[0m\u001b[0;34m(\u001b[0m\u001b[0mself\u001b[0m\u001b[0;34m)\u001b[0m\u001b[0;34m:\u001b[0m\u001b[0;34m\u001b[0m\u001b[0;34m\u001b[0m\u001b[0m\n\u001b[1;32m   1319\u001b[0m         \u001b[0;32mif\u001b[0m \u001b[0mself\u001b[0m\u001b[0;34m.\u001b[0m\u001b[0membed\u001b[0m \u001b[0;32mand\u001b[0m \u001b[0mself\u001b[0m\u001b[0;34m.\u001b[0m\u001b[0mformat\u001b[0m \u001b[0;34m==\u001b[0m \u001b[0mself\u001b[0m\u001b[0;34m.\u001b[0m\u001b[0m_FMT_PNG\u001b[0m\u001b[0;34m:\u001b[0m\u001b[0;34m\u001b[0m\u001b[0;34m\u001b[0m\u001b[0m\n\u001b[0;32m-> 1320\u001b[0;31m             \u001b[0;32mreturn\u001b[0m \u001b[0mself\u001b[0m\u001b[0;34m.\u001b[0m\u001b[0m_data_and_metadata\u001b[0m\u001b[0;34m(\u001b[0m\u001b[0;34m)\u001b[0m\u001b[0;34m\u001b[0m\u001b[0;34m\u001b[0m\u001b[0m\n\u001b[0m\u001b[1;32m   1321\u001b[0m \u001b[0;34m\u001b[0m\u001b[0m\n\u001b[1;32m   1322\u001b[0m     \u001b[0;32mdef\u001b[0m \u001b[0m_repr_jpeg_\u001b[0m\u001b[0;34m(\u001b[0m\u001b[0mself\u001b[0m\u001b[0;34m)\u001b[0m\u001b[0;34m:\u001b[0m\u001b[0;34m\u001b[0m\u001b[0;34m\u001b[0m\u001b[0m\n",
            "\u001b[0;32m/opt/conda/lib/python3.7/site-packages/IPython/core/display.py\u001b[0m in \u001b[0;36m_data_and_metadata\u001b[0;34m(self, always_both)\u001b[0m\n\u001b[1;32m   1301\u001b[0m         \u001b[0;32mexcept\u001b[0m \u001b[0mTypeError\u001b[0m\u001b[0;34m:\u001b[0m\u001b[0;34m\u001b[0m\u001b[0;34m\u001b[0m\u001b[0m\n\u001b[1;32m   1302\u001b[0m             raise FileNotFoundError(\n\u001b[0;32m-> 1303\u001b[0;31m                 \"No such file or directory: '%s'\" % (self.data))\n\u001b[0m\u001b[1;32m   1304\u001b[0m         \u001b[0mmd\u001b[0m \u001b[0;34m=\u001b[0m \u001b[0;34m{\u001b[0m\u001b[0;34m}\u001b[0m\u001b[0;34m\u001b[0m\u001b[0;34m\u001b[0m\u001b[0m\n\u001b[1;32m   1305\u001b[0m         \u001b[0;32mif\u001b[0m \u001b[0mself\u001b[0m\u001b[0;34m.\u001b[0m\u001b[0mmetadata\u001b[0m\u001b[0;34m:\u001b[0m\u001b[0;34m\u001b[0m\u001b[0;34m\u001b[0m\u001b[0m\n",
            "\u001b[0;31mFileNotFoundError\u001b[0m: No such file or directory: '/content/Screenshot (73).png'"
          ],
          "ename": "FileNotFoundError",
          "evalue": "No such file or directory: '/content/Screenshot (73).png'",
          "output_type": "error"
        },
        {
          "execution_count": 115,
          "output_type": "execute_result",
          "data": {
            "text/plain": "<IPython.core.display.Image object>"
          },
          "metadata": {}
        }
      ]
    },
    {
      "cell_type": "code",
      "source": [
        ""
      ],
      "metadata": {
        "id": "yDPVgFV4w6lD"
      },
      "execution_count": null,
      "outputs": []
    },
    {
      "cell_type": "code",
      "source": [
        ""
      ],
      "metadata": {
        "id": "I8udp1U8w3J8"
      },
      "execution_count": null,
      "outputs": []
    },
    {
      "cell_type": "markdown",
      "source": [
        "### 3. Data augmentation with raw features \n",
        "\n",
        "Till now we have done with 2000 samples only. It is very less data. We are giving the process of generating augmented data below.\n",
        "\n",
        "There are two types of augmentation:\n",
        "1. time stretching - Time stretching either increases or decreases the length of the file. For time stretching we move the file 30% faster or slower\n",
        "2. pitch shifting - pitch shifting moves the frequencies higher or lower. For pitch shifting we shift up or down one half-step.\n"
      ],
      "metadata": {
        "id": "aSl8ZOXjaNqJ"
      }
    },
    {
      "cell_type": "code",
      "source": [
        "## generating augmented data. \n",
        "def generate_augmented_data(file_path):\n",
        "    augmented_data = []\n",
        "    samples = load_wav(file_path,get_duration=False)\n",
        "    for time_value in [0.7, 1, 1.3]:\n",
        "        for pitch_value in [-1, 0, 1]:\n",
        "            time_stretch_data = librosa.effects.time_stretch(samples, rate=time_value)\n",
        "            final_data = librosa.effects.pitch_shift(time_stretch_data, sr=sample_rate, n_steps=pitch_value)\n",
        "            augmented_data.append(final_data)\n",
        "    return augmented_data"
      ],
      "metadata": {
        "id": "jR4JSEDgaNqK",
        "execution": {
          "iopub.status.busy": "2022-05-19T20:01:39.870095Z",
          "iopub.execute_input": "2022-05-19T20:01:39.870712Z",
          "iopub.status.idle": "2022-05-19T20:01:39.877568Z",
          "shell.execute_reply.started": "2022-05-19T20:01:39.870672Z",
          "shell.execute_reply": "2022-05-19T20:01:39.875566Z"
        },
        "trusted": true
      },
      "execution_count": null,
      "outputs": []
    },
    {
      "cell_type": "code",
      "source": [
        "import librosa\n",
        "temp_path = '../input/spokenndigit/recordings/'+df_audio.iloc[0].path\n",
        "aug_temp = generate_augmented_data(temp_path)"
      ],
      "metadata": {
        "id": "QRdefb-SaNqS",
        "execution": {
          "iopub.status.busy": "2022-05-19T20:01:40.181473Z",
          "iopub.execute_input": "2022-05-19T20:01:40.182047Z",
          "iopub.status.idle": "2022-05-19T20:01:41.775023Z",
          "shell.execute_reply.started": "2022-05-19T20:01:40.182010Z",
          "shell.execute_reply": "2022-05-19T20:01:41.774153Z"
        },
        "trusted": true
      },
      "execution_count": null,
      "outputs": []
    },
    {
      "cell_type": "code",
      "source": [
        "len(aug_temp)"
      ],
      "metadata": {
        "id": "kzdG3iS-aNqc",
        "outputId": "e8205400-a567-4398-c465-310a57df09f2",
        "execution": {
          "iopub.status.busy": "2022-05-19T20:01:41.776958Z",
          "iopub.execute_input": "2022-05-19T20:01:41.777444Z",
          "iopub.status.idle": "2022-05-19T20:01:41.792283Z",
          "shell.execute_reply.started": "2022-05-19T20:01:41.777403Z",
          "shell.execute_reply": "2022-05-19T20:01:41.791685Z"
        },
        "trusted": true
      },
      "execution_count": null,
      "outputs": [
        {
          "execution_count": 14,
          "output_type": "execute_result",
          "data": {
            "text/plain": "9"
          },
          "metadata": {}
        }
      ]
    },
    {
      "cell_type": "code",
      "source": [
        "from tqdm import tqdm"
      ],
      "metadata": {
        "id": "j-Bdop8DyDRE",
        "execution": {
          "iopub.status.busy": "2022-05-19T20:01:41.793341Z",
          "iopub.execute_input": "2022-05-19T20:01:41.793989Z",
          "iopub.status.idle": "2022-05-19T20:01:41.802905Z",
          "shell.execute_reply.started": "2022-05-19T20:01:41.793949Z",
          "shell.execute_reply": "2022-05-19T20:01:41.802166Z"
        },
        "trusted": true
      },
      "execution_count": null,
      "outputs": []
    },
    {
      "cell_type": "code",
      "source": [
        "augmented_x_train=[]\n",
        "augmented_y_train=[]\n",
        "for i in tqdm(range(0,df_audio.shape[0])):\n",
        "  aug_temp = generate_augmented_data('../input/spokenndigit/recordings/'+df_audio['path'].iloc[i])\n",
        "  for j in range(len(aug_temp)):\n",
        "    augmented_x_train.append(aug_temp[j])\n",
        "    augmented_y_train.append(df_audio['label'].iloc[i])"
      ],
      "metadata": {
        "id": "YfWJ5ziByDeZ",
        "outputId": "056a68d9-ea2a-4b33-96c5-c8dec2d9308e",
        "execution": {
          "iopub.status.busy": "2022-05-19T20:01:41.804933Z",
          "iopub.execute_input": "2022-05-19T20:01:41.805540Z",
          "iopub.status.idle": "2022-05-19T20:07:40.021110Z",
          "shell.execute_reply.started": "2022-05-19T20:01:41.805504Z",
          "shell.execute_reply": "2022-05-19T20:07:40.020404Z"
        },
        "trusted": true
      },
      "execution_count": null,
      "outputs": [
        {
          "name": "stderr",
          "text": "100%|██████████| 2000/2000 [05:58<00:00,  5.58it/s]\n",
          "output_type": "stream"
        }
      ]
    },
    {
      "cell_type": "code",
      "source": [
        "#split the data into train and validation and save in X_train, X_test, y_train, y_test\n",
        "#use stratify sampling\n",
        "#use random state of 45\n",
        "#use test size of 30%\n",
        "# train test split\n",
        "from sklearn.model_selection import train_test_split\n",
        "X_train_aug, X_test_aug, y_train_aug, y_test_aug = train_test_split(augmented_x_train,augmented_y_train, test_size=0.3, stratify=augmented_y_train,random_state=45)"
      ],
      "metadata": {
        "id": "yK9vs6dSyDmC",
        "execution": {
          "iopub.status.busy": "2022-05-19T20:07:40.022357Z",
          "iopub.execute_input": "2022-05-19T20:07:40.023185Z",
          "iopub.status.idle": "2022-05-19T20:07:40.046163Z",
          "shell.execute_reply.started": "2022-05-19T20:07:40.023147Z",
          "shell.execute_reply": "2022-05-19T20:07:40.045518Z"
        },
        "trusted": true
      },
      "execution_count": null,
      "outputs": []
    },
    {
      "cell_type": "markdown",
      "source": [
        ""
      ],
      "metadata": {
        "id": "FvbK5Dtm51F-"
      }
    },
    {
      "cell_type": "code",
      "source": [
        "import numpy as np\n",
        "X_train_aug = np.array(X_train_aug)\n",
        "X_test_aug = np.array(X_test_aug)\n",
        "y_train_aug = np.array(y_train_aug)\n",
        "y_test_aug = np.array(y_test_aug)\n",
        "X_test_aug[0]"
      ],
      "metadata": {
        "id": "TKjsYy8kyDuu",
        "outputId": "c82a0211-d625-40c7-b22a-c4157963c900",
        "execution": {
          "iopub.status.busy": "2022-05-19T20:09:20.584506Z",
          "iopub.execute_input": "2022-05-19T20:09:20.585023Z",
          "iopub.status.idle": "2022-05-19T20:09:20.596556Z",
          "shell.execute_reply.started": "2022-05-19T20:09:20.584986Z",
          "shell.execute_reply": "2022-05-19T20:09:20.595757Z"
        },
        "trusted": true
      },
      "execution_count": null,
      "outputs": [
        {
          "execution_count": 21,
          "output_type": "execute_result",
          "data": {
            "text/plain": "array([-0.00018041, -0.00020957, -0.0001571 , ...,  0.00014102,\n        0.0001827 ,  0.00018896], dtype=float32)"
          },
          "metadata": {}
        }
      ]
    },
    {
      "cell_type": "code",
      "source": [
        "y_test_aug[0]"
      ],
      "metadata": {
        "id": "5LvY3banyD3f",
        "outputId": "1e96a798-8404-48a7-dfc3-53462dce893d",
        "execution": {
          "iopub.status.busy": "2022-05-19T20:09:20.803414Z",
          "iopub.execute_input": "2022-05-19T20:09:20.803951Z",
          "iopub.status.idle": "2022-05-19T20:09:20.809193Z",
          "shell.execute_reply.started": "2022-05-19T20:09:20.803915Z",
          "shell.execute_reply": "2022-05-19T20:09:20.808550Z"
        },
        "trusted": true
      },
      "execution_count": null,
      "outputs": [
        {
          "execution_count": 22,
          "output_type": "execute_result",
          "data": {
            "text/plain": "3"
          },
          "metadata": {}
        }
      ]
    },
    {
      "cell_type": "code",
      "source": [
        " from tqdm import tqdm"
      ],
      "metadata": {
        "id": "904-GztfObuA",
        "execution": {
          "iopub.status.busy": "2022-05-19T20:09:20.835087Z",
          "iopub.execute_input": "2022-05-19T20:09:20.835396Z",
          "iopub.status.idle": "2022-05-19T20:09:20.838855Z",
          "shell.execute_reply.started": "2022-05-19T20:09:20.835365Z",
          "shell.execute_reply": "2022-05-19T20:09:20.838174Z"
        },
        "trusted": true
      },
      "execution_count": null,
      "outputs": []
    },
    {
      "cell_type": "code",
      "source": [
        "max_seq_length=17640\n",
        "X_train_pad_seq=[] #np.zeros((1400,17640))\n",
        "X_train_mask= [] #np.zeros((1400,17640))\n",
        "for i in tqdm(range(X_train_aug.shape[0])):\n",
        "  # pad if len less than max_seq_length\n",
        "  if len(X_train_aug[i]) < max_seq_length:\n",
        "    seq=X_train_aug[i].tolist()+ [0 for item in range(max_seq_length-len(X_train_aug[i]))]\n",
        "  else:\n",
        "    # Truncate if len greater then max_seq_length\n",
        "    seq = X_train_aug[i].tolist()[:max_seq_length]\n",
        "  mask=[1 if x!=0 else 0 for x in seq]\n",
        "  mask=[bool(x) for x in mask]\n",
        "  X_train_pad_seq.append(seq)\n",
        "  X_train_mask.append(mask)"
      ],
      "metadata": {
        "id": "9CvCCDMrOb6Q",
        "outputId": "36f5aea2-64d7-4c5c-f730-9a57a4d2f9a2",
        "execution": {
          "iopub.status.busy": "2022-05-19T20:09:20.924047Z",
          "iopub.execute_input": "2022-05-19T20:09:20.924563Z",
          "iopub.status.idle": "2022-05-19T20:10:12.077317Z",
          "shell.execute_reply.started": "2022-05-19T20:09:20.924528Z",
          "shell.execute_reply": "2022-05-19T20:10:12.075095Z"
        },
        "trusted": true
      },
      "execution_count": null,
      "outputs": [
        {
          "name": "stderr",
          "text": "100%|██████████| 12600/12600 [00:51<00:00, 246.40it/s]\n",
          "output_type": "stream"
        }
      ]
    },
    {
      "cell_type": "code",
      "source": [
        "max_seq_length=17640\n",
        "X_test_pad_seq=[] #np.zeros((600,17640))\n",
        "X_test_mask=[] #np.zeros((600,17640))\n",
        "for i in tqdm(range(X_test_aug.shape[0])):\n",
        "  # pad if len less than\n",
        "  if len(X_test_aug[i]) < max_seq_length:\n",
        "    # Add the ['PAD'] token\n",
        "    seq=X_test_aug[i].tolist()+[0 for item in range(max_seq_length-len(X_test_aug[i]))]\n",
        "  else:\n",
        "    # Truncate the tokens at maxLen - 1 and add a '[SEP]' tag.\n",
        "    seq = X_test_aug[i].tolist()[:max_seq_length]\n",
        "  #mask=[1 if x!=0 else 0 for x in tokens]\n",
        "  mask=[1 if x!=0 else 0 for x in seq]\n",
        "  mask=[bool(x) for x in mask]\n",
        "  X_test_pad_seq.append(seq)\n",
        "  X_test_mask.append(mask)"
      ],
      "metadata": {
        "id": "cwgCfKa0OcG1",
        "outputId": "8f0e0d64-48a3-461d-e0fa-b863951f259b",
        "execution": {
          "iopub.status.busy": "2022-05-19T20:10:12.081539Z",
          "iopub.execute_input": "2022-05-19T20:10:12.083561Z",
          "iopub.status.idle": "2022-05-19T20:10:35.767662Z",
          "shell.execute_reply.started": "2022-05-19T20:10:12.083465Z",
          "shell.execute_reply": "2022-05-19T20:10:35.766851Z"
        },
        "trusted": true
      },
      "execution_count": null,
      "outputs": [
        {
          "name": "stderr",
          "text": "100%|██████████| 5400/5400 [00:23<00:00, 228.18it/s]\n",
          "output_type": "stream"
        }
      ]
    },
    {
      "cell_type": "code",
      "source": [
        "X_train_pad_seq=np.array(X_train_pad_seq)\n",
        "X_train_mask=np.array(X_train_mask)\n",
        "X_test_pad_seq=np.array(X_test_pad_seq)\n",
        "X_test_mask=np.array(X_test_mask)"
      ],
      "metadata": {
        "id": "U_tz_2THOdI1",
        "execution": {
          "iopub.status.busy": "2022-05-19T20:10:35.768976Z",
          "iopub.execute_input": "2022-05-19T20:10:35.769296Z",
          "iopub.status.idle": "2022-05-19T20:11:43.648994Z",
          "shell.execute_reply.started": "2022-05-19T20:10:35.769258Z",
          "shell.execute_reply": "2022-05-19T20:11:43.648267Z"
        },
        "trusted": true
      },
      "execution_count": null,
      "outputs": []
    },
    {
      "cell_type": "code",
      "source": [
        "import tensorflow as tf\n",
        "from tensorflow import keras\n",
        "from tensorflow.keras import layers\n",
        "from tensorflow.keras.layers import Dense,Input,Activation,BatchNormalization,Dropout,Embedding,LSTM,Flatten,Conv1D,MaxPool1D,GlobalAveragePooling3D\n",
        "from tensorflow.keras.models import Model\n",
        "import random as rn\n",
        "from sklearn.metrics import roc_auc_score\n",
        "from sklearn.metrics import f1_score\n",
        "from tensorflow.keras import layers\n",
        "from tensorflow.keras.regularizers import l2\n",
        "from tensorflow.keras.callbacks import ModelCheckpoint ,TensorBoard,EarlyStopping,LearningRateScheduler\n",
        "#from keras.layers.embeddings import Embedding\n",
        "from keras.preprocessing import sequence\n",
        "from tensorflow.keras.layers import concatenate"
      ],
      "metadata": {
        "id": "A_dWOhVzPaeM",
        "execution": {
          "iopub.status.busy": "2022-05-19T20:20:18.201852Z",
          "iopub.status.idle": "2022-05-19T20:20:18.202634Z",
          "shell.execute_reply.started": "2022-05-19T20:20:18.202352Z",
          "shell.execute_reply": "2022-05-19T20:20:18.202379Z"
        },
        "trusted": true
      },
      "execution_count": null,
      "outputs": []
    },
    {
      "cell_type": "code",
      "source": [
        "from sklearn.preprocessing import LabelEncoder\n",
        "encoder = LabelEncoder()\n",
        "encoder.fit(y_train_aug)\n",
        "y_train_encoded = encoder.transform(y_train_aug)\n",
        "y_test_encoded = encoder.transform(y_test_aug)\n",
        "y_train_ohe = tf.keras.utils.to_categorical(y_train_encoded)\n",
        "y_test_ohe = tf.keras.utils.to_categorical(y_test_encoded)"
      ],
      "metadata": {
        "id": "Lm6Ws21HPaqe",
        "execution": {
          "iopub.status.busy": "2022-05-19T20:11:49.148167Z",
          "iopub.execute_input": "2022-05-19T20:11:49.148413Z",
          "iopub.status.idle": "2022-05-19T20:11:49.159171Z",
          "shell.execute_reply.started": "2022-05-19T20:11:49.148380Z",
          "shell.execute_reply": "2022-05-19T20:11:49.157668Z"
        },
        "trusted": true
      },
      "execution_count": null,
      "outputs": []
    },
    {
      "cell_type": "code",
      "source": [
        "from tensorflow.keras.layers import Input, LSTM, Dense,GlobalAveragePooling1D,GlobalAveragePooling2D,GlobalAvgPool3D\n",
        "from tensorflow.keras.models import Model\n",
        "import tensorflow as tf"
      ],
      "metadata": {
        "id": "XeCYhEqEPe4M",
        "execution": {
          "iopub.status.busy": "2022-05-19T20:11:49.160632Z",
          "iopub.execute_input": "2022-05-19T20:11:49.160890Z",
          "iopub.status.idle": "2022-05-19T20:11:49.179062Z",
          "shell.execute_reply.started": "2022-05-19T20:11:49.160857Z",
          "shell.execute_reply": "2022-05-19T20:11:49.178277Z"
        },
        "trusted": true
      },
      "execution_count": null,
      "outputs": []
    },
    {
      "cell_type": "code",
      "source": [
        "#model3\n",
        "## as discussed above, please write the LSTM\n",
        "input1 = Input(shape=(17640, 1,))\n",
        "input_mask=Input(shape=(17640,),dtype=bool)\n",
        "LSTM_layer= LSTM(50,dropout=0.2)(inputs=input1,mask=input_mask)\n",
        "x = Dense(16,activation='relu',kernel_initializer=tf.keras.initializers.he_normal(seed=30),kernel_regularizer=l2(0.001))(LSTM_layer)\n",
        "x = Dropout(0.25)(x)\n",
        "x = BatchNormalization()(x)\n",
        "x = Dense(12,activation='relu',kernel_initializer=tf.keras.initializers.he_normal(seed=30),kernel_regularizer=l2(0.001))(x)\n",
        "x = Dropout(0.35)(x)\n",
        "x = BatchNormalization()(x)\n",
        "x = Dense(8,activation='relu',kernel_initializer=tf.keras.initializers.he_normal(seed=30),kernel_regularizer=l2(0.001))(x)\n",
        "x = BatchNormalization()(x)\n",
        "dense = Dense(10,activation='relu',kernel_initializer=tf.keras.initializers.he_normal(seed=30),kernel_regularizer=l2(0.00001))(x)\n",
        "Out = Dense(units=10,activation='softmax',kernel_initializer=tf.keras.initializers.glorot_normal(seed=3),name='Output')(dense)\n",
        "model3= Model(inputs=(input1,input_mask),outputs=Out)"
      ],
      "metadata": {
        "id": "fDPt0rogPfDW",
        "execution": {
          "iopub.status.busy": "2022-05-19T20:11:49.180722Z",
          "iopub.execute_input": "2022-05-19T20:11:49.180928Z",
          "iopub.status.idle": "2022-05-19T20:11:52.822613Z",
          "shell.execute_reply.started": "2022-05-19T20:11:49.180897Z",
          "shell.execute_reply": "2022-05-19T20:11:52.821859Z"
        },
        "trusted": true,
        "outputId": "ef665df8-58d9-428f-fdb5-7f41542e1b1e"
      },
      "execution_count": null,
      "outputs": [
        {
          "name": "stderr",
          "text": "2022-05-19 20:11:49.294382: I tensorflow/stream_executor/cuda/cuda_gpu_executor.cc:937] successful NUMA node read from SysFS had negative value (-1), but there must be at least one NUMA node, so returning NUMA node zero\n2022-05-19 20:11:49.440514: I tensorflow/stream_executor/cuda/cuda_gpu_executor.cc:937] successful NUMA node read from SysFS had negative value (-1), but there must be at least one NUMA node, so returning NUMA node zero\n2022-05-19 20:11:49.441271: I tensorflow/stream_executor/cuda/cuda_gpu_executor.cc:937] successful NUMA node read from SysFS had negative value (-1), but there must be at least one NUMA node, so returning NUMA node zero\n2022-05-19 20:11:49.443438: I tensorflow/core/platform/cpu_feature_guard.cc:142] This TensorFlow binary is optimized with oneAPI Deep Neural Network Library (oneDNN) to use the following CPU instructions in performance-critical operations:  AVX2 AVX512F FMA\nTo enable them in other operations, rebuild TensorFlow with the appropriate compiler flags.\n2022-05-19 20:11:49.443767: I tensorflow/stream_executor/cuda/cuda_gpu_executor.cc:937] successful NUMA node read from SysFS had negative value (-1), but there must be at least one NUMA node, so returning NUMA node zero\n2022-05-19 20:11:49.444496: I tensorflow/stream_executor/cuda/cuda_gpu_executor.cc:937] successful NUMA node read from SysFS had negative value (-1), but there must be at least one NUMA node, so returning NUMA node zero\n2022-05-19 20:11:49.445165: I tensorflow/stream_executor/cuda/cuda_gpu_executor.cc:937] successful NUMA node read from SysFS had negative value (-1), but there must be at least one NUMA node, so returning NUMA node zero\n2022-05-19 20:11:51.644969: I tensorflow/stream_executor/cuda/cuda_gpu_executor.cc:937] successful NUMA node read from SysFS had negative value (-1), but there must be at least one NUMA node, so returning NUMA node zero\n2022-05-19 20:11:51.646165: I tensorflow/stream_executor/cuda/cuda_gpu_executor.cc:937] successful NUMA node read from SysFS had negative value (-1), but there must be at least one NUMA node, so returning NUMA node zero\n2022-05-19 20:11:51.647172: I tensorflow/stream_executor/cuda/cuda_gpu_executor.cc:937] successful NUMA node read from SysFS had negative value (-1), but there must be at least one NUMA node, so returning NUMA node zero\n2022-05-19 20:11:51.648864: I tensorflow/core/common_runtime/gpu/gpu_device.cc:1510] Created device /job:localhost/replica:0/task:0/device:GPU:0 with 15403 MB memory:  -> device: 0, name: Tesla P100-PCIE-16GB, pci bus id: 0000:00:04.0, compute capability: 6.0\n",
          "output_type": "stream"
        }
      ]
    },
    {
      "cell_type": "code",
      "source": [
        "import tensorflow as tf\n",
        "import keras.backend as K\n",
        "import os\n",
        "import datetime\n",
        "#https://www.kaggle.com/c/liverpool-ion-switching/discussion/132646\n",
        "def f1(y_true, y_pred):\n",
        "  y_pred = K.round(y_pred)\n",
        "  tp = K.sum(K.cast(y_true*y_pred, 'float'), axis=0)\n",
        "  # tn = K.sum(K.cast((1-y_true)*(1-y_pred), 'float'), axis=0)\n",
        "  fp = K.sum(K.cast((1-y_true)*y_pred, 'float'), axis=0)\n",
        "  fn = K.sum(K.cast(y_true*(1-y_pred), 'float'), axis=0)\n",
        "  p = tp / (tp + fp + K.epsilon())\n",
        "  r = tp / (tp + fn + K.epsilon())\n",
        "  f1 = 2*p*r / (p+r+K.epsilon())\n",
        "  f1 = tf.where(tf.math.is_nan(f1), tf.zeros_like(f1), f1)\n",
        "  return K.mean(f1)"
      ],
      "metadata": {
        "id": "VlSBxPxTPa2k",
        "execution": {
          "iopub.status.busy": "2022-05-19T20:11:52.823772Z",
          "iopub.execute_input": "2022-05-19T20:11:52.824000Z",
          "iopub.status.idle": "2022-05-19T20:11:52.832551Z",
          "shell.execute_reply.started": "2022-05-19T20:11:52.823969Z",
          "shell.execute_reply": "2022-05-19T20:11:52.831692Z"
        },
        "trusted": true
      },
      "execution_count": null,
      "outputs": []
    },
    {
      "cell_type": "code",
      "source": [
        "from sklearn.metrics import roc_auc_score\n",
        "from sklearn.metrics import f1_score"
      ],
      "metadata": {
        "id": "qW3DqZd0P1tl",
        "execution": {
          "iopub.status.busy": "2022-05-19T20:18:16.313041Z",
          "iopub.execute_input": "2022-05-19T20:18:16.313351Z",
          "iopub.status.idle": "2022-05-19T20:18:16.318408Z",
          "shell.execute_reply.started": "2022-05-19T20:18:16.313316Z",
          "shell.execute_reply": "2022-05-19T20:18:16.317495Z"
        },
        "trusted": true
      },
      "execution_count": null,
      "outputs": []
    },
    {
      "cell_type": "code",
      "source": [
        "%load_ext tensorboard"
      ],
      "metadata": {
        "id": "ljtNQMiXP16A",
        "execution": {
          "iopub.status.busy": "2022-05-19T20:14:54.284878Z",
          "iopub.execute_input": "2022-05-19T20:14:54.285177Z",
          "iopub.status.idle": "2022-05-19T20:14:54.300389Z",
          "shell.execute_reply.started": "2022-05-19T20:14:54.285146Z",
          "shell.execute_reply": "2022-05-19T20:14:54.299370Z"
        },
        "trusted": true
      },
      "execution_count": null,
      "outputs": []
    },
    {
      "cell_type": "code",
      "source": [
        "#tensorbord for model1\n",
        "logdir = os.path.join(\"logs\", datetime.datetime.now().strftime(\"%Y%m%d-%H%M%S\"))\n",
        "tensorboard_callback = tf.keras.callbacks.TensorBoard(logdir, histogram_freq=1)\n",
        "%tensorboard --logdir $logdir"
      ],
      "metadata": {
        "id": "GCNSQxagP2FZ",
        "execution": {
          "iopub.status.busy": "2022-05-19T20:14:54.403174Z",
          "iopub.execute_input": "2022-05-19T20:14:54.403403Z",
          "iopub.status.idle": "2022-05-19T20:14:59.387881Z",
          "shell.execute_reply.started": "2022-05-19T20:14:54.403365Z",
          "shell.execute_reply": "2022-05-19T20:14:59.387032Z"
        },
        "trusted": true,
        "outputId": "b89cdf2e-fad9-4efb-b5bc-9d959b8d8486"
      },
      "execution_count": null,
      "outputs": [
        {
          "name": "stderr",
          "text": "2022-05-19 20:14:54.409215: I tensorflow/core/profiler/lib/profiler_session.cc:131] Profiler session initializing.\n2022-05-19 20:14:54.409403: I tensorflow/core/profiler/lib/profiler_session.cc:146] Profiler session started.\n2022-05-19 20:14:54.411677: I tensorflow/core/profiler/internal/gpu/cupti_tracer.cc:1614] Profiler found 1 GPUs\n2022-05-19 20:14:54.578801: I tensorflow/core/profiler/lib/profiler_session.cc:164] Profiler session tear down.\n2022-05-19 20:14:54.579016: I tensorflow/core/profiler/internal/gpu/cupti_tracer.cc:1748] CUPTI activity buffer flushed\n",
          "output_type": "stream"
        },
        {
          "output_type": "display_data",
          "data": {
            "text/plain": "<IPython.core.display.HTML object>",
            "text/html": "\n      <iframe id=\"tensorboard-frame-9da1a9d2a503e636\" width=\"100%\" height=\"800\" frameborder=\"0\">\n      </iframe>\n      <script>\n        (function() {\n          const frame = document.getElementById(\"tensorboard-frame-9da1a9d2a503e636\");\n          const url = new URL(\"/\", window.location);\n          const port = 6006;\n          if (port) {\n            url.port = port;\n          }\n          frame.src = url;\n        })();\n      </script>\n    "
          },
          "metadata": {}
        }
      ]
    },
    {
      "cell_type": "code",
      "source": [
        "import tensorflow_addons as tfa\n",
        "optimizer=tf.keras.optimizers.Adam(learning_rate=0.0001)\n",
        "model3.compile(optimizer=optimizer, loss='categorical_crossentropy',metrics=[tfa.metrics.F1Score(num_classes=10,name='f1_score',average='micro')])"
      ],
      "metadata": {
        "id": "Qfflg7miP2_g",
        "execution": {
          "iopub.status.busy": "2022-05-19T20:22:25.245225Z",
          "iopub.execute_input": "2022-05-19T20:22:25.245493Z",
          "iopub.status.idle": "2022-05-19T20:22:25.262196Z",
          "shell.execute_reply.started": "2022-05-19T20:22:25.245448Z",
          "shell.execute_reply": "2022-05-19T20:22:25.261301Z"
        },
        "trusted": true
      },
      "execution_count": null,
      "outputs": []
    },
    {
      "cell_type": "code",
      "source": [
        "model3.summary()"
      ],
      "metadata": {
        "id": "V6txUmfJyEBA",
        "execution": {
          "iopub.status.busy": "2022-05-19T20:22:25.815841Z",
          "iopub.execute_input": "2022-05-19T20:22:25.816675Z",
          "iopub.status.idle": "2022-05-19T20:22:25.831772Z",
          "shell.execute_reply.started": "2022-05-19T20:22:25.816626Z",
          "shell.execute_reply": "2022-05-19T20:22:25.831061Z"
        },
        "trusted": true,
        "outputId": "c310e6f1-8e49-48d7-8fc0-288ad1521a75"
      },
      "execution_count": null,
      "outputs": [
        {
          "name": "stdout",
          "text": "Model: \"model\"\n__________________________________________________________________________________________________\nLayer (type)                    Output Shape         Param #     Connected to                     \n==================================================================================================\ninput_1 (InputLayer)            [(None, 17640, 1)]   0                                            \n__________________________________________________________________________________________________\ninput_2 (InputLayer)            [(None, 17640)]      0                                            \n__________________________________________________________________________________________________\nlstm (LSTM)                     (None, 50)           10400       input_1[0][0]                    \n                                                                 input_2[0][0]                    \n__________________________________________________________________________________________________\ndense (Dense)                   (None, 16)           816         lstm[0][0]                       \n__________________________________________________________________________________________________\ndropout (Dropout)               (None, 16)           0           dense[0][0]                      \n__________________________________________________________________________________________________\nbatch_normalization (BatchNorma (None, 16)           64          dropout[0][0]                    \n__________________________________________________________________________________________________\ndense_1 (Dense)                 (None, 12)           204         batch_normalization[0][0]        \n__________________________________________________________________________________________________\ndropout_1 (Dropout)             (None, 12)           0           dense_1[0][0]                    \n__________________________________________________________________________________________________\nbatch_normalization_1 (BatchNor (None, 12)           48          dropout_1[0][0]                  \n__________________________________________________________________________________________________\ndense_2 (Dense)                 (None, 8)            104         batch_normalization_1[0][0]      \n__________________________________________________________________________________________________\nbatch_normalization_2 (BatchNor (None, 8)            32          dense_2[0][0]                    \n__________________________________________________________________________________________________\ndense_3 (Dense)                 (None, 10)           90          batch_normalization_2[0][0]      \n__________________________________________________________________________________________________\nOutput (Dense)                  (None, 10)           110         dense_3[0][0]                    \n==================================================================================================\nTotal params: 11,868\nTrainable params: 11,796\nNon-trainable params: 72\n__________________________________________________________________________________________________\n",
          "output_type": "stream"
        }
      ]
    },
    {
      "cell_type": "code",
      "source": [
        "model3.fit([X_train_pad_seq,X_train_mask],y_train_ohe,epochs=7, validation_data=([X_test_pad_seq,X_test_mask],y_test_ohe), batch_size=32,\n",
        "callbacks=[tensorboard_callback])"
      ],
      "metadata": {
        "id": "2KWNTKNkQTby",
        "execution": {
          "iopub.status.busy": "2022-05-19T20:22:26.143387Z",
          "iopub.execute_input": "2022-05-19T20:22:26.144198Z",
          "iopub.status.idle": "2022-05-19T20:54:40.600133Z",
          "shell.execute_reply.started": "2022-05-19T20:22:26.144163Z",
          "shell.execute_reply": "2022-05-19T20:54:40.599320Z"
        },
        "trusted": true,
        "outputId": "6d39d408-a24a-4c05-e377-5a46225ffecc"
      },
      "execution_count": null,
      "outputs": [
        {
          "name": "stderr",
          "text": "2022-05-19 20:22:26.602423: W tensorflow/core/framework/cpu_allocator_impl.cc:80] Allocation of 889056000 exceeds 10% of free system memory.\n2022-05-19 20:22:27.436094: W tensorflow/core/framework/cpu_allocator_impl.cc:80] Allocation of 889056000 exceeds 10% of free system memory.\n2022-05-19 20:22:27.779653: I tensorflow/compiler/mlir/mlir_graph_optimization_pass.cc:185] None of the MLIR Optimization Passes are enabled (registered 2)\n",
          "output_type": "stream"
        },
        {
          "name": "stdout",
          "text": "Epoch 1/7\n",
          "output_type": "stream"
        },
        {
          "name": "stderr",
          "text": "2022-05-19 20:22:33.486982: I tensorflow/stream_executor/cuda/cuda_dnn.cc:369] Loaded cuDNN version 8005\n",
          "output_type": "stream"
        },
        {
          "name": "stdout",
          "text": "  1/394 [..............................] - ETA: 51:18 - loss: 2.6661 - f1_score: 0.1250",
          "output_type": "stream"
        },
        {
          "name": "stderr",
          "text": "2022-05-19 20:22:35.795979: I tensorflow/core/profiler/lib/profiler_session.cc:131] Profiler session initializing.\n2022-05-19 20:22:35.796031: I tensorflow/core/profiler/lib/profiler_session.cc:146] Profiler session started.\n",
          "output_type": "stream"
        },
        {
          "name": "stdout",
          "text": "  2/394 [..............................] - ETA: 6:24 - loss: 2.5363 - f1_score: 0.1094 ",
          "output_type": "stream"
        },
        {
          "name": "stderr",
          "text": "2022-05-19 20:22:36.651917: I tensorflow/core/profiler/lib/profiler_session.cc:66] Profiler session collecting data.\n2022-05-19 20:22:36.681620: I tensorflow/core/profiler/internal/gpu/cupti_tracer.cc:1748] CUPTI activity buffer flushed\n2022-05-19 20:22:36.816409: I tensorflow/core/profiler/internal/gpu/cupti_collector.cc:673]  GpuTracer has collected 62731 callback api events and 62728 activity events. \n2022-05-19 20:22:37.906075: I tensorflow/core/profiler/lib/profiler_session.cc:164] Profiler session tear down.\n2022-05-19 20:22:39.911536: I tensorflow/core/profiler/rpc/client/save_profile.cc:136] Creating directory: logs/20220519-202014/train/plugins/profile/2022_05_19_20_22_37\n\n2022-05-19 20:22:41.055661: I tensorflow/core/profiler/rpc/client/save_profile.cc:142] Dumped gzipped tool data for trace.json.gz to logs/20220519-202014/train/plugins/profile/2022_05_19_20_22_37/5a18025f4eba.trace.json.gz\n2022-05-19 20:22:41.864861: I tensorflow/core/profiler/rpc/client/save_profile.cc:136] Creating directory: logs/20220519-202014/train/plugins/profile/2022_05_19_20_22_37\n\n2022-05-19 20:22:41.868605: I tensorflow/core/profiler/rpc/client/save_profile.cc:142] Dumped gzipped tool data for memory_profile.json.gz to logs/20220519-202014/train/plugins/profile/2022_05_19_20_22_37/5a18025f4eba.memory_profile.json.gz\n2022-05-19 20:22:41.882649: I tensorflow/core/profiler/rpc/client/capture_profile.cc:251] Creating directory: logs/20220519-202014/train/plugins/profile/2022_05_19_20_22_37\nDumped tool data for xplane.pb to logs/20220519-202014/train/plugins/profile/2022_05_19_20_22_37/5a18025f4eba.xplane.pb\nDumped tool data for overview_page.pb to logs/20220519-202014/train/plugins/profile/2022_05_19_20_22_37/5a18025f4eba.overview_page.pb\nDumped tool data for input_pipeline.pb to logs/20220519-202014/train/plugins/profile/2022_05_19_20_22_37/5a18025f4eba.input_pipeline.pb\nDumped tool data for tensorflow_stats.pb to logs/20220519-202014/train/plugins/profile/2022_05_19_20_22_37/5a18025f4eba.tensorflow_stats.pb\nDumped tool data for kernel_stats.pb to logs/20220519-202014/train/plugins/profile/2022_05_19_20_22_37/5a18025f4eba.kernel_stats.pb\n\n",
          "output_type": "stream"
        },
        {
          "name": "stdout",
          "text": "394/394 [==============================] - 311s 773ms/step - loss: 2.5658 - f1_score: 0.0977 - val_loss: 2.4303 - val_f1_score: 0.0998\nEpoch 2/7\n394/394 [==============================] - 257s 653ms/step - loss: 2.5069 - f1_score: 0.0982 - val_loss: 2.3924 - val_f1_score: 0.0970\nEpoch 3/7\n394/394 [==============================] - 296s 753ms/step - loss: 2.4632 - f1_score: 0.0981 - val_loss: 2.3826 - val_f1_score: 0.0906\nEpoch 4/7\n394/394 [==============================] - 296s 753ms/step - loss: 2.4356 - f1_score: 0.0984 - val_loss: 2.3795 - val_f1_score: 0.1039\nEpoch 5/7\n394/394 [==============================] - 257s 653ms/step - loss: 2.4040 - f1_score: 0.1006 - val_loss: 2.3710 - val_f1_score: 0.1043\nEpoch 6/7\n394/394 [==============================] - 257s 653ms/step - loss: 2.4000 - f1_score: 0.0991 - val_loss: 2.3672 - val_f1_score: 0.1017\nEpoch 7/7\n394/394 [==============================] - 256s 650ms/step - loss: 2.3914 - f1_score: 0.0928 - val_loss: 2.3647 - val_f1_score: 0.1000\n",
          "output_type": "stream"
        },
        {
          "execution_count": 58,
          "output_type": "execute_result",
          "data": {
            "text/plain": "<keras.callbacks.History at 0x7f3a30283310>"
          },
          "metadata": {}
        }
      ]
    },
    {
      "cell_type": "code",
      "source": [
        "from IPython.display import Image\n",
        "Image('/content/Screenshot (66).png',width=1000,height=500)"
      ],
      "metadata": {
        "id": "VvU47n0bQcZM",
        "execution": {
          "iopub.status.busy": "2022-05-19T20:54:40.601811Z",
          "iopub.execute_input": "2022-05-19T20:54:40.602059Z",
          "iopub.status.idle": "2022-05-19T20:54:40.623087Z",
          "shell.execute_reply.started": "2022-05-19T20:54:40.602024Z",
          "shell.execute_reply": "2022-05-19T20:54:40.622359Z"
        },
        "trusted": true,
        "outputId": "968aec39-09e3-40d1-b2be-d37da969e591"
      },
      "execution_count": null,
      "outputs": [
        {
          "traceback": [
            "\u001b[0;31m---------------------------------------------------------------------------\u001b[0m",
            "\u001b[0;31mTypeError\u001b[0m                                 Traceback (most recent call last)",
            "\u001b[0;32m/opt/conda/lib/python3.7/site-packages/IPython/core/display.py\u001b[0m in \u001b[0;36m_data_and_metadata\u001b[0;34m(self, always_both)\u001b[0m\n\u001b[1;32m   1299\u001b[0m         \u001b[0;32mtry\u001b[0m\u001b[0;34m:\u001b[0m\u001b[0;34m\u001b[0m\u001b[0;34m\u001b[0m\u001b[0m\n\u001b[0;32m-> 1300\u001b[0;31m             \u001b[0mb64_data\u001b[0m \u001b[0;34m=\u001b[0m \u001b[0mb2a_base64\u001b[0m\u001b[0;34m(\u001b[0m\u001b[0mself\u001b[0m\u001b[0;34m.\u001b[0m\u001b[0mdata\u001b[0m\u001b[0;34m)\u001b[0m\u001b[0;34m.\u001b[0m\u001b[0mdecode\u001b[0m\u001b[0;34m(\u001b[0m\u001b[0;34m'ascii'\u001b[0m\u001b[0;34m)\u001b[0m\u001b[0;34m\u001b[0m\u001b[0;34m\u001b[0m\u001b[0m\n\u001b[0m\u001b[1;32m   1301\u001b[0m         \u001b[0;32mexcept\u001b[0m \u001b[0mTypeError\u001b[0m\u001b[0;34m:\u001b[0m\u001b[0;34m\u001b[0m\u001b[0;34m\u001b[0m\u001b[0m\n",
            "\u001b[0;31mTypeError\u001b[0m: a bytes-like object is required, not 'str'",
            "\nDuring handling of the above exception, another exception occurred:\n",
            "\u001b[0;31mFileNotFoundError\u001b[0m                         Traceback (most recent call last)",
            "\u001b[0;32m/opt/conda/lib/python3.7/site-packages/IPython/core/formatters.py\u001b[0m in \u001b[0;36m__call__\u001b[0;34m(self, obj, include, exclude)\u001b[0m\n\u001b[1;32m    968\u001b[0m \u001b[0;34m\u001b[0m\u001b[0m\n\u001b[1;32m    969\u001b[0m             \u001b[0;32mif\u001b[0m \u001b[0mmethod\u001b[0m \u001b[0;32mis\u001b[0m \u001b[0;32mnot\u001b[0m \u001b[0;32mNone\u001b[0m\u001b[0;34m:\u001b[0m\u001b[0;34m\u001b[0m\u001b[0;34m\u001b[0m\u001b[0m\n\u001b[0;32m--> 970\u001b[0;31m                 \u001b[0;32mreturn\u001b[0m \u001b[0mmethod\u001b[0m\u001b[0;34m(\u001b[0m\u001b[0minclude\u001b[0m\u001b[0;34m=\u001b[0m\u001b[0minclude\u001b[0m\u001b[0;34m,\u001b[0m \u001b[0mexclude\u001b[0m\u001b[0;34m=\u001b[0m\u001b[0mexclude\u001b[0m\u001b[0;34m)\u001b[0m\u001b[0;34m\u001b[0m\u001b[0;34m\u001b[0m\u001b[0m\n\u001b[0m\u001b[1;32m    971\u001b[0m             \u001b[0;32mreturn\u001b[0m \u001b[0;32mNone\u001b[0m\u001b[0;34m\u001b[0m\u001b[0;34m\u001b[0m\u001b[0m\n\u001b[1;32m    972\u001b[0m         \u001b[0;32melse\u001b[0m\u001b[0;34m:\u001b[0m\u001b[0;34m\u001b[0m\u001b[0;34m\u001b[0m\u001b[0m\n",
            "\u001b[0;32m/opt/conda/lib/python3.7/site-packages/IPython/core/display.py\u001b[0m in \u001b[0;36m_repr_mimebundle_\u001b[0;34m(self, include, exclude)\u001b[0m\n\u001b[1;32m   1288\u001b[0m         \u001b[0;32mif\u001b[0m \u001b[0mself\u001b[0m\u001b[0;34m.\u001b[0m\u001b[0membed\u001b[0m\u001b[0;34m:\u001b[0m\u001b[0;34m\u001b[0m\u001b[0;34m\u001b[0m\u001b[0m\n\u001b[1;32m   1289\u001b[0m             \u001b[0mmimetype\u001b[0m \u001b[0;34m=\u001b[0m \u001b[0mself\u001b[0m\u001b[0;34m.\u001b[0m\u001b[0m_mimetype\u001b[0m\u001b[0;34m\u001b[0m\u001b[0;34m\u001b[0m\u001b[0m\n\u001b[0;32m-> 1290\u001b[0;31m             \u001b[0mdata\u001b[0m\u001b[0;34m,\u001b[0m \u001b[0mmetadata\u001b[0m \u001b[0;34m=\u001b[0m \u001b[0mself\u001b[0m\u001b[0;34m.\u001b[0m\u001b[0m_data_and_metadata\u001b[0m\u001b[0;34m(\u001b[0m\u001b[0malways_both\u001b[0m\u001b[0;34m=\u001b[0m\u001b[0;32mTrue\u001b[0m\u001b[0;34m)\u001b[0m\u001b[0;34m\u001b[0m\u001b[0;34m\u001b[0m\u001b[0m\n\u001b[0m\u001b[1;32m   1291\u001b[0m             \u001b[0;32mif\u001b[0m \u001b[0mmetadata\u001b[0m\u001b[0;34m:\u001b[0m\u001b[0;34m\u001b[0m\u001b[0;34m\u001b[0m\u001b[0m\n\u001b[1;32m   1292\u001b[0m                 \u001b[0mmetadata\u001b[0m \u001b[0;34m=\u001b[0m \u001b[0;34m{\u001b[0m\u001b[0mmimetype\u001b[0m\u001b[0;34m:\u001b[0m \u001b[0mmetadata\u001b[0m\u001b[0;34m}\u001b[0m\u001b[0;34m\u001b[0m\u001b[0;34m\u001b[0m\u001b[0m\n",
            "\u001b[0;32m/opt/conda/lib/python3.7/site-packages/IPython/core/display.py\u001b[0m in \u001b[0;36m_data_and_metadata\u001b[0;34m(self, always_both)\u001b[0m\n\u001b[1;32m   1301\u001b[0m         \u001b[0;32mexcept\u001b[0m \u001b[0mTypeError\u001b[0m\u001b[0;34m:\u001b[0m\u001b[0;34m\u001b[0m\u001b[0;34m\u001b[0m\u001b[0m\n\u001b[1;32m   1302\u001b[0m             raise FileNotFoundError(\n\u001b[0;32m-> 1303\u001b[0;31m                 \"No such file or directory: '%s'\" % (self.data))\n\u001b[0m\u001b[1;32m   1304\u001b[0m         \u001b[0mmd\u001b[0m \u001b[0;34m=\u001b[0m \u001b[0;34m{\u001b[0m\u001b[0;34m}\u001b[0m\u001b[0;34m\u001b[0m\u001b[0;34m\u001b[0m\u001b[0m\n\u001b[1;32m   1305\u001b[0m         \u001b[0;32mif\u001b[0m \u001b[0mself\u001b[0m\u001b[0;34m.\u001b[0m\u001b[0mmetadata\u001b[0m\u001b[0;34m:\u001b[0m\u001b[0;34m\u001b[0m\u001b[0;34m\u001b[0m\u001b[0m\n",
            "\u001b[0;31mFileNotFoundError\u001b[0m: No such file or directory: '/content/Screenshot (66).png'"
          ],
          "ename": "FileNotFoundError",
          "evalue": "No such file or directory: '/content/Screenshot (66).png'",
          "output_type": "error"
        },
        {
          "traceback": [
            "\u001b[0;31m---------------------------------------------------------------------------\u001b[0m",
            "\u001b[0;31mTypeError\u001b[0m                                 Traceback (most recent call last)",
            "\u001b[0;32m/opt/conda/lib/python3.7/site-packages/IPython/core/display.py\u001b[0m in \u001b[0;36m_data_and_metadata\u001b[0;34m(self, always_both)\u001b[0m\n\u001b[1;32m   1299\u001b[0m         \u001b[0;32mtry\u001b[0m\u001b[0;34m:\u001b[0m\u001b[0;34m\u001b[0m\u001b[0;34m\u001b[0m\u001b[0m\n\u001b[0;32m-> 1300\u001b[0;31m             \u001b[0mb64_data\u001b[0m \u001b[0;34m=\u001b[0m \u001b[0mb2a_base64\u001b[0m\u001b[0;34m(\u001b[0m\u001b[0mself\u001b[0m\u001b[0;34m.\u001b[0m\u001b[0mdata\u001b[0m\u001b[0;34m)\u001b[0m\u001b[0;34m.\u001b[0m\u001b[0mdecode\u001b[0m\u001b[0;34m(\u001b[0m\u001b[0;34m'ascii'\u001b[0m\u001b[0;34m)\u001b[0m\u001b[0;34m\u001b[0m\u001b[0;34m\u001b[0m\u001b[0m\n\u001b[0m\u001b[1;32m   1301\u001b[0m         \u001b[0;32mexcept\u001b[0m \u001b[0mTypeError\u001b[0m\u001b[0;34m:\u001b[0m\u001b[0;34m\u001b[0m\u001b[0;34m\u001b[0m\u001b[0m\n",
            "\u001b[0;31mTypeError\u001b[0m: a bytes-like object is required, not 'str'",
            "\nDuring handling of the above exception, another exception occurred:\n",
            "\u001b[0;31mFileNotFoundError\u001b[0m                         Traceback (most recent call last)",
            "\u001b[0;32m/opt/conda/lib/python3.7/site-packages/IPython/core/formatters.py\u001b[0m in \u001b[0;36m__call__\u001b[0;34m(self, obj)\u001b[0m\n\u001b[1;32m    343\u001b[0m             \u001b[0mmethod\u001b[0m \u001b[0;34m=\u001b[0m \u001b[0mget_real_method\u001b[0m\u001b[0;34m(\u001b[0m\u001b[0mobj\u001b[0m\u001b[0;34m,\u001b[0m \u001b[0mself\u001b[0m\u001b[0;34m.\u001b[0m\u001b[0mprint_method\u001b[0m\u001b[0;34m)\u001b[0m\u001b[0;34m\u001b[0m\u001b[0;34m\u001b[0m\u001b[0m\n\u001b[1;32m    344\u001b[0m             \u001b[0;32mif\u001b[0m \u001b[0mmethod\u001b[0m \u001b[0;32mis\u001b[0m \u001b[0;32mnot\u001b[0m \u001b[0;32mNone\u001b[0m\u001b[0;34m:\u001b[0m\u001b[0;34m\u001b[0m\u001b[0;34m\u001b[0m\u001b[0m\n\u001b[0;32m--> 345\u001b[0;31m                 \u001b[0;32mreturn\u001b[0m \u001b[0mmethod\u001b[0m\u001b[0;34m(\u001b[0m\u001b[0;34m)\u001b[0m\u001b[0;34m\u001b[0m\u001b[0;34m\u001b[0m\u001b[0m\n\u001b[0m\u001b[1;32m    346\u001b[0m             \u001b[0;32mreturn\u001b[0m \u001b[0;32mNone\u001b[0m\u001b[0;34m\u001b[0m\u001b[0;34m\u001b[0m\u001b[0m\n\u001b[1;32m    347\u001b[0m         \u001b[0;32melse\u001b[0m\u001b[0;34m:\u001b[0m\u001b[0;34m\u001b[0m\u001b[0;34m\u001b[0m\u001b[0m\n",
            "\u001b[0;32m/opt/conda/lib/python3.7/site-packages/IPython/core/display.py\u001b[0m in \u001b[0;36m_repr_png_\u001b[0;34m(self)\u001b[0m\n\u001b[1;32m   1318\u001b[0m     \u001b[0;32mdef\u001b[0m \u001b[0m_repr_png_\u001b[0m\u001b[0;34m(\u001b[0m\u001b[0mself\u001b[0m\u001b[0;34m)\u001b[0m\u001b[0;34m:\u001b[0m\u001b[0;34m\u001b[0m\u001b[0;34m\u001b[0m\u001b[0m\n\u001b[1;32m   1319\u001b[0m         \u001b[0;32mif\u001b[0m \u001b[0mself\u001b[0m\u001b[0;34m.\u001b[0m\u001b[0membed\u001b[0m \u001b[0;32mand\u001b[0m \u001b[0mself\u001b[0m\u001b[0;34m.\u001b[0m\u001b[0mformat\u001b[0m \u001b[0;34m==\u001b[0m \u001b[0mself\u001b[0m\u001b[0;34m.\u001b[0m\u001b[0m_FMT_PNG\u001b[0m\u001b[0;34m:\u001b[0m\u001b[0;34m\u001b[0m\u001b[0;34m\u001b[0m\u001b[0m\n\u001b[0;32m-> 1320\u001b[0;31m             \u001b[0;32mreturn\u001b[0m \u001b[0mself\u001b[0m\u001b[0;34m.\u001b[0m\u001b[0m_data_and_metadata\u001b[0m\u001b[0;34m(\u001b[0m\u001b[0;34m)\u001b[0m\u001b[0;34m\u001b[0m\u001b[0;34m\u001b[0m\u001b[0m\n\u001b[0m\u001b[1;32m   1321\u001b[0m \u001b[0;34m\u001b[0m\u001b[0m\n\u001b[1;32m   1322\u001b[0m     \u001b[0;32mdef\u001b[0m \u001b[0m_repr_jpeg_\u001b[0m\u001b[0;34m(\u001b[0m\u001b[0mself\u001b[0m\u001b[0;34m)\u001b[0m\u001b[0;34m:\u001b[0m\u001b[0;34m\u001b[0m\u001b[0;34m\u001b[0m\u001b[0m\n",
            "\u001b[0;32m/opt/conda/lib/python3.7/site-packages/IPython/core/display.py\u001b[0m in \u001b[0;36m_data_and_metadata\u001b[0;34m(self, always_both)\u001b[0m\n\u001b[1;32m   1301\u001b[0m         \u001b[0;32mexcept\u001b[0m \u001b[0mTypeError\u001b[0m\u001b[0;34m:\u001b[0m\u001b[0;34m\u001b[0m\u001b[0;34m\u001b[0m\u001b[0m\n\u001b[1;32m   1302\u001b[0m             raise FileNotFoundError(\n\u001b[0;32m-> 1303\u001b[0;31m                 \"No such file or directory: '%s'\" % (self.data))\n\u001b[0m\u001b[1;32m   1304\u001b[0m         \u001b[0mmd\u001b[0m \u001b[0;34m=\u001b[0m \u001b[0;34m{\u001b[0m\u001b[0;34m}\u001b[0m\u001b[0;34m\u001b[0m\u001b[0;34m\u001b[0m\u001b[0m\n\u001b[1;32m   1305\u001b[0m         \u001b[0;32mif\u001b[0m \u001b[0mself\u001b[0m\u001b[0;34m.\u001b[0m\u001b[0mmetadata\u001b[0m\u001b[0;34m:\u001b[0m\u001b[0;34m\u001b[0m\u001b[0;34m\u001b[0m\u001b[0m\n",
            "\u001b[0;31mFileNotFoundError\u001b[0m: No such file or directory: '/content/Screenshot (66).png'"
          ],
          "ename": "FileNotFoundError",
          "evalue": "No such file or directory: '/content/Screenshot (66).png'",
          "output_type": "error"
        },
        {
          "execution_count": 59,
          "output_type": "execute_result",
          "data": {
            "text/plain": "<IPython.core.display.Image object>"
          },
          "metadata": {}
        }
      ]
    },
    {
      "cell_type": "code",
      "source": [
        "from IPython.display import Image\n",
        "Image('/content/Screenshot (67).png',width=1000,height=500)"
      ],
      "metadata": {
        "id": "1qYl9esmQcl8",
        "execution": {
          "iopub.status.busy": "2022-05-19T20:54:40.624221Z",
          "iopub.execute_input": "2022-05-19T20:54:40.624536Z",
          "iopub.status.idle": "2022-05-19T20:54:40.644611Z",
          "shell.execute_reply.started": "2022-05-19T20:54:40.624502Z",
          "shell.execute_reply": "2022-05-19T20:54:40.643839Z"
        },
        "trusted": true,
        "outputId": "ada5fdc3-3083-4038-e39b-ea5bbd578549"
      },
      "execution_count": null,
      "outputs": [
        {
          "traceback": [
            "\u001b[0;31m---------------------------------------------------------------------------\u001b[0m",
            "\u001b[0;31mTypeError\u001b[0m                                 Traceback (most recent call last)",
            "\u001b[0;32m/opt/conda/lib/python3.7/site-packages/IPython/core/display.py\u001b[0m in \u001b[0;36m_data_and_metadata\u001b[0;34m(self, always_both)\u001b[0m\n\u001b[1;32m   1299\u001b[0m         \u001b[0;32mtry\u001b[0m\u001b[0;34m:\u001b[0m\u001b[0;34m\u001b[0m\u001b[0;34m\u001b[0m\u001b[0m\n\u001b[0;32m-> 1300\u001b[0;31m             \u001b[0mb64_data\u001b[0m \u001b[0;34m=\u001b[0m \u001b[0mb2a_base64\u001b[0m\u001b[0;34m(\u001b[0m\u001b[0mself\u001b[0m\u001b[0;34m.\u001b[0m\u001b[0mdata\u001b[0m\u001b[0;34m)\u001b[0m\u001b[0;34m.\u001b[0m\u001b[0mdecode\u001b[0m\u001b[0;34m(\u001b[0m\u001b[0;34m'ascii'\u001b[0m\u001b[0;34m)\u001b[0m\u001b[0;34m\u001b[0m\u001b[0;34m\u001b[0m\u001b[0m\n\u001b[0m\u001b[1;32m   1301\u001b[0m         \u001b[0;32mexcept\u001b[0m \u001b[0mTypeError\u001b[0m\u001b[0;34m:\u001b[0m\u001b[0;34m\u001b[0m\u001b[0;34m\u001b[0m\u001b[0m\n",
            "\u001b[0;31mTypeError\u001b[0m: a bytes-like object is required, not 'str'",
            "\nDuring handling of the above exception, another exception occurred:\n",
            "\u001b[0;31mFileNotFoundError\u001b[0m                         Traceback (most recent call last)",
            "\u001b[0;32m/opt/conda/lib/python3.7/site-packages/IPython/core/formatters.py\u001b[0m in \u001b[0;36m__call__\u001b[0;34m(self, obj, include, exclude)\u001b[0m\n\u001b[1;32m    968\u001b[0m \u001b[0;34m\u001b[0m\u001b[0m\n\u001b[1;32m    969\u001b[0m             \u001b[0;32mif\u001b[0m \u001b[0mmethod\u001b[0m \u001b[0;32mis\u001b[0m \u001b[0;32mnot\u001b[0m \u001b[0;32mNone\u001b[0m\u001b[0;34m:\u001b[0m\u001b[0;34m\u001b[0m\u001b[0;34m\u001b[0m\u001b[0m\n\u001b[0;32m--> 970\u001b[0;31m                 \u001b[0;32mreturn\u001b[0m \u001b[0mmethod\u001b[0m\u001b[0;34m(\u001b[0m\u001b[0minclude\u001b[0m\u001b[0;34m=\u001b[0m\u001b[0minclude\u001b[0m\u001b[0;34m,\u001b[0m \u001b[0mexclude\u001b[0m\u001b[0;34m=\u001b[0m\u001b[0mexclude\u001b[0m\u001b[0;34m)\u001b[0m\u001b[0;34m\u001b[0m\u001b[0;34m\u001b[0m\u001b[0m\n\u001b[0m\u001b[1;32m    971\u001b[0m             \u001b[0;32mreturn\u001b[0m \u001b[0;32mNone\u001b[0m\u001b[0;34m\u001b[0m\u001b[0;34m\u001b[0m\u001b[0m\n\u001b[1;32m    972\u001b[0m         \u001b[0;32melse\u001b[0m\u001b[0;34m:\u001b[0m\u001b[0;34m\u001b[0m\u001b[0;34m\u001b[0m\u001b[0m\n",
            "\u001b[0;32m/opt/conda/lib/python3.7/site-packages/IPython/core/display.py\u001b[0m in \u001b[0;36m_repr_mimebundle_\u001b[0;34m(self, include, exclude)\u001b[0m\n\u001b[1;32m   1288\u001b[0m         \u001b[0;32mif\u001b[0m \u001b[0mself\u001b[0m\u001b[0;34m.\u001b[0m\u001b[0membed\u001b[0m\u001b[0;34m:\u001b[0m\u001b[0;34m\u001b[0m\u001b[0;34m\u001b[0m\u001b[0m\n\u001b[1;32m   1289\u001b[0m             \u001b[0mmimetype\u001b[0m \u001b[0;34m=\u001b[0m \u001b[0mself\u001b[0m\u001b[0;34m.\u001b[0m\u001b[0m_mimetype\u001b[0m\u001b[0;34m\u001b[0m\u001b[0;34m\u001b[0m\u001b[0m\n\u001b[0;32m-> 1290\u001b[0;31m             \u001b[0mdata\u001b[0m\u001b[0;34m,\u001b[0m \u001b[0mmetadata\u001b[0m \u001b[0;34m=\u001b[0m \u001b[0mself\u001b[0m\u001b[0;34m.\u001b[0m\u001b[0m_data_and_metadata\u001b[0m\u001b[0;34m(\u001b[0m\u001b[0malways_both\u001b[0m\u001b[0;34m=\u001b[0m\u001b[0;32mTrue\u001b[0m\u001b[0;34m)\u001b[0m\u001b[0;34m\u001b[0m\u001b[0;34m\u001b[0m\u001b[0m\n\u001b[0m\u001b[1;32m   1291\u001b[0m             \u001b[0;32mif\u001b[0m \u001b[0mmetadata\u001b[0m\u001b[0;34m:\u001b[0m\u001b[0;34m\u001b[0m\u001b[0;34m\u001b[0m\u001b[0m\n\u001b[1;32m   1292\u001b[0m                 \u001b[0mmetadata\u001b[0m \u001b[0;34m=\u001b[0m \u001b[0;34m{\u001b[0m\u001b[0mmimetype\u001b[0m\u001b[0;34m:\u001b[0m \u001b[0mmetadata\u001b[0m\u001b[0;34m}\u001b[0m\u001b[0;34m\u001b[0m\u001b[0;34m\u001b[0m\u001b[0m\n",
            "\u001b[0;32m/opt/conda/lib/python3.7/site-packages/IPython/core/display.py\u001b[0m in \u001b[0;36m_data_and_metadata\u001b[0;34m(self, always_both)\u001b[0m\n\u001b[1;32m   1301\u001b[0m         \u001b[0;32mexcept\u001b[0m \u001b[0mTypeError\u001b[0m\u001b[0;34m:\u001b[0m\u001b[0;34m\u001b[0m\u001b[0;34m\u001b[0m\u001b[0m\n\u001b[1;32m   1302\u001b[0m             raise FileNotFoundError(\n\u001b[0;32m-> 1303\u001b[0;31m                 \"No such file or directory: '%s'\" % (self.data))\n\u001b[0m\u001b[1;32m   1304\u001b[0m         \u001b[0mmd\u001b[0m \u001b[0;34m=\u001b[0m \u001b[0;34m{\u001b[0m\u001b[0;34m}\u001b[0m\u001b[0;34m\u001b[0m\u001b[0;34m\u001b[0m\u001b[0m\n\u001b[1;32m   1305\u001b[0m         \u001b[0;32mif\u001b[0m \u001b[0mself\u001b[0m\u001b[0;34m.\u001b[0m\u001b[0mmetadata\u001b[0m\u001b[0;34m:\u001b[0m\u001b[0;34m\u001b[0m\u001b[0;34m\u001b[0m\u001b[0m\n",
            "\u001b[0;31mFileNotFoundError\u001b[0m: No such file or directory: '/content/Screenshot (67).png'"
          ],
          "ename": "FileNotFoundError",
          "evalue": "No such file or directory: '/content/Screenshot (67).png'",
          "output_type": "error"
        },
        {
          "traceback": [
            "\u001b[0;31m---------------------------------------------------------------------------\u001b[0m",
            "\u001b[0;31mTypeError\u001b[0m                                 Traceback (most recent call last)",
            "\u001b[0;32m/opt/conda/lib/python3.7/site-packages/IPython/core/display.py\u001b[0m in \u001b[0;36m_data_and_metadata\u001b[0;34m(self, always_both)\u001b[0m\n\u001b[1;32m   1299\u001b[0m         \u001b[0;32mtry\u001b[0m\u001b[0;34m:\u001b[0m\u001b[0;34m\u001b[0m\u001b[0;34m\u001b[0m\u001b[0m\n\u001b[0;32m-> 1300\u001b[0;31m             \u001b[0mb64_data\u001b[0m \u001b[0;34m=\u001b[0m \u001b[0mb2a_base64\u001b[0m\u001b[0;34m(\u001b[0m\u001b[0mself\u001b[0m\u001b[0;34m.\u001b[0m\u001b[0mdata\u001b[0m\u001b[0;34m)\u001b[0m\u001b[0;34m.\u001b[0m\u001b[0mdecode\u001b[0m\u001b[0;34m(\u001b[0m\u001b[0;34m'ascii'\u001b[0m\u001b[0;34m)\u001b[0m\u001b[0;34m\u001b[0m\u001b[0;34m\u001b[0m\u001b[0m\n\u001b[0m\u001b[1;32m   1301\u001b[0m         \u001b[0;32mexcept\u001b[0m \u001b[0mTypeError\u001b[0m\u001b[0;34m:\u001b[0m\u001b[0;34m\u001b[0m\u001b[0;34m\u001b[0m\u001b[0m\n",
            "\u001b[0;31mTypeError\u001b[0m: a bytes-like object is required, not 'str'",
            "\nDuring handling of the above exception, another exception occurred:\n",
            "\u001b[0;31mFileNotFoundError\u001b[0m                         Traceback (most recent call last)",
            "\u001b[0;32m/opt/conda/lib/python3.7/site-packages/IPython/core/formatters.py\u001b[0m in \u001b[0;36m__call__\u001b[0;34m(self, obj)\u001b[0m\n\u001b[1;32m    343\u001b[0m             \u001b[0mmethod\u001b[0m \u001b[0;34m=\u001b[0m \u001b[0mget_real_method\u001b[0m\u001b[0;34m(\u001b[0m\u001b[0mobj\u001b[0m\u001b[0;34m,\u001b[0m \u001b[0mself\u001b[0m\u001b[0;34m.\u001b[0m\u001b[0mprint_method\u001b[0m\u001b[0;34m)\u001b[0m\u001b[0;34m\u001b[0m\u001b[0;34m\u001b[0m\u001b[0m\n\u001b[1;32m    344\u001b[0m             \u001b[0;32mif\u001b[0m \u001b[0mmethod\u001b[0m \u001b[0;32mis\u001b[0m \u001b[0;32mnot\u001b[0m \u001b[0;32mNone\u001b[0m\u001b[0;34m:\u001b[0m\u001b[0;34m\u001b[0m\u001b[0;34m\u001b[0m\u001b[0m\n\u001b[0;32m--> 345\u001b[0;31m                 \u001b[0;32mreturn\u001b[0m \u001b[0mmethod\u001b[0m\u001b[0;34m(\u001b[0m\u001b[0;34m)\u001b[0m\u001b[0;34m\u001b[0m\u001b[0;34m\u001b[0m\u001b[0m\n\u001b[0m\u001b[1;32m    346\u001b[0m             \u001b[0;32mreturn\u001b[0m \u001b[0;32mNone\u001b[0m\u001b[0;34m\u001b[0m\u001b[0;34m\u001b[0m\u001b[0m\n\u001b[1;32m    347\u001b[0m         \u001b[0;32melse\u001b[0m\u001b[0;34m:\u001b[0m\u001b[0;34m\u001b[0m\u001b[0;34m\u001b[0m\u001b[0m\n",
            "\u001b[0;32m/opt/conda/lib/python3.7/site-packages/IPython/core/display.py\u001b[0m in \u001b[0;36m_repr_png_\u001b[0;34m(self)\u001b[0m\n\u001b[1;32m   1318\u001b[0m     \u001b[0;32mdef\u001b[0m \u001b[0m_repr_png_\u001b[0m\u001b[0;34m(\u001b[0m\u001b[0mself\u001b[0m\u001b[0;34m)\u001b[0m\u001b[0;34m:\u001b[0m\u001b[0;34m\u001b[0m\u001b[0;34m\u001b[0m\u001b[0m\n\u001b[1;32m   1319\u001b[0m         \u001b[0;32mif\u001b[0m \u001b[0mself\u001b[0m\u001b[0;34m.\u001b[0m\u001b[0membed\u001b[0m \u001b[0;32mand\u001b[0m \u001b[0mself\u001b[0m\u001b[0;34m.\u001b[0m\u001b[0mformat\u001b[0m \u001b[0;34m==\u001b[0m \u001b[0mself\u001b[0m\u001b[0;34m.\u001b[0m\u001b[0m_FMT_PNG\u001b[0m\u001b[0;34m:\u001b[0m\u001b[0;34m\u001b[0m\u001b[0;34m\u001b[0m\u001b[0m\n\u001b[0;32m-> 1320\u001b[0;31m             \u001b[0;32mreturn\u001b[0m \u001b[0mself\u001b[0m\u001b[0;34m.\u001b[0m\u001b[0m_data_and_metadata\u001b[0m\u001b[0;34m(\u001b[0m\u001b[0;34m)\u001b[0m\u001b[0;34m\u001b[0m\u001b[0;34m\u001b[0m\u001b[0m\n\u001b[0m\u001b[1;32m   1321\u001b[0m \u001b[0;34m\u001b[0m\u001b[0m\n\u001b[1;32m   1322\u001b[0m     \u001b[0;32mdef\u001b[0m \u001b[0m_repr_jpeg_\u001b[0m\u001b[0;34m(\u001b[0m\u001b[0mself\u001b[0m\u001b[0;34m)\u001b[0m\u001b[0;34m:\u001b[0m\u001b[0;34m\u001b[0m\u001b[0;34m\u001b[0m\u001b[0m\n",
            "\u001b[0;32m/opt/conda/lib/python3.7/site-packages/IPython/core/display.py\u001b[0m in \u001b[0;36m_data_and_metadata\u001b[0;34m(self, always_both)\u001b[0m\n\u001b[1;32m   1301\u001b[0m         \u001b[0;32mexcept\u001b[0m \u001b[0mTypeError\u001b[0m\u001b[0;34m:\u001b[0m\u001b[0;34m\u001b[0m\u001b[0;34m\u001b[0m\u001b[0m\n\u001b[1;32m   1302\u001b[0m             raise FileNotFoundError(\n\u001b[0;32m-> 1303\u001b[0;31m                 \"No such file or directory: '%s'\" % (self.data))\n\u001b[0m\u001b[1;32m   1304\u001b[0m         \u001b[0mmd\u001b[0m \u001b[0;34m=\u001b[0m \u001b[0;34m{\u001b[0m\u001b[0;34m}\u001b[0m\u001b[0;34m\u001b[0m\u001b[0;34m\u001b[0m\u001b[0m\n\u001b[1;32m   1305\u001b[0m         \u001b[0;32mif\u001b[0m \u001b[0mself\u001b[0m\u001b[0;34m.\u001b[0m\u001b[0mmetadata\u001b[0m\u001b[0;34m:\u001b[0m\u001b[0;34m\u001b[0m\u001b[0;34m\u001b[0m\u001b[0m\n",
            "\u001b[0;31mFileNotFoundError\u001b[0m: No such file or directory: '/content/Screenshot (67).png'"
          ],
          "ename": "FileNotFoundError",
          "evalue": "No such file or directory: '/content/Screenshot (67).png'",
          "output_type": "error"
        },
        {
          "execution_count": 60,
          "output_type": "execute_result",
          "data": {
            "text/plain": "<IPython.core.display.Image object>"
          },
          "metadata": {}
        }
      ]
    },
    {
      "cell_type": "code",
      "source": [
        "def convert_to_spectrogram(raw_data):\n",
        "  '''converting to spectrogram'''\n",
        "  spectrum = librosa.feature.melspectrogram(y=raw_data, sr=sample_rate, n_mels=64)\n",
        "  logmel_spectrum = librosa.power_to_db(S=spectrum, ref=np.max)\n",
        "  return logmel_spectrum"
      ],
      "metadata": {
        "id": "wp5y2vgjQcxc",
        "execution": {
          "iopub.status.busy": "2022-05-19T20:54:40.646397Z",
          "iopub.execute_input": "2022-05-19T20:54:40.646719Z",
          "iopub.status.idle": "2022-05-19T20:54:40.652291Z",
          "shell.execute_reply.started": "2022-05-19T20:54:40.646683Z",
          "shell.execute_reply": "2022-05-19T20:54:40.651441Z"
        },
        "trusted": true
      },
      "execution_count": null,
      "outputs": []
    },
    {
      "cell_type": "code",
      "source": [
        "X_train_spectrogram=[]\n",
        "X_test_spectrogram=[]\n",
        "for i in tqdm(range(X_train_pad_seq.shape[0])):\n",
        "  X_train_spectrogram.append(convert_to_spectrogram(X_train_pad_seq[i]))\n",
        "for i in tqdm(range(X_test_pad_seq.shape[0])):\n",
        "  X_test_spectrogram.append(convert_to_spectrogram(X_test_pad_seq[i]))"
      ],
      "metadata": {
        "id": "GG4aOGjCQpXr",
        "execution": {
          "iopub.status.busy": "2022-05-19T20:54:40.653368Z",
          "iopub.execute_input": "2022-05-19T20:54:40.654040Z",
          "iopub.status.idle": "2022-05-19T20:56:13.420739Z",
          "shell.execute_reply.started": "2022-05-19T20:54:40.654001Z",
          "shell.execute_reply": "2022-05-19T20:56:13.419013Z"
        },
        "trusted": true,
        "outputId": "62a76968-c134-4243-dd2b-f892a74976a7"
      },
      "execution_count": null,
      "outputs": [
        {
          "name": "stderr",
          "text": "100%|██████████| 12600/12600 [01:05<00:00, 193.48it/s]\n100%|██████████| 5400/5400 [00:27<00:00, 195.47it/s]\n",
          "output_type": "stream"
        }
      ]
    },
    {
      "cell_type": "code",
      "source": [
        "X_train_spectrogram = np.array(X_train_spectrogram)\n",
        "X_test_spectrogram = np.array(X_test_spectrogram)"
      ],
      "metadata": {
        "id": "doEQ9pvARLDg",
        "execution": {
          "iopub.status.busy": "2022-05-19T20:56:13.421993Z",
          "iopub.execute_input": "2022-05-19T20:56:13.422429Z",
          "iopub.status.idle": "2022-05-19T20:56:13.653985Z",
          "shell.execute_reply.started": "2022-05-19T20:56:13.422381Z",
          "shell.execute_reply": "2022-05-19T20:56:13.652971Z"
        },
        "trusted": true
      },
      "execution_count": null,
      "outputs": []
    },
    {
      "cell_type": "code",
      "source": [
        "## as discussed above, please write the LSTM\n",
        "input1 = Input(shape=(64, 35,))\n",
        "LSTM_layer= LSTM(256,dropout=0.01,return_sequences=True)(input1)\n",
        "#tr = tf.transpose(LSTM_layer,perm=[0, 2, 1])\n",
        "avg=GlobalAveragePooling1D(data_format='channels_last')(LSTM_layer)\n",
        "x = Dense(256,activation='relu',kernel_initializer=tf.keras.initializers.he_normal(seed=31),kernel_regularizer=l2(0.0001))(avg)\n",
        "x = Dropout(0.01)(x)\n",
        "x = BatchNormalization()(x)\n",
        "x = Dense(128,activation='relu',kernel_initializer=tf.keras.initializers.he_normal(seed=43),kernel_regularizer=l2(0.0001))(x)\n",
        "x = Dropout(0.01)(x)\n",
        "x = BatchNormalization()(x)\n",
        "x = Dense(64,activation='relu',kernel_initializer=tf.keras.initializers.he_normal(seed=54),kernel_regularizer=l2(0.0001))(x)\n",
        "x = BatchNormalization()(x)\n",
        "dense = Dense(32,activation='relu',kernel_initializer=tf.keras.initializers.he_normal(seed=40),kernel_regularizer=l2(0.0001))(x)\n",
        "Out = Dense(units=10,activation='softmax',kernel_initializer=tf.keras.initializers.glorot_normal(seed=45),name='Output')(dense)\n",
        "model4= Model(inputs=input1,outputs=Out)"
      ],
      "metadata": {
        "id": "xLvPqECPRLNV",
        "execution": {
          "iopub.status.busy": "2022-05-19T20:56:13.658585Z",
          "iopub.execute_input": "2022-05-19T20:56:13.660671Z",
          "iopub.status.idle": "2022-05-19T20:56:13.994215Z",
          "shell.execute_reply.started": "2022-05-19T20:56:13.660629Z",
          "shell.execute_reply": "2022-05-19T20:56:13.993444Z"
        },
        "trusted": true
      },
      "execution_count": null,
      "outputs": []
    },
    {
      "cell_type": "code",
      "source": [
        "#tensorbord for model1\n",
        "logdir = os.path.join(\"logs\", datetime.datetime.now().strftime(\"%Y%m%d-%H%M%S\"))\n",
        "tensorboard_callback = tf.keras.callbacks.TensorBoard(logdir, histogram_freq=1)\n",
        "%tensorboard --logdir $logdir"
      ],
      "metadata": {
        "id": "AEMk9GplRLXH",
        "execution": {
          "iopub.status.busy": "2022-05-19T20:56:13.995639Z",
          "iopub.execute_input": "2022-05-19T20:56:13.995888Z",
          "iopub.status.idle": "2022-05-19T20:56:17.454893Z",
          "shell.execute_reply.started": "2022-05-19T20:56:13.995854Z",
          "shell.execute_reply": "2022-05-19T20:56:17.454092Z"
        },
        "trusted": true,
        "outputId": "47f2dbe0-5287-4b2f-b0b5-e36f72a6cbe1"
      },
      "execution_count": null,
      "outputs": [
        {
          "name": "stderr",
          "text": "2022-05-19 20:56:13.999201: I tensorflow/core/profiler/lib/profiler_session.cc:131] Profiler session initializing.\n2022-05-19 20:56:13.999252: I tensorflow/core/profiler/lib/profiler_session.cc:146] Profiler session started.\n2022-05-19 20:56:14.150999: I tensorflow/core/profiler/lib/profiler_session.cc:164] Profiler session tear down.\n2022-05-19 20:56:14.151225: I tensorflow/core/profiler/internal/gpu/cupti_tracer.cc:1748] CUPTI activity buffer flushed\n",
          "output_type": "stream"
        },
        {
          "output_type": "display_data",
          "data": {
            "text/plain": "<IPython.core.display.HTML object>",
            "text/html": "\n      <iframe id=\"tensorboard-frame-18f17788a438c492\" width=\"100%\" height=\"800\" frameborder=\"0\">\n      </iframe>\n      <script>\n        (function() {\n          const frame = document.getElementById(\"tensorboard-frame-18f17788a438c492\");\n          const url = new URL(\"/\", window.location);\n          const port = 6008;\n          if (port) {\n            url.port = port;\n          }\n          frame.src = url;\n        })();\n      </script>\n    "
          },
          "metadata": {}
        }
      ]
    },
    {
      "cell_type": "code",
      "source": [
        "def changeLearningRate(epochs,learning_rate):\n",
        "  if epochs<50:\n",
        "    learning_rate=0.001\n",
        "    return learning_rate\n",
        "  elif epochs<75 and epochs>125:\n",
        "    learning_rate=0.0001\n",
        "    return learning_rate\n",
        "  else:\n",
        "    learning_rate=0.000001\n",
        "    return learning_rate\n",
        "lrschedule = LearningRateScheduler(changeLearningRate,verbose=1)"
      ],
      "metadata": {
        "id": "9m6-hloYRLg8",
        "execution": {
          "iopub.status.busy": "2022-05-19T20:56:17.456573Z",
          "iopub.execute_input": "2022-05-19T20:56:17.457185Z",
          "iopub.status.idle": "2022-05-19T20:56:17.465210Z",
          "shell.execute_reply.started": "2022-05-19T20:56:17.457141Z",
          "shell.execute_reply": "2022-05-19T20:56:17.464526Z"
        },
        "trusted": true
      },
      "execution_count": null,
      "outputs": []
    },
    {
      "cell_type": "code",
      "source": [
        "optimizer=tf.keras.optimizers.Adam(learning_rate=0.001)\n",
        "model4.compile(optimizer=optimizer, loss='categorical_crossentropy',metrics=[tfa.metrics.F1Score(num_classes=10,name='f1_score',average='micro')])"
      ],
      "metadata": {
        "id": "O5n7ex1rRLpV",
        "execution": {
          "iopub.status.busy": "2022-05-19T20:56:17.468451Z",
          "iopub.execute_input": "2022-05-19T20:56:17.468719Z",
          "iopub.status.idle": "2022-05-19T20:56:17.486836Z",
          "shell.execute_reply.started": "2022-05-19T20:56:17.468684Z",
          "shell.execute_reply": "2022-05-19T20:56:17.486203Z"
        },
        "trusted": true
      },
      "execution_count": null,
      "outputs": []
    },
    {
      "cell_type": "code",
      "source": [
        "model4.fit(X_train_spectrogram,y_train_ohe,epochs=200, validation_data=(X_test_spectrogram,y_test_ohe),\n",
        "batch_size=50,\n",
        "callbacks=[tensorboard_callback,lrschedule])"
      ],
      "metadata": {
        "id": "IOqd1NixRLyL",
        "execution": {
          "iopub.status.busy": "2022-05-19T20:56:17.487822Z",
          "iopub.execute_input": "2022-05-19T20:56:17.488453Z"
        },
        "trusted": true,
        "outputId": "9b64f439-a69b-40e1-c31d-ba2437106385"
      },
      "execution_count": null,
      "outputs": [
        {
          "name": "stdout",
          "text": "Epoch 1/200\n\nEpoch 00001: LearningRateScheduler setting learning rate to 0.001.\n  1/252 [..............................] - ETA: 7:37 - loss: 3.0764 - f1_score: 0.1000",
          "output_type": "stream"
        },
        {
          "name": "stderr",
          "text": "2022-05-19 20:56:19.554493: I tensorflow/core/profiler/lib/profiler_session.cc:131] Profiler session initializing.\n2022-05-19 20:56:19.554542: I tensorflow/core/profiler/lib/profiler_session.cc:146] Profiler session started.\n",
          "output_type": "stream"
        },
        {
          "name": "stdout",
          "text": "  2/252 [..............................] - ETA: 1:12 - loss: 3.0774 - f1_score: 0.0700",
          "output_type": "stream"
        },
        {
          "name": "stderr",
          "text": "2022-05-19 20:56:19.875548: I tensorflow/core/profiler/lib/profiler_session.cc:66] Profiler session collecting data.\n2022-05-19 20:56:19.876395: I tensorflow/core/profiler/internal/gpu/cupti_tracer.cc:1748] CUPTI activity buffer flushed\n2022-05-19 20:56:20.006180: I tensorflow/core/profiler/internal/gpu/cupti_collector.cc:673]  GpuTracer has collected 642 callback api events and 639 activity events. \n2022-05-19 20:56:20.020109: I tensorflow/core/profiler/lib/profiler_session.cc:164] Profiler session tear down.\n2022-05-19 20:56:20.037334: I tensorflow/core/profiler/rpc/client/save_profile.cc:136] Creating directory: logs/20220519-205613/train/plugins/profile/2022_05_19_20_56_20\n\n2022-05-19 20:56:20.046787: I tensorflow/core/profiler/rpc/client/save_profile.cc:142] Dumped gzipped tool data for trace.json.gz to logs/20220519-205613/train/plugins/profile/2022_05_19_20_56_20/5a18025f4eba.trace.json.gz\n2022-05-19 20:56:20.064256: I tensorflow/core/profiler/rpc/client/save_profile.cc:136] Creating directory: logs/20220519-205613/train/plugins/profile/2022_05_19_20_56_20\n\n2022-05-19 20:56:20.066940: I tensorflow/core/profiler/rpc/client/save_profile.cc:142] Dumped gzipped tool data for memory_profile.json.gz to logs/20220519-205613/train/plugins/profile/2022_05_19_20_56_20/5a18025f4eba.memory_profile.json.gz\n2022-05-19 20:56:20.068005: I tensorflow/core/profiler/rpc/client/capture_profile.cc:251] Creating directory: logs/20220519-205613/train/plugins/profile/2022_05_19_20_56_20\nDumped tool data for xplane.pb to logs/20220519-205613/train/plugins/profile/2022_05_19_20_56_20/5a18025f4eba.xplane.pb\nDumped tool data for overview_page.pb to logs/20220519-205613/train/plugins/profile/2022_05_19_20_56_20/5a18025f4eba.overview_page.pb\nDumped tool data for input_pipeline.pb to logs/20220519-205613/train/plugins/profile/2022_05_19_20_56_20/5a18025f4eba.input_pipeline.pb\nDumped tool data for tensorflow_stats.pb to logs/20220519-205613/train/plugins/profile/2022_05_19_20_56_20/5a18025f4eba.tensorflow_stats.pb\nDumped tool data for kernel_stats.pb to logs/20220519-205613/train/plugins/profile/2022_05_19_20_56_20/5a18025f4eba.kernel_stats.pb\n\n",
          "output_type": "stream"
        },
        {
          "name": "stdout",
          "text": "252/252 [==============================] - 6s 17ms/step - loss: 1.9605 - f1_score: 0.3357 - val_loss: 2.6548 - val_f1_score: 0.1504\nEpoch 2/200\n\nEpoch 00002: LearningRateScheduler setting learning rate to 0.001.\n252/252 [==============================] - 3s 10ms/step - loss: 1.4624 - f1_score: 0.4911 - val_loss: 2.1190 - val_f1_score: 0.2837\nEpoch 3/200\n\nEpoch 00003: LearningRateScheduler setting learning rate to 0.001.\n252/252 [==============================] - 3s 10ms/step - loss: 1.3738 - f1_score: 0.5288 - val_loss: 3.1010 - val_f1_score: 0.1533\nEpoch 4/200\n\nEpoch 00004: LearningRateScheduler setting learning rate to 0.001.\n252/252 [==============================] - 3s 10ms/step - loss: 1.2450 - f1_score: 0.5700 - val_loss: 1.8956 - val_f1_score: 0.3591\nEpoch 5/200\n\nEpoch 00005: LearningRateScheduler setting learning rate to 0.001.\n252/252 [==============================] - 3s 11ms/step - loss: 1.1772 - f1_score: 0.6027 - val_loss: 2.8040 - val_f1_score: 0.2646\nEpoch 6/200\n\nEpoch 00006: LearningRateScheduler setting learning rate to 0.001.\n252/252 [==============================] - 3s 10ms/step - loss: 1.0719 - f1_score: 0.6375 - val_loss: 4.2582 - val_f1_score: 0.1300\nEpoch 7/200\n\nEpoch 00007: LearningRateScheduler setting learning rate to 0.001.\n252/252 [==============================] - 3s 11ms/step - loss: 1.0494 - f1_score: 0.6390 - val_loss: 2.1496 - val_f1_score: 0.2446\nEpoch 8/200\n\nEpoch 00008: LearningRateScheduler setting learning rate to 0.001.\n252/252 [==============================] - 3s 10ms/step - loss: 1.0423 - f1_score: 0.6477 - val_loss: 3.5867 - val_f1_score: 0.2046\nEpoch 9/200\n\nEpoch 00009: LearningRateScheduler setting learning rate to 0.001.\n252/252 [==============================] - 3s 10ms/step - loss: 0.9955 - f1_score: 0.6663 - val_loss: 1.8732 - val_f1_score: 0.3619\nEpoch 10/200\n\nEpoch 00010: LearningRateScheduler setting learning rate to 0.001.\n252/252 [==============================] - 3s 11ms/step - loss: 0.9284 - f1_score: 0.6859 - val_loss: 2.7803 - val_f1_score: 0.2735\nEpoch 11/200\n\nEpoch 00011: LearningRateScheduler setting learning rate to 0.001.\n252/252 [==============================] - 3s 10ms/step - loss: 0.8980 - f1_score: 0.6964 - val_loss: 2.6071 - val_f1_score: 0.2506\nEpoch 12/200\n\nEpoch 00012: LearningRateScheduler setting learning rate to 0.001.\n252/252 [==============================] - 3s 11ms/step - loss: 0.8775 - f1_score: 0.7060 - val_loss: 4.6293 - val_f1_score: 0.2185\nEpoch 13/200\n\nEpoch 00013: LearningRateScheduler setting learning rate to 0.001.\n252/252 [==============================] - 3s 11ms/step - loss: 0.8453 - f1_score: 0.7136 - val_loss: 3.3476 - val_f1_score: 0.2433\nEpoch 14/200\n\nEpoch 00014: LearningRateScheduler setting learning rate to 0.001.\n252/252 [==============================] - 3s 10ms/step - loss: 0.8376 - f1_score: 0.7160 - val_loss: 3.1357 - val_f1_score: 0.2287\nEpoch 15/200\n\nEpoch 00015: LearningRateScheduler setting learning rate to 0.001.\n252/252 [==============================] - 2s 10ms/step - loss: 0.8217 - f1_score: 0.7173 - val_loss: 2.9900 - val_f1_score: 0.3398\nEpoch 16/200\n\nEpoch 00016: LearningRateScheduler setting learning rate to 0.001.\n252/252 [==============================] - 3s 10ms/step - loss: 0.7709 - f1_score: 0.7392 - val_loss: 3.0677 - val_f1_score: 0.2472\nEpoch 17/200\n\nEpoch 00017: LearningRateScheduler setting learning rate to 0.001.\n252/252 [==============================] - 3s 11ms/step - loss: 0.7763 - f1_score: 0.7358 - val_loss: 3.6798 - val_f1_score: 0.2341\nEpoch 18/200\n\nEpoch 00018: LearningRateScheduler setting learning rate to 0.001.\n252/252 [==============================] - 3s 10ms/step - loss: 0.7669 - f1_score: 0.7433 - val_loss: 2.4837 - val_f1_score: 0.3276\nEpoch 19/200\n\nEpoch 00019: LearningRateScheduler setting learning rate to 0.001.\n252/252 [==============================] - 3s 11ms/step - loss: 0.7563 - f1_score: 0.7448 - val_loss: 2.7207 - val_f1_score: 0.2822\nEpoch 20/200\n\nEpoch 00020: LearningRateScheduler setting learning rate to 0.001.\n252/252 [==============================] - 3s 11ms/step - loss: 0.7201 - f1_score: 0.7552 - val_loss: 4.0372 - val_f1_score: 0.2724\nEpoch 21/200\n\nEpoch 00021: LearningRateScheduler setting learning rate to 0.001.\n252/252 [==============================] - 3s 10ms/step - loss: 0.7058 - f1_score: 0.7619 - val_loss: 6.9963 - val_f1_score: 0.1944\nEpoch 22/200\n\nEpoch 00022: LearningRateScheduler setting learning rate to 0.001.\n252/252 [==============================] - 3s 10ms/step - loss: 0.7246 - f1_score: 0.7553 - val_loss: 2.2274 - val_f1_score: 0.3643\nEpoch 23/200\n\nEpoch 00023: LearningRateScheduler setting learning rate to 0.001.\n252/252 [==============================] - 3s 11ms/step - loss: 0.6806 - f1_score: 0.7724 - val_loss: 1.7888 - val_f1_score: 0.4774\nEpoch 24/200\n\nEpoch 00024: LearningRateScheduler setting learning rate to 0.001.\n252/252 [==============================] - 3s 11ms/step - loss: 0.6998 - f1_score: 0.7630 - val_loss: 1.5004 - val_f1_score: 0.5526\nEpoch 25/200\n\nEpoch 00025: LearningRateScheduler setting learning rate to 0.001.\n252/252 [==============================] - 3s 10ms/step - loss: 0.6793 - f1_score: 0.7697 - val_loss: 5.7169 - val_f1_score: 0.2487\nEpoch 26/200\n\nEpoch 00026: LearningRateScheduler setting learning rate to 0.001.\n252/252 [==============================] - 3s 11ms/step - loss: 0.6674 - f1_score: 0.7777 - val_loss: 3.5799 - val_f1_score: 0.2789\nEpoch 27/200\n\nEpoch 00027: LearningRateScheduler setting learning rate to 0.001.\n252/252 [==============================] - 3s 10ms/step - loss: 0.6822 - f1_score: 0.7661 - val_loss: 1.7208 - val_f1_score: 0.4765\nEpoch 28/200\n\nEpoch 00028: LearningRateScheduler setting learning rate to 0.001.\n252/252 [==============================] - 3s 11ms/step - loss: 0.6576 - f1_score: 0.7713 - val_loss: 3.8783 - val_f1_score: 0.2915\nEpoch 29/200\n\nEpoch 00029: LearningRateScheduler setting learning rate to 0.001.\n252/252 [==============================] - 3s 11ms/step - loss: 0.6642 - f1_score: 0.7748 - val_loss: 1.7245 - val_f1_score: 0.4557\nEpoch 30/200\n\nEpoch 00030: LearningRateScheduler setting learning rate to 0.001.\n252/252 [==============================] - 3s 11ms/step - loss: 0.6354 - f1_score: 0.7833 - val_loss: 8.1551 - val_f1_score: 0.1609\nEpoch 31/200\n\nEpoch 00031: LearningRateScheduler setting learning rate to 0.001.\n252/252 [==============================] - 3s 10ms/step - loss: 0.6466 - f1_score: 0.7810 - val_loss: 3.2481 - val_f1_score: 0.2585\nEpoch 32/200\n\nEpoch 00032: LearningRateScheduler setting learning rate to 0.001.\n252/252 [==============================] - 3s 11ms/step - loss: 0.6288 - f1_score: 0.7813 - val_loss: 1.1032 - val_f1_score: 0.6293\nEpoch 33/200\n\nEpoch 00033: LearningRateScheduler setting learning rate to 0.001.\n252/252 [==============================] - 3s 10ms/step - loss: 0.6271 - f1_score: 0.7875 - val_loss: 2.8386 - val_f1_score: 0.2648\nEpoch 34/200\n\nEpoch 00034: LearningRateScheduler setting learning rate to 0.001.\n252/252 [==============================] - 2s 10ms/step - loss: 0.6130 - f1_score: 0.7919 - val_loss: 3.9350 - val_f1_score: 0.2065\nEpoch 35/200\n\nEpoch 00035: LearningRateScheduler setting learning rate to 0.001.\n252/252 [==============================] - 3s 11ms/step - loss: 0.6140 - f1_score: 0.7887 - val_loss: 4.0349 - val_f1_score: 0.3135\nEpoch 36/200\n\nEpoch 00036: LearningRateScheduler setting learning rate to 0.001.\n252/252 [==============================] - 3s 11ms/step - loss: 0.6194 - f1_score: 0.7875 - val_loss: 2.0883 - val_f1_score: 0.4326\nEpoch 37/200\n\nEpoch 00037: LearningRateScheduler setting learning rate to 0.001.\n252/252 [==============================] - 3s 12ms/step - loss: 0.6017 - f1_score: 0.7916 - val_loss: 0.8637 - val_f1_score: 0.6872\nEpoch 38/200\n\nEpoch 00038: LearningRateScheduler setting learning rate to 0.001.\n252/252 [==============================] - 3s 11ms/step - loss: 0.6091 - f1_score: 0.7926 - val_loss: 2.5228 - val_f1_score: 0.4185\nEpoch 39/200\n\nEpoch 00039: LearningRateScheduler setting learning rate to 0.001.\n252/252 [==============================] - 3s 10ms/step - loss: 0.6008 - f1_score: 0.7921 - val_loss: 3.5082 - val_f1_score: 0.3531\nEpoch 40/200\n\nEpoch 00040: LearningRateScheduler setting learning rate to 0.001.\n252/252 [==============================] - 2s 10ms/step - loss: 0.6001 - f1_score: 0.7943 - val_loss: 1.0044 - val_f1_score: 0.6563\nEpoch 41/200\n\nEpoch 00041: LearningRateScheduler setting learning rate to 0.001.\n252/252 [==============================] - 3s 10ms/step - loss: 0.5664 - f1_score: 0.8038 - val_loss: 2.6732 - val_f1_score: 0.3731\nEpoch 42/200\n\nEpoch 00042: LearningRateScheduler setting learning rate to 0.001.\n252/252 [==============================] - 3s 11ms/step - loss: 0.5971 - f1_score: 0.7944 - val_loss: 0.8446 - val_f1_score: 0.7191\nEpoch 43/200\n\nEpoch 00043: LearningRateScheduler setting learning rate to 0.001.\n252/252 [==============================] - 3s 11ms/step - loss: 0.5879 - f1_score: 0.7957 - val_loss: 3.8515 - val_f1_score: 0.2196\nEpoch 44/200\n\nEpoch 00044: LearningRateScheduler setting learning rate to 0.001.\n252/252 [==============================] - 2s 10ms/step - loss: 0.5681 - f1_score: 0.8075 - val_loss: 1.9273 - val_f1_score: 0.3635\nEpoch 45/200\n\nEpoch 00045: LearningRateScheduler setting learning rate to 0.001.\n252/252 [==============================] - 3s 10ms/step - loss: 0.5628 - f1_score: 0.8073 - val_loss: 1.6780 - val_f1_score: 0.4556\nEpoch 46/200\n\nEpoch 00046: LearningRateScheduler setting learning rate to 0.001.\n252/252 [==============================] - 3s 10ms/step - loss: 0.5726 - f1_score: 0.8043 - val_loss: 3.0253 - val_f1_score: 0.3930\nEpoch 47/200\n\nEpoch 00047: LearningRateScheduler setting learning rate to 0.001.\n252/252 [==============================] - 3s 12ms/step - loss: 0.5722 - f1_score: 0.8064 - val_loss: 2.9558 - val_f1_score: 0.4015\nEpoch 48/200\n\nEpoch 00048: LearningRateScheduler setting learning rate to 0.001.\n252/252 [==============================] - 3s 10ms/step - loss: 0.5576 - f1_score: 0.8109 - val_loss: 2.2614 - val_f1_score: 0.4437\nEpoch 49/200\n\nEpoch 00049: LearningRateScheduler setting learning rate to 0.001.\n252/252 [==============================] - 3s 12ms/step - loss: 0.6923 - f1_score: 0.7684 - val_loss: 2.6542 - val_f1_score: 0.3128\nEpoch 50/200\n\nEpoch 00050: LearningRateScheduler setting learning rate to 0.001.\n252/252 [==============================] - 3s 11ms/step - loss: 0.7088 - f1_score: 0.7554 - val_loss: 2.3134 - val_f1_score: 0.4263\nEpoch 51/200\n\nEpoch 00051: LearningRateScheduler setting learning rate to 1e-06.\n252/252 [==============================] - 3s 11ms/step - loss: 0.6413 - f1_score: 0.7763 - val_loss: 0.5457 - val_f1_score: 0.8174\nEpoch 52/200\n\nEpoch 00052: LearningRateScheduler setting learning rate to 1e-06.\n252/252 [==============================] - 3s 11ms/step - loss: 0.6540 - f1_score: 0.7744 - val_loss: 0.5525 - val_f1_score: 0.8193\nEpoch 53/200\n\nEpoch 00053: LearningRateScheduler setting learning rate to 1e-06.\n252/252 [==============================] - 3s 10ms/step - loss: 0.6304 - f1_score: 0.7787 - val_loss: 0.5497 - val_f1_score: 0.8189\nEpoch 54/200\n\nEpoch 00054: LearningRateScheduler setting learning rate to 1e-06.\n252/252 [==============================] - 3s 11ms/step - loss: 0.6359 - f1_score: 0.7800 - val_loss: 0.5463 - val_f1_score: 0.8202\nEpoch 55/200\n\nEpoch 00055: LearningRateScheduler setting learning rate to 1e-06.\n252/252 [==============================] - 3s 11ms/step - loss: 0.6294 - f1_score: 0.7828 - val_loss: 0.5430 - val_f1_score: 0.8202\nEpoch 56/200\n\nEpoch 00056: LearningRateScheduler setting learning rate to 1e-06.\n145/252 [================>.............] - ETA: 0s - loss: 0.6239 - f1_score: 0.7841",
          "output_type": "stream"
        }
      ]
    },
    {
      "cell_type": "code",
      "source": [
        "from IPython.display import Image\n",
        "Image('/content/Screenshot (68).png',width=1000,height=500)"
      ],
      "metadata": {
        "id": "BmsHEQ-RRL75",
        "trusted": true
      },
      "execution_count": null,
      "outputs": []
    },
    {
      "cell_type": "code",
      "source": [
        "from IPython.display import Image\n",
        "Image('/content/Screenshot (69).png',width=1000,height=500)"
      ],
      "metadata": {
        "id": "IdGRfGq_Qpi9",
        "trusted": true
      },
      "execution_count": null,
      "outputs": []
    },
    {
      "cell_type": "code",
      "source": [
        "Observation :\n",
        "1) In this assignment we have performed spoken digit Recognition ,the input will be speech and th\n",
        "e output will be digit-number\n",
        "2)first of all we read the data and created a dataFrame of path(file path ) and level(digit numbe\n",
        "r)\n",
        "3)Then split the data into train and test\n",
        "4From the path we loaded the data as the it is in wav file we have used librosa library\n",
        "5)then we have done masking the train and test , and used level encoder for y.\n",
        "6)then created the first model.\n",
        "Observation in tensorboard\n",
        "Because this model is trained only on raw tada that’s why f1 score is very less around 0.1\n",
        "7) Then we have converted row data into spectrogram\n",
        "8) created Model2 and trained\n",
        "Observation in tensorboard\n",
        "with this data we got f1 score 0.82 without overfitting the model\n",
        "9)Now we have used data augmentation technique and created 18000 data from 2000 data\n",
        "10)Then trained model3\n",
        "Observation in tensorboard\n",
        "Because this model is trained only on raw tada that’s why f1 score is very less around 0.1\n",
        "11) After that we have converted augmented data into spectrogram and trained model4\n",
        "Observation in tensorboard\n",
        "with this data we got f1 score 0.85 without overfitting the model"
      ],
      "metadata": {
        "id": "r277sRQFQpt3",
        "trusted": true
      },
      "execution_count": null,
      "outputs": []
    },
    {
      "cell_type": "code",
      "source": [
        ""
      ],
      "metadata": {
        "id": "40RMwgJ6O_sE"
      },
      "execution_count": null,
      "outputs": []
    }
  ]
}