{
  "nbformat": 4,
  "nbformat_minor": 0,
  "metadata": {
    "colab": {
      "name": "Recommendation_system_assignment.ipynb",
      "provenance": [],
      "collapsed_sections": []
    },
    "kernelspec": {
      "display_name": "Python 3",
      "name": "python3"
    }
  },
  "cells": [
    {
      "cell_type": "markdown",
      "metadata": {
        "id": "YeM0ZBWUVtXR"
      },
      "source": [
        "# <font color='red'>SGD Algorithm to predict movie ratings</font>"
      ]
    },
    {
      "cell_type": "markdown",
      "metadata": {
        "id": "M2vyJqSlmmjM"
      },
      "source": [
        "**There will be some functions that start with the word \"grader\" ex: grader_matrix(), grader_mean(), grader_dim() etc, you should not change those function definition.<br><br>Every Grader function has to return True.**"
      ]
    },
    {
      "cell_type": "markdown",
      "metadata": {
        "id": "AL6njTf8WBO0"
      },
      "source": [
        "<pre>\n",
        "1. Download the data from <a href='https://drive.google.com/open?id=1-1z7iDB52cB6_JpO7Dqa-eOYSs-mivpq'> here </a>\n",
        "2. The data will be of this format, each data point is represented as a triplet of user_id, movie_id and rating \n",
        "<table>\n",
        "<tr><th>user_id</th><th>movie_id</th><th>rating</th></tr>\n",
        "<tr><td>77</td><td>236</td><td>3</td></tr>\n",
        "<tr><td>471</td><td>208</td><td>5</td></tr>\n",
        "<tr><td>641</td><td>401</td><td>4</td></tr>\n",
        "<tr><td>31</td><td>298</td><td>4</td></tr>\n",
        "<tr><td>58</td><td>504</td><td>5</td></tr>\n",
        "<tr><td>235</td><td>727</td><td>5</td></tr>\n",
        "</table>"
      ]
    },
    {
      "cell_type": "markdown",
      "metadata": {
        "id": "73dhFsT0WSSB"
      },
      "source": [
        "## <font color='red'>Task 1</font>"
      ]
    },
    {
      "cell_type": "markdown",
      "metadata": {
        "id": "HY0frS6EWaEV"
      },
      "source": [
        "<font color='red'><b>Predict the rating for a given (user_id, movie_id) pair </b> </font>\n"
      ]
    },
    {
      "cell_type": "markdown",
      "metadata": {
        "id": "R-ISYxaVbT8L"
      },
      "source": [
        "Predicted rating $\\hat{y}_{ij}$ for user i, movied j pair is calcuated as $\\hat{y}_{ij} = \\mu + b_i + c_j + u_i^T v_j$ , here we will be finding the best values of $b_{i}$ and $c_{j}$ using SGD algorithm with the optimization problem for N users and M movies is defined as"
      ]
    },
    {
      "cell_type": "markdown",
      "metadata": {
        "id": "8Aj8SXeQWlZd"
      },
      "source": [
        "$$\n",
        "L = \\min_{ b, c, \\{ u_i \\}_{i=1}^N, \\{ v_j \\}_{j=1}^M}\n",
        "\\quad\n",
        "\\alpha \\Big(\n",
        "    \\sum_{j} \\sum_{k} v_{jk}^2 \n",
        "    + \\sum_{i} \\sum_{k} u_{ik}^2 \n",
        "    + \\sum_{i} b_i^2\n",
        "    + \\sum_{j} c_i^2\n",
        "    \\Big)\n",
        "+ \\sum_{i,j \\in \\mathcal{I}^{\\text{train}}}\n",
        "    (y_{ij} - \\mu - b_i - c_j - u_i^T v_j)^2\n",
        "$$"
      ]
    },
    {
      "cell_type": "markdown",
      "metadata": {
        "id": "2Q5bnWyZXrM7"
      },
      "source": [
        "<ul>\n",
        "<li><span class=\"math\">\\(\\mu\\)</span> : scalar mean rating</li>\n",
        "<li><span class=\"math\">\\(b_i\\)</span> : scalar bias term for user <span class=\"math\">\\(i\\)</span></li>\n",
        "<li><span class=\"math\">\\(c_j\\)</span> : scalar bias term for movie <span class=\"math\">\\(j\\)</span></li>\n",
        "<li><span class=\"math\">\\(u_i\\)</span> : K-dimensional vector for user <span class=\"math\">\\(i\\)</span></li>\n",
        "<li><span class=\"math\">\\(v_j\\)</span> : K-dimensional vector for movie <span class=\"math\">\\(j\\)</span></li>\n",
        "</ul>\n",
        "\n",
        " $ \\ $\n"
      ]
    },
    {
      "cell_type": "markdown",
      "metadata": {
        "id": "q1cf4CunbEr4"
      },
      "source": [
        "\n",
        "\n",
        "\n",
        "*.  We will be giving you some functions, please write code in that functions only.\n",
        "\n",
        "*.  After every function, we will be giving you expected output, please make sure that you get that output. \n",
        "\n",
        "\n",
        "\n"
      ]
    },
    {
      "cell_type": "markdown",
      "metadata": {
        "id": "ZWQyB5hfy3u7"
      },
      "source": [
        "1. Construct adjacency matrix with the given data, assuming its  <a href='https://en.wikipedia.org/wiki/Bipartite_graph'> weighted un-directed bi-partited graph</a> and the weight of each edge is the rating given by user to the movie\n",
        "\n",
        "<img src='https://i.imgur.com/rmUCGMb.jpg' width=200>\n",
        "\n",
        "   you can construct this matrix like $A[i][j]=r_{ij}$ here $i$ is user_id, $j$ is movie_id and $r_{ij}$ is rating given by user $i$ to the movie $j$\n",
        "\n",
        "   Hint : you can create adjacency matrix using <a href='https://docs.scipy.org/doc/scipy/reference/generated/scipy.sparse.csr_matrix.html'> csr_matrix</a>\n",
        "\n",
        "2. We will Apply SVD decomposition on the Adjaceny matrix <a href='https://stackoverflow.com/a/31528944/4084039'>link1</a>, <a href='https://machinelearningmastery.com/singular-value-decomposition-for-machine-learning/'> link2</a> and get three matrices $U, \\sum, V$ such that $U \\times \\sum \\times V^T = A$, <br> \n",
        "if $A$ is of dimensions $N \\times M$ then <br>\n",
        "U is of $N \\times k$, <br>\n",
        "$\\sum$ is of $k \\times k$ and <br>\n",
        "$V$ is $M \\times k$ dimensions. <br>\n",
        "\n",
        "   *.  So the matrix $U$ can be represented as matrix representation of users, where each row $u_{i}$ represents a k-dimensional vector for a user\n",
        "\n",
        "   *. So the matrix $V$ can be represented as matrix representation of movies, where each row $v_{j}$ represents a k-dimensional vector for a movie.\n",
        "3. Compute $\\mu$ , $\\mu$  represents the mean of all the rating given in the dataset.(write your code in <font color='blue'>def m_u()</font>)\n",
        "4. For each unique user initilize a bias value $B_{i}$ to zero, so if we have $N$ users $B$ will be a $N$ dimensional vector, the $i^{th}$ value of the $B$ will corresponds to the bias term for $i^{th}$ user (write your code in <font color='blue'>def initialize()</font>)\n",
        "\n",
        "5. For each unique movie initilize a bias value $C_{j}$ zero, so if we have $M$ movies $C$ will be a $M$ dimensional vector, the $j^{th}$ value of the $C$ will corresponds to the bias term for $j^{th}$ movie (write your code in <font color='blue'>def initialize()</font>)\n",
        "\n",
        "6. Compute dL/db_i (Write you code in <font color='blue'> def derivative_db()</font>)\n",
        "7. Compute dL/dc_j(write your code in <font color='blue'> def derivative_dc()</font>\n",
        "\n",
        "8. Print the mean squared error with predicted ratings.\n",
        "\n",
        "<pre>\n",
        "for each epoch:\n",
        "    for each pair of (user, movie):\n",
        "        b_i =  b_i - learning_rate * dL/db_i\n",
        "        c_j =  c_j - learning_rate * dL/dc_j\n",
        "predict the ratings with formula\n",
        "</pre>\n",
        "$\\hat{y}_{ij} = \\mu + b_i + c_j + \\text{dot_product}(u_i , v_j) $\n",
        "\n",
        "9. you can choose any learning rate and regularization term in the range $10^{-3}  \\text{ to } 10^2$  <br>\n",
        "  \n",
        "10. __bonus__: instead of using SVD decomposition you can learn the vectors $u_i$, $v_j$ with the help of SGD algo similar to $b_i$ and $c_j$ "
      ]
    },
    {
      "cell_type": "markdown",
      "metadata": {
        "id": "3-aBnRepA6gy"
      },
      "source": [
        "<br>"
      ]
    },
    {
      "cell_type": "markdown",
      "metadata": {
        "id": "IP_6xMAZA4mE"
      },
      "source": [
        " # <font color='red'>Task 2 </font>"
      ]
    },
    {
      "cell_type": "markdown",
      "metadata": {
        "id": "-9HCN_3WA2au"
      },
      "source": [
        "As we know U is the learned matrix of user vectors, with its i-th row as the vector ui for user i. Each row of U can be seen as a \"feature vector\" for a particular user.\n",
        "\n",
        "The question we'd like to investigate is this: do our computed per-user features that are optimized for predicting movie ratings contain anything to do with gender?\n",
        "\n",
        "The provided data file <a href='https://drive.google.com/open?id=1PHFdJh_4gIPiLH5Q4UErH8GK71hTrzlY'>user_info.csv</a> contains an is_male column indicating which users in the dataset are male. Can you predict this signal given the features U?\n",
        "\n",
        "\n",
        "> __Note 1__ : there is no train test split in the data, the goal of this assignment is to give an intution about how to do matrix factorization with the help of SGD and application of truncated SVD. for better understanding of the collabarative fillerting please check netflix case study. <br><br>\n",
        "> __Note 2__ : Check if scaling of $U$, $V$ matrices improve the metric "
      ]
    },
    {
      "cell_type": "markdown",
      "metadata": {
        "id": "ovFCo1JCBIXM"
      },
      "source": [
        "<br>\n",
        "\n",
        "\n",
        "<br>"
      ]
    },
    {
      "cell_type": "markdown",
      "metadata": {
        "id": "iVJo-3njBQLf"
      },
      "source": [
        "<font color='red'> Reading the csv file </font>"
      ]
    },
    {
      "cell_type": "code",
      "metadata": {
        "colab": {
          "base_uri": "https://localhost:8080/"
        },
        "id": "mK6cI2DON_80",
        "outputId": "d6e51fe6-3c63-4906-9747-50fde2ba9588"
      },
      "source": [
        "from google.colab import drive\n",
        "drive.mount('/content/drive')"
      ],
      "execution_count": null,
      "outputs": [
        {
          "output_type": "stream",
          "name": "stdout",
          "text": [
            "Mounted at /content/drive\n"
          ]
        }
      ]
    },
    {
      "cell_type": "code",
      "metadata": {
        "colab": {
          "base_uri": "https://localhost:8080/",
          "height": 206
        },
        "id": "pDtP2Z7hOBaU",
        "outputId": "ea1feed2-a8e2-4ecd-e7e1-21cf9b4ca989"
      },
      "source": [
        "import pandas as pd\n",
        "data=pd.read_csv(\"/content/drive/MyDrive/Colab Notebooks/ratings_train.csv\")\n",
        "#data=data[:200]\n",
        "data.head()"
      ],
      "execution_count": null,
      "outputs": [
        {
          "output_type": "execute_result",
          "data": {
            "text/html": [
              "<div>\n",
              "<style scoped>\n",
              "    .dataframe tbody tr th:only-of-type {\n",
              "        vertical-align: middle;\n",
              "    }\n",
              "\n",
              "    .dataframe tbody tr th {\n",
              "        vertical-align: top;\n",
              "    }\n",
              "\n",
              "    .dataframe thead th {\n",
              "        text-align: right;\n",
              "    }\n",
              "</style>\n",
              "<table border=\"1\" class=\"dataframe\">\n",
              "  <thead>\n",
              "    <tr style=\"text-align: right;\">\n",
              "      <th></th>\n",
              "      <th>user_id</th>\n",
              "      <th>item_id</th>\n",
              "      <th>rating</th>\n",
              "    </tr>\n",
              "  </thead>\n",
              "  <tbody>\n",
              "    <tr>\n",
              "      <th>0</th>\n",
              "      <td>772</td>\n",
              "      <td>36</td>\n",
              "      <td>3</td>\n",
              "    </tr>\n",
              "    <tr>\n",
              "      <th>1</th>\n",
              "      <td>471</td>\n",
              "      <td>228</td>\n",
              "      <td>5</td>\n",
              "    </tr>\n",
              "    <tr>\n",
              "      <th>2</th>\n",
              "      <td>641</td>\n",
              "      <td>401</td>\n",
              "      <td>4</td>\n",
              "    </tr>\n",
              "    <tr>\n",
              "      <th>3</th>\n",
              "      <td>312</td>\n",
              "      <td>98</td>\n",
              "      <td>4</td>\n",
              "    </tr>\n",
              "    <tr>\n",
              "      <th>4</th>\n",
              "      <td>58</td>\n",
              "      <td>504</td>\n",
              "      <td>5</td>\n",
              "    </tr>\n",
              "  </tbody>\n",
              "</table>\n",
              "</div>"
            ],
            "text/plain": [
              "   user_id  item_id  rating\n",
              "0      772       36       3\n",
              "1      471      228       5\n",
              "2      641      401       4\n",
              "3      312       98       4\n",
              "4       58      504       5"
            ]
          },
          "metadata": {},
          "execution_count": 5
        }
      ]
    },
    {
      "cell_type": "code",
      "metadata": {
        "colab": {
          "base_uri": "https://localhost:8080/"
        },
        "id": "66ibGJ74hCde",
        "outputId": "44ff2e5e-05d0-4a60-80ea-ff0e0bccb213"
      },
      "source": [
        "data.shape"
      ],
      "execution_count": null,
      "outputs": [
        {
          "output_type": "execute_result",
          "data": {
            "text/plain": [
              "(89992, 3)"
            ]
          },
          "metadata": {},
          "execution_count": 8
        }
      ]
    },
    {
      "cell_type": "code",
      "metadata": {
        "colab": {
          "base_uri": "https://localhost:8080/"
        },
        "id": "N0fkXM9ZwlrF",
        "outputId": "98ca6f6f-5cb5-4b19-dd0a-6025ed601bb6"
      },
      "source": [
        "print(len(data['user_id'].unique()))"
      ],
      "execution_count": null,
      "outputs": [
        {
          "output_type": "stream",
          "name": "stdout",
          "text": [
            "943\n"
          ]
        }
      ]
    },
    {
      "cell_type": "code",
      "metadata": {
        "id": "u5pdYHrEwl05"
      },
      "source": [
        "v_j=data['item_id']\n",
        "u_i=data['user_id']"
      ],
      "execution_count": null,
      "outputs": []
    },
    {
      "cell_type": "code",
      "metadata": {
        "id": "fD5lXFJrwl_4"
      },
      "source": [
        "rating=data['rating'].tolist()\n",
        "movie_details=v_j.tolist()\n",
        "user_details=u_i.tolist()"
      ],
      "execution_count": null,
      "outputs": []
    },
    {
      "cell_type": "markdown",
      "metadata": {
        "id": "mvB8SDS_hW03"
      },
      "source": [
        "<font color='red'>Create your adjacency matrix </font>"
      ]
    },
    {
      "cell_type": "code",
      "metadata": {
        "id": "t44MNT40hZQW"
      },
      "source": [
        "from scipy.sparse import csr_matrix\n",
        "adjacency_matrix = csr_matrix((rating,(user_details,movie_details))).toarray()\n"
      ],
      "execution_count": null,
      "outputs": []
    },
    {
      "cell_type": "code",
      "metadata": {
        "colab": {
          "base_uri": "https://localhost:8080/"
        },
        "id": "PI8yhMezxbwI",
        "outputId": "db027ed1-97be-499d-ceaf-34929e097075"
      },
      "source": [
        "adjacency_matrix.shape"
      ],
      "execution_count": null,
      "outputs": [
        {
          "output_type": "execute_result",
          "data": {
            "text/plain": [
              "(943, 1681)"
            ]
          },
          "metadata": {},
          "execution_count": 13
        }
      ]
    },
    {
      "cell_type": "markdown",
      "metadata": {
        "id": "4acJD4ujEtD6"
      },
      "source": [
        "<font color='cyan'>Grader function - 1</font>"
      ]
    },
    {
      "cell_type": "code",
      "metadata": {
        "colab": {
          "base_uri": "https://localhost:8080/"
        },
        "id": "2QuTzFBREsDV",
        "outputId": "886195f9-ed15-4c08-e67e-658aacf21967"
      },
      "source": [
        "def grader_matrix(matrix):\n",
        " assert(matrix.shape==(943,1681))\n",
        " return True\n",
        "grader_matrix(adjacency_matrix)"
      ],
      "execution_count": null,
      "outputs": [
        {
          "output_type": "execute_result",
          "data": {
            "text/plain": [
              "True"
            ]
          },
          "metadata": {},
          "execution_count": 14
        }
      ]
    },
    {
      "cell_type": "markdown",
      "metadata": {
        "id": "gXDf1RCUBsYN"
      },
      "source": [
        "<font color='red'> SVD decompostion</font>"
      ]
    },
    {
      "cell_type": "markdown",
      "metadata": {
        "id": "OJPWI9VwD_ih"
      },
      "source": [
        "Sample code for SVD decompostion"
      ]
    },
    {
      "cell_type": "code",
      "metadata": {
        "colab": {
          "base_uri": "https://localhost:8080/"
        },
        "id": "soB5zJRnx-L_",
        "outputId": "1bc8ba70-5135-4a76-e794-1520b0cdd8a4"
      },
      "source": [
        "from sklearn.utils.extmath import randomized_svd\n",
        "import numpy as np\n",
        "matrix = np.random.random((20, 10))\n",
        "U, Sigma, VT = randomized_svd(matrix, n_components=5,n_iter=5, random_state=None)\n",
        "print(U.shape)\n",
        "print(Sigma.shape)\n",
        "print(VT.T.shape)"
      ],
      "execution_count": null,
      "outputs": [
        {
          "output_type": "stream",
          "name": "stdout",
          "text": [
            "(20, 5)\n",
            "(5,)\n",
            "(10, 5)\n"
          ]
        }
      ]
    },
    {
      "cell_type": "markdown",
      "metadata": {
        "id": "ePDgwALQEJoB"
      },
      "source": [
        "<font color='red'>Write your code for SVD decompostion</font>"
      ]
    },
    {
      "cell_type": "code",
      "metadata": {
        "colab": {
          "base_uri": "https://localhost:8080/"
        },
        "id": "ZYnsKBmFEIg3",
        "outputId": "711549af-0565-48e9-f5b8-ec581df44cf7"
      },
      "source": [
        "U, Sigma, VT = randomized_svd(adjacency_matrix, n_components=5,n_iter=5, random_state=None)\n",
        "print(U.shape)\n",
        "print(Sigma.shape)\n",
        "print(VT.T.shape)"
      ],
      "execution_count": null,
      "outputs": [
        {
          "output_type": "stream",
          "name": "stdout",
          "text": [
            "(943, 5)\n",
            "(5,)\n",
            "(1681, 5)\n"
          ]
        }
      ]
    },
    {
      "cell_type": "markdown",
      "metadata": {
        "id": "83Vh4NoO_JyU"
      },
      "source": [
        "<font color='red'>Compute mean of ratings</font>"
      ]
    },
    {
      "cell_type": "code",
      "metadata": {
        "id": "cBHuCn2QSEnl"
      },
      "source": [
        "\n",
        "def m_u(ratings):\n",
        "   '''In this function, we will compute mean for all the ratings'''\n",
        "    # you can use mean() function to do this\n",
        "    # check this (https://pandas.pydata.org/pandas-docs/stable/reference/api/pandas.DataFrame.mean.html) link for more details.\n",
        "    return np.mean(ratings)    \n",
        "        "
      ],
      "execution_count": null,
      "outputs": []
    },
    {
      "cell_type": "code",
      "metadata": {
        "id": "iu1nn-1x3ebp",
        "colab": {
          "base_uri": "https://localhost:8080/"
        },
        "outputId": "6e9b7e0f-4017-4173-ae12-f7fdbc5791d6"
      },
      "source": [
        "mu=m_u(data['rating'])\n",
        "print(mu)"
      ],
      "execution_count": null,
      "outputs": [
        {
          "output_type": "stream",
          "name": "stdout",
          "text": [
            "3.529480398257623\n"
          ]
        }
      ]
    },
    {
      "cell_type": "markdown",
      "metadata": {
        "id": "76ooYQIdG_tf"
      },
      "source": [
        "<font color='cyan'>Grader function -2 </font>"
      ]
    },
    {
      "cell_type": "code",
      "metadata": {
        "colab": {
          "base_uri": "https://localhost:8080/"
        },
        "id": "TZy1m67oG9r9",
        "outputId": "ff4b732f-b414-4f6f-ef7c-d2e68fd5ceb5"
      },
      "source": [
        "def grader_mean(mu):\n",
        "  #assert(np.round(mu,3)==3.66)\n",
        "  assert(np.round(mu,3)==3.529)\n",
        "  return True\n",
        "mu=m_u(data['rating'])\n",
        "grader_mean(mu)"
      ],
      "execution_count": null,
      "outputs": [
        {
          "output_type": "execute_result",
          "data": {
            "text/plain": [
              "True"
            ]
          },
          "metadata": {},
          "execution_count": 19
        }
      ]
    },
    {
      "cell_type": "markdown",
      "metadata": {
        "id": "qSvAW1X94g3G"
      },
      "source": [
        "<font color='red'>Initialize $B_{i}$ and $C_{j}$"
      ]
    },
    {
      "cell_type": "markdown",
      "metadata": {
        "id": "qsOl-4xq5aUG"
      },
      "source": [
        "Hint : Number of rows of adjacent matrix corresponds to user dimensions($B_{i}$), number of columns of adjacent matrix corresponds to movie dimensions ($C_{j}$)"
      ]
    },
    {
      "cell_type": "code",
      "metadata": {
        "id": "AyEJqPka4lBW"
      },
      "source": [
        "def initialize(dim):\n",
        " B=np.zeros(dim)\n",
        " return B"
      ],
      "execution_count": null,
      "outputs": []
    },
    {
      "cell_type": "code",
      "metadata": {
        "id": "Nlae9QAQ43Xz"
      },
      "source": [
        "dim = adjacency_matrix.shape[0] # give the number of dimensions for b_i (Here b_i corresponds to users)\n",
        "b_i=initialize(dim)"
      ],
      "execution_count": null,
      "outputs": []
    },
    {
      "cell_type": "code",
      "metadata": {
        "id": "rwuopn4HoEbP"
      },
      "source": [
        "dim= adjacency_matrix.shape[1]\n",
        "c_j=initialize(dim)"
      ],
      "execution_count": null,
      "outputs": []
    },
    {
      "cell_type": "markdown",
      "metadata": {
        "id": "nfPJ3_h6JIkI"
      },
      "source": [
        "<font color='cyan'>Grader function -3 </font>"
      ]
    },
    {
      "cell_type": "code",
      "metadata": {
        "id": "dQhiNjw0Hz4m",
        "colab": {
          "base_uri": "https://localhost:8080/"
        },
        "outputId": "ac03aa9e-633c-4d04-970d-69d926081959"
      },
      "source": [
        "def grader_dim(b_i,c_j):\n",
        "  assert(len(b_i)==943 and np.sum(b_i)==0)\n",
        "  assert(len(c_j)==1681 and np.sum(c_j)==0)\n",
        "  return True\n",
        "grader_dim(b_i,c_j)"
      ],
      "execution_count": null,
      "outputs": [
        {
          "output_type": "execute_result",
          "data": {
            "text/plain": [
              "True"
            ]
          },
          "metadata": {},
          "execution_count": 23
        }
      ]
    },
    {
      "cell_type": "code",
      "metadata": {
        "colab": {
          "base_uri": "https://localhost:8080/"
        },
        "id": "vsN4EXqKo5BW",
        "outputId": "749da204-b3df-4c02-8b31-500e95833357"
      },
      "source": [
        "print(adjacency_matrix[312][98])"
      ],
      "execution_count": null,
      "outputs": [
        {
          "output_type": "stream",
          "name": "stdout",
          "text": [
            "4\n"
          ]
        }
      ]
    },
    {
      "cell_type": "markdown",
      "metadata": {
        "id": "DTDK4ZR18MrZ"
      },
      "source": [
        "<font color='red'>Compute dL/db_i</font>"
      ]
    },
    {
      "cell_type": "code",
      "metadata": {
        "id": "3NFzVC1N8S4L"
      },
      "source": [
        "def derivative_db(user_id,item_id,rating,U,V,mu,alpha):\n",
        " dL_db_i = alpha * 2*b_i[user_id] - (2*(rating-mu-b_i[user_id]-c_j[item_id]-np.dot(U[user_id],np.transpose(V)[item_id])))\n",
        " return dL_db_i"
      ],
      "execution_count": null,
      "outputs": []
    },
    {
      "cell_type": "markdown",
      "metadata": {
        "id": "ilISrTeQ0f0v"
      },
      "source": [
        "<font color='cyan'>Grader function -4 </font>"
      ]
    },
    {
      "cell_type": "code",
      "metadata": {
        "id": "Wt5ixEVZ043U",
        "colab": {
          "base_uri": "https://localhost:8080/"
        },
        "outputId": "1f909e59-6fb1-4a11-9087-cdb7f107773a"
      },
      "source": [
        "def grader_db(value):\n",
        "  assert(np.round(value,3)==-0.931)\n",
        "  return True\n",
        "U1, Sigma, V1 = randomized_svd(adjacency_matrix, n_components=2,n_iter=5, random_state=24)\n",
        "alpha=0.0001\n",
        "value=derivative_db(312,98,4,U1,V1,mu,alpha)\n",
        "print(value)\n",
        "grader_db(value)"
      ],
      "execution_count": null,
      "outputs": [
        {
          "output_type": "stream",
          "name": "stdout",
          "text": [
            "-0.9308283758773337\n"
          ]
        },
        {
          "output_type": "execute_result",
          "data": {
            "text/plain": [
              "True"
            ]
          },
          "metadata": {},
          "execution_count": 26
        }
      ]
    },
    {
      "cell_type": "markdown",
      "metadata": {
        "id": "1Kp0hC_b9v60"
      },
      "source": [
        "<font color='red'>Compute dL/dc_j</font>"
      ]
    },
    {
      "cell_type": "code",
      "metadata": {
        "id": "FAtSYMrc9UqJ"
      },
      "source": [
        "def derivative_dc(user_id,item_id,rating,U,V,mu,alpha):\n",
        "  dL_dc_j = alpha * 2*c_j[item_id] - (2*(rating-mu-b_i[user_id]-c_j[item_id]-np.dot(U[user_id],np.transpose(V)[item_id])))\n",
        "  return dL_dc_j"
      ],
      "execution_count": null,
      "outputs": []
    },
    {
      "cell_type": "markdown",
      "metadata": {
        "id": "lxkAm8aH1SBF"
      },
      "source": [
        "<font color='cyan'>Grader function - 5 </font>"
      ]
    },
    {
      "cell_type": "code",
      "metadata": {
        "id": "RaIN9yie1US8",
        "colab": {
          "base_uri": "https://localhost:8080/"
        },
        "outputId": "d854cefc-6baf-4436-d470-e0830fd44c7b"
      },
      "source": [
        "def grader_dc(value):\n",
        "  assert(np.round(value,3)==-2.929)\n",
        "  return True\n",
        "U1, Sigma, V1 = randomized_svd(adjacency_matrix, n_components=2,n_iter=5, random_state=24)\n",
        "r=0.01\n",
        "value=derivative_dc(58,504,5,U1,V1,mu,0.01)\n",
        "grader_dc(value)"
      ],
      "execution_count": null,
      "outputs": [
        {
          "output_type": "execute_result",
          "data": {
            "text/plain": [
              "True"
            ]
          },
          "metadata": {},
          "execution_count": 82
        }
      ]
    },
    {
      "cell_type": "markdown",
      "metadata": {
        "id": "lg5XNbDWCIKI"
      },
      "source": [
        "<font color='red'>Compute MSE (mean squared error) for predicted ratings</font>\n"
      ]
    },
    {
      "cell_type": "markdown",
      "metadata": {
        "id": "7WUjNy0TDQX6"
      },
      "source": [
        "for each epoch, print the MSE value"
      ]
    },
    {
      "cell_type": "markdown",
      "metadata": {
        "id": "D2pCy1AKCafw"
      },
      "source": [
        "<pre>\n",
        "for each epoch:\n",
        "\n",
        "    for each pair of (user, movie):\n",
        "\n",
        "        b_i =  b_i - learning_rate * dL/db_i\n",
        "\n",
        "        c_j =  c_j - learning_rate * dL/dc_j\n",
        "\n",
        "predict the ratings with formula\n",
        "</pre>\n",
        "\n",
        "$\\hat{y}_{ij} = \\mu + b_i + c_j + \\text{dot_product}(u_i , v_j) $"
      ]
    },
    {
      "cell_type": "code",
      "metadata": {
        "colab": {
          "base_uri": "https://localhost:8080/"
        },
        "id": "rKzM0WZL0aRl",
        "outputId": "dbb88dc7-957c-41f1-9d63-a59f9b0e825d"
      },
      "source": [
        "print(np.array(data)[0])"
      ],
      "execution_count": null,
      "outputs": [
        {
          "output_type": "stream",
          "name": "stdout",
          "text": [
            "[772  36   3]\n"
          ]
        }
      ]
    },
    {
      "cell_type": "code",
      "metadata": {
        "colab": {
          "base_uri": "https://localhost:8080/"
        },
        "id": "K0NpHFDahpG8",
        "outputId": "ea7dfa26-08ee-4d0f-dd2b-ab3ee53393e4"
      },
      "source": [
        "# user_details=data['user_id'].values\n",
        "# movie_details=data['item_id'].values\n",
        "# rating=data['rating'].values\n",
        "# b=initialize(adjacency_matrix.shape[0])\n",
        "# c=initialize(adjacency_matrix.shape[1])\n",
        "# lr=0.0001\n",
        "# alpha=0.001\n",
        "# epochs=50\n",
        "# MSE1=[]\n",
        "# VT=np.transpose(V1)\n",
        "# for epoch in range(epochs):\n",
        "# sum=0\n",
        "# y_pred=[]\n",
        "# y=[]\n",
        "# for i,j,k in zip(user_details,movie_details,rating):\n",
        "# b[i]=b[i]-lr* derivative_db(i,j,k,U1,V1,mu,alpha)\n",
        "# c[j]=c[j]-lr* derivative_dc(i,j,k,U1,V1,mu)\n",
        "# y_i_j=(mu+ b[i]+ c[j]+ np.dot(U1[i],VT[j]))\n",
        "# y_pred.append(y_i_j)\n",
        "# mse=mean_squared_error(rating,y_pred)\n",
        "# print(epoch+1,\"MSE\",mse)\n",
        "# MSE1.append(mse)\n",
        "from sklearn.metrics import mean_squared_error\n",
        "def compute_mse(data,U,V,mu,alpha):\n",
        "  y_true = data['rating']\n",
        "  mse = []\n",
        "  for epoch in range(100):\n",
        "    for each_point in np.array(data):\n",
        "      b_i[each_point[0]] = b_i[each_point[0]] - 0.001 *derivative_db(each_point[0],each_point[1],each_point[2],U,V,mu,alpha)\n",
        "      c_j[each_point[1]] = c_j[each_point[1]] - 0.001 *derivative_dc(each_point[0],each_point[1],each_point[2],U,V,mu,alpha)\n",
        "    y_pred = []\n",
        "    for point in np.array(data):#zip(data['user_id'],data['item_id']):\n",
        "        y_pred.append(mu + b_i[point[0]] + c_j[point[1]] + np.dot(U[point[0]], V.T[point[1]]))\n",
        "    loss = mean_squared_error(y_true, y_pred)\n",
        "    mse.append(loss)\n",
        "    if epoch%10 == 0:\n",
        "        print(\"the mse: \",loss,\"epoch: \",epoch)\n",
        "  return mse\n",
        "alpha=0.01\n",
        "mse = compute_mse(data,U1,V1,mu,alpha)"
      ],
      "execution_count": null,
      "outputs": [
        {
          "output_type": "stream",
          "name": "stdout",
          "text": [
            "the mse:  0.8324529134183549 epoch:  0\n",
            "the mse:  0.8324422462245784 epoch:  10\n",
            "the mse:  0.832416284786805 epoch:  20\n",
            "the mse:  0.8323898880056828 epoch:  30\n",
            "the mse:  0.8323645740472949 epoch:  40\n",
            "the mse:  0.832340513963913 epoch:  50\n",
            "the mse:  0.8323176902983359 epoch:  60\n",
            "the mse:  0.8322960437035887 epoch:  70\n",
            "the mse:  0.8322755053690893 epoch:  80\n",
            "the mse:  0.8322560066547171 epoch:  90\n"
          ]
        }
      ]
    },
    {
      "cell_type": "markdown",
      "metadata": {
        "id": "hTXYZFFUVSg5"
      },
      "source": [
        "<font color='red'>Plot epoch number vs MSE </font>\n",
        "\n",
        "* epoch number on X-axis\n",
        "* MSE on Y-axis"
      ]
    },
    {
      "cell_type": "code",
      "metadata": {
        "id": "igkkO3EvVRt6",
        "colab": {
          "base_uri": "https://localhost:8080/",
          "height": 295
        },
        "outputId": "143ce21e-c613-48e4-b5db-6e491a6e8e1e"
      },
      "source": [
        "import matplotlib.pyplot as plt\n",
        "epoc=np.array(list(range(100)))\n",
        "plt.plot(epoc,mse)\n",
        "plt.xlabel(\"epoc\")\n",
        "plt.ylabel(\"MSE\")\n",
        "plt.title(\"epochs vs MSE\")\n",
        "plt.grid(color='black', linestyle='-', linewidth=0.5)\n",
        "plt.show()"
      ],
      "execution_count": null,
      "outputs": [
        {
          "output_type": "display_data",
          "data": {
            "image/png": "[encoded data removed]",
            "text/plain": [
              "<Figure size 432x288 with 1 Axes>"
            ]
          },
          "metadata": {
            "needs_background": "light"
          }
        }
      ]
    },
    {
      "cell_type": "markdown",
      "metadata": {
        "id": "NeWAGkT6C9kq"
      },
      "source": [
        "<br>"
      ]
    },
    {
      "cell_type": "markdown",
      "metadata": {
        "id": "lkIQOOo1C9o7"
      },
      "source": [
        "<font color='red'> Task 2</font>"
      ]
    },
    {
      "cell_type": "code",
      "metadata": {
        "id": "9kl4Ryi_7E_T",
        "colab": {
          "base_uri": "https://localhost:8080/",
          "height": 206
        },
        "outputId": "dadd0b21-0bfd-439e-c4bc-293b1d4d6f5a"
      },
      "source": [
        "data1=pd.read_csv('/content/drive/MyDrive/Colab Notebooks/user_info.csv.txt')\n",
        "data1.head()"
      ],
      "execution_count": null,
      "outputs": [
        {
          "output_type": "execute_result",
          "data": {
            "text/html": [
              "<div>\n",
              "<style scoped>\n",
              "    .dataframe tbody tr th:only-of-type {\n",
              "        vertical-align: middle;\n",
              "    }\n",
              "\n",
              "    .dataframe tbody tr th {\n",
              "        vertical-align: top;\n",
              "    }\n",
              "\n",
              "    .dataframe thead th {\n",
              "        text-align: right;\n",
              "    }\n",
              "</style>\n",
              "<table border=\"1\" class=\"dataframe\">\n",
              "  <thead>\n",
              "    <tr style=\"text-align: right;\">\n",
              "      <th></th>\n",
              "      <th>user_id</th>\n",
              "      <th>age</th>\n",
              "      <th>is_male</th>\n",
              "      <th>orig_user_id</th>\n",
              "    </tr>\n",
              "  </thead>\n",
              "  <tbody>\n",
              "    <tr>\n",
              "      <th>0</th>\n",
              "      <td>0</td>\n",
              "      <td>24</td>\n",
              "      <td>1</td>\n",
              "      <td>1</td>\n",
              "    </tr>\n",
              "    <tr>\n",
              "      <th>1</th>\n",
              "      <td>1</td>\n",
              "      <td>53</td>\n",
              "      <td>0</td>\n",
              "      <td>2</td>\n",
              "    </tr>\n",
              "    <tr>\n",
              "      <th>2</th>\n",
              "      <td>2</td>\n",
              "      <td>23</td>\n",
              "      <td>1</td>\n",
              "      <td>3</td>\n",
              "    </tr>\n",
              "    <tr>\n",
              "      <th>3</th>\n",
              "      <td>3</td>\n",
              "      <td>24</td>\n",
              "      <td>1</td>\n",
              "      <td>4</td>\n",
              "    </tr>\n",
              "    <tr>\n",
              "      <th>4</th>\n",
              "      <td>4</td>\n",
              "      <td>33</td>\n",
              "      <td>0</td>\n",
              "      <td>5</td>\n",
              "    </tr>\n",
              "  </tbody>\n",
              "</table>\n",
              "</div>"
            ],
            "text/plain": [
              "   user_id  age  is_male  orig_user_id\n",
              "0        0   24        1             1\n",
              "1        1   53        0             2\n",
              "2        2   23        1             3\n",
              "3        3   24        1             4\n",
              "4        4   33        0             5"
            ]
          },
          "metadata": {},
          "execution_count": 6
        }
      ]
    },
    {
      "cell_type": "code",
      "metadata": {
        "id": "c1FTc39gDdti"
      },
      "source": [
        "df2 = pd.DataFrame(data = U1,)\n",
        "X=df2"
      ],
      "execution_count": null,
      "outputs": []
    },
    {
      "cell_type": "code",
      "metadata": {
        "id": "RaJfZoQG2pTH"
      },
      "source": [
        "df2['is_male']=data1['is_male']\n",
        "df2.head()\n",
        "y=df2['is_male']"
      ],
      "execution_count": null,
      "outputs": []
    },
    {
      "cell_type": "code",
      "metadata": {
        "id": "ZPucfRab2rjS"
      },
      "source": [
        "X=X.drop('is_male',axis='columns')"
      ],
      "execution_count": null,
      "outputs": []
    },
    {
      "cell_type": "code",
      "metadata": {
        "id": "DU8jyhG62w6p"
      },
      "source": [
        "from sklearn.model_selection import train_test_split\n",
        "X_train, X_test, y_train, y_test = train_test_split( X, y, test_size=0.3, random_state=42)"
      ],
      "execution_count": null,
      "outputs": []
    },
    {
      "cell_type": "code",
      "metadata": {
        "id": "8Rbm3NM22xCl"
      },
      "source": [
        "from sklearn.linear_model import LogisticRegression\n",
        "clf = LogisticRegression(random_state=0).fit(X_train, y_train)"
      ],
      "execution_count": null,
      "outputs": []
    },
    {
      "cell_type": "code",
      "metadata": {
        "id": "IN841hWb2xLr"
      },
      "source": [
        "y_pred=clf.predict(X_test)"
      ],
      "execution_count": null,
      "outputs": []
    },
    {
      "cell_type": "code",
      "metadata": {
        "id": "CpJM3vWJ3n7c",
        "colab": {
          "base_uri": "https://localhost:8080/",
          "height": 373
        },
        "outputId": "f184c302-7df0-4b93-df1e-2384324eee2a"
      },
      "source": [
        "from sklearn.metrics import confusion_matrix\n",
        "import seaborn as sns\n",
        "print(\"=\"*100)\n",
        "print(\"Test confusion matrix\")\n",
        "print(confusion_matrix(y_test, y_pred))\n",
        "conf_matr_df_test = pd.DataFrame(confusion_matrix(y_test, y_pred))\n",
        "sns.set(font_scale=1.4)#for label size\n",
        "sns.heatmap(conf_matr_df_test, annot=True,annot_kws={\"size\": 16}, fmt='g')"
      ],
      "execution_count": null,
      "outputs": [
        {
          "output_type": "stream",
          "name": "stdout",
          "text": [
            "====================================================================================================\n",
            "Test confusion matrix\n",
            "[[  0  83]\n",
            " [  0 200]]\n"
          ]
        },
        {
          "output_type": "execute_result",
          "data": {
            "text/plain": [
              "<matplotlib.axes._subplots.AxesSubplot at 0x7f901ad210d0>"
            ]
          },
          "metadata": {},
          "execution_count": 37
        },
        {
          "output_type": "display_data",
          "data": {
            "image/png": "[encoded data removed]",
            "text/plain": [
              "<Figure size 432x288 with 2 Axes>"
            ]
          },
          "metadata": {}
        }
      ]
    }
  ]
}