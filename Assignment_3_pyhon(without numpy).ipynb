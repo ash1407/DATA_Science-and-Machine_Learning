{
  "nbformat": 4,
  "nbformat_minor": 0,
  "metadata": {
    "kernelspec": {
      "display_name": "Python 3",
      "language": "python",
      "name": "python3"
    },
    "language_info": {
      "codemirror_mode": {
        "name": "ipython",
        "version": 3
      },
      "file_extension": ".py",
      "mimetype": "text/x-python",
      "name": "python",
      "nbconvert_exporter": "python",
      "pygments_lexer": "ipython3",
      "version": "3.6.8"
    },
    "colab": {
      "name": "Assignment3.ipynb",
      "provenance": [],
      "collapsed_sections": []
    }
  },
  "cells": [
    {
      "cell_type": "markdown",
      "metadata": {
        "id": "l0ZzOlyxB-kf"
      },
      "source": [
        "<h1>Python: without numpy or sklearn </h1>"
      ]
    },
    {
      "cell_type": "markdown",
      "metadata": {
        "id": "C0xO8JV9B-ki"
      },
      "source": [
        "<h3> Q1: Given two matrices please print the product of those two matrices </h3>\n",
        "<pre>\n",
        "\n",
        "Ex 1: A   = [[1 3 4]\n",
        "             [2 5 7]\n",
        "             [5 9 6]]\n",
        "      B   = [[1 0 0]\n",
        "             [0 1 0]\n",
        "             [0 0 1]]\n",
        "      A*B = [[1 3 4]\n",
        "             [2 5 7]\n",
        "             [5 9 6]]\n",
        "\n",
        "     \n",
        "Ex 2: A   = [[1 2]\n",
        "             [3 4]]\n",
        "      B   = [[1 2 3 4 5]\n",
        "             [5 6 7 8 9]]\n",
        "      A*B = [[11 14 17 20 23]\n",
        "             [23 30 36 42 51]]\n",
        "             \n",
        "Ex 3: A   = [[1 2]\n",
        "             [3 4]]\n",
        "      B   = [[1 4]\n",
        "             [5 6]\n",
        "             [7 8]\n",
        "             [9 6]]\n",
        "      A*B =Not possible\n",
        "</pre>"
      ]
    },
    {
      "cell_type": "code",
      "metadata": {
        "id": "rnssAfpgB-kj",
        "colab": {
          "base_uri": "https://localhost:8080/"
        },
        "outputId": "9e50e35d-5ecc-41b6-ade9-adbd52b8c1fa"
      },
      "source": [
        "# write your python code here\n",
        "# you can take the above example as sample input for your program to test\n",
        "# it should work for any general input try not to hard code for only given input examples\n",
        "\n",
        "\n",
        "# you can free to change all these codes/structure\n",
        "# here A and B are list of lists\n",
        "def matrix_mult(A,B):\n",
        "    countA = 0\n",
        "    countB = 0\n",
        "    result = [[0]*len(B[0])]*len(A)  # to assign value to result for storIng, R1* C2\n",
        "    for i in range(len(A)):\n",
        "        if A[i][1]:   # to get rows in A here i will move how many times it moves rows will that much\n",
        "            countA += 1\n",
        "\n",
        "    for i in range(len(B)):\n",
        "        if B:  # to get columns  in B\n",
        "            countB += 1\n",
        "\n",
        "    if countA == countB:  # checks the matrix is multiplicale or not by C1=R2\n",
        "        for i in range(len(A)): # to get rows in A\n",
        "            for j in range(len(B[0])):  # to get columns in B\n",
        "                for k in range(len(A)):\n",
        "                    result[i][j] += A[i][k]*B[k][j]  #AB=Ar*Bc\n",
        "\n",
        "    print(result)\n",
        "\n",
        "A= [[1, 3 ,4],[2 ,5 ,7],[5 ,9, 6]]\n",
        "B= [[1 ,0 ,0],[0 ,1 ,0],[0,0,1]]\n",
        "matrix_mult(A,B)"
      ],
      "execution_count": null,
      "outputs": [
        {
          "output_type": "stream",
          "text": [
            "[[8, 17, 17], [8, 17, 17], [8, 17, 17]]\n"
          ],
          "name": "stdout"
        }
      ]
    },
    {
      "cell_type": "markdown",
      "metadata": {
        "id": "at4VwLggB-kn"
      },
      "source": [
        "<h3> Q2: Select a number randomly with probability proportional to its magnitude from the given array of n elements</h3>\n",
        "\n",
        "consider an experiment, selecting an element from the list A randomly with probability proportional to its magnitude.\n",
        "assume we are doing the same experiment for 100 times with replacement, in each experiment you will print a number that is selected randomly from A.\n",
        "\n",
        "<pre>\n",
        "Ex 1: A = [0 5 27 6 13 28 100 45 10 79]\n",
        "let f(x) denote the number of times x getting selected in 100 experiments.\n",
        "f(100) > f(79) > f(45) > f(28) > f(27) > f(13) > f(10) > f(6) > f(5) > f(0)\n",
        "</pre>"
      ]
    },
    {
      "cell_type": "code",
      "metadata": {
        "id": "B6S2dpBhB-kn",
        "colab": {
          "base_uri": "https://localhost:8080/"
        },
        "outputId": "7a66d3a1-479b-4afc-c8fb-ff1126a3893d"
      },
      "source": [
        "from random import uniform\n",
        "import numpy as np\n",
        "def pick_a_number_from_list(A):\n",
        "    sum1 = 0;\n",
        "    for i in A:\n",
        "        sum1 += i;\n",
        "    x = 0\n",
        "    list1 = []\n",
        "    for i in A:\n",
        "        list1.append(x + i / sum1)\n",
        "        x = x + i / sum1;\n",
        "    # list1 contains cumulative sum\n",
        "    bit = np.random.uniform(0.0, 1.0, 1)  # uniform returns  uniform(a,b,size) value between those a,b,later uniform value randomly choosen.  and we are assigning it to array using bumpy\n",
        "    for i in range(0, len(list1)):\n",
        "        if bit >= list1[i] and bit < list1[i + 1]:   # selecting the Value From A by\n",
        "            return(A[i + 1])  # return if under a function\n",
        "\n",
        "def sampling_based_on_magnitued():\n",
        "    A = [0 ,5 ,27, 6, 13, 28, 100 ,45, 10, 79]\n",
        "    for i in range(1,100):\n",
        "        number = pick_a_number_from_list(A)\n",
        "        print(number)\n",
        "\n",
        "sampling_based_on_magnitued()"
      ],
      "execution_count": null,
      "outputs": [
        {
          "output_type": "stream",
          "text": [
            "79\n",
            "27\n",
            "45\n",
            "79\n",
            "5\n",
            "45\n",
            "79\n",
            "79\n",
            "79\n",
            "100\n",
            "100\n",
            "79\n",
            "45\n",
            "100\n",
            "45\n",
            "45\n",
            "79\n",
            "100\n",
            "100\n",
            "45\n",
            "45\n",
            "100\n",
            "79\n",
            "100\n",
            "13\n",
            "79\n",
            "100\n",
            "100\n",
            "79\n",
            "100\n",
            "100\n",
            "45\n",
            "100\n",
            "27\n",
            "27\n",
            "10\n",
            "45\n",
            "100\n",
            "100\n",
            "79\n",
            "79\n",
            "5\n",
            "100\n",
            "100\n",
            "100\n",
            "100\n",
            "100\n",
            "100\n",
            "79\n",
            "45\n",
            "45\n",
            "79\n",
            "100\n",
            "79\n",
            "27\n",
            "45\n",
            "27\n",
            "79\n",
            "6\n",
            "13\n",
            "79\n",
            "6\n",
            "100\n",
            "79\n",
            "27\n",
            "27\n",
            "100\n",
            "100\n",
            "79\n",
            "100\n",
            "27\n",
            "27\n",
            "79\n",
            "45\n",
            "100\n",
            "10\n",
            "5\n",
            "45\n",
            "79\n",
            "13\n",
            "79\n",
            "27\n",
            "100\n",
            "45\n",
            "100\n",
            "79\n",
            "79\n",
            "28\n",
            "79\n",
            "100\n",
            "28\n",
            "45\n",
            "45\n",
            "100\n",
            "100\n",
            "100\n",
            "28\n",
            "27\n",
            "100\n"
          ],
          "name": "stdout"
        }
      ]
    },
    {
      "cell_type": "markdown",
      "metadata": {
        "id": "D1xQy2WWB-kq"
      },
      "source": [
        "<h3> Q3: Replace the digits in the string with #</h3>\n",
        "\n",
        "consider a string that will have digits in that, we need to remove all the not digits and replace the digits with #\n",
        "<pre>\n",
        "Ex 1: A = 234                Output: ###\n",
        "Ex 2: A = a2b3c4             Output: ###\n",
        "Ex 3: A = abc                Output:   (empty string)\n",
        "Ex 5: A = #2a$#b%c%561#      Output: ####\n",
        "</pre>"
      ]
    },
    {
      "cell_type": "code",
      "metadata": {
        "id": "fxczi2jzB-kr",
        "colab": {
          "base_uri": "https://localhost:8080/"
        },
        "outputId": "71239a54-d07c-4a57-9fcf-20844337c58c"
      },
      "source": [
        "import re\n",
        "\n",
        "def replace(S):\n",
        "    new_s = '#' * len(re.sub(r'\\D', '', S))\n",
        "    print(new_s)\n",
        "    # print('Input = {} Output = {}'.format(S, new_s))  #format insert the values inside given stment.before dot\n",
        "replace(input('Enter a name:')) # if error shows here it means error in the called function ex-replace here\n",
        "\n"
      ],
      "execution_count": null,
      "outputs": [
        {
          "output_type": "stream",
          "text": [
            "Enter a name:asd123\n",
            "###\n"
          ],
          "name": "stdout"
        }
      ]
    },
    {
      "cell_type": "markdown",
      "metadata": {
        "id": "j7h0Ywg7B-kw"
      },
      "source": [
        "<h3> Q4: Students marks dashboard</h3>\n",
        "\n",
        "consider the marks list of class students given two lists <br>\n",
        "Students = ['student1','student2','student3','student4','student5','student6','student7','student8','student9','student10'] <br>\n",
        "Marks = [45, 78, 12, 14, 48, 43, 45, 98, 35, 80] <br>\n",
        "from the above two lists the Student[0] got Marks[0],  Student[1] got Marks[1] and so on <br><br>\n",
        "your task is to print the name of students\n",
        "<strong>a. Who got top 5 ranks, in the descending order of marks</strong> <br>\n",
        "<strong>b. Who got least 5 ranks, in the increasing order of marks</strong><br>\n",
        "<strong>d. Who got marks between  &gt;25th percentile &lt;75th percentile, in the increasing order of marks</strong>\n",
        "\n",
        "<pre>\n",
        "Ex 1: \n",
        "Students=['student1','student2','student3','student4','student5','student6','student7','student8','student9','student10'] \n",
        "Marks = [45, 78, 12, 14, 48, 43, 47, 98, 35, 80]\n",
        "a. \n",
        "student8  98\n",
        "student10 80\n",
        "student2  78\n",
        "student5  48\n",
        "student7  47\n",
        "b.\n",
        "student3 12\n",
        "student4 14\n",
        "student9 35\n",
        "student6 43\n",
        "student1 45\n",
        "c.\n",
        "student9 35\n",
        "student6 43\n",
        "student1 45\n",
        "student7 47\n",
        "student5 48\n",
        "</pre>"
      ]
    },
    {
      "cell_type": "code",
      "metadata": {
        "id": "cxPJgItsB-kx",
        "colab": {
          "base_uri": "https://localhost:8080/"
        },
        "outputId": "e675b84c-c3f8-4794-dd14-20a537210336"
      },
      "source": [
        "Students=['student1','student2','student3','student4','student5','student6','student7','student8','student9','student10']\n",
        "\n",
        "Marks = [45, 78, 12, 14, 48, 43, 47, 98, 35, 80]\n",
        "\n",
        "def display_dash_board(students, marks):\n",
        "\n",
        "    dictionary = dict(zip(Students,Marks))  # Zip funct assign Each student there marks corep to position and later converted to dict\n",
        "\n",
        "    print('top_5_students')\n",
        "    students_mark=[]\n",
        "    students=[]\n",
        "\n",
        "    for key, value in sorted(dictionary.items(), key=lambda item: item[1],reverse=True):  #lambda use to itertate on each element, \n",
        "           students_mark.append(value)  \n",
        "           students.append(key)                                                                             # item[1] tells to look on marks if 0 will be thre it will look student \n",
        "    for i in range(5):\n",
        "      print(students[i],':',students_mark[i])\n",
        "#this is giving me the entire descending list (not python list) of all 10 students how to limit to five?\n",
        "\n",
        "\n",
        "    print('least_5_students')\n",
        "    for i in range(len(students)-1,4,-1):\n",
        "      print(students[i],':',students_mark[i])\n",
        "\n",
        "    A=[]\n",
        "    #this is giving me the entire ascending list (not python list) of all 10 students how to limit to five?\n",
        "    print('Marks between >25th percentile <75th percentile, in the increasing order of marks')\n",
        "    max=0\n",
        "    min=students_mark[9]\n",
        "    diff=0\n",
        "    max=students_mark[0]           \n",
        "    diff=max-min\n",
        "\n",
        "    pre_25 = diff*0.25\n",
        "    pre_75 = diff*0.75\n",
        "    pre=0\n",
        "    for key, value in sorted(dictionary.items(), key=lambda item: item[1]):\n",
        "        pre=diff*value\n",
        "        if pre_25 < value < pre_75:\n",
        "            print(\"%s: %d\" % (key, value))\n",
        "\n",
        "display_dash_board(Students, Marks)\n"
      ],
      "execution_count": 13,
      "outputs": [
        {
          "output_type": "stream",
          "text": [
            "top_5_students\n",
            "student8 : 98\n",
            "student10 : 80\n",
            "student2 : 78\n",
            "student5 : 48\n",
            "student7 : 47\n",
            "least_5_students\n",
            "student3 : 12\n",
            "student4 : 14\n",
            "student9 : 35\n",
            "student6 : 43\n",
            "student1 : 45\n",
            "Marks between >25th percentile <75th percentile, in the increasing order of marks\n",
            "student9: 35\n",
            "student6: 43\n",
            "student1: 45\n",
            "student7: 47\n",
            "student5: 48\n"
          ],
          "name": "stdout"
        }
      ]
    },
    {
      "cell_type": "markdown",
      "metadata": {
        "id": "qha0OhQHB-k1"
      },
      "source": [
        "<h3> Q5: Find the closest points</h3>\n",
        "\n",
        "consider you have given n data points in the form of list of tuples like S=[(x1,y1),(x2,y2),(x3,y3),(x4,y4),(x5,y5),..,(xn,yn)] and a point P=(p,q) <br> your task is to find 5 closest points(based on cosine distance) in S from P\n",
        "<br>cosine distance between two points (x,y) and (p,q) is defind as $cos^{-1}(\\frac{(x\\cdot p+y\\cdot q)}{\\sqrt(x^2+y^2)\\cdot\\sqrt(p^2+q^2)})$\n",
        "<pre>\n",
        "Ex:\n",
        "\n",
        "S= [(1,2),(3,4),(-1,1),(6,-7),(0, 6),(-5,-8),(-1,-1)(6,0),(1,-1)]\n",
        "P= (3,-4)\n",
        "<img src='https://i.imgur.com/vIFPOcG.jpg', width=300>\n",
        "Output:\n",
        "(6,-7)\n",
        "(1,-1)\n",
        "(6,0)\n",
        "(-5,-8)\n",
        "(-1,-1)\n",
        "</pre>"
      ]
    },
    {
      "cell_type": "code",
      "metadata": {
        "id": "wA5I1g-2B-k2",
        "colab": {
          "base_uri": "https://localhost:8080/"
        },
        "outputId": "57284b0d-4ca7-4638-bb51-37c5274c7949"
      },
      "source": [
        "import math\n",
        "def closest_points_to_p(S, P):\n",
        "    cosine_dist = []   # stoarage craeted for distance\n",
        "\n",
        "    for a, b in S:\n",
        "        num = a * P[0] + b * P[1]\n",
        "        den = math.sqrt(a * a + b * b) * math.sqrt(P[0] * P[0] + P[1] * P[1])\n",
        "        cosine_dist.append(math.acos(num / den))\n",
        "    X = cosine_dist\n",
        "    Y = [S for S in sorted(zip(S, X), key=lambda i: i[1])]   # i:i[1]  -> i ->Zip(S,X) ,i[1] -> takes X and its values (a,b). so it sort on basis of X\n",
        "                                                             # now S is assigned with (a,b ) values From S which is sorted  on bais of X\n",
        "    k = Y[:5]   # same has Y[0:5]\n",
        "    for i, j in k:\n",
        "        print(i)\n",
        "\n",
        "S = [(1, 2), (3, 4), (-1, 1), (6, -7), (0, 6), (-5, -8), (-1, -1),(6, 0), (1, -1)]\n",
        "P = (3, -4)\n",
        "closest_points_to_p(S, P)"
      ],
      "execution_count": null,
      "outputs": [
        {
          "output_type": "stream",
          "text": [
            "(6, -7)\n",
            "(1, -1)\n",
            "(6, 0)\n",
            "(-5, -8)\n",
            "(-1, -1)\n"
          ],
          "name": "stdout"
        }
      ]
    },
    {
      "cell_type": "markdown",
      "metadata": {
        "id": "-g11jeAiB-k5"
      },
      "source": [
        "<h3> Q6: Find Which line separates oranges and apples</h3>\n",
        "consider you have given two set of data points in the form of list of tuples like \n",
        "<pre>\n",
        "Red =[(R11,R12),(R21,R22),(R31,R32),(R41,R42),(R51,R52),..,(Rn1,Rn2)]\n",
        "Blue=[(B11,B12),(B21,B22),(B31,B32),(B41,B42),(B51,B52),..,(Bm1,Bm2)]\n",
        "</pre>\n",
        "and set of line equations(in the string formate, i.e list of strings)\n",
        "<pre>\n",
        "Lines = [a1x+b1y+c1,a2x+b2y+c2,a3x+b3y+c3,a4x+b4y+c4,..,K lines]\n",
        "Note: you need to string parsing here and get the coefficients of x,y and intercept\n",
        "</pre>\n",
        "your task is to for each line that is given print \"YES\"/\"NO\", you will print yes, if all the red points are one side of the line and blue points are other side of the line, otherwise no\n",
        "<pre>\n",
        "Ex:\n",
        "Red= [(1,1),(2,1),(4,2),(2,4), (-1,4)]\n",
        "Blue= [(-2,-1),(-1,-2),(-3,-2),(-3,-1),(1,-3)]\n",
        "Lines=[\"1x+1y+0\",\"1x-1y+0\",\"1x+0y-3\",\"0x+1y-0.5\"]\n",
        "<img src='https://i.imgur.com/DoQf7mE.jpg' width=400>\n",
        "Output:\n",
        "YES\n",
        "NO\n",
        "NO\n",
        "YES\n",
        "</pre>"
      ]
    },
    {
      "cell_type": "code",
      "metadata": {
        "id": "eRxExaTRB-k6",
        "colab": {
          "base_uri": "https://localhost:8080/"
        },
        "outputId": "5910a0ad-913b-4a8d-b93d-4d2dba6b88ab"
      },
      "source": [
        "\n",
        "def i_am_the_one(red,blue,line):\n",
        "\n",
        "    for element in red:\n",
        "        equation = line.replace('x', '*' + str(element[0]))\n",
        "        equation = equation.replace('y', '*' + str(element[1]))\n",
        "        result = eval(equation)  # add those two values(a,b)  a+b\n",
        "        if result > 0:\n",
        "            pass\n",
        "        else:\n",
        "            return \"NO\"\n",
        "    for element in blue:\n",
        "        equation = line.replace('x', '*' + str(element[0]))\n",
        "        equation = equation.replace('y', '*' + str(element[1]))\n",
        "        result = eval(equation)\n",
        "        if result > 0:\n",
        "            pass\n",
        "        else:\n",
        "          return \"Yes\"\n",
        "\n",
        "Red= [(1,1),(2,1),(4,2),(2,4), (-1,4)]\n",
        "Blue= [(-2,-1),(-1,-2),(-3,-2),(-3,-1),(1,-3)]\n",
        "Lines=[\"1x+1y+0\",\"1x-1y+0\",\"1x+0y-3\",\"0x+1y-0.5\"]\n",
        "\n",
        "for i in Lines:\n",
        "    yes_or_no = i_am_the_one(Red, Blue, i)\n",
        "    print(yes_or_no) # the returned value\n"
      ],
      "execution_count": null,
      "outputs": [
        {
          "output_type": "stream",
          "text": [
            "Yes\n",
            "NO\n",
            "NO\n",
            "Yes\n"
          ],
          "name": "stdout"
        }
      ]
    },
    {
      "cell_type": "markdown",
      "metadata": {
        "id": "9OBpURbNB-k9"
      },
      "source": [
        "<h3> Q7: Filling the missing values in the specified formate</h3>\n",
        "You will be given a string with digits and '\\_'(missing value) symbols you have to replace the '\\_' symbols as explained \n",
        "<pre>\n",
        "Ex 1: _, _, _, 24 ==> 24/4, 24/4, 24/4, 24/4 i.e we. have distributed the 24 equally to all 4 places <br>\n",
        "Ex 2: 40, _, _, _, 60 ==> (60+40)/5,(60+40)/5,(60+40)/5,(60+40)/5,(60+40)/5 ==> 20, 20, 20, 20, 20 i.e. the sum of (60+40) is distributed qually to all 5 places<br>\n",
        "Ex 3: 80, _, _, _, _  ==> 80/5,80/5,80/5,80/5,80/5 ==> 16, 16, 16, 16, 16 i.e. the 80 is distributed qually to all 5 missing values that are right to it<br>\n",
        "Ex 4: _, _, 30, _, _, _, 50, _, _  \n",
        "==> we will fill the missing values from left to right \n",
        "    a. first we will distribute the 30 to left two missing values (10, 10, 10, _, _, _, 50, _, _)\n",
        "    b. now distribute the sum (10+50) missing values in between (10, 10, 12, 12, 12, 12, 12, _, _) \n",
        "    c. now we will distribute 12 to right side missing values (10, 10, 12, 12, 12, 12, 4, 4, 4)\n",
        "</pre>\n",
        "for a given string with comma seprate values, which will have both missing values numbers like ex: \"_, _, x, _, _, _\"\n",
        "you need fill the missing values\n",
        "\n",
        "Q: your program reads a string like ex: \"_, _, x, _, _, _\" and returns the filled sequence\n",
        "\n",
        "Ex: \n",
        "<pre>\n",
        "Input1: \"_,_,_,24\"\n",
        "Output1: 6,6,6,6\n",
        "\n",
        "Input2: \"40,_,_,_,60\"\n",
        "Output2: 20,20,20,20,20\n",
        "\n",
        "Input3: \"80,_,_,_,_\"\n",
        "Output3: 16,16,16,16,16\n",
        "\n",
        "Input4: \"_,_,30,_,_,_,50,_,_\"\n",
        "Output4: 10,10,12,12,12,12,4,4,4\n",
        "</pre>\n",
        "\n"
      ]
    },
    {
      "cell_type": "code",
      "metadata": {
        "id": "nZmpzHs_B-k-",
        "colab": {
          "base_uri": "https://localhost:8080/"
        },
        "outputId": "f7021704-6314-43c3-ea30-60a95003d2c1"
      },
      "source": [
        "import re \n",
        "def curve_smoothing(S): \n",
        "\n",
        "    pattern = '\\d+'\n",
        "    ls_num=re.findall(pattern, S)   # list of numeral present in string\n",
        "    pattern = '\\d+'\n",
        "    spaces = re.split(pattern, S)  # split string to seperate '_' spaces\n",
        "\n",
        "    if len(spaces[0])==0 and len(ls_num)==1:\n",
        "        Space_num=len(re.findall('_',  S))\n",
        "        sums=int(ls_num[0])\n",
        "        repl_int=round(sums/(Space_num+1))\n",
        "        S=re.sub(r'(\\d{2})(,_)', r'{}\\2'.format(str(repl_int)) , S, 1)\n",
        "        S=re.sub('_', str(repl_int),S, Space_num)\n",
        "        return S\n",
        "\n",
        "    elif len(spaces[0])==0 and len(ls_num)>1:\n",
        "        for i in range(1,len(spaces)):\n",
        "            if i==1:\n",
        "                Space_num=len(re.findall('_',  spaces[i]))\n",
        "                sums=int(ls_num[i-1])+int(ls_num[(i)])\n",
        "                repl_int=round(sums/(Space_num+2))\n",
        "                S=re.sub(str(ls_num[i-1]), str(repl_int),S)\n",
        "                S=re.sub('_', str(repl_int),S, Space_num)\n",
        "                S=re.sub(str(ls_num[i]), str(repl_int),S,1)\n",
        "                ls_num[i]=repl_int\n",
        "            elif i<len(ls_num):\n",
        "                Space_num=len(re.findall('_',  spaces[i]))\n",
        "                sums=int(ls_num[i-1])+int(ls_num[(i)])\n",
        "                repl_int=round(sums/(Space_num+2))\n",
        "                S=re.sub(r'(\\d{2})(,_)', r'{}\\2'.format(str(repl_int)) , S, 1)\n",
        "                S=re.sub('_', str(repl_int),S, Space_num)\n",
        "                S=re.sub(str(ls_num[i]), str(repl_int),S,1)\n",
        "                ls_num[i]=repl_int\n",
        "            elif len(spaces[-1])!=0:\n",
        "                Space_num=len(re.findall('_',  spaces[i]))\n",
        "                repl_int=round(ls_num[(i-1)]/(Space_num+1))\n",
        "                S=re.sub(r'(\\d{2})(,_)', r'{}\\2'.format(str(repl_int)) , S, 1)\n",
        "                S=re.sub('_', str(repl_int),S, Space_num)\n",
        "        return S\n",
        "\n",
        "\n",
        "    else:\n",
        "        for i in range(len(spaces)):\n",
        "            if i==0:\n",
        "                Space_num=len(re.findall('_',  spaces[i]))\n",
        "                sums=int(ls_num[(i)])\n",
        "                repl_int=round(sums/(Space_num+1))\n",
        "                S=re.sub(r'(\\d{2})(,_)', r'{}\\2'.format(str(repl_int)) , S, 1)\n",
        "                S=re.sub('_', str(repl_int),S, Space_num)\n",
        "                S=re.sub(str(ls_num[i]), str(repl_int),S, 1)\n",
        "                ls_num[i]=repl_int\n",
        "            elif i>=1 and i<len(ls_num):\n",
        "                Space_num=len(re.findall('_',  spaces[i]))\n",
        "                sums=int(ls_num[i-1])+int(ls_num[(i)])\n",
        "                repl_int=round(sums/(Space_num+2))\n",
        "                S=re.sub(r'(\\d{2})(,_)', r'{}\\2'.format(str(repl_int)) , S, 1)\n",
        "                S=re.sub('_', str(repl_int),S, Space_num)\n",
        "                S=re.sub(str(ls_num[i]), str(repl_int),S,1)\n",
        "                ls_num[i]=repl_int\n",
        "            elif len(spaces[-1])!=0:\n",
        "                Space_num=len(re.findall('_',  spaces[i]))\n",
        "                repl_int=round(ls_num[(i-1)]/(Space_num+1))\n",
        "                S=re.sub(r'(\\d{2})(,_)', r'{}\\2'.format(str(repl_int)) , S, 1)\n",
        "                S=re.sub('_', str(repl_int),S, Space_num)\n",
        "        return S\n",
        "S1=\"_,_,_,24\"\n",
        "S2=\"40,_,_,_,60\"\n",
        "S3=\"80,_,_,_,_\"\n",
        "S4=\"_,_,30,_,_,_,50,_,_\"\n",
        "print(curve_smoothing(S1))\n",
        "print(curve_smoothing(S2))\n",
        "print(curve_smoothing(S3))\n",
        "print(curve_smoothing(S4))"
      ],
      "execution_count": 17,
      "outputs": [
        {
          "output_type": "stream",
          "text": [
            "6,6,6,6\n",
            "20,20,20,20,20\n",
            "16,16,16,16,16\n",
            "10,10,12,12,12,12,4,4,4\n"
          ],
          "name": "stdout"
        }
      ]
    },
    {
      "cell_type": "markdown",
      "metadata": {
        "id": "RBz4pzlfB-lB"
      },
      "source": [
        "<h3> Q8: Filling the missing values in the specified formate</h3>\n",
        "You will be given a list of lists, each sublist will be of length 2 i.e. [[x,y],[p,q],[l,m]..[r,s]]\n",
        "consider its like a martrix of n rows and two columns\n",
        "1. the first column F will contain only 5 uniques values (F1, F2, F3, F4, F5)\n",
        "2. the second column S will contain only 3 uniques values (S1, S2, S3)\n",
        "<pre>\n",
        "your task is to find\n",
        "a. Probability of P(F=F1|S==S1), P(F=F1|S==S2), P(F=F1|S==S3)\n",
        "b. Probability of P(F=F2|S==S1), P(F=F2|S==S2), P(F=F2|S==S3)\n",
        "c. Probability of P(F=F3|S==S1), P(F=F3|S==S2), P(F=F3|S==S3)\n",
        "d. Probability of P(F=F4|S==S1), P(F=F4|S==S2), P(F=F4|S==S3)\n",
        "e. Probability of P(F=F5|S==S1), P(F=F5|S==S2), P(F=F5|S==S3)\n",
        "</pre>\n",
        "Ex:\n",
        "\n",
        "<pre>\n",
        "[[F1,S1],[F2,S2],[F3,S3],[F1,S2],[F2,S3],[F3,S2],[F2,S1],[F4,S1],[F4,S3],[F5,S1]]\n",
        "\n",
        "a. P(F=F1|S==S1)=1/4, P(F=F1|S==S2)=1/3, P(F=F1|S==S3)=0/3\n",
        "b. P(F=F2|S==S1)=1/4, P(F=F2|S==S2)=1/3, P(F=F2|S==S3)=1/3\n",
        "c. P(F=F3|S==S1)=0/4, P(F=F3|S==S2)=1/3, P(F=F3|S==S3)=1/3\n",
        "d. P(F=F4|S==S1)=1/4, P(F=F4|S==S2)=0/3, P(F=F4|S==S3)=1/3\n",
        "e. P(F=F5|S==S1)=1/4, P(F=F5|S==S2)=0/3, P(F=F5|S==S3)=0/3\n",
        "</pre>\n",
        "\n",
        "\n"
      ]
    },
    {
      "cell_type": "code",
      "metadata": {
        "id": "e-1giz1MB-lC",
        "colab": {
          "base_uri": "https://localhost:8080/"
        },
        "outputId": "6d7adb15-bd81-4a14-d6ff-7815a80d8a15"
      },
      "source": [
        "A = [['F1', 'S1'], ['F2', 'S2'], ['F3', 'S3'], ['F1', 'S2'], ['F2', 'S3'], ['F3', 'S2'], ['F2', 'S1'], ['F4', 'S1'], ['F4', 'S3'], ['F5', 'S1']]\n",
        "\n",
        "dictionary1 = {\n",
        "'F1S1': 0,\n",
        "'F2S1': 0,\n",
        "'F3S1': 0,\n",
        "'F4S1': 0,\n",
        "'F5S1': 0,\n",
        "'F1S2': 0,\n",
        "'F2S2': 0,\n",
        "'F3S2': 0,\n",
        "'F4S2': 0,\n",
        "'F5S2': 0,\n",
        "'F1S3': 0,\n",
        "'F2S3': 0,\n",
        "'F3S3': 0,\n",
        "'F4S3': 0,\n",
        "'F5S3': 0,\n",
        "}\n",
        "\n",
        "dictionary2 = {\n",
        "'S1': 0,\n",
        "'S2': 0,\n",
        "'S3': 0\n",
        "}\n",
        "\n",
        "\n",
        "def compute_conditional_probabilites(A):\n",
        "    for i in range(len(A)):\n",
        "       k = A[i][0] + A[i][1]\n",
        "       dictionary1[k] += 1\n",
        "       dictionary2[A[i][1]] += 1\n",
        "\n",
        "compute_conditional_probabilites(A)\n",
        "print('Probability of P(F=F1|S==S1)', (dictionary1['F4S3']/dictionary2['S3']))"
      ],
      "execution_count": null,
      "outputs": [
        {
          "output_type": "stream",
          "text": [
            "Probability of P(F=F1|S==S1) 0.3333333333333333\n"
          ],
          "name": "stdout"
        }
      ]
    },
    {
      "cell_type": "markdown",
      "metadata": {
        "id": "n4HS87QmB-lF"
      },
      "source": [
        "<h3> Q9: Given two sentances S1, S2</h3>\n",
        "You will be given two sentances S1, S2 your task is to find \n",
        "<pre>\n",
        "a. Number of common words between S1, S2\n",
        "b. Words in S1 but not in S2\n",
        "c. Words in S2 but not in S1\n",
        "</pre>\n",
        "\n",
        "Ex: \n",
        "<pre>\n",
        "S1= \"the first column F will contain only 5 uniques values\"\n",
        "S2= \"the second column S will contain only 3 uniques values\"\n",
        "Output:\n",
        "a. 7\n",
        "b. ['first','F','5']\n",
        "c. ['second','S','3']\n",
        "</pre>"
      ]
    },
    {
      "cell_type": "code",
      "metadata": {
        "id": "Ez7hlHK0B-lG",
        "colab": {
          "base_uri": "https://localhost:8080/"
        },
        "outputId": "d118da80-cec9-4be2-976b-a2cbcacaebd3"
      },
      "source": [
        "def Diff(li1, li2):\n",
        "    li_dif = [i for i in li1 + li2 if i not in li1 or i not in li2]   # for loop > if > value >storing in i> \n",
        "    return li_dif\n",
        "\n",
        "def string_features(S1, S2):\n",
        "   A1=S1.split()  # split and stor in list to string\n",
        "   A2=S2.split()\n",
        "   a1 = []  # to store the difference\n",
        "   a=0\n",
        "   count=0 # to get common words\n",
        "   b=[]  # to get words in s2\n",
        "   c=[]  # to get words in S1\n",
        "   for j in range(len(A1)):\n",
        "\n",
        "       for i in range(len(A2)):\n",
        "\n",
        "           if A1[i]==A2[j]:\n",
        "               a1.append(A1[j])\n",
        "               count=count+1\n",
        "   a=count\n",
        "   b = Diff(A1,a1)   # IF string is minus by list it will show error like S1-a1\n",
        "   c = Diff(A2,a1)\n",
        "   return a,b,c  #if return is passed individualy it will show error return a return b return c\n",
        "\n",
        "S1= \"the first column F will contain only 5 uniques values\"\n",
        "S2= \"the second column S will contain only 3 uniques values\"\n",
        "a,b,c = string_features(S1,S2)\n",
        "\n",
        "print('The common words in S1 and S2 are :')\n",
        "print(a)\n",
        "print(' Words in S2 but not in S1 :')\n",
        "print(b)\n",
        "print(' Words in S2 but not in S1 :')\n",
        "print(c)"
      ],
      "execution_count": null,
      "outputs": [
        {
          "output_type": "stream",
          "text": [
            "The common words in S1 and S2 are :\n",
            "7\n",
            " Words in S2 but not in S1 :\n",
            "['first', 'F', '5']\n",
            " Words in S2 but not in S1 :\n",
            "['second', 'S', '3']\n"
          ],
          "name": "stdout"
        }
      ]
    },
    {
      "cell_type": "markdown",
      "metadata": {
        "id": "XefXVEjCB-lI"
      },
      "source": [
        "<h3> Q10: Given two sentances S1, S2</h3>\n",
        "You will be given a list of lists, each sublist will be of length 2 i.e. [[x,y],[p,q],[l,m]..[r,s]]\n",
        "consider its like a martrix of n rows and two columns\n",
        "\n",
        "a. the first column Y will contain interger values <br>\n",
        "b. the second column $Y_{score}$ will be having float values <br>\n",
        "Your task is to find the value of $f(Y,Y_{score}) = -1*\\frac{1}{n}\\Sigma_{for each Y,Y_{score} pair}(Ylog10(Y_{score})+(1-Y)log10(1-Y_{score}))$ here n is the number of rows in the matrix\n",
        "<pre>\n",
        "Ex:\n",
        "[[1, 0.4], [0, 0.5], [0, 0.9], [0, 0.3], [0, 0.6], [1, 0.1], [1, 0.9], [1, 0.8]]\n",
        "output:\n",
        "0.4243099\n",
        "</pre>\n",
        "$\\frac{-1}{8}\\cdot((1\\cdot log_{10}(0.4)+0\\cdot log_{10}(0.6))+(0\\cdot log_{10}(0.5)+1\\cdot log_{10}(0.5)) + ... + (1\\cdot log_{10}(0.8)+0\\cdot log_{10}(0.2)) )$"
      ]
    },
    {
      "cell_type": "code",
      "metadata": {
        "id": "N9zkagyNB-lJ",
        "colab": {
          "base_uri": "https://localhost:8080/"
        },
        "outputId": "9ab3e401-a168-4fcf-c4a2-70d72710d90f"
      },
      "source": [
        "from math import log\n",
        "\n",
        "def compute_log_loss(matrix):\n",
        "    logistic_loss = 0\n",
        "    for row in matrix:\n",
        "        logistic_loss += (row[0] * log(row[1], 10) + ((1 - row[0]) * log(1 - row[1], 10)))  # f(Y,Yscore)=−1∗1nΣforeachY,Yscorepair(Ylog10(Yscore)+(1−Y)log10(1−Yscore))\n",
        "                                                                                            #row[0]->Y\n",
        "    loss = -1 * logistic_loss / len(matrix)   #n is lngth of matrix\n",
        "    return loss\n",
        "\n",
        "A = [[1, 0.4], [0, 0.5], [0, 0.9], [0, 0.3], [0, 0.6], [1, 0.1], [1, 0.9], [1, 0.8]]\n",
        "loss = compute_log_loss(A)\n",
        "print( loss)"
      ],
      "execution_count": null,
      "outputs": [
        {
          "output_type": "stream",
          "text": [
            "0.42430993457031635\n"
          ],
          "name": "stdout"
        }
      ]
    }
  ]
}