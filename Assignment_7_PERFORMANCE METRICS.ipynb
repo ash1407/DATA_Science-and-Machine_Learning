{
  "nbformat": 4,
  "nbformat_minor": 0,
  "metadata": {
    "colab": {
      "name": "5_Performance_metrics_Instructions.ipynb",
      "provenance": [],
      "collapsed_sections": []
    },
    "language_info": {
      "codemirror_mode": {
        "name": "ipython",
        "version": 3
      },
      "file_extension": ".py",
      "mimetype": "text/x-python",
      "name": "python",
      "nbconvert_exporter": "python",
      "pygments_lexer": "ipython3",
      "version": "3.6.8"
    },
    "kernelspec": {
      "display_name": "Python 3",
      "language": "python",
      "name": "python3"
    }
  },
  "cells": [
    {
      "cell_type": "markdown",
      "metadata": {
        "id": "s0Ej_bXyQvnV"
      },
      "source": [
        "# Compute performance metrics for the given Y and Y_score without sklearn"
      ]
    },
    {
      "cell_type": "code",
      "metadata": {
        "id": "4CHb6NE7Qvnc"
      },
      "source": [
        "import numpy as np\n",
        "import pandas as pd\n",
        "# other than these two you should not import any other packages"
      ],
      "execution_count": null,
      "outputs": []
    },
    {
      "cell_type": "markdown",
      "metadata": {
        "id": "KbsWXuDaQvnq"
      },
      "source": [
        "<pre>\n",
        "<font color='red'><b>A.</b></font> Compute performance metrics for the given data <strong>5_a.csv</strong>\n",
        "   <b>Note 1:</b> in this data you can see number of positive points >> number of negatives points\n",
        "   <b>Note 2:</b> use pandas or numpy to read the data from <b>5_a.csv</b>\n",
        "   <b>Note 3:</b> you need to derive the class labels from given score</pre> $y^{pred}= \\text{[0 if y_score < 0.5 else 1]}$\n",
        "\n",
        "<pre>\n",
        "<ol>\n",
        "<li> Compute Confusion Matrix </li>\n",
        "<li> Compute F1 Score </li>\n",
        "<li> Compute AUC Score, you need to compute different thresholds and for each threshold compute tpr,fpr and then use               numpy.trapz(tpr_array, fpr_array) <a href='https://stackoverflow.com/q/53603376/4084039'>https://stackoverflow.com/q/53603376/4084039</a>, <a href='https://stackoverflow.com/a/39678975/4084039'>https://stackoverflow.com/a/39678975/4084039</a> Note: it should be numpy.trapz(tpr_array, fpr_array) not numpy.trapz(fpr_array, tpr_array)</li>\n",
        "<li> Compute Accuracy Score </li>\n",
        "</ol>\n",
        "</pre>"
      ]
    },
    {
      "cell_type": "code",
      "metadata": {
        "id": "WaFLW7oBQvnt",
        "colab": {
          "base_uri": "https://localhost:8080/"
        },
        "outputId": "340d497b-7ff0-4b24-a745-59a38a0ca68a"
      },
      "source": [
        "\n",
        "\n",
        "from google.colab import drive\n",
        "drive.mount('/content/drive')  "
      ],
      "execution_count": 1,
      "outputs": [
        {
          "output_type": "stream",
          "text": [
            "Mounted at /content/drive\n"
          ],
          "name": "stdout"
        }
      ]
    },
    {
      "cell_type": "code",
      "metadata": {
        "id": "T_cgmGXZLkSn"
      },
      "source": [
        "import numpy as np\n",
        "import pandas as pd\n",
        "import matplotlib.pyplot as plt\n",
        "file1 = pd.read_csv(\"/content/drive/MyDrive/Colab Notebooks/5_a.csv\")\n",
        "#file1.head(10)"
      ],
      "execution_count": 5,
      "outputs": []
    },
    {
      "cell_type": "code",
      "metadata": {
        "colab": {
          "base_uri": "https://localhost:8080/",
          "height": 372
        },
        "id": "lveKgVdkNptu",
        "outputId": "02627bd1-9772-4f61-e751-508c823e755c"
      },
      "source": [
        "\n",
        "import numpy as np\n",
        "import pandas as pd\n",
        "import numpy as np\n",
        "import matplotlib.pyplot as plt\n",
        "plt.style.use('ggplot')\n",
        "plt.rcParams[\"figure.figsize\"] = (16,9)\n",
        "%matplotlib inline\n",
        "file1 = pd.read_csv(\"/content/drive/MyDrive/Colab Notebooks/5_a.csv\")\n",
        "file1=file1.sort_values( by= [\"proba\"], ascending = False)\n",
        "A=file1['proba'].tolist()\n",
        "C=file1['y'].tolist()\n",
        "def performance(A,C,T):\n",
        " B=[]\n",
        " for i in range(0,len(A)):\n",
        "  if A[i]<T:\n",
        "    B.append(0)\n",
        "  else:\n",
        "    B.append(1) \n",
        " tp=0  # counters for 4 of them\n",
        " fp=0\n",
        " fn=0\n",
        " tn=0\n",
        " for i in range(0,len(B)):\n",
        "   if C[i]==B[i]:\n",
        "      if B[i]==0:\n",
        "        tn=tn+1\n",
        "      else:\n",
        "        tp=tp+1  \n",
        "   else:\n",
        "      if B[i]==0:\n",
        "        fn=fn+1\n",
        "      else:\n",
        "        fp=fp+1 \n",
        " return tp,fp,fn,tn\n",
        "\n",
        "tp,fp,fn,tn=performance(A,C,0.5)\n",
        "\n",
        "CM=([tp,fp],[fn,tn]) #cconfusion matrix remeber to give ,for matrix\n",
        "\n",
        "print('Confusion Matrix :',CM)\n",
        "\n",
        "pr=tp/(tp+fp)\n",
        "re=tp/(tp+fn)\n",
        "F1=(2*pr*re)/(pr+re)\n",
        "print('F1 Score :',F1)\n",
        "AUC=(tn+tp)/(tp+fp+fn+tn)\n",
        "print('Auccuracy Score:',AUC)\n",
        "insert=set(A)\n",
        "unique_list=(list(insert))\n",
        "\n",
        "\n",
        "\n",
        "\n",
        "score = A\n",
        "y =C\n",
        "\n",
        "# false positive rate\n",
        "FPR = []\n",
        "# true positive rate\n",
        "TPR = []\n",
        "# Iterate thresholds from 0.0 to 1.0\n",
        "thresholds = sorted(unique_list)\n",
        "\n",
        "# get number of positive and negative examples in the dataset\n",
        "P = sum(y)\n",
        "N = len(y) - P\n",
        "\n",
        "for thresh in thresholds:   # we cant use above performance function because we need predicted value in same as it is 0.5,6... but there it converted in to 0,1\n",
        "    FP=0\n",
        "    TP=0\n",
        "    thresh = round(thresh,2) #Limiting floats to two decimal points, or threshold 0.6 will be 0.6000000000000001 which gives FP=0\n",
        "    for i in range(len(score)):\n",
        "        if (score[i] >= thresh):\n",
        "            if y[i] == 1:\n",
        "                TP = TP + 1\n",
        "            if y[i] == 0:\n",
        "                FP = FP + 1\n",
        "    FPR.append(FP/N)\n",
        "    TPR.append(TP/P)\n",
        "\n",
        " \n",
        "auc =np.trapz(sorted(TPR),sorted(FPR))  # finding the intefration from right to left so we need to sort here\n",
        "print(\"Auc score\",auc) \n",
        "plt.plot(FPR, TPR, linestyle='--', marker='o', color='darkorange', lw = 2, label='ROC curve', clip_on=False)\n",
        "plt.plot([0, 1], [0, 1], color='navy', linestyle='--')\n",
        "plt.xlim([0.0, 1.0])\n",
        "plt.ylim([0.0, 1.0])\n",
        "plt.xlabel('False Positive Rate')\n",
        "plt.ylabel('True Positive Rate')\n",
        "plt.title('ROC curve, AUC = %.2f'%auc)\n",
        "plt.legend(loc=\"lower right\")\n",
        "plt.savefig('AUC_example.png')\n",
        "plt.show()"
      ],
      "execution_count": 10,
      "outputs": [
        {
          "output_type": "stream",
          "text": [
            "Confusion Matrix : ([10000, 100], [0, 0])\n",
            "F1 Score : 0.9950248756218906\n",
            "Auccuracy Score: 0.9900990099009901\n",
            "Auc score 0.48755149999999997\n"
          ],
          "name": "stdout"
        },
        {
          "output_type": "display_data",
          "data": {
            "image/png": "[encoded data removed]",
            "text/plain": [
              "<Figure size 432x288 with 1 Axes>"
            ]
          },
          "metadata": {
            "tags": [],
            "needs_background": "light"
          }
        }
      ]
    },
    {
      "cell_type": "markdown",
      "metadata": {
        "id": "V5KZem1BQvn2"
      },
      "source": [
        "<pre>\n",
        "<font color='red'><b>B.</b></font> Compute performance metrics for the given data <strong>5_b.csv</strong>\n",
        "   <b>Note 1:</b> in this data you can see number of positive points << number of negatives points\n",
        "   <b>Note 2:</b> use pandas or numpy to read the data from <b>5_b.csv</b>\n",
        "   <b>Note 3:</b> you need to derive the class labels from given score</pre> $y^{pred}= \\text{[0 if y_score < 0.5 else 1]}$\n",
        "\n",
        "<pre>\n",
        "<ol>\n",
        "<li> Compute Confusion Matrix </li>\n",
        "<li> Compute F1 Score </li>\n",
        "<li> Compute AUC Score, you need to compute different thresholds and for each threshold compute tpr,fpr and then use               numpy.trapz(tpr_array, fpr_array) <a href='https://stackoverflow.com/q/53603376/4084039'>https://stackoverflow.com/q/53603376/4084039</a>, <a href='https://stackoverflow.com/a/39678975/4084039'>https://stackoverflow.com/a/39678975/4084039</a></li>\n",
        "<li> Compute Accuracy Score </li>\n",
        "</ol>\n",
        "</pre>"
      ]
    },
    {
      "cell_type": "code",
      "metadata": {
        "id": "RDsnT9chBDrf"
      },
      "source": [
        "import numpy as np\n",
        "import pandas as pd\n",
        "file2 = pd.read_csv(\"/content/drive/MyDrive/Colab Notebooks/5_b.csv\")"
      ],
      "execution_count": 11,
      "outputs": []
    },
    {
      "cell_type": "code",
      "metadata": {
        "id": "U2sKlq0YQvn5",
        "colab": {
          "base_uri": "https://localhost:8080/"
        },
        "outputId": "65ec9648-f88b-4fbe-8506-f278b3070674"
      },
      "source": [
        "A=file2['proba'].tolist()\n",
        "C=file2['y'].tolist()\n",
        "def performance(A,C,T):\n",
        " B=[]\n",
        " for i in range(0,len(A)):\n",
        "  if A[i]<T:\n",
        "    B.append(0)\n",
        "  else:\n",
        "    B.append(1) \n",
        " tp=0  # counters for 4 of them\n",
        " fp=0\n",
        " fn=0\n",
        " tn=0\n",
        " for i in range(0,len(B)):\n",
        "   if C[i]==B[i]:\n",
        "      if B[i]==0:\n",
        "        tn=tn+1\n",
        "      else:\n",
        "        tp=tp+1  \n",
        "   else:\n",
        "      if B[i]==0:\n",
        "        fn=fn+1\n",
        "      else:\n",
        "        fp=fp+1 \n",
        " return tp,fp,fn,tn\n",
        "\n",
        "tp,fp,fn,tn=performance(A,C,0.5)\n",
        "\n",
        "CM=([tp,fp],[fn,tn]) #cconfusion matrix remeber to give ,for matrix\n",
        "\n",
        "print('Confusion Matrix :',CM)\n",
        "\n",
        "pr=tp/(tp+fp)\n",
        "re=tp/(tp+fn)\n",
        "F1=2*pr*re/(pr+re)\n",
        "print('F1 Score :',F1)\n",
        "AUC=(tn+tp)/(tp+fp+fn+tn)\n",
        "print('Auccuracy Score:',AUC)\n",
        "insert=set(A)\n",
        "unique_list=(list(insert))\n",
        "\n",
        "score = A\n",
        "y =C\n",
        "\n",
        "# false positive rate\n",
        "FPR = []\n",
        "# true positive rate\n",
        "TPR = []\n",
        "# Iterate thresholds from 0.0 to 1.0\n",
        "thresholds = sorted(unique_list)\n",
        "\n",
        "# get number of positive and negative examples in the dataset\n",
        "P = sum(y)\n",
        "N = len(y) - P\n",
        "\n",
        "for thresh in thresholds:   # we cant use above performance function because we need predicted value in same as it is 0.5,6... but there it converted in to 0,1\n",
        "    FP=0\n",
        "    TP=0\n",
        "    thresh = round(thresh,2) #Limiting floats to two decimal points, or threshold 0.6 will be 0.6000000000000001 which gives FP=0\n",
        "    for i in range(len(score)):\n",
        "        if (score[i] >= thresh):\n",
        "            if y[i] == 1:\n",
        "                TP = TP + 1\n",
        "            if y[i] == 0:\n",
        "                FP = FP + 1\n",
        "    FPR.append(FP/N)\n",
        "    TPR.append(TP/P)\n",
        "\n",
        "#you're integrating from right to left. This flips the sign of the result \n",
        " \n",
        "auc =np.trapz(sorted(TPR),sorted(FPR))  # finding the intefration from right to left so we need to sort here\n",
        "print(\"Auc score\",auc) "
      ],
      "execution_count": 12,
      "outputs": [
        {
          "output_type": "stream",
          "text": [
            "Confusion Matrix : ([55, 239], [45, 9761])\n",
            "F1 Score : 0.2791878172588833\n",
            "Auccuracy Score: 0.9718811881188119\n",
            "Auc score 0.937285\n"
          ],
          "name": "stdout"
        }
      ]
    },
    {
      "cell_type": "markdown",
      "metadata": {
        "id": "GiPGonTzQvoB"
      },
      "source": [
        "<font color='red'><b>C.</b></font> Compute the best threshold (similarly to ROC curve computation) of probability which gives lowest values of metric <b>A</b> for the given data <strong>5_c.csv</strong>\n",
        "<br>\n",
        "\n",
        "you will be predicting label of a data points like this: $y^{pred}= \\text{[0 if y_score < threshold  else 1]}$\n",
        "\n",
        "$ A = 500 \\times \\text{number of false negative} + 100 \\times \\text{numebr of false positive}$\n",
        "\n",
        "<pre>\n",
        "   <b>Note 1:</b> in this data you can see number of negative points > number of positive points\n",
        "   <b>Note 2:</b> use pandas or numpy to read the data from <b>5_c.csv</b>\n",
        "</pre>"
      ]
    },
    {
      "cell_type": "code",
      "metadata": {
        "id": "x5HIJzq1QvoE",
        "colab": {
          "base_uri": "https://localhost:8080/",
          "height": 143
        },
        "outputId": "f4a3b803-47e0-4f47-db42-c8d74c0602a4"
      },
      "source": [
        "import numpy as np\n",
        "import pandas as pd\n",
        "file3 = pd.read_csv(\"/content/drive/MyDrive/Colab Notebooks/5_c.csv\")\n",
        "file3.head(3)"
      ],
      "execution_count": null,
      "outputs": [
        {
          "output_type": "execute_result",
          "data": {
            "text/html": [
              "<div>\n",
              "<style scoped>\n",
              "    .dataframe tbody tr th:only-of-type {\n",
              "        vertical-align: middle;\n",
              "    }\n",
              "\n",
              "    .dataframe tbody tr th {\n",
              "        vertical-align: top;\n",
              "    }\n",
              "\n",
              "    .dataframe thead th {\n",
              "        text-align: right;\n",
              "    }\n",
              "</style>\n",
              "<table border=\"1\" class=\"dataframe\">\n",
              "  <thead>\n",
              "    <tr style=\"text-align: right;\">\n",
              "      <th></th>\n",
              "      <th>y</th>\n",
              "      <th>prob</th>\n",
              "    </tr>\n",
              "  </thead>\n",
              "  <tbody>\n",
              "    <tr>\n",
              "      <th>0</th>\n",
              "      <td>0</td>\n",
              "      <td>0.458521</td>\n",
              "    </tr>\n",
              "    <tr>\n",
              "      <th>1</th>\n",
              "      <td>0</td>\n",
              "      <td>0.505037</td>\n",
              "    </tr>\n",
              "    <tr>\n",
              "      <th>2</th>\n",
              "      <td>0</td>\n",
              "      <td>0.418652</td>\n",
              "    </tr>\n",
              "  </tbody>\n",
              "</table>\n",
              "</div>"
            ],
            "text/plain": [
              "   y      prob\n",
              "0  0  0.458521\n",
              "1  0  0.505037\n",
              "2  0  0.418652"
            ]
          },
          "metadata": {
            "tags": []
          },
          "execution_count": 41
        }
      ]
    },
    {
      "cell_type": "code",
      "metadata": {
        "colab": {
          "base_uri": "https://localhost:8080/"
        },
        "id": "n7aD4kBMXfPj",
        "outputId": "7648f880-5544-4c63-a816-b48eccaba99e"
      },
      "source": [
        "A=file3['prob'].tolist()\n",
        "C=file3['y'].tolist()\n",
        "def performance(A,C,T):\n",
        " B=[]\n",
        " for i in range(0,len(A)-1):\n",
        "  if A[i]<T:\n",
        "    B.append(0)\n",
        "  else:\n",
        "    B.append(1) \n",
        " tp=0  # counters for 4 of them\n",
        " fp=0\n",
        " fn=0\n",
        " tn=0\n",
        " for i in range(0,len(B)-1):\n",
        "   if C[i]==B[i]:\n",
        "      if B[i]==0:\n",
        "        tn=tn+1\n",
        "      else:\n",
        "        tp=tp+1  \n",
        "   else:\n",
        "      if B[i]==0:\n",
        "        fn=fn+1\n",
        "      else:\n",
        "        fp=fp+1 \n",
        " return tp,fp,fn,tn\n",
        "\n",
        "tp,fp,fn,tn=performance(A,C,0.5)\n",
        "\n",
        "S=[]\n",
        "for i in range(0,len(A)-1): \n",
        " a,b,c,d=performance(A,C,unique_list[i]) # taking each \n",
        " T=500*c+100*b\n",
        " S.append(T)\n",
        "\n",
        "print(S)\n",
        "x=S[0]\n",
        "x1=0\n",
        "for i in range(1,len(A)-1):\n",
        "   if x>S[i]:\n",
        "     x=S[i]\n",
        "     x1=i\n",
        "   \n",
        "\n",
        "print(\"lowest thresold value from unique list\")\n",
        "print(unique_list[x1])\n",
        "\n",
        "\n"
      ],
      "execution_count": null,
      "outputs": [
        {
          "output_type": "stream",
          "text": [
            "[189000, 190000, 177800, 158400, 150600, 156700, 207700, 152900, 175000, 156700, 146500, 168300, 157800, 164400, 207200, 162700, 225600, 145300, 151000, 160500, 156800, 143900, 141800, 152600, 142700, 151000, 145700, 151700, 237000, 164300, 175600, 162700, 154000, 145500, 158000, 177100, 142600, 151400, 164600, 149400, 149600, 147600, 193300, 147900, 156800, 154300, 147300, 248100, 164200, 156900, 142800, 147600, 142900, 147800, 162100, 142200, 142600, 155800, 149800, 155500, 149100, 144300, 245300, 243300, 211900, 164300, 167800, 198600, 186100, 150400, 161200, 141700, 165500, 172900, 246500, 250300, 152800, 157100, 155900, 152200, 163900, 182600, 250300, 214100, 146100, 208000, 187700, 169200, 149600, 164900, 142100, 166500, 146000, 143100, 192600, 162700, 202300, 184400, 164400, 164400, 161200, 224400, 149200, 173400, 146600, 203200, 152200, 190100, 141700, 145400, 213900, 181900, 212700, 172100, 202800, 151600, 149900, 148600, 152400, 142000, 142300, 159400, 216800, 143300, 142100, 144500, 149400, 142500, 164400, 179600, 168500, 156400, 193700, 228000, 158300, 167600, 237900, 141600, 207500, 323500, 155500, 245600, 157400, 229000, 191700, 157900, 155500, 141800, 164700, 147100, 250800, 145100, 182600, 147600, 145400, 152300, 147800, 209800, 157000, 149800, 191700, 150300, 156500, 211900, 150500, 225500, 163300, 254900, 159300, 149800, 145100, 144000, 155900, 157400, 141300, 175600, 245600, 147400, 169600, 230800, 217500, 178900, 162100, 166200, 157400, 176700, 155500, 145400, 157500, 147100, 145100, 152400, 153200, 142900, 164600, 156400, 163300, 155100, 164300, 183800, 152500, 158900, 162000, 213200, 189700, 201000, 152300, 217500, 145500, 164400, 236700, 144800, 177800, 155700, 197400, 148800, 190000, 151500, 276800, 167800, 142600, 163300, 162300, 143400, 173600, 182900, 157800, 146900, 147400, 149600, 149800, 147800, 142300, 166800, 148800, 163300, 158200, 249000, 145700, 163300, 254700, 250900, 158000, 187600, 166500, 216600, 171700, 237100, 198600, 177800, 245600, 146600, 175600, 202200, 193700, 214200, 166500, 165100, 145200, 225500, 207500, 216800, 157100, 165900, 157400, 197400, 142500, 144200, 156400, 142600, 163800, 156000, 147600, 235400, 141900, 141900, 148200, 211000, 189000, 190400, 158700, 168700, 167800, 200700, 149300, 155700, 172300, 225500, 209500, 255400, 142500, 177700, 178100, 166700, 166800, 157800, 184400, 151200, 159300, 164700, 156600, 143400, 158800, 149800, 157600, 191800, 142000, 209500, 166300, 180100, 168300, 156800, 190100, 151600, 225400, 154000, 190200, 167900, 191800, 154200, 157800, 157700, 185700, 153400, 159500, 217500, 169700, 160100, 189100, 160000, 145400, 189500, 142600, 145200, 157400, 156400, 164300, 144300, 156700, 141900, 145500, 160200, 151600, 164200, 167300, 156800, 154100, 160300, 173900, 207500, 184700, 166000, 155100, 212400, 194400, 155900, 187700, 145900, 143100, 202000, 145200, 189400, 213900, 146000, 150100, 222400, 182600, 141900, 142000, 156100, 191900, 142200, 150300, 214100, 145300, 147400, 155000, 145000, 173700, 176600, 141600, 156300, 166900, 225300, 157800, 245800, 150600, 182500, 145000, 238100, 176700, 158800, 149400, 164300, 238100, 142000, 196800, 149800, 142000, 156700, 145400, 142100, 145900, 246500, 154600, 184800, 142100, 207600, 178100, 164100, 153400, 210000, 158500, 222900, 198600, 211100, 166300, 144800, 225800, 178100, 200500, 157900, 178300, 142700, 164600, 144900, 191900, 218700, 148300, 155500, 154200, 147400, 232600, 167700, 142300, 149100, 242400, 184100, 142900, 160100, 152400, 146300, 252700, 141800, 180000, 159000, 142400, 144300, 152200, 149700, 190200, 213600, 147500, 207200, 149200, 148600, 159400, 152400, 179800, 216800, 225500, 221600, 207700, 142800, 142200, 223900, 145400, 157400, 196100, 160500, 191900, 148600, 144700, 143300, 157500, 145500, 142900, 147800, 147400, 156900, 156300, 246600, 173100, 158200, 152900, 153500, 250300, 143900, 145000, 150400, 149700, 174100, 156900, 174100, 166300, 149900, 150100, 157300, 239500, 229900, 155400, 157300, 154000, 192900, 155500, 155900, 147000, 144800, 156600, 152300, 159800, 143200, 152700, 146800, 168700, 142000, 253600, 157900, 168700, 156400, 168300, 171600, 224300, 154600, 159300, 142100, 185000, 235800, 184800, 156800, 246400, 153800, 155100, 162000, 227500, 142500, 162700, 154200, 161700, 249000, 147600, 153800, 256400, 159700, 144300, 164400, 157200, 156800, 212400, 200100, 235300, 217100, 164300, 157500, 201800, 148200, 158800, 156100, 189800, 146500, 201500, 188700, 173900, 237100, 150000, 149200, 146300, 156900, 148000, 150000, 155800, 153200, 161700, 255400, 165800, 196500, 246100, 191600, 230300, 226800, 166900, 159300, 156700, 141700, 163900, 201900, 214200, 190000, 237100, 159700, 179600, 183900, 153500, 154000, 224000, 178100, 175400, 156100, 141700, 156400, 164200, 164300, 142700, 164200, 156500, 218400, 236700, 218700, 145200, 149900, 148300, 164400, 156700, 206800, 147300, 184000, 160200, 150200, 163900, 191800, 184900, 242400, 234300, 157200, 144800, 164000, 221600, 156200, 144400, 235500, 196500, 187700, 142400, 270300, 251800, 149200, 154000, 164000, 217900, 165200, 170500, 142700, 141900, 240400, 145600, 154000, 159400, 142100, 164300, 149800, 149700, 147100, 149400, 173900, 225500, 184300, 172500, 147300, 150400, 168700, 157500, 180100, 177800, 182500, 221900, 153200, 157600, 141600, 177400, 148600, 142300, 154000, 164300, 164300, 245700, 143000, 154100, 147500, 160300, 142500, 145900, 149600, 147900, 161200, 249000, 155500, 142300, 249000, 251000, 156300, 177500, 248100, 173900, 159900, 147000, 220700, 155600, 155500, 217900, 198100, 161200, 150500, 151300, 142500, 202000, 157800, 203500, 155000, 151800, 156900, 239600, 153800, 178900, 142700, 164300, 157200, 142100, 145500, 141000, 162200, 211500, 212300, 225500, 150300, 166500, 142000, 155400, 156100, 166500, 158300, 153100, 210000, 245300, 149800, 156400, 154100, 157900, 176700, 172400, 153600, 175400, 169100, 158200, 202900, 157900, 141900, 158400, 144300, 217100, 150300, 161700, 157500, 151700, 149100, 245300, 184800, 147000, 192900, 155700, 184000, 143800, 151400, 149600, 155800, 148700, 182500, 153100, 153400, 148900, 213900, 182100, 161000, 196100, 156300, 173400, 153200, 177500, 160700, 158100, 145300, 142600, 144300, 144400, 143200, 142900, 157200, 209800, 178300, 217200, 187700, 156300, 222900, 190000, 151300, 151900, 149600, 178300, 148700, 149500, 145300, 167400, 215100, 144800, 250300, 155900, 148600, 166500, 165000, 175000, 183300, 147500, 164900, 142300, 147500, 142400, 148700, 228000, 155500, 159500, 147400, 149300, 154200, 155800, 178300, 214200, 156100, 149800, 157700, 148900, 169600, 163900, 147800, 201500, 202000, 183700, 172400, 153100, 144000, 250800, 169800, 235900, 177500, 183800, 146700, 178300, 144300, 149300, 155100, 240000, 153000, 148100, 164100, 156200, 150400, 156300, 233900, 177000, 151300, 166800, 158800, 190100, 154100, 209800, 142700, 225500, 190300, 149600, 197800, 151300, 160200, 159300, 143900, 164000, 189400, 142200, 167800, 156400, 146800, 166800, 144500, 144700, 142900, 154300, 150600, 144700, 156900, 148300, 154100, 142100, 218700, 182500, 151600, 189600, 155500, 189300, 166800, 181500, 173100, 184500, 152900, 155300, 149700, 149900, 192600, 153200, 169100, 149600, 157800, 313900, 164400, 239500, 144800, 160100, 178300, 235500, 191700, 175400, 182500, 142500, 143000, 141600, 142000, 142700, 158600, 192600, 162500, 145400, 254000, 201600, 188900, 147000, 207500, 246400, 254000, 184300, 224400, 166500, 141700, 180200, 231500, 184300, 146200, 192800, 160600, 155100, 154000, 214100, 198600, 235300, 159800, 163900, 164300, 161200, 159300, 169100, 174100, 148900, 141900, 231600, 147500, 148200, 145500, 142600, 142600, 157800, 186000, 156100, 189300, 214200, 158200, 178800, 189900, 156400, 147400, 146800, 254900, 230800, 141900, 164400, 149800, 148700, 224000, 162000, 216600, 232400, 157500, 150100, 182600, 197300, 183800, 173400, 161200, 207300, 166300, 183700, 168400, 190000, 147500, 149600, 141800, 166800, 158900, 173300, 149900, 189700, 141700, 152400, 154200, 151400, 166800, 254800, 164500, 173400, 199100, 190000, 189600, 178100, 250900, 159900, 246900, 234300, 202300, 143600, 201800, 238400, 163900, 147500, 148200, 166700, 208400, 141900, 164600, 164100, 177500, 156700, 157600, 153600, 145500, 148000, 148100, 314800, 157400, 156500, 160000, 150400, 164300, 167400, 192900, 212400, 189800, 141900, 168400, 178600, 161200, 218700, 165100, 163600, 149800, 250000, 164100, 145400, 250800, 177900, 251800, 149800, 172500, 184300, 156900, 182500, 218000, 235500, 142200, 143000, 142600, 185700, 284200, 145300, 147000, 156300, 141400, 147900, 147000, 159400, 157000, 145100, 147400, 220700, 200200, 164300, 142200, 165100, 156400, 249800, 144800, 149200, 147000, 245800, 147900, 246100, 246900, 223900, 163900, 200900, 174100, 151500, 147100, 246100, 231700, 214200, 142400, 164700, 250200, 150000, 163300, 163700, 210000, 249800, 229000, 160800, 148400, 184400, 150000, 145400, 142500, 240400, 157200, 151700, 180200, 157800, 232700, 175600, 151100, 217900, 184200, 202000, 172200, 150500, 163700, 189600, 245300, 144800, 238100, 154400, 155800, 141400, 160900, 143100, 144800, 159300, 164300, 236900, 165200, 154900, 158200, 153600, 146900, 152700, 225400, 141600, 148300, 149800, 148200, 186100, 169800, 163300, 155500, 178300, 166300, 172300, 222800, 148700, 159700, 156300, 153100, 156900, 147100, 153400, 246800, 180100, 156600, 189800, 161000, 240400, 191700, 148800, 190100, 175300, 156500, 158200, 246600, 147000, 214200, 142000, 166200, 226400, 151600, 173100, 245300, 250300, 141600, 165100, 141800, 155100, 163600, 181800, 323500, 248100, 145300, 235300, 150000, 148400, 142300, 186400, 169500, 147600, 189400, 205500, 144400, 141700, 141800, 156800, 246900, 175900, 192300, 206800, 166300, 163900, 235300, 157700, 186100, 184000, 145700, 155900, 157700, 158900, 165300, 141900, 142000, 145300, 143000, 172400, 168300, 214200, 167400, 141600, 215600, 156700, 225900, 190200, 149900, 246100, 209800, 175400, 150500, 149100, 188700, 150400, 226400, 167700, 161200, 198300, 194800, 207500, 166500, 144700, 149900, 156700, 148000, 165000, 149600, 164300, 153700, 145500, 249100, 220700, 148300, 240400, 149500, 156100, 307300, 160500, 141800, 248100, 250200, 145300, 168300, 146800, 154300, 203800, 173700, 168200, 235600, 238400, 189300, 212300, 167800, 229800, 208700, 152000, 178700, 152600, 148900, 225500, 158600, 146200, 211900, 142900, 152600, 156300, 141400, 142900, 220700, 156900, 157200, 207900, 187900, 231700, 218700, 145600, 171600, 212300, 158700, 156400, 147400, 155500, 190200, 155500, 189100, 188800, 149400, 190100, 217600, 168500, 192300, 163800, 149700, 164700, 145400, 215100, 203500, 175900, 143100, 154100, 231500, 144800, 218700, 176700, 150000, 149400, 246900, 144300, 156900, 147300, 158200, 148600, 157800, 158200, 158200, 240000, 157700, 142200, 164300, 189400, 213600, 217500, 167400, 145300, 218700, 245300, 156900, 214400, 148200, 158200, 152700, 147700, 196100, 147200, 157500, 156300, 143200, 169400, 144500, 196400, 190600, 156100, 184800, 161900, 164100, 151000, 145300, 147900, 147800, 151800, 163900, 157200, 159300, 152600, 157400, 141500, 148500, 157700, 169400, 156900, 217900, 156300, 207300, 179600, 152700, 244300, 159400, 225900, 143100, 200500, 224400, 226800, 149600, 246600, 178100, 250300, 172600, 143200, 150300, 200100, 164300, 231400, 147600, 156400, 154200, 152500, 145900, 142800, 158700, 156400, 162600, 203100, 141200, 145300, 145100, 196200, 190300, 251000, 158000, 166700, 172200, 163000, 155700, 222900, 173200, 183500, 150400, 193200, 182600, 184700, 187700, 153400, 144800, 214200, 222400, 231500, 192300, 152600, 151000, 145700, 142700, 159800, 178600, 238300, 141900, 189800, 149200, 189200, 157200, 176700, 142900, 153300, 205500, 191400, 194000, 189900, 155800, 165900, 158200, 161300, 142000, 156100, 148600, 235900, 188100, 157700, 149100, 218800, 153400, 156200, 152800, 141900, 152200, 158400, 190100, 250900, 205600, 148700, 158800, 224800, 288600, 190200, 186400, 205600, 195300, 144700, 152300, 144500, 164400, 141900, 148400, 152200, 231500, 144500, 199100, 143000, 218700, 187900, 200100, 156600, 235400, 141400, 181800, 155900, 226000, 156600, 142500, 156300, 156800, 210000, 157300, 189100, 144500, 155800, 227700, 177500, 191700, 141600, 169400, 152500, 145100, 253700, 171900, 213200, 148900, 147200, 145100, 142100, 153200, 145500, 161900, 166700, 216800, 148100, 158300, 270300, 214200, 161000, 182200, 149200, 156500, 159000, 142300, 187900, 191900, 230800, 237900, 158200, 143600, 225900, 214600, 188900, 141800, 143500, 174100, 178200, 181900, 196100, 232600, 254800, 146800, 146700, 189600, 196300, 213600, 248100, 156300, 163900, 143000, 281000, 156200, 212700, 147800, 184800, 196800, 245300, 163900, 142200, 178100, 164900, 156900, 162700, 217200, 181800, 182500, 225900, 212300, 148700, 243800, 152100, 154100, 186000, 205600, 148700, 157500, 153500, 248300, 155500, 148500, 162500, 232400, 245300, 158000, 156100, 201900, 141800, 156800, 166700, 161300, 164200, 178000, 162100, 164300, 153800, 168300, 151400, 145300, 165500, 141800, 141700, 161200, 150800, 160200, 173500, 144500, 158300, 145400, 167700, 155600, 141700, 172400, 145800, 237900, 157200, 197000, 143300, 154300, 177200, 207700, 168200, 218800, 163500, 191700, 157200, 155500, 141700, 163600, 230300, 161700, 159700, 246500, 149400, 202000, 161700, 153200, 156600, 155600, 151200, 164600, 207600, 159600, 157600, 240000, 156500, 164800, 165500, 212400, 190000, 157500, 159700, 158700, 156200, 141800, 144400, 332000, 218400, 157500, 164200, 142900, 156800, 234800, 149600, 218700, 145300, 212400, 243300, 158200, 168100, 187900, 225500, 169600, 323200, 201800, 154000, 156800, 192900, 156200, 162300, 149900, 232600, 154200, 163900, 144100, 189100, 171600, 173100, 246900, 141800, 149600, 178400, 246100, 142000, 147900, 240400, 143300, 143700, 166500, 168000, 148600, 164000, 165600, 169700, 157300, 157100, 142700, 232400, 150600, 164300, 142700, 245300, 176700, 151600, 255400, 148700, 149900, 177600, 158100, 177200, 182500, 166900, 217500, 157400, 143900, 184400, 146700, 147900, 187900, 157000, 162100, 168700, 153800, 142400, 166700, 173700, 145700, 148600, 166800, 163900, 178900, 156800, 153100, 216800, 143600, 142000, 165000, 146300, 235800, 176700, 192300, 228000, 156800, 156600, 157500, 246500, 214200, 151000, 145200, 191500, 189200, 193600, 145500, 249800, 225900, 150500, 168300, 151800, 194500, 189000, 156300, 157700, 163600, 156800, 156100, 168300, 156400, 142000, 187700, 152500, 151300, 161200, 164000, 161700, 182100, 158200, 154100, 145400, 149800, 148600, 150500, 149700, 144800, 141400, 142600, 142300, 207600, 189400, 246100, 147400, 165600, 231400, 154500, 144300, 143600, 217200, 154200, 166800, 165100, 168300, 197000, 156700, 180200, 147900, 188900, 190200, 156600, 143200, 240400, 175400, 214100, 154200, 158300, 172500, 153900, 164200, 152500, 141800, 235300, 142600, 142400, 186400, 232600, 164200, 196100, 249000, 166300, 209500, 189300, 141900, 152900, 145000, 148900, 218000, 142200, 166500, 148800, 207600, 165500, 225500, 195800, 177900, 166800, 186100, 157800, 224400, 161200, 142400, 155900, 146000, 156300, 230600, 217900, 155500, 189100, 168100, 207500, 145200, 172500, 165200, 166300, 181800, 149700, 141900, 302300, 145000, 246400, 175600, 142500, 250300, 149500, 167300, 156200, 148300, 182200, 235600, 150400, 142000, 158000, 149100, 156800, 155600, 231500, 143400, 157500, 162100, 198600, 141700, 152600, 159300, 152300, 154100, 178300, 182600, 198100, 225500, 187600, 222400, 144100, 148200, 190600, 235800, 150300, 157500, 156100, 154300, 167400, 169500, 148400, 167800, 164300, 155300, 158500, 191700, 225500, 152700, 147600, 142500, 158700, 160600, 145000, 142000, 142200, 144500, 159800, 149400, 224800, 198600, 190200, 147800, 163800, 183800, 231400, 155400, 157000, 256100, 254400, 142400, 255400, 141700, 162600, 218700, 193200, 153200, 154000, 153200, 190500, 186100, 148800, 199100, 162100, 197400, 145600, 215600, 214100, 155500, 187900, 142500, 147300, 183900, 186100, 178900, 156800, 165100, 157800, 144700, 240400, 148700, 165000, 142300, 149200, 147400, 164300, 162000, 176700, 157800, 167000, 147600, 146300, 164800, 172400, 192900, 164900, 176700, 157100, 156700, 157700, 164300, 142700, 150000, 144500, 143300, 189800, 225400, 149500, 164000, 158200, 190400, 156400, 143100, 168700, 212300, 155700, 156300, 188600, 152700, 156700, 153400, 176700, 212300, 166500, 142100, 164400, 142700, 165700, 145600, 230600, 175300, 155400, 250900, 156000, 164300, 198600, 152200, 147300, 149600, 153900, 163000, 213900, 142300, 224000, 178000, 208400, 177800, 161300, 231700, 156000, 169700, 250200, 149600, 190300, 166800, 143000, 145400, 177900, 197400, 159800, 178000, 154400, 148700, 218400, 161400, 155700, 225500, 145300, 148200, 142500, 166800, 152600, 200100, 160000, 148500, 149900, 148400, 156800, 156400, 203100, 255400, 156500, 251800, 165100, 212300, 162100, 208000, 141700, 235800, 147400, 165600, 185300, 246800, 146200, 223100, 213600, 239600, 147900, 156100, 167800, 183500, 142700, 151800, 149900, 155600, 155900, 151800, 201800, 156000, 150600, 207300, 168800, 166800, 164300, 142900, 158700, 177900, 164300, 149700, 148300, 161200, 159300, 160100, 189400, 144200, 250300, 145100, 168100, 151800, 147600, 198300, 178500, 141700, 190800, 198200, 162700, 197800, 154300, 141900, 156000, 245300, 189600, 158500, 201700, 193100, 193200, 209000, 172900, 147100, 160500, 147600, 156300, 168400, 206800, 246900, 225900, 188700, 144200, 166000, 213600, 169500, 226800, 151400, 145300, 145300, 150600, 156300, 142200, 142700, 156200, 144800, 150100, 256100, 172300, 143100, 164400, 218800, 212400, 156400, 154300, 198600, 240900, 179600, 225400, 141400, 184900, 147100, 153900, 141700, 210100, 145700, 143200, 214200, 190100, 156600, 193600, 217200, 160400, 150500, 189300, 148700, 148600, 254800, 173400, 143800, 250800, 251000, 146600, 190100, 198100, 163600, 153900, 160000, 237100, 238100, 202800, 193800, 168300, 168100, 180200, 142900, 158900, 156600, 145500, 145400, 160600, 156800, 162000, 150000, 167700, 221900, 152700, 205600, 156400, 193400, 150500, 225900, 201800, 157500, 145200, 156300, 165600, 147000, 157900, 189800, 191700, 186400, 250800, 192300, 231700, 145400, 155700, 158100, 155900, 189100, 193300, 155500, 156600, 143100, 146900, 182000, 197300, 215600, 153000, 151800, 149600, 145100, 145600, 147400, 152700, 196800, 246900, 165200, 156300, 144200, 167900, 154200, 159800, 157600, 184300, 192900, 235600, 149100, 235800, 173600, 159300, 170000, 180000, 235300, 153500, 155500, 225300, 164300, 188800, 188600, 149800, 181300, 155700, 226800, 145200, 155800, 157800, 226800, 160000, 256000, 154200, 153300, 235800, 179800, 147400, 169200, 159600, 164300, 148200, 182500, 158800, 159800, 147800, 155700, 149400, 146400, 229800, 145100, 144500, 166300, 143200, 195300, 152200, 152200, 170000, 156600, 246400, 177900, 154100, 223900, 250300, 143900, 200100, 154400, 224300, 159500, 144500, 240400, 156300, 240400, 172900, 145400, 141600, 157500, 146300, 164300, 148200, 151400, 217900, 155500, 168200, 164600, 157200, 147900, 155900, 154300, 189100, 143800, 168400, 182500, 193700, 147400, 212700, 226800, 151400, 154100, 187900, 160000, 225900, 200500, 214200, 190200, 159700, 153400, 145200, 156900, 142200, 145200, 157900, 150700, 201500, 147500, 185200, 151300, 281100, 248300, 228000, 187900, 142300, 159500, 154000, 156300, 164900, 142700, 149700, 147800, 160300, 158800, 172200, 218000, 164500, 202200, 148000, 221600, 156300, 153900, 155800, 161100, 180000, 186100, 145900, 246900, 156100, 163800, 178100, 209800, 167800, 168300, 160500, 215600, 188700, 159600, 175000, 163900, 142000, 154000, 158700, 146200, 141200, 213200, 178400, 146800, 149400, 184300, 160300, 147900, 154200, 173300, 149600, 145900, 196100, 155700, 146500, 142400, 148800, 162000, 142500, 291600, 182500, 206800, 225200, 182500, 231500, 149500, 156400, 144500, 159000, 164400, 185700, 148800, 207600, 178300, 165500, 183500, 246900, 190600, 226400, 155800, 161100, 161700, 225600, 184300, 246100, 141900, 158300, 149300, 143200, 182300, 146000, 143200, 163100, 148600, 158500, 159300, 166700, 256400, 148000, 249000, 179700, 153500, 144500, 145200, 155500, 246900, 200700, 175900, 182100, 178400, 185100, 155500, 155500, 177900, 144700, 146300, 146300, 231400, 145400, 163900, 149200, 157000, 148700, 142000, 146800, 156400, 191700, 246400, 153000, 193800, 158000, 225100, 183500, 218800, 200100, 159800, 142300, 172200, 187800, 153900, 236900, 142900, 159700, 190000, 145800, 145300, 156900, 157500, 145200, 155900, 145100, 250300, 154500, 148700, 149200, 172100, 156200, 236900, 159300, 157800, 157600, 157100, 237100, 147500, 185000, 200600, 147000, 151500, 185000, 246900, 228000, 218400, 150000, 153300, 175000, 193000, 157700, 161400, 165000, 147400, 165100, 147500, 145200, 213600, 153000, 155900, 159900, 181500, 192600, 150800, 168400, 169400, 149900, 163900, 156400, 147700, 148200, 159300, 232400, 166200, 149300, 146700, 195300, 163400, 156900, 189400, 164100, 174600, 199100, 206800, 156100, 193400, 186100, 156300, 143100, 157800, 157200, 157700, 153500, 144700, 159300, 212300, 205800, 153900, 164900, 166700, 164300, 165500, 157000, 157500, 246900, 158400, 159700, 184900, 155500, 152200, 151400, 237900, 222900, 157500, 201800, 190200, 141800, 178900, 184900, 148300, 187900, 144700, 156200, 209800, 143800, 159300, 142400, 157800, 157200, 240000, 160200, 161400, 142300, 207500, 150400, 228000, 235800, 147700, 248300, 156800, 181800, 177800, 155500, 160800, 207500, 157300, 149100, 145200, 235900, 149800, 145800, 158500, 220200, 234800, 145000, 158000, 226000, 157900, 246900, 195300, 213600, 218800, 239500, 147100, 142300, 164200, 246400, 183800, 150800, 142400, 142300, 149700, 157300, 153200, 151600, 173400, 249800, 147400, 245700, 161900, 235400, 154200, 193000, 165500, 155600, 184200, 235800, 147600, 239500, 151300, 190000, 171600, 187900, 225500, 168700, 215100, 145200, 196200, 156000, 160000, 172900, 165300, 236600, 164300, 182500, 149200, 190200, 246500, 158800, 182600, 156700, 148700, 164300, 147900, 251800, 142300, 215100, 155900, 164300, 149600, 155500, 207500, 240900, 142400, 185000, 157600, 161300, 215100, 147500, 243400, 157900, 149100, 157000, 153200, 144800, 143400, 190000, 176100, 149800, 142500, 210100, 209500, 164400, 214100, 198400, 157800, 164400, 149400, 145400, 161900, 148200, 159000, 152700, 142200, 163600, 234300, 142700, 151800, 148400, 144100, 177500, 185600, 182200, 230800, 164300, 183400, 154200, 214100, 184300, 149800, 157600, 196500, 147600, 154200, 155600, 157800, 151300, 164300, 153100, 145300, 214100, 176700, 164600, 230800, 323000, 152600, 143000, 148200, 158400, 156700, 142600, 152200, 149900, 171500]\n",
            "lowest thresold value from unique list\n",
            "0.22999249075395145\n"
          ],
          "name": "stdout"
        }
      ]
    },
    {
      "cell_type": "markdown",
      "metadata": {
        "id": "sD4CcgjXQvoL"
      },
      "source": [
        "<pre>\n",
        "<font color='red'><b>D.</b></font> Compute performance metrics(for regression) for the given data <strong>5_d.csv</strong>\n",
        "    <b>Note 2:</b> use pandas or numpy to read the data from <b>5_d.csv</b>\n",
        "    <b>Note 1:</b> <b>5_d.csv</b> will having two columns Y and predicted_Y both are real valued features\n",
        "<ol>\n",
        "<li> Compute Mean Square Error </li>\n",
        "<li> Compute MAPE: https://www.youtube.com/watch?v=ly6ztgIkUxk</li>\n",
        "<li> Compute R^2 error: https://en.wikipedia.org/wiki/Coefficient_of_determination#Definitions </li>\n",
        "</ol>\n",
        "</pre>"
      ]
    },
    {
      "cell_type": "code",
      "metadata": {
        "colab": {
          "base_uri": "https://localhost:8080/",
          "height": 143
        },
        "id": "oM0HvFWxr3dU",
        "outputId": "4ac497b6-567a-4081-bd66-d447a8068605"
      },
      "source": [
        "import numpy as np\n",
        "import pandas as pd\n",
        "file4 = pd.read_csv(\"/content/drive/MyDrive/Colab Notebooks/5_d.csv\")\n",
        "file4.head(3)"
      ],
      "execution_count": null,
      "outputs": [
        {
          "output_type": "execute_result",
          "data": {
            "text/html": [
              "<div>\n",
              "<style scoped>\n",
              "    .dataframe tbody tr th:only-of-type {\n",
              "        vertical-align: middle;\n",
              "    }\n",
              "\n",
              "    .dataframe tbody tr th {\n",
              "        vertical-align: top;\n",
              "    }\n",
              "\n",
              "    .dataframe thead th {\n",
              "        text-align: right;\n",
              "    }\n",
              "</style>\n",
              "<table border=\"1\" class=\"dataframe\">\n",
              "  <thead>\n",
              "    <tr style=\"text-align: right;\">\n",
              "      <th></th>\n",
              "      <th>y</th>\n",
              "      <th>pred</th>\n",
              "    </tr>\n",
              "  </thead>\n",
              "  <tbody>\n",
              "    <tr>\n",
              "      <th>0</th>\n",
              "      <td>101.0</td>\n",
              "      <td>100.0</td>\n",
              "    </tr>\n",
              "    <tr>\n",
              "      <th>1</th>\n",
              "      <td>120.0</td>\n",
              "      <td>100.0</td>\n",
              "    </tr>\n",
              "    <tr>\n",
              "      <th>2</th>\n",
              "      <td>131.0</td>\n",
              "      <td>113.0</td>\n",
              "    </tr>\n",
              "  </tbody>\n",
              "</table>\n",
              "</div>"
            ],
            "text/plain": [
              "       y   pred\n",
              "0  101.0  100.0\n",
              "1  120.0  100.0\n",
              "2  131.0  113.0"
            ]
          },
          "metadata": {
            "tags": []
          },
          "execution_count": 3
        }
      ]
    },
    {
      "cell_type": "code",
      "metadata": {
        "colab": {
          "base_uri": "https://localhost:8080/"
        },
        "id": "aOEoYIUtsDo7",
        "outputId": "9b7dacb0-c284-46b3-c474-88332bc2c16a"
      },
      "source": [
        "A = file4['pred'].tolist()\n",
        "C = file4['y'].tolist()\n",
        "B = []\n",
        "Csum = 0\n",
        "x = 0\n",
        "y = 0\n",
        "\n",
        "for i in range(0, len(A)):\n",
        "    if A[i] < 0.5:\n",
        "        B.append(0)\n",
        "    else:\n",
        "        B.append(1)\n",
        "    Csum = Csum + C[i]\n",
        "\n",
        "y_bar = Csum/len(C)\n",
        "for i in range(0, len(B)):\n",
        "    y = y + ((C[i] - A[i]) ** 2)\n",
        "    x=x+((C[i]-y_bar)**2)\n",
        "\n",
        "print('Compute Mean Square Error')\n",
        "print(y / len(A))\n",
        "\n",
        "print('Compute MAPE')\n",
        "Error = np.sum(np.abs(np.subtract(C,A)))\n",
        "Average = np.sum(C)\n",
        "MAPE = Error/Average\n",
        "print(MAPE)\n",
        "print('Compute R^2 error:')\n",
        "print( 1 - (y/x))"
      ],
      "execution_count": null,
      "outputs": [
        {
          "output_type": "stream",
          "text": [
            "Compute Mean Square Error\n",
            "177.16569974554707\n",
            "Compute MAPE\n",
            "0.1291202994009687\n",
            "Compute R^2 error:\n",
            "0.9563582786990964\n"
          ],
          "name": "stdout"
        }
      ]
    }
  ]
}