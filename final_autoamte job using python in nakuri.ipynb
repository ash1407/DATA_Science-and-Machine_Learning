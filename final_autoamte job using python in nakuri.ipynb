{
 "cells": [
  {
   "cell_type": "code",
   "execution_count": 74,
   "metadata": {},
   "outputs": [],
   "source": [
    "#Automate Your Job Applications Using Python\n",
    "#https://medium.com/analytics-vidhya/automate-your-job-applications-using-python-2c378093b901\n",
    "#https://www.youtube.com/watch?v=KkRC8GODySI\n",
    "#https://www.youtube.com/watch?v=YbGAUEjTKg4  #best"
   ]
  },
  {
   "cell_type": "code",
   "execution_count": 75,
   "metadata": {},
   "outputs": [],
   "source": [
    "# select pobject in web  page  >inspect >copy html xpath full> paste in code to click or fill"
   ]
  },
  {
   "cell_type": "code",
   "execution_count": 76,
   "metadata": {},
   "outputs": [],
   "source": [
    "#!pip install selenium\n",
    "import selenium\n",
    "from selenium import webdriver as wb\n",
    "import pandas as pd\n",
    "import time\n",
    "from time import sleep\n",
    "from selenium.webdriver.support.ui import WebDriverWait\n",
    "from selenium.webdriver.common.by import By\n",
    "from selenium.webdriver.support import expected_conditions as EC"
   ]
  },
  {
   "cell_type": "code",
   "execution_count": 77,
   "metadata": {},
   "outputs": [],
   "source": [
    "#!pip install selenium\n",
    "import time\n",
    "start_time = time.time()"
   ]
  },
  {
   "cell_type": "code",
   "execution_count": 78,
   "metadata": {},
   "outputs": [
    {
     "name": "stdout",
     "output_type": "stream",
     "text": [
      "E:\\Study Material\\Applied Ai Corse\\interview\n"
     ]
    },
    {
     "name": "stderr",
     "output_type": "stream",
     "text": [
      "C:\\Users\\ASHISH RAI\\anaconda3\\lib\\site-packages\\ipykernel_launcher.py:2: DeprecationWarning: executable_path has been deprecated, please pass in a Service object\n",
      "  \n"
     ]
    }
   ],
   "source": [
    "%cd \"E:\\\\Study Material\\\\Applied Ai Corse\\\\interview\"\n",
    "driver = wb.Chrome(\"E:\\\\Study Material\\\\Applied Ai Corse\\\\interview\\\\chromedriver.exe\")"
   ]
  },
  {
   "cell_type": "code",
   "execution_count": 79,
   "metadata": {},
   "outputs": [],
   "source": [
    "#https://www.geeksforgeeks.org/find_element_by_xpath-driver-method-selenium-python/"
   ]
  },
  {
   "cell_type": "code",
   "execution_count": 80,
   "metadata": {},
   "outputs": [],
   "source": [
    "Skillset = ['Machine Learning','Python','Data Science']\n",
    "Skillset = [x.lower() for x in Skillset]\n",
    "LL = 6      #lower limit of expected CTC , see i nakuri this filter how much it is other wise it wil not work \n",
    "UL = 10       #upper limit of expected CTC\n",
    "location = 'pune' #Bangalore,hyderabad\n",
    "location = location.lower().replace(\" \",\"-\")\n",
    "role = 'Data Scientist'\n",
    "role = role.lower().replace(\" \",\"-\")"
   ]
  },
  {
   "cell_type": "code",
   "execution_count": 81,
   "metadata": {},
   "outputs": [
    {
     "name": "stderr",
     "output_type": "stream",
     "text": [
      "C:\\Users\\ASHISH RAI\\anaconda3\\lib\\site-packages\\ipykernel_launcher.py:2: DeprecationWarning: find_element_by_xpath is deprecated. Please use find_element(by=By.XPATH, value=xpath) instead\n",
      "  \n",
      "C:\\Users\\ASHISH RAI\\anaconda3\\lib\\site-packages\\ipykernel_launcher.py:5: DeprecationWarning: find_element_by_xpath is deprecated. Please use find_element(by=By.XPATH, value=xpath) instead\n",
      "  \"\"\"\n",
      "C:\\Users\\ASHISH RAI\\anaconda3\\lib\\site-packages\\ipykernel_launcher.py:6: DeprecationWarning: find_element_by_xpath is deprecated. Please use find_element(by=By.XPATH, value=xpath) instead\n",
      "  \n",
      "C:\\Users\\ASHISH RAI\\anaconda3\\lib\\site-packages\\ipykernel_launcher.py:8: DeprecationWarning: find_element_by_xpath is deprecated. Please use find_element(by=By.XPATH, value=xpath) instead\n",
      "  \n"
     ]
    }
   ],
   "source": [
    "driver.get(\"https://www.naukri.com\")\n",
    "driver.find_element_by_xpath('//*[@id=\"login_Layer\"]/div').click()\n",
    "time.sleep(5)\n",
    "#take help of recorder to get div, form, or which class position \n",
    "driver.find_element_by_xpath('//*[@id=\"root\"]/div/div/div/form/div[2]/input').send_keys(\"ashishkumarrai100@gmail.com\")\n",
    "driver.find_element_by_xpath('//*[@id=\"root\"]/div/div/div/form/div[3]/input').send_keys(\"R@y54321\")\n",
    "time.sleep(5)\n",
    "driver.find_element_by_xpath('//*[@id=\"root\"]/div/div/div/form/div/button').click()\n",
    "time.sleep(5)\n",
    "app = pd.DataFrame()"
   ]
  },
  {
   "cell_type": "code",
   "execution_count": null,
   "metadata": {},
   "outputs": [
    {
     "name": "stderr",
     "output_type": "stream",
     "text": [
      "C:\\Users\\ASHISH RAI\\anaconda3\\lib\\site-packages\\ipykernel_launcher.py:18: DeprecationWarning: find_element_by_xpath is deprecated. Please use find_element(by=By.XPATH, value=xpath) instead\n",
      "C:\\Users\\ASHISH RAI\\anaconda3\\lib\\site-packages\\ipykernel_launcher.py:20: DeprecationWarning: find_element_by_xpath is deprecated. Please use find_element(by=By.XPATH, value=xpath) instead\n",
      "C:\\Users\\ASHISH RAI\\anaconda3\\lib\\site-packages\\ipykernel_launcher.py:23: DeprecationWarning: find_element_by_xpath is deprecated. Please use find_element(by=By.XPATH, value=xpath) instead\n",
      "C:\\Users\\ASHISH RAI\\anaconda3\\lib\\site-packages\\ipykernel_launcher.py:26: DeprecationWarning: find_element_by_xpath is deprecated. Please use find_element(by=By.XPATH, value=xpath) instead\n",
      "C:\\Users\\ASHISH RAI\\anaconda3\\lib\\site-packages\\ipykernel_launcher.py:31: DeprecationWarning: find_element_by_xpath is deprecated. Please use find_element(by=By.XPATH, value=xpath) instead\n"
     ]
    }
   ],
   "source": [
    "# here it will start to apply online one by one\n",
    "for i in range(1,6):\n",
    "    try:\n",
    "        #trying to apply job on  basis of bangalore location  and ctc\n",
    "        driver.get('https://www.naukri.com/'+role+'-jobs-in-'+location+'-'+str(i)+'?ctcFilter='+str(LL)+'to'+str(UL))\n",
    "    except:\n",
    "        driver.get('https://www.naukri.com/'+role+'-jobs-in-'+location+'?ctcFilter='+str(LL)+'to'+str(UL))\n",
    "\n",
    "    for i in range(1,20):\n",
    "        try:\n",
    "            WebDriverWait(driver, 20).until(EC.element_to_be_clickable((By.XPATH, '//*[@id=\"root\"]/div[3]/div[2]/section[2]/div[2]/article['+str(i)+']/div[1]/div[1]/a'))).click()\n",
    "        except:\n",
    "            WebDriverWait(driver, 20).until(EC.element_to_be_clickable((By.XPATH, '//*[@id=\"root\"]/div[3]/div[2]/section[2]/div[2]/article['+str(i)+']/div[1]/div/a'))).click()\n",
    "        driver.switch_to.window(driver.window_handles[1]) # open new tab to apply \n",
    "        url = driver.current_url\n",
    "        driver.get(url)\n",
    "        try:\n",
    "            test = driver.find_element_by_xpath('//*[@id=\"root\"]/main/div[2]/div[2]/section[2]')\n",
    "            if all(word in test.text.lower() for word in Skillset):\n",
    "                Title = driver.find_element_by_xpath('//*[@id=\"root\"]/main/div[2]/div[2]/section[1]/div[1]/div[1]/header/h1')\n",
    "                Title = Title.text\n",
    "                Title = pd.Series(Title)\n",
    "                Company = driver.find_element_by_xpath('//*[@id=\"root\"]/main/div[2]/div[2]/section[1]/div[1]/div[1]/div/a[1]')\n",
    "                Company = Company.text\n",
    "                Company = pd.Series(Company)\n",
    "                loc = driver.find_element_by_xpath('//*[@id=\"root\"]/main/div[2]/div[2]/section[1]/div[1]/div[2]/div[3]/span/a')\n",
    "                loc = loc.text\n",
    "                loc = pd.Series(loc)\n",
    "                df = pd.DataFrame({'Title':Title,'Company':Company,'Location':loc})\n",
    "                app = app.append(df)\n",
    "                driver.find_element_by_xpath('//*[@id=\"root\"]/main/div[2]/div[2]/section[1]/div[1]/div[3]/div/button[2]').click()\n",
    "                time.sleep(2)\n",
    "                driver.close()\n",
    "                driver.switch_to.window(driver.window_handles[0])\n",
    "            else:\n",
    "                driver.close()\n",
    "                driver.switch_to.window(driver.window_handles[0])\n",
    "        except:\n",
    "            driver.close()\n",
    "            driver.switch_to.window(driver.window_handles[0])\n",
    "\n",
    "print(str(len(app))+\" applications done in %s seconds\" % (time.time() - start_time))"
   ]
  },
  {
   "cell_type": "code",
   "execution_count": null,
   "metadata": {},
   "outputs": [],
   "source": []
  },
  {
   "cell_type": "code",
   "execution_count": null,
   "metadata": {},
   "outputs": [],
   "source": []
  }
 ],
 "metadata": {
  "kernelspec": {
   "display_name": "Python 3",
   "language": "python",
   "name": "python3"
  },
  "language_info": {
   "codemirror_mode": {
    "name": "ipython",
    "version": 3
   },
   "file_extension": ".py",
   "mimetype": "text/x-python",
   "name": "python",
   "nbconvert_exporter": "python",
   "pygments_lexer": "ipython3",
   "version": "3.7.6"
  }
 },
 "nbformat": 4,
 "nbformat_minor": 4
}
